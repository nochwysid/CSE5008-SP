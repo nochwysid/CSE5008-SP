{
  "nbformat": 4,
  "nbformat_minor": 0,
  "metadata": {
    "colab": {
      "name": "MichailSeth_E2.ipynb",
      "provenance": [],
      "mount_file_id": "1wb9Fq7jpchVMcIe9WKahGHE3K1OH04aL",
      "authorship_tag": "ABX9TyMUA+2oOWVqzKlsSUuyYbVB",
      "include_colab_link": true
    },
    "kernelspec": {
      "name": "python3",
      "display_name": "Python 3"
    },
    "language_info": {
      "name": "python"
    }
  },
  "cells": [
    {
      "cell_type": "markdown",
      "metadata": {
        "id": "view-in-github",
        "colab_type": "text"
      },
      "source": [
        "<a href=\"https://colab.research.google.com/github/nochwysid/CSE5008-SP/blob/main/MichailSeth_E2.ipynb\" target=\"_parent\"><img src=\"https://colab.research.google.com/assets/colab-badge.svg\" alt=\"Open In Colab\"/></a>"
      ]
    },
    {
      "cell_type": "markdown",
      "source": [
        "Exercise 4.1: Short questions  \n",
        "(a) Write a function that prints the elements of a list  \n",
        "(b) Write a function that prints the elements of a list in reverse  \n",
        "(c) Write your own implementation of the len function that returns the number of elements in a list.  "
      ],
      "metadata": {
        "id": "XCCkUmVA4gn4"
      }
    },
    {
      "cell_type": "code",
      "source": [
        "#show different behavior\n",
        "a = [[]] * 3 # all same memory location\n",
        "b = [[] for _ in range(3)] # 3 different memory locations\n",
        "print(a)\n",
        "print(b)"
      ],
      "metadata": {
        "colab": {
          "base_uri": "https://localhost:8080/"
        },
        "id": "hR9YjaCx6Osu",
        "outputId": "5b0731a4-6fda-43b5-92dc-837739faf1f9"
      },
      "execution_count": null,
      "outputs": [
        {
          "output_type": "stream",
          "name": "stdout",
          "text": [
            "[[], [], []]\n",
            "[[], [], []]\n"
          ]
        }
      ]
    },
    {
      "cell_type": "code",
      "source": [
        "a[0].append(3)\n",
        "b[0].append(3)\n",
        "print(a)\n",
        "print(b)"
      ],
      "metadata": {
        "colab": {
          "base_uri": "https://localhost:8080/"
        },
        "id": "UN0f0Hnp7WFN",
        "outputId": "e1b92539-718d-4bdb-edf7-b0277aefc989"
      },
      "execution_count": null,
      "outputs": [
        {
          "output_type": "stream",
          "name": "stdout",
          "text": [
            "[[3], [3], [3]]\n",
            "[[3], [], []]\n"
          ]
        }
      ]
    },
    {
      "cell_type": "code",
      "source": [
        "for i in a:\n",
        "  print(id(i), i)\n",
        "print()\n",
        "for i in b:\n",
        "  print(id(i), i)"
      ],
      "metadata": {
        "colab": {
          "base_uri": "https://localhost:8080/"
        },
        "id": "u6D5auWG8Py0",
        "outputId": "3d797bdb-1717-4e72-de69-1972ff00ecb7"
      },
      "execution_count": null,
      "outputs": [
        {
          "output_type": "stream",
          "name": "stdout",
          "text": [
            "139871603490560 [3]\n",
            "139871603490560 [3]\n",
            "139871603490560 [3]\n",
            "\n",
            "139871602996560 [3]\n",
            "139871602996720 []\n",
            "139871603433552 []\n"
          ]
        }
      ]
    },
    {
      "cell_type": "code",
      "source": [
        "#just print as you go\n",
        "myList = ['cat', 'dog', 3]\n",
        "def printmylist(a):\n",
        "  for elt in a:\n",
        "    print(elt)\n",
        "printmylist(myList)"
      ],
      "metadata": {
        "colab": {
          "base_uri": "https://localhost:8080/"
        },
        "id": "QI1NtOeC4geT",
        "outputId": "4be56de9-b0b5-47a9-fdf0-be12af863781"
      },
      "execution_count": null,
      "outputs": [
        {
          "output_type": "stream",
          "name": "stdout",
          "text": [
            "cat\n",
            "dog\n",
            "3\n"
          ]
        }
      ]
    },
    {
      "cell_type": "code",
      "source": [
        "#simple when calling reversed\n",
        "myList = ['cat', 'dog', 3]\n",
        "def printmylist(a):\n",
        "  for elt in reversed(a):\n",
        "    print(elt)\n",
        "printmylist(myList)"
      ],
      "metadata": {
        "colab": {
          "base_uri": "https://localhost:8080/"
        },
        "id": "IRIvegHr5uA8",
        "outputId": "281697b9-d0e3-4398-f515-39a3acebd600"
      },
      "execution_count": null,
      "outputs": [
        {
          "output_type": "stream",
          "name": "stdout",
          "text": [
            "3\n",
            "dog\n",
            "cat\n"
          ]
        }
      ]
    },
    {
      "cell_type": "code",
      "source": [
        "#just iterate and keep tally\n",
        "def mylen(i):\n",
        "  k = 0\n",
        "  for elt in i:\n",
        "    k += 1\n",
        "  return k\n",
        "print(mylen(myList))"
      ],
      "metadata": {
        "colab": {
          "base_uri": "https://localhost:8080/"
        },
        "id": "nL7jU2945t7N",
        "outputId": "065c3b21-f946-4ef2-bba6-079a2b5ba44b"
      },
      "execution_count": null,
      "outputs": [
        {
          "output_type": "stream",
          "name": "stdout",
          "text": [
            "3\n"
          ]
        }
      ]
    },
    {
      "cell_type": "markdown",
      "source": [
        "\n",
        "Exercise 4.2: Copying lists  \n",
        "(a) Create a list a with some entries.  \n",
        "(b) Now set b = a  \n",
        "(c) Change b[1]  \n",
        "(d) What happened to a?  \n",
        "(e) Now set c = a[:]  \n",
        "(f) Change c[2]  \n",
        "(g) What happened to a?  \n",
        "Now create a function set_first_elem_to_zero(l) that takes a list, sets its first entry to zero, and\n",
        "returns the list.  \n",
        "What happens to the original list? "
      ],
      "metadata": {
        "id": "5lkHRa_h4gTw"
      }
    },
    {
      "cell_type": "code",
      "source": [
        "#other ways to create lists exist\n",
        "newlist = ['new cat', 'old dog', 'no tricks', 4, 5]"
      ],
      "metadata": {
        "id": "iJHVWHa85x6Q"
      },
      "execution_count": null,
      "outputs": []
    },
    {
      "cell_type": "code",
      "source": [
        "#create new pointer to existing list object\n",
        "b = newlist"
      ],
      "metadata": {
        "id": "n9qe9fbg5x1t"
      },
      "execution_count": null,
      "outputs": []
    },
    {
      "cell_type": "code",
      "source": [
        "#set value in old list using new pointer\n",
        "b[1] = 1"
      ],
      "metadata": {
        "id": "aJa3EQZ35vxg"
      },
      "execution_count": null,
      "outputs": []
    },
    {
      "cell_type": "code",
      "source": [
        "#because b and newlist point to the same object\n",
        "newlist[1]"
      ],
      "metadata": {
        "colab": {
          "base_uri": "https://localhost:8080/"
        },
        "id": "cSnxJbeG5vsb",
        "outputId": "d8d96008-68a9-48af-f732-7e5c4a57aec3"
      },
      "execution_count": null,
      "outputs": [
        {
          "output_type": "execute_result",
          "data": {
            "text/plain": [
              "1"
            ]
          },
          "metadata": {},
          "execution_count": 7
        }
      ]
    },
    {
      "cell_type": "code",
      "source": [
        "#make a new list object, assign each element of original to the copy. Note the ranges can be [:], [start:], [:stop], [start:stop]\n",
        "c = newlist[:]"
      ],
      "metadata": {
        "id": "TewCDgVe5vWV"
      },
      "execution_count": null,
      "outputs": []
    },
    {
      "cell_type": "code",
      "source": [
        "#assign new value to specified location of copy\n",
        "c[2] = 2"
      ],
      "metadata": {
        "id": "NggyIlCW5vQj"
      },
      "execution_count": null,
      "outputs": []
    },
    {
      "cell_type": "code",
      "source": [
        "#because deep copy made, copied the elements into a new object\n",
        "newlist[2]"
      ],
      "metadata": {
        "colab": {
          "base_uri": "https://localhost:8080/",
          "height": 35
        },
        "id": "KC4HmnvG4gEK",
        "outputId": "29a66973-8feb-4097-fc2c-a292f8809122"
      },
      "execution_count": null,
      "outputs": [
        {
          "output_type": "execute_result",
          "data": {
            "application/vnd.google.colaboratory.intrinsic+json": {
              "type": "string"
            },
            "text/plain": [
              "'no tricks'"
            ]
          },
          "metadata": {},
          "execution_count": 10
        }
      ]
    },
    {
      "cell_type": "code",
      "source": [
        "#the original list is modified, because it was not copied, rather, its address was passed as an argument\n",
        "def set_first_elem_to_zero(l):\n",
        "  l[0] = 0\n",
        "  return l\n",
        "set_first_elem_to_zero(newlist)\n",
        "newlist[0]"
      ],
      "metadata": {
        "colab": {
          "base_uri": "https://localhost:8080/"
        },
        "id": "NoaKx4-Ob7b_",
        "outputId": "120a080f-3b19-4d91-9b19-fd748760ba62"
      },
      "execution_count": null,
      "outputs": [
        {
          "output_type": "execute_result",
          "data": {
            "text/plain": [
              "0"
            ]
          },
          "metadata": {},
          "execution_count": 11
        }
      ]
    },
    {
      "cell_type": "markdown",
      "source": [
        " \n",
        "Exercise 4.3: Lists of lists  \n",
        "What is the difference between a and b:  \n",
        "a = [[]] * 3  \n",
        "b = [[] for _ in xrange(3)]  "
      ],
      "metadata": {
        "id": "U5zNEdC54Ybo"
      }
    },
    {
      "cell_type": "code",
      "source": [
        "a = [[]] * 3\n",
        "type(a)"
      ],
      "metadata": {
        "colab": {
          "base_uri": "https://localhost:8080/"
        },
        "id": "sIE7gS6weR_F",
        "outputId": "c336edfa-07d0-4d49-a3eb-d1aba05a8866"
      },
      "execution_count": null,
      "outputs": [
        {
          "output_type": "execute_result",
          "data": {
            "text/plain": [
              "list"
            ]
          },
          "metadata": {},
          "execution_count": 12
        }
      ]
    },
    {
      "cell_type": "code",
      "source": [
        "#NameError: name 'xrange' is not defined\n",
        "#xrange was omitted from python 3\n",
        "b = [[] for _ in xrange(3)]\n",
        "b"
      ],
      "metadata": {
        "colab": {
          "base_uri": "https://localhost:8080/",
          "height": 218
        },
        "id": "w0AsrViL4YRu",
        "outputId": "ff793df7-0f61-40a1-c8b1-8c8019620fbe"
      },
      "execution_count": null,
      "outputs": [
        {
          "output_type": "error",
          "ename": "NameError",
          "evalue": "ignored",
          "traceback": [
            "\u001b[0;31m---------------------------------------------------------------------------\u001b[0m",
            "\u001b[0;31mNameError\u001b[0m                                 Traceback (most recent call last)",
            "\u001b[0;32m<ipython-input-14-a70f2179ed49>\u001b[0m in \u001b[0;36m<module>\u001b[0;34m()\u001b[0m\n\u001b[1;32m      1\u001b[0m \u001b[0;31m#NameError: name 'xrange' is not defined\u001b[0m\u001b[0;34m\u001b[0m\u001b[0;34m\u001b[0m\u001b[0;34m\u001b[0m\u001b[0m\n\u001b[1;32m      2\u001b[0m \u001b[0;31m#xrange was omitted from python 3\u001b[0m\u001b[0;34m\u001b[0m\u001b[0;34m\u001b[0m\u001b[0;34m\u001b[0m\u001b[0m\n\u001b[0;32m----> 3\u001b[0;31m \u001b[0mb\u001b[0m \u001b[0;34m=\u001b[0m \u001b[0;34m[\u001b[0m\u001b[0;34m[\u001b[0m\u001b[0;34m]\u001b[0m \u001b[0;32mfor\u001b[0m \u001b[0m_\u001b[0m \u001b[0;32min\u001b[0m \u001b[0mxrange\u001b[0m\u001b[0;34m(\u001b[0m\u001b[0;36m3\u001b[0m\u001b[0;34m)\u001b[0m\u001b[0;34m]\u001b[0m\u001b[0;34m\u001b[0m\u001b[0;34m\u001b[0m\u001b[0m\n\u001b[0m\u001b[1;32m      4\u001b[0m \u001b[0mb\u001b[0m\u001b[0;34m\u001b[0m\u001b[0;34m\u001b[0m\u001b[0m\n",
            "\u001b[0;31mNameError\u001b[0m: name 'xrange' is not defined"
          ]
        }
      ]
    },
    {
      "cell_type": "code",
      "source": [
        "b = [[] for _ in range(3)]\n",
        "print(type(b))\n",
        "b"
      ],
      "metadata": {
        "id": "mlyRTeGgBps-",
        "colab": {
          "base_uri": "https://localhost:8080/"
        },
        "outputId": "a9c92d4f-5e2b-419d-c7d0-0e031ea94e18"
      },
      "execution_count": null,
      "outputs": [
        {
          "output_type": "stream",
          "name": "stdout",
          "text": [
            "<class 'list'>\n"
          ]
        },
        {
          "output_type": "execute_result",
          "data": {
            "text/plain": [
              "[[], [], []]"
            ]
          },
          "metadata": {},
          "execution_count": 15
        }
      ]
    },
    {
      "cell_type": "markdown",
      "source": [
        "\n",
        "Exercise 4.4: Lists and functions  \n",
        "Write a function that takes a list and an index, and sets the value of the list at the given index to 0.  "
      ],
      "metadata": {
        "id": "rooCeo724YHU"
      }
    },
    {
      "cell_type": "code",
      "source": [
        "#sets value at given index to 0\n",
        "def set_to_zero(l, i):\n",
        "  if i > len(l) - 1 or i < 0:\n",
        "    raise ValueError(\"Index out of range\")\n",
        "  l[i] = 0\n",
        "  return l\n",
        "\n",
        "print(set_to_zero([1,1,1,1,1],2))"
      ],
      "metadata": {
        "id": "nRL8_pRB4X-Q",
        "colab": {
          "base_uri": "https://localhost:8080/"
        },
        "outputId": "dffefea0-688e-4742-8b87-356f8f803f02"
      },
      "execution_count": null,
      "outputs": [
        {
          "output_type": "stream",
          "name": "stdout",
          "text": [
            "[1, 1, 0, 1, 1]\n"
          ]
        }
      ]
    },
    {
      "cell_type": "markdown",
      "source": [
        "\n",
        "Exercise 4.5: Primes  \n",
        "In Section 3 you wrote a function that prints all primes up to n, and a function that prints the first n\n",
        "primes. Update these functions such that they return lists instead. "
      ],
      "metadata": {
        "id": "8KJZ5bYK4Xf2"
      }
    },
    {
      "cell_type": "code",
      "source": [
        "#return a list of primes up to n\n",
        "def primes_less_than_n(n):  \n",
        "  \"\"\"with n = 6*k +/- 1, need to add one in the for loop\"\"\"\n",
        "  c = [2,3]\n",
        "  if(n < 2):\n",
        "    return \"No primes are smaller than 2.\"\n",
        "  elif(n == 2):\n",
        "    return([2])\n",
        "  elif(n == 3):\n",
        "    return(c)\n",
        "  for i in range(1,(int)(1+(n+1)/6)):\n",
        "        c.append(6*i-1)\n",
        "        if 6*i+1 <= n:\n",
        "          c.append(6*i+1)\n",
        "  return c\n",
        "    \n",
        "print(primes_less_than_n(1))   \n",
        "print(primes_less_than_n(2)) \n",
        "print(primes_less_than_n(3)) \n",
        "print(primes_less_than_n(5)) \n",
        "print(primes_less_than_n(7)) "
      ],
      "metadata": {
        "id": "2uy8Bw954XJS",
        "colab": {
          "base_uri": "https://localhost:8080/"
        },
        "outputId": "654552f5-5a3a-4e51-9492-40ea18f9c5aa"
      },
      "execution_count": null,
      "outputs": [
        {
          "output_type": "stream",
          "name": "stdout",
          "text": [
            "No primes are smaller than 2.\n",
            "[2]\n",
            "[2, 3]\n",
            "[2, 3, 5]\n",
            "[2, 3, 5, 7]\n"
          ]
        }
      ]
    },
    {
      "cell_type": "code",
      "source": [
        "#from pervious assignment, which was already using a list, return specified quantity of primes\n",
        "def all_prime(n):\n",
        "  c = [2,3]\n",
        "  p = 2\n",
        "  g = 4\n",
        "  while(len(c) < n):\n",
        "    s = (int)((g+1)/6)\n",
        "    for i in range(s+1):\n",
        "      if(g == (6*i - 1) or g == (6*i + 1)):\n",
        "        c.append(g)\n",
        "        break\n",
        "    g += 1\n",
        "  return c\n",
        "    \n",
        "print(all_prime(7))   "
      ],
      "metadata": {
        "id": "HSXCatIX6Yqq",
        "colab": {
          "base_uri": "https://localhost:8080/"
        },
        "outputId": "477f284a-3e3e-4983-bcdd-97b6dee3a10a"
      },
      "execution_count": null,
      "outputs": [
        {
          "output_type": "stream",
          "name": "stdout",
          "text": [
            "[2, 3, 5, 7, 11, 13, 17]\n"
          ]
        }
      ]
    },
    {
      "cell_type": "markdown",
      "source": [
        " \n",
        "Exercise 4.6: List comprehensions  \n",
        "Let i, j = 1, . . . , n  \n",
        "(a) Generate a list with elements [i,j].  \n",
        "(b) Generate a list with elements [i,j] with i < j  \n",
        "(c) Generate a list with elements i + j with both i and j prime and i > j.  \n",
        "(d) Write a function that evaluates an arbitrary polynomial $a_0 + a_1x + a_2x^2 + . . . + a_nx^n$\n",
        " using a list comprehension, where you are given x and a list with coefficients coefs (hint: use enumerate)  "
      ],
      "metadata": {
        "id": "szI-Ra9B4UBP"
      }
    },
    {
      "cell_type": "code",
      "source": [
        "#be careful in giving problem descriptions. The elements are [i,j], not i,...,n,j,...,n\n",
        "n = 5\n",
        "lc = [[i,j] for i in range(n) for j in range(n)]\n",
        "lc"
      ],
      "metadata": {
        "id": "p8nD-iGU6BNB",
        "colab": {
          "base_uri": "https://localhost:8080/"
        },
        "outputId": "2c4b21fd-5a64-42dd-ac5a-351766654581"
      },
      "execution_count": null,
      "outputs": [
        {
          "output_type": "execute_result",
          "data": {
            "text/plain": [
              "[[0, 0],\n",
              " [0, 1],\n",
              " [0, 2],\n",
              " [0, 3],\n",
              " [0, 4],\n",
              " [1, 0],\n",
              " [1, 1],\n",
              " [1, 2],\n",
              " [1, 3],\n",
              " [1, 4],\n",
              " [2, 0],\n",
              " [2, 1],\n",
              " [2, 2],\n",
              " [2, 3],\n",
              " [2, 4],\n",
              " [3, 0],\n",
              " [3, 1],\n",
              " [3, 2],\n",
              " [3, 3],\n",
              " [3, 4],\n",
              " [4, 0],\n",
              " [4, 1],\n",
              " [4, 2],\n",
              " [4, 3],\n",
              " [4, 4]]"
            ]
          },
          "metadata": {},
          "execution_count": 12
        }
      ]
    },
    {
      "cell_type": "code",
      "source": [
        "#\n",
        "l2 = [[i,j] for i in range(n) for j in range(i)]\n",
        "l2"
      ],
      "metadata": {
        "id": "P98nYghJ6BDY",
        "colab": {
          "base_uri": "https://localhost:8080/"
        },
        "outputId": "f8856ea4-9efa-480e-95f6-725795c53809"
      },
      "execution_count": null,
      "outputs": [
        {
          "output_type": "execute_result",
          "data": {
            "text/plain": [
              "[[1, 0],\n",
              " [2, 0],\n",
              " [2, 1],\n",
              " [3, 0],\n",
              " [3, 1],\n",
              " [3, 2],\n",
              " [4, 0],\n",
              " [4, 1],\n",
              " [4, 2],\n",
              " [4, 3]]"
            ]
          },
          "metadata": {},
          "execution_count": 13
        }
      ]
    },
    {
      "cell_type": "code",
      "source": [
        "#\n",
        "def isprime(k):\n",
        "  for i in range(2,k):\n",
        "    if k%i == 0:\n",
        "      return False\n",
        "  return True\n",
        "\n",
        "l3 = [i+j  for i in range(n) for j in range(i) if isprime(i) and isprime(j)]\n",
        "l3"
      ],
      "metadata": {
        "id": "4k5W3tsY6A_b",
        "colab": {
          "base_uri": "https://localhost:8080/"
        },
        "outputId": "c9a93bf4-7301-40ac-d8a5-0ba7ae8054dd"
      },
      "execution_count": null,
      "outputs": [
        {
          "output_type": "execute_result",
          "data": {
            "text/plain": [
              "[1, 2, 3, 3, 4, 5]"
            ]
          },
          "metadata": {},
          "execution_count": 14
        }
      ]
    },
    {
      "cell_type": "code",
      "execution_count": null,
      "metadata": {
        "id": "1WZMhQQP2N0J",
        "colab": {
          "base_uri": "https://localhost:8080/"
        },
        "outputId": "a1bf5a27-4f37-4943-c1c1-f83d41058e14"
      },
      "outputs": [
        {
          "output_type": "stream",
          "name": "stdout",
          "text": [
            "22\n"
          ]
        }
      ],
      "source": [
        "#what can I say about this, straight forward\n",
        "def apoly(x,l):\n",
        "  v = 0\n",
        "  for idx, elt in enumerate(l):\n",
        "    v += elt*x**idx\n",
        "  return v\n",
        "print(apoly(3,[1,1,2]))"
      ]
    },
    {
      "cell_type": "markdown",
      "source": [
        "\n",
        "Exercise 4.7: Filter  \n",
        "In lecture we have seen how to implement map using list comprehensions. Implement filter using list\n",
        "comprehensions. Name your functions myfilter so you can compare with Python’s standard filter.  "
      ],
      "metadata": {
        "id": "4dGeUx-n4QrV"
      }
    },
    {
      "cell_type": "code",
      "source": [
        "(lambda x, coefs: sum([a*(x**i) for i,a in enumerate(coefs)]))(2,[2,3,5])"
      ],
      "metadata": {
        "colab": {
          "base_uri": "https://localhost:8080/"
        },
        "id": "HPnfvyrj-hVe",
        "outputId": "2f2e9b95-7dc2-4720-a135-c0fbccd8562e"
      },
      "execution_count": null,
      "outputs": [
        {
          "output_type": "execute_result",
          "data": {
            "text/plain": [
              "28"
            ]
          },
          "metadata": {},
          "execution_count": 15
        }
      ]
    },
    {
      "cell_type": "code",
      "source": [
        "#\n",
        "def myfilter(n):\n",
        "  return [(lambda x: x % 2 == 0)(x) for x in range(n)]\n",
        "print(myfilter(8))"
      ],
      "metadata": {
        "id": "rbxrJbFt3SGN",
        "colab": {
          "base_uri": "https://localhost:8080/"
        },
        "outputId": "ef514cf2-0b45-48f6-c956-9e04efba434e"
      },
      "execution_count": null,
      "outputs": [
        {
          "output_type": "stream",
          "name": "stdout",
          "text": [
            "[True, False, True, False, True, False, True, False]\n"
          ]
        }
      ]
    },
    {
      "cell_type": "markdown",
      "source": [
        "\n",
        "Exercise 4.8: Flatten a list of lists  \n",
        "Consider having a list with lists as elements, e.g. [[1,3], [3,6]].  \n",
        "Write a function that takes such a list, and returns a list with as elements the elements of the sublists,\n",
        "e.g. [1, 3, 3, 6].  "
      ],
      "metadata": {
        "id": "RX3MnOao3SRM"
      }
    },
    {
      "cell_type": "code",
      "source": [
        "#unroll\n",
        "def unroll(lol):\n",
        "  return [item for elt in lol for item in elt]\n",
        "\n",
        "print(unroll([[1,2,2],[3,0,1],[9,8,2]]))"
      ],
      "metadata": {
        "colab": {
          "base_uri": "https://localhost:8080/"
        },
        "id": "z3R1xUxDiJVF",
        "outputId": "31652cc4-1329-4a9b-8c86-99a0062293dd"
      },
      "execution_count": null,
      "outputs": [
        {
          "output_type": "stream",
          "name": "stdout",
          "text": [
            "[1, 2, 2, 3, 0, 1, 9, 8, 2]\n"
          ]
        }
      ]
    },
    {
      "cell_type": "code",
      "source": [
        "lol = [[1,2,2],[3,0,1],[9,8,2]]\n",
        "f = lambda lists: [elem for l in lists for elem in l]\n",
        "print(f(lol))"
      ],
      "metadata": {
        "colab": {
          "base_uri": "https://localhost:8080/"
        },
        "id": "dD7d96yp_2v-",
        "outputId": "abec06ad-c109-4155-a366-c933bec99fbb"
      },
      "execution_count": null,
      "outputs": [
        {
          "output_type": "stream",
          "name": "stdout",
          "text": [
            "[1, 2, 2, 3, 0, 1, 9, 8, 2]\n"
          ]
        }
      ]
    },
    {
      "cell_type": "markdown",
      "source": [
        "\n",
        "Exercise 4.9: Finding the longest word  \n",
        "Write a function that returns the longest word in a variable text that contains a sentence. While text\n",
        "may contain punctuation, these should not be taken into account. What happens with ties?\n",
        "As an example, consider: “Hello, how was the football match earlier today???”"
      ],
      "metadata": {
        "id": "A1-PItO03Sk-"
      }
    },
    {
      "cell_type": "code",
      "source": [
        "#slightly tricky, can't strip in place for some reason\n",
        "def longest(str):\n",
        "  strarr = str.split(\" \")\n",
        "  stripped = []\n",
        "  for x in strarr:\n",
        "    stripped.append( x.strip(',.\\'?'))\n",
        "  lens = [len(elt) for elt in stripped]\n",
        "  print(stripped)\n",
        "  return strarr[lens.index(max(lens))]\n",
        "\n",
        "print(longest(\"Hello, how was the football match earlier today???\"))\n",
        "print(longest(\"Where are the watchers of football?\"))"
      ],
      "metadata": {
        "id": "vQm5Msrq3Std",
        "colab": {
          "base_uri": "https://localhost:8080/"
        },
        "outputId": "106411eb-3510-40b9-b53a-35251b204edd"
      },
      "execution_count": null,
      "outputs": [
        {
          "output_type": "stream",
          "name": "stdout",
          "text": [
            "['Hello', 'how', 'was', 'the', 'football', 'match', 'earlier', 'today']\n",
            "football\n",
            "['Where', 'are', 'the', 'watchers', 'of', 'football']\n",
            "watchers\n"
          ]
        }
      ]
    },
    {
      "cell_type": "code",
      "source": [
        "# alternatively\n",
        "def find_the_longest(sentence: str) -> str:\n",
        "  clean = \"\".join([char for char in sentence if char.isalpha() or char.isspace()])\n",
        "  longest = \"\"\n",
        "  for word in clean.split(' '):\n",
        "    if len(word) > len(longest):\n",
        "      longest = word\n",
        "  return longest\n",
        "sample_text = \"Hello, darkness, my old friend. I've come to speak with you again. Because a vision softly  \" +\n",
        "                 \"creeping left its seeds while I was sleeping. And the vision that was planted in my brain still  \" +\n",
        "                 \"remains within the sound of silence. In restless dreams I walked alone, narrow streets of  \" +\n",
        "                 \"cobblestone. 'Neath the halo of a street lamp, I turned my collar to the cold and damp. When my  \" +\n",
        "                 \"eyes were stabbed by the flash of a neon light. That split the night and touched the sound of  \" +\n",
        "                 \"silence. And in the naked light I saw Ten thousand people, maybe more. People talking without  \" +\n",
        "                 \"speaking, People hearing without listening People writing songs that voices never share And no one \" +\n",
        "                 \"dared Disturb the sound of silence. 'Fools', said I, 'You do not know the Silence, like a cancer, \" + \n",
        "                 \"grows Hear my words that I might teach you Take my arms that I might reach you'  But my words like \" +\n",
        "                 \"silent raindrops fell And echoed in the wells of silence And the people bowed and prayed To the  \" +\n",
        "                 \"neon god they made And the sign flashed out its warning In the words that it was forming And the  \" +\n",
        "                 \"sign said 'The words of the prophets are written on the subway walls And tenement halls And  \" +\n",
        "                 \"whispered in the sound Of silence\"\n",
        "find_the_longest(sample_text)"
      ],
      "metadata": {
        "colab": {
          "base_uri": "https://localhost:8080/",
          "height": 35
        },
        "id": "kuQtBbMcA2Q-",
        "outputId": "3fd59cc8-a634-4ee2-faba-dfbc416580ef"
      },
      "execution_count": null,
      "outputs": [
        {
          "output_type": "execute_result",
          "data": {
            "text/plain": [
              "'cobblestone'"
            ],
            "application/vnd.google.colaboratory.intrinsic+json": {
              "type": "string"
            }
          },
          "metadata": {},
          "execution_count": 25
        }
      ]
    },
    {
      "cell_type": "markdown",
      "source": [
        "\n",
        "Exercise 4.10: Collatz sequence, part 2  \n",
        "Recall the Collatz sequence problem from Section 1. Our goal is to find the number n < 1, 000, 000 that\n",
        "leads to the longest Collatz sequence.  \n",
        "(a) Write a function that for any n, returns its Collatz sequence as a list  \n",
        "(b) Write a function that finds the integer x that leads to the longest Collatz sequence with x < n.  "
      ],
      "metadata": {
        "id": "YhRYJHCw3S2d"
      }
    },
    {
      "cell_type": "code",
      "source": [
        "#straight forward again\n",
        "def collatz(n):\n",
        "  colz = []\n",
        "  while(n != 1):\n",
        "    colz.append(n)\n",
        "    if(n%2 == 0): # if even\n",
        "      n = (int)(n/2)\n",
        "    else: # if odd\n",
        "      n = 3*n + 1\n",
        "  colz.append(n)\n",
        "  return colz\n",
        "\n",
        "print(collatz(10))"
      ],
      "metadata": {
        "id": "lFj-NhTU3S_q",
        "colab": {
          "base_uri": "https://localhost:8080/"
        },
        "outputId": "85933d42-3f6d-4efc-a6dc-a37469763372"
      },
      "execution_count": null,
      "outputs": [
        {
          "output_type": "stream",
          "name": "stdout",
          "text": [
            "[10, 5, 16, 8, 4, 2, 1]\n"
          ]
        }
      ]
    },
    {
      "cell_type": "code",
      "source": [
        "#a little bit tricky\n",
        "def longcollatz(n):\n",
        "  longcol = []\n",
        "  longest = 0\n",
        "  seqlen = 0\n",
        "  for x in range(1,n+1):\n",
        "    collatz = []\n",
        "    while(x != 1):\n",
        "      collatz.append(x)\n",
        "      if(x%2 == 0):\n",
        "        x = (int)(x/2)\n",
        "      else:\n",
        "        x = 3*x + 1\n",
        "    collatz.append(x)\n",
        "    if len(collatz) > len(longcol):\n",
        "      longcol = list(collatz)\n",
        "      longest = longcol[0]\n",
        "      seqlen = len(longcol)\n",
        "  return longest, seqlen\n",
        "\n",
        "n = 30\n",
        "i, s = longcollatz(n)\n",
        "print(\"integer less that {} leading to the longest Collatz sequence is {}, with sequence length {}\".format(n,i,s))"
      ],
      "metadata": {
        "colab": {
          "base_uri": "https://localhost:8080/"
        },
        "id": "-M2X4JCtKuzi",
        "outputId": "84f34000-af45-4108-febf-b494f1fd9e95"
      },
      "execution_count": null,
      "outputs": [
        {
          "output_type": "stream",
          "name": "stdout",
          "text": [
            "integer less that 30 leading to the longest Collatz sequence is 27, with sequence length 112\n"
          ]
        }
      ]
    },
    {
      "cell_type": "code",
      "source": [
        "#alternative approach\n",
        "def alt_longcollatz(n):\n",
        "  longest = 0\n",
        "  seqlen = 0\n",
        "  maxcollatz = [0]\n",
        "  for x in range(1,n+1):\n",
        "    maxcollatz.append(collatz(x))\n",
        "  seqlen = max(maxcollatz)\n",
        "  longest = maxcollatz.index(seqlen)\n",
        "  return longest, seqlen\n",
        "\n",
        "n = 30\n",
        "i, s = longcollatz(n)\n",
        "print(\"integer less than {} leading to the longest Collatz sequence is {}, with sequence length {}\".format(n,i,s))"
      ],
      "metadata": {
        "id": "NDGawkWftwoO"
      },
      "execution_count": null,
      "outputs": []
    },
    {
      "cell_type": "markdown",
      "source": [
        "\n",
        "Exercise 4.11: Pivots  \n",
        "Write a function that takes a value x and a list ys, and returns a list that contains the value x and all\n",
        "elements of ys such that all values y in ys that are smaller than x come first, then we element x and\n",
        "then the rest of the values in y's  \n",
        "For example, the output of f(3, [6, 4, 1, 7]) should be [1, 3, 6, 4, 7]"
      ],
      "metadata": {
        "id": "9LTiuSOg3TJP"
      }
    },
    {
      "cell_type": "code",
      "source": [
        "#another one a little tricky, because can't chain some functions, a temporary variable is required\n",
        "def sortys(x,ys):\n",
        "  \"\"\"probably not the most efficient way, but it works\"\"\"\n",
        "  ys.append(x)\n",
        "  sy = []\n",
        "  while(len(ys) > 0):\n",
        "    if len(ys) > 1:\n",
        "      if ys[0] > ys[1]:\n",
        "        a = ys[0]\n",
        "        ys.remove(a)\n",
        "        ys.append(a)\n",
        "        #ys.append(ys.remove(ys[0]))\n",
        "      else:\n",
        "        a = ys[0]\n",
        "        ys.remove(a)\n",
        "        sy.append(a)\n",
        "        #sy.append(ys.remove(ys[0]))\n",
        "    else:\n",
        "      a = ys[0]\n",
        "      ys.remove(a)\n",
        "      sy.append(a)\n",
        "      #sy.append(ys.remove(ys[0]))\n",
        "  return sy\n",
        "\n",
        "print(sortys(3,[6, 4, 1, 7]))"
      ],
      "metadata": {
        "id": "FnAdStys3TSk",
        "colab": {
          "base_uri": "https://localhost:8080/"
        },
        "outputId": "d1cda023-a86e-49bf-d213-a99b5e840c43"
      },
      "execution_count": null,
      "outputs": [
        {
          "output_type": "stream",
          "name": "stdout",
          "text": [
            "[1, 3, 4, 6, 7]\n"
          ]
        }
      ]
    },
    {
      "cell_type": "markdown",
      "source": [
        "\n",
        "Exercise 4.12: Prime challenge  \n",
        "Write the function primes(n) that return a list with all prime numbers up to n using three (or less)\n",
        "lines of code.  \n",
        "Hint 1: Use lambda functions and list comprehensions.  \n",
        "Hint 2: Use the first two lines to define two helper (lambda) functions.  \n"
      ],
      "metadata": {
        "id": "KtdB-9qP3Tbl"
      }
    },
    {
      "cell_type": "code",
      "source": [
        "def primes(n): l1 = [[2,3]]; l1.extend([(lambda x: [6*x -1 ,6*x +1])(x) for x in range(1,(1+n//6))]); return [item for elt in l1 for item in elt]; \n",
        "print(primes(19));#this was not easy, lambda functions can be unintuitive, and 3 line limit makes it a litte tough. still haven't figured out how to do it using zero lines. can't print on same line as func def"
      ],
      "metadata": {
        "id": "F9ycuN6K3TjM",
        "colab": {
          "base_uri": "https://localhost:8080/"
        },
        "outputId": "b678acb8-53ca-4248-8b06-e6af1d0387d5"
      },
      "execution_count": null,
      "outputs": [
        {
          "output_type": "stream",
          "name": "stdout",
          "text": [
            "[2, 3, 5, 7, 11, 13, 17, 19]\n"
          ]
        }
      ]
    },
    {
      "cell_type": "markdown",
      "source": [
        "5 Tuples  \n",
        "Exercise 5.1: Swapping two values  \n",
        "Suppose you have two variables: a and b. Now you want to set a equal to the value of b and at the\n",
        "same time set b equal to the value of a.  \n",
        "The following obviously does not work  \n",
        "a = b  \n",
        "b = a  \n",
        "so in some languages, you need to define a third variable like this  \n",
        "t = a  \n",
        "a = b  \n",
        "b = t  \n",
        "However, in Python you don’t need to do this. How can you swap a and b in one line?"
      ],
      "metadata": {
        "id": "G9RX_1Uc3TsT"
      }
    },
    {
      "cell_type": "code",
      "source": [
        "#another straight forward op\n",
        "a,b = 1,2\n",
        "a,b = b,a\n",
        "print(a,b)\n",
        "# even better\n",
        "a,b,c = 1,2,3\n",
        "a,b,c = b,c,a\n",
        "print(a,b,c)"
      ],
      "metadata": {
        "id": "x0biuc3C3T0v",
        "colab": {
          "base_uri": "https://localhost:8080/"
        },
        "outputId": "dcc50419-f1a1-46f4-e533-a003f1d33a53"
      },
      "execution_count": null,
      "outputs": [
        {
          "output_type": "stream",
          "name": "stdout",
          "text": [
            "2 1\n",
            "2 3 1\n"
          ]
        }
      ]
    },
    {
      "cell_type": "markdown",
      "source": [
        "\n",
        "Exercise 5.2: Zip  \n",
        "Suppose we have two lists, x and y that give the x and y coordinates of a set of points. Create a list\n",
        "with the coordinates (x,y) as a tuple. Hint: Find out about the zip function.  \n",
        "You have decided that actually, you need the two seperate lists, but unfortunately, you have thrown\n",
        "them away. How can we use zip to unzip the list of tuples to get two lists again?"
      ],
      "metadata": {
        "id": "qjb6c6qc3T9o"
      }
    },
    {
      "cell_type": "code",
      "source": [
        "#as expected, the usual behavior\n",
        "l1 = [1,2,3]\n",
        "l2 = [4,5,6]\n",
        "l3 = zip(l1,l2)\n",
        "print(list(l3))"
      ],
      "metadata": {
        "id": "bRaA2Yzd3UFe",
        "colab": {
          "base_uri": "https://localhost:8080/"
        },
        "outputId": "ea09de7a-cc4a-4960-c3f7-d4700e835f66"
      },
      "execution_count": null,
      "outputs": [
        {
          "output_type": "stream",
          "name": "stdout",
          "text": [
            "[(1, 4), (2, 5), (3, 6)]\n"
          ]
        }
      ]
    },
    {
      "cell_type": "code",
      "source": [
        "#alternatively\n",
        "l1 = [1,2,3]\n",
        "l2 = [4,5,6]\n",
        "zipped = list(zip(l1,l2))\n",
        "print(*zipped)\n",
        "x, y = zip(*zipped)\n",
        "print(x, y)"
      ],
      "metadata": {
        "id": "qh5ycr4g1w_S"
      },
      "execution_count": null,
      "outputs": []
    },
    {
      "cell_type": "markdown",
      "source": [
        "\n",
        "Exercise 5.3: Distances  \n",
        "Suppose we have two vectors, x and y, stored as tuples with n elements. Implement functions that\n",
        "compute the l1 and l2 distances between x and y. Note that n is not explicitly given."
      ],
      "metadata": {
        "id": "liMCV-rn3UPg"
      }
    },
    {
      "cell_type": "code",
      "source": [
        "#not sure if it's right\n",
        "import math\n",
        "def distance(x,y):\n",
        "  if len(x) != len(y):\n",
        "    raise ValueError(\"Can not compare vectors of difference dimensions\")\n",
        "  mahallenobis = 0\n",
        "  euclid = 0\n",
        "  for i in range(len(x)):\n",
        "    mahallenobis += abs(x[i] - y[i])\n",
        "    euclid += math.sqrt(abs(x[i]**2 - y[i]**2))\n",
        "  return mahallenobis, euclid\n",
        "print(distance((1,2,2),(3,3,1)))"
      ],
      "metadata": {
        "id": "6vMKcIuD3UbE",
        "colab": {
          "base_uri": "https://localhost:8080/"
        },
        "outputId": "e4d5b54e-e016-4e84-8d20-143a5f252549"
      },
      "execution_count": null,
      "outputs": [
        {
          "output_type": "stream",
          "name": "stdout",
          "text": [
            "(4, 6.796545909814856)\n"
          ]
        }
      ]
    },
    {
      "cell_type": "markdown",
      "source": [
        "\n",
        "6 Dictionaries  \n",
        "Exercise 6.1: Printing a dictionary  \n",
        "Write a function that prints key-value pairs of a dictionary."
      ],
      "metadata": {
        "id": "H1B430Pc3Ujd"
      }
    },
    {
      "cell_type": "code",
      "source": [
        "#pretty standard\n",
        "dict = {\"cat\":1, \"beach\":2, 7:3}\n",
        "def dprint(dict):\n",
        "  for i in dict:\n",
        "    print(\"key:\",i,\", value:\",dict[i])\n",
        "dprint(dict)"
      ],
      "metadata": {
        "id": "C5dKbheQ3Urb",
        "colab": {
          "base_uri": "https://localhost:8080/"
        },
        "outputId": "6ea70a00-5884-4a6b-a40d-71a63596e307"
      },
      "execution_count": null,
      "outputs": [
        {
          "output_type": "stream",
          "name": "stdout",
          "text": [
            "key: cat , value: 1\n",
            "key: beach , value: 2\n",
            "key: 7 , value: 3\n"
          ]
        }
      ]
    },
    {
      "cell_type": "code",
      "source": [
        "#alternatively\n",
        "def dictprint(d: dict):\n",
        "  for k, v in zip(d.keys(), d.values()):\n",
        "    print(k, v)\n",
        "dictprint({'a':1,'b':-1,'g':'g'})"
      ],
      "metadata": {
        "id": "yaE0mMrL3GBn"
      },
      "execution_count": null,
      "outputs": []
    },
    {
      "cell_type": "markdown",
      "source": [
        "\n",
        "Exercise 6.2: Histogram  \n",
        "Write a function that takes a list, and returns a dictionary with keys the elements of the list and as\n",
        "value the number of occurances of that element in the list.  \n",
        "After you are done, look up ‘python collections counter’ in Google. Could you use a counter instead?"
      ],
      "metadata": {
        "id": "COg1tp6e3Uzm"
      }
    },
    {
      "cell_type": "code",
      "source": [
        "#\n",
        "def lcount(l):\n",
        "  dict = {}\n",
        "  while len(l) > 0:\n",
        "    v = l[0]\n",
        "    if v in dict.keys():\n",
        "      dict[v] += 1\n",
        "    else:\n",
        "      dict[v] = 1\n",
        "    l.remove(v)\n",
        "  return dict\n",
        "\n",
        "mylist = [\"cat\", \"beach\",\"cat\", \"07\"]\n",
        "print(lcount(mylist))\n"
      ],
      "metadata": {
        "id": "iwhfb-6C3U7n",
        "colab": {
          "base_uri": "https://localhost:8080/"
        },
        "outputId": "ba0effbc-6f7f-492d-dfd3-659ed5a1b8fe"
      },
      "execution_count": null,
      "outputs": [
        {
          "output_type": "stream",
          "name": "stdout",
          "text": [
            "{'cat': 2, 'beach': 1, '07': 1}\n"
          ]
        }
      ]
    },
    {
      "cell_type": "code",
      "source": [
        "#should work, but it doesn't. will have to figure this out later\n",
        "from collections import Counter\n",
        "def lcount2(l):\n",
        "  cnt = Counter()\n",
        "  for x in l:\n",
        "    cnt[x] += 1\n",
        "  return cnt\n",
        "print(lcount2(mylist).values())"
      ],
      "metadata": {
        "colab": {
          "base_uri": "https://localhost:8080/"
        },
        "id": "6N-MnU0XzNjI",
        "outputId": "60b7ed0c-5a73-44e5-9445-29ff3ab7d79e"
      },
      "execution_count": null,
      "outputs": [
        {
          "output_type": "stream",
          "name": "stdout",
          "text": [
            "dict_values([])\n"
          ]
        }
      ]
    },
    {
      "cell_type": "markdown",
      "source": [
        "\n",
        "Exercise 6.3: Get method  \n",
        "Dictionaries have a get method, which takes a key and a default value. If the key is in the dictionary,\n",
        "it returns the value, otherwise, it returns the default value.  \n",
        "Rewrite your code from the previous problem to make use of this get method."
      ],
      "metadata": {
        "id": "wh4ASlfU3VDc"
      }
    },
    {
      "cell_type": "code",
      "source": [
        "#\n",
        "def lcount(l):\n",
        "  dict1 = dict #{lambda x: l[x] for x in l}\n",
        "  dict2 = {}\n",
        "  for key in dict1.keys():\n",
        "      dict2[key] = dict1.get(key)\n",
        "  return dict2\n",
        "\n",
        "mylist = [\"cat\", \"beach\",\"cat\", \"07\"]\n",
        "\n",
        "print(lcount(mylist))"
      ],
      "metadata": {
        "id": "kuRAXE6_3VLC",
        "colab": {
          "base_uri": "https://localhost:8080/"
        },
        "outputId": "62009e12-1c50-4144-e16a-2fc6bc894c6b"
      },
      "execution_count": null,
      "outputs": [
        {
          "output_type": "stream",
          "name": "stdout",
          "text": [
            "{'cat': 1, 'beach': 2, 7: 3}\n"
          ]
        }
      ]
    },
    {
      "cell_type": "markdown",
      "source": [
        "\n",
        "Exercise 6.4: Random text generator  \n",
        "In this question we will start implementing a random text generator. The generated phrases somewhat\n",
        "resemble English, but are usually nonsense. Next week, after we learn about file I/O, we are ready to\n",
        "complete the code.  \n",
        "To generate sentences, we first construct a so-called Markov chain based on actual text data. This is a\n",
        "very basic language model. We can then sample paths from this Markov chain to create new phrases.\n",
        "This is actually easier than it sounds:  \n",
        "A Markov chain consists of states, and transition probabilities between states: i.e. when I am in state\n",
        "A, what is the probability that I’ll go to state B?  \n",
        "We focus on the simple case where the state will be the current word. Consider the example sentence\n",
        "‘the fire and the wind.’ Then, the states that we move through are  \n",
        "BEGIN → the → fire → and → the → wind. → END  \n",
        "where ‘BEGIN’ and ‘END’ are special states for the beginning and the end of the sentence. To find the\n",
        "transition probabilities, we go over a large body of text and record current word and the next word. In\n",
        "the above example, ‘BEGIN’ is followed by ‘the’, and ‘the’ is followed by ‘fire’ and ‘wind’.  \n",
        "We won’t be computing actual probabilities. Instead, we create a dictionary that, for every word,\n",
        "contains all the words that follow it. To generate a phrase, we start at the ‘BEGIN’ state, and pick\n",
        "randomly one word from the list of words that follows the ‘BEGIN’ state. Then we look up which words\n",
        "follow that word, and again pick one word at random, until we hit the ‘END’ state, which signals that\n",
        "we are done.  \n",
        "Before you get started, download the starter code by using  \n",
        "$ git clone https://github.com/schmit/Markov-chain-startercode.git   \n",
        "(if you have git / use Cloud9) or dowload the code directly:  \n",
        "https://github.com/schmit/Markov-chain-startercode/archive/master.zip  \n",
        "Then  \n",
        "• Implement the process line function, which takes a line as input, and returns a list with tuples\n",
        "with the current state, and the next state.  \n",
        "• Implement the process textfile function, which loops over text, calls process line to extract\n",
        "the transitions, and adds these to a dictionary. For now, do not worry about reading data from a\n",
        "file, the lines are given as elements of the list f.  \n",
        "• Implement the generate line function, which generates random phrases based on a dictionary\n",
        "with transitions.  \n",
        "See markov.py for a more detailed description of each function.  \n",
        "To run the code, use python markov.py <filename>. Since we are not using any files yet, replace\n",
        "<filename> with a random word."
      ],
      "metadata": {
        "id": "603k7Pxc3VUa"
      }
    },
    {
      "cell_type": "code",
      "source": [
        "!git clone https://github.com/schmit/Markov-chain-startercode.git\n",
        "!rm /content/Markov-chain-startercode/markov.py\n",
        "!cp /content/drive/MyDrive/markov.py /content/Markov-chain-startercode/markov.py\n",
        "!cat /content/Markov-chain-startercode/markov.py"
      ],
      "metadata": {
        "id": "gz1m-FNo91Id"
      },
      "execution_count": null,
      "outputs": []
    },
    {
      "cell_type": "code",
      "source": [
        "def process_line(line: str):\n",
        "  words = line.lower().split(' ')\n",
        "  w1 = ['BEGIN'] + words\n",
        "  w2 = words + ['END']\n",
        "  return zip(w1, w2)\n",
        "\n",
        "def process_file(filename: str):\n",
        "  d = {}\n",
        "  lines = dummy_text.split('\\n')\n",
        "  for line in lines:\n",
        "    for prev, next in process_line(line):\n",
        "      d[prev] = d.get(prev, [])\n",
        "      if next not in d[prev]:\n",
        "        d[prev].append(next)\n",
        "  return generate(d)\n",
        "\n",
        "def generate(d: dict):\n",
        "  message = ['BEGIN']\n",
        "  while message[-1] != 'END':\n",
        "    message.append(random.choice(d[message[-1]]))\n",
        "  return \" \".join(message[1:-1])\n",
        "\n",
        "print(process_file(sample_text))"
      ],
      "metadata": {
        "id": "xfch_OYZFd0c"
      },
      "execution_count": null,
      "outputs": []
    },
    {
      "cell_type": "markdown",
      "source": [
        "\n",
        "Exercise 6.5: Vector functions  \n",
        "Let’s implement some vector functions. There are two types of vectors, normal or dense vectors, which\n",
        "we can represent using lists. For sparse vectors, where many of the elements are zero, this is inefficient.  \n",
        "Instead, we use a dictionary with keys the indices of non-zero values, and then the value corresponding\n",
        "to the key is the value of the vector at that index. Hence, the vector [1, 2, 4] can be stored as a list: [1, 2, 4] or as a dictionary {0:1, 1: 2, 2: 4}.  \n",
        "(a) Write a function that adds two (dense) vectors  \n",
        "(b) Write a function that multiplies (i.e. inner product) two (dense) vectors  \n",
        "(c) Write a function that adds two sparse vectors  \n",
        "(d) Write a function that multiplies two sparse vectors  \n",
        "(e) Write a function that adds a sparse vector and a dense vector  \n",
        "(f) Write a function that multiplies a sparse vector and a dense vector  "
      ],
      "metadata": {
        "id": "2BGPkNvF3Vk0"
      }
    },
    {
      "cell_type": "code",
      "source": [
        "#add 2 lists, check length\n",
        "def vadd(d1,d2):\n",
        "  if len(d1) == len(d2):\n",
        "    for i in range(len(d1)):\n",
        "      d1[i] += d2[i]\n",
        "  return d1\n",
        "\n",
        "print(vadd([1,2,35,2,0],[0,2,2,33,0]))\n",
        "#print(vadd(['cat',3,4],[1,'beach',3]))"
      ],
      "metadata": {
        "id": "7y0DgZImZHrH",
        "colab": {
          "base_uri": "https://localhost:8080/"
        },
        "outputId": "81a58419-23b8-4197-83a1-eb5c059f2316"
      },
      "execution_count": null,
      "outputs": [
        {
          "output_type": "stream",
          "name": "stdout",
          "text": [
            "[1, 4, 37, 35, 0]\n"
          ]
        }
      ]
    },
    {
      "cell_type": "code",
      "source": [
        "#alternatively\n",
        "f = lambda xs,ys: [x + y for x, y in zip(xs, ys)]\n",
        "f([1,2,35,2,0],[0,2,2,33,0])"
      ],
      "metadata": {
        "id": "_sKcMd6fL8Or"
      },
      "execution_count": null,
      "outputs": []
    },
    {
      "cell_type": "markdown",
      "source": [
        ""
      ],
      "metadata": {
        "id": "uL4q4ng5aOoR"
      }
    },
    {
      "cell_type": "code",
      "source": [
        "#dot product is sum of element-wise product, i.e. a scalar\n",
        "def vmul(d1,d2):\n",
        "  total = 0\n",
        "  if len(d1) == len(d2):\n",
        "    for i in range(len(d1)):\n",
        "      total += d1[i] * d2[i]\n",
        "  return total\n",
        "\n",
        "print(vmul([1,2,35,2,0],[0,2,2,33,0]))\n",
        "#print(vmul(['cat',3,4],[1,'beach',3]))"
      ],
      "metadata": {
        "id": "_97326ujZHS8",
        "colab": {
          "base_uri": "https://localhost:8080/"
        },
        "outputId": "bb6d8cbc-7e9d-4a78-9527-d8cf7f3b89b8"
      },
      "execution_count": null,
      "outputs": [
        {
          "output_type": "stream",
          "name": "stdout",
          "text": [
            "140\n"
          ]
        }
      ]
    },
    {
      "cell_type": "code",
      "source": [
        "#alternatively\n",
        "f = lambda xs,ys: [x * y for x, y in zip(xs, ys)]\n",
        "f([1,2,35,2,0],[0,2,2,33,0])"
      ],
      "metadata": {
        "id": "W_44_YSKMAYP"
      },
      "execution_count": null,
      "outputs": []
    },
    {
      "cell_type": "code",
      "source": [
        "[x * y for x, y in zip([1,2,35,2,0],[0,2,2,33,0])]"
      ],
      "metadata": {
        "id": "gZEdICl9cW93"
      },
      "execution_count": null,
      "outputs": []
    },
    {
      "cell_type": "code",
      "source": [
        "#add 2 dictionaries, check length and presence of keys. modifies original, doesn't handle different length vecs\n",
        "def sadd(s1,s2):\n",
        "  if len(s1) == len(s2):\n",
        "    for key in s1.keys():\n",
        "      if key in s2.keys():\n",
        "        s1[key] += s2[key]\n",
        "  return s1\n",
        "\n",
        "print(sadd({0:1,1:2,2:35,3:2,4:0},{0:0,1:2,2:2,3:33,4:0}))\n",
        "#print(sadd({0:'cat',1:3,2:4}, {0:1,1:'beach',2:3}))"
      ],
      "metadata": {
        "id": "lVMY_uxyZHOj",
        "colab": {
          "base_uri": "https://localhost:8080/"
        },
        "outputId": "e18bdda3-f5a7-4059-b41f-b8c568cd0f26"
      },
      "execution_count": null,
      "outputs": [
        {
          "output_type": "stream",
          "name": "stdout",
          "text": [
            "{0: 1, 1: 4, 2: 37, 3: 35, 4: 0}\n"
          ]
        }
      ]
    },
    {
      "cell_type": "code",
      "source": [
        "#alternatively\n",
        "def iter_dicts(d1: dict, d2: dict):\n",
        "  keys = set([*d1.keys() *d2.keys()])\n",
        "  for key in keys:\n",
        "    yeild key, d1.get(key, 0), d2.get(key, 0)\n",
        "def sparse_add(d1: dict, d2: dict) -> dict:\n",
        "  s = {}\n",
        "  for k, v1, v2 in iter_dicts(d1, d2):\n",
        "    s[k] = v1 + v2\n",
        "\n",
        "  return s\n",
        "\n",
        "sparse_add({0:1,1:2,2:35,3:2,4:0},{0:0,1:2,2:2,3:33,4:0})"
      ],
      "metadata": {
        "id": "zEged5FtMAgK"
      },
      "execution_count": null,
      "outputs": []
    },
    {
      "cell_type": "code",
      "source": [
        "#dot product again, check length and presence of keys\n",
        "def smul(s1,s2):\n",
        "  total = 0\n",
        "  if len(s1) == len(s2):\n",
        "    for key in s1.keys():\n",
        "      if key in s2.keys():\n",
        "        total += s1[key] * s2[key]\n",
        "  return total\n",
        "\n",
        "print(smul({0:1,1:2,2:35,3:2,4:0},{0:0,1:2,2:2,3:33,4:0}))\n",
        "#print(smul({0:'cat',1:3,2:4}, {0:1,1:'beach',2:3}))"
      ],
      "metadata": {
        "id": "CE6KWhvaZHKY",
        "colab": {
          "base_uri": "https://localhost:8080/"
        },
        "outputId": "f983623c-f975-44ab-d490-43b332d65eaa"
      },
      "execution_count": null,
      "outputs": [
        {
          "output_type": "stream",
          "name": "stdout",
          "text": [
            "140\n"
          ]
        }
      ]
    },
    {
      "cell_type": "code",
      "source": [
        "#alternatively\n",
        "def sparse_mult(d1: dict, d2: dict) -> dict:\n",
        "  s = {}\n",
        "  for k, v1, v2 in iter_dicts(d1, d2):\n",
        "    val = v1 * v2\n",
        "    if val != 0:\n",
        "      s[k] = val\n",
        "\n",
        "  return s"
      ],
      "metadata": {
        "id": "NwID0_rxMAoJ"
      },
      "execution_count": null,
      "outputs": []
    },
    {
      "cell_type": "code",
      "source": [
        "#add list to dictionary, check length and presence of keys, yada yada\n",
        "def sdadd(s,d):\n",
        "  if len(s) == len(d):\n",
        "    for i in range(len(d)):\n",
        "      if i in s.keys():\n",
        "        s[i] += d[i]\n",
        "\n",
        "  return s\n",
        "\n",
        "print(sdadd({0:1,1:2,2:35,3:2,4:0},[0,2,2,33,0]))\n",
        "#print(sdadd({0:'cat',1:3,2:4}, [1,'beach',3]))"
      ],
      "metadata": {
        "id": "5U7zWbndZG7Q",
        "colab": {
          "base_uri": "https://localhost:8080/"
        },
        "outputId": "b3f0f0cb-fde0-46f4-f9e8-69dd5226b8ed"
      },
      "execution_count": null,
      "outputs": [
        {
          "output_type": "stream",
          "name": "stdout",
          "text": [
            "{0: 1, 1: 4, 2: 37, 3: 35, 4: 0}\n"
          ]
        }
      ]
    },
    {
      "cell_type": "code",
      "source": [
        "#alternatively\n",
        "def make_sparse(l: list) ->dict:\n",
        "  d = {}\n",
        "  for i, val in enumerate(l):\n",
        "    if val != 0:\n",
        "      d[i] = val\n",
        "  return d\n",
        "\n",
        "def sparse_dense_add(d: dict, l: list) -> dict:\n",
        "  d2 = make_sparse(l)\n",
        "  return sparse_add(d, d2)\n",
        "\n"
      ],
      "metadata": {
        "id": "9bvtZwW_MAw_"
      },
      "execution_count": null,
      "outputs": []
    },
    {
      "cell_type": "code",
      "source": [
        "#dot product between dictionary and list, in the usual way\n",
        "def sdmul(s,d):\n",
        "  total = 0\n",
        "  if len(s) == len(d):\n",
        "    for i in range(len(d)):\n",
        "      if i in s.keys():\n",
        "        total += s[i] * d[i]\n",
        "\n",
        "  return total\n",
        "\n",
        "print(sdmul({0:1,1:2,2:35,3:2,4:0},[0,2,2,33,0]))\n",
        "#print(sdmul({0:'cat',1:3,2:4}, [1,'beach',3]))"
      ],
      "metadata": {
        "id": "rEo55iC-3bAl",
        "colab": {
          "base_uri": "https://localhost:8080/"
        },
        "outputId": "fbb7ad51-a9fa-4f1e-a457-2655f443f771"
      },
      "execution_count": null,
      "outputs": [
        {
          "output_type": "stream",
          "name": "stdout",
          "text": [
            "140\n"
          ]
        }
      ]
    },
    {
      "cell_type": "code",
      "source": [
        "#alternatively\n",
        "def sparse_dense_mult(d: dict, l: list) -> dict:\n",
        "  d2 = make_sparse(l)\n",
        "  return sparse_mult(d, d2)"
      ],
      "metadata": {
        "id": "6homlw90MBmR"
      },
      "execution_count": null,
      "outputs": []
    },
    {
      "cell_type": "code",
      "source": [
        "#alternatively"
      ],
      "metadata": {
        "id": "x8hAOKpPMBpH"
      },
      "execution_count": null,
      "outputs": []
    },
    {
      "cell_type": "markdown",
      "source": [
        "\n",
        "Exercise 6.6: Reverse look-up  \n",
        "Dictionaries are made to look up values by keys. Suppose however, we want to find the key that is\n",
        "associated with some value. Write a function that takes a dictionary and a value, and returns the key\n",
        "associated with this value.  \n",
        "What challenges do you face? How would you deal with those challenges?"
      ],
      "metadata": {
        "id": "9Y1Lh7Mk2VWu"
      }
    },
    {
      "cell_type": "code",
      "source": [
        "#\n",
        "def rev_lu(d1: dict):\n",
        "  rev = {}\n",
        "  for k, v in d1.items():\n",
        "    keys = rev.get(v, [])\n",
        "    if k not in keys:\n",
        "      keys.append(k)\n",
        "    rev[v] = keys\n",
        "  return rev\n"
      ],
      "metadata": {
        "id": "Ex4og2qPXWEA"
      },
      "execution_count": null,
      "outputs": []
    }
  ]
}