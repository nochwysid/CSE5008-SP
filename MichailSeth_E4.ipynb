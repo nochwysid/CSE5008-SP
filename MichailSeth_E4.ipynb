{
  "nbformat": 4,
  "nbformat_minor": 0,
  "metadata": {
    "colab": {
      "name": "MichailSeth_E4.ipynb",
      "provenance": [],
      "collapsed_sections": [],
      "authorship_tag": "ABX9TyPvh6UfeLzRdEzkjLebGctg",
      "include_colab_link": true
    },
    "kernelspec": {
      "name": "python3",
      "display_name": "Python 3"
    },
    "language_info": {
      "name": "python"
    }
  },
  "cells": [
    {
      "cell_type": "markdown",
      "metadata": {
        "id": "view-in-github",
        "colab_type": "text"
      },
      "source": [
        "<a href=\"https://colab.research.google.com/github/nochwysid/CSE5008-SP/blob/main/MichailSeth_E4.ipynb\" target=\"_parent\"><img src=\"https://colab.research.google.com/assets/colab-badge.svg\" alt=\"Open In Colab\"/></a>"
      ]
    },
    {
      "cell_type": "markdown",
      "source": [
        "9 Numpy  \n",
        "\n",
        "Generate matrices $A$, with random Gaussian entries, $B$, a Toeplitz matrix, where $A ∈ R\n",
        "^{n×m}$ and $B ∈ R^{m×m}$, for $n = 200$, $m = 500$. "
      ],
      "metadata": {
        "id": "4cgy7ffEgYl0"
      }
    },
    {
      "cell_type": "code",
      "source": [
        "import numpy as np\n",
        "\n",
        "A = np.random.normal(0,1,(200,500))\n",
        "A"
      ],
      "metadata": {
        "colab": {
          "base_uri": "https://localhost:8080/"
        },
        "id": "pPnn2QqLgWA1",
        "outputId": "f24b9d8b-e3a0-4228-b133-6fc2e0e9f2ad"
      },
      "execution_count": 102,
      "outputs": [
        {
          "output_type": "execute_result",
          "data": {
            "text/plain": [
              "array([[ 0.60084903,  0.39849743,  1.48081858, ..., -1.44750238,\n",
              "         0.05849323,  1.42704828],\n",
              "       [-0.36171614,  1.06313077,  1.73478097, ...,  0.76008766,\n",
              "         1.10062101,  1.02959258],\n",
              "       [ 1.6346381 , -0.03788837,  1.10256113, ...,  0.14106723,\n",
              "         0.86356426, -0.77183582],\n",
              "       ...,\n",
              "       [-0.96690652,  0.06419198, -0.41411289, ..., -0.50851269,\n",
              "        -0.4888217 , -0.73481653],\n",
              "       [-0.31684654, -0.79651231,  1.7629482 , ...,  0.09982181,\n",
              "         0.44387031,  1.98754615],\n",
              "       [-0.37618052,  0.9294823 , -0.08251486, ...,  1.37353563,\n",
              "         0.44946169, -0.19115459]])"
            ]
          },
          "metadata": {},
          "execution_count": 102
        }
      ]
    },
    {
      "cell_type": "code",
      "source": [
        "B = np.array([[i-j for i in range(500)] for j in range(500)])\n",
        "B"
      ],
      "metadata": {
        "colab": {
          "base_uri": "https://localhost:8080/"
        },
        "id": "3f86b4GOgzuH",
        "outputId": "af7315d3-b050-4131-cc60-a32843644919"
      },
      "execution_count": 103,
      "outputs": [
        {
          "output_type": "execute_result",
          "data": {
            "text/plain": [
              "array([[   0,    1,    2, ...,  497,  498,  499],\n",
              "       [  -1,    0,    1, ...,  496,  497,  498],\n",
              "       [  -2,   -1,    0, ...,  495,  496,  497],\n",
              "       ...,\n",
              "       [-497, -496, -495, ...,    0,    1,    2],\n",
              "       [-498, -497, -496, ...,   -1,    0,    1],\n",
              "       [-499, -498, -497, ...,   -2,   -1,    0]])"
            ]
          },
          "metadata": {},
          "execution_count": 103
        }
      ]
    },
    {
      "cell_type": "markdown",
      "source": [
        " \n",
        "Exercise 9.1: Matrix operations  \n",
        "Calculate $A + A$,&nbsp; $AA^{T}$,&nbsp; $A^{T}A$ &nbsp;and $AB$. Write a function that computes $A(B − λI)$ for any $λ$."
      ],
      "metadata": {
        "id": "YuZNd8m1ppto"
      }
    },
    {
      "cell_type": "code",
      "source": [
        "# A + A\n",
        "aplus = np.add(A,A)\n",
        "aplus"
      ],
      "metadata": {
        "colab": {
          "base_uri": "https://localhost:8080/"
        },
        "id": "eD_K5T8_G-dK",
        "outputId": "39b44efa-d2b0-4233-b970-20843c43717a"
      },
      "execution_count": 104,
      "outputs": [
        {
          "output_type": "execute_result",
          "data": {
            "text/plain": [
              "array([[ 1.20169806,  0.79699487,  2.96163717, ..., -2.89500475,\n",
              "         0.11698647,  2.85409656],\n",
              "       [-0.72343228,  2.12626153,  3.46956195, ...,  1.52017532,\n",
              "         2.20124201,  2.05918516],\n",
              "       [ 3.2692762 , -0.07577673,  2.20512226, ...,  0.28213445,\n",
              "         1.72712853, -1.54367164],\n",
              "       ...,\n",
              "       [-1.93381304,  0.12838396, -0.82822578, ..., -1.01702538,\n",
              "        -0.9776434 , -1.46963306],\n",
              "       [-0.63369309, -1.59302462,  3.5258964 , ...,  0.19964363,\n",
              "         0.88774062,  3.97509231],\n",
              "       [-0.75236103,  1.8589646 , -0.16502972, ...,  2.74707126,\n",
              "         0.89892338, -0.38230918]])"
            ]
          },
          "metadata": {},
          "execution_count": 104
        }
      ]
    },
    {
      "cell_type": "code",
      "source": [
        "# AA^T\n",
        "aat = np.dot(A,A.T)\n",
        "aat"
      ],
      "metadata": {
        "colab": {
          "base_uri": "https://localhost:8080/"
        },
        "id": "r_BLB94uG-Sh",
        "outputId": "ce61fb17-70d7-443e-e971-0843ac73fe05"
      },
      "execution_count": 105,
      "outputs": [
        {
          "output_type": "execute_result",
          "data": {
            "text/plain": [
              "array([[474.57357229,  -5.23403558, -25.48552111, ...,  -8.75349459,\n",
              "        -22.02000176,   1.04185997],\n",
              "       [ -5.23403558, 478.46845653,  25.35604146, ..., -39.2481331 ,\n",
              "         11.06748411,  -7.76313728],\n",
              "       [-25.48552111,  25.35604146, 478.95107607, ..., -22.9220887 ,\n",
              "         18.51469924,   5.31966138],\n",
              "       ...,\n",
              "       [ -8.75349459, -39.2481331 , -22.9220887 , ..., 496.07313366,\n",
              "          3.64756249,  14.97364728],\n",
              "       [-22.02000176,  11.06748411,  18.51469924, ...,   3.64756249,\n",
              "        502.21882601,  21.46071395],\n",
              "       [  1.04185997,  -7.76313728,   5.31966138, ...,  14.97364728,\n",
              "         21.46071395, 520.08195455]])"
            ]
          },
          "metadata": {},
          "execution_count": 105
        }
      ]
    },
    {
      "cell_type": "code",
      "source": [
        "# A^TA\n",
        "ata = np.dot(A.T,A)\n",
        "ata"
      ],
      "metadata": {
        "colab": {
          "base_uri": "https://localhost:8080/"
        },
        "id": "TYFdCgQqG-E5",
        "outputId": "add63214-6ada-4442-c163-7f9de5b09580"
      },
      "execution_count": 106,
      "outputs": [
        {
          "output_type": "execute_result",
          "data": {
            "text/plain": [
              "array([[221.11245369, -14.2539357 , -19.65105847, ..., -20.78890125,\n",
              "         15.63369352, -34.08219061],\n",
              "       [-14.2539357 , 191.77177315,  -9.1324877 , ..., -12.59032822,\n",
              "         -1.29292042,  43.56329398],\n",
              "       [-19.65105847,  -9.1324877 , 223.43568318, ...,  -1.07822693,\n",
              "         25.38224723,  -0.44399487],\n",
              "       ...,\n",
              "       [-20.78890125, -12.59032822,  -1.07822693, ..., 188.7060188 ,\n",
              "          3.62668688,  -9.81406659],\n",
              "       [ 15.63369352,  -1.29292042,  25.38224723, ...,   3.62668688,\n",
              "        178.76300698, -15.30435022],\n",
              "       [-34.08219061,  43.56329398,  -0.44399487, ...,  -9.81406659,\n",
              "        -15.30435022, 203.6825024 ]])"
            ]
          },
          "metadata": {},
          "execution_count": 106
        }
      ]
    },
    {
      "cell_type": "code",
      "source": [
        "# AB (BA not possible, but BA^T is)\n",
        "ab = np.dot(A,B)\n",
        "ab"
      ],
      "metadata": {
        "colab": {
          "base_uri": "https://localhost:8080/"
        },
        "id": "pntV5ElZHDjI",
        "outputId": "b39732a5-e658-4baf-a9f5-d2043247a1bc"
      },
      "execution_count": 107,
      "outputs": [
        {
          "output_type": "execute_result",
          "data": {
            "text/plain": [
              "array([[ 4861.14763954,  4852.27326243,  4843.39888532, ...,\n",
              "          450.58221642,   441.70783931,   432.8334622 ],\n",
              "       [-8987.22947879, -8966.68050354, -8946.1315283 , ...,\n",
              "         1225.61121661,  1246.16019186,  1266.7091671 ],\n",
              "       [ 2254.73528675,  2270.14334727,  2285.55140779, ...,\n",
              "         9912.5413643 ,  9927.94942482,  9943.35748534],\n",
              "       ...,\n",
              "       [ -598.08870898,  -597.08789724,  -596.0870855 , ...,\n",
              "         -100.68527526,   -99.68446352,   -98.68365178],\n",
              "       [10441.7004254 , 10406.28150131, 10370.86257722, ...,\n",
              "        -7161.50484798, -7196.92377208, -7232.34269617],\n",
              "       [ 3529.04085276,  3508.66465811,  3488.28846346, ...,\n",
              "        -6597.92788866, -6618.30408331, -6638.68027796]])"
            ]
          },
          "metadata": {},
          "execution_count": 107
        }
      ]
    },
    {
      "cell_type": "code",
      "source": [
        "# A(B-lI) function\n",
        "def abi(a,b,l):\n",
        "  lI = l*np.eye(b.shape[0])\n",
        "  abi = np.dot(a,(np.subtract(b,lI)) )\n",
        "  return abi\n",
        "print(abi(A,B,3))"
      ],
      "metadata": {
        "id": "hNoLbejzpv1T",
        "colab": {
          "base_uri": "https://localhost:8080/"
        },
        "outputId": "5754a1aa-478d-45dc-c2af-b7c7e0455f05"
      },
      "execution_count": 109,
      "outputs": [
        {
          "output_type": "stream",
          "name": "stdout",
          "text": [
            "[[ 4859.34509244  4851.07777013  4838.95642957 ...   454.92472354\n",
            "    441.5323596    428.55231735]\n",
            " [-8986.14433037 -8969.86989584 -8951.33587123 ...  1223.33095363\n",
            "   1242.85832884  1263.62038936]\n",
            " [ 2249.83137246  2270.25701236  2282.2437244  ...  9912.11816262\n",
            "   9925.35873203  9945.67299279]\n",
            " ...\n",
            " [ -595.18798941  -597.28047318  -594.84474684 ...   -99.1597372\n",
            "    -98.21799842   -96.47920219]\n",
            " [10442.65096504 10408.67103825 10365.57373262 ... -7161.80431343\n",
            "  -7198.25538301 -7238.30533463]\n",
            " [ 3530.16939431  3505.87621121  3488.53600803 ... -6602.04849556\n",
            "  -6619.65246839 -6638.1068142 ]]\n"
          ]
        }
      ]
    },
    {
      "cell_type": "markdown",
      "source": [
        "Exercise 9.2: Solving a linear system  \n",
        "Generate a vector $b$ with m entries and solve $Bx = b$."
      ],
      "metadata": {
        "id": "31iplyVapmvV"
      }
    },
    {
      "cell_type": "code",
      "source": [
        "b = np.arange(0,4).T + 1\n",
        "g  =  np.arange(0,16).reshape(4,4) - np.eye(4)\n",
        "s = np.linalg.solve(g,b)\n",
        "print('B =', g)\n",
        "print('b =', b)\n",
        "print('x =', s)"
      ],
      "metadata": {
        "id": "KT0kpcOV-qYy",
        "colab": {
          "base_uri": "https://localhost:8080/"
        },
        "outputId": "fd038dc5-c637-4f72-9bc2-346fa5315ee1"
      },
      "execution_count": 4,
      "outputs": [
        {
          "output_type": "stream",
          "name": "stdout",
          "text": [
            "B = [[-1.  1.  2.  3.]\n",
            " [ 4.  4.  6.  7.]\n",
            " [ 8.  9.  9. 11.]\n",
            " [12. 13. 14. 14.]]\n",
            "b = [1 2 3 4]\n",
            "x = [-0.08256881  0.01834862  0.11926606  0.22018349]\n"
          ]
        }
      ]
    },
    {
      "cell_type": "markdown",
      "source": [
        "Exercise 9.3: Norms  \n",
        "Compute the Frobenius norm of $A$: $\\|A\\|_F$ and the infinity norm of $B$: $\\|B\\|_∞$. Also find the largest and\n",
        "smallest singular values of $B$."
      ],
      "metadata": {
        "id": "EERmghY2pj0S"
      }
    },
    {
      "cell_type": "code",
      "source": [
        "froA = np.linalg.norm(A,'fro')\n",
        "froA"
      ],
      "metadata": {
        "id": "2WmJtMtz-rAT",
        "colab": {
          "base_uri": "https://localhost:8080/"
        },
        "outputId": "1569a916-dfa6-40e9-9b20-ce3833f2f232"
      },
      "execution_count": 110,
      "outputs": [
        {
          "output_type": "execute_result",
          "data": {
            "text/plain": [
              "314.9290175174507"
            ]
          },
          "metadata": {},
          "execution_count": 110
        }
      ]
    },
    {
      "cell_type": "code",
      "source": [
        "froB = np.linalg.norm(B,np.inf)\n",
        "froB"
      ],
      "metadata": {
        "id": "1IPxND2jB7q0",
        "colab": {
          "base_uri": "https://localhost:8080/"
        },
        "outputId": "21aa3b77-929a-4dcb-b17a-b147a0745960"
      },
      "execution_count": 111,
      "outputs": [
        {
          "output_type": "execute_result",
          "data": {
            "text/plain": [
              "124750.0"
            ]
          },
          "metadata": {},
          "execution_count": 111
        }
      ]
    },
    {
      "cell_type": "code",
      "source": [
        "maxsvdB = np.linalg.norm(B,2)\n",
        "maxsvdB"
      ],
      "metadata": {
        "id": "v_W4oalTCvXw",
        "colab": {
          "base_uri": "https://localhost:8080/"
        },
        "outputId": "f82a06f2-a0e4-458c-845b-80186df820b4"
      },
      "execution_count": 112,
      "outputs": [
        {
          "output_type": "execute_result",
          "data": {
            "text/plain": [
              "72168.6393109916"
            ]
          },
          "metadata": {},
          "execution_count": 112
        }
      ]
    },
    {
      "cell_type": "markdown",
      "source": [
        "Exercise 9.4: Power iteration  \n",
        "Generate a matrix $Z$, $n × n$, with Gaussian entries, and use the power iteration to find the largest\n",
        "eigenvalue and corresponding eigenvector of $Z$. How many iterations are needed till convergence?  \n",
        "Optional: use the time.clock() method to compare computation time when varying $n$."
      ],
      "metadata": {
        "id": "svI8AQ8Hpggm"
      }
    },
    {
      "cell_type": "code",
      "source": [
        "import time\n",
        "import numpy as np\n",
        "start = time.time_ns()\n",
        "n = 5\n",
        "k = 0\n",
        "Z = np.random.normal(0,2,(n,n))\n",
        "e = np.random.normal(0,2,(n))\n",
        "count = 0\n",
        "lambda_1 = 0\n",
        "while count < 10:\n",
        "  prevprev = prev.copy()\n",
        "  prev = e.copy()\n",
        "  \n",
        "  e = np.dot(Z,e)\n",
        "  e =  e / e.max()\n",
        "  lambda_1 = abs(e).max()\n",
        "  k += 1\n",
        "  #print(abs(np.sum(e - prevprev)))\n",
        "  if abs(np.sum(e - prevprev)) < 1E-10 :\n",
        "    count += 1\n",
        "\n",
        "print('lambda:', lambda_1,'\\n')\n",
        "print('It took {} iterations to converge'.format(k-count))\n",
        "print('\\n',(Z*e)[0]/e[0],'\\n')\n",
        "[val, vec] = np.linalg.eigh(Z)\n",
        "lval = list(abs(val))\n",
        "idx = lval.index(max(lval))\n",
        "end = time.time_ns() - start\n",
        "\n",
        "print('time :{} ms'.format(end/1E6))\n",
        "print('eigenvector : \\n\\t',list(vec[:,idx]))\n",
        "print('largest eigenvalue :\\n\\t', lval[idx])\n"
      ],
      "metadata": {
        "id": "GjJwC1Qc_CYF",
        "colab": {
          "base_uri": "https://localhost:8080/"
        },
        "outputId": "9165074a-fac4-4b0d-ca3f-4d91768602cd"
      },
      "execution_count": 100,
      "outputs": [
        {
          "output_type": "stream",
          "name": "stdout",
          "text": [
            "lambda: 1.90483643239864 \n",
            "\n",
            "It took 96 iterations to converge\n",
            "\n",
            " [-1.76453576  8.30822822 -0.20227535 -3.74698036  2.33224793] \n",
            "\n",
            "time :8.587888 ms\n",
            "eigenvector : \n",
            "\t [-0.2526055395777507, 0.8011870627360018, 0.3331653124989439, 0.10025604949636552, 0.4162202913914156]\n",
            "largest eigenvalue :\n",
            "\t 6.646015221775013\n"
          ]
        }
      ]
    },
    {
      "cell_type": "markdown",
      "source": [
        "Exercise 9.6: Nearest neighbor  \n",
        "Write a function that takes a value $z$ and an array $A$ and finds the element in $A$ that is closest to $z$. The function should return the closest value, not index.  \n",
        "Hint: Use the built-in functionality of Numpy rather than writing code to find this value manually. In\n",
        "particular, use brackets and argmin."
      ],
      "metadata": {
        "id": "ep3acg7npXzj"
      }
    },
    {
      "cell_type": "code",
      "execution_count": 101,
      "metadata": {
        "id": "lHXJXbsWpE1S",
        "colab": {
          "base_uri": "https://localhost:8080/"
        },
        "outputId": "4ada5a37-2253-474b-9fe3-3329513527a1"
      },
      "outputs": [
        {
          "output_type": "stream",
          "name": "stdout",
          "text": [
            "A:\n",
            " [[44 52 86 20  0]\n",
            " [94 54 78 36  6]\n",
            " [24 64 76 32 96]\n",
            " [98 62 46 24 14]\n",
            " [84 32 44 14 50]]\n",
            "r, c: 2 0\n",
            "Nearest number: 24\n",
            "Number nearest to 27 is 24, located at (2,0)\n"
          ]
        }
      ],
      "source": [
        "z = 27\n",
        "A = 2*np.arange(25).reshape(5,5)\n",
        "A = 2*np.random.randint(0,50,(5,5))\n",
        "print('A:\\n',A)\n",
        "def thenearestneighborinthehood(mat,val):\n",
        "  #ndx = np.where( abs(mat -val) < 2 )\n",
        "  tmat = abs(mat - val)\n",
        "  #print(tmat)\n",
        "  arg = np.argmin(tmat)\n",
        "  c = arg%(tmat.shape[1] )\n",
        "  r = (int)((arg-c)/tmat.shape[1])\n",
        "  print('r, c:',r,c)\n",
        "  print('Nearest number:',A[r,c])\n",
        "  \n",
        "  neighbor = A[r,c]\n",
        "  return neighbor, r, c\n",
        "n,r,c = thenearestneighborinthehood(A,z)\n",
        "print('Number nearest to {} is {}, located at ({},{})'.format(z,n,r,c))"
      ]
    }
  ]
}