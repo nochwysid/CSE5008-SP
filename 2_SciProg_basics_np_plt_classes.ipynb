{
  "cells": [
    {
      "cell_type": "markdown",
      "metadata": {
        "id": "view-in-github",
        "colab_type": "text"
      },
      "source": [
        "<a href=\"https://colab.research.google.com/github/nochwysid/CSE5008-SP/blob/main/2_SciProg_basics_np_plt_classes.ipynb\" target=\"_parent\"><img src=\"https://colab.research.google.com/assets/colab-badge.svg\" alt=\"Open In Colab\"/></a>"
      ]
    },
    {
      "cell_type": "markdown",
      "metadata": {
        "id": "NzV0iF_rCvO5"
      },
      "source": [
        "# CME 193 - Lecture 2\n",
        "\n",
        "This class we will cover\n",
        "1. Basics of creating classes and objects\n",
        "2. Basics of NumPy\n",
        "3. Some plotting"
      ]
    },
    {
      "cell_type": "code",
      "execution_count": null,
      "metadata": {
        "id": "lfxRqqURCvO9"
      },
      "outputs": [],
      "source": [
        "import numpy"
      ]
    },
    {
      "cell_type": "markdown",
      "metadata": {
        "id": "BSXZ8WtvCvO_"
      },
      "source": [
        "## Bank Account example to illustrate Classes and Objects"
      ]
    },
    {
      "cell_type": "code",
      "execution_count": null,
      "metadata": {
        "id": "Icme0ZGkCvPA"
      },
      "outputs": [],
      "source": [
        "debits = []\n",
        "credits = []"
      ]
    },
    {
      "cell_type": "code",
      "execution_count": null,
      "metadata": {
        "id": "O1EkfnlGCvPA"
      },
      "outputs": [],
      "source": [
        "def add_to_debits(value):\n",
        "    global debits\n",
        "    #global here lets python know that we want our function to change a variable not explicitly given as an argument\n",
        "    #if we only want to read a variable, the 'global' keyword is not needed.\n",
        "    debits += [value]"
      ]
    },
    {
      "cell_type": "code",
      "execution_count": null,
      "metadata": {
        "id": "bafdEwz6CvPB"
      },
      "outputs": [],
      "source": [
        "def add_to_credits(value):\n",
        "    global credits\n",
        "    credits += [value]"
      ]
    },
    {
      "cell_type": "code",
      "execution_count": null,
      "metadata": {
        "id": "6ATysdBpCvPB"
      },
      "outputs": [],
      "source": [
        "add_to_credits(1000)\n",
        "add_to_debits(10)\n",
        "add_to_debits(15)\n",
        "add_to_debits(100)"
      ]
    },
    {
      "cell_type": "code",
      "execution_count": null,
      "metadata": {
        "id": "tuyrJZN_CvPC",
        "outputId": "db1854ab-8955-4c35-8e42-249f6932d38c",
        "colab": {
          "base_uri": "https://localhost:8080/"
        }
      },
      "outputs": [
        {
          "output_type": "execute_result",
          "data": {
            "text/plain": [
              "[10, 15, 100]"
            ]
          },
          "metadata": {},
          "execution_count": 6
        }
      ],
      "source": [
        "debits"
      ]
    },
    {
      "cell_type": "code",
      "execution_count": null,
      "metadata": {
        "id": "vcU4QoKyCvPD"
      },
      "outputs": [],
      "source": [
        "def total_value():\n",
        "    global debits\n",
        "    global credits\n",
        "    total =0 \n",
        "    for val in debits:\n",
        "        total-=val\n",
        "    for val in credits:\n",
        "        total+=val\n",
        "    return total"
      ]
    },
    {
      "cell_type": "code",
      "execution_count": null,
      "metadata": {
        "id": "MuBxdtKTCvPE",
        "outputId": "d4881134-a117-4756-f86c-96eb52a432a0",
        "colab": {
          "base_uri": "https://localhost:8080/"
        }
      },
      "outputs": [
        {
          "output_type": "execute_result",
          "data": {
            "text/plain": [
              "875"
            ]
          },
          "metadata": {},
          "execution_count": 8
        }
      ],
      "source": [
        "total_value()"
      ]
    },
    {
      "cell_type": "markdown",
      "metadata": {
        "id": "RA-XU43RCvPF"
      },
      "source": [
        "## Lets use Classes and Objects"
      ]
    },
    {
      "cell_type": "code",
      "execution_count": null,
      "metadata": {
        "id": "zXW_M-wdCvPF"
      },
      "outputs": [],
      "source": [
        "accounts = []\n",
        "class Account:\n",
        "    def __init__(self):\n",
        "        global accounts\n",
        "        self.debits = []\n",
        "        self.credits = []\n",
        "        accounts += [self]\n",
        "    \n",
        "    def add_to_debits(self,value):\n",
        "        if value < self.total_value():\n",
        "            self.debits += [value]\n",
        "            return True\n",
        "        else:\n",
        "            print(\"Insufficient Funds\")\n",
        "            return False\n",
        "    def add_to_credits(self,value):\n",
        "        self.credits += [value]\n",
        "    def total_value(self):\n",
        "        total = 0\n",
        "        for val in self.debits:\n",
        "            total -= val\n",
        "        for val in self.credits:\n",
        "            total += val\n",
        "        return total\n",
        "    def transfer(self,receiver, value):\n",
        "        if value > 0:\n",
        "            if self.add_to_debits(value):\n",
        "                receiver.add_to_credits(value)"
      ]
    },
    {
      "cell_type": "code",
      "execution_count": null,
      "metadata": {
        "id": "d7YMev0OCvPG",
        "outputId": "a9075702-abf1-4867-a0f4-394aca18af9a",
        "colab": {
          "base_uri": "https://localhost:8080/"
        }
      },
      "outputs": [
        {
          "output_type": "stream",
          "name": "stdout",
          "text": [
            "900\n",
            "800\n"
          ]
        }
      ],
      "source": [
        "me = Account()\n",
        "my_roommate = Account()\n",
        "me.add_to_credits(1000)\n",
        "me.add_to_debits(100)\n",
        "my_roommate.add_to_credits(500)\n",
        "my_roommate.debits\n",
        "print(me.total_value())\n",
        "me.transfer(my_roommate,100)\n",
        "print(me.total_value())\n"
      ]
    },
    {
      "cell_type": "markdown",
      "metadata": {
        "id": "ujR6OT5kCvPH"
      },
      "source": [
        "## Exercise 1\n",
        "\n",
        "### Add more functionality to the account class\n",
        "\n",
        "1. Add a check before debits to ensure funds are available\n",
        "\n",
        "2. Add a `transfer` function to your account class, which transfers money form one account to another.It should add to the debits of one account and to the credits of the other."
      ]
    },
    {
      "cell_type": "markdown",
      "metadata": {
        "id": "Tw3HW_P2CvPH"
      },
      "source": [
        "## Example: Rational Numbers\n",
        "\n",
        "Let's continue with our example of rational numbers (fractions), that is, numbers of the form\n",
        "$$r = \\frac{p}{q}$$\n",
        "where $p$ and $q$ are integers. Let's make it support addition using the formula:\n",
        "$$ \\frac{p_1}{q_1} + \\frac{p_2}{q_2} = \\frac{p_1 q_2 + p_2 q_1}{q_1 q_2}$$"
      ]
    },
    {
      "cell_type": "code",
      "execution_count": null,
      "metadata": {
        "id": "uodV1Yk4CvPH"
      },
      "outputs": [],
      "source": [
        ""
      ]
    },
    {
      "cell_type": "code",
      "execution_count": null,
      "metadata": {
        "id": "epbCROseCvPI"
      },
      "outputs": [],
      "source": [
        "import math\n",
        "\n",
        "class Rational:\n",
        "    def __init__(self, p, q=1):\n",
        "    \n",
        "        if q == 0:\n",
        "            raise ValueError('Denominator must not be zero')\n",
        "        if not isinstance(p, int):\n",
        "            raise TypeError('Numerator must be an integer')\n",
        "        if not isinstance(q, int):\n",
        "            raise TypeError('Denominator must be an integer')\n",
        "        \n",
        "        g = math.gcd(p, q)\n",
        "        \n",
        "        self.p = p // g\n",
        "        self.q = q // g\n",
        "    \n",
        "    # method to convert rational to float\n",
        "    def __float__(self):\n",
        "        return float(self.p) / float(self.q)    \n",
        "    \n",
        "    # method to convert rational to string for printing\n",
        "    def __str__(self):\n",
        "        return '%d / %d' % (self.p, self.q)\n",
        "    \n",
        "    # method to add two rationals - interprets self + other\n",
        "    def __add__(self, other):\n",
        "        if isinstance(other, Rational):\n",
        "            return Rational(self.p * other.q + other.p * self.q, self.q * other.q)\n",
        "        # -- if it's an integer...\n",
        "        elif isinstance(other, int):\n",
        "            return Rational(self.p + other * self.q, self.q)\n",
        "        # -- otherwise, we assume it will be a float\n",
        "        return float(self) + float(other)\n",
        "    \n",
        "    def __radd__(self, other): # interprets other + self\n",
        "        return self + other # addition commutes!\n",
        "    "
      ]
    },
    {
      "cell_type": "code",
      "execution_count": null,
      "metadata": {
        "id": "dnTGft7zCvPI",
        "outputId": "45277052-60e0-479e-9eca-c617540a9e6e",
        "colab": {
          "base_uri": "https://localhost:8080/"
        }
      },
      "outputs": [
        {
          "output_type": "stream",
          "name": "stdout",
          "text": [
            "3 / 4\n",
            "5 / 2\n"
          ]
        }
      ],
      "source": [
        "r1 = Rational(3,4)\n",
        "print(r1)\n",
        "r2 = Rational(5,2)\n",
        "print(r2)"
      ]
    },
    {
      "cell_type": "code",
      "execution_count": null,
      "metadata": {
        "id": "y-pWw-L8CvPJ",
        "outputId": "45973103-804d-402b-87fb-4160363743a3",
        "colab": {
          "base_uri": "https://localhost:8080/"
        }
      },
      "outputs": [
        {
          "output_type": "execute_result",
          "data": {
            "text/plain": [
              "<__main__.Rational at 0x7f187e1bb4d0>"
            ]
          },
          "metadata": {},
          "execution_count": 13
        }
      ],
      "source": [
        "# object\n",
        "r1"
      ]
    },
    {
      "cell_type": "code",
      "execution_count": null,
      "metadata": {
        "id": "iFce1AYMCvPJ",
        "outputId": "59c8e9d9-fb52-4440-eb20-b5d45e2ddc59",
        "colab": {
          "base_uri": "https://localhost:8080/"
        }
      },
      "outputs": [
        {
          "output_type": "stream",
          "name": "stdout",
          "text": [
            "13 / 4\n",
            "3.25\n"
          ]
        }
      ],
      "source": [
        "print( r1 + r2 )\n",
        "print( float( r1 + r2 ))"
      ]
    },
    {
      "cell_type": "code",
      "execution_count": null,
      "metadata": {
        "id": "2JM9ntIZCvPK",
        "outputId": "575fa5cc-67d2-4ed4-ea3d-3c897f03d61b",
        "colab": {
          "base_uri": "https://localhost:8080/"
        }
      },
      "outputs": [
        {
          "output_type": "stream",
          "name": "stdout",
          "text": [
            "15 / 4\n"
          ]
        }
      ],
      "source": [
        "#left add\n",
        "print( r1 + 3 )"
      ]
    },
    {
      "cell_type": "code",
      "execution_count": null,
      "metadata": {
        "id": "T6B6406aCvPK",
        "outputId": "f9fa8f88-a443-44be-b992-0a134f0b91c6",
        "colab": {
          "base_uri": "https://localhost:8080/"
        }
      },
      "outputs": [
        {
          "output_type": "stream",
          "name": "stdout",
          "text": [
            "15 / 4\n"
          ]
        }
      ],
      "source": [
        "#right add\n",
        "print( 3 + r1 )"
      ]
    },
    {
      "cell_type": "code",
      "execution_count": null,
      "metadata": {
        "id": "_STaItEGCvPK",
        "outputId": "eb6f1341-06af-4334-e945-28f4a8a3866f",
        "colab": {
          "base_uri": "https://localhost:8080/"
        }
      },
      "outputs": [
        {
          "output_type": "stream",
          "name": "stdout",
          "text": [
            "15 / 4\n"
          ]
        }
      ],
      "source": [
        "print(r1 + 3)"
      ]
    },
    {
      "cell_type": "code",
      "execution_count": null,
      "metadata": {
        "id": "GKSIyOp7CvPL",
        "outputId": "5f4f5b88-fb23-4c1f-f38f-9dff30be807e",
        "colab": {
          "base_uri": "https://localhost:8080/"
        }
      },
      "outputs": [
        {
          "output_type": "stream",
          "name": "stdout",
          "text": [
            "15 / 4\n"
          ]
        }
      ],
      "source": [
        "print(r1.__add__(3))"
      ]
    },
    {
      "cell_type": "markdown",
      "metadata": {
        "id": "8qNxvjuzCvPL"
      },
      "source": [
        "# Exercise 2 (Solved)\n",
        "\n",
        "### Add more operations to `Rational`\n",
        "You can read about the available operations that you can overload [here](https://docs.python.org/3.7/reference/datamodel.html#emulating-numeric-types)\n",
        "\n",
        "Add the following operations to the `Rational` class:\n",
        "* `*` - use `__mul__`\n",
        "* `/` - use `__truediv__`\n",
        "* `-` - use `__sub__`\n",
        "\n",
        "You only need to define these operations between two `Rational` types - use an `if isinstance(other, Rational):` block.\n",
        "\n",
        "Make a few examples to convince yourself that this works.\n",
        "\n"
      ]
    },
    {
      "cell_type": "code",
      "execution_count": null,
      "metadata": {
        "id": "j7fGuMZYCvPM"
      },
      "outputs": [],
      "source": [
        "class Rational:\n",
        "    def __init__(self, p, q=1):\n",
        "    \n",
        "        if q == 0:\n",
        "            raise ValueError('Denominator must not be zero')\n",
        "        if not isinstance(p, int):\n",
        "            raise TypeError('Numerator must be an integer')\n",
        "        if not isinstance(q, int):\n",
        "            raise TypeError('Denominator must be an integer')\n",
        "        \n",
        "        g = math.gcd(p, q)\n",
        "        \n",
        "        self.p = p // g\n",
        "        self.q = q // g\n",
        "    \n",
        "    # method to convert rational to float\n",
        "    def __float__(self):\n",
        "        return float(self.p) / float(self.q)    \n",
        "    \n",
        "    # method to convert rational to string for printing\n",
        "    def __str__(self):\n",
        "        return '%d / %d' % (self.p, self.q)\n",
        "    \n",
        "    # method to add two rationals - interprets self + other\n",
        "    def __add__(self, other):\n",
        "        if isinstance(other, Rational):\n",
        "            return Rational(self.p * other.q + other.p * self.q, self.q * other.q)\n",
        "        # -- if it's an integer...\n",
        "        elif isinstance(other, int):\n",
        "            return Rational(self.p + other * self.q, self.q)\n",
        "        # -- otherwise, we assume it will be a float\n",
        "        return float(self) + float(other)\n",
        "    \n",
        "    def __radd__(self, other): # interprets other + self\n",
        "        return self + other # addition commutes!\n",
        "    \n",
        "    # subtraction\n",
        "    def __sub__(self, other):\n",
        "        if isinstance(other, Rational):\n",
        "            return self + Rational(-other.p,other.q)\n",
        "        elif isinstance(other, int):\n",
        "            return self + (-other)\n",
        "    \n",
        "    # multiplication\n",
        "    def __mul__(self, other):\n",
        "        if isinstance(other, Rational):\n",
        "            return Rational(self.p*other.p,self.q*other.q)\n",
        "        elif isinstance(other, int):\n",
        "            return Rational(self.p*other,self.q)\n",
        "        \n",
        "    # division\n",
        "    def __truediv__(self, other):\n",
        "        if isinstance(other, Rational):\n",
        "            return Rational(self.p*other.q,self.q*other.p)\n",
        "        elif isinstance(other, int):\n",
        "            return Rational(self.p,self.q*other)\n",
        "        \n",
        "    def __repr__(self):\n",
        "        return self.__str__()\n",
        "    \n",
        "    def __rmul__(self, other):\n",
        "        return self*other;\n",
        "    "
      ]
    },
    {
      "cell_type": "code",
      "execution_count": null,
      "metadata": {
        "id": "xEAlrvEfCvPM"
      },
      "outputs": [],
      "source": [
        "# Write some examples to test your code"
      ]
    },
    {
      "cell_type": "code",
      "execution_count": null,
      "metadata": {
        "id": "h0o24OrBCvPM",
        "outputId": "ccd7376e-af97-41f9-e854-c35aabafde3f",
        "colab": {
          "base_uri": "https://localhost:8080/"
        }
      },
      "outputs": [
        {
          "output_type": "stream",
          "name": "stdout",
          "text": [
            "3 / 4\n",
            "5 / 2\n"
          ]
        }
      ],
      "source": [
        "r1 = Rational(3,4)\n",
        "print(r1)\n",
        "r2 = Rational(5,2)\n",
        "print(r2)"
      ]
    },
    {
      "cell_type": "code",
      "execution_count": null,
      "metadata": {
        "id": "jbz4cRn9CvPN",
        "outputId": "c0c900ed-b60f-4467-ae5b-cf20bc58c9bf",
        "colab": {
          "base_uri": "https://localhost:8080/"
        }
      },
      "outputs": [
        {
          "output_type": "execute_result",
          "data": {
            "text/plain": [
              "3 / 4"
            ]
          },
          "metadata": {},
          "execution_count": 22
        }
      ],
      "source": [
        "r1"
      ]
    },
    {
      "cell_type": "code",
      "execution_count": null,
      "metadata": {
        "id": "apW1jz43CvPN",
        "outputId": "b2bee2e9-c92d-4573-8e47-fe143068eba6",
        "colab": {
          "base_uri": "https://localhost:8080/"
        }
      },
      "outputs": [
        {
          "output_type": "execute_result",
          "data": {
            "text/plain": [
              "15 / 8"
            ]
          },
          "metadata": {},
          "execution_count": 23
        }
      ],
      "source": [
        "r1*r2"
      ]
    },
    {
      "cell_type": "code",
      "execution_count": null,
      "metadata": {
        "id": "UMKuSTvnCvPN",
        "outputId": "b8923c1a-d16f-451e-e292-c4330e93ab5f",
        "colab": {
          "base_uri": "https://localhost:8080/"
        }
      },
      "outputs": [
        {
          "output_type": "execute_result",
          "data": {
            "text/plain": [
              "-7 / 4"
            ]
          },
          "metadata": {},
          "execution_count": 24
        }
      ],
      "source": [
        "r1-r2"
      ]
    },
    {
      "cell_type": "code",
      "execution_count": null,
      "metadata": {
        "id": "sbQMiN0xCvPN",
        "outputId": "c5e79ea6-a091-47fd-ec73-de42f02c4509",
        "colab": {
          "base_uri": "https://localhost:8080/"
        }
      },
      "outputs": [
        {
          "output_type": "execute_result",
          "data": {
            "text/plain": [
              "3 / 10"
            ]
          },
          "metadata": {},
          "execution_count": 25
        }
      ],
      "source": [
        "r1/r2"
      ]
    },
    {
      "cell_type": "code",
      "execution_count": null,
      "metadata": {
        "id": "zHaFsWy0CvPO",
        "outputId": "468fcd39-d52d-43eb-903d-9bb9fa458fac",
        "colab": {
          "base_uri": "https://localhost:8080/"
        }
      },
      "outputs": [
        {
          "output_type": "execute_result",
          "data": {
            "text/plain": [
              "40 / 3"
            ]
          },
          "metadata": {},
          "execution_count": 26
        }
      ],
      "source": [
        "Rational(10,1)/r1"
      ]
    },
    {
      "cell_type": "markdown",
      "metadata": {
        "id": "tTGGkpXlCvPO"
      },
      "source": [
        "# Exercise 3\n",
        "## Square root of rationals using the Babylonian method\n",
        "\n",
        "Implement the [Babylonian Method](https://en.wikipedia.org/wiki/Methods_of_computing_square_roots#Babylonian_method) for computing the square root of a number $S$."
      ]
    },
    {
      "cell_type": "code",
      "execution_count": null,
      "metadata": {
        "id": "eNoAWbGECvPO"
      },
      "outputs": [],
      "source": [
        "def babylonian(S, num_iters=5):\n",
        "    if isinstance(S,int):\n",
        "        x = Rational(S,1)\n",
        "        S = Rational(S,1)\n",
        "    elif isinstance(S,Rational):\n",
        "        x = S\n",
        "    else:\n",
        "        return False\n",
        "    for i in range(num_iters):\n",
        "        x = (x + S/x)*Rational(1,2)\n",
        "    return x\n"
      ]
    },
    {
      "cell_type": "code",
      "execution_count": null,
      "metadata": {
        "id": "Fc5w5bl2CvPO",
        "outputId": "b0345de2-96e5-4402-d670-6e7d11ed5f83",
        "colab": {
          "base_uri": "https://localhost:8080/"
        }
      },
      "outputs": [
        {
          "output_type": "execute_result",
          "data": {
            "text/plain": [
              "4.898979485566356"
            ]
          },
          "metadata": {},
          "execution_count": 28
        }
      ],
      "source": [
        "math.sqrt(24)"
      ]
    },
    {
      "cell_type": "code",
      "execution_count": null,
      "metadata": {
        "id": "0MH-7etsCvPP",
        "outputId": "233de069-d16a-4dbc-de71-35a0e7647d76",
        "colab": {
          "base_uri": "https://localhost:8080/"
        }
      },
      "outputs": [
        {
          "output_type": "execute_result",
          "data": {
            "text/plain": [
              "2311165874307293063928961 / 471763097753703241152800"
            ]
          },
          "metadata": {},
          "execution_count": 29
        }
      ],
      "source": [
        "babylonian(24,num_iters=5)"
      ]
    },
    {
      "cell_type": "code",
      "execution_count": null,
      "metadata": {
        "id": "70tXeGdpCvPP",
        "outputId": "ad943575-1e8b-44c3-b2cc-af4713aa9c20",
        "colab": {
          "base_uri": "https://localhost:8080/"
        }
      },
      "outputs": [
        {
          "output_type": "execute_result",
          "data": {
            "text/plain": [
              "552213837121960323152649601 / 414160377841470242364487200"
            ]
          },
          "metadata": {},
          "execution_count": 30
        }
      ],
      "source": [
        "babylonian(Rational(16,9))"
      ]
    },
    {
      "cell_type": "code",
      "execution_count": null,
      "metadata": {
        "id": "FxY4ozqYCvPP"
      },
      "outputs": [],
      "source": [
        ""
      ]
    },
    {
      "cell_type": "markdown",
      "metadata": {
        "id": "IfPiZvbLCvPP"
      },
      "source": [
        "# NumPy\n",
        "This is a good segue into NumPy. Python provides only a handful of numeric types: ints, longs, floats, and complex numbers. We just declared a class that implements rational numbers. NumPy implements one very useful numeric type: multidimensional arrays."
      ]
    },
    {
      "cell_type": "code",
      "execution_count": null,
      "metadata": {
        "id": "_pb-BaHjCvPQ",
        "outputId": "e38e2f5f-a932-4df4-d12b-ad60d479b9f7",
        "colab": {
          "base_uri": "https://localhost:8080/"
        }
      },
      "outputs": [
        {
          "output_type": "execute_result",
          "data": {
            "text/plain": [
              "-0.9589242746631385"
            ]
          },
          "metadata": {},
          "execution_count": 31
        }
      ],
      "source": [
        "# Quick note on importing\n",
        "import math\n",
        "math.sin(5)"
      ]
    },
    {
      "cell_type": "code",
      "execution_count": null,
      "metadata": {
        "id": "G2tqLwnLCvPQ",
        "outputId": "860f88d7-1157-4338-90c9-afefb0d91383",
        "colab": {
          "base_uri": "https://localhost:8080/"
        }
      },
      "outputs": [
        {
          "output_type": "execute_result",
          "data": {
            "text/plain": [
              "-0.9589242746631385"
            ]
          },
          "metadata": {},
          "execution_count": 32
        }
      ],
      "source": [
        "import math as m\n",
        "m.sin(5)"
      ]
    },
    {
      "cell_type": "code",
      "execution_count": null,
      "metadata": {
        "id": "kWXdHzRECvPQ"
      },
      "outputs": [],
      "source": [
        "import numpy as np"
      ]
    },
    {
      "cell_type": "code",
      "execution_count": null,
      "metadata": {
        "id": "1JA9-KcxCvPQ",
        "outputId": "de1cd04c-e642-4d15-9aaa-9982246b7873",
        "colab": {
          "base_uri": "https://localhost:8080/"
        }
      },
      "outputs": [
        {
          "output_type": "execute_result",
          "data": {
            "text/plain": [
              "array([[0, 1],\n",
              "       [1, 5]])"
            ]
          },
          "metadata": {},
          "execution_count": 34
        }
      ],
      "source": [
        "x = np.array([[0, 1], [1, 5]])\n",
        "x"
      ]
    },
    {
      "cell_type": "code",
      "execution_count": null,
      "metadata": {
        "id": "ZZbowP_JCvPQ",
        "outputId": "18c47a3a-d1d3-4aa4-813d-1558db76bf9a",
        "colab": {
          "base_uri": "https://localhost:8080/"
        }
      },
      "outputs": [
        {
          "output_type": "execute_result",
          "data": {
            "text/plain": [
              "array([[4, 0],\n",
              "       [0, 4]])"
            ]
          },
          "metadata": {},
          "execution_count": 35
        }
      ],
      "source": [
        "y = np.array([[4, 0], [0, 4]])\n",
        "y"
      ]
    },
    {
      "cell_type": "code",
      "execution_count": null,
      "metadata": {
        "id": "PYBT4EVyCvPR",
        "outputId": "86d66e14-0df8-44f3-81af-d20326b65164",
        "colab": {
          "base_uri": "https://localhost:8080/"
        }
      },
      "outputs": [
        {
          "output_type": "execute_result",
          "data": {
            "text/plain": [
              "array([[4, 1],\n",
              "       [1, 9]])"
            ]
          },
          "metadata": {},
          "execution_count": 36
        }
      ],
      "source": [
        "x + y"
      ]
    },
    {
      "cell_type": "code",
      "execution_count": null,
      "metadata": {
        "id": "zKM52gfACvPR",
        "outputId": "e09cb896-08dd-4664-801c-911e72670d0c",
        "colab": {
          "base_uri": "https://localhost:8080/"
        }
      },
      "outputs": [
        {
          "output_type": "execute_result",
          "data": {
            "text/plain": [
              "array([[ 0,  1],\n",
              "       [ 1, 25]])"
            ]
          },
          "metadata": {},
          "execution_count": 37
        }
      ],
      "source": [
        "x ** 2"
      ]
    },
    {
      "cell_type": "code",
      "execution_count": null,
      "metadata": {
        "id": "Jx7e_jnNCvPR",
        "outputId": "fd58bfcf-125b-42cd-b59f-99c4d2b86aed",
        "colab": {
          "base_uri": "https://localhost:8080/"
        }
      },
      "outputs": [
        {
          "output_type": "execute_result",
          "data": {
            "text/plain": [
              "array([[ 0,  4],\n",
              "       [ 4, 20]])"
            ]
          },
          "metadata": {},
          "execution_count": 38
        }
      ],
      "source": [
        "x @ y  # Matrix multiplication"
      ]
    },
    {
      "cell_type": "code",
      "execution_count": null,
      "metadata": {
        "id": "yIKCpknICvPR",
        "outputId": "c5355d4f-e6a5-4593-aade-1fb7fdfea70e",
        "colab": {
          "base_uri": "https://localhost:8080/"
        }
      },
      "outputs": [
        {
          "output_type": "execute_result",
          "data": {
            "text/plain": [
              "7"
            ]
          },
          "metadata": {},
          "execution_count": 39
        }
      ],
      "source": [
        "np.sum(x)"
      ]
    },
    {
      "cell_type": "markdown",
      "metadata": {
        "id": "G5PAfDofCvPS"
      },
      "source": [
        "### Why NumPy?"
      ]
    },
    {
      "cell_type": "code",
      "execution_count": null,
      "metadata": {
        "id": "P_GbCqDZCvPS",
        "outputId": "36af7062-7912-4942-c350-b97f70436a1f",
        "colab": {
          "base_uri": "https://localhost:8080/"
        }
      },
      "outputs": [
        {
          "output_type": "stream",
          "name": "stdout",
          "text": [
            "100 loops, best of 5: 3.48 ms per loop\n"
          ]
        }
      ],
      "source": [
        "%%timeit\n",
        "x = np.random.rand(10000)\n",
        "y = np.random.rand(10000)\n",
        "z=0\n",
        "for i in range(10000):\n",
        "    z += x[i]*y[i]"
      ]
    },
    {
      "cell_type": "code",
      "execution_count": null,
      "metadata": {
        "id": "JXcAEGF9CvPS",
        "outputId": "8f474126-d306-4483-f24f-e4f7f7135d33",
        "colab": {
          "base_uri": "https://localhost:8080/"
        }
      },
      "outputs": [
        {
          "output_type": "stream",
          "name": "stdout",
          "text": [
            "1000 loops, best of 5: 310 µs per loop\n"
          ]
        }
      ],
      "source": [
        "%%timeit\n",
        "x = np.random.rand(10000)\n",
        "y = np.random.rand(10000)\n",
        "z = np.dot(x,y)"
      ]
    },
    {
      "cell_type": "markdown",
      "metadata": {
        "id": "2ddzhoXBCvPS"
      },
      "source": [
        "## NumPy functions for creating arrays"
      ]
    },
    {
      "cell_type": "code",
      "execution_count": null,
      "metadata": {
        "id": "JK22rXSHCvPS",
        "outputId": "7c5f6a21-ceb7-4540-d05a-66a8eb2fe4df",
        "colab": {
          "base_uri": "https://localhost:8080/"
        }
      },
      "outputs": [
        {
          "output_type": "execute_result",
          "data": {
            "text/plain": [
              "array([[0., 0., 0., 0., 0., 0., 0., 0., 0., 0.],\n",
              "       [0., 0., 0., 0., 0., 0., 0., 0., 0., 0.],\n",
              "       [0., 0., 0., 0., 0., 0., 0., 0., 0., 0.],\n",
              "       [0., 0., 0., 0., 0., 0., 0., 0., 0., 0.],\n",
              "       [0., 0., 0., 0., 0., 0., 0., 0., 0., 0.],\n",
              "       [0., 0., 0., 0., 0., 0., 0., 0., 0., 0.],\n",
              "       [0., 0., 0., 0., 0., 0., 0., 0., 0., 0.],\n",
              "       [0., 0., 0., 0., 0., 0., 0., 0., 0., 0.],\n",
              "       [0., 0., 0., 0., 0., 0., 0., 0., 0., 0.],\n",
              "       [0., 0., 0., 0., 0., 0., 0., 0., 0., 0.]])"
            ]
          },
          "metadata": {},
          "execution_count": 42
        }
      ],
      "source": [
        "X=np.zeros((10,10))\n",
        "X"
      ]
    },
    {
      "cell_type": "code",
      "execution_count": null,
      "metadata": {
        "id": "h3RXa7D3CvPT",
        "outputId": "e89a129e-60fe-47e1-b111-c41cafddf1a8",
        "colab": {
          "base_uri": "https://localhost:8080/"
        }
      },
      "outputs": [
        {
          "output_type": "execute_result",
          "data": {
            "text/plain": [
              "(10, 10)"
            ]
          },
          "metadata": {},
          "execution_count": 43
        }
      ],
      "source": [
        "X.shape"
      ]
    },
    {
      "cell_type": "code",
      "execution_count": null,
      "metadata": {
        "id": "03aLo3eKCvPT",
        "outputId": "aac3ea58-7380-4665-8d02-89b4c7bc4e55",
        "colab": {
          "base_uri": "https://localhost:8080/"
        }
      },
      "outputs": [
        {
          "output_type": "execute_result",
          "data": {
            "text/plain": [
              "array([[1., 1., 1., 1., 1., 1., 1., 1., 1., 1.],\n",
              "       [1., 1., 1., 1., 1., 1., 1., 1., 1., 1.],\n",
              "       [1., 1., 1., 1., 1., 1., 1., 1., 1., 1.],\n",
              "       [1., 1., 1., 1., 1., 1., 1., 1., 1., 1.],\n",
              "       [1., 1., 1., 1., 1., 1., 1., 1., 1., 1.],\n",
              "       [1., 1., 1., 1., 1., 1., 1., 1., 1., 1.],\n",
              "       [1., 1., 1., 1., 1., 1., 1., 1., 1., 1.],\n",
              "       [1., 1., 1., 1., 1., 1., 1., 1., 1., 1.],\n",
              "       [1., 1., 1., 1., 1., 1., 1., 1., 1., 1.],\n",
              "       [1., 1., 1., 1., 1., 1., 1., 1., 1., 1.]])"
            ]
          },
          "metadata": {},
          "execution_count": 44
        }
      ],
      "source": [
        "Y=np.ones((10,10))\n",
        "Y"
      ]
    },
    {
      "cell_type": "code",
      "execution_count": null,
      "metadata": {
        "id": "ylqqPE9CCvPT",
        "outputId": "277f1254-8232-4620-9111-7c54513deb37",
        "colab": {
          "base_uri": "https://localhost:8080/"
        }
      },
      "outputs": [
        {
          "output_type": "execute_result",
          "data": {
            "text/plain": [
              "array([[5., 5., 5., 5., 5., 5., 5., 5., 5., 5.],\n",
              "       [5., 5., 5., 5., 5., 5., 5., 5., 5., 5.],\n",
              "       [5., 5., 5., 5., 5., 5., 5., 5., 5., 5.],\n",
              "       [5., 5., 5., 5., 5., 5., 5., 5., 5., 5.],\n",
              "       [5., 5., 5., 5., 5., 5., 5., 5., 5., 5.],\n",
              "       [5., 5., 5., 5., 5., 5., 5., 5., 5., 5.],\n",
              "       [5., 5., 5., 5., 5., 5., 5., 5., 5., 5.],\n",
              "       [5., 5., 5., 5., 5., 5., 5., 5., 5., 5.],\n",
              "       [5., 5., 5., 5., 5., 5., 5., 5., 5., 5.],\n",
              "       [5., 5., 5., 5., 5., 5., 5., 5., 5., 5.]])"
            ]
          },
          "metadata": {},
          "execution_count": 45
        }
      ],
      "source": [
        "2*Y+3"
      ]
    },
    {
      "cell_type": "code",
      "execution_count": null,
      "metadata": {
        "id": "1fm1DGNvCvPT",
        "outputId": "88725e8c-a68d-425d-9f73-fdb496550692",
        "colab": {
          "base_uri": "https://localhost:8080/"
        }
      },
      "outputs": [
        {
          "output_type": "execute_result",
          "data": {
            "text/plain": [
              "array([[0.01141694, 0.76452197, 0.74432731, 0.46452833, 0.11411273],\n",
              "       [0.4714619 , 0.66907612, 0.02906084, 0.42602073, 0.09474637],\n",
              "       [0.19130854, 0.55910957, 0.21425894, 0.95594435, 0.98969882],\n",
              "       [0.3865959 , 0.41057276, 0.13125063, 0.9984248 , 0.858322  ],\n",
              "       [0.5565225 , 0.36289908, 0.72370657, 0.01790724, 0.21251104]])"
            ]
          },
          "metadata": {},
          "execution_count": 46
        }
      ],
      "source": [
        "R=np.random.rand(5,5)\n",
        "R"
      ]
    },
    {
      "cell_type": "code",
      "execution_count": null,
      "metadata": {
        "id": "vJUz09tsCvPT",
        "outputId": "81dbf538-fa05-489f-cd93-49b632c43454",
        "colab": {
          "base_uri": "https://localhost:8080/"
        }
      },
      "outputs": [
        {
          "output_type": "execute_result",
          "data": {
            "text/plain": [
              "array([[ 0.78795802, -1.86699651, -0.57326076, -0.3641766 ,  0.53057763],\n",
              "       [ 0.10783275,  1.7609741 ,  0.56904729,  0.30900886,  0.66060021],\n",
              "       [-1.0726031 ,  1.89494555,  0.0478094 , -1.93672551, -0.49269193],\n",
              "       [-0.05921968, -1.96864891,  1.72617461, -1.48176157,  0.1225056 ],\n",
              "       [-0.15868735,  0.26835123,  1.07878686,  0.69641212,  0.29269213]])"
            ]
          },
          "metadata": {},
          "execution_count": 47
        }
      ],
      "source": [
        "Rn = np.random.randn(5,5)\n",
        "Rn"
      ]
    },
    {
      "cell_type": "code",
      "execution_count": null,
      "metadata": {
        "id": "2jfQKW7cCvPU",
        "outputId": "2b703cab-c473-42af-a4b5-3c05f1915950",
        "colab": {
          "base_uri": "https://localhost:8080/"
        }
      },
      "outputs": [
        {
          "output_type": "execute_result",
          "data": {
            "text/plain": [
              "array([ 1,  3,  5,  7,  9, 11, 13, 15, 17, 19, 21, 23, 25, 27, 29, 31, 33,\n",
              "       35, 37, 39, 41, 43, 45, 47, 49, 51, 53, 55, 57, 59, 61, 63, 65, 67,\n",
              "       69, 71, 73, 75, 77, 79, 81, 83, 85, 87, 89, 91, 93, 95, 97, 99])"
            ]
          },
          "metadata": {},
          "execution_count": 48
        }
      ],
      "source": [
        "#1 row, 100 columns, increment value by 2\n",
        "np.arange(1,100,2)"
      ]
    },
    {
      "cell_type": "code",
      "execution_count": null,
      "metadata": {
        "id": "4C_Lv7cuCvPU",
        "outputId": "2f691a7a-6c2e-451d-81f1-32a192f252e4",
        "colab": {
          "base_uri": "https://localhost:8080/"
        }
      },
      "outputs": [
        {
          "output_type": "execute_result",
          "data": {
            "text/plain": [
              "array([0.        , 0.55555556, 1.11111111, 1.66666667, 2.22222222,\n",
              "       2.77777778, 3.33333333, 3.88888889, 4.44444444, 5.        ])"
            ]
          },
          "metadata": {},
          "execution_count": 49
        }
      ],
      "source": [
        "np.linspace(0,5,10)"
      ]
    },
    {
      "cell_type": "code",
      "execution_count": null,
      "metadata": {
        "id": "tPzy7ItUCvPU",
        "outputId": "5ed20d7e-bf33-4f41-b444-6f4025e9e944",
        "colab": {
          "base_uri": "https://localhost:8080/"
        }
      },
      "outputs": [
        {
          "output_type": "execute_result",
          "data": {
            "text/plain": [
              "array([ 0,  1,  2,  3,  4,  5,  6,  7,  8,  9, 10, 11, 12, 13, 14, 15, 16,\n",
              "       17, 18, 19, 20, 21, 22, 23, 24, 25, 26, 27, 28, 29, 30, 31, 32, 33,\n",
              "       34, 35, 36, 37, 38, 39, 40, 41, 42, 43, 44, 45, 46, 47, 48, 49, 50,\n",
              "       51, 52, 53, 54, 55, 56, 57, 58, 59, 60, 61, 62, 63, 64, 65, 66, 67,\n",
              "       68, 69, 70, 71, 72, 73, 74, 75, 76, 77, 78, 79, 80, 81, 82, 83, 84,\n",
              "       85, 86, 87, 88, 89, 90, 91, 92, 93, 94, 95, 96, 97, 98, 99])"
            ]
          },
          "metadata": {},
          "execution_count": 50
        }
      ],
      "source": [
        "X = np.arange(0,100)\n",
        "X"
      ]
    },
    {
      "cell_type": "code",
      "execution_count": null,
      "metadata": {
        "id": "oF6IttirCvPU",
        "outputId": "424ceda3-4ca3-4845-e668-69f2f3775dcb",
        "colab": {
          "base_uri": "https://localhost:8080/"
        }
      },
      "outputs": [
        {
          "output_type": "execute_result",
          "data": {
            "text/plain": [
              "array([[ 0,  1,  2,  3,  4,  5,  6,  7,  8,  9],\n",
              "       [10, 11, 12, 13, 14, 15, 16, 17, 18, 19],\n",
              "       [20, 21, 22, 23, 24, 25, 26, 27, 28, 29],\n",
              "       [30, 31, 32, 33, 34, 35, 36, 37, 38, 39],\n",
              "       [40, 41, 42, 43, 44, 45, 46, 47, 48, 49],\n",
              "       [50, 51, 52, 53, 54, 55, 56, 57, 58, 59],\n",
              "       [60, 61, 62, 63, 64, 65, 66, 67, 68, 69],\n",
              "       [70, 71, 72, 73, 74, 75, 76, 77, 78, 79],\n",
              "       [80, 81, 82, 83, 84, 85, 86, 87, 88, 89],\n",
              "       [90, 91, 92, 93, 94, 95, 96, 97, 98, 99]])"
            ]
          },
          "metadata": {},
          "execution_count": 51
        }
      ],
      "source": [
        "X.reshape((10,10))"
      ]
    },
    {
      "cell_type": "markdown",
      "metadata": {
        "id": "NNpH1IRKCvPX"
      },
      "source": [
        "# Exercise 4\n",
        "\n",
        "## Numpy Array construction\n",
        "\n",
        "1. 5 by 10 array with all elements random between 50 and 100.\n",
        "2. All numbers between 50 and 51, separated by 0.01"
      ]
    },
    {
      "cell_type": "code",
      "execution_count": null,
      "metadata": {
        "id": "z--zxfK0CvPX",
        "outputId": "8a349a48-f0eb-411b-db48-bdc7cca3a9d7",
        "colab": {
          "base_uri": "https://localhost:8080/"
        }
      },
      "outputs": [
        {
          "output_type": "execute_result",
          "data": {
            "text/plain": [
              "array([[82.6253236 , 81.15742747, 67.51706922, 67.00639216, 73.86683238,\n",
              "        77.37487569, 96.48737037, 90.70279414, 57.06776455, 77.149086  ],\n",
              "       [54.68304674, 79.59787576, 56.02272974, 79.90773709, 97.9451281 ,\n",
              "        84.21173925, 90.02206357, 82.7918258 , 89.5171269 , 65.83790049],\n",
              "       [79.07317445, 77.49573269, 52.80295041, 80.87900393, 98.81775706,\n",
              "        87.78243507, 81.72762647, 79.78060792, 62.15420085, 72.46952926],\n",
              "       [93.18998445, 52.11335062, 57.34170094, 55.02239533, 65.07748607,\n",
              "        75.59243892, 63.04225712, 65.32653217, 86.22271163, 51.30206668],\n",
              "       [51.20999944, 86.51413208, 95.38167965, 72.92510372, 57.25581625,\n",
              "        97.93485269, 64.97687118, 65.57226239, 72.89653783, 81.97876688]])"
            ]
          },
          "metadata": {},
          "execution_count": 52
        }
      ],
      "source": [
        "# 5 by 10 array with all elements random between 50 and 100.\n",
        "np.random.choice(range(50,100),size=(5,10))\n",
        "#this gives random integers between 50 and 100. alternatively, for floating point values,\n",
        "np.random.rand(5,10)*50 + 50"
      ]
    },
    {
      "cell_type": "code",
      "execution_count": null,
      "metadata": {
        "id": "BI3RxE4uCvPY",
        "outputId": "6e8020bd-7021-484a-e5cc-bcc9a06a2a0b",
        "colab": {
          "base_uri": "https://localhost:8080/"
        }
      },
      "outputs": [
        {
          "output_type": "execute_result",
          "data": {
            "text/plain": [
              "array([50.  , 50.01, 50.02, 50.03, 50.04, 50.05, 50.06, 50.07, 50.08,\n",
              "       50.09, 50.1 , 50.11, 50.12, 50.13, 50.14, 50.15, 50.16, 50.17,\n",
              "       50.18, 50.19, 50.2 , 50.21, 50.22, 50.23, 50.24, 50.25, 50.26,\n",
              "       50.27, 50.28, 50.29, 50.3 , 50.31, 50.32, 50.33, 50.34, 50.35,\n",
              "       50.36, 50.37, 50.38, 50.39, 50.4 , 50.41, 50.42, 50.43, 50.44,\n",
              "       50.45, 50.46, 50.47, 50.48, 50.49, 50.5 , 50.51, 50.52, 50.53,\n",
              "       50.54, 50.55, 50.56, 50.57, 50.58, 50.59, 50.6 , 50.61, 50.62,\n",
              "       50.63, 50.64, 50.65, 50.66, 50.67, 50.68, 50.69, 50.7 , 50.71,\n",
              "       50.72, 50.73, 50.74, 50.75, 50.76, 50.77, 50.78, 50.79, 50.8 ,\n",
              "       50.81, 50.82, 50.83, 50.84, 50.85, 50.86, 50.87, 50.88, 50.89,\n",
              "       50.9 , 50.91, 50.92, 50.93, 50.94, 50.95, 50.96, 50.97, 50.98,\n",
              "       50.99, 51.  ])"
            ]
          },
          "metadata": {},
          "execution_count": 53
        }
      ],
      "source": [
        "# All numbers between 50 and 51, separated by 0.01\n",
        "np.linspace(50,51,101) \n",
        "#note 101 here: linspace uses both endpoints"
      ]
    },
    {
      "cell_type": "markdown",
      "metadata": {
        "id": "lGbsgDLgCvPZ"
      },
      "source": [
        "# Plotting\n",
        "\n",
        "We will see some functions to do some quick plotting, we will come back to this library later."
      ]
    },
    {
      "cell_type": "code",
      "execution_count": null,
      "metadata": {
        "id": "aAwkjhOcCvPZ"
      },
      "outputs": [],
      "source": [
        "#we'll start here for lecture 3\n",
        "import matplotlib.pyplot as plt"
      ]
    },
    {
      "cell_type": "code",
      "execution_count": null,
      "metadata": {
        "id": "H14jBWbkCvPZ",
        "colab": {
          "base_uri": "https://localhost:8080/"
        },
        "outputId": "cf08822a-e03f-4621-f7a9-62b8d51d6773"
      },
      "outputs": [
        {
          "output_type": "execute_result",
          "data": {
            "text/plain": [
              "array([-5.        , -4.8989899 , -4.7979798 , -4.6969697 , -4.5959596 ,\n",
              "       -4.49494949, -4.39393939, -4.29292929, -4.19191919, -4.09090909,\n",
              "       -3.98989899, -3.88888889, -3.78787879, -3.68686869, -3.58585859,\n",
              "       -3.48484848, -3.38383838, -3.28282828, -3.18181818, -3.08080808,\n",
              "       -2.97979798, -2.87878788, -2.77777778, -2.67676768, -2.57575758,\n",
              "       -2.47474747, -2.37373737, -2.27272727, -2.17171717, -2.07070707,\n",
              "       -1.96969697, -1.86868687, -1.76767677, -1.66666667, -1.56565657,\n",
              "       -1.46464646, -1.36363636, -1.26262626, -1.16161616, -1.06060606,\n",
              "       -0.95959596, -0.85858586, -0.75757576, -0.65656566, -0.55555556,\n",
              "       -0.45454545, -0.35353535, -0.25252525, -0.15151515, -0.05050505,\n",
              "        0.05050505,  0.15151515,  0.25252525,  0.35353535,  0.45454545,\n",
              "        0.55555556,  0.65656566,  0.75757576,  0.85858586,  0.95959596,\n",
              "        1.06060606,  1.16161616,  1.26262626,  1.36363636,  1.46464646,\n",
              "        1.56565657,  1.66666667,  1.76767677,  1.86868687,  1.96969697,\n",
              "        2.07070707,  2.17171717,  2.27272727,  2.37373737,  2.47474747,\n",
              "        2.57575758,  2.67676768,  2.77777778,  2.87878788,  2.97979798,\n",
              "        3.08080808,  3.18181818,  3.28282828,  3.38383838,  3.48484848,\n",
              "        3.58585859,  3.68686869,  3.78787879,  3.88888889,  3.98989899,\n",
              "        4.09090909,  4.19191919,  4.29292929,  4.39393939,  4.49494949,\n",
              "        4.5959596 ,  4.6969697 ,  4.7979798 ,  4.8989899 ,  5.        ])"
            ]
          },
          "metadata": {},
          "execution_count": 55
        }
      ],
      "source": [
        "x = np.linspace(-5,5,100)\n",
        "x"
      ]
    },
    {
      "cell_type": "code",
      "execution_count": null,
      "metadata": {
        "id": "Q9qNQHPjCvPa",
        "colab": {
          "base_uri": "https://localhost:8080/"
        },
        "outputId": "3fa6abe9-148c-4c2c-9c53-7ab65973791d"
      },
      "outputs": [
        {
          "output_type": "execute_result",
          "data": {
            "text/plain": [
              "array([2.50000000e+01, 2.40001020e+01, 2.30206101e+01, 2.20615243e+01,\n",
              "       2.11228446e+01, 2.02045710e+01, 1.93067034e+01, 1.84292419e+01,\n",
              "       1.75721865e+01, 1.67355372e+01, 1.59192939e+01, 1.51234568e+01,\n",
              "       1.43480257e+01, 1.35930007e+01, 1.28583818e+01, 1.21441690e+01,\n",
              "       1.14503622e+01, 1.07769615e+01, 1.01239669e+01, 9.49137843e+00,\n",
              "       8.87919600e+00, 8.28741965e+00, 7.71604938e+00, 7.16508520e+00,\n",
              "       6.63452709e+00, 6.12437506e+00, 5.63462912e+00, 5.16528926e+00,\n",
              "       4.71635547e+00, 4.28782777e+00, 3.87970615e+00, 3.49199061e+00,\n",
              "       3.12468115e+00, 2.77777778e+00, 2.45128048e+00, 2.14518927e+00,\n",
              "       1.85950413e+00, 1.59422508e+00, 1.34935211e+00, 1.12488522e+00,\n",
              "       9.20824406e-01, 7.37169677e-01, 5.73921028e-01, 4.31078461e-01,\n",
              "       3.08641975e-01, 2.06611570e-01, 1.24987246e-01, 6.37690032e-02,\n",
              "       2.29568411e-02, 2.55076013e-03, 2.55076013e-03, 2.29568411e-02,\n",
              "       6.37690032e-02, 1.24987246e-01, 2.06611570e-01, 3.08641975e-01,\n",
              "       4.31078461e-01, 5.73921028e-01, 7.37169677e-01, 9.20824406e-01,\n",
              "       1.12488522e+00, 1.34935211e+00, 1.59422508e+00, 1.85950413e+00,\n",
              "       2.14518927e+00, 2.45128048e+00, 2.77777778e+00, 3.12468115e+00,\n",
              "       3.49199061e+00, 3.87970615e+00, 4.28782777e+00, 4.71635547e+00,\n",
              "       5.16528926e+00, 5.63462912e+00, 6.12437506e+00, 6.63452709e+00,\n",
              "       7.16508520e+00, 7.71604938e+00, 8.28741965e+00, 8.87919600e+00,\n",
              "       9.49137843e+00, 1.01239669e+01, 1.07769615e+01, 1.14503622e+01,\n",
              "       1.21441690e+01, 1.28583818e+01, 1.35930007e+01, 1.43480257e+01,\n",
              "       1.51234568e+01, 1.59192939e+01, 1.67355372e+01, 1.75721865e+01,\n",
              "       1.84292419e+01, 1.93067034e+01, 2.02045710e+01, 2.11228446e+01,\n",
              "       2.20615243e+01, 2.30206101e+01, 2.40001020e+01, 2.50000000e+01])"
            ]
          },
          "metadata": {},
          "execution_count": 56
        }
      ],
      "source": [
        "y = x*x\n",
        "y"
      ]
    },
    {
      "cell_type": "code",
      "execution_count": null,
      "metadata": {
        "id": "o9ZcErD5CvPa",
        "colab": {
          "base_uri": "https://localhost:8080/",
          "height": 282
        },
        "outputId": "2392ee53-c61d-44fd-bab7-efce9481926b"
      },
      "outputs": [
        {
          "output_type": "execute_result",
          "data": {
            "text/plain": [
              "[<matplotlib.lines.Line2D at 0x7f187cec9890>]"
            ]
          },
          "metadata": {},
          "execution_count": 57
        },
        {
          "output_type": "display_data",
          "data": {
            "text/plain": [
              "<Figure size 432x288 with 1 Axes>"
            ],
            "image/png": "[encoded data removed]"
          },
          "metadata": {
            "needs_background": "light"
          }
        }
      ],
      "source": [
        "plt.plot(x,y)"
      ]
    },
    {
      "cell_type": "code",
      "execution_count": null,
      "metadata": {
        "id": "UbJx8JFbCvPb",
        "colab": {
          "base_uri": "https://localhost:8080/",
          "height": 282
        },
        "outputId": "42ed073d-dfcd-43ff-a7d0-98dbd82321ba"
      },
      "outputs": [
        {
          "output_type": "execute_result",
          "data": {
            "text/plain": [
              "[<matplotlib.lines.Line2D at 0x7f187ca226d0>]"
            ]
          },
          "metadata": {},
          "execution_count": 58
        },
        {
          "output_type": "display_data",
          "data": {
            "text/plain": [
              "<Figure size 432x288 with 1 Axes>"
            ],
            "image/png": "[encoded data removed]"
          },
          "metadata": {
            "needs_background": "light"
          }
        }
      ],
      "source": [
        "plt.plot(y)"
      ]
    },
    {
      "cell_type": "code",
      "execution_count": null,
      "metadata": {
        "id": "f1LATpo9CvPb",
        "colab": {
          "base_uri": "https://localhost:8080/",
          "height": 282
        },
        "outputId": "9fc0819b-6ef5-486f-949c-dce75098447f"
      },
      "outputs": [
        {
          "output_type": "execute_result",
          "data": {
            "text/plain": [
              "[<matplotlib.lines.Line2D at 0x7f187c99e790>]"
            ]
          },
          "metadata": {},
          "execution_count": 59
        },
        {
          "output_type": "display_data",
          "data": {
            "text/plain": [
              "<Figure size 432x288 with 1 Axes>"
            ],
            "image/png": "[encoded data removed]"
          },
          "metadata": {
            "needs_background": "light"
          }
        }
      ],
      "source": [
        "plt.plot(np.random.rand(10))"
      ]
    },
    {
      "cell_type": "code",
      "execution_count": null,
      "metadata": {
        "id": "yEyIwlYjCvPb",
        "colab": {
          "base_uri": "https://localhost:8080/",
          "height": 282
        },
        "outputId": "2c9d5a1d-00bd-4efb-b9ed-4fc54c62b642"
      },
      "outputs": [
        {
          "output_type": "execute_result",
          "data": {
            "text/plain": [
              "[<matplotlib.lines.Line2D at 0x7f187c9dbad0>]"
            ]
          },
          "metadata": {},
          "execution_count": 60
        },
        {
          "output_type": "display_data",
          "data": {
            "text/plain": [
              "<Figure size 432x288 with 1 Axes>"
            ],
            "image/png": "[encoded data removed]"
          },
          "metadata": {
            "needs_background": "light"
          }
        }
      ],
      "source": [
        "plt.plot(np.random.rand(10))\n",
        "plt.plot(np.random.rand(10))"
      ]
    },
    {
      "cell_type": "code",
      "execution_count": null,
      "metadata": {
        "id": "XGreoZmrCvPc",
        "colab": {
          "base_uri": "https://localhost:8080/",
          "height": 312
        },
        "outputId": "806fe4ed-33ab-4bad-cd1c-04a70926ba32"
      },
      "outputs": [
        {
          "output_type": "execute_result",
          "data": {
            "text/plain": [
              "Text(0.5, 1.0, 'Title')"
            ]
          },
          "metadata": {},
          "execution_count": 61
        },
        {
          "output_type": "display_data",
          "data": {
            "text/plain": [
              "<Figure size 432x288 with 1 Axes>"
            ],
            "image/png": "[encoded data removed]"
          },
          "metadata": {
            "needs_background": "light"
          }
        }
      ],
      "source": [
        "plt.plot(np.random.rand(10))\n",
        "plt.plot(np.random.rand(10))\n",
        "plt.legend([\"curve1\",\"curve2\"])\n",
        "plt.xlabel(\"X label\")\n",
        "plt.ylabel(\"Y label\")\n",
        "plt.title(\"Title\")"
      ]
    },
    {
      "cell_type": "code",
      "execution_count": null,
      "metadata": {
        "id": "By9ASNdkCvPc"
      },
      "outputs": [],
      "source": [
        ""
      ]
    }
  ],
  "metadata": {
    "kernelspec": {
      "display_name": "Python 3 (ipykernel)",
      "language": "python",
      "name": "python3"
    },
    "language_info": {
      "codemirror_mode": {
        "name": "ipython",
        "version": 3
      },
      "file_extension": ".py",
      "mimetype": "text/x-python",
      "name": "python",
      "nbconvert_exporter": "python",
      "pygments_lexer": "ipython3",
      "version": "3.9.7"
    },
    "colab": {
      "name": "2-SciProg_basics_np_plt_classes.ipynb",
      "provenance": [],
      "collapsed_sections": [],
      "include_colab_link": true
    }
  },
  "nbformat": 4,
  "nbformat_minor": 0
}