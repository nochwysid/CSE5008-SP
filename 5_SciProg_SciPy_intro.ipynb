{
  "cells": [
    {
      "cell_type": "markdown",
      "metadata": {
        "id": "view-in-github",
        "colab_type": "text"
      },
      "source": [
        "<a href=\"https://colab.research.google.com/github/nochwysid/CSE5008-SP/blob/main/5_SciProg_SciPy_intro.ipynb\" target=\"_parent\"><img src=\"https://colab.research.google.com/assets/colab-badge.svg\" alt=\"Open In Colab\"/></a>"
      ]
    },
    {
      "cell_type": "markdown",
      "metadata": {
        "id": "XypvAhiYisqE"
      },
      "source": [
        "# Lecture 5 - SciPy\n",
        "\n",
        "What we have seen so far\n",
        "- Basic python language features\n",
        "- Introduction to NumPy\n",
        "- Plotting using matplotlib\n",
        "\n",
        "Scipy is a collection of packages that provide useful mathematical functions commonly used for scientific computing.\n",
        "\n",
        "List of subpackages\n",
        "- cluster : Clustering algorithms\n",
        "- constants : Physical and mathematical constants\n",
        "- fftpack : Fast Fourier Transform routines\n",
        "- integrate : Integration and ordinary differential equation solvers\n",
        "- interpolate : Interpolation and smoothing splines\n",
        "- io : Input and Output\n",
        "- linalg : Linear algebra\n",
        "- ndimage : N-dimensional image processing\n",
        "- odr : Orthogonal distance regression\n",
        "- optimize : Optimization and root-finding routines\n",
        "- signal : Signal processing\n",
        "- sparse : Sparse matrices and associated routines\n",
        "- spatial : Spatial data structures and algorithms\n",
        "- special : Special functions\n",
        "- stats : Statistical distributions and functions\n",
        "\n",
        "We cannot cover all of them in detail but we will go through some of the packages and their capabilities today\n",
        "\n",
        "- interpolate\n",
        "- optimize\n",
        "- stats\n",
        "- integrate\n",
        "\n",
        "We will also briefly look at some other useful packages\n",
        "- networkx\n",
        "- sympy"
      ]
    },
    {
      "cell_type": "code",
      "execution_count": null,
      "metadata": {
        "id": "YqaNBdSkisqH"
      },
      "outputs": [],
      "source": [
        "import numpy as np\n",
        "import matplotlib.pyplot as plt\n",
        "from numpy import linalg as la\n",
        "import scipy.interpolate as interp"
      ]
    },
    {
      "cell_type": "code",
      "execution_count": null,
      "metadata": {
        "id": "T9cxfh_0isqL",
        "outputId": "6925538e-bcf3-4d60-e1c0-c6d6bc5fd916",
        "colab": {
          "base_uri": "https://localhost:8080/",
          "height": 282
        }
      },
      "outputs": [
        {
          "output_type": "execute_result",
          "data": {
            "text/plain": [
              "[<matplotlib.lines.Line2D at 0x7febc1b71fd0>]"
            ]
          },
          "metadata": {},
          "execution_count": 6
        },
        {
          "output_type": "display_data",
          "data": {
            "text/plain": [
              "<Figure size 432x288 with 1 Axes>"
            ],
            "image/png": "[encoded data removed]"
          },
          "metadata": {
            "needs_background": "light"
          }
        }
      ],
      "source": [
        "x = np.linspace(-1,2,5);\n",
        "y = x**3\n",
        "plt.plot(x,y,'bo')"
      ]
    },
    {
      "cell_type": "code",
      "execution_count": null,
      "metadata": {
        "id": "Hnar1RwmisqN"
      },
      "outputs": [],
      "source": [
        "f = interp.interp1d(x,y,kind=\"linear\")"
      ]
    },
    {
      "cell_type": "code",
      "execution_count": null,
      "metadata": {
        "id": "-edETqW5isqO",
        "outputId": "afd04073-5110-4e72-d74c-87f4e4e3e954",
        "colab": {
          "base_uri": "https://localhost:8080/"
        }
      },
      "outputs": [
        {
          "output_type": "execute_result",
          "data": {
            "text/plain": [
              "scipy.interpolate.interpolate.interp1d"
            ]
          },
          "metadata": {},
          "execution_count": 8
        }
      ],
      "source": [
        "type(f)"
      ]
    },
    {
      "cell_type": "code",
      "execution_count": null,
      "metadata": {
        "id": "j6vITHODisqP",
        "outputId": "156aca2d-d8cf-4ea0-e413-94f5264cc12f",
        "colab": {
          "base_uri": "https://localhost:8080/"
        }
      },
      "outputs": [
        {
          "output_type": "execute_result",
          "data": {
            "text/plain": [
              "array(0.06875)"
            ]
          },
          "metadata": {},
          "execution_count": 9
        }
      ],
      "source": [
        "f(0.2)"
      ]
    },
    {
      "cell_type": "code",
      "execution_count": null,
      "metadata": {
        "id": "KNNbxdrCisqQ",
        "outputId": "639bbe7f-a323-446e-b1a2-13862e2864e0",
        "colab": {
          "base_uri": "https://localhost:8080/",
          "height": 282
        }
      },
      "outputs": [
        {
          "output_type": "execute_result",
          "data": {
            "text/plain": [
              "[<matplotlib.lines.Line2D at 0x7febc1b09110>]"
            ]
          },
          "metadata": {},
          "execution_count": 10
        },
        {
          "output_type": "display_data",
          "data": {
            "text/plain": [
              "<Figure size 432x288 with 1 Axes>"
            ],
            "image/png": "[encoded data removed]"
          },
          "metadata": {
            "needs_background": "light"
          }
        }
      ],
      "source": [
        "# connect the dots using plot with func\n",
        "x_fine = np.linspace(-1,2,100)\n",
        "plt.plot(x_fine,f(x_fine))\n",
        "\n",
        "plt.plot(x,y,'ro')"
      ]
    },
    {
      "cell_type": "code",
      "execution_count": null,
      "metadata": {
        "id": "L9kscQs0isqR",
        "outputId": "aa16aa77-7ecc-423e-c876-0f90702ddc6e",
        "colab": {
          "base_uri": "https://localhost:8080/",
          "height": 282
        }
      },
      "outputs": [
        {
          "output_type": "execute_result",
          "data": {
            "text/plain": [
              "[<matplotlib.lines.Line2D at 0x7febc15ec790>]"
            ]
          },
          "metadata": {},
          "execution_count": 11
        },
        {
          "output_type": "display_data",
          "data": {
            "text/plain": [
              "<Figure size 432x288 with 1 Axes>"
            ],
            "image/png": "[encoded data removed]"
          },
          "metadata": {
            "needs_background": "light"
          }
        }
      ],
      "source": [
        "# three levels of interpolation\n",
        "plt.plot(x_fine,interp.interp1d(x,y,kind=\"zero\")(x_fine))\n",
        "plt.plot(x_fine,interp.interp1d(x,y,kind=\"linear\")(x_fine))\n",
        "plt.plot(x_fine,interp.interp1d(x,y,kind=\"cubic\")(x_fine))\n",
        "plt.plot(x,y,'ro')"
      ]
    },
    {
      "cell_type": "code",
      "execution_count": null,
      "metadata": {
        "id": "Gbmbm3NaisqR",
        "outputId": "7e62339d-e8b4-49a1-a105-fd4f76d0face",
        "colab": {
          "base_uri": "https://localhost:8080/",
          "height": 282
        }
      },
      "outputs": [
        {
          "output_type": "execute_result",
          "data": {
            "text/plain": [
              "[<matplotlib.lines.Line2D at 0x7febbf552b90>]"
            ]
          },
          "metadata": {},
          "execution_count": 12
        },
        {
          "output_type": "display_data",
          "data": {
            "text/plain": [
              "<Figure size 432x288 with 1 Axes>"
            ],
            "image/png": "[encoded data removed]"
          },
          "metadata": {
            "needs_background": "light"
          }
        }
      ],
      "source": [
        "# the actual func being interpolated\n",
        "x1 = np.linspace(-1,2,100)\n",
        "y1 = x1**3\n",
        "plt.plot(x1,y1)"
      ]
    },
    {
      "cell_type": "code",
      "execution_count": null,
      "metadata": {
        "id": "PAsdD2LyisqS"
      },
      "outputs": [],
      "source": [
        "interp.interp2d?"
      ]
    },
    {
      "cell_type": "markdown",
      "metadata": {
        "id": "D6XIETPUisqS"
      },
      "source": [
        "## Optimization : `scipy.optimize`\n",
        "\n",
        "Contains functions to find minima, roots and fit parameters "
      ]
    },
    {
      "cell_type": "code",
      "execution_count": null,
      "metadata": {
        "id": "MCGv6Uf0isqS"
      },
      "outputs": [],
      "source": [
        "from scipy import optimize"
      ]
    },
    {
      "cell_type": "code",
      "execution_count": null,
      "metadata": {
        "id": "MbMI53AgisqS"
      },
      "outputs": [],
      "source": [
        "# create a function to be optimized\n",
        "def f(x):\n",
        "    return x**4 -10*x**2 "
      ]
    },
    {
      "cell_type": "code",
      "execution_count": null,
      "metadata": {
        "id": "qC2CtoxGisqT",
        "outputId": "6fa55c78-2ef2-4948-8911-9ec0f0feb911",
        "colab": {
          "base_uri": "https://localhost:8080/",
          "height": 265
        }
      },
      "outputs": [
        {
          "output_type": "display_data",
          "data": {
            "text/plain": [
              "<Figure size 432x288 with 1 Axes>"
            ],
            "image/png": "[encoded data removed]"
          },
          "metadata": {
            "needs_background": "light"
          }
        }
      ],
      "source": [
        "x = np.linspace(-5,5,100)\n",
        "plt.plot(x,f(x));"
      ]
    },
    {
      "cell_type": "code",
      "execution_count": null,
      "metadata": {
        "id": "SphXnndXisqT",
        "outputId": "95375a92-1892-4dd9-dafe-7f4dbff2fd2a",
        "colab": {
          "base_uri": "https://localhost:8080/",
          "height": 265
        }
      },
      "outputs": [
        {
          "output_type": "display_data",
          "data": {
            "text/plain": [
              "<Figure size 432x288 with 1 Axes>"
            ],
            "image/png": "[encoded data removed]"
          },
          "metadata": {
            "needs_background": "light"
          }
        }
      ],
      "source": [
        "# try plotting the f(x_opt) by itself, just comment out the line below\n",
        "plt.plot(x,f(x));\n",
        "results = optimize.minimize(f, 1)\n",
        "x_opt = results.x\n",
        "plt.plot(x_opt,f(x_opt),'ro');"
      ]
    },
    {
      "cell_type": "markdown",
      "source": [
        "$$f(x)=x^4_0-10x^2_0+(x_1-1)^2$$\n",
        "$$\\hspace{58pt}=x[0]^4-10*x[0]^2+(x[1]-1)^2$$"
      ],
      "metadata": {
        "id": "zokkyZzileeE"
      }
    },
    {
      "cell_type": "code",
      "execution_count": null,
      "metadata": {
        "id": "KBWE6ZiyisqU",
        "outputId": "a5d0d448-8705-451e-cf10-fb17c4b237d6",
        "colab": {
          "base_uri": "https://localhost:8080/"
        }
      },
      "outputs": [
        {
          "output_type": "execute_result",
          "data": {
            "text/plain": [
              "      fun: -23.999999999999996\n",
              " hess_inv: <2x2 LbfgsInvHessProduct with dtype=float64>\n",
              "      jac: array([-7.99999960e+00, -3.55271368e-07])\n",
              "  message: b'CONVERGENCE: NORM_OF_PROJECTED_GRADIENT_<=_PGTOL'\n",
              "     nfev: 9\n",
              "      nit: 2\n",
              "   status: 0\n",
              "  success: True\n",
              "        x: array([2.        , 0.99999995])"
            ]
          },
          "metadata": {},
          "execution_count": 18
        }
      ],
      "source": [
        "# x[i] is x_i\n",
        "def f(x):\n",
        "    return x[0]**4 -10*x[0]**2 + (x[1]-1)**2\n",
        "\n",
        "results = optimize.minimize(f, np.array([1,0]),bounds=[(-1,2),(-3,3)])\n",
        "results"
      ]
    },
    {
      "cell_type": "code",
      "execution_count": null,
      "metadata": {
        "id": "3mV_i3bBisqV",
        "outputId": "42ce039a-7788-4d36-e50b-4151aa25a412",
        "colab": {
          "base_uri": "https://localhost:8080/",
          "height": 265
        }
      },
      "outputs": [
        {
          "output_type": "display_data",
          "data": {
            "text/plain": [
              "<Figure size 432x288 with 1 Axes>"
            ],
            "image/png": "[encoded data removed]"
          },
          "metadata": {
            "needs_background": "light"
          }
        }
      ],
      "source": [
        "def f(x):\n",
        "    return x**4 -10*x**2 \n",
        "\n",
        "\n",
        "plt.plot(x,f(x));\n",
        "results = optimize.minimize(f, -0.5, bounds=[(-1,2)])\n",
        "x_opt = results.x\n",
        "plt.plot(x_opt,f(x_opt),'ro');\n",
        "\n"
      ]
    },
    {
      "cell_type": "code",
      "execution_count": null,
      "metadata": {
        "id": "C_wO85n1isqV",
        "outputId": "884f0f53-bd24-4683-c030-8af150cc33da",
        "colab": {
          "base_uri": "https://localhost:8080/"
        }
      },
      "outputs": [
        {
          "output_type": "execute_result",
          "data": {
            "text/plain": [
              "      fun: array([-9.])\n",
              " hess_inv: <1x1 LbfgsInvHessProduct with dtype=float64>\n",
              "      jac: array([16.00000008])\n",
              "  message: b'CONVERGENCE: NORM_OF_PROJECTED_GRADIENT_<=_PGTOL'\n",
              "     nfev: 4\n",
              "      nit: 1\n",
              "   status: 0\n",
              "  success: True\n",
              "        x: array([-1.])"
            ]
          },
          "metadata": {},
          "execution_count": 20
        }
      ],
      "source": [
        "results"
      ]
    },
    {
      "cell_type": "code",
      "execution_count": null,
      "metadata": {
        "id": "ZbH-YGHrisqW"
      },
      "outputs": [],
      "source": [
        "optimize.minimize?"
      ]
    },
    {
      "cell_type": "code",
      "execution_count": null,
      "metadata": {
        "id": "F4vKxnO3isqW"
      },
      "outputs": [],
      "source": [
        "def f(x):\n",
        "    return x[0]*x[0] + x[1]*x[1] + 5*(np.sin(2*x[0]) + np.sin(2*x[1]) )"
      ]
    },
    {
      "cell_type": "code",
      "source": [
        "np.meshgrid?"
      ],
      "metadata": {
        "id": "RfiJmN1KVVuP"
      },
      "execution_count": null,
      "outputs": []
    },
    {
      "cell_type": "code",
      "execution_count": null,
      "metadata": {
        "id": "8qZyzb-KisqW"
      },
      "outputs": [],
      "source": [
        "x=np.linspace(-5,5,100)\n",
        "y=np.linspace(-5,5,100)\n",
        "#meshgrid transposes 2nd arg, broadcasts both args\n",
        "X,Y = np.meshgrid(x,y)"
      ]
    },
    {
      "cell_type": "code",
      "execution_count": null,
      "metadata": {
        "id": "5S-FQufkisqX",
        "outputId": "b8989a9b-f6af-4358-8767-b6c334db9c89",
        "colab": {
          "base_uri": "https://localhost:8080/",
          "height": 285
        }
      },
      "outputs": [
        {
          "output_type": "execute_result",
          "data": {
            "text/plain": [
              "<matplotlib.image.AxesImage at 0x7febbf36a590>"
            ]
          },
          "metadata": {},
          "execution_count": 25
        },
        {
          "output_type": "display_data",
          "data": {
            "text/plain": [
              "<Figure size 432x288 with 1 Axes>"
            ],
            "image/png": "[encoded data removed]"
          },
          "metadata": {
            "needs_background": "light"
          }
        }
      ],
      "source": [
        "plt.imshow(X*X+ Y*Y + 5*(np.sin(2*X) + np.sin(2*Y)))"
      ]
    },
    {
      "cell_type": "code",
      "execution_count": null,
      "metadata": {
        "id": "_05NkAmdisqX",
        "outputId": "daac8f65-59be-41de-be34-ea940327fd3e",
        "colab": {
          "base_uri": "https://localhost:8080/",
          "height": 285
        }
      },
      "outputs": [
        {
          "output_type": "execute_result",
          "data": {
            "text/plain": [
              "<matplotlib.image.AxesImage at 0x7febbf346a10>"
            ]
          },
          "metadata": {},
          "execution_count": 26
        },
        {
          "output_type": "display_data",
          "data": {
            "text/plain": [
              "<Figure size 432x288 with 1 Axes>"
            ],
            "image/png": "[encoded data removed]"
          },
          "metadata": {
            "needs_background": "light"
          }
        }
      ],
      "source": [
        "plt.imshow(f(np.array([X,Y])))"
      ]
    },
    {
      "cell_type": "code",
      "execution_count": null,
      "metadata": {
        "id": "4g2fFuFTisqX",
        "outputId": "6535a939-06a9-43f1-8199-28727cf54e41",
        "colab": {
          "base_uri": "https://localhost:8080/"
        }
      },
      "outputs": [
        {
          "output_type": "execute_result",
          "data": {
            "text/plain": [
              "      fun: 0.07912876341637087\n",
              " hess_inv: array([[ 0.52496597, -0.47503403],\n",
              "       [-0.47503403,  0.52496597]])\n",
              "      jac: array([3.21865082e-06, 3.21865082e-06])\n",
              "  message: 'Optimization terminated successfully.'\n",
              "     nfev: 32\n",
              "      nit: 3\n",
              "     njev: 8\n",
              "   status: 0\n",
              "  success: True\n",
              "        x: array([2.13554782, 2.13554782])"
            ]
          },
          "metadata": {},
          "execution_count": 27
        }
      ],
      "source": [
        "results = optimize.minimize(f,x0=[1,1])\n",
        "x_opt , y_opt = results.x\n",
        "results\n"
      ]
    },
    {
      "cell_type": "code",
      "execution_count": null,
      "metadata": {
        "id": "pK0s3Ly0isqX",
        "outputId": "62abd411-b3c9-4c4d-f5ed-86203dae2828",
        "colab": {
          "base_uri": "https://localhost:8080/"
        }
      },
      "outputs": [
        {
          "output_type": "execute_result",
          "data": {
            "text/plain": [
              "0.07912876341637087"
            ]
          },
          "metadata": {},
          "execution_count": 28
        }
      ],
      "source": [
        "f(results.x)"
      ]
    },
    {
      "cell_type": "markdown",
      "metadata": {
        "id": "aF14inTQisqY"
      },
      "source": [
        "## Curve Fitting"
      ]
    },
    {
      "cell_type": "code",
      "execution_count": null,
      "metadata": {
        "id": "u_FEKCXrisqY",
        "outputId": "2dabfc84-b194-4a21-a7f5-de84c000e58f",
        "colab": {
          "base_uri": "https://localhost:8080/",
          "height": 282
        }
      },
      "outputs": [
        {
          "output_type": "execute_result",
          "data": {
            "text/plain": [
              "[<matplotlib.lines.Line2D at 0x7febbf2d6150>]"
            ]
          },
          "metadata": {},
          "execution_count": 29
        },
        {
          "output_type": "display_data",
          "data": {
            "text/plain": [
              "<Figure size 432x288 with 1 Axes>"
            ],
            "image/png": "[encoded data removed]"
          },
          "metadata": {
            "needs_background": "light"
          }
        }
      ],
      "source": [
        "x = np.linspace(-2,2,30)\n",
        "#use of random to generate noise, making it seem more realistic\n",
        "y = x+np.sin(6.5*x)+0.3*np.random.randn(30)\n",
        "plt.plot(x,y,'ro')"
      ]
    },
    {
      "cell_type": "code",
      "execution_count": null,
      "metadata": {
        "id": "jYMIAS29isqY"
      },
      "outputs": [],
      "source": [
        "def f(x,a,b):\n",
        "    return a*x +b"
      ]
    },
    {
      "cell_type": "code",
      "execution_count": null,
      "metadata": {
        "id": "P1yTKVVVisqZ",
        "outputId": "7d4d2d59-a796-4388-d091-88b56145c421",
        "colab": {
          "base_uri": "https://localhost:8080/"
        }
      },
      "outputs": [
        {
          "output_type": "execute_result",
          "data": {
            "text/plain": [
              "(0.9957586515373085, -0.14097831857615217)"
            ]
          },
          "metadata": {},
          "execution_count": 31
        }
      ],
      "source": [
        "((a,b),_) = optimize.curve_fit(f,x,y,(0,1))\n",
        "a,b"
      ]
    },
    {
      "cell_type": "code",
      "execution_count": null,
      "metadata": {
        "id": "H0amDzx0isqZ"
      },
      "outputs": [],
      "source": [
        "optimize.curve_fit?"
      ]
    },
    {
      "cell_type": "code",
      "execution_count": null,
      "metadata": {
        "id": "x5F09ZHWisqZ",
        "outputId": "c6c0e22f-c643-4510-a3ee-caa17f6a2aa5",
        "colab": {
          "base_uri": "https://localhost:8080/",
          "height": 282
        }
      },
      "outputs": [
        {
          "output_type": "execute_result",
          "data": {
            "text/plain": [
              "[<matplotlib.lines.Line2D at 0x7febbf419c10>]"
            ]
          },
          "metadata": {},
          "execution_count": 33
        },
        {
          "output_type": "display_data",
          "data": {
            "text/plain": [
              "<Figure size 432x288 with 1 Axes>"
            ],
            "image/png": "[encoded data removed]"
          },
          "metadata": {
            "needs_background": "light"
          }
        }
      ],
      "source": [
        "x_fine = np.linspace(-2,2,200)\n",
        "plt.plot(x_fine,f(x_fine,a,b))\n",
        "plt.plot(x,y,'ro')"
      ]
    },
    {
      "cell_type": "code",
      "execution_count": null,
      "metadata": {
        "id": "sCfXzbJdisqZ",
        "outputId": "b5d31829-c822-43a8-dbee-1e409d819bc4",
        "colab": {
          "base_uri": "https://localhost:8080/"
        }
      },
      "outputs": [
        {
          "output_type": "execute_result",
          "data": {
            "text/plain": [
              "(0.9957586515373085, -0.14097831857615217)"
            ]
          },
          "metadata": {},
          "execution_count": 34
        }
      ],
      "source": [
        "a,b"
      ]
    },
    {
      "cell_type": "code",
      "execution_count": null,
      "metadata": {
        "id": "iuh0yo3pisqa"
      },
      "outputs": [],
      "source": [
        "def g(x,a,b,c):\n",
        "    return a*x +b*np.sin(c*x)"
      ]
    },
    {
      "cell_type": "code",
      "execution_count": null,
      "metadata": {
        "id": "VOAzfjGbisqa",
        "outputId": "d6a7dd3b-4e98-452f-af1f-851644796c75",
        "colab": {
          "base_uri": "https://localhost:8080/"
        }
      },
      "outputs": [
        {
          "output_type": "execute_result",
          "data": {
            "text/plain": [
              "(1.0766476626179984, 0.9700243917318141, 6.400274930630166)"
            ]
          },
          "metadata": {},
          "execution_count": 36
        }
      ],
      "source": [
        "((a,b,c),_) = optimize.curve_fit(g,x,y,(1.5,0,7))\n",
        "a,b,c"
      ]
    },
    {
      "cell_type": "code",
      "execution_count": null,
      "metadata": {
        "id": "7Fp8g8Gxisqa",
        "outputId": "b6cba298-6a05-4c51-c3ac-32810385b62d",
        "colab": {
          "base_uri": "https://localhost:8080/",
          "height": 282
        }
      },
      "outputs": [
        {
          "output_type": "execute_result",
          "data": {
            "text/plain": [
              "[<matplotlib.lines.Line2D at 0x7febbf58df10>]"
            ]
          },
          "metadata": {},
          "execution_count": 37
        },
        {
          "output_type": "display_data",
          "data": {
            "text/plain": [
              "<Figure size 432x288 with 1 Axes>"
            ],
            "image/png": "[encoded data removed]"
          },
          "metadata": {
            "needs_background": "light"
          }
        }
      ],
      "source": [
        "x_fine = np.linspace(-2,2,200)\n",
        "plt.plot(x_fine,g(x_fine,a,b,c))\n",
        "plt.plot(x,y,'ro')"
      ]
    },
    {
      "cell_type": "markdown",
      "metadata": {
        "id": "dD_825rGisqb"
      },
      "source": [
        "### Root Finding"
      ]
    },
    {
      "cell_type": "code",
      "execution_count": null,
      "metadata": {
        "id": "YH8uI-2Zisqb"
      },
      "outputs": [],
      "source": [
        "def f(x):\n",
        "    return np.sin(x)"
      ]
    },
    {
      "cell_type": "code",
      "execution_count": null,
      "metadata": {
        "id": "4_1A5fp-isqb",
        "outputId": "1b9fa5b2-368d-45c3-9c85-55476f7adc7b",
        "colab": {
          "base_uri": "https://localhost:8080/"
        }
      },
      "outputs": [
        {
          "output_type": "execute_result",
          "data": {
            "text/plain": [
              "array([3.14159265])"
            ]
          },
          "metadata": {},
          "execution_count": 39
        }
      ],
      "source": [
        "r = optimize.root(f,2)\n",
        "r.x"
      ]
    },
    {
      "cell_type": "code",
      "execution_count": null,
      "metadata": {
        "id": "6crWH36Gisqb",
        "outputId": "3a21718d-f84c-4a91-808e-ae40d060675d",
        "colab": {
          "base_uri": "https://localhost:8080/"
        }
      },
      "outputs": [
        {
          "output_type": "execute_result",
          "data": {
            "text/plain": [
              "array([1.2246468e-16])"
            ]
          },
          "metadata": {},
          "execution_count": 40
        }
      ],
      "source": [
        "f(r.x)"
      ]
    },
    {
      "cell_type": "markdown",
      "metadata": {
        "id": "atnDojviisqc"
      },
      "source": [
        "## Linear programming\n",
        "A very common case is linear programming (LP). These are optimization problems that can be written in the form\n",
        "\n",
        "$$\n",
        "\\hspace{10pt}\\text{minimize} \\hspace{30pt} c^T x  \\\\\n",
        "\\hspace{20pt}\\text{subject to} \\hspace{10pt} A_{ub} x \\leq b_{ub} \\\\\n",
        "\\hspace{75pt} A_{eq}x = b_{eq}\n",
        "$$\n",
        "\n",
        "Here, we are finding the vector $x$ that minimizes the dot product $c^T x$, where $c$ is some fixed vector, out of all $x$ that satisfy $A_{ub}x \\leq b_{ub}$ and $A_{eq}x = b_{eq}$, where $A_{ub}$ and $A_{eq}$ are matrices and $b_{ub}$ and $b_{eq}$ are vectors."
      ]
    },
    {
      "cell_type": "markdown",
      "metadata": {
        "id": "mmjz8aGtisqc"
      },
      "source": [
        "## Exercise\n",
        "Using Google and reading documentation are important parts of programming. `scipy.optimize` comes with specialized functions for solving linear programming problems.\n",
        "\n",
        "Figure out how to solve LPs using `scipy.optimize`, and solve the following LP:\n",
        "<!--\n",
        "$$\n",
        "\\begin{equation}\n",
        "\\begin{split}\n",
        "\\text{minimize} \\hspace{30pt} & x_1 + 2 x_2  \\\\\n",
        "\\text{subject to} \\hspace{30pt} & x_1 \\leq 1 \\\\\n",
        "& 5 x_1 + x_2 \\geq 0\n",
        "\\end{split}\n",
        "\\end{equation}\n",
        "$$\n",
        "-->\n",
        "\n",
        "$$\n",
        "\\hspace{20pt} \\text{minimize} \\hspace{18pt}  x_1 + 2 x_2   \\\\\n",
        "\\hspace{10pt} \\text{subject to} \\hspace{15pt}  x_1 \\leq 1 \\\\\n",
        "\\hspace{40pt} 5 x_1 + x_2 \\geq 0\n",
        "$$\n",
        "\n",
        "Note that the problem is equivalent to\n",
        "\n",
        "$$\n",
        "\\hspace{10pt}\\text{minimize} \\hspace{30pt} c^T x  \\\\\n",
        "\\hspace{20pt}\\text{subject to} \\hspace{10pt} A_{ub} x \\leq b_{ub} \\\\\n",
        "\\hspace{75pt} A_{eq}x = b_{eq}\n",
        "$$\n",
        "where\n",
        "$$\n",
        "c = \\begin{pmatrix} 1 \\\\ 2 \\end{pmatrix} \\qquad \n",
        "A_{ub} = \\begin{pmatrix} 1 & 0 \\\\ -5 & -1 \\end{pmatrix}, \\qquad\n",
        "b_{ub} = \\begin{pmatrix} 1 \\\\ 0 \\end{pmatrix}, \\qquad\n",
        "A_{eq} = 0, \\qquad\n",
        "b_{eq} = 0.\n",
        "$$\n",
        "\n",
        "We can see this because \n",
        "$$\n",
        " \\begin{pmatrix} 1 & 0 \\\\ -5 & -1 \\end{pmatrix} \\begin{pmatrix} x_1 \\\\ x_2 \\end{pmatrix} \\leq \\begin{pmatrix} x_1 \\\\ -5x_1 - x_2 \\end{pmatrix} \n",
        "$$"
      ]
    },
    {
      "cell_type": "code",
      "source": [
        "optimize?"
      ],
      "metadata": {
        "id": "Cx49rvXHaOGK"
      },
      "execution_count": null,
      "outputs": []
    },
    {
      "cell_type": "code",
      "execution_count": null,
      "metadata": {
        "id": "DuufYem_isqc",
        "outputId": "d64f49f3-205b-4df5-9037-59d6e6a9316d",
        "colab": {
          "base_uri": "https://localhost:8080/"
        }
      },
      "outputs": [
        {
          "output_type": "stream",
          "name": "stderr",
          "text": [
            "/usr/local/lib/python3.7/dist-packages/numpy/core/fromnumeric.py:86: VisibleDeprecationWarning: Creating an ndarray from ragged nested sequences (which is a list-or-tuple of lists-or-tuples-or ndarrays with different lengths or shapes) is deprecated. If you meant to do this, you must specify 'dtype=object' when creating the ndarray.\n",
            "  return ufunc.reduce(obj, axis, dtype, out, **passkwargs)\n"
          ]
        },
        {
          "output_type": "execute_result",
          "data": {
            "text/plain": [
              "     con: array([], dtype=float64)\n",
              "     fun: -8.999999998572182\n",
              " message: 'Optimization terminated successfully.'\n",
              "     nit: 4\n",
              "   slack: array([ 2.03519868e-10, -2.01930028e-10])\n",
              "  status: 0\n",
              " success: True\n",
              "       x: array([ 1., -5.])"
            ]
          },
          "metadata": {},
          "execution_count": 42
        }
      ],
      "source": [
        "c = np.array([1,2])\n",
        "Aub = np.array([[1,0],[-5,-1]])\n",
        "bub = np.array([1,0])\n",
        "x1_bounds = (None, None)\n",
        "x2_bounds = (None, None)\n",
        "results = optimize.linprog(c,A_ub=Aub, b_ub = bub, bounds = [x1_bounds, x2_bounds])\n",
        "\n",
        "results"
      ]
    },
    {
      "cell_type": "code",
      "execution_count": null,
      "metadata": {
        "id": "-oqTuRZxisqd",
        "outputId": "f0df8226-e464-4114-fc39-40f9b61911a0",
        "colab": {
          "base_uri": "https://localhost:8080/"
        }
      },
      "outputs": [
        {
          "output_type": "execute_result",
          "data": {
            "text/plain": [
              "array([-2.03519868e-10,  2.01930028e-10])"
            ]
          },
          "metadata": {},
          "execution_count": 43
        }
      ],
      "source": [
        "Aub @ results.x - bub"
      ]
    },
    {
      "cell_type": "markdown",
      "metadata": {
        "id": "3OT5N5hyisqd"
      },
      "source": [
        "## Statistics : `scipy.stats`"
      ]
    },
    {
      "cell_type": "code",
      "execution_count": null,
      "metadata": {
        "id": "PnIQ2it_isqd"
      },
      "outputs": [],
      "source": [
        "from scipy import stats"
      ]
    },
    {
      "cell_type": "markdown",
      "metadata": {
        "id": "VyrW-uBhisqd"
      },
      "source": [
        "Find the maximum likelihood estimate for parameters"
      ]
    },
    {
      "cell_type": "code",
      "execution_count": null,
      "metadata": {
        "id": "C1jrDNwyisqe",
        "outputId": "b4d13e96-9788-4fc0-d018-5a66855335cf",
        "colab": {
          "base_uri": "https://localhost:8080/",
          "height": 265
        }
      },
      "outputs": [
        {
          "output_type": "display_data",
          "data": {
            "text/plain": [
              "<Figure size 432x288 with 1 Axes>"
            ],
            "image/png": "[encoded data removed]"
          },
          "metadata": {
            "needs_background": "light"
          }
        }
      ],
      "source": [
        "samples = 3*np.random.randn(100000)+2\n",
        "plt.hist(samples);"
      ]
    },
    {
      "cell_type": "code",
      "execution_count": null,
      "metadata": {
        "id": "spJDfv_9isqe",
        "outputId": "4d245b76-10f1-4317-9703-fad21bc8ab6a",
        "colab": {
          "base_uri": "https://localhost:8080/"
        }
      },
      "outputs": [
        {
          "output_type": "execute_result",
          "data": {
            "text/plain": [
              "(1.9949370213185649, 2.9972759141507215)"
            ]
          },
          "metadata": {},
          "execution_count": 46
        }
      ],
      "source": [
        "#return the mean and variance\n",
        "stats.norm.fit(samples)"
      ]
    },
    {
      "cell_type": "code",
      "execution_count": null,
      "metadata": {
        "id": "CkSNBTCfisqe"
      },
      "outputs": [],
      "source": [
        "a = np.random.randn(300)\n",
        "b = np.random.randn(300)+ 0.3"
      ]
    },
    {
      "cell_type": "code",
      "execution_count": null,
      "metadata": {
        "id": "UnZO_50zisqe",
        "outputId": "61401abc-c30f-4bdc-8ea2-e2034240530d",
        "colab": {
          "base_uri": "https://localhost:8080/"
        }
      },
      "outputs": [
        {
          "output_type": "execute_result",
          "data": {
            "text/plain": [
              "Ttest_indResult(statistic=-4.26738514595292, pvalue=2.2992221728244038e-05)"
            ]
          },
          "metadata": {},
          "execution_count": 48
        }
      ],
      "source": [
        "#t test for independent distributions to see if they have equal means\n",
        "stats.ttest_ind(a,b)"
      ]
    },
    {
      "cell_type": "code",
      "execution_count": null,
      "metadata": {
        "id": "Qhl3sCVHisqf"
      },
      "outputs": [],
      "source": [
        "a = np.random.randn(300)\n",
        "b = np.random.randn(300)/2 + a/2"
      ]
    },
    {
      "cell_type": "code",
      "execution_count": null,
      "metadata": {
        "id": "XF-kIp2Gisqf"
      },
      "outputs": [],
      "source": [
        "stats.pearsonr?"
      ]
    },
    {
      "cell_type": "code",
      "execution_count": null,
      "metadata": {
        "id": "treFPdzcisqf"
      },
      "outputs": [],
      "source": [
        "b = b-sum(b)/b.shape[0]"
      ]
    },
    {
      "cell_type": "code",
      "execution_count": null,
      "metadata": {
        "id": "HXIWaNtcisqf",
        "outputId": "187f8028-73ec-4493-a186-31f37a85fec5",
        "colab": {
          "base_uri": "https://localhost:8080/"
        }
      },
      "outputs": [
        {
          "output_type": "execute_result",
          "data": {
            "text/plain": [
              "(0.7015083150544965, 9.465290413322375e-46)"
            ]
          },
          "metadata": {},
          "execution_count": 52
        }
      ],
      "source": [
        "stats.pearsonr(a,b)"
      ]
    },
    {
      "cell_type": "markdown",
      "metadata": {
        "id": "ECyqCgYfisqg"
      },
      "source": [
        "You can also perform kernel density estimation"
      ]
    },
    {
      "cell_type": "code",
      "execution_count": null,
      "metadata": {
        "id": "9iMtaiVkisqg"
      },
      "outputs": [],
      "source": [
        "x = np.hstack(( 2*np.random.randn(1000)+5,  0.6*np.random.randn(1000)-1) )"
      ]
    },
    {
      "cell_type": "code",
      "execution_count": null,
      "metadata": {
        "id": "JCxZDyUWisqg",
        "outputId": "b58e6f81-b8f5-4027-c9f6-44c352c39895",
        "colab": {
          "base_uri": "https://localhost:8080/",
          "height": 265
        }
      },
      "outputs": [
        {
          "output_type": "display_data",
          "data": {
            "text/plain": [
              "<Figure size 432x288 with 1 Axes>"
            ],
            "image/png": "[encoded data removed]"
          },
          "metadata": {
            "needs_background": "light"
          }
        }
      ],
      "source": [
        "plt.hist(x);"
      ]
    },
    {
      "cell_type": "code",
      "execution_count": null,
      "metadata": {
        "id": "MgiKMFWlisqg"
      },
      "outputs": [],
      "source": [
        "#use gaussian like kernel density estimator to generate a point density function\n",
        "pdf = stats.kde.gaussian_kde(x)"
      ]
    },
    {
      "cell_type": "code",
      "execution_count": null,
      "metadata": {
        "id": "aqNmSgh8isqg",
        "outputId": "1ac1b5f3-c53f-4089-eaeb-43e8aafa7aa9",
        "colab": {
          "base_uri": "https://localhost:8080/"
        }
      },
      "outputs": [
        {
          "output_type": "execute_result",
          "data": {
            "text/plain": [
              "scipy.stats.kde.gaussian_kde"
            ]
          },
          "metadata": {},
          "execution_count": 56
        }
      ],
      "source": [
        "type(pdf)"
      ]
    },
    {
      "cell_type": "code",
      "execution_count": null,
      "metadata": {
        "id": "NWmerjFsisqg",
        "outputId": "7aa94cb6-99c8-49a5-9ed2-6ccbebcf6b4c",
        "colab": {
          "base_uri": "https://localhost:8080/",
          "height": 282
        }
      },
      "outputs": [
        {
          "output_type": "execute_result",
          "data": {
            "text/plain": [
              "[<matplotlib.lines.Line2D at 0x7febbf1256d0>]"
            ]
          },
          "metadata": {},
          "execution_count": 57
        },
        {
          "output_type": "display_data",
          "data": {
            "text/plain": [
              "<Figure size 432x288 with 1 Axes>"
            ],
            "image/png": "[encoded data removed]"
          },
          "metadata": {
            "needs_background": "light"
          }
        }
      ],
      "source": [
        "counts,bins,_ = plt.hist(x)\n",
        "x_fine=np.linspace(-2,10,100)\n",
        "plt.plot(x_fine,np.sum(counts)*pdf(x_fine))"
      ]
    },
    {
      "cell_type": "markdown",
      "metadata": {
        "id": "UocdRZqCisqh"
      },
      "source": [
        "## Numerical Integration : `scipy.integrate`"
      ]
    },
    {
      "cell_type": "code",
      "execution_count": null,
      "metadata": {
        "id": "OLZh8p9Oisqh"
      },
      "outputs": [],
      "source": [
        "import scipy.integrate as integ"
      ]
    },
    {
      "cell_type": "markdown",
      "metadata": {
        "id": "wN7GB-3tisqh"
      },
      "source": [
        "You can compute integral using the `quad` funtion"
      ]
    },
    {
      "cell_type": "code",
      "execution_count": null,
      "metadata": {
        "id": "MfljWK9Visqh"
      },
      "outputs": [],
      "source": [
        "def f(x):\n",
        "    return x**2 + 5*x + np.sin(x)"
      ]
    },
    {
      "cell_type": "code",
      "execution_count": null,
      "metadata": {
        "id": "YX4Vcv7Wisqh",
        "outputId": "9f37e1e0-ffe4-491b-c2a3-5aa0f5bbb6c8",
        "colab": {
          "base_uri": "https://localhost:8080/"
        }
      },
      "outputs": [
        {
          "output_type": "execute_result",
          "data": {
            "text/plain": [
              "(3.2930310274651937, 3.655998867496894e-14)"
            ]
          },
          "metadata": {},
          "execution_count": 60
        }
      ],
      "source": [
        "integ.quad(f,0,1)"
      ]
    },
    {
      "cell_type": "code",
      "execution_count": null,
      "metadata": {
        "id": "uET8lhkhisqh"
      },
      "outputs": [],
      "source": [
        "integ.quad?"
      ]
    },
    {
      "cell_type": "markdown",
      "metadata": {
        "id": "L4t6ZqXYisqi"
      },
      "source": [
        "You can also solve ODEs of the form\n",
        "$$ \\frac{dy}{dt} = f(y,t) $$"
      ]
    },
    {
      "cell_type": "code",
      "execution_count": null,
      "metadata": {
        "id": "z1yCWwGoisqi"
      },
      "outputs": [],
      "source": [
        "def f(y,t):\n",
        "    return (y[1], -y[1]-9*y[0])"
      ]
    },
    {
      "cell_type": "code",
      "execution_count": null,
      "metadata": {
        "id": "HuukZODrisqi"
      },
      "outputs": [],
      "source": [
        "t = np.linspace(0,10,100)\n",
        "Y = integ.odeint(f,[1,1],t)"
      ]
    },
    {
      "cell_type": "code",
      "execution_count": null,
      "metadata": {
        "id": "8oS0z4GWisqi",
        "outputId": "96f220d8-9230-4a11-c74a-9561f391cc9b",
        "colab": {
          "base_uri": "https://localhost:8080/",
          "height": 282
        }
      },
      "outputs": [
        {
          "output_type": "execute_result",
          "data": {
            "text/plain": [
              "[<matplotlib.lines.Line2D at 0x7febbf0b6ad0>]"
            ]
          },
          "metadata": {},
          "execution_count": 64
        },
        {
          "output_type": "display_data",
          "data": {
            "text/plain": [
              "<Figure size 432x288 with 1 Axes>"
            ],
            "image/png": "[encoded data removed]"
          },
          "metadata": {
            "needs_background": "light"
          }
        }
      ],
      "source": [
        "plt.plot(t,Y[:,1])"
      ]
    },
    {
      "cell_type": "markdown",
      "metadata": {
        "id": "tqhx0gkVisqi"
      },
      "source": [
        "## Physical simulation\n",
        "Let's simulate a throwing a ball in two dimensions. The ball is described as a function of time by four functions: $x(t), y(t), v_x(t), v_y(t)$, which are governed by the ODE system:\n",
        "\n",
        "$$\n",
        "    \\frac{dx}{dt} = v_x, \\qquad\n",
        "    \\frac{dy}{dt} = v_y, \\qquad\n",
        "    \\frac{dv_x}{dt} = 0, \\qquad\n",
        "    \\frac{dv_y}{dt} = -g.\n",
        "$$\n",
        "\n",
        "We can think of this in vectorized form as:\n",
        "\n",
        "$$\n",
        "    \\frac{d}{dt} \\begin{pmatrix} x \\\\ y \\\\ v_x \\\\ v_y \\end{pmatrix} = \\begin{pmatrix} v_x \\\\ v_y \\\\ 0 \\\\ -g \\end{pmatrix}\n",
        "$$"
      ]
    },
    {
      "cell_type": "code",
      "execution_count": null,
      "metadata": {
        "id": "_9FMt0Xbisqj"
      },
      "outputs": [],
      "source": [
        "integ.odeint?"
      ]
    },
    {
      "cell_type": "code",
      "execution_count": null,
      "metadata": {
        "id": "n1WNjDuLisqj"
      },
      "outputs": [],
      "source": [
        "def dzdt(z, t):\n",
        "    x, y, vx, vy = z\n",
        "    g = 1\n",
        "    return np.array([vx, vy, 0, -g])"
      ]
    },
    {
      "cell_type": "code",
      "execution_count": null,
      "metadata": {
        "id": "tjUlsuSdisqj"
      },
      "outputs": [],
      "source": [
        "import matplotlib.pyplot as plt"
      ]
    },
    {
      "cell_type": "code",
      "execution_count": null,
      "metadata": {
        "id": "sftMTmykisqj",
        "outputId": "1c7d7053-457e-4cde-be8f-a8d189d70b08",
        "colab": {
          "base_uri": "https://localhost:8080/",
          "height": 265
        }
      },
      "outputs": [
        {
          "output_type": "display_data",
          "data": {
            "text/plain": [
              "<Figure size 432x288 with 1 Axes>"
            ],
            "image/png": "[encoded data removed]"
          },
          "metadata": {
            "needs_background": "light"
          }
        }
      ],
      "source": [
        "x, y = 0, 0\n",
        "vx, vy = 1, 20\n",
        "z = np.array([x, y, vx, vy])\n",
        "t = np.linspace(0, 50, 20)\n",
        "\n",
        "result = integ.odeint(dzdt, z, t)\n",
        "\n",
        "plt.scatter(result[:, 0], result[:, 1])\n",
        "plt.show()"
      ]
    },
    {
      "cell_type": "markdown",
      "metadata": {
        "id": "8WdYllXgisqj"
      },
      "source": [
        "## Exercise\n",
        "We can add drag with the following slight modification to the ODE, which adds a force with direction opposing the current velocity, and with magnitude proportional to the velocity squared.\n",
        "    \n",
        "$$\n",
        "    \\frac{d}{dt} \\begin{pmatrix} x \\\\ y \\\\ v_x \\\\ v_y \\end{pmatrix} = \\begin{pmatrix} v_x \\\\ v_y \\\\ -\\alpha v_x \\sqrt{v_x^2 + v_y^2} \\\\ -g -\\alpha v_y \\sqrt{v_x^2 + v_y^2} \\end{pmatrix}\n",
        "$$\n",
        "\n",
        "Implement this with $\\alpha = 0.001$, plot the resulting trajectory, and compare to the dragless case."
      ]
    },
    {
      "cell_type": "code",
      "execution_count": null,
      "metadata": {
        "id": "9zoxvfjGisqj",
        "outputId": "033c52c9-2f81-4c2b-ff4f-9e9321c5e764",
        "colab": {
          "base_uri": "https://localhost:8080/",
          "height": 265
        }
      },
      "outputs": [
        {
          "output_type": "display_data",
          "data": {
            "text/plain": [
              "<Figure size 432x288 with 1 Axes>"
            ],
            "image/png": "[encoded data removed]"
          },
          "metadata": {
            "needs_background": "light"
          }
        }
      ],
      "source": [
        "def dzdt(z, t):\n",
        "    x, y, vx, vy = z\n",
        "    g = 1\n",
        "    a = 0.001\n",
        "    return np.array([vx, vy, 0-a*vx*np.sqrt(vx*vx+vy*vy), -g-a*vy*np.sqrt(vx*vx+vy*vy)])\n",
        "\n",
        "x, y = 0, 0\n",
        "vx, vy = 1, 20\n",
        "z = np.array([x, y, vx, vy])\n",
        "t = np.linspace(0, 50, 20)\n",
        "\n",
        "result = integ.odeint(dzdt, z, t)\n",
        "#why not plot them in same frame?\n",
        "plt.scatter(result[:, 0], result[:, 1])\n",
        "plt.show()"
      ]
    },
    {
      "cell_type": "markdown",
      "metadata": {
        "id": "nX1WQCpcisqk"
      },
      "source": [
        "# Other useful packages\n",
        "\n",
        "## `networkx`\n",
        "Useful Package to handle graphs.\n",
        "\n",
        "Install by running `conda install networkx`"
      ]
    },
    {
      "cell_type": "code",
      "execution_count": null,
      "metadata": {
        "id": "bi-Wf4L0isqk"
      },
      "outputs": [],
      "source": [
        "import networkx as nx"
      ]
    },
    {
      "cell_type": "code",
      "execution_count": null,
      "metadata": {
        "id": "IaCJu13Oisqk"
      },
      "outputs": [],
      "source": [
        "G = nx.Graph()\n",
        "G.add_nodes_from([1,2,3,4])\n",
        "G.add_edge(1,2)\n",
        "G.add_edge(2,3)\n",
        "G.add_edge(3,1)\n",
        "G.add_edge(3,4)\n"
      ]
    },
    {
      "cell_type": "code",
      "execution_count": null,
      "metadata": {
        "id": "oSeumhXjisqk",
        "outputId": "b4e86625-0f41-495c-bacb-79e7d8d04764",
        "colab": {
          "base_uri": "https://localhost:8080/",
          "height": 319
        }
      },
      "outputs": [
        {
          "output_type": "display_data",
          "data": {
            "text/plain": [
              "<Figure size 432x288 with 1 Axes>"
            ],
            "image/png": "[encoded data removed]"
          },
          "metadata": {}
        }
      ],
      "source": [
        "nx.draw(G)"
      ]
    },
    {
      "cell_type": "code",
      "execution_count": null,
      "metadata": {
        "id": "fGG8eErGisql",
        "outputId": "81287358-0646-46de-a8b1-ce20c3c17c23",
        "colab": {
          "base_uri": "https://localhost:8080/",
          "height": 319
        }
      },
      "outputs": [
        {
          "output_type": "display_data",
          "data": {
            "text/plain": [
              "<Figure size 432x288 with 1 Axes>"
            ],
            "image/png": "[encoded data removed]"
          },
          "metadata": {}
        }
      ],
      "source": [
        "G = nx.complete_graph(10)\n",
        "nx.draw(G)"
      ]
    },
    {
      "cell_type": "markdown",
      "metadata": {
        "id": "Sf4W0UItisql"
      },
      "source": [
        "## `sympy`\n",
        "\n",
        "Package for performing symbolic computation and manipulation.\n",
        "\n",
        "Install it in your environment by running `conda install sympy`"
      ]
    },
    {
      "cell_type": "code",
      "execution_count": null,
      "metadata": {
        "id": "KH8zhRP1isql"
      },
      "outputs": [],
      "source": [
        "from sympy import *"
      ]
    },
    {
      "cell_type": "code",
      "execution_count": null,
      "metadata": {
        "id": "DYV3RhgBisqm"
      },
      "outputs": [],
      "source": [
        "x,y = symbols(\"x y\")"
      ]
    },
    {
      "cell_type": "code",
      "execution_count": null,
      "metadata": {
        "id": "i9652qWoisqm",
        "outputId": "927639d3-30b5-4226-98fd-f13e7b00e101",
        "colab": {
          "base_uri": "https://localhost:8080/",
          "height": 38
        }
      },
      "outputs": [
        {
          "output_type": "execute_result",
          "data": {
            "text/plain": [
              "x"
            ],
            "text/latex": "$\\displaystyle x$"
          },
          "metadata": {},
          "execution_count": 76
        }
      ],
      "source": [
        "x"
      ]
    },
    {
      "cell_type": "code",
      "execution_count": null,
      "metadata": {
        "id": "-CjRRdUUisqm"
      },
      "outputs": [],
      "source": [
        "expr = x+y**2"
      ]
    },
    {
      "cell_type": "code",
      "execution_count": null,
      "metadata": {
        "id": "EmnDlxiIisqm",
        "outputId": "d4aa4d3b-a8a7-4aee-ef49-5fa154859291",
        "colab": {
          "base_uri": "https://localhost:8080/",
          "height": 38
        }
      },
      "outputs": [
        {
          "output_type": "execute_result",
          "data": {
            "text/plain": [
              "x + y**2"
            ],
            "text/latex": "$\\displaystyle x + y^{2}$"
          },
          "metadata": {},
          "execution_count": 78
        }
      ],
      "source": [
        "expr"
      ]
    },
    {
      "cell_type": "code",
      "execution_count": null,
      "metadata": {
        "id": "OuRlizNPisqm"
      },
      "outputs": [],
      "source": [
        "# in colab run this to get latex output\n",
        "# init_printing(use_latex='matplotlib')"
      ]
    },
    {
      "cell_type": "code",
      "execution_count": null,
      "metadata": {
        "id": "sj9C4rdsisqm",
        "outputId": "397a1001-6237-4299-e4b2-a41aa36880c7",
        "colab": {
          "base_uri": "https://localhost:8080/",
          "height": 38
        }
      },
      "outputs": [
        {
          "output_type": "execute_result",
          "data": {
            "text/plain": [
              "x*(x + y**2)"
            ],
            "text/latex": "$\\displaystyle x \\left(x + y^{2}\\right)$"
          },
          "metadata": {},
          "execution_count": 80
        }
      ],
      "source": [
        "x*expr"
      ]
    },
    {
      "cell_type": "code",
      "execution_count": null,
      "metadata": {
        "id": "pSS5mWMyisqn",
        "outputId": "13f354c6-441b-49bc-a824-f6174cedd12f",
        "colab": {
          "base_uri": "https://localhost:8080/",
          "height": 38
        }
      },
      "outputs": [
        {
          "output_type": "execute_result",
          "data": {
            "text/plain": [
              "x**2 + x*y**2"
            ],
            "text/latex": "$\\displaystyle x^{2} + x y^{2}$"
          },
          "metadata": {},
          "execution_count": 81
        }
      ],
      "source": [
        "expand(x*expr)"
      ]
    },
    {
      "cell_type": "code",
      "execution_count": null,
      "metadata": {
        "id": "BlLc7Crzisqn",
        "outputId": "91ba4cd1-f1e1-4cb5-9920-cb95ebe22b41",
        "colab": {
          "base_uri": "https://localhost:8080/",
          "height": 38
        }
      },
      "outputs": [
        {
          "output_type": "execute_result",
          "data": {
            "text/plain": [
              "(x - y)*(x + y)"
            ],
            "text/latex": "$\\displaystyle \\left(x - y\\right) \\left(x + y\\right)$"
          },
          "metadata": {},
          "execution_count": 82
        }
      ],
      "source": [
        "factor(x**2 - y**2)"
      ]
    },
    {
      "cell_type": "code",
      "execution_count": null,
      "metadata": {
        "id": "5Fw6wIG0isqn",
        "outputId": "04ecb65d-8c13-43fd-d2ae-cc664550ab68",
        "colab": {
          "base_uri": "https://localhost:8080/",
          "height": 35
        }
      },
      "outputs": [
        {
          "output_type": "execute_result",
          "data": {
            "text/plain": [
              "'x + y^{2}'"
            ],
            "application/vnd.google.colaboratory.intrinsic+json": {
              "type": "string"
            }
          },
          "metadata": {},
          "execution_count": 83
        }
      ],
      "source": [
        "latex(expr)"
      ]
    },
    {
      "cell_type": "code",
      "execution_count": null,
      "metadata": {
        "id": "CqpyJR3Bisqn",
        "outputId": "e6c70c5c-c56f-4c63-c545-d2f4613ced39",
        "colab": {
          "base_uri": "https://localhost:8080/",
          "height": 38
        }
      },
      "outputs": [
        {
          "output_type": "execute_result",
          "data": {
            "text/plain": [
              "2*x**2 + 2*y**2"
            ],
            "text/latex": "$\\displaystyle 2 x^{2} + 2 y^{2}$"
          },
          "metadata": {},
          "execution_count": 84
        }
      ],
      "source": [
        "simplify( (x-y)**2 + (x+y)**2)"
      ]
    },
    {
      "cell_type": "code",
      "execution_count": null,
      "metadata": {
        "id": "jf2aiwwgisqq",
        "outputId": "152e6317-8139-40c3-86a1-593ec03968e4",
        "colab": {
          "base_uri": "https://localhost:8080/",
          "height": 57
        }
      },
      "outputs": [
        {
          "output_type": "execute_result",
          "data": {
            "text/plain": [
              "x**2/(y**3 + y)"
            ],
            "text/latex": "$\\displaystyle \\frac{x^{2}}{y^{3} + y}$"
          },
          "metadata": {},
          "execution_count": 85
        }
      ],
      "source": [
        "x**2/(y**3+y)"
      ]
    },
    {
      "cell_type": "code",
      "execution_count": null,
      "metadata": {
        "id": "6-iSZzQlisqq",
        "outputId": "cdf8f673-b79d-465e-bf0d-a1b103877c8c",
        "colab": {
          "base_uri": "https://localhost:8080/",
          "height": 63
        }
      },
      "outputs": [
        {
          "output_type": "execute_result",
          "data": {
            "text/plain": [
              "x**2*(x + 1)**4/(x + (x + 1)**3 + 1)"
            ],
            "text/latex": "$\\displaystyle \\frac{x^{2} \\left(x + 1\\right)^{4}}{x + \\left(x + 1\\right)^{3} + 1}$"
          },
          "metadata": {},
          "execution_count": 86
        }
      ],
      "source": [
        "(x**2/(y**3+y)).subs(y,1/(1+x)).simplify()"
      ]
    },
    {
      "cell_type": "code",
      "execution_count": null,
      "metadata": {
        "id": "gLirNb3_isqr",
        "outputId": "0e8e036b-cd48-44be-bef6-23c2a33a2a11",
        "colab": {
          "base_uri": "https://localhost:8080/",
          "height": 37
        }
      },
      "outputs": [
        {
          "output_type": "execute_result",
          "data": {
            "text/plain": [
              "0.0588235294117647"
            ],
            "text/latex": "$\\displaystyle 0.0588235294117647$"
          },
          "metadata": {},
          "execution_count": 87
        }
      ],
      "source": [
        "(x**2/(y**3+y)).evalf(subs={'x':2, 'y':4})\n",
        "# 4/(64+4)"
      ]
    },
    {
      "cell_type": "code",
      "execution_count": null,
      "metadata": {
        "id": "3fpx1s9Yisqs",
        "outputId": "03bd8438-34cc-4e12-e760-4c2f7838524d",
        "colab": {
          "base_uri": "https://localhost:8080/",
          "height": 78
        }
      },
      "outputs": [
        {
          "output_type": "execute_result",
          "data": {
            "text/plain": [
              "Integral(exp(-x**2 - y**2), (x, -oo, oo), (y, -oo, oo))"
            ],
            "text/latex": "$\\displaystyle \\int\\limits_{-\\infty}^{\\infty}\\int\\limits_{-\\infty}^{\\infty} e^{- x^{2} - y^{2}}\\, dx\\, dy$"
          },
          "metadata": {},
          "execution_count": 88
        }
      ],
      "source": [
        "Integral(exp(-x**2 - y**2), (x, -oo, oo), (y, -oo, oo))"
      ]
    },
    {
      "cell_type": "code",
      "execution_count": null,
      "metadata": {
        "id": "hmJ2vglrisqs"
      },
      "outputs": [],
      "source": [
        "I = Integral(exp(-x**2 - y**2), (x, -oo, oo), (y, -oo, oo))"
      ]
    },
    {
      "cell_type": "code",
      "execution_count": null,
      "metadata": {
        "id": "VQd_WKhMisqt",
        "outputId": "fd2b93c2-6238-4a0a-92cb-8e402f0fcf4f",
        "colab": {
          "base_uri": "https://localhost:8080/",
          "height": 38
        }
      },
      "outputs": [
        {
          "output_type": "execute_result",
          "data": {
            "text/plain": [
              "pi"
            ],
            "text/latex": "$\\displaystyle \\pi$"
          },
          "metadata": {},
          "execution_count": 90
        }
      ],
      "source": [
        "I.doit()"
      ]
    },
    {
      "cell_type": "code",
      "execution_count": null,
      "metadata": {
        "id": "5yN9XARLisqt",
        "outputId": "c47c6824-2002-4518-b0f1-a5bfea90d24b",
        "colab": {
          "base_uri": "https://localhost:8080/",
          "height": 57
        }
      },
      "outputs": [
        {
          "output_type": "execute_result",
          "data": {
            "text/plain": [
              "sin(x)/(cos(x) + 1)"
            ],
            "text/latex": "$\\displaystyle \\frac{\\sin{\\left(x \\right)}}{\\cos{\\left(x \\right)} + 1}$"
          },
          "metadata": {},
          "execution_count": 91
        }
      ],
      "source": [
        "(sin(x)/(1+cos(x)))"
      ]
    },
    {
      "cell_type": "code",
      "execution_count": null,
      "metadata": {
        "id": "slm4HUPJisqu",
        "outputId": "94fc7296-3d81-449a-dc44-b37013b79563",
        "colab": {
          "base_uri": "https://localhost:8080/",
          "height": 54
        }
      },
      "outputs": [
        {
          "output_type": "execute_result",
          "data": {
            "text/plain": [
              "x/2 + x**3/24 + x**5/240 + 17*x**7/40320 + 31*x**9/725760 + O(x**10)"
            ],
            "text/latex": "$\\displaystyle \\frac{x}{2} + \\frac{x^{3}}{24} + \\frac{x^{5}}{240} + \\frac{17 x^{7}}{40320} + \\frac{31 x^{9}}{725760} + O\\left(x^{10}\\right)$"
          },
          "metadata": {},
          "execution_count": 92
        }
      ],
      "source": [
        "(sin(x)/(1+cos(x))).series(x,0,10)"
      ]
    },
    {
      "cell_type": "markdown",
      "metadata": {
        "id": "Wscel-c6isqu"
      },
      "source": [
        "## Extra Exercises\n",
        "The following exercises requires the combined usage of the packages we learnt today. \n",
        "\n",
        "1. Generate 10 random polynomials of order 4\n",
        "    - Numerically and analytically integrate them from 0 to 1 and compare the answers.\n",
        "    - Compute a minima for each polynomial and if it exists show that the analytically computed derivative is 0 at the minima\n",
        "    - Randomly sample the polynomials in the range from 0 to 1, and see if you can recover the original coefficents by trying to fit a 4th order polynomial to the samples.\n",
        "2. Read and learn about [Erdos-Renyi Random Graphs](https://en.wikipedia.org/wiki/Erd%C5%91s%E2%80%93R%C3%A9nyi_model). See if you can numerically verify some of the properties mentioned in the wiki, such as for what parameter values is the graph most likely connected.\n",
        "3. Fit a quadratic curve to the drag-dampened ODE above. What does the error in the model look like?"
      ]
    },
    {
      "cell_type": "code",
      "execution_count": null,
      "metadata": {
        "id": "ZFxoO20Oisqv"
      },
      "outputs": [],
      "source": [
        "    "
      ]
    }
  ],
  "metadata": {
    "kernelspec": {
      "display_name": "Python 3 (ipykernel)",
      "language": "python",
      "name": "python3"
    },
    "language_info": {
      "codemirror_mode": {
        "name": "ipython",
        "version": 3
      },
      "file_extension": ".py",
      "mimetype": "text/x-python",
      "name": "python",
      "nbconvert_exporter": "python",
      "pygments_lexer": "ipython3",
      "version": "3.9.7"
    },
    "colab": {
      "name": "5-SciProg_SciPy_intro.ipynb",
      "provenance": [],
      "collapsed_sections": [
        "atnDojviisqc"
      ],
      "include_colab_link": true
    }
  },
  "nbformat": 4,
  "nbformat_minor": 0
}