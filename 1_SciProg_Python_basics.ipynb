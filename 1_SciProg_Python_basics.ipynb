{
  "cells": [
    {
      "cell_type": "markdown",
      "metadata": {
        "id": "view-in-github",
        "colab_type": "text"
      },
      "source": [
        "<a href=\"https://colab.research.google.com/github/nochwysid/CSE5008-SP/blob/main/1_SciProg_Python_basics.ipynb\" target=\"_parent\"><img src=\"https://colab.research.google.com/assets/colab-badge.svg\" alt=\"Open In Colab\"/></a>"
      ]
    },
    {
      "cell_type": "markdown",
      "metadata": {
        "id": "inNfipboCu83"
      },
      "source": [
        "# CME 193 - Introduction to Scientific Python\n",
        "\n",
        "\n",
        "## Course Logistics\n",
        "\n",
        "**Instructor:**  Arun Jambulapati (jmblpati@stanford.edu)\n",
        "\n",
        "**Course website:** [cme193.stanford.edu](http://cme193.stanford.edu).\n",
        "Please check there for any materials related for the course (and let me know if something needs to be updated).\n",
        "\n",
        "**Class:** We'll intersperse lecture with breaks to work on exercises.  These breaks are good chances to try out what you learn, and ask for help if you're stuck.  You aren't required to submit solutions to the exercises, and should focus on exercises you find most interesting if there are multiple options.\n",
        "\n",
        "**Homework:** We'll have 2 homeworks, which should not be difficult or time consuming, but a chance to practice what we cover in class. Feel free to discuss the problems with other students in the class, but the final code you submit should be written by you.\n",
        "\n",
        "**Grading:** This class is offered on a credit/no-credit basis.  Really, you're going to get out of it what you put into it.  My assumption is that you are taking the course because you see it as relevant to your education, and will try to learn material that you see as most important.\n",
        "\n",
        "**Office hours:** TBD: I'll post these on the course website once I schedule them"
      ]
    },
    {
      "cell_type": "markdown",
      "metadata": {
        "id": "mZ74UQLJCu89"
      },
      "source": [
        "# Overview of Course\n",
        "\n",
        "You can find a list of topics we plan to cover on the [course website](http://web.stanford.edu/class/cme193/syllabus.html).  \n",
        "\n",
        "Here is a tentative list of lectures:\n",
        "1. Python basics\n",
        "1. NumPy basics\n",
        "1. Linear algebra (NumPy)\n",
        "1. Numerical algorithms (NumPy)\n",
        "1. Scientific computing (SciPy)\n",
        "1. Data science (Pandas)\n",
        "1. Machine learning (scikit-learn)\n",
        "1. Deep learning (PyTorch)\n",
        "\n",
        "The goal of the course is to get you started with using Python for scientific computing.\n",
        "* We **are** going to cover common packages for linear algebra, optimization, and data science\n",
        "* We are **not** going to cover all of the Python language, or all of its applications\n",
        "    * We will cover aspects of the Python language as they are needed for our purposes\n",
        "\n",
        "This course is designed for\n",
        "* People who already know how to program (maybe not in Python)\n",
        "* People who want to use Python for research/coursework in a scientific or engineering discipline for modeling, simulations, or data science\n",
        "\n",
        "You don't need to have an expert background in programming or scientific computing to take this course.  Everyone starts somewhere, and if your interests are aligned with the goals of the course you should be ok."
      ]
    },
    {
      "cell_type": "markdown",
      "metadata": {
        "id": "2W75-C3DCu8-"
      },
      "source": [
        "# Python"
      ]
    },
    {
      "cell_type": "markdown",
      "metadata": {
        "id": "wvYoiU51Cu8_"
      },
      "source": [
        "![xkcd_python](https://imgs.xkcd.com/comics/python.png)\n",
        "(From [xkcd](https://xkcd.com/))"
      ]
    },
    {
      "cell_type": "code",
      "execution_count": null,
      "metadata": {
        "id": "oeoSVwOwCu8_",
        "outputId": "839ba601-9126-4c9f-a73b-2d130f47e756"
      },
      "outputs": [
        {
          "name": "stdout",
          "output_type": "stream",
          "text": [
            "Hello, world!\n"
          ]
        }
      ],
      "source": [
        "print(\"Hello, world!\")"
      ]
    },
    {
      "cell_type": "code",
      "execution_count": null,
      "metadata": {
        "id": "lfYnX4mNCu9B",
        "outputId": "b309f978-287b-4370-8e5b-e17a68ebf276"
      },
      "outputs": [
        {
          "name": "stdout",
          "output_type": "stream",
          "text": [
            "3.141592653589793\n"
          ]
        }
      ],
      "source": [
        "import math\n",
        "print(math.pi)"
      ]
    },
    {
      "cell_type": "markdown",
      "metadata": {
        "id": "bPgKDhd2Cu9C"
      },
      "source": [
        "# Variables\n",
        "\n",
        "One of the main differences in python compared to other languages you might be familiar with is that variables are not declared and are not strongly typed"
      ]
    },
    {
      "cell_type": "code",
      "execution_count": null,
      "metadata": {
        "id": "skkigyURCu9D",
        "outputId": "6bb5399c-ecc1-463b-d6f7-b5116043c102"
      },
      "outputs": [
        {
          "name": "stdout",
          "output_type": "stream",
          "text": [
            "1\n"
          ]
        }
      ],
      "source": [
        "x = 1\n",
        "print(x)"
      ]
    },
    {
      "cell_type": "code",
      "execution_count": null,
      "metadata": {
        "id": "MjQfCGBtCu9E"
      },
      "outputs": [],
      "source": [
        "y = \"test\""
      ]
    },
    {
      "cell_type": "code",
      "execution_count": null,
      "metadata": {
        "id": "GQoUg_4HCu9E",
        "outputId": "3f7060b5-2a65-415b-f391-557b1cd68666"
      },
      "outputs": [
        {
          "name": "stdout",
          "output_type": "stream",
          "text": [
            "test\n"
          ]
        }
      ],
      "source": [
        "print(y)"
      ]
    },
    {
      "cell_type": "code",
      "execution_count": null,
      "metadata": {
        "id": "5CSgRYVLCu9F",
        "outputId": "88809a31-4d94-43c1-fde3-4b54a800431b"
      },
      "outputs": [
        {
          "name": "stdout",
          "output_type": "stream",
          "text": [
            "string\n"
          ]
        }
      ],
      "source": [
        "x = 1\n",
        "x = \"string\"\n",
        "print(x)"
      ]
    },
    {
      "cell_type": "code",
      "execution_count": null,
      "metadata": {
        "id": "IL--YbzhCu9G",
        "outputId": "ddee2511-06dc-4a78-c157-bbaf435198a6"
      },
      "outputs": [
        {
          "name": "stdout",
          "output_type": "stream",
          "text": [
            "<class 'int'>\n"
          ]
        }
      ],
      "source": [
        "x = 1\n",
        "print(type(x))"
      ]
    },
    {
      "cell_type": "code",
      "execution_count": null,
      "metadata": {
        "id": "UCsQYqMSCu9G",
        "outputId": "d8e62fd4-de5e-453f-ef70-f23f9a86ba6d"
      },
      "outputs": [
        {
          "name": "stdout",
          "output_type": "stream",
          "text": [
            "<class 'str'>\n"
          ]
        }
      ],
      "source": [
        "x = \"string\"\n",
        "print(type(x))"
      ]
    },
    {
      "cell_type": "code",
      "execution_count": null,
      "metadata": {
        "id": "UhQlwhZhCu9H",
        "outputId": "de1d7d5d-79d2-484c-d692-f59483238323"
      },
      "outputs": [
        {
          "name": "stdout",
          "output_type": "stream",
          "text": [
            "<class 'float'>\n"
          ]
        }
      ],
      "source": [
        "x = 0.1\n",
        "print(type(x))"
      ]
    },
    {
      "cell_type": "code",
      "execution_count": null,
      "metadata": {
        "id": "lW3H61nACu9H",
        "outputId": "ea70ef05-0f59-409f-b57d-93c12cff289e"
      },
      "outputs": [
        {
          "data": {
            "text/plain": [
              "float"
            ]
          },
          "execution_count": 10,
          "metadata": {},
          "output_type": "execute_result"
        }
      ],
      "source": [
        "x = 0.1\n",
        "type(x)"
      ]
    },
    {
      "cell_type": "code",
      "execution_count": null,
      "metadata": {
        "id": "T4hv4N83Cu9I",
        "outputId": "99836eed-4bab-431f-d1e4-e0c2d69574a0"
      },
      "outputs": [
        {
          "data": {
            "text/plain": [
              "0.1"
            ]
          },
          "execution_count": 11,
          "metadata": {},
          "output_type": "execute_result"
        }
      ],
      "source": [
        "x"
      ]
    },
    {
      "cell_type": "code",
      "execution_count": null,
      "metadata": {
        "id": "-c683eYcCu9I",
        "outputId": "0a7ea7fe-c771-44ed-cd64-fe09d5fb5cf9"
      },
      "outputs": [
        {
          "data": {
            "text/plain": [
              "True"
            ]
          },
          "execution_count": 12,
          "metadata": {},
          "output_type": "execute_result"
        }
      ],
      "source": [
        "'a' == \"a\""
      ]
    },
    {
      "cell_type": "markdown",
      "metadata": {
        "id": "3bQKgaCGCu9I"
      },
      "source": [
        "# Basic Arithmetic\n",
        "\n",
        "Operators for integers:\n",
        "`+ - * / // % **`\n",
        "\n",
        "Operators for floats:\n",
        "`+ - * / **`\n",
        "\n",
        "Boolean expressions:\n",
        "* keywords: `True` and `False` (note capitalization)\n",
        "* `==` equals: `5 == 5` yields `True`\n",
        "* `!=` does not equal: `5 != 5` yields `False`\n",
        "* `>` greater than: `5 > 4` yields `True`\n",
        "* `>=` greater than or equal: `5 >= 5` yields `True`\n",
        "* Similarly, we have `<` and `<=`.\n",
        "\n",
        "Logical operators:\n",
        "* `and`, `or`, and `not`\n",
        "* `True and False`\n",
        "* `True or False`\n",
        "* `not True`"
      ]
    },
    {
      "cell_type": "code",
      "execution_count": null,
      "metadata": {
        "id": "qOCV51hhCu9J",
        "outputId": "9e87a0a7-232a-42cf-c20a-30d227ba75b5"
      },
      "outputs": [
        {
          "data": {
            "text/plain": [
              "False"
            ]
          },
          "execution_count": 17,
          "metadata": {},
          "output_type": "execute_result"
        }
      ],
      "source": [
        "not (5 == 5.0) #equivalent to 5 != 5.0"
      ]
    },
    {
      "cell_type": "code",
      "execution_count": null,
      "metadata": {
        "id": "PWNmjI0VCu9J",
        "outputId": "a74b4aa8-fd00-4788-da30-7cc842939100"
      },
      "outputs": [
        {
          "data": {
            "text/plain": [
              "True"
            ]
          },
          "execution_count": 18,
          "metadata": {},
          "output_type": "execute_result"
        }
      ],
      "source": [
        "True and True"
      ]
    },
    {
      "cell_type": "code",
      "execution_count": null,
      "metadata": {
        "id": "XjfefPjcCu9K",
        "outputId": "886f29b4-5521-4276-a831-5cc1c38efbe0"
      },
      "outputs": [
        {
          "data": {
            "text/plain": [
              "float"
            ]
          },
          "execution_count": 28,
          "metadata": {},
          "output_type": "execute_result"
        }
      ],
      "source": [
        "type(4/2)"
      ]
    },
    {
      "cell_type": "code",
      "execution_count": null,
      "metadata": {
        "id": "5tJ9hoyCCu9K",
        "outputId": "67fbc712-7601-4d7e-b412-d50f3333c319"
      },
      "outputs": [
        {
          "data": {
            "text/plain": [
              "int"
            ]
          },
          "execution_count": 30,
          "metadata": {},
          "output_type": "execute_result"
        }
      ],
      "source": [
        "type(4//2)"
      ]
    },
    {
      "cell_type": "code",
      "execution_count": null,
      "metadata": {
        "id": "ew1AaJIlCu9K",
        "outputId": "9a83ea19-f7db-4863-bb3e-2626cca2afb1"
      },
      "outputs": [
        {
          "data": {
            "text/plain": [
              "2"
            ]
          },
          "execution_count": 31,
          "metadata": {},
          "output_type": "execute_result"
        }
      ],
      "source": [
        "4//2"
      ]
    },
    {
      "cell_type": "code",
      "execution_count": null,
      "metadata": {
        "id": "XlngHaLECu9L",
        "outputId": "ab19087d-d6f9-487d-825c-7f08ebbf6172"
      },
      "outputs": [
        {
          "data": {
            "text/plain": [
              "2.0"
            ]
          },
          "execution_count": 32,
          "metadata": {},
          "output_type": "execute_result"
        }
      ],
      "source": [
        "4.0//2.0"
      ]
    },
    {
      "cell_type": "code",
      "execution_count": null,
      "metadata": {
        "id": "oce1vJB-Cu9L",
        "outputId": "3bbe31af-a2db-4b22-ab67-644d6284af18"
      },
      "outputs": [
        {
          "data": {
            "text/plain": [
              "1"
            ]
          },
          "execution_count": 25,
          "metadata": {},
          "output_type": "execute_result"
        }
      ],
      "source": [
        "5//3 #=1 remainder 2"
      ]
    },
    {
      "cell_type": "code",
      "execution_count": null,
      "metadata": {
        "id": "tLrhh6-OCu9L",
        "outputId": "00d2ec9b-423c-48e3-9ad2-650196b93657"
      },
      "outputs": [
        {
          "data": {
            "text/plain": [
              "0"
            ]
          },
          "execution_count": 23,
          "metadata": {},
          "output_type": "execute_result"
        }
      ],
      "source": [
        "6%3"
      ]
    },
    {
      "cell_type": "code",
      "execution_count": null,
      "metadata": {
        "id": "P_jAZD08Cu9L",
        "outputId": "ee084e19-5044-4eb8-c943-adc195be74eb"
      },
      "outputs": [
        {
          "data": {
            "text/plain": [
              "2"
            ]
          },
          "execution_count": 24,
          "metadata": {},
          "output_type": "execute_result"
        }
      ],
      "source": [
        "5%3"
      ]
    },
    {
      "cell_type": "code",
      "execution_count": null,
      "metadata": {
        "id": "pMBzaY8lCu9M",
        "outputId": "48eef597-987d-4db2-df72-f8eb717dcdb3"
      },
      "outputs": [
        {
          "data": {
            "text/plain": [
              "91.39203368671122"
            ]
          },
          "execution_count": 21,
          "metadata": {},
          "output_type": "execute_result"
        }
      ],
      "source": [
        "4.1**3.2"
      ]
    },
    {
      "cell_type": "markdown",
      "metadata": {
        "id": "JodDPkDJCu9M"
      },
      "source": [
        "# Strings\n",
        "\n",
        "Concatenation: `str1 + str2`\n",
        "\n",
        "Printing: `print(str1)`"
      ]
    },
    {
      "cell_type": "code",
      "execution_count": null,
      "metadata": {
        "id": "GugD1sfdCu9M",
        "outputId": "6c74a47e-6777-48a0-f8a1-aba1b139d457"
      },
      "outputs": [
        {
          "data": {
            "text/plain": [
              "'Hello, World!'"
            ]
          },
          "execution_count": 33,
          "metadata": {},
          "output_type": "execute_result"
        }
      ],
      "source": [
        "str1 = \"Hello, \"\n",
        "str2 = \"World!\"\n",
        "str3 = str1 + str2\n",
        "str3"
      ]
    },
    {
      "cell_type": "code",
      "execution_count": null,
      "metadata": {
        "id": "Nga0VQv6Cu9M",
        "outputId": "c589f2ac-f1c6-430f-a542-913dc3021eff"
      },
      "outputs": [
        {
          "name": "stdout",
          "output_type": "stream",
          "text": [
            "Hello, World!\n"
          ]
        }
      ],
      "source": [
        "print(str3)"
      ]
    },
    {
      "cell_type": "markdown",
      "metadata": {
        "id": "PAP-6WqPCu9N"
      },
      "source": [
        "Formatting:"
      ]
    },
    {
      "cell_type": "code",
      "execution_count": null,
      "metadata": {
        "id": "F4WKjG4MCu9N",
        "outputId": "9186f487-7318-49be-a7bc-d777ff636742"
      },
      "outputs": [
        {
          "data": {
            "text/plain": [
              "\"Alice's numbers are 23 and 50, and their sum is 73\""
            ]
          },
          "execution_count": 36,
          "metadata": {},
          "output_type": "execute_result"
        }
      ],
      "source": [
        "x = 23\n",
        "y = 50\n",
        "name = \"Alice\"\n",
        "\n",
        "str1 = f\"{name}'s numbers are {x} and {y}, and their sum is {x + y}\"\n",
        "str1"
      ]
    },
    {
      "cell_type": "code",
      "execution_count": null,
      "metadata": {
        "id": "XGIjc1ttCu9N",
        "outputId": "151b945b-483c-4401-84d7-3bd03a7694d3"
      },
      "outputs": [
        {
          "name": "stdout",
          "output_type": "stream",
          "text": [
            "a: string\n",
            "b: 1.000000, hello, 5\n",
            "c: 3.14, 2.73\n"
          ]
        }
      ],
      "source": [
        "str1 = \"a: %s\" % \"string\"\n",
        "print(str1)\n",
        "str2 = \"b: %f, %s, %d\" % (1.0, 'hello', 5)\n",
        "print(str2)\n",
        "str3 = \"c: {}, {}\".format(3.14,2.73)\n",
        "print(str3)"
      ]
    },
    {
      "cell_type": "code",
      "execution_count": null,
      "metadata": {
        "id": "NZxCiEiUCu9N"
      },
      "outputs": [],
      "source": [
        "x = 23\n",
        "\"a: %d\" % x"
      ]
    },
    {
      "cell_type": "code",
      "execution_count": null,
      "metadata": {
        "id": "c98LBIrlCu9O",
        "outputId": "50f79ade-d1b0-42c5-a6b8-5dfea4c823ed"
      },
      "outputs": [
        {
          "name": "stdout",
          "output_type": "stream",
          "text": [
            "Hello, World!\n",
            "HELLO, WORLD!\n",
            "hello, world!\n"
          ]
        }
      ],
      "source": [
        "# some methods\n",
        "str1 = \"Hello, World!\"\n",
        "print(str1)\n",
        "print(str1.upper())\n",
        "print(str1.lower())"
      ]
    },
    {
      "cell_type": "code",
      "execution_count": null,
      "metadata": {
        "id": "LUIVdnIOCu9O",
        "outputId": "1619c207-42a3-4f34-f4bd-97fbb26461df"
      },
      "outputs": [
        {
          "data": {
            "text/plain": [
              "'hello, world!'"
            ]
          },
          "execution_count": 48,
          "metadata": {},
          "output_type": "execute_result"
        }
      ],
      "source": [
        "str1 = str1.lower()\n",
        "str1"
      ]
    },
    {
      "cell_type": "code",
      "execution_count": null,
      "metadata": {
        "id": "Pag590AkCu9O"
      },
      "outputs": [],
      "source": [
        "str1.replace?"
      ]
    },
    {
      "cell_type": "code",
      "execution_count": null,
      "metadata": {
        "id": "yOB3jMEnCu9O",
        "outputId": "6e6a3125-72e6-4571-89d6-d6c140de5ae7"
      },
      "outputs": [
        {
          "data": {
            "text/plain": [
              "'heppo, worpd!'"
            ]
          },
          "execution_count": 50,
          "metadata": {},
          "output_type": "execute_result"
        }
      ],
      "source": [
        "str1.replace('l', 'p')"
      ]
    },
    {
      "cell_type": "markdown",
      "metadata": {
        "id": "39zBRd3gCu9O"
      },
      "source": [
        "# Control Flow\n",
        "\n",
        "If statements:"
      ]
    },
    {
      "cell_type": "code",
      "execution_count": null,
      "metadata": {
        "id": "8SlYqq5eCu9P",
        "outputId": "4c58393a-e2d6-4172-dd8f-4f6bbaf131df"
      },
      "outputs": [
        {
          "name": "stdout",
          "output_type": "stream",
          "text": [
            "???\n"
          ]
        }
      ],
      "source": [
        "x = 0\n",
        "y = 2\n",
        "z = 1\n",
        "if x == y:\n",
        "    print(\"Hello\")\n",
        "elif x == z:\n",
        "    print(\"Goodbye\")\n",
        "elif x == 3:\n",
        "    print(\"x is 3\")\n",
        "else:\n",
        "    print(\"???\")"
      ]
    },
    {
      "cell_type": "code",
      "execution_count": null,
      "metadata": {
        "id": "8xjRHi-eCu9P",
        "outputId": "cdf12b4a-c54a-447f-a4aa-af0e100277d0"
      },
      "outputs": [
        {
          "name": "stdout",
          "output_type": "stream",
          "text": [
            "this runs too\n"
          ]
        }
      ],
      "source": [
        "if 1 == 2:\n",
        "    print(\"this runs\")\n",
        "    \n",
        "print(\"this runs too\")"
      ]
    },
    {
      "cell_type": "markdown",
      "metadata": {
        "id": "BWCK4j7fCu9P"
      },
      "source": [
        "**For loops**\n"
      ]
    },
    {
      "cell_type": "code",
      "execution_count": null,
      "metadata": {
        "id": "0o6NKBsfCu9P",
        "outputId": "ef3a0e1b-6a9e-4242-c3f9-38cdb985ae86"
      },
      "outputs": [
        {
          "name": "stdout",
          "output_type": "stream",
          "text": [
            "loop 1\n",
            "0\n",
            "1\n",
            "2\n",
            "3\n",
            "4\n",
            "\n",
            "loop 2\n",
            "10\n",
            "8\n",
            "6\n",
            "4\n"
          ]
        }
      ],
      "source": [
        "print(\"loop 1\")\n",
        "for i in range(5): # default - start at 0, increment by 1\n",
        "    print(i)\n",
        "    \n",
        "print(\"\")\n",
        "print(\"loop 2\")\n",
        "for i in range(10, 2, -2): # inputs are start, stop, step\n",
        "    print(i)\n"
      ]
    },
    {
      "cell_type": "markdown",
      "metadata": {
        "id": "1yddm7JrCu9Q"
      },
      "source": [
        "**while loops**"
      ]
    },
    {
      "cell_type": "code",
      "execution_count": null,
      "metadata": {
        "id": "ihrG6oG3Cu9Q",
        "outputId": "330a9504-1eda-414d-f75b-585802d35352"
      },
      "outputs": [
        {
          "name": "stdout",
          "output_type": "stream",
          "text": [
            "1\n",
            "4\n",
            "36\n",
            "1764\n"
          ]
        }
      ],
      "source": [
        "i = 1\n",
        "while i < 100:\n",
        "    print(i**2)\n",
        "    i += i**2  # a += b is short for a = a + b\n"
      ]
    },
    {
      "cell_type": "markdown",
      "metadata": {
        "id": "oAXDckHyCu9Q"
      },
      "source": [
        "**continue** - skip the rest of a loop\n",
        "\n",
        "**break** - exit from the loop"
      ]
    },
    {
      "cell_type": "code",
      "execution_count": null,
      "metadata": {
        "id": "eUMIEeBMCu9Q",
        "outputId": "0fae8c82-281f-40f0-d854-21fcb800df8f"
      },
      "outputs": [
        {
          "name": "stdout",
          "output_type": "stream",
          "text": [
            "Found 3, an odd number\n",
            "Found 5, an odd number\n",
            "Found 7, an odd number\n",
            "Found 9, an odd number\n"
          ]
        }
      ],
      "source": [
        "for num in range(2, 10):\n",
        "    if num % 2 == 0:\n",
        "        continue # this jumps us back to the top\n",
        "    print(f\"Found {num}, an odd number\")"
      ]
    },
    {
      "cell_type": "code",
      "execution_count": null,
      "metadata": {
        "id": "329SlUTsCu9R",
        "outputId": "1e774ec4-cfbc-4a1f-a596-4f19c1164bbd"
      },
      "outputs": [
        {
          "name": "stdout",
          "output_type": "stream",
          "text": [
            "64 equals 2 * 32\n"
          ]
        }
      ],
      "source": [
        "n = 64\n",
        "for x in range(2, n):\n",
        "    if n % x == 0: # if n divisible by x\n",
        "        print(f'{n} equals {x} * {n // x}')\n",
        "        break"
      ]
    },
    {
      "cell_type": "code",
      "execution_count": null,
      "metadata": {
        "id": "2LYuc7y-Cu9R",
        "outputId": "38cb1229-c4ef-4117-d966-047dc122e647"
      },
      "outputs": [
        {
          "name": "stdout",
          "output_type": "stream",
          "text": [
            "10\n",
            "10\n"
          ]
        }
      ],
      "source": [
        "for i in range(5):\n",
        "    for j in range(5*i):\n",
        "        if j == 10:\n",
        "            print(j)\n",
        "            break   \n",
        "    #break exits to here\n",
        "\n",
        "#break does not exit here"
      ]
    },
    {
      "cell_type": "markdown",
      "metadata": {
        "id": "qRei-bAdCu9R"
      },
      "source": [
        "**pass** does nothing"
      ]
    },
    {
      "cell_type": "code",
      "execution_count": null,
      "metadata": {
        "id": "4Q0tuX-0Cu9R",
        "outputId": "71d78cf7-1cc9-499f-f410-f26ff3ff1354"
      },
      "outputs": [
        {
          "name": "stdout",
          "output_type": "stream",
          "text": [
            "True!\n"
          ]
        }
      ],
      "source": [
        "if False:\n",
        "    pass #do nothing\n",
        "else:\n",
        "    print('True!')"
      ]
    },
    {
      "cell_type": "markdown",
      "metadata": {
        "id": "oXQ-NhWLCu9S"
      },
      "source": [
        "# Exceptions"
      ]
    },
    {
      "cell_type": "code",
      "execution_count": null,
      "metadata": {
        "id": "2AZFtJjhCu9S",
        "outputId": "f256d377-a1ca-461b-de65-14cbd90b3c22"
      },
      "outputs": [
        {
          "name": "stdout",
          "output_type": "stream",
          "text": [
            "variable not defined\n"
          ]
        }
      ],
      "source": [
        "try:\n",
        "    x = 100 / 1\n",
        "    asd\n",
        "except ZeroDivisionError:\n",
        "    print(\"We divided by zero\")\n",
        "except NameError:\n",
        "    print(\"variable not defined\")"
      ]
    },
    {
      "cell_type": "code",
      "execution_count": null,
      "metadata": {
        "id": "xkPrGyapCu9S",
        "outputId": "4dcc4a12-1c77-4aa7-d504-be1b12c50c9c"
      },
      "outputs": [
        {
          "name": "stdout",
          "output_type": "stream",
          "text": [
            "Error\n"
          ]
        }
      ],
      "source": [
        "try:\n",
        "    x = 100 / 1\n",
        "    asd\n",
        "except:\n",
        "    print(\"Error\")"
      ]
    },
    {
      "cell_type": "markdown",
      "metadata": {
        "id": "VZ-6T8RaCu9S"
      },
      "source": [
        "# Functions\n",
        "\n",
        "Functions are declared with the keyword `def`"
      ]
    },
    {
      "cell_type": "code",
      "execution_count": null,
      "metadata": {
        "id": "Bj8422p-Cu9S",
        "outputId": "e793719b-a3f9-4bf4-cbb7-5183ccfd7ac2"
      },
      "outputs": [
        {
          "data": {
            "text/plain": [
              "1.0"
            ]
          },
          "execution_count": 111,
          "metadata": {},
          "output_type": "execute_result"
        }
      ],
      "source": [
        "# def tells python you're trying to declare a function\n",
        "def triangle_area(base, height):\n",
        "    #here are operations\n",
        "    #part of function\n",
        "    #etc\n",
        "    return 0.5 * base * height\n",
        "\n",
        "triangle_area(1, 2)"
      ]
    },
    {
      "cell_type": "code",
      "execution_count": null,
      "metadata": {
        "id": "UAIqR_c6Cu9T",
        "outputId": "1dc4d3f1-88fb-47d6-9ac2-4f0a4288213e"
      },
      "outputs": [
        {
          "ename": "ValueError",
          "evalue": "Base and height must be non-negative",
          "output_type": "error",
          "traceback": [
            "\u001b[0;31m---------------------------------------------------------------------------\u001b[0m",
            "\u001b[0;31mValueError\u001b[0m                                Traceback (most recent call last)",
            "\u001b[0;32m/var/folders/gc/zfy2pjf944jdkfwzcppblklw0000gn/T/ipykernel_8018/2698131731.py\u001b[0m in \u001b[0;36m<module>\u001b[0;34m\u001b[0m\n\u001b[1;32m      4\u001b[0m     \u001b[0;32mreturn\u001b[0m \u001b[0;36m0.5\u001b[0m \u001b[0;34m*\u001b[0m \u001b[0mbase\u001b[0m \u001b[0;34m*\u001b[0m \u001b[0mheight\u001b[0m\u001b[0;34m\u001b[0m\u001b[0;34m\u001b[0m\u001b[0m\n\u001b[1;32m      5\u001b[0m \u001b[0;34m\u001b[0m\u001b[0m\n\u001b[0;32m----> 6\u001b[0;31m \u001b[0mtriangle_area\u001b[0m\u001b[0;34m(\u001b[0m\u001b[0;34m-\u001b[0m\u001b[0;36m1\u001b[0m\u001b[0;34m,\u001b[0m \u001b[0;36m2\u001b[0m\u001b[0;34m)\u001b[0m\u001b[0;34m\u001b[0m\u001b[0;34m\u001b[0m\u001b[0m\n\u001b[0m",
            "\u001b[0;32m/var/folders/gc/zfy2pjf944jdkfwzcppblklw0000gn/T/ipykernel_8018/2698131731.py\u001b[0m in \u001b[0;36mtriangle_area\u001b[0;34m(base, height)\u001b[0m\n\u001b[1;32m      1\u001b[0m \u001b[0;32mdef\u001b[0m \u001b[0mtriangle_area\u001b[0m\u001b[0;34m(\u001b[0m\u001b[0mbase\u001b[0m\u001b[0;34m,\u001b[0m \u001b[0mheight\u001b[0m\u001b[0;34m)\u001b[0m\u001b[0;34m:\u001b[0m\u001b[0;34m\u001b[0m\u001b[0;34m\u001b[0m\u001b[0m\n\u001b[1;32m      2\u001b[0m     \u001b[0;32mif\u001b[0m \u001b[0mbase\u001b[0m \u001b[0;34m<\u001b[0m \u001b[0;36m0\u001b[0m \u001b[0;32mor\u001b[0m \u001b[0mheight\u001b[0m \u001b[0;34m<\u001b[0m \u001b[0;36m0\u001b[0m\u001b[0;34m:\u001b[0m\u001b[0;34m\u001b[0m\u001b[0;34m\u001b[0m\u001b[0m\n\u001b[0;32m----> 3\u001b[0;31m         \u001b[0;32mraise\u001b[0m \u001b[0mValueError\u001b[0m\u001b[0;34m(\u001b[0m\u001b[0;34m\"Base and height must be non-negative\"\u001b[0m\u001b[0;34m)\u001b[0m\u001b[0;34m\u001b[0m\u001b[0;34m\u001b[0m\u001b[0m\n\u001b[0m\u001b[1;32m      4\u001b[0m     \u001b[0;32mreturn\u001b[0m \u001b[0;36m0.5\u001b[0m \u001b[0;34m*\u001b[0m \u001b[0mbase\u001b[0m \u001b[0;34m*\u001b[0m \u001b[0mheight\u001b[0m\u001b[0;34m\u001b[0m\u001b[0;34m\u001b[0m\u001b[0m\n\u001b[1;32m      5\u001b[0m \u001b[0;34m\u001b[0m\u001b[0m\n",
            "\u001b[0;31mValueError\u001b[0m: Base and height must be non-negative"
          ]
        }
      ],
      "source": [
        "def triangle_area(base, height):\n",
        "    if base < 0 or height < 0:\n",
        "        raise ValueError(\"Base and height must be non-negative\")\n",
        "    return 0.5 * base * height\n",
        "\n",
        "triangle_area(-1, 2)"
      ]
    },
    {
      "cell_type": "code",
      "execution_count": null,
      "metadata": {
        "id": "SMAVj93lCu9T",
        "outputId": "f0ee8a9f-fdda-4d2a-e67a-6384fcaa6429"
      },
      "outputs": [
        {
          "data": {
            "text/plain": [
              "6"
            ]
          },
          "execution_count": 117,
          "metadata": {},
          "output_type": "execute_result"
        }
      ],
      "source": [
        "# everything in python is an object, and can be passed into a function\n",
        "def f(x):\n",
        "    return x+2\n",
        "\n",
        "def twice(g,x):\n",
        "    return g(g(x))\n",
        "\n",
        "twice(f,2) # + 4"
      ]
    },
    {
      "cell_type": "code",
      "execution_count": null,
      "metadata": {
        "id": "Sw0iMf-LCu9T",
        "outputId": "1772cc7b-6a4a-43dc-8e85-ed123db35c93"
      },
      "outputs": [
        {
          "data": {
            "text/plain": [
              "11"
            ]
          },
          "execution_count": 119,
          "metadata": {},
          "output_type": "execute_result"
        }
      ],
      "source": [
        "def n_apply(f, x, n):\n",
        "    \"\"\"applies f to x n times\"\"\"\n",
        "    for _ in range(n):  # _ is dummy variable in iteration\n",
        "        x = f(x)\n",
        "    return x\n",
        "\n",
        "n_apply(f, 1, 5) # 1 + 2*5"
      ]
    },
    {
      "cell_type": "code",
      "execution_count": null,
      "metadata": {
        "id": "G0nPhw97Cu9T"
      },
      "outputs": [],
      "source": [
        "def g(a, x, b=0):\n",
        "    return a * x + b"
      ]
    },
    {
      "cell_type": "code",
      "execution_count": null,
      "metadata": {
        "id": "m_7MMvRzCu9T"
      },
      "outputs": [],
      "source": [
        "def h(a, b, x=3,y=2):\n",
        "    return a * x + b*y"
      ]
    },
    {
      "cell_type": "code",
      "execution_count": null,
      "metadata": {
        "id": "3uEqNxN8Cu9U",
        "outputId": "34bee4c8-2b89-4cfc-9cfd-4f5ce9116dda"
      },
      "outputs": [
        {
          "data": {
            "text/plain": [
              "4"
            ]
          },
          "execution_count": 131,
          "metadata": {},
          "output_type": "execute_result"
        }
      ],
      "source": [
        "h(1,1,y=1) #equivalent to h(1,1,3,1)"
      ]
    },
    {
      "cell_type": "code",
      "execution_count": null,
      "metadata": {
        "id": "rOFsUsfECu9U",
        "outputId": "1125f556-ab4b-43db-fe7e-c40e3a966d51"
      },
      "outputs": [
        {
          "data": {
            "text/plain": [
              "22"
            ]
          },
          "execution_count": 132,
          "metadata": {},
          "output_type": "execute_result"
        }
      ],
      "source": [
        "h(x=4,a=5,y=1,b=2)"
      ]
    },
    {
      "cell_type": "code",
      "execution_count": null,
      "metadata": {
        "id": "ijdl3SW2Cu9U",
        "outputId": "12bc7031-ab88-42c6-e5f5-8f9b55604b06"
      },
      "outputs": [
        {
          "data": {
            "text/plain": [
              "11"
            ]
          },
          "execution_count": 133,
          "metadata": {},
          "output_type": "execute_result"
        }
      ],
      "source": [
        "g(2, 5, 1)"
      ]
    },
    {
      "cell_type": "code",
      "execution_count": null,
      "metadata": {
        "id": "2NI3poitCu9U",
        "outputId": "fb4e214c-b160-4786-a287-e9297a227591"
      },
      "outputs": [
        {
          "data": {
            "text/plain": [
              "10"
            ]
          },
          "execution_count": 134,
          "metadata": {},
          "output_type": "execute_result"
        }
      ],
      "source": [
        "g(2, 5)"
      ]
    },
    {
      "cell_type": "markdown",
      "metadata": {
        "id": "cHQVmOGOCu9U"
      },
      "source": [
        "# Exercise 1\n",
        "\n",
        "(10 minutes)\n",
        "\n",
        "1. Print every power of 2 less than 10,000\n",
        "2. Write a function that takes two inputs, $a$ and $b$ and returns the value of $a+2b$\n",
        "3. Write a function takes a number $n$ as input, and prints all [Fibonacci numbers](https://en.wikipedia.org/wiki/Fibonacci_number) less than $n$"
      ]
    },
    {
      "cell_type": "code",
      "execution_count": null,
      "metadata": {
        "id": "HJ6rauQGCu9V"
      },
      "outputs": [],
      "source": [
        "#YOUR CODE HERE\n",
        "n = 1\n",
        "while n < 10000:\n",
        "    #print(n)\n",
        "    n *= 2\n"
      ]
    },
    {
      "cell_type": "code",
      "execution_count": null,
      "metadata": {
        "id": "OmKU2k5hCu9V",
        "outputId": "f61c75ad-174b-4bd4-b42e-fb3b9a1ebed0"
      },
      "outputs": [
        {
          "data": {
            "text/plain": [
              "5"
            ]
          },
          "execution_count": 138,
          "metadata": {},
          "output_type": "execute_result"
        }
      ],
      "source": [
        "def f(a,b):\n",
        "    return a+2*b\n",
        "f(1,2)"
      ]
    },
    {
      "cell_type": "code",
      "execution_count": null,
      "metadata": {
        "id": "57zJCxDgCu9V",
        "outputId": "ff21df9e-3b87-4342-b3ad-b4048bdb38ae"
      },
      "outputs": [
        {
          "name": "stdout",
          "output_type": "stream",
          "text": [
            "1\n",
            "2\n",
            "3\n",
            "5\n",
            "8\n",
            "13\n",
            "21\n",
            "34\n",
            "55\n",
            "89\n",
            "144\n",
            "233\n",
            "377\n",
            "610\n",
            "987\n"
          ]
        }
      ],
      "source": [
        "def fib(n):\n",
        "    a =1\n",
        "    b = 1\n",
        "    while b < n:\n",
        "        print(b)\n",
        "        a,b = b,a+b\n",
        "        \n",
        "fib(1000)"
      ]
    },
    {
      "cell_type": "markdown",
      "metadata": {
        "id": "CCeSOTeFCu9W"
      },
      "source": [
        "# Lists\n",
        "\n",
        "A list in Python is an ordered (and indexed) collection of objects"
      ]
    },
    {
      "cell_type": "code",
      "execution_count": null,
      "metadata": {
        "id": "s_HXTowRCu9W",
        "outputId": "faedc75e-8dc5-478f-c28b-a2d56c628b5d"
      },
      "outputs": [
        {
          "name": "stdout",
          "output_type": "stream",
          "text": [
            "['x', 1, 3.5]\n"
          ]
        },
        {
          "data": {
            "text/plain": [
              "'x'"
            ]
          },
          "execution_count": 145,
          "metadata": {},
          "output_type": "execute_result"
        }
      ],
      "source": [
        "a = ['x', 1, 3.5]\n",
        "print(a)\n",
        "a[0]"
      ]
    },
    {
      "cell_type": "markdown",
      "metadata": {
        "id": "Dr5oAGH7Cu9W"
      },
      "source": [
        "You can iterate over lists in a very natural way"
      ]
    },
    {
      "cell_type": "code",
      "execution_count": null,
      "metadata": {
        "id": "REJPIMUcCu9W",
        "outputId": "b574b615-52db-466d-b27d-c5d5f63cdab2"
      },
      "outputs": [
        {
          "name": "stdout",
          "output_type": "stream",
          "text": [
            "step1\n",
            "step2\n"
          ]
        }
      ],
      "source": [
        "for elt in [\"step1\", \"step2\"]:\n",
        "    print(elt)"
      ]
    },
    {
      "cell_type": "markdown",
      "metadata": {
        "id": "l4bYZJR4Cu9W"
      },
      "source": [
        "Python indexing starts at 0."
      ]
    },
    {
      "cell_type": "code",
      "execution_count": null,
      "metadata": {
        "id": "fvNd0aCgCu9W",
        "outputId": "760190b1-a159-49fb-fe2d-7889708699ea"
      },
      "outputs": [
        {
          "data": {
            "text/plain": [
              "['overwritten', 1, 3.5]"
            ]
          },
          "execution_count": 147,
          "metadata": {},
          "output_type": "execute_result"
        }
      ],
      "source": [
        "a[0] = \"overwritten\"\n",
        "a"
      ]
    },
    {
      "cell_type": "code",
      "execution_count": null,
      "metadata": {
        "id": "9rfXWr-4Cu9X",
        "outputId": "ec9c3cc5-4afb-4d5e-9407-61ad55bbe710"
      },
      "outputs": [
        {
          "name": "stdout",
          "output_type": "stream",
          "text": [
            "[<function f at 0x7fba606fac10>, [1, 2, 2.1]]\n"
          ]
        }
      ],
      "source": [
        "#can even put functions and other lists inside of lists!\n",
        "def f(x):\n",
        "    return x\n",
        "\n",
        "b = [f, [1,2,2.1]]\n",
        "print(b)"
      ]
    },
    {
      "cell_type": "markdown",
      "metadata": {
        "id": "57dZry7VCu9X"
      },
      "source": [
        "You can append to lists using `.append()`, and do other operations, such as `pop()`, `insert()`, etc."
      ]
    },
    {
      "cell_type": "code",
      "execution_count": null,
      "metadata": {
        "id": "QHmCTfqHCu9X",
        "outputId": "20efcd66-319a-46b3-d353-d5679312a50c"
      },
      "outputs": [
        {
          "name": "stdout",
          "output_type": "stream",
          "text": [
            "[]\n",
            "[0]\n",
            "[0, 1]\n",
            "[0, 1, 4]\n",
            "[0, 1, 4, 9]\n",
            "[0, 1, 4, 9, 16]\n",
            "[0, 1, 4, 9, 16, 25]\n",
            "[0, 1, 4, 9, 16, 25, 36]\n",
            "[0, 1, 4, 9, 16, 25, 36, 49]\n",
            "[0, 1, 4, 9, 16, 25, 36, 49, 64]\n",
            "[0, 1, 4, 9, 16, 25, 36, 49, 64, 81]\n"
          ]
        }
      ],
      "source": [
        "a = []\n",
        "print(a)\n",
        "for i in range(10):\n",
        "    a.append(i**2)\n",
        "    print(a)"
      ]
    },
    {
      "cell_type": "code",
      "execution_count": null,
      "metadata": {
        "id": "SUmHm8sMCu9X",
        "outputId": "3b9e49c4-7443-4036-e7e7-a99e88cf584d"
      },
      "outputs": [
        {
          "name": "stdout",
          "output_type": "stream",
          "text": [
            "Removed 81, a is now [0, 1, 4, 9, 16, 25, 36, 49, 64]\n",
            "Removed 64, a is now [0, 1, 4, 9, 16, 25, 36, 49]\n",
            "Removed 49, a is now [0, 1, 4, 9, 16, 25, 36]\n",
            "Removed 36, a is now [0, 1, 4, 9, 16, 25]\n",
            "Removed 25, a is now [0, 1, 4, 9, 16]\n",
            "Removed 16, a is now [0, 1, 4, 9]\n",
            "Removed 9, a is now [0, 1, 4]\n",
            "Removed 4, a is now [0, 1]\n",
            "Removed 1, a is now [0]\n",
            "Removed 0, a is now []\n"
          ]
        }
      ],
      "source": [
        "while len(a) > 0:\n",
        "    elt = a.pop()\n",
        "    print(f\"Removed {elt}, a is now {a}\")"
      ]
    },
    {
      "cell_type": "code",
      "execution_count": null,
      "metadata": {
        "id": "rB0zQwlWCu9Y",
        "outputId": "b9bb7591-89f4-4867-9956-8987f6832634"
      },
      "outputs": [
        {
          "name": "stdout",
          "output_type": "stream",
          "text": [
            "[1, 'new value', 2, 3]\n"
          ]
        }
      ],
      "source": [
        "a = [1,2,3]\n",
        "a.insert(1,'new value')\n",
        "print(a)"
      ]
    },
    {
      "cell_type": "code",
      "execution_count": null,
      "metadata": {
        "id": "T1JqR1VkCu9Y",
        "outputId": "b712b4f0-c6eb-4988-885d-85597fff2c1b"
      },
      "outputs": [
        {
          "name": "stdout",
          "output_type": "stream",
          "text": [
            "[1, 2, 3]\n"
          ]
        }
      ],
      "source": [
        "a.remove('new value')\n",
        "print(a)"
      ]
    },
    {
      "cell_type": "code",
      "execution_count": null,
      "metadata": {
        "id": "MWM29jKHCu9Y",
        "outputId": "4a722601-54eb-4626-a024-e09ef2e86a02"
      },
      "outputs": [
        {
          "name": "stdout",
          "output_type": "stream",
          "text": [
            "[1, 2, 3, 'x', 'y']\n"
          ]
        }
      ],
      "source": [
        "a = [1,2,3]\n",
        "b = [\"x\", \"y\"]\n",
        "a.extend(b)\n",
        "print(a)"
      ]
    },
    {
      "cell_type": "code",
      "execution_count": null,
      "metadata": {
        "id": "duaMQthRCu9Y",
        "outputId": "f2734241-5550-4ac7-e94f-ccfd9b5f87fd"
      },
      "outputs": [
        {
          "data": {
            "text/plain": [
              "[1, 2, 3, 'x', 'y', 'x', 'y']"
            ]
          },
          "execution_count": 159,
          "metadata": {},
          "output_type": "execute_result"
        }
      ],
      "source": [
        "a+b"
      ]
    },
    {
      "cell_type": "code",
      "execution_count": null,
      "metadata": {
        "id": "TRSVBlwbCu9Z",
        "outputId": "f172a4f3-bafc-4d73-a33d-d03f454f7cdb"
      },
      "outputs": [
        {
          "name": "stdout",
          "output_type": "stream",
          "text": [
            "a + [1,2]: [1, 2, 3, 'x', 'y', 1, 2]\n"
          ]
        }
      ],
      "source": [
        "print(f\"a + [1,2]: {a + [1,2]}\")"
      ]
    },
    {
      "cell_type": "markdown",
      "metadata": {
        "id": "xv84xpRFCu9Z"
      },
      "source": [
        "Python terminology:\n",
        "* a list is a \"class\"\n",
        "* the variable `a` is an object, or instance of the class\n",
        "* `append()` is a method"
      ]
    },
    {
      "cell_type": "markdown",
      "metadata": {
        "id": "0XBRDt14Cu9Z"
      },
      "source": [
        "Lists in python are only implicitly collections of the objects that constitute them. Setting one array equal to another can lead to unexpected results:"
      ]
    },
    {
      "cell_type": "code",
      "execution_count": null,
      "metadata": {
        "id": "iEsVuT3eCu9Z",
        "outputId": "21645ff2-960c-4e96-c520-5c0a3560ab4a"
      },
      "outputs": [
        {
          "name": "stdout",
          "output_type": "stream",
          "text": [
            "original a:, ['edited', 2, 3, 'x', 'y']\n",
            "original b:, ['edited', 2, 3, 'x', 'y']\n",
            "after edit...\n",
            "a:, ['edited', 2, 3, 'x', 'y']\n",
            "b:, ['edited', 2, 3, 'x', 'y']\n"
          ]
        }
      ],
      "source": [
        "b = a #shallow\n",
        "b = a.copy() # deep\n",
        "print(f\"original a:, {a}\")\n",
        "print(f\"original b:, {b}\")\n",
        "b[0] = \"edited\"\n",
        "print(\"after edit...\")\n",
        "print(f\"a:, {a}\")\n",
        "print(f\"b:, {b}\")"
      ]
    },
    {
      "cell_type": "code",
      "execution_count": null,
      "metadata": {
        "id": "CdYXefm1Cu9a"
      },
      "outputs": [],
      "source": [
        "a.copy?\n",
        "\n",
        "#start here lecture 2"
      ]
    },
    {
      "cell_type": "markdown",
      "metadata": {
        "id": "Cy18CkFICu9a"
      },
      "source": [
        "A list only stores some pointers to locations in your computer's memory: when we wrote `b = a` Python created a new list `b` which shares its entries with `a`. \n",
        "\n",
        "The function `.copy()` will create a completely distinct copy with new objects."
      ]
    },
    {
      "cell_type": "markdown",
      "metadata": {
        "id": "pfo3GJmKCu9a"
      },
      "source": [
        "## List Comprehensions\n",
        "\n",
        "Python's list comprehensions let you create lists in a way that is reminiscent of set notation\n",
        "\n",
        "$$ S = \\{ \\sqrt{x} ~\\mid~ 0 \\le x \\le 20, x\\mod 3 = 0\\}$$"
      ]
    },
    {
      "cell_type": "code",
      "execution_count": null,
      "metadata": {
        "id": "7wx5rySyCu9a"
      },
      "outputs": [],
      "source": [
        "import math\n",
        "S = [math.sqrt(x) for x in range(21) if x % 3 == 0]\n",
        "S"
      ]
    },
    {
      "cell_type": "code",
      "execution_count": null,
      "metadata": {
        "id": "BO3ZtsLDCu9b"
      },
      "outputs": [],
      "source": [
        "S= []\n",
        "for x in range(21):\n",
        "    if x % 3 == 0:\n",
        "        S += [math.sqrt(x)]\n",
        "S"
      ]
    },
    {
      "cell_type": "code",
      "execution_count": null,
      "metadata": {
        "id": "Ju9WIxTBCu9b"
      },
      "outputs": [],
      "source": [
        "S = []\n",
        "for i in range(2):\n",
        "    for j in range(2):\n",
        "        for k in range(2):\n",
        "            if (i + j + k)%2 == 0:\n",
        "                S += [(i,j,k)]\n",
        "\n",
        "S"
      ]
    },
    {
      "cell_type": "code",
      "execution_count": null,
      "metadata": {
        "id": "O9Cx26-nCu9b"
      },
      "outputs": [],
      "source": [
        "# you aren't restricted to a single for loop\n",
        "S = [(i,j,k) for i in range(2) for j in range(2) for k in range(2) if (i + j + k)%2 == 0]\n",
        "S"
      ]
    },
    {
      "cell_type": "markdown",
      "metadata": {
        "id": "_HfYQv5fCu9b"
      },
      "source": [
        "Syntax is generally\n",
        "```python3\n",
        "S = [<elt> <for statement> <conditional>]\n",
        "```"
      ]
    },
    {
      "cell_type": "markdown",
      "metadata": {
        "id": "pOjQ60YaCu9b"
      },
      "source": [
        "# Other Collections\n",
        "\n",
        "We've seen the `list` class, which is ordered, indexed, and mutable.  There are other Python collections that you may find useful:\n",
        "* `tuple` which is ordered, indexed, and immutable\n",
        "* `set` which is unordered, unindexed, mutable, and doesn't allow for duplicate elements\n",
        "* `dict` (dictionary), which is unordered, indexed, and mutable, with no duplicate keys."
      ]
    },
    {
      "cell_type": "code",
      "execution_count": null,
      "metadata": {
        "id": "Q2R_M4irCu9c"
      },
      "outputs": [],
      "source": [
        "a_tuple = (1, 2, 4)\n",
        "a_tuple[0] = 3"
      ]
    },
    {
      "cell_type": "code",
      "execution_count": null,
      "metadata": {
        "id": "KM4_q3UwCu9c"
      },
      "outputs": [],
      "source": [
        "a_set = {5, 3, 2, 5}\n",
        "for i in a_set:\n",
        "    print(i)"
      ]
    },
    {
      "cell_type": "code",
      "execution_count": null,
      "metadata": {
        "id": "MJgWACwWCu9c"
      },
      "outputs": [],
      "source": [
        "a_set.add(6)\n",
        "a_set.remove(6)\n",
        "a_set"
      ]
    },
    {
      "cell_type": "code",
      "execution_count": null,
      "metadata": {
        "id": "91chA26sCu9c"
      },
      "outputs": [],
      "source": [
        "a_dict = {}\n",
        "a_dict[5] = 12\n",
        "a_dict[\"key_2\"] = 27\n",
        "a_dict[\"key_3\"] = [13, \"value\"]\n",
        "a_dict[5] = \"new value\"\n",
        "a_dict[\"key_2\"] = 28\n",
        "a_dict"
      ]
    },
    {
      "cell_type": "code",
      "execution_count": null,
      "metadata": {
        "id": "NuNSCZauCu9c"
      },
      "outputs": [],
      "source": [
        "a_dict_copy = {5: 'new value', 'key_2': 28, 'key_3': [13, 'value']}"
      ]
    },
    {
      "cell_type": "markdown",
      "metadata": {
        "id": "YEQPSkh8Cu9d"
      },
      "source": [
        "# Exercise 2\n",
        "\n",
        "**Lists**\n",
        "1. Create a list `['a', 'b', 'c']`\n",
        "2. use the `insert()` method to put the element `'d'` at index 1\n",
        "3. use the `remove()` method to delete the element `'b'` in the list\n",
        "\n",
        "**List comprehensions**\n",
        "1. What does the following list contain?\n",
        "```python \n",
        "X = [i for i in range(100)]\n",
        "```\n",
        "2. Interpret the following set as a list comprehension:\n",
        "$S_1 = \\{x\\in X \\mid x\\mod 5 = 2\\}$\n",
        "3. Intepret the following set as a list comprehension: $S_2 = \\{x \\in S_1 \\mid x \\text{ is even}\\}$\n",
        "4. generate the set of all tuples $(x,y)$ where $x\\in S_1$, $y\\in S_2$.\n",
        "\n",
        "**Other Collections**\n",
        "1. Try creating another type of collection\n",
        "2. try iterating over it."
      ]
    },
    {
      "cell_type": "code",
      "execution_count": null,
      "metadata": {
        "id": "nYo6mDLtCu9d"
      },
      "outputs": [],
      "source": [
        ""
      ]
    },
    {
      "cell_type": "markdown",
      "metadata": {
        "id": "Fw7MZ2EcCu9d"
      },
      "source": [
        "# Classes\n",
        "\n",
        "Classes let you abstract away details while programming."
      ]
    },
    {
      "cell_type": "code",
      "execution_count": null,
      "metadata": {
        "id": "46NwX2A9Cu9d"
      },
      "outputs": [],
      "source": [
        "class Animal:\n",
        "    def say_hi(self):\n",
        "        print(\"Hello!\")"
      ]
    },
    {
      "cell_type": "code",
      "execution_count": null,
      "metadata": {
        "id": "Ti3ndk41Cu9d"
      },
      "outputs": [],
      "source": [
        "x = Animal()\n",
        "x.say_hi()"
      ]
    },
    {
      "cell_type": "markdown",
      "metadata": {
        "id": "F-PgQ4_oCu9d"
      },
      "source": [
        "## Example: Rational Numbers\n",
        "\n",
        "Here we'l make a class that holds rational numbers (fractions).  That is, numbers of the form\n",
        "$$r = \\frac{p}{q}$$\n",
        "where $p$ and $q$ are integers"
      ]
    },
    {
      "cell_type": "code",
      "execution_count": null,
      "metadata": {
        "id": "9C1Jl-UmCu9e"
      },
      "outputs": [],
      "source": [
        "class Rational:\n",
        "    def __init__(self, p, q=1):\n",
        "    \n",
        "        if q == 0:\n",
        "            raise ValueError('Denominator must not be zero')\n",
        "        if not isinstance(p, int):\n",
        "            raise ValueError('Numerator must be an integer')\n",
        "        if not isinstance(q, int):\n",
        "            raise ValueError('Denominator must be an integer')\n",
        "        \n",
        "        g = math.gcd(p, q)\n",
        "        \n",
        "        self.p = p // g # integer division\n",
        "        self.q = q // g\n",
        "    \n",
        "    # method to convert rational to float\n",
        "    def __float__(self):\n",
        "        return self.p / self.q\n",
        "    \n",
        "    # method to convert rational to string for printing\n",
        "    def __str__(self):\n",
        "        return f'{self.p}/{self.q}'\n",
        "    \n",
        "    def __repr__(self):\n",
        "        return f'Rational({self.p}, {self.q})'\n"
      ]
    },
    {
      "cell_type": "code",
      "execution_count": null,
      "metadata": {
        "id": "pi7dzaqFCu9e"
      },
      "outputs": [],
      "source": [
        "a = Rational(6, 4)\n",
        "b = Rational(3, 2)\n",
        "\n",
        "print(type(a))\n",
        "print(f\"a = {a}\")\n",
        "print(f\"b = {b}\")\n",
        "print([a,b])\n",
        "print(f\"float(a) = {float(a)}\")"
      ]
    },
    {
      "cell_type": "code",
      "execution_count": null,
      "metadata": {
        "id": "y1Pf7fK1Cu9e"
      },
      "outputs": [],
      "source": [
        "a + b"
      ]
    },
    {
      "cell_type": "markdown",
      "metadata": {
        "id": "WzbYFUobCu9e"
      },
      "source": [
        "You can do cool things like overload math operators.  This lets you write code that looks like you would write math.  Recall\n",
        "\n",
        "$$ \\frac{p_1}{q_1} + \\frac{p_2}{q_2} = \\frac{p_1 q_2 + p_2 q_1}{q_1 q_2}$$\n",
        "\n",
        "We'll see this next time!"
      ]
    }
  ],
  "metadata": {
    "kernelspec": {
      "display_name": "Python 3 (ipykernel)",
      "language": "python",
      "name": "python3"
    },
    "language_info": {
      "codemirror_mode": {
        "name": "ipython",
        "version": 3
      },
      "file_extension": ".py",
      "mimetype": "text/x-python",
      "name": "python",
      "nbconvert_exporter": "python",
      "pygments_lexer": "ipython3",
      "version": "3.9.7"
    },
    "colab": {
      "name": "1-SciProg_Python_basics.ipynb",
      "provenance": [],
      "collapsed_sections": [
        "3bQKgaCGCu9I",
        "JodDPkDJCu9M",
        "39zBRd3gCu9O",
        "oXQ-NhWLCu9S",
        "VZ-6T8RaCu9S",
        "cHQVmOGOCu9U",
        "CCeSOTeFCu9W",
        "pfo3GJmKCu9a",
        "pOjQ60YaCu9b",
        "YEQPSkh8Cu9d",
        "Fw7MZ2EcCu9d",
        "F-PgQ4_oCu9d"
      ],
      "include_colab_link": true
    }
  },
  "nbformat": 4,
  "nbformat_minor": 0
}