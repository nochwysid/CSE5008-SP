{
  "cells": [
    {
      "cell_type": "markdown",
      "metadata": {
        "id": "view-in-github",
        "colab_type": "text"
      },
      "source": [
        "<a href=\"https://colab.research.google.com/github/nochwysid/CSE5008-SP/blob/main/3_SciProg_Numpy_info.ipynb\" target=\"_parent\"><img src=\"https://colab.research.google.com/assets/colab-badge.svg\" alt=\"Open In Colab\"/></a>"
      ]
    },
    {
      "cell_type": "markdown",
      "source": [
        "%%timeit, list comp in arrays, arrays in list comp, broadcasting, matrix creation, squeeze, combining operations,  \n",
        "@ (matmul operator), "
      ],
      "metadata": {
        "id": "GquFFQrb7QFE"
      }
    },
    {
      "cell_type": "code",
      "execution_count": null,
      "metadata": {
        "id": "ASZxjA0d-frm"
      },
      "outputs": [],
      "source": [
        "import numpy as np"
      ]
    },
    {
      "cell_type": "markdown",
      "metadata": {
        "id": "5NXATF-s-frq"
      },
      "source": [
        "## Numpy\n",
        "\n",
        "Main object type is `np.array`\n",
        "\n",
        "Many ways to create it,\n",
        "\n",
        "One way is to convert a python list"
      ]
    },
    {
      "cell_type": "code",
      "execution_count": null,
      "metadata": {
        "id": "VCnmrb-L-frs",
        "outputId": "30bdcf0d-0b4f-4293-c119-9fb762b6d37c",
        "colab": {
          "base_uri": "https://localhost:8080/"
        }
      },
      "outputs": [
        {
          "output_type": "execute_result",
          "data": {
            "text/plain": [
              "array([1, 2, 3])"
            ]
          },
          "metadata": {},
          "execution_count": 2
        }
      ],
      "source": [
        "python_list = [ 1,2,3 ]\n",
        "np.array(python_list)"
      ]
    },
    {
      "cell_type": "code",
      "execution_count": null,
      "metadata": {
        "id": "P2nfNa3I-frt",
        "outputId": "347cdaa5-507b-43b7-c6ac-1337bef11ba4",
        "colab": {
          "base_uri": "https://localhost:8080/"
        }
      },
      "outputs": [
        {
          "output_type": "execute_result",
          "data": {
            "text/plain": [
              "array([1, 2, 3])"
            ]
          },
          "metadata": {},
          "execution_count": 3
        }
      ],
      "source": [
        "arr = np.array([1,2,3])\n",
        "arr"
      ]
    },
    {
      "cell_type": "markdown",
      "metadata": {
        "id": "Ci5ESrei-fru"
      },
      "source": [
        "Many times a list comprehension is used to create a list and then converted to a array"
      ]
    },
    {
      "cell_type": "code",
      "execution_count": null,
      "metadata": {
        "id": "0rehFOQk-fru",
        "outputId": "51ffd9e0-42f0-4b60-e8aa-2d0b822e7ce4",
        "colab": {
          "base_uri": "https://localhost:8080/"
        }
      },
      "outputs": [
        {
          "output_type": "execute_result",
          "data": {
            "text/plain": [
              "array([  4,   8, 512])"
            ]
          },
          "metadata": {},
          "execution_count": 4
        }
      ],
      "source": [
        "arr = np.array([ 2**i for i in [2,3,9] ])\n",
        "arr"
      ]
    },
    {
      "cell_type": "code",
      "execution_count": null,
      "metadata": {
        "id": "cjsk5ruK-frv",
        "outputId": "53144859-356a-4999-8a09-bc1c6ad1dfa5",
        "colab": {
          "base_uri": "https://localhost:8080/"
        }
      },
      "outputs": [
        {
          "output_type": "execute_result",
          "data": {
            "text/plain": [
              "array([  1,   2,   4,   8,  16,  64, 128, 256, 512])"
            ]
          },
          "metadata": {},
          "execution_count": 5
        }
      ],
      "source": [
        "arr = np.array([ 2**i for i in range(10) if i!= 5 ])\n",
        "arr"
      ]
    },
    {
      "cell_type": "markdown",
      "metadata": {
        "id": "tKF0tItM-frw"
      },
      "source": [
        "### Exercise\n",
        "Create a numpy array that contain  intergers i  such that  0<i<100 and $2^i$ has the last digit 6"
      ]
    },
    {
      "cell_type": "code",
      "execution_count": null,
      "metadata": {
        "id": "EjHs0gcW-frw",
        "outputId": "e5d8a632-b8ff-485b-b520-728198e3849a",
        "colab": {
          "base_uri": "https://localhost:8080/"
        }
      },
      "outputs": [
        {
          "output_type": "execute_result",
          "data": {
            "text/plain": [
              "array([ 4,  8, 12, 16, 20, 24, 28, 32, 36, 40, 44, 48, 52, 56, 60, 64, 68,\n",
              "       72, 76, 80, 84, 88, 92, 96])"
            ]
          },
          "metadata": {},
          "execution_count": 6
        }
      ],
      "source": [
        "np.array([ i for i in range(1,100) if (2**i)%10 == 6])"
      ]
    },
    {
      "cell_type": "markdown",
      "metadata": {
        "id": "3s3IRRoU-frx"
      },
      "source": [
        "Create a 2D numpy array $A$ such that $A_{ij} = i\\times j$"
      ]
    },
    {
      "cell_type": "code",
      "execution_count": null,
      "metadata": {
        "id": "LiK5fLwF-frx",
        "outputId": "b1dcf849-782e-4263-f9a9-58fae7568ee4",
        "colab": {
          "base_uri": "https://localhost:8080/"
        }
      },
      "outputs": [
        {
          "output_type": "execute_result",
          "data": {
            "text/plain": [
              "63"
            ]
          },
          "metadata": {},
          "execution_count": 7
        }
      ],
      "source": [
        "np.array([[i*j for i in range(10)] for j in range(10)])[7,9]"
      ]
    },
    {
      "cell_type": "markdown",
      "metadata": {
        "id": "xQYMktpc-fry"
      },
      "source": [
        "## Vectorization"
      ]
    },
    {
      "cell_type": "code",
      "execution_count": null,
      "metadata": {
        "id": "6k9LXGwG-fry"
      },
      "outputs": [],
      "source": [
        "def fn(x):\n",
        "    return x*x + 4*x +5"
      ]
    },
    {
      "cell_type": "code",
      "source": [
        "[fn(i) for i in range(20)]"
      ],
      "metadata": {
        "colab": {
          "base_uri": "https://localhost:8080/"
        },
        "id": "mjn3pFz-5us7",
        "outputId": "83a64534-e7b3-49d1-8b08-b479d6d9d65f"
      },
      "execution_count": null,
      "outputs": [
        {
          "output_type": "execute_result",
          "data": {
            "text/plain": [
              "[5,\n",
              " 10,\n",
              " 17,\n",
              " 26,\n",
              " 37,\n",
              " 50,\n",
              " 65,\n",
              " 82,\n",
              " 101,\n",
              " 122,\n",
              " 145,\n",
              " 170,\n",
              " 197,\n",
              " 226,\n",
              " 257,\n",
              " 290,\n",
              " 325,\n",
              " 362,\n",
              " 401,\n",
              " 442]"
            ]
          },
          "metadata": {},
          "execution_count": 9
        }
      ]
    },
    {
      "cell_type": "code",
      "execution_count": null,
      "metadata": {
        "id": "aPIXDIr6-fry",
        "outputId": "2f614888-bdfa-4953-bd37-627116158038",
        "colab": {
          "base_uri": "https://localhost:8080/"
        }
      },
      "outputs": [
        {
          "output_type": "execute_result",
          "data": {
            "text/plain": [
              "[5,\n",
              " 10,\n",
              " 17,\n",
              " 26,\n",
              " 37,\n",
              " 50,\n",
              " 65,\n",
              " 82,\n",
              " 101,\n",
              " 122,\n",
              " 145,\n",
              " 170,\n",
              " 197,\n",
              " 226,\n",
              " 257,\n",
              " 290,\n",
              " 325,\n",
              " 362,\n",
              " 401,\n",
              " 442]"
            ]
          },
          "metadata": {},
          "execution_count": 10
        }
      ],
      "source": [
        "test_list = [i for i in range(20)]\n",
        "[fn(i) for i in test_list]"
      ]
    },
    {
      "cell_type": "code",
      "execution_count": null,
      "metadata": {
        "id": "Wiu4_Wye-frz",
        "outputId": "1f5740dd-8c64-4781-b32e-52e0d7c41789",
        "colab": {
          "base_uri": "https://localhost:8080/"
        }
      },
      "outputs": [
        {
          "output_type": "execute_result",
          "data": {
            "text/plain": [
              "array([    5,    10,    17,    26,    37,    50,    65,    82,   101,\n",
              "         122,   145,   170,   197,   226,   257,   290,   325,   362,\n",
              "         401,   442,   485,   530,   577,   626,   677,   730,   785,\n",
              "         842,   901,   962,  1025,  1090,  1157,  1226,  1297,  1370,\n",
              "        1445,  1522,  1601,  1682,  1765,  1850,  1937,  2026,  2117,\n",
              "        2210,  2305,  2402,  2501,  2602,  2705,  2810,  2917,  3026,\n",
              "        3137,  3250,  3365,  3482,  3601,  3722,  3845,  3970,  4097,\n",
              "        4226,  4357,  4490,  4625,  4762,  4901,  5042,  5185,  5330,\n",
              "        5477,  5626,  5777,  5930,  6085,  6242,  6401,  6562,  6725,\n",
              "        6890,  7057,  7226,  7397,  7570,  7745,  7922,  8101,  8282,\n",
              "        8465,  8650,  8837,  9026,  9217,  9410,  9605,  9802, 10001,\n",
              "       10202])"
            ]
          },
          "metadata": {},
          "execution_count": 11
        }
      ],
      "source": [
        "np_test_list = np.arange(100)\n",
        "fn(np_test_list)"
      ]
    },
    {
      "cell_type": "code",
      "execution_count": null,
      "metadata": {
        "id": "ptefm8cH-frz",
        "outputId": "557de371-a59b-40e7-8669-7b4f3988f4e7",
        "colab": {
          "base_uri": "https://localhost:8080/"
        }
      },
      "outputs": [
        {
          "output_type": "stream",
          "name": "stdout",
          "text": [
            "100 loops, best of 5: 7.89 ms per loop\n"
          ]
        }
      ],
      "source": [
        "%%timeit\n",
        "x = np.linspace(0,1,10000)\n",
        "for i in range(10000):\n",
        "    x[i] = fn(x[i])\n"
      ]
    },
    {
      "cell_type": "code",
      "execution_count": null,
      "metadata": {
        "id": "nCkIcKSc-fr0",
        "outputId": "ad75db16-785f-43c3-ab5d-644adbc6d592",
        "colab": {
          "base_uri": "https://localhost:8080/"
        }
      },
      "outputs": [
        {
          "output_type": "stream",
          "name": "stdout",
          "text": [
            "The slowest run took 11.39 times longer than the fastest. This could mean that an intermediate result is being cached.\n",
            "1000 loops, best of 5: 113 µs per loop\n"
          ]
        }
      ],
      "source": [
        "%%timeit\n",
        "x = np.linspace(0,1,10000)\n",
        "fn(x)"
      ]
    },
    {
      "cell_type": "markdown",
      "metadata": {
        "id": "obxjsG-x-fr0"
      },
      "source": [
        "### Exercise\n",
        "Create an array of first 10 powers of 2"
      ]
    },
    {
      "cell_type": "code",
      "execution_count": null,
      "metadata": {
        "id": "Kff4M18K-fr0",
        "outputId": "6024ea39-51bd-423e-fb42-924d091d40fe",
        "colab": {
          "base_uri": "https://localhost:8080/"
        }
      },
      "outputs": [
        {
          "output_type": "execute_result",
          "data": {
            "text/plain": [
              "array([  1,   2,   4,   8,  16,  32,  64, 128, 256, 512])"
            ]
          },
          "metadata": {},
          "execution_count": 14
        }
      ],
      "source": [
        "2**np.arange(10)"
      ]
    },
    {
      "cell_type": "markdown",
      "metadata": {
        "id": "hY199VDU-fr1"
      },
      "source": [
        "## Another way to create a numpy array is with initializing functions\n",
        "\n",
        "- np.zeros\n",
        "- np.ones\n",
        "- np.arange\n",
        "\n",
        "These functions along with `reshape` can be used to create initial matrix without any for loops"
      ]
    },
    {
      "cell_type": "code",
      "execution_count": null,
      "metadata": {
        "id": "3y9UTkkw-fr1",
        "outputId": "c901d257-da70-4c3b-fcf7-050cc47677a7",
        "colab": {
          "base_uri": "https://localhost:8080/"
        }
      },
      "outputs": [
        {
          "output_type": "execute_result",
          "data": {
            "text/plain": [
              "array([[0., 0., 0., 0., 0., 0., 0., 0., 0., 0.],\n",
              "       [0., 0., 0., 0., 0., 0., 0., 0., 0., 0.],\n",
              "       [0., 0., 0., 0., 0., 0., 0., 0., 0., 0.],\n",
              "       [0., 0., 0., 0., 0., 0., 0., 0., 0., 0.],\n",
              "       [0., 0., 0., 0., 0., 0., 0., 0., 0., 0.],\n",
              "       [0., 0., 0., 0., 0., 0., 0., 0., 0., 0.],\n",
              "       [0., 0., 0., 0., 0., 0., 0., 0., 0., 0.],\n",
              "       [0., 0., 0., 0., 0., 0., 0., 0., 0., 0.],\n",
              "       [0., 0., 0., 0., 0., 0., 0., 0., 0., 0.],\n",
              "       [0., 0., 0., 0., 0., 0., 0., 0., 0., 0.]])"
            ]
          },
          "metadata": {},
          "execution_count": 15
        }
      ],
      "source": [
        "np.zeros((10,10))"
      ]
    },
    {
      "cell_type": "code",
      "execution_count": null,
      "metadata": {
        "id": "UKRNpLSu-fr1",
        "outputId": "efc82d30-d68a-4d3c-f916-1be242984243",
        "colab": {
          "base_uri": "https://localhost:8080/"
        }
      },
      "outputs": [
        {
          "output_type": "execute_result",
          "data": {
            "text/plain": [
              "array([[5., 5., 5., 5., 5., 5., 5., 5., 5., 5.],\n",
              "       [5., 5., 5., 5., 5., 5., 5., 5., 5., 5.],\n",
              "       [5., 5., 5., 5., 5., 5., 5., 5., 5., 5.],\n",
              "       [5., 5., 5., 5., 5., 5., 5., 5., 5., 5.],\n",
              "       [5., 5., 5., 5., 5., 5., 5., 5., 5., 5.],\n",
              "       [5., 5., 5., 5., 5., 5., 5., 5., 5., 5.],\n",
              "       [5., 5., 5., 5., 5., 5., 5., 5., 5., 5.],\n",
              "       [5., 5., 5., 5., 5., 5., 5., 5., 5., 5.],\n",
              "       [5., 5., 5., 5., 5., 5., 5., 5., 5., 5.],\n",
              "       [5., 5., 5., 5., 5., 5., 5., 5., 5., 5.]])"
            ]
          },
          "metadata": {},
          "execution_count": 16
        }
      ],
      "source": [
        "5*np.ones((10,10))"
      ]
    },
    {
      "cell_type": "code",
      "execution_count": null,
      "metadata": {
        "id": "pOt62MAJ-fr1",
        "outputId": "df508c96-02bb-46bc-949f-98c2e41afaf2",
        "colab": {
          "base_uri": "https://localhost:8080/"
        }
      },
      "outputs": [
        {
          "output_type": "execute_result",
          "data": {
            "text/plain": [
              "array([2, 4, 6, 8])"
            ]
          },
          "metadata": {},
          "execution_count": 17
        }
      ],
      "source": [
        "np.arange(2,10, 2) #equivalent to range(2,10,2)"
      ]
    },
    {
      "cell_type": "markdown",
      "metadata": {
        "id": "4AXg9s1M-fr2"
      },
      "source": [
        "You can combine these functions with arithmetic operations"
      ]
    },
    {
      "cell_type": "code",
      "execution_count": null,
      "metadata": {
        "id": "dkKfWC93-fr2",
        "outputId": "d33f5bb9-31f9-474b-aa80-af829dd004e8",
        "colab": {
          "base_uri": "https://localhost:8080/"
        }
      },
      "outputs": [
        {
          "output_type": "execute_result",
          "data": {
            "text/plain": [
              "array([[5., 5., 5., 5., 5., 5., 5., 5., 5., 5.],\n",
              "       [5., 5., 5., 5., 5., 5., 5., 5., 5., 5.],\n",
              "       [5., 5., 5., 5., 5., 5., 5., 5., 5., 5.],\n",
              "       [5., 5., 5., 5., 5., 5., 5., 5., 5., 5.],\n",
              "       [5., 5., 5., 5., 5., 5., 5., 5., 5., 5.],\n",
              "       [5., 5., 5., 5., 5., 5., 5., 5., 5., 5.],\n",
              "       [5., 5., 5., 5., 5., 5., 5., 5., 5., 5.],\n",
              "       [5., 5., 5., 5., 5., 5., 5., 5., 5., 5.],\n",
              "       [5., 5., 5., 5., 5., 5., 5., 5., 5., 5.],\n",
              "       [5., 5., 5., 5., 5., 5., 5., 5., 5., 5.]])"
            ]
          },
          "metadata": {},
          "execution_count": 18
        }
      ],
      "source": [
        "np.zeros((10,10)) + 5"
      ]
    },
    {
      "cell_type": "code",
      "execution_count": null,
      "metadata": {
        "id": "OJ9l8iBu-fr2",
        "outputId": "a6a5d3c3-ffdd-4b87-ba87-1d2edfa42895",
        "colab": {
          "base_uri": "https://localhost:8080/"
        }
      },
      "outputs": [
        {
          "output_type": "execute_result",
          "data": {
            "text/plain": [
              "array([[5., 5., 5., 5., 5., 5., 5., 5., 5., 5.],\n",
              "       [5., 5., 5., 5., 5., 5., 5., 5., 5., 5.],\n",
              "       [5., 5., 5., 5., 5., 5., 5., 5., 5., 5.],\n",
              "       [5., 5., 5., 5., 5., 5., 5., 5., 5., 5.],\n",
              "       [5., 5., 5., 5., 5., 5., 5., 5., 5., 5.],\n",
              "       [5., 5., 5., 5., 5., 5., 5., 5., 5., 5.],\n",
              "       [5., 5., 5., 5., 5., 5., 5., 5., 5., 5.],\n",
              "       [5., 5., 5., 5., 5., 5., 5., 5., 5., 5.],\n",
              "       [5., 5., 5., 5., 5., 5., 5., 5., 5., 5.],\n",
              "       [5., 5., 5., 5., 5., 5., 5., 5., 5., 5.]])"
            ]
          },
          "metadata": {},
          "execution_count": 19
        }
      ],
      "source": [
        "np.ones((10,10))*5"
      ]
    },
    {
      "cell_type": "code",
      "execution_count": null,
      "metadata": {
        "id": "zzBEzYsm-fr2",
        "outputId": "4cea65be-91de-425b-e6ed-a6bc6910234a",
        "colab": {
          "base_uri": "https://localhost:8080/"
        }
      },
      "outputs": [
        {
          "output_type": "execute_result",
          "data": {
            "text/plain": [
              "array([ 0,  1,  4,  9, 16, 25, 36, 49, 64, 81])"
            ]
          },
          "metadata": {},
          "execution_count": 20
        }
      ],
      "source": [
        "np.arange(10)*np.arange(10)"
      ]
    },
    {
      "cell_type": "code",
      "execution_count": null,
      "metadata": {
        "id": "MKBGyAVe-fr2",
        "outputId": "0cd777be-33e6-4dea-83c1-ba492d8ada6e",
        "colab": {
          "base_uri": "https://localhost:8080/"
        }
      },
      "outputs": [
        {
          "output_type": "execute_result",
          "data": {
            "text/plain": [
              "array([[ 0,  0,  0,  0,  0,  0,  0,  0,  0,  0],\n",
              "       [ 0,  1,  2,  3,  4,  5,  6,  7,  8,  9],\n",
              "       [ 0,  2,  4,  6,  8, 10, 12, 14, 16, 18],\n",
              "       [ 0,  3,  6,  9, 12, 15, 18, 21, 24, 27],\n",
              "       [ 0,  4,  8, 12, 16, 20, 24, 28, 32, 36],\n",
              "       [ 0,  5, 10, 15, 20, 25, 30, 35, 40, 45],\n",
              "       [ 0,  6, 12, 18, 24, 30, 36, 42, 48, 54],\n",
              "       [ 0,  7, 14, 21, 28, 35, 42, 49, 56, 63],\n",
              "       [ 0,  8, 16, 24, 32, 40, 48, 56, 64, 72],\n",
              "       [ 0,  9, 18, 27, 36, 45, 54, 63, 72, 81]])"
            ]
          },
          "metadata": {},
          "execution_count": 21
        }
      ],
      "source": [
        "np.arange(10).reshape(10,1)*np.arange(10)"
      ]
    },
    {
      "cell_type": "markdown",
      "metadata": {
        "id": "0W_azcWU-fr2"
      },
      "source": [
        "### Distinction between numpy 1D arrays and numpy 2D arrays\n",
        "\n",
        "This tends to cause a lot of confusion for new numpy users.\n",
        "Follow the below examples carefully to understand the distinction."
      ]
    },
    {
      "cell_type": "code",
      "execution_count": null,
      "metadata": {
        "id": "NwXzy_nl-fr3",
        "outputId": "731ae42e-1bb4-4608-ed9a-dfcd8a2cdc08",
        "colab": {
          "base_uri": "https://localhost:8080/"
        }
      },
      "outputs": [
        {
          "output_type": "stream",
          "name": "stdout",
          "text": [
            "[0 1 2 3 4 5 6 7 8 9]\n",
            "(10,)\n"
          ]
        }
      ],
      "source": [
        "X = np.arange(10)\n",
        "print(X)\n",
        "print(X.shape)"
      ]
    },
    {
      "cell_type": "code",
      "execution_count": null,
      "metadata": {
        "id": "X4d7hM-L-fr3",
        "outputId": "16f6e7a8-7ff0-49d3-dc5d-374d3b9fa3e1",
        "colab": {
          "base_uri": "https://localhost:8080/"
        }
      },
      "outputs": [
        {
          "output_type": "stream",
          "name": "stdout",
          "text": [
            "[[ 0  1  2  3]\n",
            " [ 4  5  6  7]\n",
            " [ 8  9 10 11]\n",
            " [12 13 14 15]\n",
            " [16 17 18 19]\n",
            " [20 21 22 23]]\n",
            "(6, 4)\n"
          ]
        }
      ],
      "source": [
        "Y=np.arange(24).reshape(6,4)\n",
        "print(Y)\n",
        "print(Y.shape)"
      ]
    },
    {
      "cell_type": "code",
      "execution_count": null,
      "metadata": {
        "id": "4KcDfhC6-fr3",
        "outputId": "e18872f9-f6cd-42a4-8319-d217e5135dc2",
        "colab": {
          "base_uri": "https://localhost:8080/"
        }
      },
      "outputs": [
        {
          "output_type": "execute_result",
          "data": {
            "text/plain": [
              "(10,)"
            ]
          },
          "metadata": {},
          "execution_count": 24
        }
      ],
      "source": [
        "np.zeros(10).shape"
      ]
    },
    {
      "cell_type": "code",
      "execution_count": null,
      "metadata": {
        "id": "XgZaX-bq-fr3",
        "outputId": "e68fac28-fd93-4a6c-bb35-3d56ffbda531",
        "colab": {
          "base_uri": "https://localhost:8080/"
        }
      },
      "outputs": [
        {
          "output_type": "stream",
          "name": "stdout",
          "text": [
            "[[0. 0. 0. 0. 0. 0. 0. 0. 0. 0.]]\n"
          ]
        },
        {
          "output_type": "execute_result",
          "data": {
            "text/plain": [
              "(1, 10)"
            ]
          },
          "metadata": {},
          "execution_count": 25
        }
      ],
      "source": [
        "Z = np.zeros((1,10))\n",
        "print(Z)\n",
        "Z.shape"
      ]
    },
    {
      "cell_type": "code",
      "execution_count": null,
      "metadata": {
        "id": "c6_XCtYg-fr3",
        "outputId": "2eece2eb-99e8-4c41-9636-033d2e71d281",
        "colab": {
          "base_uri": "https://localhost:8080/"
        }
      },
      "outputs": [
        {
          "output_type": "execute_result",
          "data": {
            "text/plain": [
              "(10, 1)"
            ]
          },
          "metadata": {},
          "execution_count": 26
        }
      ],
      "source": [
        "Z = np.zeros(10).reshape(10,1)\n",
        "Z.shape"
      ]
    },
    {
      "cell_type": "code",
      "execution_count": null,
      "metadata": {
        "id": "RkDEl1qa-fr4",
        "outputId": "12487ab2-d0e8-4962-b404-dccd0e216d6d",
        "colab": {
          "base_uri": "https://localhost:8080/"
        }
      },
      "outputs": [
        {
          "output_type": "execute_result",
          "data": {
            "text/plain": [
              "(10,)"
            ]
          },
          "metadata": {},
          "execution_count": 27
        }
      ],
      "source": [
        "Z.squeeze().shape"
      ]
    },
    {
      "cell_type": "code",
      "execution_count": null,
      "metadata": {
        "id": "2VC-xkKu-fr4"
      },
      "outputs": [],
      "source": [
        "Mat = np.random.randn(10,10)"
      ]
    },
    {
      "cell_type": "code",
      "execution_count": null,
      "metadata": {
        "id": "q9EKcfNQ-fr4",
        "outputId": "3b44ca2d-0a6a-43d7-c6d4-d6226bd173f0",
        "colab": {
          "base_uri": "https://localhost:8080/"
        }
      },
      "outputs": [
        {
          "output_type": "stream",
          "name": "stdout",
          "text": [
            "(10,)\n",
            "(10,)\n"
          ]
        },
        {
          "output_type": "execute_result",
          "data": {
            "text/plain": [
              "array([ 4.316378  , -0.50212419,  7.88067444, 10.67223582, 13.09903299,\n",
              "       41.7734779 , -3.29895457, 14.01726252, 15.34010793, -3.27997081])"
            ]
          },
          "metadata": {},
          "execution_count": 29
        }
      ],
      "source": [
        "print(X.shape)\n",
        "print((Mat@X).shape)\n",
        "Mat@X"
      ]
    },
    {
      "cell_type": "code",
      "execution_count": null,
      "metadata": {
        "id": "5E8Uiyqw-fr4",
        "outputId": "a843793a-223a-49cd-b9bf-497aef91f07b",
        "colab": {
          "base_uri": "https://localhost:8080/"
        }
      },
      "outputs": [
        {
          "output_type": "execute_result",
          "data": {
            "text/plain": [
              "array([[ 4.316378  ],\n",
              "       [-0.50212419],\n",
              "       [ 7.88067444],\n",
              "       [10.67223582],\n",
              "       [13.09903299],\n",
              "       [41.7734779 ],\n",
              "       [-3.29895457],\n",
              "       [14.01726252],\n",
              "       [15.34010793],\n",
              "       [-3.27997081]])"
            ]
          },
          "metadata": {},
          "execution_count": 30
        }
      ],
      "source": [
        "Z = np.arange(10).reshape(10,1)\n",
        "Mat@Z"
      ]
    },
    {
      "cell_type": "code",
      "execution_count": null,
      "metadata": {
        "id": "ZVkHrA-r-fr5",
        "outputId": "ad617425-bf42-4b9f-b025-6fb3f89ab304",
        "colab": {
          "base_uri": "https://localhost:8080/",
          "height": 236
        }
      },
      "outputs": [
        {
          "output_type": "stream",
          "name": "stdout",
          "text": [
            "(10, 10)\n",
            "(1, 10)\n"
          ]
        },
        {
          "output_type": "error",
          "ename": "ValueError",
          "evalue": "ignored",
          "traceback": [
            "\u001b[0;31m---------------------------------------------------------------------------\u001b[0m",
            "\u001b[0;31mValueError\u001b[0m                                Traceback (most recent call last)",
            "\u001b[0;32m<ipython-input-31-81cb0eab1ed8>\u001b[0m in \u001b[0;36m<module>\u001b[0;34m()\u001b[0m\n\u001b[1;32m      3\u001b[0m \u001b[0mprint\u001b[0m\u001b[0;34m(\u001b[0m\u001b[0mMat\u001b[0m\u001b[0;34m.\u001b[0m\u001b[0mshape\u001b[0m\u001b[0;34m)\u001b[0m\u001b[0;34m\u001b[0m\u001b[0;34m\u001b[0m\u001b[0m\n\u001b[1;32m      4\u001b[0m \u001b[0mprint\u001b[0m\u001b[0;34m(\u001b[0m\u001b[0mZ\u001b[0m\u001b[0;34m.\u001b[0m\u001b[0mshape\u001b[0m\u001b[0;34m)\u001b[0m\u001b[0;34m\u001b[0m\u001b[0;34m\u001b[0m\u001b[0m\n\u001b[0;32m----> 5\u001b[0;31m \u001b[0mMat\u001b[0m\u001b[0;34m@\u001b[0m\u001b[0mZ\u001b[0m\u001b[0;34m\u001b[0m\u001b[0;34m\u001b[0m\u001b[0m\n\u001b[0m",
            "\u001b[0;31mValueError\u001b[0m: matmul: Input operand 1 has a mismatch in its core dimension 0, with gufunc signature (n?,k),(k,m?)->(n?,m?) (size 1 is different from 10)"
          ]
        }
      ],
      "source": [
        "Z = np.arange(10).reshape(1,10)\n",
        "\n",
        "print(Mat.shape)\n",
        "print(Z.shape)\n",
        "Mat@Z"
      ]
    },
    {
      "cell_type": "code",
      "execution_count": null,
      "metadata": {
        "id": "huYa0IMI-fr5",
        "outputId": "1165382b-0c31-4b42-c4af-bb10a9c3e02b",
        "colab": {
          "base_uri": "https://localhost:8080/"
        }
      },
      "outputs": [
        {
          "output_type": "execute_result",
          "data": {
            "text/plain": [
              "array([[ 0,  0,  0,  0,  0,  0,  0,  0,  0,  0],\n",
              "       [ 0,  1,  2,  3,  4,  5,  6,  7,  8,  9],\n",
              "       [ 0,  2,  4,  6,  8, 10, 12, 14, 16, 18],\n",
              "       [ 0,  3,  6,  9, 12, 15, 18, 21, 24, 27],\n",
              "       [ 0,  4,  8, 12, 16, 20, 24, 28, 32, 36],\n",
              "       [ 0,  5, 10, 15, 20, 25, 30, 35, 40, 45],\n",
              "       [ 0,  6, 12, 18, 24, 30, 36, 42, 48, 54],\n",
              "       [ 0,  7, 14, 21, 28, 35, 42, 49, 56, 63],\n",
              "       [ 0,  8, 16, 24, 32, 40, 48, 56, 64, 72],\n",
              "       [ 0,  9, 18, 27, 36, 45, 54, 63, 72, 81]])"
            ]
          },
          "metadata": {},
          "execution_count": 32
        }
      ],
      "source": [
        "np.arange(10).reshape(-1,1)*np.arange(10).reshape(1,-1)"
      ]
    },
    {
      "cell_type": "code",
      "execution_count": null,
      "metadata": {
        "id": "8QpM2vwN-fr5",
        "outputId": "dbb0dee7-8246-4112-e2f9-dc8d46b661db",
        "colab": {
          "base_uri": "https://localhost:8080/"
        }
      },
      "outputs": [
        {
          "output_type": "stream",
          "name": "stdout",
          "text": [
            "0.0\n",
            "0.0\n"
          ]
        },
        {
          "output_type": "execute_result",
          "data": {
            "text/plain": [
              "array([[0., 0., 0., 0., 0., 0., 0., 0., 0., 0.],\n",
              "       [0., 0., 0., 0., 0., 0., 0., 0., 0., 0.],\n",
              "       [0., 0., 0., 0., 0., 0., 0., 0., 0., 0.],\n",
              "       [0., 0., 0., 0., 0., 0., 0., 0., 0., 0.],\n",
              "       [0., 0., 0., 0., 0., 0., 0., 0., 0., 0.],\n",
              "       [0., 0., 0., 0., 0., 0., 0., 0., 0., 0.],\n",
              "       [0., 0., 0., 0., 0., 0., 0., 0., 0., 0.],\n",
              "       [0., 0., 0., 0., 0., 0., 0., 0., 0., 0.],\n",
              "       [0., 0., 0., 0., 0., 0., 0., 0., 0., 0.],\n",
              "       [0., 0., 0., 0., 0., 0., 0., 0., 0., 0.]])"
            ]
          },
          "metadata": {},
          "execution_count": 33
        }
      ],
      "source": [
        "x = np.zeros((10,10))\n",
        "print(x[1,1])\n",
        "print(x[1][1])\n",
        "y =x.copy()\n",
        "x[1,1]= 2\n",
        "y"
      ]
    },
    {
      "cell_type": "code",
      "execution_count": null,
      "metadata": {
        "id": "5lFj7kzW-fr5",
        "outputId": "37c74307-d18f-4494-ab2a-b0defdd18351",
        "colab": {
          "base_uri": "https://localhost:8080/"
        }
      },
      "outputs": [
        {
          "output_type": "execute_result",
          "data": {
            "text/plain": [
              "array([[[ 0,  1,  2,  3],\n",
              "        [ 4,  5,  6,  7],\n",
              "        [ 8,  9, 10, 11]],\n",
              "\n",
              "       [[12, 13, 14, 15],\n",
              "        [16, 17, 18, 19],\n",
              "        [20, 21, 22, 23]]])"
            ]
          },
          "metadata": {},
          "execution_count": 34
        }
      ],
      "source": [
        "np.arange(24).reshape(2,3,-1)"
      ]
    },
    {
      "cell_type": "markdown",
      "metadata": {
        "id": "r4ILEcUe-fr5"
      },
      "source": [
        "## Array Broadcasting\n",
        "\n",
        "Normally you only do arithmetic operations between arrays of the same dimension"
      ]
    },
    {
      "cell_type": "code",
      "execution_count": null,
      "metadata": {
        "id": "lX4JmwTh-fr5",
        "outputId": "8ce940c8-3180-4589-ddaa-ed031431c175",
        "colab": {
          "base_uri": "https://localhost:8080/"
        }
      },
      "outputs": [
        {
          "output_type": "execute_result",
          "data": {
            "text/plain": [
              "array([[[1., 1., 1., 1., 1.],\n",
              "        [1., 1., 1., 1., 1.],\n",
              "        [1., 1., 1., 1., 1.],\n",
              "        [1., 1., 1., 1., 1.],\n",
              "        [1., 1., 1., 1., 1.]],\n",
              "\n",
              "       [[1., 1., 1., 1., 1.],\n",
              "        [1., 1., 1., 1., 1.],\n",
              "        [1., 1., 1., 1., 1.],\n",
              "        [1., 1., 1., 1., 1.],\n",
              "        [1., 1., 1., 1., 1.]],\n",
              "\n",
              "       [[1., 1., 1., 1., 1.],\n",
              "        [1., 1., 1., 1., 1.],\n",
              "        [1., 1., 1., 1., 1.],\n",
              "        [1., 1., 1., 1., 1.],\n",
              "        [1., 1., 1., 1., 1.]],\n",
              "\n",
              "       [[1., 1., 1., 1., 1.],\n",
              "        [1., 1., 1., 1., 1.],\n",
              "        [1., 1., 1., 1., 1.],\n",
              "        [1., 1., 1., 1., 1.],\n",
              "        [1., 1., 1., 1., 1.]],\n",
              "\n",
              "       [[1., 1., 1., 1., 1.],\n",
              "        [1., 1., 1., 1., 1.],\n",
              "        [1., 1., 1., 1., 1.],\n",
              "        [1., 1., 1., 1., 1.],\n",
              "        [1., 1., 1., 1., 1.]]])"
            ]
          },
          "metadata": {},
          "execution_count": 35
        }
      ],
      "source": [
        "np.ones((5,5,5))"
      ]
    },
    {
      "cell_type": "code",
      "execution_count": null,
      "metadata": {
        "id": "-ljBKJ12-fr5",
        "outputId": "9e95f054-2b2c-4157-cdce-f52363c2dcd7",
        "colab": {
          "base_uri": "https://localhost:8080/"
        }
      },
      "outputs": [
        {
          "output_type": "execute_result",
          "data": {
            "text/plain": [
              "array([[[  1.,   2.,   3.,   4.,   5.],\n",
              "        [  6.,   7.,   8.,   9.,  10.],\n",
              "        [ 11.,  12.,  13.,  14.,  15.],\n",
              "        [ 16.,  17.,  18.,  19.,  20.],\n",
              "        [ 21.,  22.,  23.,  24.,  25.]],\n",
              "\n",
              "       [[ 26.,  27.,  28.,  29.,  30.],\n",
              "        [ 31.,  32.,  33.,  34.,  35.],\n",
              "        [ 36.,  37.,  38.,  39.,  40.],\n",
              "        [ 41.,  42.,  43.,  44.,  45.],\n",
              "        [ 46.,  47.,  48.,  49.,  50.]],\n",
              "\n",
              "       [[ 51.,  52.,  53.,  54.,  55.],\n",
              "        [ 56.,  57.,  58.,  59.,  60.],\n",
              "        [ 61.,  62.,  63.,  64.,  65.],\n",
              "        [ 66.,  67.,  68.,  69.,  70.],\n",
              "        [ 71.,  72.,  73.,  74.,  75.]],\n",
              "\n",
              "       [[ 76.,  77.,  78.,  79.,  80.],\n",
              "        [ 81.,  82.,  83.,  84.,  85.],\n",
              "        [ 86.,  87.,  88.,  89.,  90.],\n",
              "        [ 91.,  92.,  93.,  94.,  95.],\n",
              "        [ 96.,  97.,  98.,  99., 100.]],\n",
              "\n",
              "       [[101., 102., 103., 104., 105.],\n",
              "        [106., 107., 108., 109., 110.],\n",
              "        [111., 112., 113., 114., 115.],\n",
              "        [116., 117., 118., 119., 120.],\n",
              "        [121., 122., 123., 124., 125.]]])"
            ]
          },
          "metadata": {},
          "execution_count": 36
        }
      ],
      "source": [
        "np.ones((5,5,5)) + np.arange(5*5*5).reshape(5,5,5)"
      ]
    },
    {
      "cell_type": "code",
      "execution_count": null,
      "metadata": {
        "id": "aFgVMsU_-fr6",
        "outputId": "808fe6c3-e784-4f62-98e4-dd36b570132c",
        "colab": {
          "base_uri": "https://localhost:8080/"
        }
      },
      "outputs": [
        {
          "output_type": "execute_result",
          "data": {
            "text/plain": [
              "array([[2., 2., 2., 2., 2.],\n",
              "       [2., 2., 2., 2., 2.],\n",
              "       [2., 2., 2., 2., 2.],\n",
              "       [2., 2., 2., 2., 2.],\n",
              "       [2., 2., 2., 2., 2.]])"
            ]
          },
          "metadata": {},
          "execution_count": 37
        }
      ],
      "source": [
        "# these all give the same result\n",
        "np.ones((5,5)) + np.ones((5,5))\n",
        "np.ones((5,5)) + 1\n",
        "np.ones((5,5)) + np.ones(5)\n",
        "np.ones((5,5)) + np.ones((5,1))"
      ]
    },
    {
      "cell_type": "code",
      "execution_count": null,
      "metadata": {
        "id": "On5yHGVf-fr6",
        "outputId": "6b49d9ab-a966-4611-f564-32e6b2354bac",
        "colab": {
          "base_uri": "https://localhost:8080/"
        }
      },
      "outputs": [
        {
          "output_type": "execute_result",
          "data": {
            "text/plain": [
              "array([[[1., 1., 1., 1., 1.],\n",
              "        [1., 1., 1., 1., 1.],\n",
              "        [1., 1., 1., 1., 1.],\n",
              "        [1., 1., 1., 1., 1.],\n",
              "        [1., 1., 1., 1., 1.]],\n",
              "\n",
              "       [[2., 2., 2., 2., 2.],\n",
              "        [2., 2., 2., 2., 2.],\n",
              "        [2., 2., 2., 2., 2.],\n",
              "        [2., 2., 2., 2., 2.],\n",
              "        [2., 2., 2., 2., 2.]],\n",
              "\n",
              "       [[3., 3., 3., 3., 3.],\n",
              "        [3., 3., 3., 3., 3.],\n",
              "        [3., 3., 3., 3., 3.],\n",
              "        [3., 3., 3., 3., 3.],\n",
              "        [3., 3., 3., 3., 3.]],\n",
              "\n",
              "       [[4., 4., 4., 4., 4.],\n",
              "        [4., 4., 4., 4., 4.],\n",
              "        [4., 4., 4., 4., 4.],\n",
              "        [4., 4., 4., 4., 4.],\n",
              "        [4., 4., 4., 4., 4.]],\n",
              "\n",
              "       [[5., 5., 5., 5., 5.],\n",
              "        [5., 5., 5., 5., 5.],\n",
              "        [5., 5., 5., 5., 5.],\n",
              "        [5., 5., 5., 5., 5.],\n",
              "        [5., 5., 5., 5., 5.]]])"
            ]
          },
          "metadata": {},
          "execution_count": 38
        }
      ],
      "source": [
        "np.ones((5,5,5)) + np.arange(5).reshape(5,1,1)"
      ]
    },
    {
      "cell_type": "code",
      "execution_count": null,
      "metadata": {
        "id": "wA1P8qiK-fr6",
        "outputId": "c1d128f3-e554-4a59-ab31-0932505ac8c3",
        "colab": {
          "base_uri": "https://localhost:8080/"
        }
      },
      "outputs": [
        {
          "output_type": "execute_result",
          "data": {
            "text/plain": [
              "array([[1.],\n",
              "       [1.],\n",
              "       [1.],\n",
              "       [1.],\n",
              "       [1.],\n",
              "       [1.]])"
            ]
          },
          "metadata": {},
          "execution_count": 39
        }
      ],
      "source": [
        "np.ones((6,1))"
      ]
    },
    {
      "cell_type": "code",
      "execution_count": null,
      "metadata": {
        "id": "GW-BVTV_-fr6",
        "outputId": "b2301d3c-8925-47ed-f9ef-4d7b41e8eb0e",
        "colab": {
          "base_uri": "https://localhost:8080/"
        }
      },
      "outputs": [
        {
          "output_type": "execute_result",
          "data": {
            "text/plain": [
              "array([[1., 1., 1., 1., 1.]])"
            ]
          },
          "metadata": {},
          "execution_count": 40
        }
      ],
      "source": [
        "np.ones((1,5))"
      ]
    },
    {
      "cell_type": "code",
      "execution_count": null,
      "metadata": {
        "id": "nusi8Mnd-fr7",
        "outputId": "d79a3350-b5dc-4f02-ceff-285cb6f5c73b",
        "colab": {
          "base_uri": "https://localhost:8080/"
        }
      },
      "outputs": [
        {
          "output_type": "execute_result",
          "data": {
            "text/plain": [
              "array([[2., 2., 2., 2., 2.],\n",
              "       [2., 2., 2., 2., 2.],\n",
              "       [2., 2., 2., 2., 2.],\n",
              "       [2., 2., 2., 2., 2.],\n",
              "       [2., 2., 2., 2., 2.],\n",
              "       [2., 2., 2., 2., 2.]])"
            ]
          },
          "metadata": {},
          "execution_count": 41
        }
      ],
      "source": [
        "np.ones((6,1)) +np.ones((1,5))"
      ]
    },
    {
      "cell_type": "code",
      "execution_count": null,
      "metadata": {
        "id": "E_Os8lUZ-fr7",
        "outputId": "c66e1404-34c6-4076-8c59-3124170c0405",
        "colab": {
          "base_uri": "https://localhost:8080/"
        }
      },
      "outputs": [
        {
          "output_type": "stream",
          "name": "stdout",
          "text": [
            "(10, 1)\n",
            "(1, 10)\n",
            "[[0]\n",
            " [1]\n",
            " [2]\n",
            " [3]\n",
            " [4]\n",
            " [5]\n",
            " [6]\n",
            " [7]\n",
            " [8]\n",
            " [9]]\n",
            "[[0 1 2 3 4 5 6 7 8 9]]\n"
          ]
        },
        {
          "output_type": "execute_result",
          "data": {
            "text/plain": [
              "array([[ 0,  1,  2,  3,  4,  5,  6,  7,  8,  9],\n",
              "       [ 1,  2,  3,  4,  5,  6,  7,  8,  9, 10],\n",
              "       [ 2,  3,  4,  5,  6,  7,  8,  9, 10, 11],\n",
              "       [ 3,  4,  5,  6,  7,  8,  9, 10, 11, 12],\n",
              "       [ 4,  5,  6,  7,  8,  9, 10, 11, 12, 13],\n",
              "       [ 5,  6,  7,  8,  9, 10, 11, 12, 13, 14],\n",
              "       [ 6,  7,  8,  9, 10, 11, 12, 13, 14, 15],\n",
              "       [ 7,  8,  9, 10, 11, 12, 13, 14, 15, 16],\n",
              "       [ 8,  9, 10, 11, 12, 13, 14, 15, 16, 17],\n",
              "       [ 9, 10, 11, 12, 13, 14, 15, 16, 17, 18]])"
            ]
          },
          "metadata": {},
          "execution_count": 42
        }
      ],
      "source": [
        "X = np.arange(10).reshape(-1,1)\n",
        "Y = np.arange(10).reshape(1,-1)\n",
        "print(X.shape)\n",
        "print(Y.shape)\n",
        "print(X)\n",
        "print(Y)\n",
        "X+Y"
      ]
    },
    {
      "cell_type": "markdown",
      "metadata": {
        "id": "GL-jgqaK-fr7"
      },
      "source": [
        "Broadcasting is making a 'best guess' as to how to extend dimensions to allow the operations, as illustrated in the figure below  \n",
        "  \n",
        "  \n",
        "\n",
        "![](http://scipy-lectures.org/_images/numpy_broadcasting.png)"
      ]
    },
    {
      "cell_type": "markdown",
      "metadata": {
        "id": "NcnHvuP5-fr7"
      },
      "source": [
        "### Exercise\n",
        "create a 2D numpy array $A$ such that $A_{ij} = i\\times j$, but without using list comprehensions. Use broadcasting instead\n"
      ]
    },
    {
      "cell_type": "code",
      "execution_count": null,
      "metadata": {
        "id": "9PsTlg6p-fr8",
        "outputId": "7e1b4c51-12c4-4cc0-9f2d-6e5ab452be84",
        "colab": {
          "base_uri": "https://localhost:8080/"
        }
      },
      "outputs": [
        {
          "output_type": "execute_result",
          "data": {
            "text/plain": [
              "array([[ 0,  0,  0,  0,  0,  0,  0,  0,  0,  0],\n",
              "       [ 0,  1,  2,  3,  4,  5,  6,  7,  8,  9],\n",
              "       [ 0,  2,  4,  6,  8, 10, 12, 14, 16, 18],\n",
              "       [ 0,  3,  6,  9, 12, 15, 18, 21, 24, 27],\n",
              "       [ 0,  4,  8, 12, 16, 20, 24, 28, 32, 36]])"
            ]
          },
          "metadata": {},
          "execution_count": 43
        }
      ],
      "source": [
        "np.arange(5).reshape(-1,1)*np.arange(10).reshape(1,-1)"
      ]
    },
    {
      "cell_type": "markdown",
      "metadata": {
        "id": "liXiH_XE-fr8"
      },
      "source": [
        "Use array broadcasting to create a (10,10) numpy array with values\n",
        "$$ A_{ij} = 2^i + j $$"
      ]
    },
    {
      "cell_type": "code",
      "execution_count": null,
      "metadata": {
        "id": "vOEsPQbq-fr8",
        "outputId": "be592c60-a9f3-4856-990f-3278db991bbf",
        "colab": {
          "base_uri": "https://localhost:8080/"
        }
      },
      "outputs": [
        {
          "output_type": "execute_result",
          "data": {
            "text/plain": [
              "array([[  1,   2,   3,   4,   5,   6,   7,   8,   9,  10],\n",
              "       [  2,   3,   4,   5,   6,   7,   8,   9,  10,  11],\n",
              "       [  4,   5,   6,   7,   8,   9,  10,  11,  12,  13],\n",
              "       [  8,   9,  10,  11,  12,  13,  14,  15,  16,  17],\n",
              "       [ 16,  17,  18,  19,  20,  21,  22,  23,  24,  25],\n",
              "       [ 32,  33,  34,  35,  36,  37,  38,  39,  40,  41],\n",
              "       [ 64,  65,  66,  67,  68,  69,  70,  71,  72,  73],\n",
              "       [128, 129, 130, 131, 132, 133, 134, 135, 136, 137],\n",
              "       [256, 257, 258, 259, 260, 261, 262, 263, 264, 265],\n",
              "       [512, 513, 514, 515, 516, 517, 518, 519, 520, 521]])"
            ]
          },
          "metadata": {},
          "execution_count": 44
        }
      ],
      "source": [
        "A = 2**(np.arange(10).reshape(-1,1)) + np.arange(10).reshape(1,-1)\n",
        "A[3,2]\n",
        "A"
      ]
    },
    {
      "cell_type": "markdown",
      "metadata": {
        "id": "Hyg8OIBX-fr8"
      },
      "source": [
        "## Matrix creation\n",
        "\n",
        "There are some functions to create standard matrices"
      ]
    },
    {
      "cell_type": "code",
      "execution_count": null,
      "metadata": {
        "id": "m2Rqssdg-fr8",
        "outputId": "740199e1-7c28-4bf4-ea7c-982584dada93",
        "colab": {
          "base_uri": "https://localhost:8080/"
        }
      },
      "outputs": [
        {
          "output_type": "execute_result",
          "data": {
            "text/plain": [
              "array([[1., 0., 0., 0., 0., 0., 0., 0., 0., 0.],\n",
              "       [0., 1., 0., 0., 0., 0., 0., 0., 0., 0.],\n",
              "       [0., 0., 1., 0., 0., 0., 0., 0., 0., 0.],\n",
              "       [0., 0., 0., 1., 0., 0., 0., 0., 0., 0.],\n",
              "       [0., 0., 0., 0., 1., 0., 0., 0., 0., 0.],\n",
              "       [0., 0., 0., 0., 0., 1., 0., 0., 0., 0.],\n",
              "       [0., 0., 0., 0., 0., 0., 1., 0., 0., 0.],\n",
              "       [0., 0., 0., 0., 0., 0., 0., 1., 0., 0.],\n",
              "       [0., 0., 0., 0., 0., 0., 0., 0., 1., 0.],\n",
              "       [0., 0., 0., 0., 0., 0., 0., 0., 0., 1.]])"
            ]
          },
          "metadata": {},
          "execution_count": 45
        }
      ],
      "source": [
        "np.eye(10)"
      ]
    },
    {
      "cell_type": "code",
      "execution_count": null,
      "metadata": {
        "id": "XBcPCd9X-fr9",
        "outputId": "f8f8696d-9fb6-45e4-8d69-df2aec54f0b4",
        "colab": {
          "base_uri": "https://localhost:8080/"
        }
      },
      "outputs": [
        {
          "output_type": "execute_result",
          "data": {
            "text/plain": [
              "array([[0, 0, 0, 0, 0, 0, 0, 0, 0, 0],\n",
              "       [0, 1, 0, 0, 0, 0, 0, 0, 0, 0],\n",
              "       [0, 0, 2, 0, 0, 0, 0, 0, 0, 0],\n",
              "       [0, 0, 0, 3, 0, 0, 0, 0, 0, 0],\n",
              "       [0, 0, 0, 0, 4, 0, 0, 0, 0, 0],\n",
              "       [0, 0, 0, 0, 0, 5, 0, 0, 0, 0],\n",
              "       [0, 0, 0, 0, 0, 0, 6, 0, 0, 0],\n",
              "       [0, 0, 0, 0, 0, 0, 0, 7, 0, 0],\n",
              "       [0, 0, 0, 0, 0, 0, 0, 0, 8, 0],\n",
              "       [0, 0, 0, 0, 0, 0, 0, 0, 0, 9]])"
            ]
          },
          "metadata": {},
          "execution_count": 46
        }
      ],
      "source": [
        "M = np.diag(np.arange(10))\n",
        "M"
      ]
    },
    {
      "cell_type": "code",
      "execution_count": null,
      "metadata": {
        "id": "fuUN7ZQj-fr9",
        "outputId": "23441bab-c612-4bf2-fba0-ecfd3ee9be19",
        "colab": {
          "base_uri": "https://localhost:8080/"
        }
      },
      "outputs": [
        {
          "output_type": "execute_result",
          "data": {
            "text/plain": [
              "array([[0, 0, 0, 0, 0, 0, 0, 0, 0, 0],\n",
              "       [0, 1, 0, 0, 0, 0, 0, 0, 0, 0],\n",
              "       [0, 3, 2, 0, 0, 0, 0, 0, 0, 0],\n",
              "       [0, 0, 0, 3, 0, 0, 0, 0, 0, 0],\n",
              "       [0, 0, 0, 0, 4, 0, 0, 0, 0, 0],\n",
              "       [0, 0, 0, 0, 0, 5, 0, 0, 0, 0],\n",
              "       [0, 0, 0, 0, 0, 0, 6, 0, 0, 0],\n",
              "       [0, 0, 0, 0, 0, 0, 0, 7, 0, 0],\n",
              "       [0, 0, 0, 0, 0, 0, 0, 0, 8, 0],\n",
              "       [0, 0, 0, 0, 0, 0, 0, 0, 0, 9]])"
            ]
          },
          "metadata": {},
          "execution_count": 47
        }
      ],
      "source": [
        "# 3rd row, 2nd column\n",
        "i=2; j=1\n",
        "M[i,j] = 3\n",
        "M"
      ]
    },
    {
      "cell_type": "code",
      "execution_count": null,
      "metadata": {
        "id": "2u7jVLTz-fr9",
        "outputId": "36b49583-7e08-4c78-f7a6-d3d23cb6d53b",
        "colab": {
          "base_uri": "https://localhost:8080/"
        }
      },
      "outputs": [
        {
          "output_type": "execute_result",
          "data": {
            "text/plain": [
              "array([0, 1, 2, 3, 4, 5, 6, 7, 8, 9])"
            ]
          },
          "metadata": {},
          "execution_count": 48
        }
      ],
      "source": [
        "np.diag(M)"
      ]
    },
    {
      "cell_type": "code",
      "execution_count": null,
      "metadata": {
        "id": "McO-PSLg-fr9"
      },
      "outputs": [],
      "source": [
        "A = np.arange(15).reshape(5,3).T"
      ]
    },
    {
      "cell_type": "code",
      "execution_count": null,
      "metadata": {
        "id": "VTrgkqJQ-fr9",
        "outputId": "771ad17d-b8ad-4e97-9414-7c134113c6b7",
        "colab": {
          "base_uri": "https://localhost:8080/"
        }
      },
      "outputs": [
        {
          "output_type": "execute_result",
          "data": {
            "text/plain": [
              "array([[270, 300, 330],\n",
              "       [300, 335, 370],\n",
              "       [330, 370, 410]])"
            ]
          },
          "metadata": {},
          "execution_count": 50
        }
      ],
      "source": [
        "A @ A.transpose()"
      ]
    },
    {
      "cell_type": "code",
      "execution_count": null,
      "metadata": {
        "id": "cXhmUkel-fr9",
        "outputId": "71c5852a-8b21-4004-d240-b67a5252fa3e",
        "colab": {
          "base_uri": "https://localhost:8080/"
        }
      },
      "outputs": [
        {
          "output_type": "execute_result",
          "data": {
            "text/plain": [
              "array([[0, 0, 0],\n",
              "       [0, 1, 2],\n",
              "       [0, 2, 4]])"
            ]
          },
          "metadata": {},
          "execution_count": 51
        }
      ],
      "source": [
        "x = np.arange(3).reshape(-1,1)\n",
        "y = np.arange(3).reshape(1,-1)\n",
        "x@y\n",
        "np.dot(x,y) #equivalent to x*y\n",
        "np.inner(y.T,x)"
      ]
    },
    {
      "cell_type": "code",
      "execution_count": null,
      "metadata": {
        "id": "44Mc-wsV-fr9",
        "outputId": "4738110e-f4d6-4b21-ddbb-a639ed5246fd",
        "colab": {
          "base_uri": "https://localhost:8080/"
        }
      },
      "outputs": [
        {
          "output_type": "execute_result",
          "data": {
            "text/plain": [
              "array([[5]])"
            ]
          },
          "metadata": {},
          "execution_count": 52
        }
      ],
      "source": [
        "np.dot(y,x)\n",
        "np.inner(y,x.T)"
      ]
    },
    {
      "cell_type": "code",
      "execution_count": null,
      "metadata": {
        "id": "Zn4ZmGc4-fr-",
        "outputId": "3087b38c-4225-4ce4-e2c4-48a917497558",
        "colab": {
          "base_uri": "https://localhost:8080/"
        }
      },
      "outputs": [
        {
          "output_type": "execute_result",
          "data": {
            "text/plain": [
              "array([[1., 0., 0., 0., 0.],\n",
              "       [0., 1., 0., 0., 0.],\n",
              "       [0., 0., 1., 0., 0.],\n",
              "       [0., 0., 0., 1., 0.],\n",
              "       [0., 0., 0., 0., 1.]])"
            ]
          },
          "metadata": {},
          "execution_count": 53
        }
      ],
      "source": [
        "np.eye(5)"
      ]
    },
    {
      "cell_type": "code",
      "execution_count": null,
      "metadata": {
        "id": "X001HF_T-fr-",
        "outputId": "821637be-c954-44c5-84ef-5b51ccb1616f",
        "colab": {
          "base_uri": "https://localhost:8080/"
        }
      },
      "outputs": [
        {
          "output_type": "execute_result",
          "data": {
            "text/plain": [
              "array([[0.53765138, 0.46963634, 0.73096889, 0.97112818, 0.80137896],\n",
              "       [0.32933578, 0.57880009, 0.58096254, 0.002301  , 0.08987758],\n",
              "       [0.92659881, 0.00841048, 0.69888858, 0.79788155, 0.2909123 ],\n",
              "       [0.23656665, 0.24981019, 0.89046871, 0.63159557, 0.93175768],\n",
              "       [0.01924781, 0.32305938, 0.55552797, 0.21660247, 0.33345561]])"
            ]
          },
          "metadata": {},
          "execution_count": 54
        }
      ],
      "source": [
        "np.random.rand(5,5)"
      ]
    },
    {
      "cell_type": "code",
      "execution_count": null,
      "metadata": {
        "id": "nDkd0Orb-fr-",
        "outputId": "88460a16-8efa-47b1-bc4f-c008e24c664c",
        "colab": {
          "base_uri": "https://localhost:8080/"
        }
      },
      "outputs": [
        {
          "output_type": "execute_result",
          "data": {
            "text/plain": [
              "array([[0.95785729, 0.57590069, 0.79163737, 0.40869947, 0.0078619 ],\n",
              "       [0.06757889, 0.32704018, 0.81931736, 0.16085658, 0.07125006],\n",
              "       [0.69462158, 0.17785037, 0.27050565, 0.83632284, 0.79890089],\n",
              "       [0.5448381 , 0.3645278 , 0.75035299, 0.94414807, 0.1850609 ],\n",
              "       [0.23935109, 0.47750097, 0.17249586, 0.11917473, 0.88568531]])"
            ]
          },
          "metadata": {},
          "execution_count": 55
        }
      ],
      "source": [
        "np.eye(5)@np.random.rand(5,5)"
      ]
    },
    {
      "cell_type": "markdown",
      "metadata": {
        "id": "j7k6o51t-fr-"
      },
      "source": [
        "### Exercise\n",
        "\n",
        "Create this matrix  \n",
        "```array(```  \n",
        "```      [[5., 1., 1., 1., 1., 1., 1., 1., 1., 1., 1.], ```  \n",
        "&nbsp; ```[1., 4., 1., 1., 1., 1., 1., 1., 1., 1., 1.], ```  \n",
        "&nbsp; ```[1., 1., 3., 1., 1., 1., 1., 1., 1., 1., 1.], ```  \n",
        "&nbsp; ```[1., 1., 1., 2., 1., 1., 1., 1., 1., 1., 1.], ```  \n",
        "&nbsp; ```[1., 1., 1., 1., 1., 1., 1., 1., 1., 1., 1.], ```  \n",
        "&nbsp; ```[1., 1., 1., 1., 1., 0., 1., 1., 1., 1., 1.], ```  \n",
        "&nbsp; ```[1., 1., 1., 1., 1., 1., 1., 1., 1., 1., 1.], ```  \n",
        "&nbsp; ```[1., 1., 1., 1., 1., 1., 1., 2., 1., 1., 1.], ```  \n",
        "&nbsp; ```[1., 1., 1., 1., 1., 1., 1., 1., 3., 1., 1.], ```  \n",
        "&nbsp; ```[1., 1., 1., 1., 1., 1., 1., 1., 1., 4., 1.], ```  \n",
        "&nbsp; ```[1., 1., 1., 1., 1., 1., 1., 1., 1., 1., 5.]])```\n",
        "\n"
      ]
    },
    {
      "cell_type": "code",
      "execution_count": null,
      "metadata": {
        "id": "BIl1C16W-fr-",
        "outputId": "549980bc-c52c-4b55-aeb7-2e37ac57217f",
        "colab": {
          "base_uri": "https://localhost:8080/"
        }
      },
      "outputs": [
        {
          "output_type": "execute_result",
          "data": {
            "text/plain": [
              "array([[5, 1, 1, 1, 1, 1, 1, 1, 1, 1, 1],\n",
              "       [1, 4, 1, 1, 1, 1, 1, 1, 1, 1, 1],\n",
              "       [1, 1, 3, 1, 1, 1, 1, 1, 1, 1, 1],\n",
              "       [1, 1, 1, 2, 1, 1, 1, 1, 1, 1, 1],\n",
              "       [1, 1, 1, 1, 1, 1, 1, 1, 1, 1, 1],\n",
              "       [1, 1, 1, 1, 1, 0, 1, 1, 1, 1, 1],\n",
              "       [1, 1, 1, 1, 1, 1, 1, 1, 1, 1, 1],\n",
              "       [1, 1, 1, 1, 1, 1, 1, 2, 1, 1, 1],\n",
              "       [1, 1, 1, 1, 1, 1, 1, 1, 3, 1, 1],\n",
              "       [1, 1, 1, 1, 1, 1, 1, 1, 1, 4, 1],\n",
              "       [1, 1, 1, 1, 1, 1, 1, 1, 1, 1, 5]])"
            ]
          },
          "metadata": {},
          "execution_count": 56
        }
      ],
      "source": [
        "np.diag(np.abs(5 - np.arange(11)) - 1) + 1"
      ]
    },
    {
      "cell_type": "markdown",
      "metadata": {
        "id": "U-iALOJY-fr-"
      },
      "source": [
        "## Array Indexing and Slicing"
      ]
    },
    {
      "cell_type": "code",
      "execution_count": null,
      "metadata": {
        "id": "Yxhu4Sy0-fr-",
        "outputId": "a022451d-3a17-4a6d-e509-c924a176fbfa",
        "colab": {
          "base_uri": "https://localhost:8080/"
        }
      },
      "outputs": [
        {
          "output_type": "execute_result",
          "data": {
            "text/plain": [
              "array([0, 1, 2, 3, 4, 5, 6, 7, 8, 9])"
            ]
          },
          "metadata": {},
          "execution_count": 57
        }
      ],
      "source": [
        "import numpy as np\n",
        "arr = np.arange(10)\n",
        "arr"
      ]
    },
    {
      "cell_type": "code",
      "execution_count": null,
      "metadata": {
        "id": "VzhVv3G8-fr_",
        "outputId": "59c05112-b251-4768-d14c-7957be8b5e86",
        "colab": {
          "base_uri": "https://localhost:8080/"
        }
      },
      "outputs": [
        {
          "output_type": "execute_result",
          "data": {
            "text/plain": [
              "(5, 7)"
            ]
          },
          "metadata": {},
          "execution_count": 58
        }
      ],
      "source": [
        "arr[5], arr[-3]"
      ]
    },
    {
      "cell_type": "code",
      "execution_count": null,
      "metadata": {
        "id": "DVK6mkkM-fr_",
        "outputId": "db7d4b24-81d9-4aba-e662-d131d61c6cf1",
        "colab": {
          "base_uri": "https://localhost:8080/"
        }
      },
      "outputs": [
        {
          "output_type": "execute_result",
          "data": {
            "text/plain": [
              "array([3, 4, 5, 6])"
            ]
          },
          "metadata": {},
          "execution_count": 59
        }
      ],
      "source": [
        "arr[3:7]"
      ]
    },
    {
      "cell_type": "code",
      "execution_count": null,
      "metadata": {
        "id": "Yujsh9za-fr_",
        "outputId": "513811a2-1d5c-4346-b5b1-ef04cb3d75f6",
        "colab": {
          "base_uri": "https://localhost:8080/"
        }
      },
      "outputs": [
        {
          "output_type": "execute_result",
          "data": {
            "text/plain": [
              "array([2, 3, 4, 5, 6, 7, 8, 9])"
            ]
          },
          "metadata": {},
          "execution_count": 60
        }
      ],
      "source": [
        "arr[2:]"
      ]
    },
    {
      "cell_type": "code",
      "execution_count": null,
      "metadata": {
        "id": "iVL8xar3-fr_",
        "outputId": "1c32b7e7-80e1-4696-9e69-9f372efce77a",
        "colab": {
          "base_uri": "https://localhost:8080/"
        }
      },
      "outputs": [
        {
          "output_type": "execute_result",
          "data": {
            "text/plain": [
              "array([0, 1, 2, 3, 4, 5, 6, 7])"
            ]
          },
          "metadata": {},
          "execution_count": 61
        }
      ],
      "source": [
        "arr[0:-2]"
      ]
    },
    {
      "cell_type": "code",
      "execution_count": null,
      "metadata": {
        "id": "LJORQkAh-fr_",
        "outputId": "608ffd38-1ac9-4fb7-8e5a-39f735dea926",
        "colab": {
          "base_uri": "https://localhost:8080/"
        }
      },
      "outputs": [
        {
          "output_type": "execute_result",
          "data": {
            "text/plain": [
              "array([0, 2, 4])"
            ]
          },
          "metadata": {},
          "execution_count": 62
        }
      ],
      "source": [
        "arr[0:6:2] #same as range(0,6,2)"
      ]
    },
    {
      "cell_type": "code",
      "execution_count": null,
      "metadata": {
        "id": "lnp_7cD2-fr_",
        "outputId": "e2109590-d7cf-4ac2-c7f2-87b06ac4a3c8",
        "colab": {
          "base_uri": "https://localhost:8080/"
        }
      },
      "outputs": [
        {
          "output_type": "execute_result",
          "data": {
            "text/plain": [
              "array([5, 3, 1])"
            ]
          },
          "metadata": {},
          "execution_count": 63
        }
      ],
      "source": [
        "arr[5:0:-2]"
      ]
    },
    {
      "cell_type": "code",
      "execution_count": null,
      "metadata": {
        "id": "EFz2Qocz-fr_",
        "outputId": "0518422a-0f8f-47f8-df2f-fbd08d755ffe",
        "colab": {
          "base_uri": "https://localhost:8080/"
        }
      },
      "outputs": [
        {
          "output_type": "execute_result",
          "data": {
            "text/plain": [
              "array([9, 8, 7, 6, 5, 4, 3, 2, 1, 0])"
            ]
          },
          "metadata": {},
          "execution_count": 64
        }
      ],
      "source": [
        "arr[::-1]"
      ]
    },
    {
      "cell_type": "code",
      "execution_count": null,
      "metadata": {
        "id": "U8PIN4NB-fsA",
        "outputId": "84d72026-e09d-49b0-d17a-0fcd122f1823",
        "colab": {
          "base_uri": "https://localhost:8080/"
        }
      },
      "outputs": [
        {
          "output_type": "execute_result",
          "data": {
            "text/plain": [
              "array([0, 1, 2, 3, 4, 5, 6, 7, 8, 9])"
            ]
          },
          "metadata": {},
          "execution_count": 65
        }
      ],
      "source": [
        "arr[:] "
      ]
    },
    {
      "cell_type": "code",
      "execution_count": null,
      "metadata": {
        "id": "JIsSljmP-fsA",
        "outputId": "75acbc2f-a1c2-42c8-c9b9-036216343d26",
        "colab": {
          "base_uri": "https://localhost:8080/"
        }
      },
      "outputs": [
        {
          "output_type": "execute_result",
          "data": {
            "text/plain": [
              "array([0, 0, 2, 0, 0, 0, 0, 0, 0, 0])"
            ]
          },
          "metadata": {},
          "execution_count": 66
        }
      ],
      "source": [
        "M[:,2]"
      ]
    },
    {
      "cell_type": "code",
      "execution_count": null,
      "metadata": {
        "id": "V4jc7KMj-fsA",
        "outputId": "5f8b3791-d915-4be5-b3c4-739b78722989",
        "colab": {
          "base_uri": "https://localhost:8080/"
        }
      },
      "outputs": [
        {
          "output_type": "execute_result",
          "data": {
            "text/plain": [
              "array([[0, 0, 0, 0, 0, 0, 0, 0, 0, 0],\n",
              "       [0, 1, 0, 0, 0, 0, 0, 0, 0, 0],\n",
              "       [0, 3, 2, 0, 0, 0, 0, 0, 0, 0],\n",
              "       [0, 0, 0, 3, 0, 0, 0, 0, 0, 0],\n",
              "       [0, 0, 0, 0, 4, 0, 0, 0, 0, 0],\n",
              "       [0, 0, 0, 0, 0, 5, 0, 0, 0, 0],\n",
              "       [0, 0, 0, 0, 0, 0, 6, 0, 0, 0],\n",
              "       [0, 0, 0, 0, 0, 0, 0, 7, 0, 0],\n",
              "       [0, 0, 0, 0, 0, 0, 0, 0, 8, 0],\n",
              "       [0, 0, 0, 0, 0, 0, 0, 0, 0, 9]])"
            ]
          },
          "metadata": {},
          "execution_count": 67
        }
      ],
      "source": [
        "M"
      ]
    },
    {
      "cell_type": "markdown",
      "metadata": {
        "id": "pfDRNx37-fsA"
      },
      "source": [
        "Can use all the above slicing methods for each dimension of a multidemnsional array\n",
        "![](http://scipy-lectures.org/_images/numpy_indexing.png)"
      ]
    },
    {
      "cell_type": "markdown",
      "metadata": {
        "id": "LwTxd-PG-fsA"
      },
      "source": [
        "try it yourself"
      ]
    },
    {
      "cell_type": "code",
      "execution_count": null,
      "metadata": {
        "id": "-zftjLOs-fsA",
        "outputId": "62055bc8-9e04-41b7-f5f5-7834caaf274a",
        "colab": {
          "base_uri": "https://localhost:8080/"
        }
      },
      "outputs": [
        {
          "output_type": "execute_result",
          "data": {
            "text/plain": [
              "array([[20, 22, 24],\n",
              "       [40, 42, 44]])"
            ]
          },
          "metadata": {},
          "execution_count": 68
        }
      ],
      "source": [
        "a = 10*np.arange(6).reshape(-1,1)+np.arange(6)\n",
        "a[2::2,::2]"
      ]
    },
    {
      "cell_type": "code",
      "execution_count": null,
      "metadata": {
        "id": "e5QIfwL5-fsB",
        "outputId": "4a0d35c3-40c9-452f-fa34-e8edc65eca91",
        "colab": {
          "base_uri": "https://localhost:8080/"
        }
      },
      "outputs": [
        {
          "output_type": "execute_result",
          "data": {
            "text/plain": [
              "array([[ 0,  1,  2,  3,  4,  5],\n",
              "       [10, 11, 12, 13, 14, 15],\n",
              "       [ 1, 21,  1, 23,  1, 25],\n",
              "       [30, 31, 32, 33, 34, 35],\n",
              "       [ 1, 41,  1, 43,  1, 45],\n",
              "       [50, 51, 52, 53, 54, 55]])"
            ]
          },
          "metadata": {},
          "execution_count": 69
        }
      ],
      "source": [
        "a[2::2,::2] = 1\n",
        "a"
      ]
    },
    {
      "cell_type": "markdown",
      "metadata": {
        "id": "F-ulYCrX-fsB"
      },
      "source": [
        "### Exercise\n",
        "Create the following matrix\n",
        "```\n",
        "array(```  \n",
        "```      [[1., 1., 1., 1., 1., 1., 1., 1., 1., 1.], ```  \n",
        "&nbsp; ```[1., 1., 1., 1., 1., 1., 1., 1., 1., 1.], ```  \n",
        "&nbsp; ```[1., 1., 0., 0., 0., 0., 0., 0., 1., 1.], ```  \n",
        "&nbsp; ```[1., 1., 0., 0., 0., 0., 0., 0., 1., 1.], ```  \n",
        "&nbsp; ```[1., 1., 0., 0., 0., 0., 0., 0., 1., 1.], ```  \n",
        "&nbsp; ```[1., 1., 0., 0., 0., 0., 0., 0., 1., 1.], ```  \n",
        "&nbsp; ```[1., 1., 0., 0., 0., 0., 0., 0., 1., 1.], ```  \n",
        "&nbsp; ```[1., 1., 0., 0., 0., 0., 0., 0., 1., 1.], ```  \n",
        "&nbsp; ```[1., 1., 1., 1., 1., 1., 1., 1., 1., 1.], ```  \n",
        "&nbsp; ```[1., 1., 1., 1., 1., 1., 1., 1., 1., 1.]])```"
      ]
    },
    {
      "cell_type": "code",
      "execution_count": null,
      "metadata": {
        "id": "yZf9iPh3-fsB",
        "outputId": "f2ead82a-d0e5-4df7-c959-039891974e00",
        "colab": {
          "base_uri": "https://localhost:8080/"
        }
      },
      "outputs": [
        {
          "output_type": "execute_result",
          "data": {
            "text/plain": [
              "array([[1., 1., 1., 1., 1., 1., 1., 1., 1., 1.],\n",
              "       [1., 1., 1., 1., 1., 1., 1., 1., 1., 1.],\n",
              "       [1., 1., 0., 0., 0., 0., 0., 0., 1., 1.],\n",
              "       [1., 1., 0., 0., 0., 0., 0., 0., 1., 1.],\n",
              "       [1., 1., 0., 0., 0., 0., 0., 0., 1., 1.],\n",
              "       [1., 1., 0., 0., 0., 0., 0., 0., 1., 1.],\n",
              "       [1., 1., 0., 0., 0., 0., 0., 0., 1., 1.],\n",
              "       [1., 1., 0., 0., 0., 0., 0., 0., 1., 1.],\n",
              "       [1., 1., 1., 1., 1., 1., 1., 1., 1., 1.],\n",
              "       [1., 1., 1., 1., 1., 1., 1., 1., 1., 1.]])"
            ]
          },
          "metadata": {},
          "execution_count": 70
        }
      ],
      "source": [
        "a = np.ones((10,10))\n",
        "a[2:8,2:8] = 0\n",
        "a"
      ]
    },
    {
      "cell_type": "markdown",
      "metadata": {
        "id": "94j5kjav-fsB"
      },
      "source": [
        "Create the following matrix\n",
        "```array(```  \n",
        "```      [[-1., -1., -1., -1., -1., -1., -1., -1., -1., -1.], ```  \n",
        "&nbsp; ```[-1.,  0.,  1.,  2.,  3.,  4., -1., -1., -1., -1.], ```  \n",
        "&nbsp; ```[-1.,  5.,  6.,  7.,  8.,  9., -1., -1., -1., -1.], ```  \n",
        "&nbsp; ```[-1., 10., 11., 12., 13., 14., -1., -1., -1., -1.], ```  \n",
        "&nbsp; ```[-1., 15., 16., 17., 18., 19., -1., -1., -1., -1.], ```  \n",
        "&nbsp; ```[-1., 20., 21., 22., 23., 24., -1., -1., -1., -1.], ```  \n",
        "&nbsp; ```[-1., 25., 26., 27., 28., 29., -1., -1., -1., -1.], ```  \n",
        "&nbsp; ```[-1., 30., 31., 32., 33., 34., -1., -1., -1., -1.], ```  \n",
        "&nbsp; ```[-1., 35., 36., 37., 38., 39., -1., -1., -1., -1.], ```  \n",
        "&nbsp; ```[-1., -1., -1., -1., -1., -1., -1., -1., -1., -1.]])```"
      ]
    },
    {
      "cell_type": "code",
      "execution_count": null,
      "metadata": {
        "id": "QLIf3NiJ-fsB",
        "outputId": "ad786888-f975-4ec4-88b2-ea1abba6c832",
        "colab": {
          "base_uri": "https://localhost:8080/"
        }
      },
      "outputs": [
        {
          "output_type": "execute_result",
          "data": {
            "text/plain": [
              "array([[-1., -1., -1., -1., -1., -1., -1., -1., -1., -1.],\n",
              "       [-1.,  0.,  1.,  2.,  3.,  4., -1., -1., -1., -1.],\n",
              "       [-1.,  5.,  6.,  7.,  8.,  9., -1., -1., -1., -1.],\n",
              "       [-1., 10., 11., 12., 13., 14., -1., -1., -1., -1.],\n",
              "       [-1., 15., 16., 17., 18., 19., -1., -1., -1., -1.],\n",
              "       [-1., 20., 21., 22., 23., 24., -1., -1., -1., -1.],\n",
              "       [-1., 25., 26., 27., 28., 29., -1., -1., -1., -1.],\n",
              "       [-1., 30., 31., 32., 33., 34., -1., -1., -1., -1.],\n",
              "       [-1., 35., 36., 37., 38., 39., -1., -1., -1., -1.],\n",
              "       [-1., -1., -1., -1., -1., -1., -1., -1., -1., -1.]])"
            ]
          },
          "metadata": {},
          "execution_count": 71
        }
      ],
      "source": [
        "a = -np.ones((10,10))\n",
        "\n",
        "b = np.arange(40).reshape(8,5)\n",
        "\n",
        "a[1:9,1:6]=b\n",
        "a"
      ]
    },
    {
      "cell_type": "markdown",
      "metadata": {
        "id": "qB-oqJ07-fsB"
      },
      "source": [
        "# Fancy Array Indexing\n",
        "\n",
        "We can use numpy arrays as an index for other numpy arrays"
      ]
    },
    {
      "cell_type": "code",
      "execution_count": null,
      "metadata": {
        "id": "UYMIS5rS-fsB",
        "outputId": "b0d62d10-4975-4b1b-f395-02f4588893f5",
        "colab": {
          "base_uri": "https://localhost:8080/"
        }
      },
      "outputs": [
        {
          "output_type": "execute_result",
          "data": {
            "text/plain": [
              "array([0, 1, 2, 3, 4, 5, 6, 7, 8, 9])"
            ]
          },
          "metadata": {},
          "execution_count": 72
        }
      ],
      "source": [
        "arr = np.arange(10)\n",
        "arr"
      ]
    },
    {
      "cell_type": "code",
      "execution_count": null,
      "metadata": {
        "id": "rhpFXtIA-fsC",
        "outputId": "b4990556-805f-47f7-c81c-3e430ca770b7",
        "colab": {
          "base_uri": "https://localhost:8080/"
        }
      },
      "outputs": [
        {
          "output_type": "execute_result",
          "data": {
            "text/plain": [
              "array([ 7, -1,  2])"
            ]
          },
          "metadata": {},
          "execution_count": 73
        }
      ],
      "source": [
        "idx = np.array([7,-1,2])\n",
        "idx"
      ]
    },
    {
      "cell_type": "code",
      "execution_count": null,
      "metadata": {
        "id": "cJTEpG-7-fsC",
        "outputId": "339cd7d1-1925-44a9-ce20-f00825271132",
        "colab": {
          "base_uri": "https://localhost:8080/"
        }
      },
      "outputs": [
        {
          "output_type": "execute_result",
          "data": {
            "text/plain": [
              "array([ 0,  1, -1,  3,  4,  5,  6, -1,  8, -1])"
            ]
          },
          "metadata": {},
          "execution_count": 74
        }
      ],
      "source": [
        "arr[idx] = -1\n",
        "arr"
      ]
    },
    {
      "cell_type": "code",
      "execution_count": null,
      "metadata": {
        "id": "d5hn95X--fsC",
        "outputId": "da007a04-d4a7-40e4-ae77-35e5d42e8941",
        "colab": {
          "base_uri": "https://localhost:8080/"
        }
      },
      "outputs": [
        {
          "output_type": "execute_result",
          "data": {
            "text/plain": [
              "array([False, False,  True, False, False, False, False,  True, False,\n",
              "        True])"
            ]
          },
          "metadata": {},
          "execution_count": 75
        }
      ],
      "source": [
        "arr<0"
      ]
    },
    {
      "cell_type": "code",
      "execution_count": null,
      "metadata": {
        "id": "jI7WG-80-fsC",
        "outputId": "5d11dde3-4bf5-499a-9df2-76c530c84030",
        "colab": {
          "base_uri": "https://localhost:8080/"
        }
      },
      "outputs": [
        {
          "output_type": "execute_result",
          "data": {
            "text/plain": [
              "array([0, 1, 0, 3, 4, 5, 6, 1, 8, 2])"
            ]
          },
          "metadata": {},
          "execution_count": 76
        }
      ],
      "source": [
        "arr[arr<0] = np.arange(3)\n",
        "arr"
      ]
    },
    {
      "cell_type": "markdown",
      "metadata": {
        "id": "MZQxc7k8-fsC"
      },
      "source": [
        "For multidimensional array, array indexing works different from slicing"
      ]
    },
    {
      "cell_type": "code",
      "execution_count": null,
      "metadata": {
        "id": "0mdnE4c1-fsD",
        "outputId": "a3a2a536-c59a-400c-d473-5d34473e2baf",
        "colab": {
          "base_uri": "https://localhost:8080/"
        }
      },
      "outputs": [
        {
          "output_type": "execute_result",
          "data": {
            "text/plain": [
              "array([0, 1, 2])"
            ]
          },
          "metadata": {},
          "execution_count": 77
        }
      ],
      "source": [
        "one_dim = np.arange(5)\n",
        "one_dim[0:3]"
      ]
    },
    {
      "cell_type": "code",
      "execution_count": null,
      "metadata": {
        "id": "b5UnkbGy-fsD",
        "outputId": "80159a49-b25e-4b17-b00a-5114fa84b6e2",
        "colab": {
          "base_uri": "https://localhost:8080/"
        }
      },
      "outputs": [
        {
          "output_type": "execute_result",
          "data": {
            "text/plain": [
              "array([[0., 0., 0., 0., 0., 0., 0., 0., 0., 0.],\n",
              "       [0., 0., 0., 0., 0., 0., 0., 0., 0., 0.],\n",
              "       [0., 0., 0., 0., 0., 0., 0., 0., 0., 0.],\n",
              "       [0., 0., 0., 1., 1., 1., 1., 1., 1., 0.],\n",
              "       [0., 0., 0., 1., 1., 1., 1., 1., 1., 0.],\n",
              "       [0., 0., 0., 1., 1., 1., 1., 1., 1., 0.],\n",
              "       [0., 0., 0., 1., 1., 1., 1., 1., 1., 0.],\n",
              "       [0., 0., 0., 1., 1., 1., 1., 1., 1., 0.],\n",
              "       [0., 0., 0., 0., 0., 0., 0., 0., 0., 0.],\n",
              "       [0., 0., 0., 0., 0., 0., 0., 0., 0., 0.]])"
            ]
          },
          "metadata": {},
          "execution_count": 78
        }
      ],
      "source": [
        "X = np.zeros((10,10))\n",
        "X[3:8,3:9]=1\n",
        "X"
      ]
    },
    {
      "cell_type": "code",
      "execution_count": null,
      "metadata": {
        "id": "4315QmsH-fsD",
        "outputId": "4deebecb-ce19-49b7-bb13-8018eb6e3932",
        "colab": {
          "base_uri": "https://localhost:8080/"
        }
      },
      "outputs": [
        {
          "output_type": "execute_result",
          "data": {
            "text/plain": [
              "array([[0., 0., 0., 0., 0., 0., 0., 0., 0., 0.],\n",
              "       [0., 0., 0., 0., 0., 0., 0., 0., 0., 0.],\n",
              "       [0., 0., 0., 0., 0., 0., 0., 0., 0., 0.],\n",
              "       [0., 0., 0., 1., 0., 0., 0., 0., 0., 0.],\n",
              "       [0., 0., 0., 0., 1., 0., 0., 0., 0., 0.],\n",
              "       [0., 0., 0., 0., 0., 1., 0., 0., 0., 0.],\n",
              "       [0., 0., 0., 0., 0., 0., 1., 0., 0., 0.],\n",
              "       [0., 0., 0., 0., 0., 0., 0., 1., 0., 0.],\n",
              "       [0., 0., 0., 0., 0., 0., 0., 0., 1., 0.],\n",
              "       [0., 0., 0., 0., 0., 0., 0., 0., 0., 0.]])"
            ]
          },
          "metadata": {},
          "execution_count": 79
        }
      ],
      "source": [
        "X = np.zeros((10,10))\n",
        "X[np.arange(3,9),np.arange(3,9)]=1\n",
        "X"
      ]
    },
    {
      "cell_type": "code",
      "execution_count": null,
      "metadata": {
        "id": "94JgQ5dA-fsD",
        "outputId": "fde0eddb-2720-4ed7-df35-902fe119561e",
        "colab": {
          "base_uri": "https://localhost:8080/"
        }
      },
      "outputs": [
        {
          "output_type": "execute_result",
          "data": {
            "text/plain": [
              "array([[ 0,  1,  2,  3,  4,  5],\n",
              "       [10, 11, 12, 13, 14, 15],\n",
              "       [20, 21, 22, 23, 24, 25],\n",
              "       [30, 31, 32, 33, 34, 35],\n",
              "       [40, 41, 42, 43, 44, 45],\n",
              "       [50, 51, 52, 53, 54, 55]])"
            ]
          },
          "metadata": {},
          "execution_count": 80
        }
      ],
      "source": [
        "a = 10*np.arange(6).reshape(-1,1)+np.arange(6)\n",
        "a"
      ]
    },
    {
      "cell_type": "code",
      "execution_count": null,
      "metadata": {
        "id": "LSaOA-3a-fsE",
        "outputId": "1260beeb-b410-4b6c-9028-1fc5fb362f2f",
        "colab": {
          "base_uri": "https://localhost:8080/"
        }
      },
      "outputs": [
        {
          "output_type": "execute_result",
          "data": {
            "text/plain": [
              "array([12, 23, 34])"
            ]
          },
          "metadata": {},
          "execution_count": 81
        }
      ],
      "source": [
        "a[np.arange(1,4),np.arange(2,5)]"
      ]
    },
    {
      "cell_type": "code",
      "execution_count": null,
      "metadata": {
        "id": "xS-J_qb4-fsE",
        "outputId": "1dc0ef5f-423e-4208-a4dc-35abf76cbfba",
        "colab": {
          "base_uri": "https://localhost:8080/"
        }
      },
      "outputs": [
        {
          "output_type": "stream",
          "name": "stdout",
          "text": [
            "[0 1 2]\n"
          ]
        },
        {
          "output_type": "execute_result",
          "data": {
            "text/plain": [
              "array([ 5, 13, 20])"
            ]
          },
          "metadata": {},
          "execution_count": 82
        }
      ],
      "source": [
        "a\n",
        "rows = np.arange(3)\n",
        "print(rows)\n",
        "cols = np.array([-1,3,0])\n",
        "a[rows,cols]"
      ]
    },
    {
      "cell_type": "code",
      "execution_count": null,
      "metadata": {
        "id": "FH6-Dvot-fsE",
        "outputId": "0c17bbc2-8daf-4903-b235-aec58114b449",
        "colab": {
          "base_uri": "https://localhost:8080/"
        }
      },
      "outputs": [
        {
          "output_type": "stream",
          "name": "stdout",
          "text": [
            "[ True False  True False False  True]\n"
          ]
        },
        {
          "output_type": "execute_result",
          "data": {
            "text/plain": [
              "array([ 2, 22, 52])"
            ]
          },
          "metadata": {},
          "execution_count": 83
        }
      ],
      "source": [
        "a = 10*np.arange(6).reshape(-1,1)+np.arange(6)\n",
        "mask = np.array([1,0,1,0,0,1], dtype = bool)\n",
        "print(mask)\n",
        "a[mask,2]\n",
        "\n",
        "#start here lecture 4"
      ]
    },
    {
      "cell_type": "markdown",
      "metadata": {
        "id": "AT3D1Zv2-fsE"
      },
      "source": [
        "![](http://scipy-lectures.org/_images/numpy_fancy_indexing.png)"
      ]
    },
    {
      "cell_type": "markdown",
      "metadata": {
        "id": "jtM1tsPI-fsE"
      },
      "source": [
        "### Exercise\n",
        "Create the following matrix\n",
        "```array(```  \n",
        "```      [[0., 0., 0., 0., 0., 0., 0., 0., 0., 1.], ```  \n",
        "&nbsp; ```[0., 0., 0., 0., 0., 0., 0., 1., 0., 0.], ```  \n",
        "&nbsp; ```[0., 0., 0., 0., 0., 1., 0., 0., 0., 0.], ```  \n",
        "&nbsp; ```[0., 0., 0., 1., 0., 0., 0., 0., 0., 0.], ```  \n",
        "&nbsp; ```[0., 1., 0., 0., 0., 0., 0., 0., 0., 0.], ```  \n",
        "&nbsp; ```[0., 1., 0., 0., 0., 0., 0., 0., 0., 0.], ```  \n",
        "&nbsp; ```[0., 0., 0., 1., 0., 0., 0., 0., 0., 0.], ```  \n",
        "&nbsp; ```[0., 0., 0., 0., 0., 1., 0., 0., 0., 0.], ```  \n",
        "&nbsp; ```[0., 0., 0., 0., 0., 0., 0., 1., 0., 0.], ```  \n",
        "&nbsp; ```[0., 0., 0., 0., 0., 0., 0., 0., 0., 1.]])```"
      ]
    },
    {
      "cell_type": "code",
      "execution_count": null,
      "metadata": {
        "id": "LmZPRF2q-fsE",
        "colab": {
          "base_uri": "https://localhost:8080/",
          "height": 357
        },
        "outputId": "73048f61-3afb-4c43-f10a-7bca4e1d5b32"
      },
      "outputs": [
        {
          "output_type": "error",
          "ename": "AttributeError",
          "evalue": "ignored",
          "traceback": [
            "\u001b[0;31m---------------------------------------------------------------------------\u001b[0m",
            "\u001b[0;31mAttributeError\u001b[0m                            Traceback (most recent call last)",
            "\u001b[0;32m<ipython-input-84-2a794744dd99>\u001b[0m in \u001b[0;36m<module>\u001b[0;34m()\u001b[0m\n\u001b[1;32m      1\u001b[0m \u001b[0;32mimport\u001b[0m \u001b[0mnumpy\u001b[0m \u001b[0;32mas\u001b[0m \u001b[0mnp\u001b[0m\u001b[0;34m\u001b[0m\u001b[0;34m\u001b[0m\u001b[0m\n\u001b[1;32m      2\u001b[0m \u001b[0ma\u001b[0m \u001b[0;34m=\u001b[0m \u001b[0mnp\u001b[0m\u001b[0;34m.\u001b[0m\u001b[0mzeros\u001b[0m\u001b[0;34m(\u001b[0m\u001b[0;34m(\u001b[0m\u001b[0;36m10\u001b[0m\u001b[0;34m,\u001b[0m\u001b[0;36m10\u001b[0m\u001b[0;34m)\u001b[0m\u001b[0;34m)\u001b[0m\u001b[0;34m\u001b[0m\u001b[0;34m\u001b[0m\u001b[0m\n\u001b[0;32m----> 3\u001b[0;31m \u001b[0ma\u001b[0m\u001b[0;34m[\u001b[0m\u001b[0mnp\u001b[0m\u001b[0;34m.\u001b[0m\u001b[0marange\u001b[0m\u001b[0;34m(\u001b[0m\u001b[0;36m10\u001b[0m\u001b[0;34m)\u001b[0m\u001b[0;34m,\u001b[0m\u001b[0mnp\u001b[0m\u001b[0;34m.\u001b[0m\u001b[0mconcatentate\u001b[0m\u001b[0;34m(\u001b[0m\u001b[0;34m)\u001b[0m\u001b[0;34m]\u001b[0m\u001b[0;34m\u001b[0m\u001b[0;34m\u001b[0m\u001b[0m\n\u001b[0m\u001b[1;32m      4\u001b[0m \u001b[0;34m\u001b[0m\u001b[0m\n\u001b[1;32m      5\u001b[0m \u001b[0mnp\u001b[0m\u001b[0;34m.\u001b[0m\u001b[0mdiag\u001b[0m\u001b[0;34m(\u001b[0m\u001b[0mnp\u001b[0m\u001b[0;34m.\u001b[0m\u001b[0mabs\u001b[0m\u001b[0;34m(\u001b[0m\u001b[0;36m5\u001b[0m \u001b[0;34m-\u001b[0m \u001b[0mnp\u001b[0m\u001b[0;34m.\u001b[0m\u001b[0marange\u001b[0m\u001b[0;34m(\u001b[0m\u001b[0;36m11\u001b[0m\u001b[0;34m)\u001b[0m\u001b[0;34m)\u001b[0m \u001b[0;34m-\u001b[0m \u001b[0;36m1\u001b[0m\u001b[0;34m)\u001b[0m\u001b[0;34m\u001b[0m\u001b[0;34m\u001b[0m\u001b[0m\n",
            "\u001b[0;32m/usr/local/lib/python3.7/dist-packages/numpy/__init__.py\u001b[0m in \u001b[0;36m__getattr__\u001b[0;34m(attr)\u001b[0m\n\u001b[1;32m    312\u001b[0m \u001b[0;34m\u001b[0m\u001b[0m\n\u001b[1;32m    313\u001b[0m             raise AttributeError(\"module {!r} has no attribute \"\n\u001b[0;32m--> 314\u001b[0;31m                                  \"{!r}\".format(__name__, attr))\n\u001b[0m\u001b[1;32m    315\u001b[0m \u001b[0;34m\u001b[0m\u001b[0m\n\u001b[1;32m    316\u001b[0m         \u001b[0;32mdef\u001b[0m \u001b[0m__dir__\u001b[0m\u001b[0;34m(\u001b[0m\u001b[0;34m)\u001b[0m\u001b[0;34m:\u001b[0m\u001b[0;34m\u001b[0m\u001b[0;34m\u001b[0m\u001b[0m\n",
            "\u001b[0;31mAttributeError\u001b[0m: module 'numpy' has no attribute 'concatentate'"
          ]
        }
      ],
      "source": [
        "import numpy as np\n",
        "a = np.zeros((10,10))\n",
        "a[np.arange(10),np.concatentate()]\n",
        "\n",
        "np.diag(np.abs(5 - np.arange(11)) - 1)"
      ]
    },
    {
      "cell_type": "markdown",
      "metadata": {
        "id": "s5Hw5sMT-fsF"
      },
      "source": [
        "### Exercise\n",
        "Write a function to compute the [trace](https://en.wikipedia.org/wiki/Trace_(linear_algebra)) of a square numpy array using fancy array indexing. Compare your implementation to numpy's built-in function `np.trace`."
      ]
    },
    {
      "cell_type": "code",
      "execution_count": null,
      "metadata": {
        "id": "jSqGSMAw-fsF"
      },
      "outputs": [],
      "source": [
        "def trace(x):\n",
        "  if x.shape(0) == x.shape(1):\n",
        "    t = 0\n",
        "    for i in range(x.shape(0)):\n",
        "      t += x[i,i]\n",
        "    return t\n",
        "  print(\"mismatched shape\")\n",
        "  return"
      ]
    },
    {
      "cell_type": "markdown",
      "metadata": {
        "id": "uqE7AaWk-fsF"
      },
      "source": [
        "We can use `np.where`, to get indices of the `True` values in a boolean array  \n",
        "This can be used to access by index, as shown below"
      ]
    },
    {
      "cell_type": "code",
      "execution_count": null,
      "metadata": {
        "id": "DZXETj2Y-fsF",
        "colab": {
          "base_uri": "https://localhost:8080/"
        },
        "outputId": "84c5c4dc-7595-480d-8d86-4f2d8b572ebb"
      },
      "outputs": [
        {
          "output_type": "execute_result",
          "data": {
            "text/plain": [
              "array([[ 0,  1,  2,  3,  4,  5,  6,  7,  8,  9],\n",
              "       [10, 11, 12, 13, 14, 15, 16, 17, 18, 19],\n",
              "       [20, 21, 22, 23, 24, 25, 26, 27, 28, 29],\n",
              "       [30, 31, 32, 33, 34, 35, 36, 37, 38, 39],\n",
              "       [40, 41, 42, 43, 44, 45, 46, 47, 48, 49],\n",
              "       [50, 51, 52, 53, 54, 55, 56, 57, 58, 59],\n",
              "       [60, 61, 62, 63, 64, 65, 66, 67, 68, 69],\n",
              "       [70, 71, 72, 73, 74, 75, 76, 77, 78, 79],\n",
              "       [80, 81, 82, 83, 84, 85, 86, 87, 88, 89],\n",
              "       [90,  2,  2,  2,  2,  2,  2,  2,  2,  2]])"
            ]
          },
          "metadata": {},
          "execution_count": 86
        }
      ],
      "source": [
        "X = np.arange(10)\n",
        "Y = np.arange(100).reshape(10,10)\n",
        "np.where(Y>90)\n",
        "Y[np.where(Y>90)]=2\n",
        "Y"
      ]
    },
    {
      "cell_type": "markdown",
      "metadata": {
        "id": "seuNQqNH-fsF"
      },
      "source": [
        "## Reduction operations\n",
        "\n",
        "Many reduction functions are available\n",
        "\n",
        "- np.sum, np.prod\n",
        "- np.min, np.max\n",
        "- np.any, np.all\n",
        "\n",
        "Partial reductions\n",
        "\n",
        "- np.cumsum, np.cumprod"
      ]
    },
    {
      "cell_type": "code",
      "execution_count": null,
      "metadata": {
        "id": "O2zbgTkZ-fsF",
        "colab": {
          "base_uri": "https://localhost:8080/"
        },
        "outputId": "595db6f4-8266-4664-87a6-2393da1bdc44"
      },
      "outputs": [
        {
          "output_type": "execute_result",
          "data": {
            "text/plain": [
              "array([[ 0,  1,  2,  3,  4,  5,  6,  7,  8,  9],\n",
              "       [10, 11, 12, 13, 14, 15, 16, 17, 18, 19],\n",
              "       [20, 21, 22, 23, 24, 25, 26, 27, 28, 29],\n",
              "       [30, 31, 32, 33, 34, 35, 36, 37, 38, 39],\n",
              "       [40, 41, 42, 43, 44, 45, 46, 47, 48, 49],\n",
              "       [50, 51, 52, 53, 54, 55, 56, 57, 58, 59],\n",
              "       [60, 61, 62, 63, 64, 65, 66, 67, 68, 69],\n",
              "       [70, 71, 72, 73, 74, 75, 76, 77, 78, 79],\n",
              "       [80, 81, 82, 83, 84, 85, 86, 87, 88, 89],\n",
              "       [90, 91, 92, 93, 94, 95, 96, 97, 98, 99]])"
            ]
          },
          "metadata": {},
          "execution_count": 87
        }
      ],
      "source": [
        "X = np.arange(100).reshape(10,10)\n",
        "X"
      ]
    },
    {
      "cell_type": "code",
      "execution_count": null,
      "metadata": {
        "id": "p14u-YjM-fsF",
        "colab": {
          "base_uri": "https://localhost:8080/"
        },
        "outputId": "14b0d29a-442b-419c-c022-77f28055ea6c"
      },
      "outputs": [
        {
          "output_type": "execute_result",
          "data": {
            "text/plain": [
              "(4950, 0)"
            ]
          },
          "metadata": {},
          "execution_count": 88
        }
      ],
      "source": [
        "np.sum(X),np.prod(X)"
      ]
    },
    {
      "cell_type": "code",
      "execution_count": null,
      "metadata": {
        "id": "FAO7gkH6-fsF",
        "colab": {
          "base_uri": "https://localhost:8080/"
        },
        "outputId": "d693bb88-a3e7-4e01-b6b3-c4c763a65108"
      },
      "outputs": [
        {
          "output_type": "execute_result",
          "data": {
            "text/plain": [
              "array([ 45, 145, 245, 345, 445, 545, 645, 745, 845, 945])"
            ]
          },
          "metadata": {},
          "execution_count": 89
        }
      ],
      "source": [
        "np.sum(X,axis=1)"
      ]
    },
    {
      "cell_type": "code",
      "execution_count": null,
      "metadata": {
        "id": "Tq7uASbP-fsG",
        "colab": {
          "base_uri": "https://localhost:8080/"
        },
        "outputId": "9df6cbd0-68c6-4d56-d899-2ce0514a97f9"
      },
      "outputs": [
        {
          "output_type": "execute_result",
          "data": {
            "text/plain": [
              "(0, 99)"
            ]
          },
          "metadata": {},
          "execution_count": 90
        }
      ],
      "source": [
        "np.min(X),np.max(X)"
      ]
    },
    {
      "cell_type": "code",
      "execution_count": null,
      "metadata": {
        "id": "sELfJhUs-fsG",
        "colab": {
          "base_uri": "https://localhost:8080/"
        },
        "outputId": "e2e72db0-31f9-4eb7-de9f-5815165c8e3d"
      },
      "outputs": [
        {
          "output_type": "execute_result",
          "data": {
            "text/plain": [
              "array([0, 1, 2, 3, 4, 5, 6, 7, 8, 9])"
            ]
          },
          "metadata": {},
          "execution_count": 91
        }
      ],
      "source": [
        "np.min(X,axis=0)"
      ]
    },
    {
      "cell_type": "code",
      "execution_count": null,
      "metadata": {
        "id": "g6euScPS-fsG",
        "colab": {
          "base_uri": "https://localhost:8080/"
        },
        "outputId": "3601dd28-1830-44fe-ac57-ea790c1cdac0"
      },
      "outputs": [
        {
          "output_type": "execute_result",
          "data": {
            "text/plain": [
              "array([[ True, False, False, False, False, False, False, False, False,\n",
              "        False],\n",
              "       [False, False, False, False, False, False, False, False, False,\n",
              "        False],\n",
              "       [False, False, False, False, False, False, False, False, False,\n",
              "        False],\n",
              "       [False, False, False, False, False, False, False, False, False,\n",
              "        False],\n",
              "       [False, False, False, False, False, False, False, False, False,\n",
              "        False],\n",
              "       [False, False, False, False, False, False, False, False, False,\n",
              "        False],\n",
              "       [False, False, False, False, False, False, False, False, False,\n",
              "        False],\n",
              "       [False, False, False, False, False, False, False, False, False,\n",
              "        False],\n",
              "       [False, False, False, False, False, False, False, False, False,\n",
              "        False],\n",
              "       [False, False, False, False, False, False, False, False, False,\n",
              "        False]])"
            ]
          },
          "metadata": {},
          "execution_count": 92
        }
      ],
      "source": [
        "# Y is a matrix of booleans reflecting the condtion output\n",
        "Y = X<1\n",
        "Y"
      ]
    },
    {
      "cell_type": "code",
      "execution_count": null,
      "metadata": {
        "id": "lOjfbQda-fsG",
        "colab": {
          "base_uri": "https://localhost:8080/"
        },
        "outputId": "4952cce9-37f7-4976-ea68-24086ca2986c"
      },
      "outputs": [
        {
          "output_type": "execute_result",
          "data": {
            "text/plain": [
              "array([ True, False, False, False, False, False, False, False, False,\n",
              "       False])"
            ]
          },
          "metadata": {},
          "execution_count": 93
        }
      ],
      "source": [
        "# if any element along axis, return axis\n",
        "np.any(Y,axis=0)"
      ]
    },
    {
      "cell_type": "code",
      "execution_count": null,
      "metadata": {
        "id": "Botd5mLo-fsG",
        "colab": {
          "base_uri": "https://localhost:8080/"
        },
        "outputId": "51d9e406-2456-44c2-d280-c4ef36564b11"
      },
      "outputs": [
        {
          "output_type": "execute_result",
          "data": {
            "text/plain": [
              "array([False, False, False, False, False, False, False, False, False,\n",
              "       False])"
            ]
          },
          "metadata": {},
          "execution_count": 94
        }
      ],
      "source": [
        "# if all elements along axis are true, return axis\n",
        "np.all(Y,axis=1)"
      ]
    },
    {
      "cell_type": "markdown",
      "metadata": {
        "id": "H1LxNnHb-fsG"
      },
      "source": [
        "All the above functions can be called on the array object directly"
      ]
    },
    {
      "cell_type": "code",
      "execution_count": null,
      "metadata": {
        "id": "akqPFqpB-fsG",
        "colab": {
          "base_uri": "https://localhost:8080/"
        },
        "outputId": "34d09ae4-292d-456d-afa6-9e8a861b3715"
      },
      "outputs": [
        {
          "output_type": "execute_result",
          "data": {
            "text/plain": [
              "array([90, 91, 92, 93, 94, 95, 96, 97, 98, 99])"
            ]
          },
          "metadata": {},
          "execution_count": 95
        }
      ],
      "source": [
        "X.max(axis=0)"
      ]
    },
    {
      "cell_type": "code",
      "execution_count": null,
      "metadata": {
        "id": "TC4YfzND-fsG",
        "colab": {
          "base_uri": "https://localhost:8080/"
        },
        "outputId": "ad44df9a-4207-4471-b260-c21dce990256"
      },
      "outputs": [
        {
          "output_type": "execute_result",
          "data": {
            "text/plain": [
              "False"
            ]
          },
          "metadata": {},
          "execution_count": 96
        }
      ],
      "source": [
        "(np.sqrt(X*X*X)<100).all()"
      ]
    },
    {
      "cell_type": "code",
      "execution_count": null,
      "metadata": {
        "id": "kev3JoX_-fsG",
        "colab": {
          "base_uri": "https://localhost:8080/"
        },
        "outputId": "42e39984-2e85-49b7-b4b2-8dd4617dc070"
      },
      "outputs": [
        {
          "output_type": "execute_result",
          "data": {
            "text/plain": [
              "array([[ 1.,  2.,  3.,  4.,  5.,  6.,  7.,  8.,  9., 10.],\n",
              "       [ 1.,  2.,  3.,  4.,  5.,  6.,  7.,  8.,  9., 10.],\n",
              "       [ 1.,  2.,  3.,  4.,  5.,  6.,  7.,  8.,  9., 10.],\n",
              "       [ 1.,  2.,  3.,  4.,  5.,  6.,  7.,  8.,  9., 10.],\n",
              "       [ 1.,  2.,  3.,  4.,  5.,  6.,  7.,  8.,  9., 10.],\n",
              "       [ 1.,  2.,  3.,  4.,  5.,  6.,  7.,  8.,  9., 10.],\n",
              "       [ 1.,  2.,  3.,  4.,  5.,  6.,  7.,  8.,  9., 10.],\n",
              "       [ 1.,  2.,  3.,  4.,  5.,  6.,  7.,  8.,  9., 10.],\n",
              "       [ 1.,  2.,  3.,  4.,  5.,  6.,  7.,  8.,  9., 10.],\n",
              "       [ 1.,  2.,  3.,  4.,  5.,  6.,  7.,  8.,  9., 10.]])"
            ]
          },
          "metadata": {},
          "execution_count": 97
        }
      ],
      "source": [
        "np.cumsum(np.ones((10,10)),axis=1)"
      ]
    },
    {
      "cell_type": "markdown",
      "metadata": {
        "id": "1BISj0eq-fsH"
      },
      "source": [
        "Cumulative operations don't change the shape of the array"
      ]
    },
    {
      "cell_type": "code",
      "execution_count": null,
      "metadata": {
        "id": "ingrjEmB-fsH",
        "colab": {
          "base_uri": "https://localhost:8080/"
        },
        "outputId": "1edb8a25-c052-4113-f841-ec3cc1f05a8a"
      },
      "outputs": [
        {
          "output_type": "execute_result",
          "data": {
            "text/plain": [
              "array([[  0,   1,   2,   3,   4,   5,   6,   7,   8,   9],\n",
              "       [ 10,  12,  14,  16,  18,  20,  22,  24,  26,  28],\n",
              "       [ 30,  33,  36,  39,  42,  45,  48,  51,  54,  57],\n",
              "       [ 60,  64,  68,  72,  76,  80,  84,  88,  92,  96],\n",
              "       [100, 105, 110, 115, 120, 125, 130, 135, 140, 145],\n",
              "       [150, 156, 162, 168, 174, 180, 186, 192, 198, 204],\n",
              "       [210, 217, 224, 231, 238, 245, 252, 259, 266, 273],\n",
              "       [280, 288, 296, 304, 312, 320, 328, 336, 344, 352],\n",
              "       [360, 369, 378, 387, 396, 405, 414, 423, 432, 441],\n",
              "       [450, 460, 470, 480, 490, 500, 510, 520, 530, 540]])"
            ]
          },
          "metadata": {},
          "execution_count": 98
        }
      ],
      "source": [
        "np.cumsum(X,axis=0)"
      ]
    },
    {
      "cell_type": "markdown",
      "metadata": {
        "id": "XFkbsdHE-fsH"
      },
      "source": [
        "### Exercise\n",
        "\n",
        "- Find the column with maximum column sum\n",
        "- For which rows of the matrix, the sum of the first three elements of the row is greater than the sum of the last two elements of the row"
      ]
    },
    {
      "cell_type": "code",
      "execution_count": null,
      "metadata": {
        "id": "DKQ_pbir-fsH"
      },
      "outputs": [],
      "source": [
        ""
      ]
    },
    {
      "cell_type": "markdown",
      "metadata": {
        "id": "cBm0Oe1A-fsH"
      },
      "source": [
        "### Exercise\n",
        "Compute the the moving average of the array `y` created below, with window size 5."
      ]
    },
    {
      "cell_type": "code",
      "execution_count": null,
      "metadata": {
        "id": "HOUOaE95-fsH"
      },
      "outputs": [],
      "source": [
        ""
      ]
    },
    {
      "cell_type": "markdown",
      "metadata": {
        "id": "_qbzbxWi-fsH"
      },
      "source": [
        "## Final Exercise (Solved)\n",
        "\n",
        "Implement the [Conway's game of Life](https://en.wikipedia.org/wiki/Conway%27s_Game_of_Life) using numpy"
      ]
    },
    {
      "cell_type": "code",
      "execution_count": null,
      "metadata": {
        "id": "w1D-H80h-fsH",
        "colab": {
          "base_uri": "https://localhost:8080/",
          "height": 285
        },
        "outputId": "f61e569e-1aa3-4ddd-a8e8-4dfc8cd6b6b3"
      },
      "outputs": [
        {
          "output_type": "execute_result",
          "data": {
            "text/plain": [
              "<matplotlib.image.AxesImage at 0x7f1fec4d2150>"
            ]
          },
          "metadata": {},
          "execution_count": 99
        },
        {
          "output_type": "display_data",
          "data": {
            "text/plain": [
              "<Figure size 432x288 with 1 Axes>"
            ],
            "image/png": "[encoded data removed]"
          },
          "metadata": {
            "needs_background": "light"
          }
        }
      ],
      "source": [
        "X = (np.random.rand(100,100)>0.9).astype(int)\n",
        "import matplotlib.pyplot as plt\n",
        "plt.imshow(X)"
      ]
    },
    {
      "cell_type": "code",
      "execution_count": null,
      "metadata": {
        "id": "CqaR6py3-fsI",
        "colab": {
          "base_uri": "https://localhost:8080/",
          "height": 285
        },
        "outputId": "9e06b08b-6234-4804-940d-a6d330506063"
      },
      "outputs": [
        {
          "output_type": "execute_result",
          "data": {
            "text/plain": [
              "<matplotlib.image.AxesImage at 0x7f1febf95fd0>"
            ]
          },
          "metadata": {},
          "execution_count": 100
        },
        {
          "output_type": "display_data",
          "data": {
            "text/plain": [
              "<Figure size 432x288 with 1 Axes>"
            ],
            "image/png": "[encoded data removed]"
          },
          "metadata": {
            "needs_background": "light"
          }
        }
      ],
      "source": [
        "# count is for each position\n",
        "count =\\\n",
        "X[:-2,:-2] + X[:-2,1:-1] + X[:-2,2::] +\\\n",
        "X[1:-1,:-2] +              X[1:-1,2:] +\\\n",
        "X[2:,:-2] + X[2:,1:-1] +   X[2:,2:]\n",
        "\n",
        "# if exactly 3 live neighbors and cell is dead, or if cell is live and 2 or 3 neighbors live, else cell dies\n",
        "newX = ((count==3) & (X[1:-1,1:-1]==0)) | (((count==3)|(count==2)) & (X[1:-1,1:-1]==1))\n",
        "X[:]=0\n",
        "X[1:-1,1:-1] = newX\n",
        "plt.imshow(X)"
      ]
    }
  ],
  "metadata": {
    "kernelspec": {
      "display_name": "Python 3 (ipykernel)",
      "language": "python",
      "name": "python3"
    },
    "language_info": {
      "codemirror_mode": {
        "name": "ipython",
        "version": 3
      },
      "file_extension": ".py",
      "mimetype": "text/x-python",
      "name": "python",
      "nbconvert_exporter": "python",
      "pygments_lexer": "ipython3",
      "version": "3.9.7"
    },
    "colab": {
      "name": "3-SciProg_Numpy_info.ipynb",
      "provenance": [],
      "collapsed_sections": [
        "obxjsG-x-fr0",
        "hY199VDU-fr1",
        "0W_azcWU-fr2",
        "r4ILEcUe-fr5",
        "NcnHvuP5-fr7",
        "Hyg8OIBX-fr8",
        "j7k6o51t-fr-",
        "U-iALOJY-fr-",
        "F-ulYCrX-fsB",
        "jtM1tsPI-fsE",
        "s5Hw5sMT-fsF",
        "seuNQqNH-fsF",
        "XFkbsdHE-fsH",
        "cBm0Oe1A-fsH",
        "_qbzbxWi-fsH"
      ],
      "include_colab_link": true
    }
  },
  "nbformat": 4,
  "nbformat_minor": 0
}