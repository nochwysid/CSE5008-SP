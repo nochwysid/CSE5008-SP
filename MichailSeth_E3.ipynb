{
  "nbformat": 4,
  "nbformat_minor": 0,
  "metadata": {
    "colab": {
      "name": "MichailSeth_E3.ipynb",
      "provenance": [],
      "mount_file_id": "16tzEXoVCHEuCLPekcydIlP_jyVhQGDBU",
      "authorship_tag": "ABX9TyMxJu6188ZA9sDbz8ZMRt/p",
      "include_colab_link": true
    },
    "kernelspec": {
      "name": "python3",
      "display_name": "Python 3"
    },
    "language_info": {
      "name": "python"
    }
  },
  "cells": [
    {
      "cell_type": "markdown",
      "metadata": {
        "id": "view-in-github",
        "colab_type": "text"
      },
      "source": [
        "<a href=\"https://colab.research.google.com/github/nochwysid/CSE5008-SP/blob/main/MichailSeth_E3.ipynb\" target=\"_parent\"><img src=\"https://colab.research.google.com/assets/colab-badge.svg\" alt=\"Open In Colab\"/></a>"
      ]
    },
    {
      "cell_type": "markdown",
      "source": [
        "7 File I/O  \n",
        "\n",
        "Exercise 7.1: Open a file  \n",
        "Write a function that opens a file (input: filename), and prints the file line by line.\n",
        "\n",
        "\n",
        "\n",
        "\n",
        "\n",
        "\n",
        "\n",
        "\n",
        "\n",
        "\n",
        "\n",
        "\n",
        "\n",
        "\n",
        "\n",
        "\n",
        "\n",
        "\n"
      ],
      "metadata": {
        "id": "MtpPa1rEpJl9"
      }
    },
    {
      "cell_type": "code",
      "source": [
        "#the basic way, using with manages closing stream, can sometimes lead to carelessness\n",
        "import io\n",
        "with open(\"/content/sample_data/README.md\",'r+') as file_to_rw:\n",
        "  readme = file_to_rw.read()\n",
        "print(readme)"
      ],
      "metadata": {
        "id": "NFFb-nBRrKCe",
        "colab": {
          "base_uri": "https://localhost:8080/"
        },
        "outputId": "ec4c81ca-1ff0-4edb-87b3-425a26db2104"
      },
      "execution_count": 1,
      "outputs": [
        {
          "output_type": "stream",
          "name": "stdout",
          "text": [
            "This directory includes a few sample datasets to get you started.\n",
            "\n",
            "*   `california_housing_data*.csv` is California housing data from the 1990 US\n",
            "    Census; more information is available at:\n",
            "    https://developers.google.com/machine-learning/crash-course/california-housing-data-description\n",
            "\n",
            "*   `mnist_*.csv` is a small sample of the\n",
            "    [MNIST database](https://en.wikipedia.org/wiki/MNIST_database), which is\n",
            "    described at: http://yann.lecun.com/exdb/mnist/\n",
            "\n",
            "*   `anscombe.json` contains a copy of\n",
            "    [Anscombe's quartet](https://en.wikipedia.org/wiki/Anscombe%27s_quartet); it\n",
            "    was originally described in\n",
            "\n",
            "    Anscombe, F. J. (1973). 'Graphs in Statistical Analysis'. American\n",
            "    Statistician. 27 (1): 17-21. JSTOR 2682899.\n",
            "\n",
            "    and our copy was prepared by the\n",
            "    [vega_datasets library](https://github.com/altair-viz/vega_datasets/blob/4f67bdaad10f45e3549984e17e1b3088c731503d/vega_datasets/_data/anscombe.json).\n",
            "\n"
          ]
        }
      ]
    },
    {
      "cell_type": "code",
      "source": [
        "#alternative approach, requires manually closing the stream\n",
        "file_to_rw = open(\"/content/sample_data/README.md\",'r+')\n",
        "readme = file_to_rw.read()\n",
        "file_to_rw.close()\n",
        "print(readme)"
      ],
      "metadata": {
        "colab": {
          "base_uri": "https://localhost:8080/"
        },
        "id": "uiCFtcfGGWFp",
        "outputId": "7fb13e4a-c429-49bf-dd45-901b62bc4fbe"
      },
      "execution_count": 2,
      "outputs": [
        {
          "output_type": "stream",
          "name": "stdout",
          "text": [
            "This directory includes a few sample datasets to get you started.\n",
            "\n",
            "*   `california_housing_data*.csv` is California housing data from the 1990 US\n",
            "    Census; more information is available at:\n",
            "    https://developers.google.com/machine-learning/crash-course/california-housing-data-description\n",
            "\n",
            "*   `mnist_*.csv` is a small sample of the\n",
            "    [MNIST database](https://en.wikipedia.org/wiki/MNIST_database), which is\n",
            "    described at: http://yann.lecun.com/exdb/mnist/\n",
            "\n",
            "*   `anscombe.json` contains a copy of\n",
            "    [Anscombe's quartet](https://en.wikipedia.org/wiki/Anscombe%27s_quartet); it\n",
            "    was originally described in\n",
            "\n",
            "    Anscombe, F. J. (1973). 'Graphs in Statistical Analysis'. American\n",
            "    Statistician. 27 (1): 17-21. JSTOR 2682899.\n",
            "\n",
            "    and our copy was prepared by the\n",
            "    [vega_datasets library](https://github.com/altair-viz/vega_datasets/blob/4f67bdaad10f45e3549984e17e1b3088c731503d/vega_datasets/_data/anscombe.json).\n",
            "\n"
          ]
        }
      ]
    },
    {
      "cell_type": "code",
      "source": [
        "#in colab, yet another approach\n",
        "!cat /content/sample_data/README.md"
      ],
      "metadata": {
        "colab": {
          "base_uri": "https://localhost:8080/"
        },
        "id": "LlszkvNAFsIJ",
        "outputId": "5c467fbc-e25c-4ea9-eee6-03cadafe5dcf"
      },
      "execution_count": 3,
      "outputs": [
        {
          "output_type": "stream",
          "name": "stdout",
          "text": [
            "This directory includes a few sample datasets to get you started.\n",
            "\n",
            "*   `california_housing_data*.csv` is California housing data from the 1990 US\n",
            "    Census; more information is available at:\n",
            "    https://developers.google.com/machine-learning/crash-course/california-housing-data-description\n",
            "\n",
            "*   `mnist_*.csv` is a small sample of the\n",
            "    [MNIST database](https://en.wikipedia.org/wiki/MNIST_database), which is\n",
            "    described at: http://yann.lecun.com/exdb/mnist/\n",
            "\n",
            "*   `anscombe.json` contains a copy of\n",
            "    [Anscombe's quartet](https://en.wikipedia.org/wiki/Anscombe%27s_quartet); it\n",
            "    was originally described in\n",
            "\n",
            "    Anscombe, F. J. (1973). 'Graphs in Statistical Analysis'. American\n",
            "    Statistician. 27 (1): 17-21. JSTOR 2682899.\n",
            "\n",
            "    and our copy was prepared by the\n",
            "    [vega_datasets library](https://github.com/altair-viz/vega_datasets/blob/4f67bdaad10f45e3549984e17e1b3088c731503d/vega_datasets/_data/anscombe.json).\n"
          ]
        }
      ]
    },
    {
      "cell_type": "markdown",
      "source": [
        "Exercise 7.2: Wordcount  \n",
        "On the course website you can find a text file containing the complete works of William Shapespeare.  \n",
        "(a) Find the 20 most common words  \n"
      ],
      "metadata": {
        "id": "bzSu0x4WrASs"
      }
    },
    {
      "cell_type": "code",
      "source": [
        "#most common words is affected by the presences of the license\n",
        "!cp /content/drive/MyDrive/shakespeare.txt /content/shakespeare.txt\n",
        "f2r = open('/content/shakespeare.txt', 'r')\n",
        "reader = f2r.readlines()\n",
        "words = {}\n",
        "for line in reader:\n",
        "  splitline = line.split(\" \")\n",
        "  for word in splitline:\n",
        "    word = word.replace(',','').replace('.','').replace('!','').replace('\\'','').replace('\\\"','').replace(')','')\n",
        "    word = word.replace('-','').replace('\\n','').replace(':','').replace('[','').replace(']','').replace('(','')\n",
        "    word = word.replace(';','').replace('?','').replace('/','').replace('@','').replace('#','').replace('<','')\n",
        "    word = word.replace('>','').replace('*','').replace('0','').replace('1','').replace('2','').replace('3','')\n",
        "    word = word.replace('4','').replace('5','').replace('6','').replace('7','').replace('8','').replace('9','')\n",
        "    if word in words.keys():\n",
        "      words[word] += 1\n",
        "    else: \n",
        "      words[word] = 1\n",
        "words.pop('')\n",
        "tuplelist = list(words.items())\n",
        "tuplelist = sorted(tuplelist, key=lambda d: d[1],reverse=True)\n",
        "for i in range(20):\n",
        "  print(tuplelist[i])\n",
        "\n"
      ],
      "metadata": {
        "id": "NY-A6IQCrPr5",
        "colab": {
          "base_uri": "https://localhost:8080/"
        },
        "outputId": "76e3f1a6-0474-43a8-cbaf-dd82ff2defd1"
      },
      "execution_count": 4,
      "outputs": [
        {
          "output_type": "stream",
          "name": "stdout",
          "text": [
            "('the', 23437)\n",
            "('I', 20371)\n",
            "('and', 18661)\n",
            "('to', 15898)\n",
            "('of', 15812)\n",
            "('a', 12721)\n",
            "('you', 12089)\n",
            "('my', 10832)\n",
            "('in', 9919)\n",
            "('is', 8321)\n",
            "('that', 8078)\n",
            "('not', 8042)\n",
            "('me', 7743)\n",
            "('And', 7455)\n",
            "('with', 6831)\n",
            "('it', 6738)\n",
            "('be', 6396)\n",
            "('his', 6320)\n",
            "('your', 6017)\n",
            "('for', 5803)\n"
          ]
        }
      ]
    },
    {
      "cell_type": "markdown",
      "source": [
        "(b) How many unique words are used?  \n"
      ],
      "metadata": {
        "id": "pk89W_IetRGB"
      }
    },
    {
      "cell_type": "code",
      "source": [
        "#number of total and unique words also affected by the presences of the license\n",
        "wordscopy = words.copy()\n",
        "poplist = []\n",
        "for key in wordscopy.keys():\n",
        "  if wordscopy[key] > 1:\n",
        "    poplist.append(key)\n",
        "for key in poplist:\n",
        "  wordscopy.pop(key)\n",
        "#print(wordscopy)\n",
        "print(\"Total words:{}, Unique words:{}\".format(len(words),len(wordscopy)))\n"
      ],
      "metadata": {
        "id": "gXa3AGF_rPex",
        "colab": {
          "base_uri": "https://localhost:8080/"
        },
        "outputId": "e8310443-e71d-4073-ac0b-ad77cbc6e00b"
      },
      "execution_count": 103,
      "outputs": [
        {
          "output_type": "stream",
          "name": "stdout",
          "text": [
            "Total words:34310, Unique words:15329\n"
          ]
        }
      ]
    },
    {
      "cell_type": "markdown",
      "source": [
        "(c) How many words are used at least 5 times?  \n"
      ],
      "metadata": {
        "id": "i8qpd9mKtRC7"
      }
    },
    {
      "cell_type": "code",
      "source": [
        "fiveplus = []\n",
        "for i in tuplelist:\n",
        "  if i[1] >=5:\n",
        "    fiveplus.append(i)\n",
        "print(\"there are \",len(fiveplus),\" words of length 5 or greater\")"
      ],
      "metadata": {
        "id": "yPlqeCKarPQp",
        "colab": {
          "base_uri": "https://localhost:8080/"
        },
        "outputId": "27cc4eba-459e-474b-d9a1-9f10f7b9f14c"
      },
      "execution_count": 6,
      "outputs": [
        {
          "output_type": "stream",
          "name": "stdout",
          "text": [
            "there are  10194  words of length 5 or greater\n"
          ]
        }
      ]
    },
    {
      "cell_type": "markdown",
      "source": [
        "(d) Write the 200 most common words, and their counts, to a file.  "
      ],
      "metadata": {
        "id": "Q_Buj4sstQ_U"
      }
    },
    {
      "cell_type": "code",
      "source": [
        "#does this work?\n",
        "list200 = []\n",
        "for i in range(200):\n",
        "  list200.append(str(tuplelist[i]))\n",
        "fout = open('/content/shakespeare_word_count.txt', 'w')\n",
        "writer = fout.writelines(list200)\n",
        "fout.close()"
      ],
      "metadata": {
        "id": "NmyCA42TrK8h"
      },
      "execution_count": 8,
      "outputs": []
    },
    {
      "cell_type": "markdown",
      "source": [
        "Exercise 7.3: Random text generator II  \n",
        "In this exercise, we will finish the implementation of our random text generator from Question 6.4.  \n",
        "Change the process textfile function such that it reads a file line by line and processes it, instead of\n",
        "using the hardcoded sample. This should require only a few changes to the code.  \n",
        "Generate some random sentences based on the books provided in the data/ folder.  \n",
        "As you will notice, most phrases are very random. To make the phrases seem a little more realistic, we\n",
        "should use not just the last word, but the two last words. Going back to our previous example: ‘the fire\n",
        "and the wind.’ we would have the (state, new word) pairs: (‘the fire’, ‘and’), (‘fire and’, ‘the’), (‘and\n",
        "the’, ‘wind’) etc. Update your code to use states consisting of two words instead of one.  \n",
        "*Bonus*: Using more than 2 words is infeasible unless we have massive amounts of text data because the\n",
        "number of states gets increasingly large. Change your code such that you can specify k, the number of\n",
        "words per state."
      ],
      "metadata": {
        "id": "pWlLHmF3q9Dl"
      }
    },
    {
      "cell_type": "code",
      "source": [
        "#maybe I'll get back to this"
      ],
      "metadata": {
        "id": "kayjclzLrywW"
      },
      "execution_count": null,
      "outputs": []
    },
    {
      "cell_type": "markdown",
      "source": [
        "Exercise 7.4: Sum of lists  \n",
        "Before you start coding, please read the entire problem.  \n",
        "(a) Data generation  \n",
        "&nbsp; &nbsp; &nbsp; Write a function that takes three integers, n, a and b and a filename and writes to the file a list\n",
        "with n random  \n",
        "&nbsp; &nbsp; &nbsp; integers between a and b.\n"
      ],
      "metadata": {
        "id": "28_ec-VjqzYW"
      }
    },
    {
      "cell_type": "code",
      "source": [
        "import numpy as np\n",
        "def rand(n,a,b,filename):\n",
        "  randomnumbers = []\n",
        "  for i in range(n):\n",
        "    randomnumbers.append(\" {}\".format(str(np.random.randint(a,b))))\n",
        "  filewrite = open(filename,'w')\n",
        "  filewrite.writelines(randomnumbers)\n",
        "  filewrite.close()\n",
        "rand(100,0,5,'/content/rnums.txt')"
      ],
      "metadata": {
        "id": "BuXS8zsx443G"
      },
      "execution_count": 29,
      "outputs": []
    },
    {
      "cell_type": "markdown",
      "source": [
        "\n",
        "(b) Reading the data  \n",
        "&nbsp; &nbsp; &nbsp; Write a function that can read the files as generated above and return the values.  \n",
        "\n"
      ],
      "metadata": {
        "id": "8n88G91z44qV"
      }
    },
    {
      "cell_type": "code",
      "source": [
        "def readrand(filename):\n",
        "  fread = open(filename,'r')\n",
        "  reader = fread.readlines()\n",
        "  lines = []\n",
        "  for line in reader:\n",
        "    lines.append(line)\n",
        "  return lines\n",
        "print(readrand('/content/rnums.txt'))"
      ],
      "metadata": {
        "id": "3xgAi3eI44cp",
        "colab": {
          "base_uri": "https://localhost:8080/"
        },
        "outputId": "c728e934-75c0-43a3-e840-dd91d5044dd3"
      },
      "execution_count": 30,
      "outputs": [
        {
          "output_type": "stream",
          "name": "stdout",
          "text": [
            "[' 0 0 4 3 2 3 1 0 4 0 0 4 1 4 2 2 2 4 4 4 4 1 1 3 0 4 4 1 2 4 3 2 0 0 1 2 0 0 3 2 4 1 0 4 3 0 3 0 4 2 0 2 4 2 2 4 3 2 4 4 0 1 1 4 0 0 0 3 0 3 2 3 2 0 0 1 0 1 1 4 4 1 0 1 1 4 1 3 3 1 4 0 0 2 1 3 3 0 2 0']\n"
          ]
        }
      ]
    },
    {
      "cell_type": "markdown",
      "source": [
        "(c) Sum problem  \n",
        "&nbsp; &nbsp; &nbsp; Write a function that given two filenames (pointing to files as generated by the above function) and an integer k, finds all u  \n",
        "&nbsp; &nbsp; &nbsp; and v such that u + v = k, and u is an element of the first list and v is a\n",
        "member of the second list.  \n",
        "\n"
      ],
      "metadata": {
        "id": "X-heITxE44QC"
      }
    },
    {
      "cell_type": "code",
      "source": [
        "def sumfromfile(filename1,filename2,k):\n",
        "  fread1 = open(filename1,'r')\n",
        "  reader1 = fread1.readlines()\n",
        "  fread2 = open(filename2,'r')\n",
        "  reader2 = fread2.readlines()\n",
        "\n",
        "  uv = []\n",
        "  ulist = []\n",
        "  vlist = []\n",
        "  for line1 in reader1:\n",
        "    ulist.extend(line1.split(' '))\n",
        "  for line2 in reader2:\n",
        "    vlist.extend(line2.split(' '))\n",
        "  \n",
        "  for i in range(1,len(ulist)):\n",
        "    for j in range(1,len(vlist)):\n",
        "      if int(ulist[i])+ int(vlist[j]) == k:\n",
        "        uv.append((ulist[i], vlist[j]))\n",
        "  return uv\n",
        "\n",
        "rand(20,0,10,'/content/rnums1.txt')\n",
        "rand(20,0,10,'/content/rnums2.txt')\n",
        "print(sumfromfile('/content/rnums1.txt','/content/rnums2.txt',6))"
      ],
      "metadata": {
        "id": "pK1cKdwI44DV",
        "colab": {
          "base_uri": "https://localhost:8080/"
        },
        "outputId": "f240264e-390f-4df6-9a09-6cf17dc62868"
      },
      "execution_count": 104,
      "outputs": [
        {
          "output_type": "stream",
          "name": "stdout",
          "text": [
            "[('2', '4'), ('2', '4'), ('2', '4'), ('2', '4'), ('2', '4'), ('4', '2'), ('5', '1'), ('1', '5'), ('1', '5'), ('1', '5'), ('2', '4'), ('2', '4'), ('2', '4'), ('2', '4'), ('2', '4'), ('3', '3'), ('3', '3'), ('3', '3'), ('5', '1'), ('3', '3'), ('3', '3'), ('3', '3'), ('3', '3'), ('3', '3'), ('3', '3'), ('5', '1'), ('2', '4'), ('2', '4'), ('2', '4'), ('2', '4'), ('2', '4')]\n"
          ]
        }
      ]
    },
    {
      "cell_type": "markdown",
      "source": [
        "(d) Testing  \n",
        "&nbsp; &nbsp; &nbsp; Test your functions by generating 2 files with n = 2000, a = 1, b = 10000 and k = 5000 and\n",
        "k = 12000.  \n",
        "\n"
      ],
      "metadata": {
        "id": "IdQyaqvC431q"
      }
    },
    {
      "cell_type": "code",
      "source": [
        "rand(2000,1,10000,'/content/rnums_test1.txt')\n",
        "rand(2000,1,10000,'/content/rnums_test2.txt')\n",
        "run1 = sumfromfile('/content/rnums_test1.txt','/content/rnums_test2.txt',5000)\n",
        "print(run1[0:20],', truncated for brevity')\n",
        "print(\" * \\ * / * \\ * / *\")\n",
        "run2 = sumfromfile('/content/rnums_test1.txt','/content/rnums_test2.txt',12000)\n",
        "print(run2[0:20],', truncated for brevity')"
      ],
      "metadata": {
        "id": "TwwCa1Zyrzyg",
        "colab": {
          "base_uri": "https://localhost:8080/"
        },
        "outputId": "820a94fe-fc6b-489d-a0dd-8b4dd386024b"
      },
      "execution_count": 105,
      "outputs": [
        {
          "output_type": "stream",
          "name": "stdout",
          "text": [
            "[('2569', '2431'), ('1006', '3994'), ('1995', '3005'), ('1635', '3365'), ('2394', '2606'), ('1583', '3417'), ('2978', '2022'), ('4226', '774'), ('1106', '3894'), ('1400', '3600'), ('1400', '3600'), ('2122', '2878'), ('4378', '622'), ('967', '4033'), ('170', '4830'), ('2603', '2397'), ('2513', '2487'), ('2968', '2032'), ('2328', '2672'), ('2328', '2672')] , truncated for brevity\n",
            " * \\ * / * \\ * / *\n",
            "[('5337', '6663'), ('5857', '6143'), ('6101', '5899'), ('5491', '6509'), ('5491', '6509'), ('7093', '4907'), ('4491', '7509'), ('7664', '4336'), ('3378', '8622'), ('9269', '2731'), ('4467', '7533'), ('7162', '4838'), ('4625', '7375'), ('2327', '9673'), ('7248', '4752'), ('7208', '4792'), ('3177', '8823'), ('2505', '9495'), ('5446', '6554'), ('7091', '4909')] , truncated for brevity\n"
          ]
        }
      ]
    },
    {
      "cell_type": "markdown",
      "source": [
        "(e) Bonus: Efficiency  \n",
        "&nbsp; &nbsp; &nbsp; If you are up to a challenge, write a function that solves the sum problem with the restriction that you can only go over every  \n",
        "&nbsp; &nbsp; &nbsp; number in the both lists once."
      ],
      "metadata": {
        "id": "Y6fhopRV5Dms"
      }
    },
    {
      "cell_type": "code",
      "source": [
        "#use sorted lists, traverse one forward and one backward. if sum greater than k, skip to next element in outerloop, decrement innerloop counter."
      ],
      "metadata": {
        "id": "J1R4-VEe5EL1"
      },
      "execution_count": null,
      "outputs": []
    },
    {
      "cell_type": "markdown",
      "source": [
        "8 Classes  \n",
        "\n",
        "Exercise 8.1: Rational numbers  \n",
        "In this problem, we will write a class that can represent rational numbers, i.e. fractions $\\frac{p}{q}$.  \n",
        "\n",
        "(a) Create a class Rational which is initialized by two integers, p and q, the nominator and denominator\n",
        "  \n",
        "\n",
        "\n"
      ],
      "metadata": {
        "id": "_GOM34pcqn0u"
      }
    },
    {
      "cell_type": "code",
      "source": [
        "class Rational:\n",
        "    def __init__(self, p, q):\n",
        "        if q == 0:\n",
        "            raise ValueError('Division by zero')\n",
        "        self.p = p \n",
        "        self.q = q "
      ],
      "metadata": {
        "id": "id-UKF--4BDM"
      },
      "execution_count": 46,
      "outputs": []
    },
    {
      "cell_type": "markdown",
      "source": [
        "(b) Add a method to print the rational number as p/q (the \\_\\_str\\_\\_ or \\_\\_repr\\_\\_ method is useful).  \n"
      ],
      "metadata": {
        "id": "H4vJ26bL4FIm"
      }
    },
    {
      "cell_type": "code",
      "source": [
        "class Rational:\n",
        "  def __init__(self, p, q):\n",
        "    if q == 0:\n",
        "        raise ValueError('Division by zero')\n",
        "    self.p = p \n",
        "    self.q = q   \n",
        "  \n",
        "  #alternatively, print(self.__str__()) ...\n",
        "  def __print__(self):\n",
        "    print(self.__repr__())\n",
        "  #... but the additional __repr__() method allows use of a string representation elsewhere\n",
        "  def __repr__(self):\n",
        "    return '%d / %d' % (self.p, self.q)\n",
        "\n",
        "r = Rational(2,3)\n",
        "print(type(r))\n",
        "r.__print__()\n",
        "print(r.__repr__())"
      ],
      "metadata": {
        "id": "1L3ZEZpb4A_b",
        "colab": {
          "base_uri": "https://localhost:8080/"
        },
        "outputId": "a75dfa73-7cd7-402f-d89d-1b3a91f39d70"
      },
      "execution_count": 47,
      "outputs": [
        {
          "output_type": "stream",
          "name": "stdout",
          "text": [
            "<class '__main__.Rational'>\n",
            "2 / 3\n",
            "2 / 3\n"
          ]
        }
      ]
    },
    {
      "cell_type": "markdown",
      "source": [
        "(c) We would like to represent $\\frac{10}{20}$ by $\\frac{1}{2}$ instead, hence write a function that computes the greatest common divisor, and ensure  \n",
        "&nbsp; &nbsp; &nbsp;  that every rational number is simplified  "
      ],
      "metadata": {
        "id": "2H6JpLV54FFN"
      }
    },
    {
      "cell_type": "code",
      "source": [
        "import math\n",
        "\n",
        "class Rational:\n",
        "  def __init__(self, p, q):\n",
        "    if q == 0:\n",
        "        raise ValueError('Division by zero')\n",
        "    self.p = p \n",
        "    self.q = q   \n",
        "  \n",
        "  def __print__(self):\n",
        "    print(self.__repr__())\n",
        "  \n",
        "  def __repr__(self):\n",
        "    return '%d / %d' % (self.p, self.q)\n",
        "  \n",
        "  # simplify rational to lowest form\n",
        "  def __reduce__(self):\n",
        "    g = math.gcd(self.p, self.q)\n",
        "    self.p = self.p // g\n",
        "    self.q = self.q // g\n",
        "    # if doing it manually, something like this\n",
        "    #for i in range 1,p: if p%i == 0: top.append i\n",
        "    #for j in range 1,q: if q%j == 0: bottom.append j\n",
        "    #for k in range len(top): for l in range len(bottom): if top[k] == bottom[l] and top[k] > gcd: gcd = top[k]  "
      ],
      "metadata": {
        "id": "Q1HYFsV-4Ak6"
      },
      "execution_count": 48,
      "outputs": []
    },
    {
      "cell_type": "markdown",
      "source": [
        "(d) Add a method so that we can add two rational numbers with $r_1 + r_2$, &nbsp; here the \\_\\_add\\_\\_() method\n",
        "is useful.  "
      ],
      "metadata": {
        "id": "UVPf223J4FBb"
      }
    },
    {
      "cell_type": "code",
      "source": [
        "class Rational:\n",
        "  def __init__(self, p, q):\n",
        "    if q == 0:\n",
        "        raise ValueError('Division by zero')\n",
        "    self.p = p \n",
        "    self.q = q   \n",
        "  \n",
        "  def __print__(self):\n",
        "    print(self.__repr__())\n",
        "  \n",
        "  def __repr__(self):\n",
        "    return '%d / %d' % (self.p, self.q)\n",
        "  \n",
        "  def __reduce__(self):\n",
        "    g = math.gcd(self.p, self.q)\n",
        "    self.p = self.p // g\n",
        "    self.q = self.q // g\n",
        "  \n",
        "  #ensure same denominator, check if int, default to float\n",
        "  def __add__(self, other):\n",
        "    if isinstance(other, Rational):\n",
        "      #this is p1q2 / q1q2 + p2q1 / q1q2\n",
        "      return Rational(self.p * other.q + other.p * self.q, self.q * other.q)\n",
        "    #check if int, convert if it is\n",
        "    elif isinstance(other, int):\n",
        "      return Rational(self.p + other * self.q, self.q)\n",
        "    #default\n",
        "    return float(self) + float(other)\n",
        "\n",
        "a = Rational(2,3)\n",
        "b = 6\n",
        "#as per usual\n",
        "a.__add__(b)\n",
        "a + b\n",
        "#as expected, b.__add__(a) gives not implemented error\n",
        "#b + a gives type error"
      ],
      "metadata": {
        "id": "ZnD3BD_-4Aee",
        "colab": {
          "base_uri": "https://localhost:8080/"
        },
        "outputId": "ecc5df53-5ffb-45ed-e878-afbb49a0f0b7"
      },
      "execution_count": 49,
      "outputs": [
        {
          "output_type": "execute_result",
          "data": {
            "text/plain": [
              "20 / 3"
            ]
          },
          "metadata": {},
          "execution_count": 49
        }
      ]
    },
    {
      "cell_type": "markdown",
      "source": [
        "(e) Add a method to subtract two rational numbers. (\\_\\_sub\\_\\_)  \n"
      ],
      "metadata": {
        "id": "0pR_ODN34ERL"
      }
    },
    {
      "cell_type": "code",
      "source": [
        "class Rational:\n",
        "  def __init__(self, p, q):\n",
        "    if q == 0:\n",
        "        raise ValueError('Division by zero')\n",
        "    self.p = p \n",
        "    self.q = q   \n",
        "  \n",
        "  def __print__(self):\n",
        "    print(self.__repr__())\n",
        "  \n",
        "  def __repr__(self):\n",
        "    return '%d / %d' % (self.p, self.q)\n",
        "  \n",
        "  def __reduce__(self):\n",
        "    g = math.gcd(self.p, self.q)\n",
        "    self.p = self.p // g\n",
        "    self.q = self.q // g\n",
        "  \n",
        "  def __add__(self, other):\n",
        "    if isinstance(other, Rational):\n",
        "      return Rational(self.p * other.q + other.p * self.q, self.q * other.q)\n",
        "    elif isinstance(other, int):\n",
        "      return Rational(self.p + other * self.q, self.q)\n",
        "    return float(self) + float(other)\n",
        "     \n",
        "  #subtraction is just addition of a negative\n",
        "  def __sub__(self, other):\n",
        "    #if other is already negative, subtraction of other is the same as addition\n",
        "    return self.__add__(-other)\n",
        "\n",
        "a = Rational(2,3)\n",
        "b = 6\n",
        "a.__sub__(b)    \n",
        "#a - b    "
      ],
      "metadata": {
        "id": "_ssX0Xo_4Aax",
        "colab": {
          "base_uri": "https://localhost:8080/"
        },
        "outputId": "a559c08f-23f6-4c14-9c2c-3474a6e378b6"
      },
      "execution_count": 50,
      "outputs": [
        {
          "output_type": "execute_result",
          "data": {
            "text/plain": [
              "-16 / 3"
            ]
          },
          "metadata": {},
          "execution_count": 50
        }
      ]
    },
    {
      "cell_type": "markdown",
      "source": [
        "(f) Add a method to multiply two rational numbers. (\\_\\_mul\\_\\_)  \n"
      ],
      "metadata": {
        "id": "sR4QI3354e2-"
      }
    },
    {
      "cell_type": "code",
      "source": [
        "class Rational:\n",
        "  def __init__(self, p, q):\n",
        "    if q == 0:\n",
        "        raise ValueError('Division by zero')\n",
        "    self.p = p \n",
        "    self.q = q   \n",
        "  \n",
        "  def __print__(self):\n",
        "    print(self.__repr__())\n",
        "  \n",
        "  def __repr__(self):\n",
        "    return '%d / %d' % (self.p, self.q)\n",
        "  \n",
        "  def __reduce__(self):\n",
        "    g = math.gcd(self.p, self.q)\n",
        "    self.p = self.p // g\n",
        "    self.q = self.q // g\n",
        "  \n",
        "  def __add__(self, other):\n",
        "    if isinstance(other, Rational):\n",
        "      return Rational(self.p * other.q + other.p * self.q, self.q * other.q)\n",
        "    elif isinstance(other, int):\n",
        "      return Rational(self.p + other * self.q, self.q)\n",
        "    return float(self) + float(other)\n",
        "     \n",
        "  def __sub__(self, other):\n",
        "    return self.__add__(-other)\n",
        "  \n",
        "  #similar, but not the same as, __add__\n",
        "  def __mul__(self, other):\n",
        "    if isinstance(other, Rational):\n",
        "      return Rational(self.p * other.p, self.q * other.q)\n",
        "    elif isinstance(other, int):\n",
        "      return Rational(self.p * other, self.q)\n",
        "    return float(self) * float(other)"
      ],
      "metadata": {
        "id": "csgwCGlb4fsI"
      },
      "execution_count": 51,
      "outputs": []
    },
    {
      "cell_type": "markdown",
      "source": [
        "(g) Add a method to divide two rational numbers. (\\_\\_div\\_\\_)  \n"
      ],
      "metadata": {
        "id": "o2Ax4n1G4hUL"
      }
    },
    {
      "cell_type": "code",
      "source": [
        "class Rational:\n",
        "  def __init__(self, p, q):\n",
        "    if q == 0:\n",
        "        raise ValueError('Division by zero')\n",
        "    self.p = p \n",
        "    self.q = q   \n",
        "  \n",
        "  def __print__(self):\n",
        "    print(self.__repr__())\n",
        "  \n",
        "  def __repr__(self):\n",
        "    return '%d / %d' % (self.p, self.q)\n",
        "  \n",
        "  def __reduce__(self):\n",
        "    g = math.gcd(self.p, self.q)\n",
        "    self.p = self.p // g\n",
        "    self.q = self.q // g\n",
        "  \n",
        "  def __add__(self, other):\n",
        "    if isinstance(other, Rational):\n",
        "      return Rational(self.p * other.q + other.p * self.q, self.q * other.q)\n",
        "    elif isinstance(other, int):\n",
        "      return Rational(self.p + other * self.q, self.q)\n",
        "    return float(self) + float(other)\n",
        "     \n",
        "  def __sub__(self, other):\n",
        "    return self.__add__(-other)\n",
        "  \n",
        "  def __mul__(self, other):\n",
        "    if isinstance(other, Rational):\n",
        "      return Rational(self.p * other.p, self.q * other.q)\n",
        "    elif isinstance(other, int):\n",
        "      return Rational(self.p * other, self.q)\n",
        "    return float(self) * float(other)\n",
        "\n",
        "  #multiplication by reciprocal, check for zero denominator handled by __init__\n",
        "  def __div__(self, other):\n",
        "    if isinstance(other, Rational):\n",
        "      return Rational(self.p * other.q, self.q * other.p)\n",
        "    elif isinstance(other, int):\n",
        "      return Rational(self.p , self.q * other)\n",
        "    if float(other) is not 0.0:\n",
        "      return float(self) / float(other)\n",
        "    else:\n",
        "      raise ValueError(\"Division by zero\")\n",
        "    "
      ],
      "metadata": {
        "id": "cWROArl04hFf"
      },
      "execution_count": 52,
      "outputs": []
    },
    {
      "cell_type": "markdown",
      "source": [
        "(h) Add a method that compares whether two rational numbers are equal.  \n"
      ],
      "metadata": {
        "id": "s4NTckyV4g1J"
      }
    },
    {
      "cell_type": "code",
      "source": [
        "class Rational:\n",
        "  def __init__(self, p, q):\n",
        "    if q == 0:\n",
        "        raise ValueError('Division by zero')\n",
        "    self.p = p \n",
        "    self.q = q   \n",
        "  \n",
        "  def __print__(self):\n",
        "    print(self.__repr__())\n",
        "  \n",
        "  def __repr__(self):\n",
        "    return '%d / %d' % (self.p, self.q)\n",
        "  \n",
        "  def __reduce__(self):\n",
        "    g = math.gcd(self.p, self.q)\n",
        "    self.p = self.p // g\n",
        "    self.q = self.q // g\n",
        "  \n",
        "  def __add__(self, other):\n",
        "    if isinstance(other, Rational):\n",
        "      return Rational(self.p * other.q + other.p * self.q, self.q * other.q)\n",
        "    elif isinstance(other, int):\n",
        "      return Rational(self.p + other * self.q, self.q)\n",
        "    return float(self) + float(other)\n",
        "     \n",
        "  def __sub__(self, other):\n",
        "    return self.__add__(-other)\n",
        "  \n",
        "  def __mul__(self, other):\n",
        "    if isinstance(other, Rational):\n",
        "      return Rational(self.p * other.p, self.q * other.q)\n",
        "    elif isinstance(other, int):\n",
        "      return Rational(self.p * other, self.q)\n",
        "    return float(self) * float(other)\n",
        "\n",
        "  def __div__(self, other):\n",
        "    if isinstance(other, Rational):\n",
        "      return Rational(self.p * other.q, self.q * other.p)\n",
        "    elif isinstance(other, int):\n",
        "      return Rational(self.p , self.q * other)\n",
        "    if float(other) is not 0.0:\n",
        "      return float(self) / float(other)\n",
        "    else:\n",
        "      raise ValueError(\"Division by zero\")\n",
        "  \n",
        "  #check top and bottom, or if other is int type, if other has equivalent value\n",
        "  def __isEqual__(self, other):\n",
        "    if isinstance(other, Rational):\n",
        "      if self.p == other.p and self.q == other.q:\n",
        "        return True\n",
        "      return False\n",
        "    elif isinstance(other, int):\n",
        "      if self.p == self.q * other:\n",
        "        return True\n",
        "      return False  \n",
        "    return False"
      ],
      "metadata": {
        "id": "tazu1i6P4glT"
      },
      "execution_count": 53,
      "outputs": []
    },
    {
      "cell_type": "markdown",
      "source": [
        "(i) Add a method to convert the rational number to a floating point (the \\_\\_float\\_\\_() method may\n",
        "be handy).  \n"
      ],
      "metadata": {
        "id": "SNG9_7QH4gEv"
      }
    },
    {
      "cell_type": "code",
      "source": [
        "class Rational:\n",
        "  def __init__(self, p, q):\n",
        "    if q == 0:\n",
        "        raise ValueError('Division by zero')\n",
        "    self.p = p \n",
        "    self.q = q   \n",
        "  \n",
        "  def __print__(self):\n",
        "    print(self.__repr__())\n",
        "  \n",
        "  def __repr__(self):\n",
        "    return '%d / %d' % (self.p, self.q)\n",
        "  \n",
        "  def __reduce__(self):\n",
        "    g = math.gcd(self.p, self.q)\n",
        "    self.p = self.p // g\n",
        "    self.q = self.q // g\n",
        "  \n",
        "  def __add__(self, other):\n",
        "    if isinstance(other, Rational):\n",
        "      return Rational(self.p * other.q + other.p * self.q, self.q * other.q)\n",
        "    elif isinstance(other, int):\n",
        "      return Rational(self.p + other * self.q, self.q)\n",
        "    return self.__float__() + other.__float__()\n",
        "     \n",
        "  def __sub__(self, other):\n",
        "    return self.__add__(-other)\n",
        "  \n",
        "  def __mul__(self, other):\n",
        "    if isinstance(other, Rational):\n",
        "      return Rational(self.p * other.p, self.q * other.q)\n",
        "    elif isinstance(other, int):\n",
        "      return Rational(self.p * other, self.q)\n",
        "    return float(self) * float(other)\n",
        "\n",
        "  def __div__(self, other):\n",
        "    if isinstance(other, Rational):\n",
        "      return Rational(self.p * other.q, self.q * other.p)\n",
        "    elif isinstance(other, int):\n",
        "      return Rational(self.p , self.q * other)\n",
        "    if float(other) is not 0.0:\n",
        "      return float(self) / float(other)\n",
        "    else:\n",
        "      raise ValueError(\"Division by zero\")\n",
        "  \n",
        "  def __isEqual__(self, other):\n",
        "    if isinstance(other, Rational):\n",
        "      if self.p == other.p and self.q == other.q:\n",
        "        return True\n",
        "      return False\n",
        "    elif isinstance(other, int):\n",
        "      if self.p == self.q * other:\n",
        "        return True\n",
        "      return False  \n",
        "    return False\n",
        "  \n",
        "  #not many different ways to do it\n",
        "  def __toFLoat__(self):\n",
        "    #return self.p.__float__() / self.q.__float__()\n",
        "    return float(self.p) / float(self.q)"
      ],
      "metadata": {
        "id": "htYMv0da2WtX"
      },
      "execution_count": 54,
      "outputs": []
    },
    {
      "cell_type": "markdown",
      "source": [
        "(j) Add any more functionality that you think is useful but I failed to mention."
      ],
      "metadata": {
        "id": "bbB7bwak4sO3"
      }
    },
    {
      "cell_type": "code",
      "source": [
        "import math\n",
        "class Rational:\n",
        "  '''Represents a rational number, p / q, with p and q in Z'''\n",
        "  def __init__(self, p, q):\n",
        "\n",
        "    if q == 0:\n",
        "        raise ValueError('Division by zero')\n",
        "    #make sure top and bottom are integers\n",
        "    if type(p) == int and type(q) == int:\n",
        "      self.p = p \n",
        "      self.q = q   \n",
        "    else:\n",
        "      raise TypeError(\"p and q must be ints\")\n",
        "  \n",
        "  def __print__(self):\n",
        "    print(self.__repr__())\n",
        "  \n",
        "  def __repr__(self):\n",
        "    return '%d / %d' % (self.p, self.q)\n",
        "  \n",
        "  def __reduce__(self):\n",
        "    '''Greatest common divisor'''\n",
        "    g = math.gcd(self.p, self.q)\n",
        "    self.p = self.p // g\n",
        "    self.q = self.q // g\n",
        "  \n",
        "  #return the reciprocal\n",
        "  def __reciprocal__(self):\n",
        "    '''Returns the reciprocal of this rational'''\n",
        "    if self.p is not 0:\n",
        "      return Rational(self.q, self.p)\n",
        "    else:\n",
        "      print(\"Reciprocal of zero is undefined\")\n",
        "  \n",
        "  def __add__(self, other):\n",
        "    if isinstance(other, Rational):\n",
        "      return Rational(self.p * other.q + other.p * self.q, self.q * other.q)\n",
        "    elif isinstance(other, int):\n",
        "      return Rational(self.p + other * self.q, self.q)\n",
        "    return self.__float__() + other.__float__()\n",
        "     \n",
        "  def __sub__(self, other):\n",
        "    return self.__add__(-other)\n",
        "  \n",
        "  def __mul__(self, other):\n",
        "    if isinstance(other, Rational):\n",
        "      return Rational(self.p * other.p, self.q * other.q)\n",
        "    elif isinstance(other, int):\n",
        "      return Rational(self.p * other, self.q)\n",
        "    return float(self) * float(other)\n",
        "\n",
        "  def __div__(self, other):\n",
        "    if isinstance(other, Rational):\n",
        "      return Rational(self.p * other.q, self.q * other.p)\n",
        "    elif isinstance(other, int):\n",
        "      return Rational(self.p , self.q * other)\n",
        "    if float(other) is not 0.0:\n",
        "      return float(self) / float(other)\n",
        "    else:\n",
        "      raise ValueError(\"Division by zero\")\n",
        "  \n",
        "  def __isEqual__(self, other):\n",
        "    '''Compare on basis of value'''\n",
        "    if isinstance(other, Rational):\n",
        "      if self.p == other.p and self.q == other.q:\n",
        "        return True\n",
        "      return False\n",
        "    elif isinstance(other, int):\n",
        "      if self.p == self.q * other:\n",
        "        return True\n",
        "      return False  \n",
        "    return False\n",
        "  \n",
        "  def __toFLoat__(self):\n",
        "    #return self.p.__float__() / self.q.__float__()\n",
        "    return float(self.p) / float(self.q)\n",
        "\n",
        "a = Rational(2,3)\n",
        "a.__print__() \n",
        "print(a.__reciprocal__()) \n",
        "print(a.__reduce__())\n",
        "b = Rational(3,5)\n",
        "print(a.__isEqual__(b))\n"
      ],
      "metadata": {
        "id": "v0lB9Vjz4BG7",
        "colab": {
          "base_uri": "https://localhost:8080/"
        },
        "outputId": "c30ecd07-54bd-4c9f-fa71-7a624d81785c"
      },
      "execution_count": 55,
      "outputs": [
        {
          "output_type": "stream",
          "name": "stdout",
          "text": [
            "2 / 3\n",
            "3 / 2\n",
            "None\n",
            "False\n"
          ]
        }
      ]
    },
    {
      "cell_type": "code",
      "source": [
        ""
      ],
      "metadata": {
        "id": "YT9qOJtF4s7f"
      },
      "execution_count": 55,
      "outputs": []
    },
    {
      "cell_type": "markdown",
      "source": [
        "\n",
        "Exercise 8.2: Rock Paper Scissors  \n",
        "In this problem, we will finish an implementation for Rock-Paper-Scissors. We have written some code\n",
        "to get you started, now it’s up to you to finish the implementation.\n",
        "The code consists of 2 files: game.py and agent.py. The code that implements the actual game is coded\n",
        "in game.py. agent.py defines several agents that can play the game. Download the starter code here\n",
        "using  \n",
        "&nbsp; &nbsp; &nbsp; $ git clone https://github.com/schmit/Rock-paper-scissors-startercode.git (if you have git\n",
        "/ use Cloud9)  \n",
        "or dowload the code directly:  \n",
        "&nbsp; &nbsp; &nbsp; https://github.com/schmit/Rock-paper-scissors-startercode/archive/master.zip  \n",
        "(a) Finish the implementation of game.py by implementing the compare function, updating the scores\n",
        "(where a win is 1 point,   \n",
        "&nbsp; &nbsp; &nbsp; and a tie or loss 0 points), and finally the summary function that gives\n",
        "some information after the game.  \n",
        "  \n"
      ],
      "metadata": {
        "id": "YSPkT8lgqXPC"
      }
    },
    {
      "cell_type": "code",
      "source": [
        "'''\n",
        "if move1 == move2:\n",
        "    return 0\n",
        "  if (move1 == 'r' and move2 == 's') or (move1 == 's' and move2 == 'p') or (move1 == 'p' and move2 == 'r'):\n",
        "    return 1\n",
        "  else:\n",
        "    return -1\n",
        "  counts = {'rock':0,'paper':0,'scissors':0}\n",
        "\n",
        "for x in moves_a1:\n",
        "  if x == 'r':\n",
        "    counts['rock'] += 1\n",
        "  elif x == 'p':\n",
        "    counts['paper'] += 1\n",
        "  else:\n",
        "    counts['scissors'] += 1\n",
        "\n",
        "for x in moves_a2:\n",
        "  if x == 'r':\n",
        "    counts['rock'] += 1\n",
        "  elif x == 'p':\n",
        "    counts['paper'] += 1\n",
        "  else:\n",
        "    counts['scissors'] += 1\n",
        "\n",
        "print ('Most played move: {} count {}'.format(max(counts),max(counts.values())))\n",
        "'''"
      ],
      "metadata": {
        "id": "dUDlVhuW3-hm"
      },
      "execution_count": null,
      "outputs": []
    },
    {
      "cell_type": "markdown",
      "source": [
        "(b) Implement the HumanAgent in agent.py, this agent should query the user for the next move, and\n",
        "ensure that the user gives   \n",
        "&nbsp; &nbsp; &nbsp; valid input."
      ],
      "metadata": {
        "id": "9WVGkAw4e12Y"
      }
    },
    {
      "cell_type": "code",
      "source": [
        "#maybe next time"
      ],
      "metadata": {
        "id": "DGWbo3Tc3-eG"
      },
      "execution_count": null,
      "outputs": []
    },
    {
      "cell_type": "markdown",
      "source": [
        "(c) Implement MyAgent, where you can implement your own strategy, try to beat the InstructorAgent\n",
        "consistently over  \n",
        "&nbsp; &nbsp; &nbsp; 100 rounds.  \n",
        "Hint: have a look at the Hangman code."
      ],
      "metadata": {
        "id": "0Q14Ll7JfBT8"
      }
    },
    {
      "cell_type": "code",
      "source": [
        "#don't have time for this"
      ],
      "metadata": {
        "id": "83oBJL1T3-aZ"
      },
      "execution_count": null,
      "outputs": []
    },
    {
      "cell_type": "markdown",
      "source": [
        "Exercise 8.3: Hangman agent  \n",
        "Implement your own Hangman computer agent (see exercise 2.4) that is much more effective than the\n",
        "Agent that guesses random characters.  \n",
        "Make sure you create a new class rather than overwriting the existing Agent class. You can of course\n",
        "inherit from the Agent class\n",
        "You can update the simulate.py script to test your implementation.\n"
      ],
      "metadata": {
        "id": "9wYOGC0zqSqY"
      }
    },
    {
      "cell_type": "code",
      "source": [
        ""
      ],
      "metadata": {
        "id": "kWX584RU37XD"
      },
      "execution_count": null,
      "outputs": []
    },
    {
      "cell_type": "markdown",
      "source": [
        "Exercise 8.4: Sparse and dense vectors  \n",
        "In exercise 6.5 you implemented functions for sparse and dense vector multiplications using lists and\n",
        "dictionaries. However, this is a bit clumsy to use in practice. Really, we would like to represent sparse\n",
        "and dense vectors as classes, this way we can overload operators such as + ( add ) and get sensible\n",
        "output. For example, using + on two dense vectors implemented as lists would append the second vector\n",
        "to the first, instead of adding the two together.  \n",
        "Implement sparse and dense vectors. Both classes should have the following capabilities:  \n",
        "(a) Print vector  \n"
      ],
      "metadata": {
        "id": "tP8zk0zyqNMg"
      }
    },
    {
      "cell_type": "code",
      "source": [
        "class Sparse:\n",
        "  \n",
        "  def __init__(self,x):\n",
        "    self.x = x\n",
        "\n",
        "  def __print_vector__(self):\n",
        "    for item in self.x.items():\n",
        "      print(item)\n",
        "    print()\n",
        "\n",
        "class Dense:\n",
        "  def __init__(self,x):\n",
        "    self.x = x\n",
        "  \n",
        "  def __print_vector__(self):\n",
        "    for i in range(len(self.x)):\n",
        "      print(self.x[i])\n",
        "    print()\n",
        "\n",
        "s = Sparse({'a':6, 'c': 3})\n",
        "s.__print_vector__()\n",
        "\n",
        "d = Dense([6,3])\n",
        "d.__print_vector__()"
      ],
      "metadata": {
        "id": "YL289VqIfsKz",
        "colab": {
          "base_uri": "https://localhost:8080/"
        },
        "outputId": "b6cf6933-9256-4c61-8f52-8c2f987c9820"
      },
      "execution_count": 93,
      "outputs": [
        {
          "output_type": "stream",
          "name": "stdout",
          "text": [
            "('a', 6)\n",
            "('c', 3)\n",
            "\n",
            "6\n",
            "3\n",
            "\n"
          ]
        }
      ]
    },
    {
      "cell_type": "markdown",
      "source": [
        "(b) Add two vectors (both if other is dense and sparse)  \n"
      ],
      "metadata": {
        "id": "M9cKdOLjfswR"
      }
    },
    {
      "cell_type": "code",
      "source": [
        "class Sparse:\n",
        "  \n",
        "  def __init__(self,x):\n",
        "    self.x = x\n",
        "  \n",
        "  def __add__(self, other):\n",
        "    if isinstance(other, Sparse):\n",
        "      for key in other.x:\n",
        "        if key not in self.x.keys():\n",
        "          self.x[key] = other.x[key]\n",
        "        else:\n",
        "          self.x[key] += other.x[key]\n",
        "    elif isinstance(other, Dense):\n",
        "      s = dict(other)\n",
        "      for key in s.keys():\n",
        "        if key not in self.x.keys():\n",
        "            self.x[key] = s[key]\n",
        "        else:\n",
        "          self.x[key] += s[key]\n",
        "\n",
        "  def __print_vector__(self):\n",
        "    for item in self.x.items():\n",
        "      print(item)\n",
        "    print()\n",
        "\n",
        "class Dense:\n",
        "  \n",
        "  def __init__(self,x):\n",
        "    self.x = x\n",
        "  \n",
        "  def __add__(self, other):\n",
        "    if isinstance(other, Dense):\n",
        "      if len(self.x) >= len(other.x):\n",
        "        for i in range(len(other.x)):\n",
        "          self.x[i] += other.x[i]\n",
        "      else:\n",
        "        tmp = other.x[len(self.x)-1:len(other.x)-1]\n",
        "        for i in range(len(self.x)):\n",
        "          self.x[i] += other.x[i]\n",
        "        self.x.append(tmp)\n",
        "    elif isinstance(other, Sparse):\n",
        "      x = []\n",
        "      for k in Sparse.keys():\n",
        "        x.append(Sparse[k])\n",
        "      d = Dense(x)\n",
        "      self.__add__(d)\n",
        "\n",
        "  def __print_vector__(self):\n",
        "    for i in range(len(self.x)):\n",
        "      print(self.x[i])\n",
        "    print()\n",
        "        \n",
        "s = Sparse({'a':6, 'c': 3})\n",
        "s.__add__(Sparse({'b':4, 'd': 3}))\n",
        "s.__print_vector__()\n",
        "\n",
        "d = Dense([6,3])\n",
        "d.__add__(Dense([1,3]))\n",
        "d.__print_vector__()"
      ],
      "metadata": {
        "id": "eBigNkFHfs_N",
        "colab": {
          "base_uri": "https://localhost:8080/"
        },
        "outputId": "f3e9321f-7e1e-460f-8690-8528bb09d1bf"
      },
      "execution_count": 96,
      "outputs": [
        {
          "output_type": "stream",
          "name": "stdout",
          "text": [
            "('a', 6)\n",
            "('c', 3)\n",
            "('b', 4)\n",
            "('d', 3)\n",
            "\n",
            "7\n",
            "6\n",
            "\n"
          ]
        }
      ]
    },
    {
      "cell_type": "markdown",
      "source": [
        "(c) Multiply two vectors (both if other is dense and sparse)  \n",
        "Do re-use your code from the previous exercise.  \n",
        "Hint: isinstance() might be useful."
      ],
      "metadata": {
        "id": "shElluVMfr5o"
      }
    },
    {
      "cell_type": "code",
      "source": [
        "class Sparse:\n",
        "  \n",
        "  def __init__(self,x):\n",
        "    self.x = x\n",
        "  \n",
        "  def __add__(self, other):\n",
        "    if isinstance(other, Sparse):\n",
        "      for key in other.x:\n",
        "        if key not in self.x.keys():\n",
        "          self.x[key] = other.x[key]\n",
        "        else:\n",
        "          self.x[key] += other.x[key]\n",
        "    elif isinstance(other, Dense):\n",
        "      s = dict(other)\n",
        "      for key in s.keys():\n",
        "        if key not in self.x.keys():\n",
        "            self.x[key] = s[key]\n",
        "        else:\n",
        "          self.x[key] += s[key]\n",
        "\n",
        "  def __multiply__(self,other):\n",
        "    if isinstance(other, Sparse):\n",
        "      for key in other.x:\n",
        "        if key not in self.x.keys():\n",
        "          self.x[key] = other.x[key]\n",
        "        else:\n",
        "          self.x[key] *= other.x[key]\n",
        "    elif isinstance(other, Dense):\n",
        "      s = dict(other)\n",
        "      for key in s.keys():\n",
        "        if key not in self.x.keys():\n",
        "            self.x[key] = s[key]\n",
        "        else:\n",
        "          self.x[key] *= s[key]\n",
        "\n",
        "  \n",
        "  def __print_vector__(self):\n",
        "    for item in self.x.items():\n",
        "      print(item)\n",
        "    print()\n",
        "\n",
        "class Dense:\n",
        "  \n",
        "  def __init__(self,x):\n",
        "    self.x = x\n",
        "  \n",
        "  def __add__(self, other):\n",
        "    if isinstance(other, Dense):\n",
        "      if len(self.x) >= len(other.x):\n",
        "        for i in range(len(other.x)):\n",
        "          self.x[i] += other.x[i]\n",
        "      else:\n",
        "        tmp = other.x[len(self.x)-1:len(other.x)-1]\n",
        "        for i in range(len(self.x)):\n",
        "          self.x[i] += other.x[i]\n",
        "        self.x.append(tmp)\n",
        "    elif isinstance(other, Sparse):\n",
        "      x = []\n",
        "      for k in Sparse.keys():\n",
        "        x.append(Sparse[k])\n",
        "      d = Dense(x)\n",
        "      self.__add__(d)\n",
        "\n",
        "  def __multiply__(self,other):\n",
        "    if isinstance(other, Dense):\n",
        "      if len(self.x) >= len(other.x):\n",
        "        for i in range(len(other.x)):\n",
        "          self.x[i] *= other.x[i]\n",
        "      else:\n",
        "        tmp = other.x[len(self.x)-1:len(other.x)-1]\n",
        "        for i in range(len(self.x)):\n",
        "          self.x[i] *= other.x[i]\n",
        "        self.x.append(tmp)\n",
        "    elif isinstance(other, Sparse):\n",
        "      x = []\n",
        "      for k in Sparse.keys():\n",
        "        x.append(Sparse[k])\n",
        "      d = Dense(x)\n",
        "      self.__multiply__(d)\n",
        "\n",
        "  def __print_vector__(self):\n",
        "    for i in range(len(self.x)):\n",
        "      print(self.x[i])\n",
        "    print()\n",
        "\n",
        "        \n",
        "s = Sparse({'a':6, 'c': 3})\n",
        "s.__multiply__(Sparse({'b':4, 'd': 3}))\n",
        "s.__print_vector__()\n",
        "\n",
        "d = Dense([6,3])\n",
        "d.__multiply__(Dense([1,3]))\n",
        "d.__print_vector__()"
      ],
      "metadata": {
        "id": "5qlNv86C388h",
        "colab": {
          "base_uri": "https://localhost:8080/"
        },
        "outputId": "1549bd32-4352-4829-9137-ee88927ff2cd"
      },
      "execution_count": 99,
      "outputs": [
        {
          "output_type": "stream",
          "name": "stdout",
          "text": [
            "('a', 6)\n",
            "('c', 3)\n",
            "('b', 4)\n",
            "('d', 3)\n",
            "\n",
            "6\n",
            "9\n",
            "\n"
          ]
        }
      ]
    },
    {
      "cell_type": "markdown",
      "source": [
        "Exercise 8.5: Implementing the set class  \n",
        "Write a class mySet that has the same basic functionality as the Python set data structure. Base your\n",
        "implementation on a dictionary."
      ],
      "metadata": {
        "id": "LpquffTiqIo1"
      }
    },
    {
      "cell_type": "code",
      "source": [
        "class mySet:\n",
        "  def __init__(self):\n",
        "    self.pile = {}\n",
        "  def __isDisjoint__(self,other):\n",
        "    for v in other.values():\n",
        "      if v in self.values():\n",
        "        return False\n",
        "    return True\n",
        "  \n",
        "  def __contains__(self,x):\n",
        "    if x in self.values():\n",
        "      return True\n",
        "    else:\n",
        "      return False\n",
        "  \n",
        "  def __union__(self,other):\n",
        "    for v in other.values():\n",
        "      if v not in self.values():\n",
        "        self[other.getkey(v)] = v\n",
        "\n",
        "  def __intersection__(self,other):\n",
        "    ms = mySet()\n",
        "    for v in other.values():\n",
        "      if v in self.values():\n",
        "        ms[other.getkey(v)] = v\n",
        "    return ms\n",
        "\n",
        "  def __difference__(self,other):\n",
        "    ms = mySet()\n",
        "    for v in self.values():\n",
        "      if v not in other.values():\n",
        "        ms[self.getkey(v)] = v\n",
        "    return ms\n",
        "\n",
        "  def __symmetric_difference__(self,other):\n",
        "    ms = mySet()\n",
        "    for v in self.values():\n",
        "      if v not in other.values():\n",
        "        ms[self.getkey(v)] = v\n",
        "    for v in other.values():\n",
        "      if v not in self.values():\n",
        "        ms[other.getkey(v)] = v\n",
        "    return ms\n",
        "  \n",
        "def __isSuperSet__(self,other):\n",
        "  for v in other.values():\n",
        "    if v not in self.values():\n",
        "      return False\n",
        "  return True\n",
        "\n",
        "def __isProperSuperSet__(self,other):\n",
        "  if len(self) > len(other) and self.__isSuperSet__(other):\n",
        "    return True\n",
        "  return False\n",
        "\n",
        "def __isSubSet__(self,other):\n",
        "  for v in self.values():\n",
        "    if v not in other.values():\n",
        "      return False\n",
        "  return True\n",
        "\n",
        "def __isProperSubSet__(self,other):\n",
        "  if len(self) < len(other) and self.__isSubSet__(other):\n",
        "    return True\n",
        "  return False\n",
        "\n",
        "s = mySet()\n",
        "s.pile['k1'] = 3\n",
        "print(s.pile['k1'])"
      ],
      "metadata": {
        "id": "AloAluXE39bR",
        "colab": {
          "base_uri": "https://localhost:8080/"
        },
        "outputId": "72051bd6-5cb2-43ac-9160-2f39bd21784c"
      },
      "execution_count": 101,
      "outputs": [
        {
          "output_type": "stream",
          "name": "stdout",
          "text": [
            "3\n"
          ]
        }
      ]
    },
    {
      "cell_type": "markdown",
      "source": [
        "Exercise 8.6: Binary search tree  \n",
        "In this exercise, we will implement a binary search tree. See http://en.wikipedia.org/wiki/Binary_\n",
        "search_tree for an explanation.  \n",
        "(a) Define a class Node, and write the constructor, which takes one argument, value, and initializes\n",
        "the left and right  \n",
        "&nbsp; &nbsp; &nbsp; children to None.  \n",
        " "
      ],
      "metadata": {
        "id": "DqSQCEfnqFBc"
      }
    },
    {
      "cell_type": "code",
      "source": [
        "class Node:\n",
        "  def __init__(self, value):\n",
        "    self.left = None\n",
        "    self.right = None\n",
        "    self.value = value\n",
        "\n",
        "n = Node(4)\n",
        "print(n.value, n.left)"
      ],
      "metadata": {
        "id": "j3brfwrn54lI",
        "colab": {
          "base_uri": "https://localhost:8080/"
        },
        "outputId": "a3cc2f02-7698-41cf-8b25-7ec98c2de82f"
      },
      "execution_count": 72,
      "outputs": [
        {
          "output_type": "stream",
          "name": "stdout",
          "text": [
            "4 None\n"
          ]
        }
      ]
    },
    {
      "cell_type": "markdown",
      "source": [
        "(b) Write a function to print the tree.  \n"
      ],
      "metadata": {
        "id": "81Fse4HDfYMl"
      }
    },
    {
      "cell_type": "code",
      "source": [
        "class Node:\n",
        "  def __init__(self, value):\n",
        "    self.left = None\n",
        "    self.right = None\n",
        "    self.value = value\n",
        "  \n",
        "  def __print__(self):\n",
        "    if self.left is not None:\n",
        "      self.left.__print__()\n",
        "    if self.right is not None:\n",
        "      self.right.__print__()\n",
        "    print(\"dunder print - \",self.value)\n",
        "#don't forget to create a new instance everytime the class is defined (new instance in each cell)\n",
        "n = Node(9)  \n",
        "n.__print__()"
      ],
      "metadata": {
        "id": "0q3Ag7gF54Ro",
        "colab": {
          "base_uri": "https://localhost:8080/"
        },
        "outputId": "658a38db-aa5c-4c42-bcf3-61f5873e10c0"
      },
      "execution_count": 81,
      "outputs": [
        {
          "output_type": "stream",
          "name": "stdout",
          "text": [
            "dunder print -  9\n"
          ]
        }
      ]
    },
    {
      "cell_type": "markdown",
      "source": [
        "(c) Write a function that inserts a new value in the tree at the right location.  \n"
      ],
      "metadata": {
        "id": "r3lTH5rSfYFA"
      }
    },
    {
      "cell_type": "code",
      "source": [
        "class Node:\n",
        "  def __init__(self, value):\n",
        "    self.left = None\n",
        "    self.right = None\n",
        "    self.value = value\n",
        "  \n",
        "  def __print__(self):\n",
        "    if self.left is not None:\n",
        "      self.left.__print__()\n",
        "    if self.right is not None:\n",
        "      self.right.__print__()\n",
        "    print(self.value)\n",
        "\n",
        "  def __insert__(self, x):\n",
        "    if x < self.value:\n",
        "      if self.left is not None:\n",
        "        self.left.__insert__(x)\n",
        "      else:\n",
        "        self.left = Node(x)\n",
        "    elif x > self.value:\n",
        "      if self.right is not None:\n",
        "        self.right.__insert__(x)\n",
        "      else:\n",
        "        self.right = Node(x)\n",
        "#RecursionError: maximum recursion depth exceeded in comparison\n",
        "n = Node(5)\n",
        "n.__insert__(4)\n",
        "n.__insert__(6)\n",
        "n.__insert__(2)\n",
        "n.__print__()"
      ],
      "metadata": {
        "id": "Oa-rkcQu54Nb",
        "colab": {
          "base_uri": "https://localhost:8080/"
        },
        "outputId": "f470f02e-7574-422e-97ed-a57f00d9a0a5"
      },
      "execution_count": 85,
      "outputs": [
        {
          "output_type": "stream",
          "name": "stdout",
          "text": [
            "2\n",
            "4\n",
            "6\n",
            "5\n"
          ]
        }
      ]
    },
    {
      "cell_type": "markdown",
      "source": [
        "(d) Write a function that looks up a value in the tree.  \n"
      ],
      "metadata": {
        "id": "PwykMBFXfXnu"
      }
    },
    {
      "cell_type": "code",
      "source": [
        "class Node:\n",
        "  def __init__(self, value):\n",
        "    self.left = None\n",
        "    self.right = None\n",
        "    self.value = value\n",
        "  \n",
        "  def __print__(self):\n",
        "    if self.left is not None:\n",
        "      self.left.__print__()\n",
        "    if self.right is not None:\n",
        "      self.right.__print__()\n",
        "    print(self.value)\n",
        "\n",
        "  def __insert__(self, x):\n",
        "    if x < self.value:\n",
        "      if self.left is not None:\n",
        "        self.left.__insert__(x)\n",
        "      else:\n",
        "        self.left = Node(x)\n",
        "    elif x > self.value:\n",
        "      if self.right is not None:\n",
        "        self.right.__insert__(x)\n",
        "      else:\n",
        "        self.right = Node(x)\n",
        "\n",
        "  def __bsearch__(self,x):\n",
        "    if x < self.value:\n",
        "      if self.left is not None:\n",
        "        self.left.__bsearch__(x)\n",
        "      else:\n",
        "        print(\"Not found\")\n",
        "    elif x > self.value:\n",
        "      if self.right is not None:\n",
        "        self.right.__bsearch__(x)\n",
        "      else:\n",
        "        print(\"Not found\")\n",
        "    else:\n",
        "      print(\"{} found in tree\".format(self.value))\n",
        "\n",
        "n = Node(7)\n",
        "n.__insert__(4)\n",
        "n.__insert__(6)\n",
        "n.__insert__(2)\n",
        "n.__insert__(1)\n",
        "n.__insert__(5)\n",
        "n.__insert__(3)\n",
        "n.__bsearch__(5)\n",
        "n.__print__()"
      ],
      "metadata": {
        "id": "5XcFOc9j54GV",
        "colab": {
          "base_uri": "https://localhost:8080/"
        },
        "outputId": "03833b13-07a7-428f-9fff-da4166128a32"
      },
      "execution_count": 87,
      "outputs": [
        {
          "output_type": "stream",
          "name": "stdout",
          "text": [
            "5 found in tree\n",
            "1\n",
            "3\n",
            "2\n",
            "5\n",
            "6\n",
            "4\n",
            "7\n"
          ]
        }
      ]
    },
    {
      "cell_type": "markdown",
      "source": [
        "(e) Write a function that removes a value from the tree. "
      ],
      "metadata": {
        "id": "t4NwG4YKfkOO"
      }
    },
    {
      "cell_type": "code",
      "source": [
        "class Node:\n",
        "  def __init__(self, value):\n",
        "    self.left = None\n",
        "    self.right = None\n",
        "    self.value = value\n",
        "  \n",
        "  def __print__(self):\n",
        "    if self.left is not None:\n",
        "      self.left.__print__()\n",
        "    if self.right is not None:\n",
        "      self.right.__print__()\n",
        "    print(self.value)\n",
        "\n",
        "  def __insert__(self, x):\n",
        "    if x < self.value:\n",
        "      if self.left is not None:\n",
        "        self.left.__insert__(x)\n",
        "      else:\n",
        "        self.left = Node(x)\n",
        "    elif x > self.value:\n",
        "      if self.right is not None:\n",
        "        self.right.__insert__(x)\n",
        "      else:\n",
        "        self.right = Node(x)\n",
        "\n",
        "  def __bsearch__(self,x):\n",
        "    if x < self.value:\n",
        "      if self.left is not None:\n",
        "        self.left.__bsearch__(x)\n",
        "      else:\n",
        "        print(\"Not found\")\n",
        "    elif x > self.value:\n",
        "      if self.right is not None:\n",
        "        self.right.__bsearch__(x)\n",
        "      else:\n",
        "        print(\"Not found\")\n",
        "    else:\n",
        "      print(\"{} found in tree\".format(self.value))\n",
        "\n",
        "  def __delete__(self,x):\n",
        "    if x < self.value:\n",
        "      if self.left is not None:\n",
        "        self.left.__delete__(x)\n",
        "      else:\n",
        "        print(\"Not found\")\n",
        "    elif x > self.value:\n",
        "      if self.right is not None:\n",
        "        self.right.__delete__(x)\n",
        "      else:\n",
        "        print(\"Not found\")\n",
        "    else:\n",
        "      if self.right is not None:\n",
        "        self.value = self.right.value\n",
        "        self.right = None\n",
        "      elif self.left is not None:\n",
        "        self.value = self.left.value\n",
        "        self.left = None\n",
        "      else:\n",
        "        print(\"Deleting self\")\n",
        "        self = None\n",
        "      print(\"deleted {} from tree\".format(x))\n",
        "\n",
        "n = Node(7)\n",
        "n.__insert__(4)\n",
        "n.__insert__(6)\n",
        "n.__insert__(2)\n",
        "n.__insert__(1)\n",
        "n.__insert__(5)\n",
        "n.__insert__(3)\n",
        "n.__delete__(4)\n",
        "n.__print__()"
      ],
      "metadata": {
        "id": "wruwN7-g5lal",
        "colab": {
          "base_uri": "https://localhost:8080/"
        },
        "outputId": "6d2785b4-ca34-4e77-8af0-e3ef349c2ded"
      },
      "execution_count": 102,
      "outputs": [
        {
          "output_type": "stream",
          "name": "stdout",
          "text": [
            "deleted 4 from tree\n",
            "1\n",
            "3\n",
            "2\n",
            "6\n",
            "7\n"
          ]
        }
      ]
    }
  ]
}