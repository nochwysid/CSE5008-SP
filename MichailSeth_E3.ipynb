{
  "nbformat": 4,
  "nbformat_minor": 0,
  "metadata": {
    "colab": {
      "name": "MichailSeth_E3.ipynb",
      "provenance": [],
      "mount_file_id": "16tzEXoVCHEuCLPekcydIlP_jyVhQGDBU",
      "authorship_tag": "ABX9TyPTEToOF1av7T4ssK80ktLI",
      "include_colab_link": true
    },
    "kernelspec": {
      "name": "python3",
      "display_name": "Python 3"
    },
    "language_info": {
      "name": "python"
    }
  },
  "cells": [
    {
      "cell_type": "markdown",
      "metadata": {
        "id": "view-in-github",
        "colab_type": "text"
      },
      "source": [
        "<a href=\"https://colab.research.google.com/github/nochwysid/CSE5008-SP/blob/main/MichailSeth_E3.ipynb\" target=\"_parent\"><img src=\"https://colab.research.google.com/assets/colab-badge.svg\" alt=\"Open In Colab\"/></a>"
      ]
    },
    {
      "cell_type": "markdown",
      "source": [
        "7 File I/O  \n",
        "\n",
        "Exercise 7.1: Open a file  \n",
        "Write a function that opens a file (input: filename), and prints the file line by line.\n",
        "\n",
        "\n",
        "\n",
        "\n",
        "\n",
        "\n",
        "\n",
        "\n",
        "\n",
        "\n",
        "\n",
        "\n",
        "\n",
        "\n",
        "\n",
        "\n",
        "\n",
        "\n"
      ],
      "metadata": {
        "id": "MtpPa1rEpJl9"
      }
    },
    {
      "cell_type": "code",
      "source": [
        "#the basic way, using with manages closing stream, can sometimes lead to carelessness\n",
        "import io\n",
        "with open(\"/content/sample_data/README.md\",'r+') as file_to_rw:\n",
        "  readme = file_to_rw.read()\n",
        "print(readme)"
      ],
      "metadata": {
        "id": "NFFb-nBRrKCe",
        "colab": {
          "base_uri": "https://localhost:8080/"
        },
        "outputId": "ec4c81ca-1ff0-4edb-87b3-425a26db2104"
      },
      "execution_count": 1,
      "outputs": [
        {
          "output_type": "stream",
          "name": "stdout",
          "text": [
            "This directory includes a few sample datasets to get you started.\n",
            "\n",
            "*   `california_housing_data*.csv` is California housing data from the 1990 US\n",
            "    Census; more information is available at:\n",
            "    https://developers.google.com/machine-learning/crash-course/california-housing-data-description\n",
            "\n",
            "*   `mnist_*.csv` is a small sample of the\n",
            "    [MNIST database](https://en.wikipedia.org/wiki/MNIST_database), which is\n",
            "    described at: http://yann.lecun.com/exdb/mnist/\n",
            "\n",
            "*   `anscombe.json` contains a copy of\n",
            "    [Anscombe's quartet](https://en.wikipedia.org/wiki/Anscombe%27s_quartet); it\n",
            "    was originally described in\n",
            "\n",
            "    Anscombe, F. J. (1973). 'Graphs in Statistical Analysis'. American\n",
            "    Statistician. 27 (1): 17-21. JSTOR 2682899.\n",
            "\n",
            "    and our copy was prepared by the\n",
            "    [vega_datasets library](https://github.com/altair-viz/vega_datasets/blob/4f67bdaad10f45e3549984e17e1b3088c731503d/vega_datasets/_data/anscombe.json).\n",
            "\n"
          ]
        }
      ]
    },
    {
      "cell_type": "code",
      "source": [
        "#alternative approach, requires manually closing the stream\n",
        "file_to_rw = open(\"/content/sample_data/README.md\",'r+')\n",
        "readme = file_to_rw.read()\n",
        "file_to_rw.close()\n",
        "print(readme)"
      ],
      "metadata": {
        "colab": {
          "base_uri": "https://localhost:8080/"
        },
        "id": "uiCFtcfGGWFp",
        "outputId": "7fb13e4a-c429-49bf-dd45-901b62bc4fbe"
      },
      "execution_count": 2,
      "outputs": [
        {
          "output_type": "stream",
          "name": "stdout",
          "text": [
            "This directory includes a few sample datasets to get you started.\n",
            "\n",
            "*   `california_housing_data*.csv` is California housing data from the 1990 US\n",
            "    Census; more information is available at:\n",
            "    https://developers.google.com/machine-learning/crash-course/california-housing-data-description\n",
            "\n",
            "*   `mnist_*.csv` is a small sample of the\n",
            "    [MNIST database](https://en.wikipedia.org/wiki/MNIST_database), which is\n",
            "    described at: http://yann.lecun.com/exdb/mnist/\n",
            "\n",
            "*   `anscombe.json` contains a copy of\n",
            "    [Anscombe's quartet](https://en.wikipedia.org/wiki/Anscombe%27s_quartet); it\n",
            "    was originally described in\n",
            "\n",
            "    Anscombe, F. J. (1973). 'Graphs in Statistical Analysis'. American\n",
            "    Statistician. 27 (1): 17-21. JSTOR 2682899.\n",
            "\n",
            "    and our copy was prepared by the\n",
            "    [vega_datasets library](https://github.com/altair-viz/vega_datasets/blob/4f67bdaad10f45e3549984e17e1b3088c731503d/vega_datasets/_data/anscombe.json).\n",
            "\n"
          ]
        }
      ]
    },
    {
      "cell_type": "code",
      "source": [
        "#in colab, yet another approach\n",
        "!cat /content/sample_data/README.md"
      ],
      "metadata": {
        "colab": {
          "base_uri": "https://localhost:8080/"
        },
        "id": "LlszkvNAFsIJ",
        "outputId": "5c467fbc-e25c-4ea9-eee6-03cadafe5dcf"
      },
      "execution_count": 3,
      "outputs": [
        {
          "output_type": "stream",
          "name": "stdout",
          "text": [
            "This directory includes a few sample datasets to get you started.\n",
            "\n",
            "*   `california_housing_data*.csv` is California housing data from the 1990 US\n",
            "    Census; more information is available at:\n",
            "    https://developers.google.com/machine-learning/crash-course/california-housing-data-description\n",
            "\n",
            "*   `mnist_*.csv` is a small sample of the\n",
            "    [MNIST database](https://en.wikipedia.org/wiki/MNIST_database), which is\n",
            "    described at: http://yann.lecun.com/exdb/mnist/\n",
            "\n",
            "*   `anscombe.json` contains a copy of\n",
            "    [Anscombe's quartet](https://en.wikipedia.org/wiki/Anscombe%27s_quartet); it\n",
            "    was originally described in\n",
            "\n",
            "    Anscombe, F. J. (1973). 'Graphs in Statistical Analysis'. American\n",
            "    Statistician. 27 (1): 17-21. JSTOR 2682899.\n",
            "\n",
            "    and our copy was prepared by the\n",
            "    [vega_datasets library](https://github.com/altair-viz/vega_datasets/blob/4f67bdaad10f45e3549984e17e1b3088c731503d/vega_datasets/_data/anscombe.json).\n"
          ]
        }
      ]
    },
    {
      "cell_type": "markdown",
      "source": [
        "Exercise 7.2: Wordcount  \n",
        "On the course website you can find a text file containing the complete works of William Shapespeare.  \n",
        "(a) Find the 20 most common words  \n"
      ],
      "metadata": {
        "id": "bzSu0x4WrASs"
      }
    },
    {
      "cell_type": "code",
      "source": [
        "#most common words is affected by the presences of the license\n",
        "!cp /content/drive/MyDrive/shakespeare.txt /content/shakespeare.txt\n",
        "f2r = open('/content/shakespeare.txt', 'r')\n",
        "reader = f2r.readlines()\n",
        "words = {}\n",
        "for line in reader:\n",
        "  splitline = line.split(\" \")\n",
        "  for word in splitline:\n",
        "    word = word.replace(',','').replace('.','').replace('!','').replace('\\'','').replace('\\\"','').replace(')','')\n",
        "    word = word.replace('-','').replace('\\n','').replace(':','').replace('[','').replace(']','').replace('(','')\n",
        "    word = word.replace(';','').replace('?','').replace('/','').replace('@','').replace('#','').replace('<','')\n",
        "    word = word.replace('>','').replace('*','').replace('0','').replace('1','').replace('2','').replace('3','')\n",
        "    word = word.replace('4','').replace('5','').replace('6','').replace('7','').replace('8','').replace('9','')\n",
        "    if word in words.keys():\n",
        "      words[word] += 1\n",
        "    else: \n",
        "      words[word] = 1\n",
        "words.pop('')\n",
        "tuplelist = list(words.items())\n",
        "tuplelist = sorted(tuplelist, key=lambda d: d[1],reverse=True)\n",
        "for i in range(20):\n",
        "  print(tuplelist[i])\n",
        "\n"
      ],
      "metadata": {
        "id": "NY-A6IQCrPr5",
        "colab": {
          "base_uri": "https://localhost:8080/"
        },
        "outputId": "76e3f1a6-0474-43a8-cbaf-dd82ff2defd1"
      },
      "execution_count": 4,
      "outputs": [
        {
          "output_type": "stream",
          "name": "stdout",
          "text": [
            "('the', 23437)\n",
            "('I', 20371)\n",
            "('and', 18661)\n",
            "('to', 15898)\n",
            "('of', 15812)\n",
            "('a', 12721)\n",
            "('you', 12089)\n",
            "('my', 10832)\n",
            "('in', 9919)\n",
            "('is', 8321)\n",
            "('that', 8078)\n",
            "('not', 8042)\n",
            "('me', 7743)\n",
            "('And', 7455)\n",
            "('with', 6831)\n",
            "('it', 6738)\n",
            "('be', 6396)\n",
            "('his', 6320)\n",
            "('your', 6017)\n",
            "('for', 5803)\n"
          ]
        }
      ]
    },
    {
      "cell_type": "markdown",
      "source": [
        "(b) How many unique words are used?  \n"
      ],
      "metadata": {
        "id": "pk89W_IetRGB"
      }
    },
    {
      "cell_type": "code",
      "source": [
        "#number of total and unique words also affected by the presences of the license\n",
        "wordscopy = words.copy()\n",
        "poplist = []\n",
        "for key in wordscopy.keys():\n",
        "  if wordscopy[key] > 1:\n",
        "    poplist.append(key)\n",
        "for key in poplist:\n",
        "  wordscopy.pop(key)\n",
        "print(wordscopy)\n",
        "print(\"Total words:{}, Unique words:{}\".format(len(words),len(wordscopy)))\n"
      ],
      "metadata": {
        "id": "gXa3AGF_rPex",
        "colab": {
          "base_uri": "https://localhost:8080/"
        },
        "outputId": "a8614abd-44e4-44f2-b8af-1d1e4dc6f2d3"
      },
      "execution_count": 5,
      "outputs": [
        {
          "output_type": "stream",
          "name": "stdout",
          "text": [
            "{'\\ufeffThe': 1, 'COPYRIGHTED': 1, 'Details': 1, 'guidelines': 1, 'Title': 1, 'Author': 1, 'Posting': 1, 'September': 1, 'cooperation': 1, 'CDROMS': 1, 'releases': 1, 'Etexts': 1, 'implications': 1, 'cooperate': 1, 'HOWEVER': 1, 'NEITHER': 1, 'SHAREWARE': 1, 'NOR': 1, 'PUBLIC': 1, 'DOMAIN': 1, 'FUTURE': 1, 'CONDITIONS': 1, 'PRESENTATION': 1, 'ACCESS': 1, 'MATERIAL': 1, 'AWAY': 1, 'ANYONE': 1, 'ALLOWED': 1, 'materials': 1, 'Projects': 1, 'resulting': 1, 'EITHER': 1, 'tilde': 1, '~': 1, 'asterisk': 1, 'underline': 1, '_': 1, 'punctuation': 1, 'convertible': 1, 'EBCDIC': 1, 'equivalent': 1, 'program': 1, 'displays': 1, 'processors': 1, 'receiv': 1, 'ing': 1, 'explanatory': 1, 'OTHERWISE': 1, 'MEDIUM': 1, 'ON': 1, 'MERCHANTABILITY': 1, 'PARTICULAR': 1, 'consequen': 1, 'tial': 1, 'exclusions': 1, 'directors': 1, 'lia': 1, 'bility': 1, 'WANT': 1, 'MONEY': 1, 'DONT': 1, 'scanning': 1, 'machines': 1, 'OCR': 1, 'licenses': 1, 'ject': 1, 'Association': 1, 'Illinois': 1, 'Benedictine': 1, 'College': 1, 'Kramer': 1, 'Attorney': 1, 'Internet': 1, 'compuservecom': 1, 'TEL': 1, '__': 1, 'SONNETS': 1, 'Feedst': 1, 'selfsubstantial': 1, 'buriest': 1, 'niggarding': 1, 'gazed': 1, 'alleating': 1, 'Proving': 1, 'feelst': 1, 'renewest': 1, 'unbless': 1, 'uneared': 1, 'Disdains': 1, 'tillage': 1, 'Unthrifty': 1, 'bequest': 1, 'Profitless': 1, 'acceptable': 1, 'tombed': 1, 'unfair': 1, 'neverresting': 1, 'Sap': 1, 'oersnowed': 1, 'Leese': 1, 'selfkilled': 1, 'happies': 1, 'refigured': 1, 'selfwilled': 1, 'climbed': 1, 'steepup': 1, 'reeleth': 1, 'outgoing': 1, 'welltuned': 1, 'unions': 1, 'consumst': 1, 'makeless': 1, 'Shifts': 1, 'unprovident': 1, 'kindhearted': 1, 'departest': 1, 'bestowst': 1, 'convertest': 1, 'Harsh': 1, 'featureless': 1, 'barrenly': 1, 'silvered': 1, 'sheaves': 1, 'bristly': 1, 'astronomy': 1, 'dearths': 1, 'predict': 1, 'prognosticate': 1, 'Cheered': 1, 'Vaunt': 1, 'debateth': 1, 'engraft': 1, 'unset': 1, 'yellowed': 1, 'stretched': 1, 'dimmed': 1, 'wandrest': 1, 'longlived': 1, 'fleetst': 1, 'swiftfooted': 1, 'gazeth': 1, 'hues': 1, 'amazeth': 1, 'adoting': 1, 'pricked': 1, 'Stirred': 1, 'rondure': 1, 'furrows': 1, 'chary': 1, 'faring': 1, 'unperfect': 1, 'Oercharged': 1, 'presagers': 1, 'stelled': 1, 'painters': 1, 'pictured': 1, 'wherethrough': 1, 'Delights': 1, 'famoused': 1, 'foiled': 1, 'toiled': 1, 'respose': 1, 'expired': 1, 'debarred': 1, 'swartcomplexioned': 1, 'twire': 1, 'gildst': 1, 'Featured': 1, 'despising': 1, 'arising': 1, 'cancelled': 1, 'forebemoaned': 1, 'wellcontented': 1, 'bettring': 1, 'outstripped': 1, 'Exceeded': 1, 'Suns': 1, 'staineth': 1, 'stormbeaten': 1, 'heals': 1, 'Authorizing': 1, 'salving': 1, 'Excusing': 1, 'undivided': 1, 'separable': 1, 'bewailed': 1, 'Entitled': 1, 'engrafted': 1, 'sufficed': 1, 'pourst': 1, 'Eternal': 1, 'deceivest': 1, 'refusest': 1, 'prevailed': 1, 'Loving': 1, 'Suffring': 1, 'presentabsent': 1, 'Sinks': 1, 'recured': 1, 'impanelled': 1, 'famished': 1, 'locked': 1, 'Called': 1, 'uprear': 1, 'Plods': 1, 'perfectst': 1, 'wilfulslow': 1, 'uplocked': 1, 'specialblest': 1, 'Describe': 1, 'blooms': 1, 'tincture': 1, 'wantonly': 1, 'discloses': 1, 'unwooed': 1, 'distills': 1, 'besmeared': 1, 'overturn': 1, 'alloblivious': 1, 'blunter': 1, 'allayed': 1, 'sharpened': 1, 'privilage': 1, 'selfdoing': 1, 'pebbled': 1, 'forwards': 1, 'Nativity': 1, 'Crawls': 1, 'Crooked': 1, 'transfix': 1, 'delves': 1, 'sendst': 1, 'beated': 1, 'tanned': 1, 'Self': 1, 'selfloving': 1, 'crushed': 1, 'travelled': 1, 'vanishing': 1, 'defaced': 1, 'richproud': 1, 'downrased': 1, 'Increasing': 1, 'Ruin': 1, 'wrackful': 1, 'battring': 1, 'trimmed': 1, 'doctorlike': 1, 'miscalled': 1, 'Beggared': 1, 'Robbing': 1, 'yore': 1, 'matcheth': 1, 'presentst': 1, 'enlarged': 1, 'recite': 1, 'Bare': 1, 'choirs': 1, 'sang': 1, 'twilight': 1, 'fadeth': 1, 'Consumed': 1, 'perceivst': 1, 'reviewest': 1, 'sweetseasoned': 1, 'enjoyer': 1, 'counting': 1, 'Possessing': 1, 'gluttoning': 1, 'dressing': 1, 'imprint': 1, 'nursed': 1, 'invoked': 1, 'learneds': 1, 'entombed': 1, 'breathers': 1, 'timebettering': 1, 'truetelling': 1, 'counterpart': 1, 'polished': 1, 'inhearse': 1, 'astonished': 1, 'possessing': 1, 'releasing': 1, 'doublevantage': 1, 'wronk': 1, 'afterloss': 1, 'Compared': 1, 'wretchcd': 1, 'blessedfair': 1, 'supposing': 1, 'Unmoved': 1, 'Tibey': 1, 'stewards': 1, 'outbraves': 1, 'Lilies': 1, 'enclose': 1, 'Naming': 1, 'illused': 1, 'freezings': 1, 'Decembers': 1, 'proudpied': 1, 'leaped': 1, 'lilys': 1, 'vermilion': 1, 'annexed': 1, 'Spendst': 1, 'Darkening': 1, 'graven': 1, 'preventst': 1, 'intermixed': 1, 'merchandized': 1, 'esteeming': 1, 'burthens': 1, 'overgoes': 1, 'Dulling': 1, 'eyed': 1, 'Junes': 1, 'unbred': 1, 'descriptions': 1, 'prefiguring': 1, 'Supposed': 1, 'augurs': 1, 'Incertainties': 1, 'insults': 1, 'figured': 1, 'Weighs': 1, 'ranged': 1, 'exchanged': 1, 'Gored': 1, 'Askance': 1, 'blenches': 1, 'essays': 1, 'dyers': 1, 'Potions': 1, 'eisel': 1, 'oergreen': 1, 'gentlest': 1, 'deformedst': 1, 'greeing': 1, 'millioned': 1, 'Tan': 1, 'incertainty': 1, 'Crowning': 1, 'remover': 1, 'sickles': 1, 'dearpurchased': 1, 'wilfulness': 1, 'neercloying': 1, 'sauces': 1, 'meetness': 1, 'needing': 1, 'anticipate': 1, 'Drugs': 1, 'feil': 1, 'Siren': 1, 'Distilled': 1, 'limbecks': 1, 'hammered': 1, 'tendered': 1, 'frailer': 1, 'bevel': 1, 'charactered': 1, 'subsist': 1, 'missed': 1, 'tallies': 1, 'novel': 1, 'foist': 1, 'registers': 1, 'thralled': 1, 'shortnumbered': 1, 'honouring': 1, 'ruining': 1, 'dwellers': 1, 'forgoing': 1, 'thrivers': 1, 'oblation': 1, 'mixed': 1, 'informer': 1, 'impeached': 1, 'onwards': 1, 'delayed': 1, 'Fairing': 1, 'swayst': 1, 'chips': 1, 'Savage': 1, 'Enjoyed': 1, 'Coral': 1, 'damasked': 1, 'reeks': 1, 'crossed': 1, 'mortgaged': 1, 'suretylike': 1, 'addeth': 1, 'beseechers': 1, 'reckoned': 1, 'untold': 1, 'overpartial': 1, 'anchored': 1, 'erred': 1, 'transferred': 1, 'untutored': 1, 'Unlearned': 1, 'falsespeaking': 1, 'suppressed': 1, 'oerpressed': 1, 'pitywanting': 1, 'illwresting': 1, 'Dissuade': 1, 'unswayed': 1, 'reproving': 1, 'Robbed': 1, 'selfexample': 1, 'prizing': 1, 'Tempteth': 1, 'Breathed': 1, 'languished': 1, 'Chiding': 1, 'nurseth': 1, 'Feeding': 1, 'Angry': 1, 'franticmad': 1, 'correspondence': 1, 'wellseeing': 1, 'alltyrant': 1, 'frownst': 1, 'lourst': 1, 'warrantise': 1, 'Triumph': 1, 'bedvow': 1, 'Oaths': 1, 'enlighten': 1, 'lovekindling': 1, 'valleyfountain': 1, 'seeting': 1, 'hied': 1, 'Lovegod': 1, 'heartinflaming': 1, 'disarmed': 1, 'Growing': 1, 'discased': 1, 'ALLS': 1, 'ENDS': 1, 'LAVACHE': 1, 'persecuted': 1, 'tiswhose': 1, 'admiringly': 1, 'mourningly': 1, 'fistula': 1, 'overlooking': 1, 'pitythey': 1, 'achieves': 1, 'Moderate': 1, 'excessive': 1, 'Bertrams': 1, 'tableheart': 1, 'idolatrous': 1, 'underminers': 1, 'blowersup': 1, 'quicklier': 1, 'Loss': 1, 'offendress': 1, 'mites': 1, 'consumes': 1, 'paring': 1, 'pears': 1, 'drily': 1, 'traitress': 1, 'adoptious': 1, 'christendoms': 1, 'learningplace': 1, 'proposes': 1, 'acutely': 1, 'naturalize': 1, 'diseasemy': 1, 'Senoys': 1, 'credible': 1, 'Prejudicates': 1, 'Approvd': 1, 'soundness': 1, 'Discipled': 1, 'haggish': 1, 'repairs': 1, 'Exception': 1, 'outLet': 1, 'constancies': 1, 'labourers': 1, 'armthe': 1, 'applications': 1, 'Debate': 1, 'heritage': 1, 'bames': 1, 'madamin': 1, 'cherisher': 1, 'cherishes': 1, 'Charbon': 1, 'Poysam': 1, 'papist': 1, 'sacked': 1, 'purifying': 1, 'tithewoman': 1, 'surplice': 1, 'owing': 1, 'Stall': 1, 'enwombed': 1, 'Adoption': 1, 'manycolourd': 1, 'mystry': 1, 'clew': 1, 'appeachd': 1, 'sos': 1, 'captious': 1, 'intenible': 1, 'Indianlike': 1, 'worshipper': 1, 'implies': 1, 'riddlelike': 1, 'intentspeak': 1, 'heedfullst': 1, 'languishings': 1, 'luckiest': 1, 'welllost': 1, 'principles': 1, 'wellentred': 1, 'monarchysee': 1, 'questant': 1, 'forehorse': 1, 'Creaking': 1, 'Spinii': 1, 'emblem': 1, 'entrenchd': 1, 'expressive': 1, 'swordmen': 1, 'araise': 1, 'loveline': 1, 'receipts': 1, 'inaidable': 1, 'estateI': 1, 'prostitute': 1, 'pastcure': 1, 'empirics': 1, 'entreating': 1, 'thoughtst': 1, 'finisher': 1, 'Inspired': 1, 'Hopst': 1, 'lending': 1, 'torcher': 1, 'diurnal': 1, 'murk': 1, 'occidental': 1, 'Hesperus': 1, 'Tax': 1, 'Seard': 1, 'worstextended': 1, 'Skill': 1, 'practiser': 1, 'Exempted': 1, 'Unquestiond': 1, 'buttocksthe': 1, 'quatch': 1, 'taffety': 1, 'Tibs': 1, 'pancake': 1, 'Shrove': 1, 'sirTheres': 1, 'sirThick': 1, 'sirNay': 1, 'sirSpare': 1, 'sirWhy': 1, 'theret': 1, 'philosophical': 1, 'causeless': 1, 'ensconcing': 1, 'relinquishd': 1, 'artists': 1, 'sayboth': 1, 'Paracelsus': 1, 'novelty': 1, 'whatdoyecallt': 1, 'Reading': 1, 'Heavenly': 1, 'Earthly': 1, 'Actor': 1, 'facinerious': 1, 'transcendence': 1, 'recovry': 1, 'Generally': 1, 'Lustig': 1, 'vinaigre': 1, 'Curtal': 1, 'wealthiest': 1, 'amesace': 1, 'threatningly': 1, 'winebut': 1, 'disdainst': 1, 'virtuoussave': 1, 'daughterthou': 1, 'dropsied': 1, 'Vileness': 1, 'challenges': 1, 'foregoers': 1, 'Debauchd': 1, 'shackle': 1, 'poising': 1, 'Check': 1, 'travails': 1, 'Loosing': 1, 'ennobled': 1, 'nowborn': 1, 'recantation': 1, 'Recantation': 1, 'ordinaries': 1, 'bannerets': 1, 'manifoldly': 1, 'ifLord': 1, 'fettering': 1, 'Methinkst': 1, 'personages': 1, 'doghole': 1, 'hugs': 1, 'kickywicky': 1, 'curvet': 1, 'capriccio': 1, 'curbed': 1, 'casketed': 1, 'threethirds': 1, 'custard': 1, 'kernal': 1, 'ministration': 1, 'Prepard': 1, 'TROOP': 1, 'thirsts': 1, 'selfunable': 1, 'thitherward': 1, 'engrossest': 1, 'robbst': 1, 'corrupts': 1, 'wellderived': 1, 'Written': 1, 'nonsparing': 1, 'muskets': 1, 'stillpiecing': 1, 'officd': 1, 'consolate': 1, 'hater': 1, 'camping': 1, 'overnight': 1, 'Pursuit': 1, 'enticements': 1, 'someer': 1, 'coarsely': 1, 'detesting': 1, 'honestest': 1, 'Yonds': 1, 'ringcarrier': 1, 'penitents': 1, 'thanking': 1, 'leaguer': 1, 'attributed': 1, 'performer': 1, 'jacet': 1, 'dilemmas': 1, 'damns': 1, 'smokd': 1, 'sprat': 1, 'Ast': 1, 'Tokens': 1, 'resend': 1, 'staining': 1, 'overpay': 1, 'succeeded': 1, 'descents': 1, 'appoints': 1, 'coherent': 1, 'persists': 1, 'hedgecorner': 1, 'linseywoolsey': 1, 'butterwomans': 1, 'Bajazets': 1, 'baring': 1, 'Thirty': 1, 'Throca': 1, 'movousus': 1, 'Cargo': 1, 'villianda': 1, 'corbo': 1, 'thromuldo': 1, 'boskos': 1, 'Muskos': 1, 'vauvado': 1, 'Kerelybonto': 1, 'Manka': 1, 'revania': 1, 'dulche': 1, 'Oscorbidulchos': 1, 'volivorco': 1, 'Acordo': 1, 'linta': 1, 'Fontibell': 1, 'Titled': 1, 'othat': 1, 'Highst': 1, 'unseald': 1, 'holycruel': 1, 'scarre': 1, 'chastitys': 1, 'braid': 1, 'delivred': 1, 'incurred': 1, 'perverted': 1, 'fleshes': 1, 'trumpeters': 1, 'rector': 1, 'congied': 1, 'nicer': 1, 'doublemeaning': 1, 'prophesier': 1, 'Hoodman': 1, 'Portotartarossa': 1, 'Bosko': 1, 'chimurcho': 1, 'Boblibindo': 1, 'chicurmurco': 1, 'unserviceable': 1, 'pastsaving': 1, 'militaristthat': 1, 'phrasethat': 1, 'chape': 1, 'neatly': 1, 'saidI': 1, 'truththe': 1, 'Corambus': 1, 'Guiltian': 1, 'Cosmo': 1, 'Gratii': 1, 'Chitopher': 1, 'Vaumond': 1, 'Bentii': 1, 'musterfile': 1, 'cassocks': 1, 'wellweighing': 1, 'shrieves': 1, 'childa': 1, 'tile': 1, 'Florences': 1, 'allurement': 1, 'ruttish': 1, 'Damnable': 1, 'bothsides': 1, 'afterdebts': 1, 'mell': 1, 'amnipotent': 1, 'ravishments': 1, 'Drunkenness': 1, 'swinedrunk': 1, 'bedclothes': 1, 'tragediansto': 1, 'notand': 1, 'filesI': 1, 'canbut': 1, 'outvillaind': 1, 'outruns': 1, 'drumming': 1, 'Rust': 1, 'Safest': 1, 'Defiles': 1, 'impositions': 1, 'snipttaffeta': 1, 'unbakd': 1, 'doughy': 1, 'redtaild': 1, 'partaken': 1, 'sweetmarjoram': 1, 'salletherbs': 1, 'noseherbs': 1, 'Nebuchadnezzar': 1, 'thyselfa': 1, 'fisnomy': 1, 'woodland': 1, 'selfgracious': 1, 'tal': 1, 'livry': 1, 'unroot': 1, 'inner': 1, 'Lavache': 1, 'buttring': 1, 'pur': 1, 'muskcat': 1, 'fishpond': 1, 'Cox': 1, 'Natural': 1, 'Offence': 1, 'incensing': 1, 'Distracted': 1, 'highrepented': 1, 'quickst': 1, 'inaudible': 1, 'Steals': 1, 'Admiringly': 1, 'infixing': 1, 'Scornd': 1, 'Maudlin': 1, 'widowers': 1, 'marriageday': 1, 'Necessitied': 1, 'conjectural': 1, 'forepast': 1, 'Vanquishd': 1, 'seducer': 1, 'CAPILET': 1, 'discovry': 1, 'Derived': 1, 'embodied': 1, 'Conferrd': 1, 'debauchd': 1, 'Madding': 1, 'eagerness': 1, 'marketprice': 1, 'boggle': 1, 'sirrahbut': 1, 'herfor': 1, 'Deadly': 1, 'uncropped': 1, 'keptst': 1, 'Resolvedly': 1, 'Triumvirs': 1, 'SEXTUS': 1, 'POMPEIUS': 1, 'DOMITIUS': 1, 'Ventidiuss': 1, 'Empire': 1, 'Oerflows': 1, 'glowd': 1, 'scuffles': 1, 'reneges': 1, 'bellows': 1, 'gipsys': 1, 'Grates': 1, 'scarcebearded': 1, 'Performt': 1, 'blushest': 1, 'homager': 1, 'emhracing': 1, 'weet': 1, 'beloving': 1, 'oerflowing': 1, 'soothsay': 1, 'workyday': 1, 'fiftyfold': 1, 'heartbreaking': 1, 'loosewivd': 1, 'uncuckolded': 1, 'theyld': 1, 'jointing': 1, 'teller': 1, 'Labienus': 1, 'Euphrates': 1, 'Ionia': 1, 'earing': 1, 'Importeth': 1, 'compelling': 1, 'almanacs': 1, 'Petition': 1, 'Higher': 1, 'Riotous': 1, 'mouthmade': 1, 'Eternity': 1, 'Shines': 1, 'Equality': 1, 'thrived': 1, 'meetly': 1, 'Herculean': 1, 'becomings': 1, 'manlike': 1, 'Vouchsafd': 1, 'Evils': 1, 'indulgent': 1, 'Amiss': 1, 'tippling': 1, 'dryness': 1, 'biddings': 1, 'deard': 1, 'lackeying': 1, 'Menecrates': 1, 'keels': 1, 'inroads': 1, 'borders': 1, 'maritime': 1, 'Modena': 1, 'slewst': 1, 'Hirtius': 1, 'Pansa': 1, 'foughtst': 1, 'berry': 1, 'rudest': 1, 'browsd': 1, 'lankd': 1, 'Thrives': 1, 'unseminard': 1, 'wotst': 1, 'demiAtlas': 1, 'Broadfronted': 1, 'soberly': 1, 'armgaunt': 1, 'neighd': 1, 'dumbd': 1, 'welldivided': 1, 'Metst': 1, 'salad': 1, 'justest': 1, 'auguring': 1, 'fuming': 1, 'Sharpen': 1, 'cloyless': 1, 'Lethed': 1, 'Expected': 1, 'surfeiter': 1, 'neerlustwearied': 1, 'enmities': 1, 'shavet': 1, 'stomaching': 1, 'embers': 1, 'leaner': 1, 'curstness': 1, 'arinies': 1, 'derogately': 1, 'concernd': 1, 'contestation': 1, 'fronted': 1, 'snaffle': 1, 'uncurbable': 1, 'Shrewdness': 1, 'rioting': 1, 'gibe': 1, 'missive': 1, 'diffring': 1, 'unslipping': 1, 'pursd': 1, 'reporter': 1, 'Burnd': 1, 'Purple': 1, 'clothofgold': 1, 'tissue': 1, 'Oerpicturing': 1, 'outwork': 1, 'diverscolourd': 1, 'Nereides': 1, 'adornings': 1, 'flowersoft': 1, 'wharfs': 1, 'Enthrond': 1, 'Whistling': 1, 'landing': 1, 'barberd': 1, 'ploughed': 1, 'panted': 1, 'satisfies': 1, 'riggish': 1, 'daemon': 1, 'inhoopd': 1, 'billiards': 1, 'Tawnyfinnd': 1, 'diver': 1, 'fervency': 1, 'mantles': 1, 'Philippan': 1, 'Ram': 1, 'bluest': 1, 'lippd': 1, 'illuttering': 1, 'malefactor': 1, 'unhair': 1, 'wire': 1, 'Smarting': 1, 'Themselves': 1, 'submergd': 1, 'Narcissus': 1, 'revengers': 1, 'ghosted': 1, 'allhonourd': 1, 'rig': 1, 'Sardinia': 1, 'undinted': 1, 'timelier': 1, 'Apollodorus': 1, 'mattress': 1, 'whatsomeer': 1, 'weept': 1, 'strangler': 1, 'illrooted': 1, 'highcolourd': 1, 'almsdrink': 1, 'raises': 1, 'partizan': 1, 'pyramid': 1, 'seedsman': 1, 'pyramises': 1, 'transmigrates': 1, 'epicure': 1, 'quicksands': 1, 'inclips': 1, 'worldsharers': 1, 'theet': 1, 'Desist': 1, 'palld': 1, 'forbeart': 1, 'Plumpy': 1, 'fats': 1, 'Frowns': 1, 'Enobarb': 1, 'Antickd': 1, 'PACORUS': 1, 'darting': 1, 'revenger': 1, 'Pacorus': 1, 'Orodes': 1, 'Parthians': 1, 'Mesopotamia': 1, 'shelters': 1, 'routed': 1, 'Acquire': 1, 'Sossius': 1, 'accumulation': 1, 'darkens': 1, 'Grants': 1, 'magical': 1, 'wellpaid': 1, 'neeryetbeaten': 1, 'plied': 1, 'scribes': 1, 'bards': 1, 'shards': 1, 'batter': 1, 'inclines': 1, 'Outgo': 1, 'lowvoicd': 1, 'perceivet': 1, 'Bearst': 1, 'faultiness': 1, 'Brown': 1, 'harried': 1, 'excusable': 1, 'scandy': 1, 'Stomach': 1, 'Praying': 1, 'Undo': 1, 'Prays': 1, 'branchless': 1, 'reconciler': 1, 'solder': 1, 'rivality': 1, 'navys': 1, 'Contemning': 1, 'tribunal': 1, 'stablishment': 1, 'showplace': 1, 'Cilicia': 1, 'Phoenicia': 1, 'unrestord': 1, 'triumvirate': 1, 'Longing': 1, 'marketmaid': 1, 'unshown': 1, 'supplying': 1, 'obstruct': 1, 'Bocchus': 1, 'Archelaus': 1, 'Cappadocia': 1, 'Philadelphos': 1, 'Paphlagonia': 1, 'Adallas': 1, 'Manchus': 1, 'Pont': 1, 'Mithridates': 1, 'Comagene': 1, 'Polemon': 1, 'Amyntas': 1, 'Mede': 1, 'Lycaonia': 1, 'unbewaild': 1, 'abominations': 1, 'forspoke': 1, 'denouncd': 1, 'puzzle': 1, 'Photinus': 1, 'Manage': 1, 'president': 1, 'Tarentum': 1, 'Brundusium': 1, 'Ionian': 1, 'Celerity': 1, 'Pharsalia': 1, 'reapers': 1, 'Ingrossd': 1, 'Distract': 1, 'warmarkd': 1, 'footmen': 1, 'unexecuted': 1, 'fullmannd': 1, 'Phoenicians': 1, 'aducking': 1, 'Justeius': 1, 'Caelius': 1, 'Antoniad': 1, 'tokend': 1, 'Yon': 1, 'ribaudred': 1, 'breese': 1, 'Hoists': 1, 'loofd': 1, 'seawing': 1, 'mallard': 1, 'Peloponnesus': 1, 'Laden': 1, 'Dealt': 1, 'unqualitied': 1, 'unnoble': 1, 'Stroyd': 1, 'tow': 1, 'treaties': 1, 'dodge': 1, 'pinion': 1, 'morndew': 1, 'Declare': 1, 'Submits': 1, 'alldisgraced': 1, 'neertouchd': 1, 'nickd': 1, 'mered': 1, 'principalities': 1, 'highbattled': 1, 'Unstate': 1, 'stagd': 1, 'earns': 1, 'allobeying': 1, 'musd': 1, 'Bestowd': 1, 'fullest': 1, 'muss': 1, 'cringe': 1, 'THYMUS': 1, 'unpressd': 1, 'Forborne': 1, 'boggler': 1, 'viciousness': 1, 'Adore': 1, 'Cneius': 1, 'Unregistred': 1, 'Luxuriously': 1, 'plighter': 1, 'Basan': 1, 'outroar': 1, 'civilly': 1, 'halterd': 1, 'Hipparchus': 1, 'enfranched': 1, 'terrene': 1, 'Coldhearted': 1, 'engender': 1, 'discandying': 1, 'graveless': 1, 'sealike': 1, 'treblesinewd': 1, 'thave': 1, 'estridge': 1, 'Restores': 1, 'Scant': 1, 'onioneyd': 1, 'dolorous': 1, 'landmen': 1, 'Rarely': 1, 'unbuckles': 1, 'dafft': 1, 'fumblest': 1, 'Rebukeable': 1, 'Detain': 1, 'threenookd': 1, 'vant': 1, 'Casaer': 1, 'Unloading': 1, 'safd': 1, 'outstrike': 1, 'droven': 1, 'beatem': 1, 'benchholes': 1, 'scotches': 1, 'runner': 1, 'gests': 1, 'doughtyhanded': 1, 'congealment': 1, 'Chain': 1, 'nourishes': 1, 'Destroyed': 1, 'carbuncled': 1, 'Trumpeters': 1, 'tabourines': 1, 'Applauding': 1, 'shiny': 1, 'embattle': 1, 'disponge': 1, 'masterleaver': 1, 'Demurely': 1, 'theyd': 1, 'vales': 1, 'carouse': 1, 'Tripleturnd': 1, 'spanield': 1, 'discandy': 1, 'overtoppd': 1, 'Betrayd': 1, 'beckd': 1, 'crownet': 1, 'Vanish': 1, 'monsterlike': 1, 'diminutives': 1, 'doits': 1, 'fellst': 1, 'Telamon': 1, 'thmonument': 1, 'XIV': 1, 'dragonish': 1, 'towerd': 1, 'vespers': 1, 'dislimns': 1, 'annexd': 1, 'Packd': 1, 'falseplayd': 1, 'departst': 1, 'sevenfold': 1, 'Apace': 1, 'Bruised': 1, 'entangles': 1, 'Quarterd': 1, 'prosecution': 1, 'defeatst': 1, 'pleachd': 1, 'penetrative': 1, 'wheeld': 1, 'ensued': 1, 'unpurposd': 1, 'Sufficing': 1, 'Lockd': 1, 'XV': 1, 'Darkling': 1, 'fullfortund': 1, 'broochd': 1, 'Edge': 1, 'Demuring': 1, 'strongwingd': 1, 'Wishers': 1, 'Valiantly': 1, 'Noblest': 1, 'chares': 1, 'sottish': 1, 'briefest': 1, 'pauses': 1, 'Dercetas': 1, 'haters': 1, 'Splitted': 1, 'persisted': 1, 'Wagd': 1, 'Unreconciliable': 1, 'equalness': 1, 'preparedly': 1, 'Gallus': 1, 'writings': 1, 'varletry': 1, 'censuring': 1, 'starknakd': 1, 'waterflies': 1, 'pyramides': 1, 'Crested': 1, 'reaping': 1, 'dolphinlike': 1, 'Walkd': 1, 'plates': 1, 'drearning': 1, 'rebound': 1, 'thereCaesar': 1, 'CLEOPATPA': 1, 'scutcheons': 1, 'treasurer': 1, 'soulless': 1, 'vouchsafing': 1, 'lordliness': 1, 'Parcel': 1, 'Addition': 1, 'Immoment': 1, 'misthought': 1, 'Mechanic': 1, 'Uplift': 1, 'Rank': 1, 'enclouded': 1, 'lictors': 1, 'Ballad': 1, 'comedians': 1, 'Extemporally': 1, 'squeaking': 1, 'chare': 1, 'Wherefores': 1, 'resolutions': 1, 'marbleconstant': 1, 'Rememberst': 1, 'falliable': 1, 'heeded': 1, 'longings': 1, 'intrinsicate': 1, 'Unpolicied': 1, 'Downy': 1, 'Applies': 1, 'soughtst': 1, 'Bravest': 1, 'Poisond': 1, 'Tremblingly': 1, 'figleaves': 1, 'representing': 1, 'shepherdes': 1, 'FREDERICKS': 1, 'Orchard': 1, 'goldenly': 1, 'rustically': 1, 'unkept': 1, 'stalling': 1, 'riders': 1, 'employed': 1, 'obscuring': 1, 'allottery': 1, 'stubbornest': 1, 'emulator': 1, 'enchantingly': 1, 'righteously': 1, 'cutteroff': 1, 'perceiveth': 1, 'unmuzzle': 1, 'pancackes': 1, 'silenced': 1, 'newscrammd': 1, 'trowel': 1, 'ribbreaking': 1, 'Challenger': 1, 'quintain': 1, 'misconstrues': 1, 'Grounded': 1, 'Firm': 1, 'outstay': 1, 'provoketh': 1, 'umber': 1, 'smirch': 1, 'assailants': 1, 'comates': 1, 'Sermons': 1, 'dappled': 1, 'haunches': 1, 'Amiens': 1, 'bursting': 1, 'Coursd': 1, 'Augmenting': 1, 'invectively': 1, 'pierceth': 1, 'dwellingplace': 1, 'sobbing': 1, 'untreasurd': 1, 'roynish': 1, 'Hisperia': 1, 'Confesses': 1, 'Envenoms': 1, 'fosternurse': 1, 'unregarded': 1, 'providently': 1, 'caters': 1, 'unbashful': 1, 'debility': 1, 'Frosty': 1, 'prunst': 1, 'GANYMEDE': 1, 'ALIENA': 1, 'Abruptly': 1, 'anight': 1, 'batler': 1, 'cows': 1, 'milkd': 1, 'Ensman': 1, 'fleeces': 1, 'hospitality': 1, 'buying': 1, 'greenwood': 1, 'stanzo': 1, 'stanzos': 1, 'dogapes': 1, 'disputable': 1, 'warble': 1, 'Ducdame': 1, 'Gross': 1, 'baskd': 1, 'poke': 1, 'lacklustre': 1, 'Motleys': 1, 'squandring': 1, 'Invest': 1, 'Mischievous': 1, 'citywoman': 1, 'Unclaimd': 1, 'boldend': 1, 'despiser': 1, 'nurture': 1, 'Limpd': 1, 'exits': 1, 'entrances': 1, 'Mewling': 1, 'puking': 1, 'satchel': 1, 'Unwillingly': 1, 'Sighing': 1, 'eyebrow': 1, 'Jealous': 1, 'slipperd': 1, 'shank': 1, 'whistles': 1, 'eventful': 1, 'Freeze': 1, 'effigies': 1, 'limnd': 1, 'residue': 1, 'Support': 1, 'expediently': 1, 'thricecrowned': 1, 'huntress': 1, 'unexpressive': 1, 'illroasted': 1, 'mockable': 1, 'tarrd': 1, 'labourer': 1, 'shelamb': 1, 'crookedpated': 1, 'suppers': 1, 'butterwomens': 1, 'Sweetest': 1, 'streching': 1, 'Buckles': 1, 'violated': 1, 'Rosalinda': 1, 'wideenlargd': 1, 'Lucretias': 1, 'pulpiter': 1, 'homily': 1, 'scrippage': 1, 'wondering': 1, 'palmtree': 1, 'berhymd': 1, 'earthquakes': 1, 'vehemence': 1, 'whooping': 1, 'stammer': 1, 'narrowmouthd': 1, 'wrestlers': 1, 'Gargantuas': 1, 'propositions': 1, 'curvets': 1, 'unseasonably': 1, 'christend': 1, 'Melancholy': 1, 'sennight': 1, 'vacation': 1, 'fringe': 1, 'coney': 1, 'fellowfault': 1, 'odes': 1, 'hawthorns': 1, 'brambles': 1, 'deifying': 1, 'fancymonger': 1, 'loveshakd': 1, 'unquestionable': 1, 'unbanded': 1, 'unbuttond': 1, 'untied': 1, 'demonstrating': 1, 'pointdevice': 1, 'whippers': 1, 'moonish': 1, 'monastic': 1, 'capricious': 1, 'illinhabited': 1, 'sluttishness': 1, 'hornbeasts': 1, 'Whatyecallt': 1, 'Goddild': 1, 'wainscot': 1, 'panel': 1, 'Begone': 1, 'horsestealer': 1, 'confirmer': 1, 'complaind': 1, 'feedeth': 1, 'injure': 1, 'frailst': 1, 'Afflict': 1, 'salework': 1, 'entame': 1, 'puffing': 1, 'scoffer': 1, 'Shepherd': 1, 'extermind': 1, 'reaps': 1, 'carlot': 1, 'soso': 1, 'redness': 1, 'omittance': 1, 'taunting': 1, 'extracted': 1, 'rumination': 1, 'wraps': 1, 'heartwhole': 1, 'hornmaker': 1, 'gravelld': 1, 'cleanliest': 1, 'lovecause': 1, 'chroniclers': 1, 'Sestos': 1, 'comingon': 1, 'Saturdays': 1, 'cockpigeon': 1, 'hyen': 1, 'waywarder': 1, 'keyhole': 1, 'breakpromise': 1, 'unfaithful': 1, 'examines': 1, 'loveprate': 1, 'Bay': 1, 'Portugal': 1, 'swaggerer': 1, 'freestonecolourd': 1, 'defies': 1, 'Womens': 1, 'giantrude': 1, 'Warrst': 1, 'purlieus': 1, 'fencd': 1, 'pacing': 1, 'Chewing': 1, 'mossd': 1, 'wreathd': 1, 'unlinkd': 1, 'indented': 1, 'bushs': 1, 'udders': 1, 'catlike': 1, 'hurtling': 1, 'recountments': 1, 'Committing': 1, 'homewards': 1, 'boorish': 1, 'perishest': 1, 'giddiness': 1, 'heartheaviness': 1, 'insomuch': 1, 'straits': 1, 'inconvenient': 1, 'ungentleness': 1, 'spitting': 1, 'gipsies': 1, 'cornfield': 1, 'forestborn': 1, 'Obscured': 1, 'ark': 1, 'Salutation': 1, 'motleyminded': 1, 'flattred': 1, 'ild': 1, 'copulatives': 1, 'Circumstance': 1, 'peacemaker': 1, 'stalkinghorse': 1, 'MUSIC': 1, 'Atone': 1, 'wedlockhymn': 1, 'questioning': 1, 'Wedding': 1, 'resorted': 1, 'Addressd': 1, 'bequeathing': 1, 'offerst': 1, 'revelry': 1, 'convertites': 1, 'welldeserved': 1, 'victualld': 1, 'epilogues': 1, 'SOLINUS': 1, 'Aegion': 1, 'Aemelia': 1, 'Antipholuses': 1, 'AEMILIA': 1, 'AEgeon': 1, 'abbess': 1, 'Solinus': 1, 'welldealing': 1, 'Excludes': 1, 'seditious': 1, 'synods': 1, 'Syracusians': 1, 'marts': 1, 'Ephesushe': 1, 'departedst': 1, 'increasd': 1, 'disdnguishd': 1, 'alwayswindobeying': 1, 'weepings': 1, 'plainings': 1, 'sinkingripe': 1, 'latterborn': 1, 'seafaring': 1, 'Fastned': 1, 'Dispersd': 1, 'Epidaurus': 1, 'cameO': 1, 'Gather': 1, 'burdened': 1, 'shipwreckd': 1, 'fishers': 1, 'sorrowest': 1, 'attendantso': 1, 'Reft': 1, 'Roaming': 1, 'disannul': 1, 'adjudged': 1, 'procrastinate': 1, 'Lightens': 1, 'OSixpence': 1, 'foolishness': 1, 'undisposd': 1, 'jugglers': 1, 'Darkworking': 1, 'Soulkilling': 1, 'deform': 1, 'Disguised': 1, 'lashd': 1, 'controls': 1, 'Indud': 1, 'preeminence': 1, 'unwed': 1, 'unmovd': 1, 'burdned': 1, 'foolbeggd': 1, 'Hornmad': 1, 'cuckoldmad': 1, 'loureth': 1, 'alluring': 1, 'blunts': 1, 'Selfharming': 1, 'Unfeeling': 1, 'enamelled': 1, 'feltst': 1, 'jeer': 1, 'crannies': 1, 'Sconce': 1, 'insconce': 1, 'Basting': 1, 'basting': 1, 'dealers': 1, 'dealer': 1, 'loseth': 1, 'falsing': 1, 'sweetsavourd': 1, 'undividable': 1, 'diminishing': 1, 'contaminate': 1, 'harlotbrow': 1, 'weddingring': 1, 'deepdivorcing': 1, 'disstaind': 1, 'undishonoured': 1, 'Wants': 1, 'Abetting': 1, 'Usurping': 1, 'fallacy': 1, 'welladvisd': 1, 'shrewish': 1, 'handwriting': 1, 'Maud': 1, 'Gillian': 1, 'Ginn': 1, 'Mome': 1, 'thatswhen': 1, 'unviolated': 1, 'thisyour': 1, 'wifebut': 1, 'lovesprings': 1, 'wealths': 1, 'Apparel': 1, 'secretfalse': 1, 'mistresswhat': 1, 'wondermore': 1, 'earthygross': 1, 'Smothred': 1, 'springeth': 1, 'Gaze': 1, 'womanone': 1, 'Sirreverence': 1, 'kitchenwench': 1, 'Swart': 1, 'Noahs': 1, 'buttocks': 1, 'barrenness': 1, 'America': 1, 'embellished': 1, 'sapphires': 1, 'armadoes': 1, 'caracks': 1, 'ballast': 1, 'Netherlands': 1, 'diviner': 1, 'selfwrong': 1, 'Persia': 1, 'COURTEZANS': 1, 'chargeful': 1, 'debted': 1, 'Disburse': 1, 'methe': 1, 'apparently': 1, 'balsamum': 1, 'aquavitx': 1, 'THOU': 1, 'Dowsabel': 1, 'nonethe': 1, 'Illfacd': 1, 'bodied': 1, 'Vicious': 1, 'Stigmatical': 1, 'gothe': 1, 'limbo': 1, 'buttond': 1, 'backfriend': 1, 'shoulderclapper': 1, 'countermands': 1, 'creeks': 1, 'dryfoot': 1, 'wellacquainted': 1, 'Lapland': 1, 'newapparelld': 1, 'calfs': 1, 'bassviol': 1, 'morrispike': 1, 'Expedition': 1, 'spoonmeat': 1, 'supping': 1, 'cherrystone': 1, 'SCHOOLMASTER': 1, 'respice': 1, 'finem': 1, 'incivility': 1, 'Establish': 1, 'Dind': 1, 'Perdie': 1, 'revile': 1, 'kitchenmaid': 1, 'kitchenvestal': 1, 'Wentst': 1, 'ropemaker': 1, 'villian': 1, 'dishonestly': 1, 'monstrously': 1, 'Andpholus': 1, 'Strayd': 1, 'Poisons': 1, 'Unquiet': 1, 'distemperatures': 1, 'lifepreserving': 1, 'assaying': 1, 'Diet': 1, 'Complain': 1, 'Beheaded': 1, 'HEADSMAN': 1, 'lettersthis': 1, 'desprately': 1, 'Rings': 1, 'Chasd': 1, 'arow': 1, 'pails': 1, 'preaches': 1, 'scissors': 1, 'nicks': 1, 'peflurd': 1, 'chargeth': 1, 'headyrash': 1, 'fortuneteller': 1, 'holloweyd': 1, 'sharplooking': 1, 'dankish': 1, 'intricate': 1, 'Circes': 1, 'Denies': 1, 'Pinchs': 1, 'sapconsuming': 1, 'witnessesI': 1, 'shamst': 1, 'deciphers': 1, 'floated': 1, 'raft': 1, 'Dromios': 1, 'Menaphon': 1, 'Thirtythree': 1, 'calendars': 1, 'kitchend': 1, 'senior': 1, 'NICANOR': 1, 'VOLSCIAN': 1, 'Aediles': 1, 'Lictors': 1, 'humanely': 1, 'particularize': 1, 'rakes': 1, 'softconsciencd': 1, 'storehouses': 1, 'stalet': 1, 'fob': 1, 'Rebelld': 1, 'unactive': 1, 'cupboarding': 1, 'viand': 1, 'tauntingly': 1, 'malign': 1, 'muniments': 1, 'youst': 1, 'cranks': 1, 'flour': 1, 'Leadst': 1, 'bale': 1, 'scabs': 1, 'hailstone': 1, 'hews': 1, 'Conjectural': 1, 'feebling': 1, 'cobbled': 1, 'abundantly': 1, 'anhungry': 1, 'complainings': 1, 'generosity': 1, 'Shouting': 1, 'Ones': 1, 'Velutus': 1, 'Sdeath': 1, 'unroofd': 1, 'garners': 1, 'Worshipful': 1, 'mutineers': 1, 'Ciitzens': 1, 'Bemock': 1, 'Tickled': 1, 'miscarries': 1, 'hereyes': 1, 'armys': 1, 'pretences': 1, 'hatching': 1, 'befores': 1, 'freelier': 1, 'tenderbodied': 1, 'comeliness': 1, 'picturelike': 1, 'sprang': 1, 'manchild': 1, 'voluptuously': 1, 'maild': 1, 'wiping': 1, 'harvestman': 1, 'housekeepers': 1, 'mammockd': 1, 'stitchery': 1, 'unreasonably': 1, 'Penelope': 1, 'moths': 1, 'cambric': 1, 'solemness': 1, 'fielded': 1, 'pinnd': 1, 'Ladders': 1, 'Boils': 1, 'Plaster': 1, 'Farther': 1, 'Backs': 1, 'agued': 1, 'widens': 1, 'Foolhardiness': 1, 'outdares': 1, 'thunderlike': 1, 'percussion': 1, 'drachma': 1, 'Cushions': 1, 'Irons': 1, 'pillagers': 1, 'Misguide': 1, 'Prosperity': 1, 'interims': 1, 'conveying': 1, 'Spies': 1, 'Beforetime': 1, 'bedward': 1, 'Ransoming': 1, 'balms': 1, 'Wave': 1, 'centuries': 1, 'guider': 1, 'Fix': 1, 'budger': 1, 'Halloa': 1, 'Officious': 1, 'traducement': 1, 'spire': 1, 'falsefacd': 1, 'acclamations': 1, 'applauseand': 1, 'undercrest': 1, 'Refusd': 1, 'oerwhelmd': 1, 'potch': 1, 'Bolder': 1, 'fane': 1, 'Embarquements': 1, 'enormity': 1, 'topping': 1, 'infantlike': 1, 'napes': 1, 'unmeriting': 1, 'magistratesalias': 1, 'patrician': 1, 'allaying': 1, 'tinderlike': 1, 'converses': 1, 'wealsmen': 1, 'Lycurguses': 1, 'adversely': 1, 'microcosm': 1, 'conspectuities': 1, 'orangewife': 1, 'fossetseller': 1, 'rejourn': 1, 'mummers': 1, 'chamberpot': 1, 'perfecter': 1, 'giber': 1, 'bencher': 1, 'entombd': 1, 'packsaddle': 1, 'Honourable': 1, 'empiricutic': 1, 'preservative': 1, 'horsedrench': 1, 'fidiusd': 1, 'outdone': 1, 'Wondrous': 1, 'pow': 1, 'waw': 1, 'cicatrices': 1, 'twentyfive': 1, 'twentyseven': 1, 'nervy': 1, 'petitiond': 1, 'deedachieving': 1, 'coffind': 1, 'spectacled': 1, 'chats': 1, 'malkin': 1, 'lockram': 1, 'bulks': 1, 'Seldshown': 1, 'flamens': 1, 'gawded': 1, 'pother': 1, 'napless': 1, 'pleaders': 1, 'Dispropertied': 1, 'freedoms': 1, 'camels': 1, 'provand': 1, 'consulships': 1, 'carelessness': 1, 'waved': 1, 'ascent': 1, 'bonneted': 1, 'LICTORS': 1, 'aftermeeting': 1, 'wellfound': 1, 'Inclinable': 1, 'hereto': 1, 'disbenchd': 1, 'soothd': 1, 'monsterd': 1, 'spawn': 1, 'feebly': 1, 'haver': 1, 'Dictator': 1, 'oerpressd': 1, 'Slew': 1, 'browbound': 1, 'Manentred': 1, 'brunt': 1, 'lurchd': 1, 'timd': 1, 'shunless': 1, 'aidless': 1, 'reenforcement': 1, 'Requickned': 1, 'fatigate': 1, 'muck': 1, 'covets': 1, 'suffrage': 1, 'unaching': 1, 'recommend': 1, 'contemn': 1, 'manyheaded': 1, 'abram': 1, 'diversely': 1, 'blockhead': 1, 'MUST': 1, 'consulship': 1, 'Kindly': 1, 'counterfeitly': 1, 'bewitchment': 1, 'desirers': 1, 'toge': 1, 'Hob': 1, 'oerpeer': 1, 'Watchd': 1, 'SEVENTH': 1, 'Endue': 1, 'friendliness': 1, 'arriving': 1, 'malignantly': 1, 'plebeii': 1, 'Translate': 1, 'foreadvisd': 1, 'endures': 1, 'unelected': 1, 'rectorship': 1, 'asker': 1, 'sudfor': 1, 'gibingly': 1, 'ungravely': 1, 'Preoccupied': 1, 'Marcians': 1, 'Ancus': 1, 'Numas': 1, 'Quintus': 1, 'Censorinus': 1, 'censor': 1, 'Scaling': 1, 'refusal': 1, 'GENTRY': 1, 'Upons': 1, 'Yielded': 1, 'prank': 1, 'Suffert': 1, 'Callt': 1, 'repind': 1, 'Scandald': 1, 'suppliants': 1, 'Timepleasers': 1, 'paltring': 1, 'Deserved': 1, 'mutable': 1, 'rankscented': 1, 'Coin': 1, 'measles': 1, 'Triton': 1, 'minnows': 1, 'navel': 1, 'Insult': 1, 'Real': 1, 'unstable': 1, 'slightness': 1, 'Mangles': 1, 'bereaves': 1, 'becomet': 1, 'controlt': 1, 'Manifest': 1, 'Attach': 1, 'innovator': 1, 'Agd': 1, 'unbuild': 1, 'AEdiles': 1, 'barbarians': 1, 'calved': 1, 'tag': 1, 'depopulate': 1, 'eject': 1, 'dropt': 1, 'kam': 1, 'gangrend': 1, 'tigerfooted': 1, 'unscannd': 1, 'PATRICIAN': 1, 'congregations': 1, 'thwartings': 1, 'Cleave': 1, 'unseverd': 1, 'roted': 1, 'louts': 1, 'bussing': 1, 'correcting': 1, 'thystout': 1, 'calmness': 1, 'unbarbd': 1, 'quierd': 1, 'Tent': 1, 'inherent': 1, 'valiantness': 1, 'Cog': 1, 'Tyrannical': 1, 'evade': 1, 'favourd': 1, 'Insisting': 1, 'reind': 1, 'Supplied': 1, 'amongs': 1, 'theAEDILEwith': 1, 'Audience': 1, 'Scratches': 1, 'Scars': 1, 'tyrannical': 1, 'Opposing': 1, 'defying': 1, 'Servd': 1, 'Vagabond': 1, 'Envied': 1, 'Fan': 1, 'defenders': 1, 'Hoooo': 1, 'NOBILITY': 1, 'butts': 1, 'trier': 1, 'Resume': 1, 'Droop': 1, 'salter': 1, 'Hearthardning': 1, 'exposture': 1, 'needer': 1, 'rove': 1, 'sided': 1, 'foxship': 1, 'unclog': 1, 'Angers': 1, 'Junolike': 1, 'centurions': 1, 'edifices': 1, 'Unseparable': 1, 'interjoin': 1, 'birthplace': 1, 'SERVANTWheres': 1, 'disturbing': 1, 'Commands': 1, 'unmusical': 1, 'Permitted': 1, 'Whoopd': 1, 'voided': 1, 'banishers': 1, 'maims': 1, 'weeded': 1, 'ash': 1, 'splinters': 1, 'contest': 1, 'Sighd': 1, 'Dreamt': 1, 'Unbuckling': 1, 'fisting': 1, 'oerbeat': 1, 'notchd': 1, 'cannibally': 1, 'sanctifies': 1, 'sowl': 1, 'polld': 1, 'directitude': 1, 'Directitude': 1, 'burrows': 1, 'conies': 1, 'mulld': 1, 'getter': 1, 'destroyer': 1, 'Dissentious': 1, 'pestring': 1, 'temporizd': 1, 'Selfloving': 1, 'Thrusts': 1, 'inshelld': 1, 'rumourer': 1, 'Possible': 1, 'countenances': 1, 'youngst': 1, 'violentst': 1, 'contrariety': 1, 'Associated': 1, 'franchises': 1, 'augers': 1, 'garliceaters': 1, 'crafted': 1, 'hoot': 1, 'Desperation': 1, 'hooting': 1, 'witchcrafts': 1, 'proudlier': 1, 'Fights': 1, 'dragonlike': 1, 'Wheneer': 1, 'osprey': 1, 'Rights': 1, 'coyd': 1, 'titleless': 1, 'wrackd': 1, 'awaken': 1, 'Fors': 1, 'unburnt': 1, 'neverneeded': 1, 'Upbraids': 1, 'pleader': 1, 'Unheard': 1, 'griefshot': 1, 'undertaket': 1, 'unhearts': 1, 'pout': 1, 'amplified': 1, 'lapsing': 1, 'factionary': 1, 'pushd': 1, 'dotant': 1, 'spectatorship': 1, 'crueller': 1, 'servanted': 1, 'Ingrate': 1, 'windshaken': 1, 'godded': 1, 'grandchild': 1, 'Plough': 1, 'gosling': 1, 'virgind': 1, 'unsaluted': 1, 'unproperly': 1, 'Fillip': 1, 'Murdring': 1, 'curdied': 1, 'epitome': 1, 'unvulnerable': 1, 'capitulate': 1, 'mechanics': 1, 'Tallay': 1, 'Constrains': 1, 'enmitys': 1, 'barst': 1, 'Triumphantly': 1, 'Living': 1, 'cluckd': 1, 'restrainst': 1, 'youfl': 1, 'counterseald': 1, 'cornerstone': 1, 'displace': 1, 'differency': 1, 'eightyearold': 1, 'sours': 1, 'corslet': 1, 'dislodgd': 1, 'recomforted': 1, 'sackbuts': 1, 'psalteries': 1, 'fifes': 1, 'Tabors': 1, 'cymbals': 1, 'Volumnia': 1, 'Unshout': 1, 'Repeal': 1, 'attendents': 1, 'empoisond': 1, 'pretext': 1, 'heightend': 1, 'watered': 1, 'Seducing': 1, 'unswayable': 1, 'jointservant': 1, 'designments': 1, 'marvelld': 1, 'Splitting': 1, 'subsisting': 1, 'perfidiously': 1, 'Breaking': 1, 'admitting': 1, 'whind': 1, 'Measureless': 1, 'annals': 1, 'dovecote': 1, 'Flutterd': 1, 'Aufidiuses': 1, 'Insolent': 1, 'CORIOLANUSwho': 1, 'um': 1, 'mournfully': 1, 'Trail': 1, 'unchilded': 1, 'POLYDORE': 1, 'CADWAL': 1, 'Forces': 1, 'Cymbelines': 1, 'APPARITIONS': 1, 'referrd': 1, 'Endows': 1, 'Crush': 1, 'suraddition': 1, 'Breeds': 1, 'learnings': 1, 'receiver': 1, 'sample': 1, 'feated': 1, 'dotards': 1, 'swathing': 1, 'stepmothers': 1, 'Evileyd': 1, 'loyalst': 1, 'Philarios': 1, 'heapst': 1, 'overbuys': 1, 'goerback': 1, 'Whent': 1, 'halfhour': 1, 'Hurt': 1, 'throughfare': 1, 'Puppies': 1, 'questionedst': 1, 'aftereye': 1, 'eyestrings': 1, 'smallness': 1, 'DUTCHMAN': 1, 'SPANIARD': 1, 'tabled': 1, 'items': 1, 'weighed': 1, 'wonderfully': 1, 'oerrate': 1, 'experiences': 1, 'vouching': 1, 'affirmation': 1, 'attemptable': 1, 'adorer': 1, 'handinhand': 1, 'outlustres': 1, 'excelled': 1, 'outprizd': 1, 'ponds': 1, 'estimations': 1, 'thatwayaccomplishd': 1, 'oervalues': 1, 'hugeness': 1, 'unseducd': 1, 'languishing': 1, 'confections': 1, 'Allayments': 1, 'stupefy': 1, 'reviving': 1, 'depender': 1, 'changest': 1, 'leigers': 1, 'Vexations': 1, 'thiefstoln': 1, 'Partition': 1, 'Contemn': 1, 'definite': 1, 'Sluttery': 1, 'allurd': 1, 'cloyed': 1, 'satiate': 1, 'ravening': 1, 'Longs': 1, 'raps': 1, 'reveller': 1, 'ofttimes': 1, 'furnaces': 1, 'openness': 1, 'feelers': 1, 'Slaver': 1, 'bypeeping': 1, 'Encounter': 1, 'Inclind': 1, 'mutest': 1, 'Charms': 1, 'partnerd': 1, 'tomboys': 1, 'ramps': 1, 'Solicits': 1, 'Romish': 1, 'mannerd': 1, 'adventurd': 1, 'chaffless': 1, 'stowage': 1, 'Willingly': 1, 'lengthning': 1, 'outstood': 1, 'upcast': 1, 'curtail': 1, 'Whoreson': 1, 'smelld': 1, 'jackslave': 1, 'Sayest': 1, 'inferiors': 1, 'derogation': 1, 'endurst': 1, 'coining': 1, 'unshakd': 1, 'oerlabourd': 1, 'Rubies': 1, 'Perfumes': 1, 'underpeep': 1, 'azure': 1, 'cinquespotted': 1, 'voucher': 1, 'Stronger': 1, 'Screwd': 1, 'leafs': 1, 'Winning': 1, 'goodconceited': 1, 'chalicd': 1, 'Marybuds': 1, 'horsehairs': 1, 'unpaved': 1, 'vouchsafes': 1, 'Frame': 1, 'Increase': 1, 'dothyea': 1, 'rangers': 1, 'discourtesy': 1, 'fosterd': 1, 'selffigurd': 1, 'Profane': 1, 'Comparative': 1, 'styld': 1, 'underhangman': 1, 'sprited': 1, 'casually': 1, 'Quake': 1, 'Oerpays': 1, 'dos': 1, 'arrearages': 1, 'Statist': 1, 'notfearing': 1, 'orderd': 1, 'Smild': 1, 'courages': 1, 'approvers': 1, 'comers': 1, 'briefness': 1, 'speediness': 1, 'Sparkles': 1, 'Profess': 1, 'watchingit': 1, 'workmanship': 1, 'chimneypiece': 1, 'bathing': 1, 'cutter': 1, 'outwent': 1, 'Motion': 1, 'andirons': 1, 'Depending': 1, 'outsell': 1, 'Thoust': 1, 'limbmeal': 1, 'halfworkers': 1, 'coiner': 1, 'pudency': 1, 'unsunnd': 1, 'fullacornd': 1, 'Ambitions': 1, 'covetings': 1, 'prides': 1, 'untenderd': 1, 'ribbd': 1, 'pald': 1, 'unscalable': 1, 'baubles': 1, 'eggshells': 1, 'Ordaind': 1, 'franchise': 1, 'poisonoustongud': 1, 'virginlike': 1, 'astronomer': 1, 'forfeiters': 1, 'dominion': 1, 'Glide': 1, 'fainter': 1, 'beyondsay': 1, 'smothering': 1, 'hencegoing': 1, 'nimbler': 1, 'costlier': 1, 'Accessible': 1, 'Instructs': 1, 'archd': 1, 'turbans': 1, 'sharded': 1, 'fullwingd': 1, 'Prouder': 1, 'unpaidfor': 1, 'uncrossd': 1, 'freezing': 1, 'prisond': 1, 'thname': 1, 'thsearch': 1, 'Followd': 1, 'foreend': 1, 'Strains': 1, 'refts': 1, 'selfexplication': 1, 'Vanquish': 1, 'staider': 1, 'tenderst': 1, 'winterly': 1, 'drugdamnd': 1, 'outcraftied': 1, 'Outvenoms': 1, 'Rides': 1, 'wheret': 1, 'Sinons': 1, 'Somethings': 1, 'aforet': 1, 'Obedient': 1, 'scriptures': 1, 'Corrupters': 1, 'disedgd': 1, 'tirest': 1, 'pangd': 1, 'perturbd': 1, 'unbent': 1, 'selfdanger': 1, 'niceness': 1, 'handmaids': 1, 'quickanswerd': 1, 'quarrelous': 1, 'commonkissing': 1, 'trims': 1, 'Forethinking': 1, 'supplyment': 1, 'stomachqualmd': 1, 'unkinglike': 1, 'overland': 1, 'ripely': 1, 'Outsells': 1, 'allworthy': 1, 'Allworthy': 1, 'remembert': 1, 'insultment': 1, 'rejoicingly': 1, 'sorer': 1, 'hungers': 1, 'Plenty': 1, 'browse': 1, 'divineness': 1, 'provider': 1, 'encounterd': 1, 'ballasting': 1, 'freet': 1, 'Whispering': 1, 'nothinggift': 1, 'outpeer': 1, 'fallnoff': 1, 'creates': 1, 'proconsul': 1, 'supplyant': 1, 'mappd': 1, 'oppositions': 1, 'imperceiverant': 1, 'testiness': 1, 'meetingplace': 1, 'disprovst': 1, 'Dishonestly': 1, 'broths': 1, 'dieter': 1, 'commix': 1, 'Mingle': 1, 'untwine': 1, 'robber': 1, 'lawbreaker': 1, 'companys': 1, 'blurrd': 1, 'CLOTENS': 1, 'Displace': 1, 'Protects': 1, 'mutation': 1, 'ravd': 1, 'Cave': 1, 'foresay': 1, 'Fideles': 1, 'creek': 1, 'feartwill': 1, 'blazonst': 1, 'zephyrs': 1, 'enchafd': 1, 'Civility': 1, 'Triumphs': 1, 'skippd': 1, 'sluggish': 1, 'crare': 1, 'easiliest': 1, 'diedst': 1, 'Stark': 1, 'Reposing': 1, 'leagud': 1, 'brogues': 1, 'harebell': 1, 'Outsweetned': 1, 'ruddock': 1, 'shaming': 1, 'richleft': 1, 'winterground': 1, 'wenchlike': 1, 'fanes': 1, 'rotting': 1, 'alldreaded': 1, 'Consign': 1, 'exorciser': 1, 'unlaid': 1, 'strewings': 1, 'fitst': 1, 'herblets': 1, 'Apart': 1, 'pittikins': 1, 'cavekeeper': 1, 'Mercurial': 1, 'Martial': 1, 'brawns': 1, 'Conspird': 1, 'irregulous': 1, 'maintop': 1, 'Murdrous': 1, 'Pisanios': 1, 'horrider': 1, 'confiners': 1, 'Siennas': 1, 'sunbeams': 1, 'Champ': 1, 'masterd': 1, 'woodleaves': 1, 'daisied': 1, 'loyally': 1, 'steerd': 1, 'Newness': 1, 'bandsmay': 1, 'importantly': 1, 'tanlings': 1, 'rowel': 1, 'wrying': 1, 'Pitied': 1, 'vanquisheth': 1, 'disarmeth': 1, 'Revengingly': 1, 'enfeebles': 1, 'carl': 1, 'Knighthoods': 1, 'BRITONS': 1, 'reinforce': 1, 'destitute': 1, 'fullhearted': 1, 'Lolling': 1, 'mortally': 1, 'ditchd': 1, 'striplings': 1, 'backwards': 1, 'performers': 1, 'chaser': 1, 'Chickens': 1, 'Preservd': 1, 'resumd': 1, 'peckd': 1, 'wrists': 1, 'stricter': 1, 'clement': 1, 'Imogens': 1, 'LEONATI': 1, 'thundermaster': 1, 'adulteries': 1, 'Rates': 1, 'earthvexing': 1, 'Lucina': 1, 'Moulded': 1, 'stiller': 1, 'adjournd': 1, 'descendsin': 1, 'Thunderer': 1, 'Skyplanted': 1, 'rebelling': 1, 'neverwithering': 1, 'opprest': 1, 'lowlaid': 1, 'uplift': 1, 'tablet': 1, 'Express': 1, 'crystalline': 1, 'Ascends': 1, 'sulpherous': 1, 'ascension': 1, 'Prunes': 1, 'cloys': 1, 'behest': 1, 'fangled': 1, 'Overroasted': 1, 'procuring': 1, 'picturd': 1, 'afterinquiry': 1, 'gaolers': 1, 'gallowses': 1, 'Preservers': 1, 'Companions': 1, 'medcinelife': 1, 'Abhorrd': 1, 'scorpion': 1, 'shamelessdesperate': 1, 'nurselike': 1, 'Fitting': 1, 'Bitter': 1, 'eyst': 1, 'Winnow': 1, 'unspoken': 1, 'rarst': 1, 'laming': 1, 'straightpight': 1, 'Postures': 1, 'Fairness': 1, 'trulls': 1, 'Provd': 1, 'unspeaking': 1, 'sots': 1, 'Pieces': 1, 'averring': 1, 'chamberhanging': 1, 'torturers': 1, 'confection': 1, 'foamd': 1, 'Denyt': 1, 'incivil': 1, 'princelike': 1, 'Assumd': 1, 'Nursing': 1, 'Excited': 1, 'inlay': 1, 'Rejoicd': 1, 'Continud': 1, 'circumstantial': 1, 'bydependences': 1, 'hitting': 1, 'counterchange': 1, 'oerjoyd': 1, 'fitment': 1, 'freeness': 1, 'Pardons': 1, 'Joyd': 1, 'Philarmonus': 1, 'Personates': 1, 'scarcecold': 1, 'Lessend': 1, 'foreshowd': 1, 'Thimperial': 1, 'Publish': 1, 'Friendly': 1, 'DENMARK': 1, 'gravediggers': 1, 'Norwegian': 1, 'Getrude': 1, 'Sentinelsfirst': 1, 'illume': 1, 'harrows': 1, 'combated': 1, 'sledded': 1, 'Polacks': 1, 'eruption': 1, 'shipwrights': 1, 'jointlabourer': 1, 'Thereto': 1, 'gaged': 1, 'comart': 1, 'designd': 1, 'unimproved': 1, 'Sharkd': 1, 'resolutes': 1, 'compulsatory': 1, 'romage': 1, 'palmy': 1, 'sheeted': 1, 'gibber': 1, 'Disasters': 1, 'precurse': 1, 'omen': 1, 'demonstrated': 1, 'climature': 1, 'Spreads': 1, 'foreknowing': 1, 'uphoarded': 1, 'Extorted': 1, 'partisan': 1, 'shrillsounding': 1, 'Saviours': 1, 'singeth': 1, 'eastward': 1, 'befitted': 1, 'jointress': 1, 'dirge': 1, 'supposal': 1, 'Colleagued': 1, 'pester': 1, 'Heartily': 1, 'instrumental': 1, 'vailed': 1, 'suspiration': 1, 'havior': 1, 'condolement': 1, 'incorrect': 1, 'unfortified': 1, 'unprevailing': 1, 'unforcd': 1, 'Respeaking': 1, 'Thaw': 1, 'Everlasting': 1, 'unweeded': 1, 'beteem': 1, 'Frailty': 1, 'Niobe': 1, 'unrighteous': 1, 'flushing': 1, 'truster': 1, 'Thrift': 1, 'attent': 1, 'Appears': 1, 'fearsurprised': 1, 'truncheons': 1, 'frowningly': 1, 'warrnt': 1, 'tenable': 1, 'primy': 1, 'suppliance': 1, 'cautel': 1, 'besmirch': 1, 'Carve': 1, 'circumscribd': 1, 'unmastred': 1, 'chariest': 1, 'scopes': 1, 'blastments': 1, 'pastors': 1, 'rede': 1, 'Occasion': 1, 'unproportiond': 1, 'newhatchd': 1, 'Beart': 1, 'dulls': 1, 'behooves': 1, 'Pooh': 1, 'Unsifted': 1, 'Running': 1, 'springes': 1, 'blazes': 1, 'scanter': 1, 'entreatments': 1, 'tether': 1, 'implorators': 1, 'Breathing': 1, 'upspring': 1, 'drains': 1, 'kettledrum': 1, 'heavyheaded': 1, 'traducd': 1, 'Soil': 1, 'oergrowth': 1, 'oerleavens': 1, 'Carrying': 1, 'eil': 1, 'goblin': 1, 'questionable': 1, 'hearsed': 1, 'cerements': 1, 'inurnd': 1, 'Revisits': 1, 'glimpses': 1, 'impartment': 1, 'fadoms': 1, 'artire': 1, 'Unhand': 1, 'fortifications': 1, 'Doomd': 1, 'quills': 1, 'rots': 1, 'wharf': 1, 'Rankly': 1, 'seemingvirtuous': 1, 'fallingoff': 1, 'hebona': 1, 'porches': 1, 'leperous': 1, 'distilment': 1, 'quicksilverr': 1, 'droppings': 1, 'lazarlike': 1, 'Unhousled': 1, 'disappointed': 1, 'unaneld': 1, 'glowworm': 1, 'matin': 1, 'uneffectual': 1, 'stiffly': 1, 'pressures': 1, 'Unmixd': 1, 'swornt': 1, 'Illo': 1, 'Hillo': 1, 'Patrick': 1, 'Oermastert': 1, 'truepenny': 1, 'cellarage': 1, 'Propose': 1, 'ubique': 1, 'pioner': 1, 'encumbred': 1, 'headshake': 1, 'ambiguous': 1, 'perturbed': 1, 'friending': 1, 'Enquire': 1, 'Danskers': 1, 'encompassment': 1, 'Addicted': 1, 'Drabbing': 1, 'outbreak': 1, 'unreclaimed': 1, 'sullies': 1, 'Videlicet': 1, 'windlasses': 1, 'indirections': 1, 'unbracd': 1, 'fould': 1, 'Ungartred': 1, 'downgyved': 1, 'ankle': 1, 'purport': 1, 'shatter': 1, 'repel': 1, 'aliis': 1, 'Resembles': 1, 'clays': 1, 'Pleasant': 1, 'Hunts': 1, 'oerhasty': 1, 'impotence': 1, 'welltook': 1, 'solicitings': 1, 'prescripts': 1, 'repulsed': 1, 'Positively': 1, 'Conception': 1, 'Slanders': 1, 'satirical': 1, 'plumtree': 1, 'powerfully': 1, 'sanity': 1, 'overhappy': 1, 'everpreserved': 1, 'proposer': 1, 'anticipation': 1, 'moult': 1, 'forgone': 1, 'oerhanging': 1, 'coted': 1, 'tragedians': 1, 'inhibition': 1, 'eyrie': 1, 'eyases': 1, 'tyrannically': 1, 'berattle': 1, 'stages': 1, 'goosequills': 1, 'escoted': 1, 'appurtenance': 1, 'unclefather': 1, 'auntmother': 1, 'northnorthwest': 1, 'southerly': 1, 'swaddling': 1, 'pastoral': 1, 'pastoralcomical': 1, 'historicalpastoral': 1, 'tragicalhistorical': 1, 'tragicalcomicalhistoricalpastoral': 1, 'individable': 1, 'unlimited': 1, 'Seneca': 1, 'Plautus': 1, 'Israel': 1, 'chanson': 1, 'valancd': 1, 'chopine': 1, 'caviary': 1, 'indict': 1, 'AEneas': 1, 'thereabout': 1, 'trickd': 1, 'Bakd': 1, 'impasted': 1, 'Roasted': 1, 'oersized': 1, 'coagulate': 1, 'Repugnant': 1, 'Unequal': 1, 'whiff': 1, 'unnerved': 1, 'Stoops': 1, 'crash': 1, 'Aroused': 1, 'fellies': 1, 'Mobled': 1, 'oerteemed': 1, 'Mincing': 1, 'milch': 1, 'bodykins': 1, 'wannd': 1, 'suiting': 1, 'muddymettled': 1, 'Johnadreams': 1, 'Plucks': 1, 'Tweaks': 1, 'pigeonliverd': 1, 'Remorseless': 1, 'kindless': 1, 'unpack': 1, 'acursing': 1, 'malefactions': 1, 'Abuses': 1, 'relative': 1, 'Grating': 1, 'Niggard': 1, 'behavd': 1, 'devotions': 1, 'beautied': 1, 'plastring': 1, 'heartache': 1, 'shuffled': 1, 'oppressors': 1, 'contumely': 1, 'fardels': 1, 'puzzles': 1, 'sicklied': 1, 'Nymph': 1, 'longed': 1, 'givers': 1, 'inoculate': 1, 'amble': 1, 'observers': 1, 'jangled': 1, 'Blasted': 1, 'somethingsettled': 1, 'Madness': 1, 'unwatchd': 1, 'periwigpated': 1, 'tatters': 1, 'groundlings': 1, 'inexplicable': 1, 'oerdoing': 1, 'Termagant': 1, 'outherods': 1, 'Suit': 1, 'oerstep': 1, 'pressure': 1, 'oerweigh': 1, 'profanely': 1, 'strutted': 1, 'journeymen': 1, 'abominably': 1, 'clowns': 1, 'crook': 1, 'commingled': 1, 'occulted': 1, 'stithy': 1, 'detecting': 1, 'Kettledrums': 1, 'chameleons': 1, 'promisecrammd': 1, 'brute': 1, 'Ophelias': 1, 'jigmaker': 1, 'Mutes': 1, 'miching': 1, 'malhecho': 1, 'clemency': 1, 'Tellus': 1, 'dozed': 1, 'thirties': 1, 'Unite': 1, 'comutual': 1, 'sizd': 1, 'littlest': 1, 'Wormwood': 1, 'unripe': 1, 'enactures': 1, 'Mousetrap': 1, 'Tropically': 1, 'winch': 1, 'unwrung': 1, 'chorus': 1, 'croaking': 1, 'bellow': 1, 'Luc': 1, 'Gonzagos': 1, 'mewith': 1, 'Provincial': 1, 'Damon': 1, 'dismantled': 1, 'pajock': 1, 'rhymd': 1, 'poisoning': 1, 'stonish': 1, 'Impart': 1, 'pickers': 1, 'stealers': 1, 'ventages': 1, 'witching': 1, 'Contagion': 1, 'hypocrites': 1, 'somever': 1, 'lunacies': 1, 'noyance': 1, 'Fixd': 1, 'mortisd': 1, 'adjoind': 1, 'annexment': 1, 'freefooted': 1, 'oerhear': 1, 'defeats': 1, 'forestalled': 1, 'Offences': 1, 'shove': 1, 'salary': 1, 'prolongs': 1, 'screend': 1, 'intruding': 1, 'blurs': 1, 'dicers': 1, 'contraction': 1, 'rhapsody': 1, 'solidity': 1, 'thoughtsick': 1, 'heavenkissing': 1, 'mildewd': 1, 'Blasting': 1, 'moor': 1, 'heyday': 1, 'Sense': 1, 'apoplexd': 1, 'ecstacy': 1, 'hoodmanblind': 1, 'Ears': 1, 'mutine': 1, 'actively': 1, 'enseamed': 1, 'honeying': 1, 'shelf': 1, 'lapsd': 1, 'encorporal': 1, 'excrements': 1, 'Sprinkle': 1, 'preaching': 1, 'bodiless': 1, 'Ecstasy': 1, 'reword': 1, 'mining': 1, 'compost': 1, 'fatness': 1, 'frock': 1, 'Refrain': 1, 'bloat': 1, 'paddock': 1, 'gib': 1, 'Unpeg': 1, 'schoolfellows': 1, 'fangd': 1, 'enginer': 1, 'Hoist': 1, 'petar': 1, 'peating': 1, 'Whips': 1, 'brainish': 1, 'divulging': 1, 'diameter': 1, 'Transports': 1, 'woundless': 1, 'Compounded': 1, 'soaks': 1, 'jaw': 1, 'mouthd': 1, 'Swallowed': 1, 'squeezing': 1, 'Deliberate': 1, 'quickness': 1, 'associates': 1, 'cherub': 1, 'congruing': 1, 'hectic': 1, 'capability': 1, 'fust': 1, 'unusd': 1, 'Bestial': 1, 'Examples': 1, 'eggshell': 1, 'kllld': 1, 'enviously': 1, 'unshaped': 1, 'illbreeding': 1, 'artless': 1, 'sandal': 1, 'grassgreen': 1, 'dild': 1, 'cloes': 1, 'duppd': 1, 'Gis': 1, 'Charity': 1, 'Cock': 1, 'battalions': 1, 'Thick': 1, 'huggermugger': 1, 'fairjudgment': 1, 'Pictures': 1, 'buzzers': 1, 'Switzers': 1, 'overpeering': 1, 'Antiquity': 1, 'ratifiers': 1, 'Caps': 1, 'staid': 1, 'unsmirched': 1, 'juggled': 1, 'profoundest': 1, 'swoopstake': 1, 'Winner': 1, 'liferendring': 1, 'Repast': 1, 'Adown': 1, 'adown': 1, 'pansies': 1, 'document': 1, 'columbines': 1, 'daisy': 1, 'prettiness': 1, 'flaxen': 1, 'amercy': 1, 'hatchment': 1, 'Seafaring': 1, 'greeted': 1, 'overlookd': 1, 'compelled': 1, 'Pursued': 1, 'crimeful': 1, 'seein': 1, 'unsinewd': 1, 'dipping': 1, 'turneth': 1, 'ReadsHigh': 1, 'MightyYou': 1, 'didest': 1, 'checking': 1, 'uncharge': 1, 'needfull': 1, 'Thin': 1, 'graveness': 1, 'incorpsd': 1, 'deminaturd': 1, 'Lamound': 1, 'scrimers': 1, 'envenom': 1, 'qualifies': 1, 'wick': 1, 'plurisy': 1, 'toomuch': 1, 'abatements': 1, 'sanctuarize': 1, 'cataplasm': 1, 'cunnings': 1, 'bouts': 1, 'sipping': 1, 'aslant': 1, 'crowflowers': 1, 'purples': 1, 'weedy': 1, 'mermaidlike': 1, 'chaunted': 1, 'Pulld': 1, 'douts': 1, 'spades': 1, 'offendendo': 1, 'branchesit': 1, 'argal': 1, 'Delver': 1, 'crowners': 1, 'evenChristen': 1, 'gardners': 1, 'ditchers': 1, 'gravemakers': 1, 'answerest': 1, 'gallowsmaker': 1, 'unyoke': 1, 'Cudgel': 1, 'Yaughan': 1, 'digs': 1, 'gravemaking': 1, 'Property': 1, 'daintier': 1, 'clawed': 1, 'shipped': 1, 'intil': 1, 'jowls': 1, 'groundas': 1, 'jawbone': 1, 'Politician': 1, 'oerreaches': 1, 'circumvent': 1, 'Suchaone': 1, 'Suchaones': 1, 'Worms': 1, 'loggets': 1, 'pickaxe': 1, 'shrouding': 1, 'Pit': 1, 'quiddits': 1, 'tenures': 1, 'shovel': 1, 'recognizances': 1, 'purchases': 1, 'sheepskins': 1, 'calveskins': 1, 'pocky': 1, 'tannd': 1, 'decayer': 1, 'lien': 1, 'threeandtwenty': 1, 'flagon': 1, 'Yoricks': 1, 'Yorick': 1, 'chap': 1, 'Pah': 1, 'stopping': 1, 'bunghole': 1, 'barrel': 1, 'maimed': 1, 'betoken': 1, 'Fordo': 1, 'Couch': 1, 'enlargd': 1, 'Shards': 1, 'flints': 1, 'crants': 1, 'strewments': 1, 'requiem': 1, 'peaceparted': 1, 'unpolluted': 1, 'ministring': 1, 'Scatters': 1, 'skyish': 1, 'Conjures': 1, 'wonderwounded': 1, 'prayst': 1, 'splenitive': 1, 'thein': 1, 'esill': 1, 'Singeing': 1, 'zone': 1, 'Ossa': 1, 'rant': 1, 'couplets': 1, 'Strengthen': 1, 'bilboes': 1, 'Rashly': 1, 'Roughhew': 1, 'seagown': 1, 'scarfd': 1, 'Gropd': 1, 'Fingerd': 1, 'benetted': 1, 'statists': 1, 'yeomans': 1, 'wheaten': 1, 'ordinant': 1, 'Folded': 1, 'whord': 1, 'Poppd': 1, 'coznage': 1, 'portraiture': 1, 'towring': 1, 'waterfly': 1, 'crib': 1, 'northerly': 1, 'definement': 1, 'inventorially': 1, 'dozy': 1, 'yaw': 1, 'extolment': 1, 'diction': 1, 'umbrage': 1, 'concernancy': 1, 'rawer': 1, 'really': 1, 'unfellowed': 1, 'Rapier': 1, 'responsive': 1, 'liberalconceited': 1, 'drossy': 1, 'trialthe': 1, 'whensoever': 1, 'gaingiving': 1, 'flagons': 1, 'pardont': 1, 'Roughly': 1, 'disclaiming': 1, 'reconcilement': 1, 'ungord': 1, 'betterd': 1, 'stoups': 1, 'kettle': 1, 'confesst': 1, 'scuffling': 1, 'Treachery': 1, 'Unbated': 1, 'Hurts': 1, 'mutes': 1, 'Absent': 1, 'oercrows': 1, 'occurrents': 1, 'unknowing': 1, 'inventors': 1, 'loudly': 1, 'SCENEEngland': 1, 'stronds': 1, 'trenching': 1, 'flowrets': 1, 'illsheathed': 1, 'naild': 1, 'forwarding': 1, 'Leading': 1, 'Welshwomen': 1, 'Brake': 1, 'Holyrood': 1, 'evervaliant': 1, 'trueindustrious': 1, 'Balkd': 1, 'Holmedons': 1, 'Athol': 1, 'Murray': 1, 'straightest': 1, 'nighttripping': 1, 'Malevolent': 1, 'apartment': 1, 'fatwitted': 1, 'unbuttoning': 1, 'wouldest': 1, 'flamecoloured': 1, 'GraceMajesty': 1, 'Shade': 1, 'Minions': 1, 'ridge': 1, 'quiddities': 1, 'gibcat': 1, 'luggd': 1, 'Lincolnshire': 1, 'Ditch': 1, 'rascalliest': 1, 'talked': 1, 'pursetaking': 1, 'Sugar': 1, 'soldest': 1, 'Madeira': 1, 'gong': 1, 'Yedward': 1, 'Allhallown': 1, 'waylaid': 1, 'immask': 1, 'incomprehensible': 1, 'mists': 1, 'holidays': 1, 'wishdfor': 1, 'falsify': 1, 'glittring': 1, 'attract': 1, 'Redeeming': 1, 'Tou': 1, 'trimly': 1, 'pouncet': 1, 'slovenly': 1, 'smarting': 1, 'popingay': 1, 'neglectingly': 1, 'sovereignest': 1, 'parmacity': 1, 'saltpetre': 1, 'unjointed': 1, 'reasonably': 1, 'proviso': 1, 'Revolted': 1, 'sedgy': 1, 'Bloodstained': 1, 'cohabitants': 1, 'Colour': 1, 'downtrod': 1, 'unthankful': 1, 'Trembling': 1, 'subtile': 1, 'underwent': 1, 'jeering': 1, 'quickconceiving': 1, 'oerwalk': 1, 'unsteadfast': 1, 'Imagination': 1, 'corrival': 1, 'Forbade': 1, 'holloa': 1, 'starling': 1, 'swordandbuckler': 1, 'waspstung': 1, 'Nettled': 1, 'pismires': 1, 'GIoucestershire': 1, 'wain': 1, 'Ost': 1, 'cess': 1, 'Peas': 1, 'beans': 1, 'upside': 1, 'Ostler': 1, 'joyed': 1, 'chamberlye': 1, 'loach': 1, 'gammon': 1, 'razes': 1, 'Charing': 1, 'turkeys': 1, 'pannier': 1, 'Mugs': 1, 'variest': 1, 'franklin': 1, 'Wild': 1, 'worshippest': 1, 'landrakers': 1, 'longstaff': 1, 'sixpenny': 1, 'strikers': 1, 'purplehued': 1, 'tranquillity': 1, 'burgomasters': 1, 'oneyers': 1, 'liquord': 1, 'cocksure': 1, 'homo': 1, 'gummd': 1, 'fatkidneyd': 1, 'thiefs': 1, 'chewed': 1, 'stonyhearted': 1, 'Whew': 1, 'fatguts': 1, 'levers': 1, 'uncolted': 1, 'heirapparent': 1, 'peach': 1, 'fortward': 1, 'Case': 1, 'Paunch': 1, 'baconfed': 1, 'gorbellied': 1, 'chuffs': 1, 'bacons': 1, 'grandjurors': 1, 'jure': 1, 'THey': 1, 'awasy': 1, 'unsorted': 1, 'lackbrain': 1, 'frostyspirited': 1, 'skim': 1, 'thickeyd': 1, 'bounding': 1, 'sallies': 1, 'palisadoes': 1, 'parapets': 1, 'culverin': 1, 'latedisturbed': 1, 'Gilliams': 1, 'cropear': 1, 'madheaded': 1, 'paraquito': 1, 'trifler': 1, 'mammets': 1, 'fatroom': 1, 'loggerheads': 1, 'hogsheads': 1, 'bassstring': 1, 'Corinthian': 1, 'watering': 1, 'proficient': 1, 'underskinker': 1, 'Score': 1, 'Halfmoon': 1, 'byroom': 1, 'Pomgarnet': 1, 'clinking': 1, 'leathernjerkin': 1, 'crystalbutton': 1, 'notpated': 1, 'agatering': 1, 'pukestocking': 1, 'caddisgarter': 1, 'smoothtongue': 1, 'Spanishpouch': 1, 'canvas': 1, 'Vint': 1, 'halfadozen': 1, 'upstairs': 1, 'downstairs': 1, 'Rivo': 1, 'Pitifulhearted': 1, 'roguery': 1, 'shotten': 1, 'unhangd': 1, 'woolsack': 1, 'drunkst': 1, 'halfsword': 1, 'ecce': 1, 'signum': 1, 'Sixteen': 1, 'Ebrew': 1, 'bunch': 1, 'twoleggd': 1, 'afront': 1, 'claybraind': 1, 'knottypated': 1, 'tallowcatch': 1, 'strappado': 1, 'bedpresser': 1, 'horsebackbreaker': 1, 'elfskin': 1, 'neatstongue': 1, 'sizzle': 1, 'bowcase': 1, 'bullcalf': 1, 'Instinct': 1, 'speargrass': 1, 'beslubber': 1, 'stolest': 1, 'barebone': 1, 'aldermans': 1, 'thumbring': 1, 'bladder': 1, 'Bracy': 1, 'Amamon': 1, 'perpendicular': 1, 'Ahorseback': 1, 'bluecaps': 1, 'mackrel': 1, 'buffeting': 1, 'trading': 1, 'Cambyses': 1, 'trickling': 1, 'floodgates': 1, 'pintpot': 1, 'ticklebrain': 1, 'spendest': 1, 'camomile': 1, 'micher': 1, 'corpulent': 1, 'deceiveth': 1, 'peremptorily': 1, 'gravely': 1, 'majestically': 1, 'rabbitsucker': 1, 'poulters': 1, 'Swearest': 1, 'hutch': 1, 'beastliness': 1, 'swolln': 1, 'dropsies': 1, 'Manningtree': 1, 'kine': 1, 'plump': 1, 'searcheth': 1, 'findeth': 1, 'Sauce': 1, 'iiii': 1, 'gallons': 1, 'v': 1, 'viii': 1, 'Anchovies': 1, 'vi': 1, 'Bread': 1, 'ob': 1, 'halfpennyworth': 1, 'Bangor': 1, 'Archdeacons': 1, 'wisheth': 1, 'cressets': 1, 'Shakd': 1, 'kittend': 1, 'Diseased': 1, 'imprisoning': 1, 'beldame': 1, 'Steeples': 1, 'mossgrown': 1, 'crossings': 1, 'herds': 1, 'sandybottomd': 1, 'weatherbeaten': 1, 'Archdeacon': 1, 'tripartite': 1, 'cranking': 1, 'Gelding': 1, 'trench': 1, 'kitten': 1, 'balletmongers': 1, 'canstick': 1, 'doteth': 1, 'moldwarp': 1, 'finless': 1, 'clipwingd': 1, 'moulten': 1, 'skimbleskamble': 1, 'concealments': 1, 'wilfulblame': 1, 'haughtiness': 1, 'Loseth': 1, 'Beguiling': 1, 'pourest': 1, 'Barley': 1, 'disputation': 1, 'bowr': 1, 'Charming': 1, 'heavenlyharnessd': 1, 'comfitmakers': 1, 'walkst': 1, 'Finsbury': 1, 'mouthfilling': 1, 'redbreastteacher': 1, 'revengement': 1, 'mistreadings': 1, 'extenuation': 1, 'pickthanks': 1, 'newsmongers': 1, 'Prophetically': 1, 'forethink': 1, 'commonhackneyd': 1, 'reputeless': 1, 'pontifical': 1, 'ambled': 1, 'jesters': 1, 'bavin': 1, 'carded': 1, 'capring': 1, 'Enfeoffd': 1, 'community': 1, 'Afford': 1, 'drowsd': 1, 'Slept': 1, 'glutted': 1, 'gorgd': 1, 'neverdying': 1, 'renowmed': 1, 'majority': 1, 'swathling': 1, 'Discomfited': 1, 'Enlarged': 1, 'Capitulate': 1, 'wheneer': 1, 'allpraised': 1, 'longgrown': 1, 'cancels': 1, 'peppercorn': 1, 'dicd': 1, 'Burning': 1, 'Lamp': 1, 'memento': 1, 'mori': 1, 'hellfire': 1, 'Dives': 1, 'ignis': 1, 'fatuus': 1, 'wildfire': 1, 'bonfirelight': 1, 'chandlers': 1, 'salamander': 1, 'twoandthirty': 1, 'enquird': 1, 'shavd': 1, 'Dowlas': 1, 'dowlas': 1, 'bolters': 1, 'bydrinkings': 1, 'fourandtwenty': 1, 'sneakcup': 1, 'Newgate': 1, 'eightpenny': 1, 'stewed': 1, 'deputys': 1, 'midriff': 1, 'memorandums': 1, 'longwinded': 1, 'heinously': 1, 'attribution': 1, 'soothers': 1, 'justling': 1, 'sightholes': 1, 'topsyturvy': 1, 'comrades': 1, 'plumd': 1, 'estridges': 1, 'Bated': 1, 'Glittering': 1, 'cushes': 1, 'mailed': 1, 'reprisal': 1, 'Doomsday': 1, 'halfyear': 1, 'Sutton': 1, 'Cofil': 1, 'Bald': 1, 'sousd': 1, 'gurnet': 1, 'misused': 1, 'damnably': 1, 'householders': 1, 'yeomens': 1, 'toastsandbutter': 1, 'ancients': 1, 'corporals': 1, 'Lazarus': 1, 'gluttons': 1, 'licked': 1, 'ostlers': 1, 'tradefalln': 1, 'Prodigals': 1, 'swinekeeping': 1, 'unloaded': 1, 'scarecrows': 1, 'halfshirt': 1, 'tackd': 1, 'rednose': 1, 'innkeeper': 1, 'Daventry': 1, 'quilt': 1, 'surd': 1, 'Fits': 1, 'wellrespected': 1, 'Vernons': 1, 'Worcesters': 1, 'journeybated': 1, 'exceedeth': 1, 'Audacious': 1, 'confesseth': 1, 'sixandtwenty': 1, 'unminded': 1, 'Swore': 1, 'Perceivd': 1, 'boroughs': 1, 'placid': 1, 'Disgracd': 1, 'Rated': 1, 'quickraised': 1, 'Meets': 1, 'Glendowers': 1, 'corrivals': 1, 'busky': 1, 'Theft': 1, 'allabhorred': 1, 'exhald': 1, 'portent': 1, 'lagend': 1, 'chewet': 1, 'outdare': 1, 'sufferances': 1, 'cuckoos': 1, 'Useth': 1, 'Sworn': 1, 'changelings': 1, 'hurlyburly': 1, 'impaint': 1, 'starving': 1, 'activevaliant': 1, 'valiantyoung': 1, 'Detraction': 1, 'misquote': 1, 'harebrained': 1, 'oathbreaking': 1, 'cital': 1, 'Esperance': 1, 'crossest': 1, 'yielder': 1, 'Semblably': 1, 'wardrop': 1, 'shotfree': 1, 'scoring': 1, 'ragofmuffins': 1, 'Rend': 1, 'bleedest': 1, 'ungrown': 1, 'Hydras': 1, 'luckily': 1, 'Shirley': 1, 'hearkned': 1, 'Illweavd': 1, 'ignominy': 1, 'spieth': 1, 'embowel': 1, 'termagant': 1, 'scot': 1, 'Illspirited': 1, 'Misuse': 1, 'hillhe': 1, 'pursuers': 1, 'ransomless': 1, 'Presenter': 1, 'Opposites': 1, 'KENT': 1, 'Irregular': 1, 'humourists': 1, 'Justices': 1, 'Sheriffs': 1, 'RALPH': 1, 'SIMON': 1, 'Beadles': 1, 'Grooms': 1, 'commenced': 1, 'Stuffing': 1, 'uncounted': 1, 'stilldiscordant': 1, 'wavring': 1, 'wellknown': 1, 'Quenching': 1, 'craftysick': 1, 'Rumours': 1, 'Blunts': 1, 'Cxsars': 1, 'overrode': 1, 'Umfrevile': 1, 'Outrode': 1, 'forspent': 1, 'Chester': 1, 'rowelhead': 1, 'Coldspur': 1, 'barony': 1, 'titleleaf': 1, 'ugliest': 1, 'spiritless': 1, 'woebegone': 1, 'Ending': 1, 'gainsaid': 1, 'Remembred': 1, 'Rendring': 1, 'outbreathd': 1, 'neverdaunted': 1, 'besttemperd': 1, 'aiming': 1, 'welllabouring': 1, 'Stumbling': 1, 'feverweakned': 1, 'Weakned': 1, 'scaly': 1, 'coif': 1, 'raggedst': 1, 'burier': 1, 'summd': 1, 'presurmise': 1, 'stiffborne': 1, 'ventured': 1, 'oerset': 1, 'queasiness': 1, 'Supposd': 1, 'Gasping': 1, 'aptest': 1, 'foolishcompounded': 1, 'inset': 1, 'fledge': 1, 'barber': 1, 'Dommelton': 1, 'Glutton': 1, 'Achitophel': 1, 'rascalyeaforsooth': 1, 'smoothpates': 1, 'takingup': 1, 'wivd': 1, 'robbry': 1, 'saltness': 1, 'tingling': 1, 'listening': 1, 'landservice': 1, 'slenderer': 1, 'oerposting': 1, 'costermongers': 1, 'berod': 1, 'pregnancy': 1, 'gooseberry': 1, 'capacities': 1, 'decreasing': 1, 'hallooing': 1, 'anthems': 1, 'sackcloth': 1, 'alway': 1, 'weekly': 1, 'ARCHBISHOPS': 1, 'bloodyfacd': 1, 'Conjecture': 1, 'Flattring': 1, 'desist': 1, 'surveyors': 1, 'partcreated': 1, 'stillborn': 1, 'Baying': 1, 'overgreedy': 1, 'howlst': 1, 'threwst': 1, 'Criest': 1, 'infinitive': 1, 'continuantly': 1, 'Piecorner': 1, 'Lubbers': 1, 'Lumbert': 1, 'Smooths': 1, 'silkman': 1, 'exion': 1, 'lone': 1, 'malmseynose': 1, 'bastardly': 1, 'manqueller': 1, 'womanqueller': 1, 'ta': 1, 'hempseed': 1, 'rampallian': 1, 'fustilarian': 1, 'hangst': 1, 'parcelgilt': 1, 'Wheeson': 1, 'singingman': 1, 'goodwife': 1, 'Keech': 1, 'prawns': 1, 'bookoath': 1, 'unpay': 1, 'sneap': 1, 'diningchambers': 1, 'Glasses': 1, 'waterwork': 1, 'bedhangers': 1, 'flybitten': 1, 'tapestries': 1, 'Basingstoke': 1, 'loiter': 1, 'discolours': 1, 'notprincely': 1, 'viz': 1, 'tenniscourtkeeper': 1, 'racket': 1, 'bawl': 1, 'midwives': 1, 'increases': 1, 'obduracy': 1, 'persistency': 1, 'roadway': 1, 'accites': 1, 'engraffed': 1, 'pottlepots': 1, 'alewifes': 1, 'peepd': 1, 'Althaeas': 1, 'martlemas': 1, 'borrowers': 1, 'Japhet': 1, 'certificate': 1, 'misuses': 1, 'Ephesians': 1, 'Sup': 1, 'descension': 1, 'brighten': 1, 'tardily': 1, 'unseconded': 1, 'oversights': 1, 'sprout': 1, 'stillstand': 1, 'thereapplejohns': 1, 'applejohn': 1, 'applejohns': 1, 'Sneaks': 1, 'uds': 1, 'DRAWERS': 1, 'temperality': 1, 'pulsidge': 1, 'Gluttony': 1, 'gluttony': 1, 'brooches': 1, 'ouches': 1, 'toasts': 1, 'confirmities': 1, 'Bourdeaux': 1, 'foulmouthdst': 1, 'pacify': 1, 'Tillyfally': 1, 'Tisick': 1, 'debuty': 1, 'Dumbe': 1, 'Cheater': 1, 'pistolproof': 1, 'cheating': 1, 'lacklinen': 1, 'bung': 1, 'cuttle': 1, 'baskethilt': 1, 'faitors': 1, 'Peesel': 1, 'beseek': 1, 'packhorses': 1, 'pamperd': 1, 'Troiant': 1, 'Calipolis': 1, 'tormente': 1, 'sperato': 1, 'contento': 1, 'broadsides': 1, 'etceteras': 1, 'Galloway': 1, 'nags': 1, 'Quoit': 1, 'shovegroat': 1, 'Untwine': 1, 'Atropos': 1, 'tirrits': 1, 'groin': 1, 'sweatst': 1, 'quicksilver': 1, 'followdst': 1, 'tidy': 1, 'boarpig': 1, 'mallet': 1, 'bigness': 1, 'quoits': 1, 'flapdragons': 1, 'joindstools': 1, 'Leg': 1, 'avoirdupois': 1, 'clawd': 1, 'Trigon': 1, 'counselkeeper': 1, 'busses': 1, 'kirtle': 1, 'aweeping': 1, 'Leaning': 1, 'candlemine': 1, 'breadchipper': 1, 'irrecoverable': 1, 'Lucifers': 1, 'privykitchen': 1, 'outbids': 1, 'victlers': 1, 'overtook': 1, 'unarmed': 1, 'unpickd': 1, 'twentynine': 1, 'peascodtime': 1, 'truerhearted': 1, 'blubberd': 1, 'frightened': 1, 'cribs': 1, 'pallets': 1, 'stretching': 1, 'nightflies': 1, 'lulld': 1, 'leavst': 1, 'watchcase': 1, 'larumbell': 1, 'Curling': 1, 'deafing': 1, 'awakes': 1, 'seaboy': 1, 'calmest': 1, 'stillest': 1, 'Uneasy': 1, 'beachy': 1, 'Foretelling': 1, 'intreasured': 1, 'unseasoned': 1, 'stirrer': 1, 'goddaughter': 1, 'Ellen': 1, 'Doit': 1, 'Staffordshire': 1, 'Barnes': 1, 'Pickbone': 1, 'Squele': 1, 'Cotsole': 1, 'swingebucklers': 1, 'bonarobas': 1, 'Scoggins': 1, 'Stockfish': 1, 'fruiterer': 1, 'Grays': 1, 'Psalmist': 1, 'Stamford': 1, 'betted': 1, 'Thereafter': 1, 'backsword': 1, 'accommodo': 1, 'Phrase': 1, 'beingwhereby': 1, 'Surecard': 1, 'Rafe': 1, 'goodlimbd': 1, 'drudgery': 1, 'musterbook': 1, 'ringing': 1, 'bonaroba': 1, 'chimes': 1, 'watchword': 1, 'Corporate': 1, 'likeliest': 1, 'assemblance': 1, 'pewterers': 1, 'foeman': 1, 'penknife': 1, 'Warts': 1, 'tester': 1, 'Dagonet': 1, 'Rah': 1, 'Bounce': 1, 'Turnbull': 1, 'duer': 1, 'cheeseparing': 1, 'overscutchd': 1, 'carmen': 1, 'goodnights': 1, 'Tiltyard': 1, 'eelskin': 1, 'hautboy': 1, 'dace': 1, 'discoverers': 1, 'Newdated': 1, 'sortance': 1, 'overlive': 1, 'obstructions': 1, 'Concurring': 1, 'commotions': 1, 'bruises': 1, 'signiories': 1, 'wellremembred': 1, 'roused': 1, 'beavers': 1, 'doted': 1, 'insinewed': 1, 'Acquitted': 1, 'falsederived': 1, 'martyrs': 1, 'winnowd': 1, 'Revives': 1, 'enrooted': 1, 'unfasten': 1, 'fangless': 1, 'Encircled': 1, 'Cheering': 1, 'opener': 1, 'sanctities': 1, 'upswarmd': 1, 'misordred': 1, 'hydra': 1, 'aftertimes': 1, 'lavishly': 1, 'Wrested': 1, 'foreruns': 1, 'sportingplace': 1, 'shallowly': 1, 'Fondly': 1, 'Treasons': 1, 'yielderup': 1, 'foundred': 1, 'Dalea': 1, 'hooknosd': 1, 'RomeI': 1, 'bookd': 1, 'twopences': 1, 'oershine': 1, 'soberblooded': 1, 'overcool': 1, 'fishmeals': 1, 'cowardswhich': 1, 'inflammation': 1, 'sherrissack': 1, 'crudy': 1, 'forgetive': 1, 'warming': 1, 'pusillanimity': 1, 'illumineth': 1, 'commences': 1, 'Hereof': 1, 'tilld': 1, 'potations': 1, 'addict': 1, 'tempring': 1, 'bleedeth': 1, 'connected': 1, 'aconitum': 1, 'overspread': 1, 'Stretches': 1, 'thunguided': 1, 'fronting': 1, 'unsheathd': 1, 'shrieve': 1, 'mure': 1, 'Unfatherd': 1, 'sickd': 1, 'polishd': 1, 'biggen': 1, 'Snores': 1, 'scaldst': 1, 'weightless': 1, 'rigol': 1, 'plenteously': 1, 'conjoins': 1, 'overcareful': 1, 'strangeachieved': 1, 'thoughtful': 1, 'engrossments': 1, 'Washing': 1, 'eyedrops': 1, 'overwhelm': 1, 'hidst': 1, 'Peopled': 1, 'immortally': 1, 'Teacheth': 1, 'Preserving': 1, 'potable': 1, 'Accusing': 1, 'bypaths': 1, 'assistances': 1, 'Wounding': 1, 'Changes': 1, 'rightfully': 1, 'headland': 1, 'smiths': 1, 'shoeing': 1, 'ploughirons': 1, 'Williams': 1, 'Hinckley': 1, 'shortleggd': 1, 'hens': 1, 'kickshaws': 1, 'backbite': 1, 'backbitten': 1, 'Woncot': 1, 'Clement': 1, 'Perkes': 1, 'sawed': 1, 'quantities': 1, 'coherence': 1, 'justicelike': 1, 'curry': 1, 'intervallums': 1, 'hideously': 1, 'overturnd': 1, 'sorrier': 1, 'mix': 1, 'administration': 1, 'silencing': 1, 'considerance': 1, 'misbecame': 1, 'wellpractisd': 1, 'accite': 1, 'consigning': 1, 'pippin': 1, 'graffing': 1, 'caraways': 1, 'quotha': 1, 'roam': 1, 'Proface': 1, 'shrews': 1, 'Shrovetide': 1, 'leathercoats': 1, 'longa': 1, 'cabileros': 1, 'youR': 1, 'pottlepot': 1, 'liggens': 1, 'bumper': 1, 'Samingo': 1, 'Barson': 1, 'helterskelter': 1, 'Africa': 1, 'Helicons': 1, 'baffled': 1, 'Bezonian': 1, 'lambkin': 1, 'Fifths': 1, 'doublecharge': 1, 'Boot': 1, 'BEADLES': 1, 'whippingcheer': 1, 'Nuthook': 1, 'nuthook': 1, 'tripevisagd': 1, 'paperfacd': 1, 'bluebottle': 1, 'correctioner': 1, 'halfkirtles': 1, 'knighterrant': 1, 'bloodhound': 1, 'atomy': 1, 'GROOMS': 1, 'semper': 1, 'idem': 1, 'obsque': 1, 'nihil': 1, 'ebon': 1, 'Alectos': 1, 'Shoutswithin': 1, 'trumpetclangor': 1, 'surfeitswelld': 1, 'gormandizing': 1, 'foolborn': 1, 'misleaders': 1, 'competence': 1, 'advancements': 1, 'Fleet': 1, 'tormenta': 1, 'spero': 1, 'conversations': 1, 'paymentto': 1, 'Oldcastle': 1, 'HARFLEUR': 1, 'Leashd': 1, 'Crouch': 1, 'unraised': 1, 'cockpit': 1, 'casques': 1, 'Attest': 1, 'ciphers': 1, 'monarchies': 1, 'upreared': 1, 'abutting': 1, 'Piece': 1, 'Printing': 1, 'jumping': 1, 'accomplishment': 1, 'prologuelike': 1, 'indigent': 1, 'almshouses': 1, 'Consideration': 1, 'Tenvelop': 1, 'currance': 1, 'Hydraheaded': 1, 'wilfulnes': 1, 'alladmiring': 1, 'charterd': 1, 'lurketh': 1, 'honeyd': 1, 'practic': 1, 'unletterd': 1, 'strawberry': 1, 'Neighbourd': 1, 'crescive': 1, 'Incline': 1, 'swaying': 1, 'exhibiters': 1, 'unhidden': 1, 'Derivd': 1, 'Cravd': 1, 'miscreate': 1, 'Suits': 1, 'impawn': 1, 'terram': 1, 'Salicam': 1, 'mulieres': 1, 'succedant': 1, 'Establishd': 1, 'inheritrix': 1, 'Meisen': 1, 'defunction': 1, 'Idly': 1, 'Childeric': 1, 'Blithild': 1, 'Clothair': 1, 'Conveyd': 1, 'Lingare': 1, 'Tenth': 1, 'Ermengare': 1, 'reunited': 1, 'Pepins': 1, 'Capets': 1, 'claiming': 1, 'imbar': 1, 'Usurpd': 1, 'Numbers': 1, 'greatgrandsires': 1, 'invoke': 1, 'greatuncles': 1, 'thricepuissant': 1, 'Maymorn': 1, 'Ripe': 1, 'paviliond': 1, 'spiritualty': 1, 'pilfering': 1, 'borderers': 1, 'snatchers': 1, 'Galling': 1, 'Girdling': 1, 'exampled': 1, 'impounded': 1, 'sumless': 1, 'treasuries': 1, 'Congreeing': 1, 'tentroyal': 1, 'surveys': 1, 'masons': 1, 'sadeyd': 1, 'Delivering': 1, 'contrariously': 1, 'worried': 1, 'Ruling': 1, 'Tombless': 1, 'uncurbed': 1, 'predecessor': 1, 'Tennisballs': 1, 'rackets': 1, 'wrangler': 1, 'chaces': 1, 'workingdays': 1, 'gunstones': 1, 'ungotten': 1, 'wellhallowd': 1, 'furthrance': 1, 'Mercuries': 1, 'Expectation': 1, 'Promisd': 1, 'divert': 1, 'Linger': 1, 'CORPORAL': 1, 'Lett': 1, 'tike': 1, 'prickeard': 1, 'Solus': 1, 'mervailous': 1, 'flashing': 1, 'thaes': 1, 'forefoot': 1, 'powdring': 1, 'warmingpan': 1, 'sutler': 1, 'accrue': 1, 'cash': 1, 'tertian': 1, 'corroborate': 1, 'lambkins': 1, 'councilchamber': 1, 'interception': 1, 'dulld': 1, 'heartgrief': 1, 'uneasines': 1, 'Enlarge': 1, 'chewd': 1, 'commissioners': 1, 'cowarded': 1, 'worrying': 1, 'appertinents': 1, 'extract': 1, 'yokedevils': 1, 'Working': 1, 'whoop': 1, 'bungle': 1, 'fetchd': 1, 'demon': 1, 'gulld': 1, 'Englishmans': 1, 'Constant': 1, 'Prevented': 1, 'beginnings': 1, 'Staines': 1, 'wheresomeer': 1, 'christom': 1, 'babbld': 1, 'chattles': 1, 'Pitch': 1, 'wafercakes': 1, 'Holdfast': 1, 'Caveto': 1, 'crystals': 1, 'Yokefellows': 1, 'horseleeches': 1, 'BERRI': 1, 'morrisdance': 1, 'Covering': 1, 'ordure': 1, 'projection': 1, 'scanting': 1, 'Cressy': 1, 'fatally': 1, 'capdvd': 1, 'Mangle': 1, 'Selflove': 1, 'selfneglecting': 1, 'widestretched': 1, 'wormholes': 1, 'longvanishd': 1, 'rakd': 1, 'demonstrative': 1, 'misbecome': 1, 'Sweeten': 1, 'womby': 1, 'vaultages': 1, 'greener': 1, 'pier': 1, 'Embark': 1, 'streamers': 1, 'Phorbus': 1, 'furrowed': 1, 'Breasting': 1, 'rivage': 1, 'sternage': 1, 'Guarded': 1, 'choicedrawn': 1, 'cavaliers': 1, 'Stiffen': 1, 'portage': 1, 'Oerhang': 1, 'Swilld': 1, 'warproof': 1, 'wouid': 1, 'swashers': 1, 'whiteliverd': 1, 'redfacd': 1, 'lutecase': 1, 'fireshovel': 1, 'pocketing': 1, 'concavities': 1, 'digt': 1, 'countermines': 1, 'plow': 1, 'vallant': 1, 'puppydog': 1, 'falorous': 1, 'pioneers': 1, 'trompet': 1, 'blowed': 1, 'voutsafe': 1, 'disputations': 1, 'feith': 1, 'leve': 1, 'theise': 1, 'slomber': 1, 'ayll': 1, 'lig': 1, 'grund': 1, 'payt': 1, 'valorously': 1, 'suerly': 1, 'breff': 1, 'wad': 1, 'tway': 1, 'Ish': 1, 'derivation': 1, 'particularities': 1, 'halfachieved': 1, 'Arrayd': 1, 'Enlinkd': 1, 'wickednes': 1, 'Leviathan': 1, 'Oerblows': 1, 'shrillshrieking': 1, 'spitted': 1, 'bloodyhunting': 1, 'ete': 1, 'Angleterre': 1, 'parles': 1, 'langage': 1, 'Un': 1, 'prie': 1, 'menseignez': 1, 'faut': 1, 'japprenne': 1, 'parler': 1, 'Elle': 1, 'appelee': 1, 'mais': 1, 'souviendrai': 1, 'quils': 1, 'appeles': 1, 'oui': 1, 'ecolier': 1, 'jai': 1, 'gagne': 1, 'dAnglais': 1, 'vitement': 1, 'Nous': 1, 'appelons': 1, 'ditesmoi': 1, 'si': 1, 'dit': 1, 'Ditesmoi': 1, 'coude': 1, 'fais': 1, 'tous': 1, 'mavez': 1, 'appris': 1, 'trop': 1, 'difficile': 1, 'comme': 1, 'Excusezmoi': 1, 'ecoutez': 1, 'darma': 1, 'bilbow': 1, 'verite': 1, 'prononcez': 1, 'droit': 1, 'natifs': 1, 'doute': 1, 'dapprendre': 1, 'temps': 1, 'Navezvous': 1, 'deja': 1, 'ai': 1, 'enseigne': 1, 'promptement': 1, 'mails': 1, 'ilbow': 1, 'Ainsi': 1, 'disje': 1, 'ils': 1, 'mauvais': 1, 'corruptible': 1, 'impudique': 1, 'dhonneur': 1, 'duser': 1, 'voudrais': 1, 'prononcer': 1, 'ces': 1, 'seigneurs': 1, 'Neanmoins': 1, 'autre': 1, 'lecon': 1, 'ensemble': 1, 'darm': 1, 'assez': 1, 'allonsnous': 1, 'diner': 1, 'Somme': 1, 'vivant': 1, 'scions': 1, 'Spirt': 1, 'grafters': 1, 'Unfought': 1, 'slobbry': 1, 'nookshotten': 1, 'batailles': 1, 'sodden': 1, 'surreind': 1, 'barleybroth': 1, 'Decoct': 1, 'spirited': 1, 'roping': 1, 'newstore': 1, 'dancingschools': 1, 'lavoltas': 1, 'corantos': 1, 'Alengon': 1, 'Charolois': 1, 'pennons': 1, 'buxom': 1, 'hemp': 1, 'windpipe': 1, 'newtuned': 1, 'alewashd': 1, 'bubukles': 1, 'whelks': 1, 'knobs': 1, 'plue': 1, 'rebukd': 1, 'reanswer': 1, 'pettiness': 1, 'lessend': 1, 'Discolour': 1, 'pasterns': 1, 'Ca': 1, 'volant': 1, 'chez': 1, 'narines': 1, 'Hermes': 1, 'fluent': 1, 'strossers': 1, 'chien': 1, 'retourne': 1, 'propre': 1, 'vomissement': 1, 'truie': 1, 'lavee': 1, 'bourbier': 1, 'superfluously': 1, 'dismounted': 1, 'Illwind': 1, 'fatbraind': 1, 'headpieces': 1, 'poring': 1, 'stilly': 1, 'umberd': 1, 'Steed': 1, 'boastful': 1, 'accomplishing': 1, 'lowrated': 1, 'tardygaited': 1, 'Investing': 1, 'lanklean': 1, 'warworn': 1, 'Walking': 1, 'enrounded': 1, 'allwatched': 1, 'overbears': 1, 'Beholding': 1, 'Thawing': 1, 'Minding': 1, 'mockries': 1, 'observingly': 1, 'stirrers': 1, 'preachers': 1, 'admonishing': 1, 'quickned': 1, 'casted': 1, 'legerity': 1, 'va': 1, 'Trailst': 1, 'heartstring': 1, 'prerogatifes': 1, 'tiddletaddle': 1, 'pibblepabble': 1, 'Bates': 1, 'dishearten': 1, 'wipes': 1, 'rawly': 1, 'charitably': 1, 'sinfully': 1, 'irreconcild': 1, 'iniquities': 1, 'gored': 1, 'beforebreach': 1, 'impieties': 1, 'eldergun': 1, 'clipper': 1, 'Twinborn': 1, 'comingsin': 1, 'Thinks': 1, 'adulation': 1, 'intertissued': 1, 'farced': 1, 'Sweats': 1, 'Pheebus': 1, 'everrunning': 1, 'Winding': 1, 'Enjoys': 1, 'Collect': 1, 'contrite': 1, 'chantries': 1, 'Imploring': 1, 'Montez': 1, 'laquais': 1, 'eaux': 1, 'terre': 1, 'Rien': 1, 'puis': 1, 'Lair': 1, 'Ciel': 1, 'shales': 1, 'sonance': 1, 'Illfavouredly': 1, 'candlesticks': 1, 'torchstaves': 1, 'Lob': 1, 'downroping': 1, 'paledead': 1, 'gimmald': 1, 'chawd': 1, 'motionless': 1, 'Description': 1, 'guidon': 1, 'vigil': 1, 'Crispians': 1, 'nowabed': 1, 'Crispins': 1, 'unwishd': 1, 'abounding': 1, 'relapse': 1, 'gayness': 1, 'besmirchd': 1, 'slovenry': 1, 'qualite': 1, 'Cality': 1, 'Calen': 1, 'custure': 1, 'prenez': 1, 'misericorde': 1, 'ayez': 1, 'pitie': 1, 'Moy': 1, 'rim': 1, 'Estil': 1, 'dechapper': 1, 'Brass': 1, 'mountaingoat': 1, 'Offerst': 1, 'pardonnezmoi': 1, 'etesvous': 1, 'appele': 1, 'commande': 1, 'faites': 1, 'pret': 1, 'soldat': 1, 'ici': 1, 'cette': 1, 'heure': 1, 'couper': 1, 'Owy': 1, 'cuppele': 1, 'permafoy': 1, 'lamour': 1, 'maison': 1, 'Gardez': 1, 'donnerai': 1, 'cents': 1, 'Petit': 1, 'Encore': 1, 'quil': 1, 'contre': 1, 'jurement': 1, 'aucun': 1, 'prisonnier': 1, 'neamnoins': 1, 'lavez': 1, 'promis': 1, 'donner': 1, 'liberte': 1, 'franchisement': 1, 'Sur': 1, 'genoux': 1, 'donne': 1, 'mille': 1, 'remercimens': 1, 'mestime': 1, 'heureux': 1, 'tombe': 1, 'entre': 1, 'mains': 1, 'vaillant': 1, 'distingue': 1, 'Expound': 1, 'signieur': 1, 'Suivezvous': 1, 'capitaine': 1, 'adventurously': 1, 'mechante': 1, 'chamberdoor': 1, 'Larding': 1, 'Yokefellow': 1, 'honourowing': 1, 'haggled': 1, 'insteeped': 1, 'wellfoughten': 1, 'grip': 1, 'nobleending': 1, 'mistful': 1, 'reinforcd': 1, 'poys': 1, 'offert': 1, 'Pig': 1, 'variations': 1, 'situations': 1, 'furies': 1, 'cholers': 1, 'indignations': 1, 'intoxicates': 1, 'gipes': 1, 'Enforced': 1, 'soakd': 1, 'fetlock': 1, 'Yerk': 1, 'Fought': 1, 'Crispianus': 1, 'Plack': 1, 'pattle': 1, 'Tavys': 1, 'plood': 1, 'Jeshu': 1, 'swaggerd': 1, 'Lucifier': 1, 'Jacksauce': 1, 'literatured': 1, 'aggriefd': 1, 'HENRYS': 1, 'PAVILION': 1, 'plows': 1, 'avouchment': 1, 'promisedst': 1, 'prawls': 1, 'dissensions': 1, 'pashful': 1, 'silling': 1, 'mercenaries': 1, 'Guichard': 1, 'Marle': 1, 'Kikely': 1, 'Gam': 1, 'Ascribe': 1, 'acknowledgment': 1, 'nobis': 1, 'enclosd': 1, 'Heave': 1, 'Pales': 1, 'outvoice': 1, 'whiffler': 1, 'selfglorious': 1, 'workinghouse': 1, 'swarming': 1, 'occurrences': 1, 'backreturn': 1, 'pragging': 1, 'pread': 1, 'contendon': 1, 'swellings': 1, 'turkeycocks': 1, 'Parcas': 1, 'qualmish': 1, 'peseech': 1, 'Cadwallader': 1, 'mountainsquire': 1, 'ploody': 1, 'ambiguides': 1, 'woodmonger': 1, 'couterfeit': 1, 'predeceased': 1, 'gleeking': 1, 'galling': 1, 'congreeted': 1, 'plenties': 1, 'Corrupting': 1, 'cheerer': 1, 'Unpruned': 1, 'evenpleachd': 1, 'overgrown': 1, 'darnel': 1, 'fumitory': 1, 'coulter': 1, 'rusts': 1, 'freckled': 1, 'burnet': 1, 'clover': 1, 'uncorrected': 1, 'thistles': 1, 'kecksies': 1, 'utility': 1, 'fallows': 1, 'Defective': 1, 'favout': 1, 'inconveniences': 1, 'tenours': 1, 'enscheduld': 1, 'cursorary': 1, 'Oerglanced': 1, 'Huntington': 1, 'Augment': 1, 'advantageable': 1, 'comprisd': 1, 'forerank': 1, 'brokenly': 1, 'Pardonnezmoi': 1, 'anges': 1, 'sauf': 1, 'ainsi': 1, 'langues': 1, 'hommes': 1, 'pleines': 1, 'tromperies': 1, 'Englishwoman': 1, 'leapfrog': 1, 'cloquence': 1, 'sunburning': 1, 'uncoined': 1, 'prater': 1, 'sould': 1, 'sur': 1, 'avez': 1, 'donc': 1, 'mienne': 1, 'Francais': 1, 'parlez': 1, 'meilleur': 1, 'lequel': 1, 'mercifully': 1, 'soldierbreeder': 1, 'Constantinople': 1, 'belle': 1, 'divin': 1, 'deesse': 1, 'ave': 1, 'fausse': 1, 'damoiselle': 1, 'untempering': 1, 'layerup': 1, 'pere': 1, 'Den': 1, 'Laissez': 1, 'veux': 1, 'abaissiez': 1, 'grandeur': 1, 'baisant': 1, 'dune': 1, 'notre': 1, 'indigne': 1, 'excusezmoi': 1, 'demoiselles': 1, 'etre': 1, 'baisees': 1, 'leur': 1, 'noces': 1, 'coutume': 1, 'Madame': 1, 'baiser': 1, 'Anglish': 1, 'entendre': 1, 'bettre': 1, 'makers': 1, 'findfaults': 1, 'upholding': 1, 'POWER': 1, 'frankness': 1, 'rosd': 1, 'summerd': 1, 'Bartholomewtide': 1, 'perspectively': 1, 'subscribed': 1, 'Notre': 1, 'fils': 1, 'Henri': 1, 'Roi': 1, 'Heritier': 1, 'Praeclarissimus': 1, 'filius': 1, 'noster': 1, 'Henricus': 1, 'Angliae': 1, 'Haeres': 1, 'Franciae': 1, 'Issue': 1, 'Floulish': 1, 'paction': 1, 'allunable': 1, 'Mangling': 1, 'SHREWSBURY': 1, 'ANJOU': 1, 'titular': 1, 'FORCES': 1, 'ARC': 1, 'Warders': 1, 'Fiends': 1, 'Comets': 1, 'Brandish': 1, 'glorys': 1, 'subtlewitted': 1, 'Conjurers': 1, 'Hosts': 1, 'Churchs': 1, 'overawe': 1, 'lookest': 1, 'Posterity': 1, 'moistned': 1, 'Combat': 1, 'discomfiture': 1, 'Guienne': 1, 'Champagne': 1, 'Guysors': 1, 'muttered': 1, 'disputing': 1, 'newbegot': 1, 'Croppd': 1, 'disgraceful': 1, 'intermissive': 1, 'doubtst': 1, 'overrun': 1, 'encompassed': 1, 'enrank': 1, 'confusedly': 1, 'Enacted': 1, 'Hundreds': 1, 'agazd': 1, 'Enclosed': 1, 'Walloon': 1, 'Bonfires': 1, 'craveth': 1, 'Otherwhiles': 1, 'Faintly': 1, 'Froissart': 1, 'Olivers': 1, 'Goliases': 1, 'sendeth': 1, 'rawbond': 1, 'harebraind': 1, 'gimmers': 1, 'appalld': 1, 'Ordained': 1, 'sibyls': 1, 'unfallible': 1, 'untraind': 1, 'deigned': 1, 'Willd': 1, 'infusd': 1, 'unpremeditated': 1, 'vanquishest': 1, 'keenedgd': 1, 'Katherines': 1, 'overcomes': 1, 'fightest': 1, 'Deborah': 1, 'Impatiently': 1, 'sueth': 1, 'shrives': 1, 'distrustful': 1, 'Assignd': 1, 'Martins': 1, 'ceaseth': 1, 'Dispersed': 1, 'Mahomet': 1, 'Constantine': 1, 'Philips': 1, 'immortalizd': 1, 'imperiously': 1, 'willed': 1, 'warrantize': 1, 'prizest': 1, 'Arrogant': 1, 'PROTECTOR': 1, 'Humphry': 1, 'Peeld': 1, 'proditor': 1, 'contrivedst': 1, 'indulgences': 1, 'Damascus': 1, 'Abel': 1, 'Bluecoats': 1, 'contumeliously': 1, 'Oercharging': 1, 'dwellingplaces': 1, 'mastergunner': 1, 'intrenchd': 1, 'Wont': 1, 'inconvenience': 1, 'spyst': 1, 'Governors': 1, 'Ponton': 1, 'Santrailles': 1, 'barterd': 1, 'disdaining': 1, 'craved': 1, 'fists': 1, 'minutewhile': 1, 'Glansdale': 1, 'skirmishes': 1, 'oercame': 1, 'vieweth': 1, 'avenge': 1, 'lifteth': 1, 'puzzel': 1, 'dogfish': 1, 'pursueth': 1, 'chaseth': 1, 'theethou': 1, 'whirled': 1, 'potters': 1, 'hives': 1, 'Renounce': 1, 'Sheep': 1, 'beretire': 1, 'Salisburys': 1, 'Rescud': 1, 'Divinest': 1, 'Astraeas': 1, 'bloomd': 1, 'Recoverd': 1, 'statelier': 1, 'pyramis': 1, 'Rhodopes': 1, 'Memphis': 1, 'jeweld': 1, 'Darius': 1, 'festivals': 1, 'SENTINELS': 1, 'Constraind': 1, 'Artois': 1, 'Wallon': 1, 'banqueted': 1, 'Contrivd': 1, 'Unready': 1, 'partakers': 1, 'Improvident': 1, 'precinct': 1, 'relieving': 1, 'platforms': 1, 'overveild': 1, 'newcome': 1, 'Rousd': 1, 'turtledoves': 1, 'applauded': 1, 'Auvergne': 1, 'unbidden': 1, 'welcomest': 1, 'Tomyris': 1, 'Cyrus': 1, 'cravd': 1, 'writhled': 1, 'abrupt': 1, 'certify': 1, 'Prisoner': 1, 'bloodthirsty': 1, 'Wasted': 1, 'Laughest': 1, 'contrarieties': 1, 'Winds': 1, 'yoketh': 1, 'Razeth': 1, 'subverts': 1, 'misconster': 1, 'significants': 1, 'objected': 1, 'witnessing': 1, 'crestless': 1, 'Garden': 1, 'decaying': 1, 'haled': 1, 'Nestorlike': 1, 'Argue': 1, 'Wax': 1, 'burdening': 1, 'pithless': 1, 'Unable': 1, 'Swiftwinged': 1, 'witting': 1, 'despairs': 1, 'firstbegotten': 1, 'Percies': 1, 'Endeavourd': 1, 'thatyoung': 1, 'heroic': 1, 'Succeeding': 1, 'Levied': 1, 'admonishments': 1, 'slaughterer': 1, 'Mourn': 1, 'overpassd': 1, 'Keepers': 1, 'pamphlets': 1, 'studiously': 1, 'intendst': 1, 'Verbatim': 1, 'Froward': 1, 'laidst': 1, 'sifted': 1, 'preferreth': 1, 'Unreverent': 1, 'Roam': 1, 'Uncles': 1, 'Civil': 1, 'Forbidden': 1, 'banding': 1, 'Skirmish': 1, 'Inferior': 1, 'Compassion': 1, 'serveth': 1, 'willeth': 1, 'reguerdon': 1, 'disanimates': 1, 'slothful': 1, 'rulers': 1, 'Paysans': 1, 'pauvres': 1, 'marketfolks': 1, 'marketbell': 1, 'practisants': 1, 'discernd': 1, 'joineth': 1, 'Talbotites': 1, 'turret': 1, 'Defer': 1, 'excursion': 1, 'darneldo': 1, 'Scoff': 1, 'Encompassd': 1, 'paramours': 1, 'Fitter': 1, 'crazy': 1, 'Pendragon': 1, 'Undaunted': 1, 'Warlike': 1, 'Enshrines': 1, 'erects': 1, 'gleeks': 1, 'Placing': 1, 'exequies': 1, 'Dismay': 1, 'remedied': 1, 'policies': 1, 'extirped': 1, 'expulsd': 1, 'Parisward': 1, 'overtedious': 1, 'mindand': 1, 'cannonshot': 1, 'fortresses': 1, 'walled': 1, 'Ascribes': 1, 'stouter': 1, 'reguerdond': 1, 'Disgracing': 1, 'Malicious': 1, 'installed': 1, 'Patay': 1, 'knighthoodyea': 1, 'Profaning': 1, 'hedgeborn': 1, 'Viewing': 1, 'Pretend': 1, 'Forsaken': 1, 'Crossing': 1, 'Upbraided': 1, 'stubbornly': 1, 'repugn': 1, 'Argud': 1, 'confutation': 1, 'Pronouncing': 1, 'Bewrayd': 1, 'faintness': 1, 'emulations': 1, 'disagree': 1, 'Prettily': 1, 'wist': 1, 'didbut': 1, 'shouldering': 1, 'sovereignvours': 1, 'quartering': 1, 'unconquerd': 1, 'parkd': 1, 'Mazd': 1, 'yelping': 1, 'rascallike': 1, 'moodymad': 1, 'louted': 1, 'Blois': 1, 'everliving': 1, 'TALBOTS': 1, 'unheedful': 1, 'ringd': 1, 'warwearied': 1, 'perisheth': 1, 'entrappd': 1, 'Flight': 1, 'severed': 1, 'boldfacd': 1, 'Quickend': 1, 'encountered': 1, 'Bespoke': 1, 'Contaminated': 1, 'purposing': 1, 'shortning': 1, 'Triumphant': 1, 'Dizzyeyd': 1, 'overmounting': 1, 'laughst': 1, 'lither': 1, 'hardfavoured': 1, 'inhearsed': 1, 'nurser': 1, 'Hew': 1, 'Gallias': 1, 'Submission': 1, 'Washford': 1, 'Waterford': 1, 'Valence': 1, 'Goodrig': 1, 'Urchinfield': 1, 'Blackmere': 1, 'Verdun': 1, 'Alton': 1, 'Wingfield': 1, 'Furnival': 1, 'Sheffield': 1, 'Fleece': 1, 'sillystately': 1, 'magnifist': 1, 'Stinking': 1, 'flyblown': 1, 'slainthe': 1, 'Nemesis': 1, 'eyebans': 1, 'putrefy': 1, 'stablish': 1, 'immanity': 1, 'PAPAL': 1, 'coequal': 1, 'inshippd': 1, 'Legate': 1, 'clothing': 1, 'Parisians': 1, 'accomplices': 1, 'repine': 1, 'periapts': 1, 'admonish': 1, 'helpers': 1, 'FIENDS': 1, 'overlong': 1, 'furtherance': 1, 'soulmy': 1, 'loftyplumed': 1, 'incantations': 1, 'droopeth': 1, 'Unchain': 1, 'spelling': 1, 'Circe': 1, 'Changd': 1, 'plaguing': 1, 'banning': 1, 'enchantress': 1, 'Gazes': 1, 'Napleswhosoeer': 1, 'allotted': 1, 'Twinkling': 1, 'ransomyea': 1, 'Captainare': 1, 'quid': 1, 'quo': 1, 'servility': 1, 'fickleness': 1, 'easyheld': 1, 'Minotaurs': 1, 'extinguish': 1, 'Decrepit': 1, 'bachlorship': 1, 'Graceless': 1, 'Wicked': 1, 'misconceived': 1, 'rigorously': 1, 'effusd': 1, 'fagots': 1, 'barrels': 1, 'shortened': 1, 'warranteth': 1, 'homicides': 1, 'preciseness': 1, 'deluded': 1, 'manywhom': 1, 'hencewith': 1, 'Environ': 1, 'implord': 1, 'Approacheth': 1, 'chokes': 1, 'Adorn': 1, 'unvanquishd': 1, 'Detract': 1, 'coveting': 1, 'garrison': 1, 'fruition': 1, 'preface': 1, 'fullreplete': 1, 'forsaketh': 1, 'attorneyship': 1, 'bindeth': 1, 'Whereas': 1, 'Approves': 1, 'perplexed': 1, 'MASTERS': 1, 'ROGER': 1, 'SAUNDER': 1, 'Beadle': 1, 'Prentices': 1, 'procurator': 1, 'Sicil': 1, 'Calaber': 1, 'Bretagne': 1, 'marquis': 1, 'alderliefest': 1, 'overjoy': 1, 'yclad': 1, 'thirtieth': 1, 'duchies': 1, 'Studied': 1, 'Bedfords': 1, 'cancelling': 1, 'Blotting': 1, 'Razing': 1, 'Defacing': 1, 'Undoing': 1, 'Nephew': 1, 'peroration': 1, 'Agrees': 1, 'dims': 1, 'dowries': 1, 'fifteenth': 1, 'Rancour': 1, 'bickerings': 1, 'Lordings': 1, 'Bewitch': 1, 'Clapping': 1, 'hoise': 1, 'Main': 1, 'Pirates': 1, 'Calydon': 1, 'churchlike': 1, 'dearbought': 1, 'overripend': 1, 'Gazing': 1, 'Enchasd': 1, 'officebadge': 1, 'cathedral': 1, 'illnurturd': 1, 'stumblingblocks': 1, 'Eie': 1, 'underground': 1, 'propounded': 1, 'conjurations': 1, 'attainture': 1, 'Sort': 1, 'PETITIONERS': 1, 'Armourers': 1, 'enclosing': 1, 'Melford': 1, 'township': 1, 'governance': 1, 'stolst': 1, 'apostles': 1, 'tiltyard': 1, 'canonized': 1, 'Contemptuous': 1, 'vaunted': 1, 'denayd': 1, 'regentship': 1, 'clergys': 1, 'extortions': 1, 'commandments': 1, 'hamper': 1, 'quadrangle': 1, 'meetest': 1, 'Image': 1, 'garret': 1, 'HORNER`': 1, 'prevaileth': 1, 'exorcisms': 1, 'Southwell': 1, 'bandogs': 1, 'Conjuro': 1, 'Adsum': 1, 'Asmath': 1, 'Beldam': 1, 'threatest': 1, 'Aio': 1, 'Aeacida': 1, 'Romanos': 1, 'vincere': 1, 'posse': 1, 'awaits': 1, 'smoothst': 1, 'Tantaene': 1, 'animis': 1, 'coelestibus': 1, 'irae': 1, 'Churchmen': 1, 'Protectorship': 1, 'twohand': 1, 'Talking': 1, 'shave': 1, 'Medice': 1, 'teipsum': 1, 'plums': 1, 'damsons': 1, 'Sight': 1, 'ringleader': 1, 'Dealing': 1, 'conjurers': 1, 'Raising': 1, 'Demanding': 1, 'Heaping': 1, 'tainture': 1, 'YORKS': 1, 'Seizd': 1, 'Harmless': 1, 'Succeed': 1, 'Lionels': 1, 'assures': 1, 'Despoiled': 1, 'judged': 1, 'ambitiously': 1, 'bested': 1, 'NEIGHBOURS': 1, 'PRENTICES': 1, 'charneco': 1, 'prentices': 1, 'Uneath': 1, 'tenderfeeling': 1, 'abrook': 1, 'tearstaind': 1, 'Maild': 1, 'deepfet': 1, 'Trowest': 1, 'pointingstock': 1, 'aimest': 1, 'crimeless': 1, 'Holden': 1, 'reproachfully': 1, 'unbowed': 1, 'shallowrooted': 1, 'oergrow': 1, 'allegation': 1, 'reputing': 1, 'instigate': 1, 'Smooth': 1, 'Unsounded': 1, 'Levy': 1, 'fraudful': 1, 'trialday': 1, 'dispursed': 1, 'garrisons': 1, 'defamd': 1, 'felonious': 1, 'fleecd': 1, 'suspense': 1, 'rancours': 1, 'unburdens': 1, 'liefest': 1, 'conventicles': 1, 'allegations': 1, 'envies': 1, 'subversion': 1, 'bewails': 1, 'unhelpful': 1, 'relenting': 1, 'rolld': 1, 'checkerd': 1, 'subtlety': 1, 'accordeth': 1, 'impugns': 1, 'farfet': 1, 'choicely': 1, 'Irishmen': 1, 'hopst': 1, 'meanborn': 1, 'Weaves': 1, 'madbred': 1, 'Kentishman': 1, 'tiff': 1, 'sharpquilld': 1, 'Morisco': 1, 'shaghaird': 1, 'conversed': 1, 'tortured': 1, 'inflict': 1, 'published': 1, 'straiter': 1, 'culpable': 1, 'Rear': 1, 'chirping': 1, 'gazer': 1, 'deathnow': 1, 'heartoffending': 1, 'bloodconsuming': 1, 'leper': 1, 'Erect': 1, 'Drove': 1, 'wellforewarning': 1, 'Aeolus': 1, 'prettyvaulting': 1, 'cowrd': 1, 'earnestgaping': 1, 'Ascanius': 1, 'witchd': 1, 'thricefamed': 1, 'timelyparted': 1, 'ashy': 1, 'Attracts': 1, 'aidance': 1, 'Staring': 1, 'wellproportiond': 1, 'puttocks': 1, 'unbloodied': 1, 'rusted': 1, 'Bluntwitted': 1, 'untutord': 1, 'Quitting': 1, 'meantst': 1, 'bloodsucker': 1, 'breastplate': 1, 'traitrous': 1, 'glided': 1, 'Ungentle': 1, 'boding': 1, 'darkseated': 1, 'tormentst': 1, 'surmisd': 1, 'Adventure': 1, 'Loather': 1, 'Blaspheming': 1, 'cradlebabe': 1, 'deathful': 1, 'cask': 1, 'BEAUFORTS': 1, 'Comb': 1, 'limetwigs': 1, 'Mover': 1, 'Disturb': 1, 'Cardnal': 1, 'Ordnance': 1, 'blabbing': 1, 'loudhowling': 1, 'arouse': 1, 'flagging': 1, 'Clip': 1, 'Downs': 1, 'Rate': 1, 'startst': 1, 'blur': 1, 'merchantlike': 1, 'Obscure': 1, 'voidinglobby': 1, 'longboats': 1, 'Troubles': 1, 'smildst': 1, 'Sylla': 1, 'overgorgd': 1, 'governors': 1, 'encroaching': 1, 'Invitis': 1, 'nubibus': 1, 'Bargulus': 1, 'Illyrian': 1, 'Drones': 1, 'beehives': 1, 'Channel': 1, 'Gelidus': 1, 'timor': 1, 'occupat': 1, 'artus': 1, 'Hale': 1, 'bezonians': 1, 'banditto': 1, 'Tully': 1, 'clothier': 1, 'handicraftsmen': 1, 'Bests': 1, 'Wingham': 1, 'iniquitys': 1, 'Smith': 1, 'Argo': 1, 'SAWYER': 1, 'cade': 1, 'Lacies': 1, 'laces': 1, 'loaves': 1, 'threehoopd': 1, 'scribbld': 1, 'Chatham': 1, 'obligations': 1, 'courthand': 1, 'Emmanuel': 1, 'silkencoated': 1, 'plasterer': 1, 'shearman': 1, 'gardener': 1, 'beggarwoman': 1, 'bricks': 1, 'spancounter': 1, 'furthermore': 1, 'maind': 1, 'Assail': 1, 'wivesand': 1, 'behavedst': 1, 'HUMPHREYS': 1, 'brigandine': 1, 'dragged': 1, 'mayors': 1, 'gaols': 1, 'softens': 1, 'throbbing': 1, 'Ruld': 1, 'thirsting': 1, 'Matthew': 1, 'Goffe': 1, 'Cannon': 1, 'claret': 1, 'Savoy': 1, 'stinks': 1, 'fifteens': 1, 'subsidy': 1, 'serge': 1, 'Basimecu': 1, 'besom': 1, 'erecting': 1, 'tally': 1, 'caused': 1, 'printing': 1, 'papermill': 1, 'noun': 1, 'verb': 1, 'oughtst': 1, 'bona': 1, 'mala': 1, 'Commentaries': 1, 'civilst': 1, 'Prayrs': 1, 'exacted': 1, 'parleyd': 1, 'struckst': 1, 'hatchet': 1, 'steadier': 1, 'behead': 1, 'extorted': 1, 'bloodshedding': 1, 'harbouring': 1, 'soninlaws': 1, 'Cromer': 1, 'poles': 1, 'capite': 1, 'defer': 1, 'maces': 1, 'Fish': 1, 'Magnus': 1, 'Corner': 1, 'Fling': 1, 'vanquish': 1, 'lording': 1, 'Villiago': 1, 'Cades': 1, 'Frenchmans': 1, 'middest': 1, 'terrace': 1, 'joyd': 1, 'infortunate': 1, 'proclaimeth': 1, 'redound': 1, 'Idens': 1, 'brainpain': 1, 'quartpot': 1, 'turmoiled': 1, 'Contenteth': 1, 'ostrich': 1, 'Climbing': 1, 'doornail': 1, 'steadfastgazing': 1, 'forbears': 1, 'Steel': 1, 'chines': 1, 'unconquered': 1, 'hallow': 1, 'wiped': 1, 'emblaze': 1, 'Dartford': 1, 'sancta': 1, 'majestas': 1, 'Telamonius': 1, 'Seditious': 1, 'Lands': 1, 'CADEs': 1, 'thenceforth': 1, 'longimprisoned': 1, 'bloodbespotted': 1, 'Outcast': 1, 'falseheart': 1, 'felllurking': 1, 'baitingplace': 1, 'indigested': 1, 'customd': 1, 'sophister': 1, 'rampant': 1, 'deadlyhanded': 1, 'unassaild': 1, 'couronne': 1, 'oeuvres': 1, 'premised': 1, 'Knit': 1, 'Particularities': 1, 'chairdays': 1, 'reclaims': 1, 'Absyrtus': 1, 'discomfit': 1, 'Aged': 1, 'contusions': 1, 'Persuaded': 1, 'repairing': 1, 'writs': 1, 'eternizd': 1, 'Cheerd': 1, 'Chargd': 1, 'Wiltshires': 1, 'SOMERSETS': 1, 'bywords': 1, 'occupies': 1, 'sturdy': 1, 'Backd': 1, 'poltroons': 1, 'honourest': 1, 'cavilling': 1, 'interrupts': 1, 'Resignd': 1, 'unconstraind': 1, 'prejudicial': 1, 'Essex': 1, 'lifetime': 1, 'fainthearted': 1, 'unnaturally': 1, 'Conditionally': 1, 'Stern': 1, 'environed': 1, 'preferst': 1, 'Tire': 1, 'dyd': 1, 'Kentishmen': 1, 'Witty': 1, 'protectors': 1, 'Chaplain': 1, 'slake': 1, 'miserably': 1, 'Di': 1, 'faciant': 1, 'laudis': 1, 'summa': 1, 'ista': 1, 'tuae': 1, 'Congeald': 1, 'rescuing': 1, 'hungerstarved': 1, 'bechanced': 1, 'hardiest': 1, 'bodgd': 1, 'overmatching': 1, 'quenchless': 1, 'Scorning': 1, 'invectives': 1, 'Wrath': 1, 'struggles': 1, 'cony': 1, 'outstretched': 1, 'preachment': 1, 'Dicky': 1, 'parchd': 1, 'Stamp': 1, 'Yorkand': 1, 'Shewolf': 1, 'captivates': 1, 'visardlike': 1, 'unchanging': 1, 'septentrion': 1, 'Bidst': 1, 'allays': 1, 'Hyrcania': 1, 'dippdst': 1, 'fastfalling': 1, 'Hardhearted': 1, 'gentlehearted': 1, 'fard': 1, 'prancing': 1, 'Dazzle': 1, 'racking': 1, 'clearshining': 1, 'meeds': 1, 'Hews': 1, 'hardesttimberd': 1, 'Laughd': 1, 'steeped': 1, 'treacherously': 1, 'furnaceburning': 1, 'poinards': 1, 'Tidings': 1, 'Musterd': 1, 'fiercely': 1, 'thresher': 1, 'flail': 1, 'mourninggowns': 1, 'Numbering': 1, 'easymelting': 1, 'failst': 1, 'archenemy': 1, 'infringd': 1, 'unloving': 1, 'Unreasonable': 1, 'youngs': 1, 'Inferring': 1, 'Darraign': 1, 'hearten': 1, 'childkiller': 1, 'unsheathe': 1, 'destinies': 1, 'Shamst': 1, 'extraught': 1, 'wisp': 1, 'Agamemmons': 1, 'Towton': 1, 'Saxton': 1, 'Forspent': 1, 'runners': 1, 'Broachd': 1, 'clangor': 1, 'fetlocks': 1, 'Wailing': 1, 'setterup': 1, 'pluckerdown': 1, 'Forslow': 1, 'environd': 1, 'contemplate': 1, 'Passd': 1, 'embroiderd': 1, 'delicates': 1, 'unwares': 1, 'foemans': 1, 'butcherly': 1, 'Misthink': 1, 'rued': 1, 'bemoand': 1, 'Sadhearted': 1, 'overgone': 1, 'glud': 1, 'Impairing': 1, 'strengthning': 1, 'misproud': 1, 'scorchd': 1, 'effuse': 1, 'hewing': 1, 'spray': 1, 'pitiedst': 1, 'Stifle': 1, 'thickgrown': 1, 'laund': 1, 'crossbow': 1, 'selfplace': 1, 'wishful': 1, 'smooths': 1, 'Inferreth': 1, 'Accords': 1, 'bluntest': 1, 'concubine': 1, 'EDWARDNo': 1, 'shriver': 1, 'premeditation': 1, 'sunders': 1, 'lade': 1, 'oerweens': 1, 'unlickd': 1, 'bearwhelp': 1, 'misshapd': 1, 'impaled': 1, 'toiling': 1, 'Protheus': 1, 'conform': 1, 'Usurps': 1, 'trueanointed': 1, 'waiteth': 1, 'wellmeant': 1, 'suppresseth': 1, 'disannuls': 1, 'lineally': 1, 'obeyedst': 1, 'Aubrey': 1, 'bewitch': 1, 'Exempt': 1, 'recounted': 1, 'Deceitful': 1, 'puller': 1, 'Smiles': 1, 'nettled': 1, 'unhopd': 1, 'misdeed': 1, 'impale': 1, 'grudges': 1, 'replant': 1, 'joins': 1, 'wellchosen': 1, 'strengthned': 1, 'Bonville': 1, 'forewarnd': 1, 'mistrustful': 1, 'Diomede': 1, 'sleight': 1, 'Rhesus': 1, 'Applaud': 1, 'WATCHMEN': 1, 'nightfoes': 1, 'embassade': 1, 'bloodsucking': 1, 'Middleham': 1, 'requireth': 1, 'Lynn': 1, 'shipt': 1, 'Shield': 1, 'Subjects': 1, 'avoiding': 1, 'Adjudgd': 1, 'Creators': 1, 'confiscated': 1, 'Likely': 1, 'Unsavoury': 1, 'befort': 1, 'presaging': 1, 'misgive': 1, 'conflicts': 1, 'waned': 1, 'repassd': 1, 'abodements': 1, 'BRETHREN': 1, 'forewarned': 1, 'Drummer': 1, 'speaketh': 1, 'whosoer': 1, 'gainsays': 1, 'border': 1, 'horizon': 1, 'Hollanders': 1, 'Leicestershire': 1, 'Oxfordshire': 1, 'Troys': 1, 'Wellminded': 1, 'allayd': 1, 'waterflowing': 1, 'subsidies': 1, 'errd': 1, 'shamefacd': 1, 'greatgrown': 1, 'COVENTRY': 1, 'MESSENGERS': 1, 'Dunsmore': 1, 'Daintry': 1, 'Somerville': 1, 'unbid': 1, 'Atlas': 1, 'weakling': 1, 'forecast': 1, 'fingerd': 1, 'Windchanging': 1, 'Jephtha': 1, 'misleading': 1, 'proudhearted': 1, 'brotherlike': 1, 'coopd': 1, 'axes': 1, 'topbranch': 1, 'overpeerd': 1, 'likned': 1, 'glues': 1, 'mought': 1, 'brightshining': 1, 'easeful': 1, 'holdinganchor': 1, 'tearful': 1, 'splits': 1, 'tacklings': 1, 'quicksand': 1, 'Infuse': 1, 'magnanimity': 1, 'Hames': 1, 'Aesop': 1, 'Untutord': 1, 'undutiful': 1, 'railer': 1, 'Sprawlst': 1, 'twitting': 1, 'Butchers': 1, 'deathsmen': 1, 'Hardfavourd': 1, 'almsdeed': 1, 'misdoubteth': 1, 'Daedalus': 1, 'Minos': 1, 'seard': 1, 'persecutor': 1, 'waterstanding': 1, 'Orphans': 1, 'nightcrow': 1, 'aboding': 1, 'rookd': 1, 'chattring': 1, 'Teeth': 1, 'snarl': 1, 'Repurchasd': 1, 'mowd': 1, 'footstool': 1, 'Bess': 1, 'sprangst': 1, 'mirthful': 1, 'gentlemanusher': 1, 'KINGATARMS': 1, 'DOORKEEPER': 1, 'Scribes': 1, 'Healthful': 1, 'admirer': 1, 'Andren': 1, 'Guynes': 1, 'Arde': 1, 'clung': 1, 'clinquant': 1, 'Shone': 1, 'discerner': 1, 'emby': 1, 'Bevis': 1, 'evrything': 1, 'discourser': 1, 'rebelld': 1, 'ordred': 1, 'keech': 1, 'proppd': 1, 'Chalks': 1, 'spiderlike': 1, 'selfdrawing': 1, 'privity': 1, 'Kingt': 1, 'sickend': 1, 'Grievingly': 1, 'consulting': 1, 'prophecythat': 1, 'Dashing': 1, 'aboded': 1, 'budded': 1, 'safetythat': 1, 'edgeits': 1, 'andt': 1, 'Bosom': 1, 'fixeth': 1, 'venommouthd': 1, 'Outworths': 1, 'temprance': 1, 'Anger': 1, 'Selfmettle': 1, 'singe': 1, 'overrunning': 1, 'tillt': 1, 'topproud': 1, 'founts': 1, 'gravelI': 1, 'bothfor': 1, 'performt': 1, 'Infecting': 1, 'reciprocally': 1, 'CountCardinal': 1, 'Wolseyhere': 1, 'Peepd': 1, 'himprivily': 1, 'Deals': 1, 'Paid': 1, 'askdbut': 1, 'pavd': 1, 'whitst': 1, 'Montacute': 1, 'oergreat': 1, 'spannd': 1, 'fullchargd': 1, 'loyalties': 1, 'soileven': 1, 'carders': 1, 'fullers': 1, 'Taxation': 1, 'boldned': 1, 'compels': 1, 'Allegiance': 1, 'primer': 1, 'censurers': 1, 'newtrimmd': 1, 'Hitting': 1, 'carpd': 1, 'Statestatues': 1, 'shire': 1, 'melet': 1, 'revokement': 1, 'training': 1, 'minutehe': 1, 'trustof': 1, 'forerecited': 1, 'himevery': 1, 'speechthat': 1, 'Ive': 1, 'Poultney': 1, 'Londoners': 1, 'pausingly': 1, 'ensud': 1, 'nors': 1, 'Lovells': 1, 'Greenwich': 1, 'reprovd': 1, 'Bulmer': 1, 'thoughtI': 1, 'outgo': 1, 'irresolute': 1, 'seekt': 1, 'juggle': 1, 'Clotharius': 1, 'spavin': 1, 'springhalt': 1, 'monsieurs': 1, 'Pertaining': 1, 'thereuntoas': 1, 'fireworks': 1, 'Abusing': 1, 'wisdomrenouncing': 1, 'blistred': 1, 'whoresons': 1, 'agoing': 1, 'Sparing': 1, 'comptrollers': 1, 'Chambers': 1, 'gracefully': 1, 'Crave': 1, 'Unmasking': 1, 'Viscount': 1, 'Rochfordone': 1, 'examinations': 1, 'viva': 1, 'voce': 1, 'Confessor': 1, 'devilmonk': 1, 'Kildares': 1, 'perniciously': 1, 'arraignment': 1, 'tipstaves': 1, 'Goodness': 1, 'Bohun': 1, 'Banister': 1, 'Restord': 1, 'Eighth': 1, 'Fresher': 1, 'archbishopric': 1, 'Toledo': 1, 'KingCardinal': 1, 'dives': 1, 'Dangers': 1, 'despairsand': 1, 'Kingand': 1, 'himtheres': 1, 'creed': 1, 'proudthe': 1, 'pensively': 1, 'haveathim': 1, 'conclave': 1, 'commandingyou': 1, 'unpartial': 1, 'judging': 1, 'Scholars': 1, 'Heavns': 1, 'murmurers': 1, 'gripd': 1, 'herby': 1, 'harmdoingO': 1, 'acquireafter': 1, 'panging': 1, 'perkd': 1, 'emballing': 1, 'Carnarvonshire': 1, 'heavnly': 1, 'Perceive': 1, 'isleIll': 1, 'beggarlynor': 1, 'freshfish': 1, 'herefie': 1, 'fortunehave': 1, 'oncetis': 1, 'Oermount': 1, 'foreskirt': 1, 'VERGERS': 1, 'ROCHESTER': 1, 'ASAPH': 1, 'PRIESTS': 1, 'NOBLEMEN': 1, 'conformable': 1, 'countenanceglad': 1, 'contradicted': 1, 'Upward': 1, 'fathersmen': 1, 'Inducd': 1, 'Oertopping': 1, 'unthink': 1, 'humblemouthd': 1, 'arrogancy': 1, 'Domestics': 1, 'Stubborn': 1, 'Disdainful': 1, 'earsfor': 1, 'unloosd': 1, 'satisfiedwhether': 1, 'Induce': 1, 'Bark': 1, 'camegive': 1, 'Scruple': 1, 'Bayonne': 1, 'Bishopdid': 1, 'mazd': 1, 'considerings': 1, 'aird': 1, 'gladded': 1, 'throe': 1, 'hulling': 1, 'dreadthat': 1, 'daringst': 1, 'Unsolicited': 1, 'primest': 1, 'paragond': 1, 'adjourn': 1, 'Exuent': 1, 'hoods': 1, 'monks': 1, 'notso': 1, 'numberif': 1, 'Tanta': 1, 'erga': 1, 'mentis': 1, 'integritas': 1, 'regina': 1, 'serenissima': 1, 'willingst': 1, 'Zeal': 1, 'himwhich': 1, 'menpray': 1, 'beenfor': 1, 'greatnessgood': 1, 'friendless': 1, 'bothmy': 1, 'warned': 1, 'churchmens': 1, 'longlet': 1, 'friendsa': 1, 'honoura': 1, 'WOMEN': 1, 'Shipwreckd': 1, 'IIISCENE': 1, 'Remembrance': 1, 'uncontemnd': 1, 'himthough': 1, 'usI': 1, 'Trace': 1, 'unrecounted': 1, 'memorizd': 1, 'colleges': 1, 'Cranmers': 1, 'archbishop': 1, 'Gavet': 1, 'Speedily': 1, 'spleeny': 1, 'Lutheran': 1, 'hardruld': 1, 'crawld': 1, 'mastercord': 1, 'accumulated': 1, 'togetherNow': 1, 'Stops': 1, 'postures': 1, 'Papers': 1, 'outspeaks': 1, 'Possession': 1, 'musings': 1, 'Employd': 1, 'Showrd': 1, 'Heapd': 1, 'allegiant': 1, 'illustrated': 1, 'Abound': 1, 'horridyet': 1, 'Leapd': 1, 'popedom': 1, 'meridian': 1, 'Asher': 1, 'Winchesters': 1, 'maliceknow': 1, 'coarse': 1, 'mouldedenvy': 1, 'masterwith': 1, 'letterspatents': 1, 'wholl': 1, 'bewailing': 1, 'Absolvd': 1, 'gleaning': 1, 'extortion': 1, 'sacring': 1, 'Ego': 1, 'meus': 1, 'inscribd': 1, 'Cassado': 1, 'Ferrara': 1, 'innumerable': 1, 'legatine': 1, 'praemunire': 1, 'tenements': 1, 'Chattels': 1, 'aripening': 1, 'nips': 1, 'highblown': 1, 'navytoo': 1, 'weakhearted': 1, 'Installd': 1, 'naturenot': 1, 'depths': 1, 'shoals': 1, 'aimst': 1, 'andprithee': 1, 'Pageants': 1, 'Learned': 1, 'Dunstable': 1, 'Ampthill': 1, 'ORDER': 1, 'CORONATION': 1, 'CHORISTERS': 1, 'demicoronal': 1, 'marshalship': 1, 'CINQUEPORTS': 1, 'coronal': 1, 'COUNTESSES': 1, 'circlets': 1, 'sameHigh': 1, 'Cinqueports': 1, 'countesses': 1, 'Procession': 1, 'broiling': 1, 'crowds': 1, 'Doublets': 1, 'thinkflew': 1, 'Greatbellied': 1, 'devoutly': 1, 'makings': 1, 'Confessors': 1, 'emblems': 1, 'choicest': 1, 'Whitehall': 1, 'Stokesly': 1, 'Newly': 1, 'Usher': 1, 'Sonow': 1, 'ledst': 1, 'Arrested': 1, 'Lodgd': 1, 'abbot': 1, 'eightwhich': 1, 'Foretold': 1, 'lastfull': 1, 'Continual': 1, 'unbounded': 1, 'ranking': 1, 'Simony': 1, 'undoubtedly': 1, 'fairspoken': 1, 'Lofty': 1, 'sinyet': 1, 'chronicler': 1, 'VISION': 1, 'PERSONAGES': 1, 'congee': 1, 'Capucius': 1, 'sameyour': 1, 'liebut': 1, 'decent': 1, 'menthey': 1, 'Embalm': 1, 'unqueend': 1, 'doat': 1, 'despatch': 1, 'grubbd': 1, 'remarkd': 1, 'Rolls': 1, 'SirI': 1, 'youI': 1, 'complaintof': 1, 'foreseeing': 1, 'himhath': 1, 'longgood': 1, 'gladding': 1, 'Denny': 1, 'fearfulwherefore': 1, 'Tattend': 1, 'grievousI': 1, 'Grievouscomplaints': 1, 'indurance': 1, 'Ween': 1, 'precipice': 1, 'Protect': 1, 'charging': 1, 'unsayt': 1, 'Lobby': 1, 'Mong': 1, 'Body': 1, 'mannersas': 1, 'Canterburys': 1, 'misdemeand': 1, 'chaplains': 1, 'informdwith': 1, 'Commotions': 1, 'Defacers': 1, 'juror': 1, 'Secretary': 1, 'arolling': 1, 'informations': 1, 'manwhose': 1, 'disciples': 1, 'manfew': 1, 'menmeant': 1, 'brotherlove': 1, 'larder': 1, 'switches': 1, 'christenings': 1, 'remaindercould': 1, 'Guy': 1, 'dozens': 1, 'Moorfields': 1, 'brazier': 1, 'dogdays': 1, 'firedrake': 1, 'mortarpiece': 1, 'haberdashers': 1, 'pinkd': 1, 'truncheoners': 1, 'Strand': 1, 'quartered': 1, 'broomstaff': 1, 'bitten': 1, 'tribulation': 1, 'Towerhill': 1, 'Limehouse': 1, 'Patrum': 1, 'baiting': 1, 'bombards': 1, 'Marshalsea': 1, 'camlet': 1, 'TRUMPETS': 1, 'standingbowls': 1, 'MARCHIONESS': 1, 'everhappy': 1, 'infantheaven': 1, 'ripeness': 1, 'Saba': 1, 'heryet': 1, 'KING_HENRY_VIII|EPILOGUE': 1, 'Whave': 1, 'Abusd': 1, 'BURGH': 1, 'halfbrother': 1, 'LYMOGES': 1, 'Popes': 1, 'SPAIN': 1, 'Castile': 1, 'Executioners': 1, 'JOHNs': 1, 'usurpingly': 1, 'disallow': 1, 'Controlment': 1, 'abbeys': 1, 'priories': 1, 'expeditions': 1, 'Northamptonshire': 1, 'honourgiving': 1, 'pops': 1, 'affecteth': 1, 'halfface': 1, 'treat': 1, 'ridingrods': 1, 'eelskins': 1, 'threefarthings': 1, 'Nob': 1, 'fivepence': 1, 'landless': 1, 'RichardGodamercy': 1, 'youThat': 1, 'Absey': 1, 'Apennines': 1, 'Pyrenean': 1, 'Po': 1, 'Exterior': 1, 'footsteps': 1, 'ridingrobes': 1, 'womanpost': 1, 'scornst': 1, 'Gurney': 1, 'PhilipSparrow': 1, 'abroadanon': 1, 'wellmarry': 1, 'Basiliscolike': 1, 'disclaimd': 1, 'Legitimation': 1, 'Subjected': 1, 'Shadowing': 1, 'powerless': 1, 'whitefacd': 1, 'coops': 1, 'waterwalled': 1, 'Salute': 1, 'resisting': 1, 'Wade': 1, 'motherqueen': 1, 'voluntaries': 1, 'birthrights': 1, 'mounteth': 1, 'underwrought': 1, 'Outfaced': 1, 'oermasterest': 1, 'supernal': 1, 'Liker': 1, 'mannersbeing': 1, 'skincoat': 1, 'sightly': 1, 'cracker': 1, 'deafs': 1, 'Submit': 1, 'heavenmoving': 1, 'injurer': 1, 'dominations': 1, 'Infortunate': 1, 'Removed': 1, 'sinconceiving': 1, 'hera': 1, 'illtuned': 1, 'repetitions': 1, 'endamagement': 1, 'Confront': 1, 'dishabited': 1, 'countercheck': 1, 'unscratchd': 1, 'inyour': 1, 'Forwearied': 1, 'harbourage': 1, 'divinely': 1, 'downtrodden': 1, 'greens': 1, 'muzzled': 1, 'unvexd': 1, 'roundure': 1, 'oldfacd': 1, 'harbourd': 1, 'rammd': 1, 'wellborn': 1, 'chevaliers': 1, 'oxhead': 1, 'regiments': 1, 'grovelling': 1, 'Coldly': 1, 'Rejoice': 1, 'Commander': 1, 'silverbright': 1, 'equality': 1, 'justborne': 1, 'Gracing': 1, 'undetermind': 1, 'potents': 1, 'strongbarrd': 1, 'Kingd': 1, 'scroyles': 1, 'presences': 1, 'mutines': 1, 'soulfearing': 1, 'brawld': 1, 'contemptuous': 1, 'incessantly': 1, 'unfenced': 1, 'Smacks': 1, 'itCome': 1, 'Persever': 1, 'fastclosed': 1, 'motionno': 1, 'Talks': 1, 'puppydogs': 1, 'cannonfire': 1, 'bounce': 1, 'bethumpd': 1, 'unsurd': 1, 'congeal': 1, 'majesties': 1, 'infixed': 1, 'hearthe': 1, 'Volquessen': 1, 'purposechanger': 1, 'breakvow': 1, 'cheats': 1, 'Commodity': 1, 'peised': 1, 'viledrawing': 1, 'allchanging': 1, 'vileconcluded': 1, 'unattempted': 1, 'raileth': 1, 'Gain': 1, 'misspoke': 1, 'misheard': 1, 'husbandless': 1, 'confirmers': 1, 'againnot': 1, 'Ugly': 1, 'Lame': 1, 'Patchd': 1, 'halfblown': 1, 'Sh': 1, 'adulterates': 1, 'Envenom': 1, 'underbear': 1, 'cloddy': 1, 'prodigiously': 1, 'seamen': 1, 'Proves': 1, 'valueless': 1, 'grappling': 1, 'ungodly': 1, 'Lymoges': 1, 'soothst': 1, 'coldblooded': 1, 'Doff': 1, 'deputies': 1, 'Langton': 1, 'Dreading': 1, 'sells': 1, 'Canonized': 1, 'Law': 1, 'archheretic': 1, 'Lookst': 1, 'disjoining': 1, 'Forgo': 1, 'perplex': 1, 'deepsworn': 1, 'overstaind': 1, 'Unyoke': 1, 'Unswear': 1, 'ordain': 1, 'orderless': 1, 'curseon': 1, 'disjoin': 1, 'scorched': 1, 'newburnd': 1, 'braying': 1, 'Clamours': 1, 'Forethought': 1, 'upholdeth': 1, 'denounce': 1, 'clocksetter': 1, 'dearestvalud': 1, 'jeopardy': 1, 'AUSTRIAS': 1, 'hovers': 1, 'Austrias': 1, 'abbots': 1, 'Coz': 1, 'cherished': 1, 'saybut': 1, 'heavythick': 1, 'brooded': 1, 'KINGs': 1, 'armado': 1, 'convicted': 1, 'disjoind': 1, 'Oerbearing': 1, 'smilst': 1, 'Miserys': 1, 'madI': 1, 'Preach': 1, 'produces': 1, 'glue': 1, 'Sticking': 1, 'repeats': 1, 'Stuffs': 1, 'widowcomfort': 1, 'twicetold': 1, 'Vexing': 1, 'boisterously': 1, 'steeps': 1, 'customed': 1, 'Abortives': 1, 'denouncing': 1, 'prisonment': 1, 'ransacking': 1, 'Offending': 1, 'topful': 1, 'Uncleanly': 1, 'christendom': 1, 'practises': 1, 'dispiteous': 1, 'lyen': 1, 'Approaching': 1, 'stubbornhard': 1, 'himno': 1, 'Stamps': 1, 'stonestill': 1, 'wince': 1, 'angrily': 1, 'Snatch': 1, 'extends': 1, 'mercylacking': 1, 'longdfor': 1, 'taperlight': 1, 'repeating': 1, 'wellnoted': 1, 'excusing': 1, 'newcrownd': 1, 'indue': 1, 'fearswhich': 1, 'wrongshould': 1, 'mortalitys': 1, 'foulplay': 1, 'holdbad': 1, 'weatherhow': 1, 'heardif': 1, 'Aloft': 1, 'fantasied': 1, 'harshsounding': 1, 'Foreknowing': 1, 'newenkindled': 1, 'foreigners': 1, 'invasion': 1, 'sprightful': 1, 'embattailed': 1, 'artificer': 1, 'Quoted': 1, 'fleshly': 1, 'Hostility': 1, 'exteriorly': 1, 'dispossessd': 1, 'bestained': 1, 'trueto': 1, 'preciousprincely': 1, 'bloodiest': 1, 'unbegotten': 1, 'Exampled': 1, 'toastingiron': 1, 'blacknay': 1, 'embounded': 1, 'scamble': 1, 'unowed': 1, 'proudswelling': 1, 'barepickd': 1, 'snarleth': 1, 'sickfalln': 1, 'cincture': 1, 'mistempred': 1, 'Rests': 1, 'convertite': 1, 'robbed': 1, 'threatner': 1, 'glister': 1, 'intendeth': 1, 'inglorious': 1, 'fairplay': 1, 'Insinuation': 1, 'invasive': 1, 'cockred': 1, 'Mocking': 1, 'DAUPHINS': 1, 'perusing': 1, 'widowmaker': 1, 'strangermarch': 1, 'ranksI': 1, 'clippeth': 1, 'unneighbourly': 1, 'silverly': 1, 'Figurd': 1, 'metropolis': 1, 'halfconquerd': 1, 'Vive': 1, 'bankd': 1, 'glorified': 1, 'outlook': 1, 'wilfulopposite': 1, 'unhaird': 1, 'pigmy': 1, 'pawns': 1, 'feebled': 1, 'souse': 1, 'Neroes': 1, 'ripping': 1, 'palevisagd': 1, 'thimbles': 1, 'outscold': 1, 'brabbler': 1, 'bracd': 1, 'rattle': 1, 'bareribbd': 1, 'Badly': 1, 'Weakness': 1, 'battlefield': 1, 'Unthread': 1, 'Retaining': 1, 'Resolveth': 1, 'daywearied': 1, 'Paying': 1, 'himand': 1, 'calmly': 1, 'devoured': 1, 'wellmounted': 1, 'corruptibly': 1, 'dwellinghouse': 1, 'Foretell': 1, 'assaileth': 1, 'Leaves': 1, 'cygnet': 1, 'elbowroom': 1, 'crumble': 1, 'scribbled': 1, 'Poisondillfare': 1, 'parched': 1, 'unreprievable': 1, 'scalded': 1, 'unwarily': 1, 'Devoured': 1, 'kingnow': 1, 'sinewed': 1, 'beforehand': 1, 'Triumvirate': 1, 'instigator': 1, 'CIMBER': 1, 'LENA': 1, 'supportor': 1, 'mender': 1, 'cobble': 1, 'tradesmans': 1, 'intermit': 1, 'Disrobe': 1, 'fearfulness': 1, 'shriller': 1, 'Vexed': 1, 'Conceptions': 1, 'behaviors': 1, 'Forgets': 1, 'cogitations': 1, 'protester': 1, 'gusty': 1, 'chafing': 1, 'Accoutred': 1, 'plunged': 1, 'stemming': 1, 'luster': 1, 'applauses': 1, 'dishonorable': 1, 'underlings': 1, 'famed': 1, 'villager': 1, 'Sleekheaded': 1, 'fatter': 1, 'ashouting': 1, 'neighbors': 1, 'clapped': 1, 'chopped': 1, 'nightcaps': 1, 'foamed': 1, 'tagrag': 1, 'displeased': 1, 'pulling': 1, 'Writings': 1, 'obscurely': 1, 'Incenses': 1, 'unscorchd': 1, 'glazd': 1, 'annoying': 1, 'noonday': 1, 'strangedisposed': 1, 'Submitting': 1, 'bared': 1, 'gliding': 1, 'preformed': 1, 'airless': 1, 'illuminate': 1, 'fleering': 1, 'noblestminded': 1, 'honorabledangerous': 1, 'Theatre': 1, 'disjoins': 1, 'climberupward': 1, 'attains': 1, 'upmost': 1, 'Fashion': 1, 'mischievous': 1, 'Searching': 1, 'whizzing': 1, 'instigations': 1, 'phantasma': 1, 'Shamest': 1, 'yongrey': 1, 'arises': 1, 'Weighing': 1, 'highsighted': 1, 'insuppressive': 1, 'improve': 1, 'sacrificers': 1, 'wrathfully': 1, 'purgers': 1, 'ingrated': 1, 'stricken': 1, 'elephants': 1, 'untired': 1, 'honeyheavy': 1, 'Stole': 1, 'Musing': 1, 'insisted': 1, 'waiter': 1, 'Fearing': 1, 'rheumy': 1, 'unpurged': 1, 'Dwell': 1, 'ruddy': 1, 'fatherd': 1, 'engagements': 1, 'Soul': 1, 'Recounts': 1, 'whelped': 1, 'yawnd': 1, 'hurtled': 1, 'squeal': 1, 'predictions': 1, 'comets': 1, 'offering': 1, 'spouting': 1, 'Signifies': 1, 'Reviving': 1, 'tinctures': 1, 'expounded': 1, 'someone': 1, 'morrowCaesar': 1, 'bustling': 1, 'Advances': 1, 'rears': 1, 'couchings': 1, 'preordinance': 1, 'Lowcrooked': 1, 'courtsies': 1, 'spanielfawning': 1, 'repealing': 1, 'truefixd': 1, 'unnumberd': 1, 'unassailable': 1, 'Unshaked': 1, 'Conspirators': 1, 'Tyranny': 1, 'pulpits': 1, 'Rushing': 1, 'abridged': 1, 'untrod': 1, 'untouchd': 1, 'misgiving': 1, 'conquests': 1, 'Shrunk': 1, 'Fulfill': 1, 'appeased': 1, 'Signd': 1, 'crimsond': 1, 'Swayd': 1, 'Havoc': 1, 'Censure': 1, 'freemen': 1, 'extenuated': 1, 'offenses': 1, 'mourned': 1, 'Tending': 1, 'Bequeathing': 1, 'Honorable': 1, 'Nervii': 1, 'muffling': 1, 'Slay': 1, 'seventyfive': 1, 'arbors': 1, 'newplanted': 1, 'recreate': 1, 'Mischief': 1, 'bang': 1, 'firebrands': 1, 'Cascas': 1, 'legacies': 1, 'unmeritable': 1, 'barrenspirited': 1, 'imitations': 1, 'staled': 1, 'Sard': 1, 'Pella': 1, 'Sardians': 1, 'undeservers': 1, 'Chastisement': 1, 'supporting': 1, 'Contaminate': 1, 'grasped': 1, 'Older': 1, 'abler': 1, 'bouge': 1, 'Dash': 1, 'Hated': 1, 'Checkd': 1, 'dishonor': 1, 'vexeth': 1, 'overearnest': 1, 'cynic': 1, 'jigging': 1, 'Companion': 1, 'Bending': 1, 'outlawry': 1, 'proscriptions': 1, 'nimbleness': 1, 'grudged': 1, 'refreshd': 1, 'newadded': 1, 'encouraged': 1, 'brimfull': 1, 'Omitted': 1, 'Everything': 1, 'drowsily': 1, 'Layest': 1, 'breakst': 1, 'honeyless': 1, 'stingless': 1, 'Hackd': 1, 'fawnd': 1, 'Strooke': 1, 'Flatterers': 1, 'redder': 1, 'masker': 1, 'reveler': 1, 'Epicurus': 1, 'perchd': 1, 'Gorging': 1, 'demeanor': 1, 'Octavias': 1, 'notest': 1, 'freeman': 1, 'Guide': 1, 'disconsolate': 1, 'melancholys': 1, 'Thasos': 1, 'Labio': 1, 'Flavio': 1, 'Statilius': 1, 'torchlight': 1, 'Slaying': 1, 'meditates': 1, 'swordhilts': 1, 'Countrymen': 1, 'smatch': 1, 'honorably': 1, 'LEAR': 1, 'Glouceste': 1, 'equalities': 1, 'roundwombd': 1, 'acknowledged': 1, 'Conferring': 1, 'Unburthend': 1, 'Interest': 1, 'largest': 1, 'eldestborn': 1, 'champains': 1, 'richd': 1, 'wideskirted': 1, 'felicitate': 1, 'exist': 1, 'paternal': 1, 'Propinquity': 1, 'Preeminence': 1, 'Reverse': 1, 'emptyhearted': 1, 'Reverbs': 1, 'allot': 1, 'revokd': 1, 'rivalld': 1, 'Unfriended': 1, 'Dowrd': 1, 'strangerd': 1, 'Election': 1, 'avert': 1, 'dismantle': 1, 'forevouchd': 1, 'stillsoliciting': 1, 'tardiness': 1, 'unspoke': 1, 'Aloof': 1, 'Fairest': 1, 'coldst': 1, 'dowrless': 1, 'watrish': 1, 'unprizd': 1, 'derides': 1, 'appertains': 1, 'slenderly': 1, 'longingraffed': 1, 'waywardness': 1, 'Kents': 1, 'Lag': 1, 'fops': 1, 'Legitimate': 1, 'oerlooking': 1, 'justification': 1, 'essay': 1, 'oldness': 1, 'EDGAR': 1, 'suspend': 1, 'auricular': 1, 'unstate': 1, 'Machinations': 1, 'disquietly': 1, 'treachers': 1, 'adulterers': 1, 'goatish': 1, 'Dragons': 1, 'Tail': 1, 'Ursa': 1, 'Major': 1, 'Fut': 1, 'maidenliest': 1, 'twinkled': 1, 'bastardizing': 1, 'Fa': 1, 'unnaturalness': 1, 'dissolutions': 1, 'menaces': 1, 'maledictions': 1, 'diffidences': 1, 'dissipation': 1, 'cohorts': 1, 'astronomical': 1, 'rageth': 1, 'Idle': 1, 'defuse': 1, 'honesthearted': 1, 'fortyeight': 1, 'roundest': 1, 'Trips': 1, 'lubbers': 1, 'throwest': 1, 'inadoor': 1, 'tens': 1, 'unfeed': 1, 'monopoly': 1, 'snatching': 1, 'clovest': 1, 'borst': 1, 'foppish': 1, 'bopeep': 1, 'pared': 1, 'frontlet': 1, 'crum': 1, 'sheald': 1, 'alllicensd': 1, 'nottobeendured': 1, 'hedgesparrow': 1, 'Jug': 1, 'discernings': 1, 'lethargied': 1, 'Epicurism': 1, 'disquantity': 1, 'Degenerate': 1, 'marblehearted': 1, 'Detested': 1, 'Suspend': 1, 'sterility': 1, 'Create': 1, 'disnaturd': 1, 'cadent': 1, 'Blasts': 1, 'untented': 1, 'woundings': 1, 'Beweep': 1, 'flay': 1, 'Nuncle': 1, 'enguard': 1, 'unfitness': 1, 'slipshod': 1, 'takt': 1, 'earkissing': 1, 'weaves': 1, 'Briefness': 1, 'Intelligence': 1, 'Torches': 1, 'Mumbling': 1, 'conjuring': 1, 'parricides': 1, 'lanchd': 1, 'alarumd': 1, 'gasted': 1, 'conceals': 1, 'unpossessing': 1, 'reposal': 1, 'faithd': 1, 'godson': 1, 'cautions': 1, 'threading': 1, 'darkeyd': 1, 'Occasions': 1, 'Lipsbury': 1, 'Pinfold': 1, 'threesuited': 1, 'hundredpound': 1, 'worstedstocking': 1, 'actiontaking': 1, 'glassgazing': 1, 'superserviceable': 1, 'finical': 1, 'onetrunkinheriting': 1, 'bitch': 1, 'brazenfacd': 1, 'cullionly': 1, 'barbermonger': 1, 'Vanity': 1, 'stonecutter': 1, 'zed': 1, 'unbolted': 1, 'mortar': 1, 'jakes': 1, 'wagtail': 1, 'intrinse': 1, 'Renege': 1, 'beaks': 1, 'epileptic': 1, 'Goose': 1, 'Sarum': 1, 'Camelot': 1, 'antipathy': 1, 'bluntness': 1, 'roughness': 1, 'Harbour': 1, 'sillyducking': 1, 'observants': 1, 'flickering': 1, 'discommend': 1, 'misconstruction': 1, 'Trippd': 1, 'insulted': 1, 'worthied': 1, 'selfsubdud': 1, 'fleshment': 1, 'Stocking': 1, 'Stocks': 1, 'contemndest': 1, 'pilfrings': 1, 'enormous': 1, 'Losses': 1, 'Escapd': 1, 'Blanket': 1, 'persecutions': 1, 'numbd': 1, 'sprigs': 1, 'farms': 1, 'sheepcotes': 1, 'Turlygod': 1, 'Makst': 1, 'Displayd': 1, 'Winters': 1, 'Hysterica': 1, 'passio': 1, 'unremovable': 1, 'headier': 1, 'indisposd': 1, 'eels': 1, 'buttered': 1, 'Sepulchring': 1, 'Sharptoothd': 1, 'depravd': 1, 'discerns': 1, 'unsightly': 1, 'serpentlike': 1, 'vengeances': 1, 'lightnings': 1, 'fensuckd': 1, 'tenderhefted': 1, 'easyborrowed': 1, 'Dwells': 1, 'stockd': 1, 'Dismissing': 1, 'Necessitys': 1, 'dowerless': 1, 'squirelike': 1, 'sumpter': 1, 'Thunderbearer': 1, 'highjudging': 1, 'guardians': 1, 'depositaries': 1, 'unquietly': 1, 'outscorn': 1, 'toandfroconflicting': 1, 'cubdrawn': 1, 'bellypinched': 1, 'outjest': 1, 'heartstruck': 1, 'Thrond': 1, 'speculations': 1, 'Intelligent': 1, 'snuffs': 1, 'packings': 1, 'furnishings': 1, 'bemadding': 1, 'outwall': 1, 'cataracts': 1, 'hurricanoes': 1, 'steeples': 1, 'thoughtexecuting': 1, 'Vauntcouriers': 1, 'oakcleaving': 1, 'Singe': 1, 'allshaking': 1, 'rotundity': 1, 'moulds': 1, 'germains': 1, 'Rumble': 1, 'subscription': 1, 'highengenderd': 1, 'Gallow': 1, 'wanderers': 1, 'bursts': 1, 'pudder': 1, 'Unwhippd': 1, 'Caitiff': 1, 'guilts': 1, 'Rive': 1, 'summoners': 1, 'sinning': 1, 'demanding': 1, 'courtesan': 1, 'malt': 1, 'cutpurses': 1, 'Instantly': 1, 'Invades': 1, 'Filial': 1, 'ponder': 1, 'unfed': 1, 'loopd': 1, 'raggedness': 1, 'Expose': 1, 'superflux': 1, 'Fathom': 1, 'whirlpool': 1, 'pew': 1, 'fourinchd': 1, 'starblasting': 1, 'vexes': 1, 'Couldst': 1, 'pendulous': 1, 'Pillicock': 1, 'Pillicocks': 1, 'outparamourd': 1, 'creaking': 1, 'lenders': 1, 'suum': 1, 'mun': 1, 'sessa': 1, 'sophisticated': 1, 'unaccommodated': 1, 'unbutton': 1, 'squints': 1, 'mildews': 1, 'Withold': 1, 'nightmare': 1, 'alight': 1, 'todpole': 1, 'wallnewt': 1, 'cowdung': 1, 'ditchdog': 1, 'stockpunishd': 1, 'Smulkin': 1, 'Theban': 1, 'vermin': 1, 'unsettle': 1, 'outlawd': 1, 'fum': 1, 'reproveable': 1, 'detector': 1, 'Frateretto': 1, 'angler': 1, 'hizzing': 1, 'sapient': 1, 'shefoxes': 1, 'Wantst': 1, 'Bessy': 1, 'Hoppedance': 1, 'Croak': 1, 'robed': 1, 'yokefellow': 1, 'Bench': 1, 'Sleepest': 1, 'wakest': 1, 'minikin': 1, 'Purr': 1, 'Arraign': 1, 'kicked': 1, 'jointstool': 1, 'boasted': 1, 'Tray': 1, 'Sweetheart': 1, 'Tooth': 1, 'Mastiff': 1, 'Hound': 1, 'lym': 1, 'Bobtail': 1, 'tyke': 1, 'trundletall': 1, 'Oppressed': 1, 'balmd': 1, 'oerskip': 1, 'childed': 1, 'fathered': 1, 'Lurk': 1, 'festinate': 1, 'questrists': 1, 'wellarmed': 1, 'Pinion': 1, 'corky': 1, 'Unmerciful': 1, 'Naughty': 1, 'simpleanswerd': 1, 'guessingly': 1, 'boarish': 1, 'hellblack': 1, 'buoyd': 1, 'cruels': 1, 'Seet': 1, 'roguish': 1, 'Allows': 1, 'Owes': 1, 'mutations': 1, 'beggarman': 1, 'Angring': 1, 'parel': 1, 'horseway': 1, 'Obidicut': 1, 'Hobbididence': 1, 'mopping': 1, 'Purse': 1, 'lustdieted': 1, 'cowish': 1, 'Hasten': 1, 'contemns': 1, 'bordered': 1, 'disbranch': 1, 'Filths': 1, 'headluggd': 1, 'benefited': 1, 'Humanity': 1, 'Milkliverd': 1, 'discerning': 1, 'spreads': 1, 'criest': 1, 'selfcoverd': 1, 'Bemonster': 1, 'dislocate': 1, 'thrilld': 1, 'Flew': 1, 'justicers': 1, 'showdst': 1, 'trilld': 1, 'rebellike': 1, 'Sunshine': 1, 'smilets': 1, 'Pantingly': 1, 'moistend': 1, 'casualties': 1, 'doghearted': 1, 'venomously': 1, 'Detains': 1, 'Cornwalls': 1, 'fumiter': 1, 'hardocks': 1, 'Darnel': 1, 'highgrown': 1, 'restoring': 1, 'operative': 1, 'unpublishd': 1, 'aidant': 1, 'remediate': 1, 'Transport': 1, 'eliads': 1, 'Halfway': 1, 'gathers': 1, 'sampire': 1, 'Diminishd': 1, 'buoy': 1, 'unnumbred': 1, 'Topple': 1, 'opposeless': 1, 'precipitating': 1, 'shiverd': 1, 'masts': 1, 'perpendicularly': 1, 'aheight': 1, 'shrillgorgd': 1, 'whelkd': 1, 'enridged': 1, 'clearest': 1, 'accommodate': 1, 'sidepiercing': 1, 'handles': 1, 'Hewgh': 1, 'agueproof': 1, 'quakes': 1, 'Adultery': 1, 'forks': 1, 'minces': 1, 'soiled': 1, 'squiny': 1, 'penning': 1, 'handydandy': 1, 'obeyed': 1, 'Strip': 1, 'whipst': 1, 'cozener': 1, 'tatterd': 1, 'Robes': 1, 'Plate': 1, 'hurtless': 1, 'pygmys': 1, 'Pull': 1, 'Harder': 1, 'impertinency': 1, 'wawl': 1, 'putt': 1, 'sonsinlaw': 1, 'waterpots': 1, 'Sa': 1, 'nears': 1, 'evergentle': 1, 'Hearty': 1, 'interposes': 1, 'vurther': 1, 'cagion': 1, 'voke': 1, 'chud': 1, 'zwaggerd': 1, 'zo': 1, 'vortnight': 1, 'che': 1, 'vore': 1, 'Ise': 1, 'ballow': 1, 'foins': 1, 'weld': 1, 'reciprocal': 1, 'affectionate': 1, 'indistinguishd': 1, 'deathpractisd': 1, 'oerpaid': 1, 'childchanged': 1, 'arrayd': 1, 'Louder': 1, 'restoration': 1, 'flakes': 1, 'warring': 1, 'dreadbolted': 1, 'settling': 1, 'conductor': 1, 'selfreproving': 1, 'forfended': 1, 'bosomd': 1, 'loosen': 1, 'bemet': 1, 'invades': 1, 'bolds': 1, 'avouched': 1, 'machination': 1, 'Exasperates': 1, 'Ripeness': 1, 'outfrown': 1, 'packs': 1, 'goodyears': 1, 'tenderminded': 1, 'immediacy': 1, 'exalt': 1, 'Jesters': 1, 'holla': 1, 'asquint': 1, 'fullflowing': 1, 'letalone': 1, 'Halfblooded': 1, 'subcontracted': 1, 'baregnawn': 1, 'cankerbit': 1, 'Maugre': 1, 'Conspirant': 1, 'toadspotted': 1, 'hellhated': 1, 'Cost': 1, 'Burst': 1, 'Shunnd': 1, 'trancd': 1, 'Improper': 1, 'urges': 1, 'fordid': 1, 'Howl': 1, 'ahanging': 1, 'cheerless': 1, 'Stretch': 1, 'Rule': 1, 'LOVES': 1, 'LABOURS': 1, 'LOST': 1, 'scythes': 1, 'Academe': 1, 'fellowscholars': 1, 'Subscribe': 1, 'paunches': 1, 'hardakeeping': 1, 'intellects': 1, 'fixing': 1, 'dazzling': 1, 'deepsearchd': 1, 'plodders': 1, 'weeding': 1, 'abreeding': 1, 'Mays': 1, 'Climb': 1, 'strictest': 1, 'hunteth': 1, 'Subscribes': 1, 'Suggestions': 1, 'farborough': 1, 'meekly': 1, 'merriness': 1, 'manorhouse': 1, 'vicegerent': 1, 'fostring': 1, 'besieged': 1, 'sablecoloured': 1, 'healthgiving': 1, 'betook': 1, 'ycleped': 1, 'prepostrous': 1, 'eboncoloured': 1, 'beholdest': 1, 'surveyest': 1, 'northnortheast': 1, 'curiousknotted': 1, 'lowspirited': 1, 'minnow': 1, 'smallknowing': 1, 'everesteemed': 1, 'heartburning': 1, 'epitheton': 1, 'heatst': 1, 'deuceace': 1, 'hereupon': 1, 'newdevisd': 1, 'wellknit': 1, 'strongjointed': 1, 'seawater': 1, 'maculate': 1, 'Define': 1, 'welleducated': 1, 'daywoman': 1, 'Spaniards': 1, 'folio': 1, 'Matchless': 1, 'prodigally': 1, 'chapmens': 1, 'spending': 1, 'tasker': 1, 'alltelling': 1, 'bestmoving': 1, 'Importunes': 1, 'humblevisagd': 1, 'vowfellows': 1, 'Perigort': 1, 'wellaccomplishd': 1, 'students': 1, 'mirthmoving': 1, 'expositor': 1, 'Delivers': 1, 'hearings': 1, 'garnished': 1, 'bedecking': 1, 'LADIESINWAITING': 1, 'beseemeth': 1, 'Disbursed': 1, 'unseeming': 1, 'acquittances': 1, 'specialties': 1, 'prickt': 1, 'Unmask': 1, 'peeping': 1, 'tendring': 1, 'glassd': 1, 'amazes': 1, 'lovemonger': 1, 'skilfully': 1, 'Warble': 1, 'Concolinel': 1, 'festinately': 1, 'Brawling': 1, 'snuffd': 1, 'penthouselike': 1, 'thinbelly': 1, 'hackney': 1, 'Negligent': 1, 'sympathizd': 1, 'slowgaited': 1, 'Minime': 1, 'volable': 1, 'egma': 1, 'enforcest': 1, 'sain': 1, 'enfreedoming': 1, 'captivated': 1, 'significant': 1, 'rewarding': 1, 'dependents': 1, 'inkle': 1, 'threefarthing': 1, 'levenpence': 1, 'nightwatch': 1, 'domineering': 1, 'wimpled': 1, 'seniorjunior': 1, 'giantdwarf': 1, 'Dan': 1, 'loverhymes': 1, 'Liege': 1, 'loiterers': 1, 'codpieces': 1, 'imperator': 1, 'paritors': 1, 'tumblers': 1, 'arepairing': 1, 'whitely': 1, 'uprising': 1, 'Saturday': 1, 'Hereby': 1, 'coppice': 1, 'selfsovereignty': 1, 'digyouden': 1, 'importeth': 1, 'indubitate': 1, 'Zenelophon': 1, 'Veni': 1, 'vidi': 1, 'vici': 1, 'annothanize': 1, 'seeto': 1, 'tittles': 1, 'Submissive': 1, 'forage': 1, 'repasture': 1, 'phantasime': 1, 'Monarcho': 1, 'bookmates': 1, 'Guinever': 1, 'Wide': 1, 'bowhand': 1, 'upshoot': 1, 'greasily': 1, 'tone': 1, 'sanguis': 1, 'pomewater': 1, 'caelo': 1, 'falleth': 1, 'intimation': 1, 'explication': 1, 'facere': 1, 'ostentare': 1, 'undressed': 1, 'unpolished': 1, 'uneducated': 1, 'unpruned': 1, 'untrained': 1, 'ratherest': 1, 'unconfirmed': 1, 'Twicesod': 1, 'bis': 1, 'coctus': 1, 'Ignorance': 1, 'fructify': 1, 'Luna': 1, 'collusion': 1, 'polusion': 1, 'Perge': 1, 'perge': 1, 'abrogate': 1, 'preyful': 1, 'el': 1, 'ahooting': 1, 'ideas': 1, 'revolutions': 1, 'ventricle': 1, 'mellowing': 1, 'Mehercle': 1, 'vir': 1, 'sapit': 1, 'loquitur': 1, 'feminine': 1, 'quasi': 1, 'persone': 1, 'Schoolmaster': 1, 'Fauste': 1, 'precor': 1, 'gelida': 1, 'quando': 1, 'pecus': 1, 'sub': 1, 'umbra': 1, 'Ruminat': 1, 'Chi': 1, 'vede': 1, 'pretia': 1, 'understandeth': 1, 'Ut': 1, 'stanze': 1, 'lege': 1, 'Celestial': 1, 'singes': 1, 'apostrophas': 1, 'canzonet': 1, 'elegancy': 1, 'cadence': 1, 'Ovidius': 1, 'jerks': 1, 'Imitari': 1, 'damosella': 1, 'overglance': 1, 'superscript': 1, 'Ladyships': 1, 'progression': 1, 'colourable': 1, 'savouring': 1, 'birdbolt': 1, 'eyebeams': 1, 'shinst': 1, 'ridest': 1, 'triumviry': 1, 'cornercap': 1, 'Tyburn': 1, 'Disfigure': 1, 'Exhalst': 1, 'vapourvow': 1, 'livervein': 1, 'oereye': 1, 'ambercolourd': 1, 'toogood': 1, 'saucers': 1, 'ode': 1, 'dayalack': 1, 'Spied': 1, 'infringed': 1, 'Descending': 1, 'sonneting': 1, 'pushpin': 1, 'overview': 1, 'Berownes': 1, 'Gathering': 1, 'pickpurses': 1, 'opning': 1, 'eaglesighted': 1, 'sellers': 1, 'resembling': 1, 'deckt': 1, 'doters': 1, 'Paints': 1, 'Ethiopes': 1, 'overhead': 1, 'menatarms': 1, 'plodding': 1, 'arteries': 1, 'longduring': 1, 'Teaches': 1, 'practisers': 1, 'Courses': 1, 'cockled': 1, 'snails': 1, 'Hesperides': 1, 'Subtle': 1, 'Sphinx': 1, 'tempred': 1, 'fulfils': 1, 'sever': 1, 'Pellmell': 1, 'glozes': 1, 'Forerun': 1, 'allons': 1, 'Sowd': 1, 'Satis': 1, 'sufficit': 1, 'impudency': 1, 'intituled': 1, 'Adriano': 1, 'Novi': 1, 'hominem': 1, 'tanquam': 1, 'peregrinate': 1, 'verbosity': 1, 'staple': 1, 'fanatical': 1, 'phantasimes': 1, 'rackers': 1, 'det': 1, 'clepeth': 1, 'cauf': 1, 'hauf': 1, 'vocatur': 1, 'nebour': 1, 'abbreviated': 1, 'abhominable': 1, 'abbominable': 1, 'insinuateth': 1, 'insanie': 1, 'intelligis': 1, 'Laus': 1, 'Deo': 1, 'intelligo': 1, 'Bone': 1, 'Priscian': 1, 'Videsne': 1, 'venit': 1, 'Video': 1, 'gaudeo': 1, 'Chirrah': 1, 'Quare': 1, 'chirrah': 1, 'almsbasket': 1, 'honorificabilitudinitatibus': 1, 'flapdragon': 1, 'lettred': 1, 'hornbook': 1, 'spelt': 1, 'pueritia': 1, 'Quis': 1, 'consonant': 1, 'vowels': 1, 'U': 1, 'Mediterraneum': 1, 'venue': 1, 'rejoiceth': 1, 'Offerd': 1, 'witold': 1, 'circum': 1, 'circa': 1, 'pigeonegg': 1, 'unguem': 1, 'Artsman': 1, 'preambulate': 1, 'singuled': 1, 'educate': 1, 'chargehouse': 1, 'mons': 1, 'congratulate': 1, 'posteriors': 1, 'measurable': 1, 'firework': 1, 'breakingout': 1, 'Joshua': 1, 'Worthys': 1, 'crushest': 1, 'Thriceworthy': 1, 'fairings': 1, 'bandied': 1, 'compard': 1, 'copybook': 1, 'pencils': 1, 'dominical': 1, 'Os': 1, 'shrows': 1, 'translation': 1, 'compild': 1, 'pertauntlike': 1, 'gravitys': 1, 'Folly': 1, 'Encounters': 1, 'Muster': 1, 'audaciously': 1, 'fleerd': 1, 'caperd': 1, 'lovefeat': 1, 'Woo': 1, 'unbosom': 1, 'heauties': 1, 'Beauties': 1, 'daughterbeamed': 1, 'oergone': 1, 'Curtsy': 1, 'Price': 1, 'Whitehanded': 1, 'treys': 1, 'Metheglin': 1, 'wort': 1, 'malmsey': 1, 'grievest': 1, 'Veal': 1, 'veal': 1, 'Bleat': 1, 'Seemeth': 1, 'Fleeter': 1, 'drybeaten': 1, 'scoff': 1, 'Muscovits': 1, 'wondered': 1, 'Tapers': 1, 'Wellliking': 1, 'kinglypoor': 1, 'Qualm': 1, 'statutecaps': 1, 'Dismaskd': 1, 'vailing': 1, 'roes': 1, 'pecks': 1, 'retails': 1, 'ushering': 1, 'whalesbone': 1, 'honeytongued': 1, 'Armados': 1, 'ushered': 1, 'Behaviour': 1, 'unsullied': 1, 'unvisited': 1, 'Amazd': 1, 'Seasick': 1, 'Muscovy': 1, 'harpers': 1, 'Taffeta': 1, 'Threepild': 1, 'Figures': 1, 'pedantical': 1, 'summerflies': 1, 'noes': 1, 'reject': 1, 'aforehand': 1, 'carrytale': 1, 'pleaseman': 1, 'zany': 1, 'mumblenews': 1, 'trencherknight': 1, 'partst': 1, 'vara': 1, 'pursents': 1, 'parfect': 1, 'Pompion': 1, 'shameproof': 1, 'Converses': 1, 'guerra': 1, 'Arinados': 1, 'hedgepriest': 1, 'novum': 1, 'libbards': 1, 'targe': 1, 'bere': 1, 'declares': 1, 'tendersmelling': 1, 'poleaxe': 1, 'bowler': 1, 'oerparted': 1, 'acoming': 1, 'JUDAS': 1, 'HERCULES': 1, 'threeheaded': 1, 'canus': 1, 'manus': 1, 'Quoniam': 1, 'Iscariot': 1, 'ycliped': 1, 'clipt': 1, 'citternhead': 1, 'pommel': 1, 'Coesars': 1, 'carvdbone': 1, 'halfcheek': 1, 'toothdrawer': 1, 'cleantimberd': 1, 'lemon': 1, 'cloves': 1, 'columbine': 1, 'warman': 1, 'chucks': 1, 'surmounted': 1, 'infamonize': 1, 'Huge': 1, 'bepray': 1, 'buttonhole': 1, 'uncasing': 1, 'woolward': 1, 'enjoined': 1, 'Jaquenettas': 1, 'MONSIEUR': 1, 'Marcade': 1, 'interruptest': 1, 'WOrthies': 1, 'WORTHIES': 1, 'newsad': 1, 'overboldly': 1, 'decides': 1, 'wholesomeprofitable': 1, 'unbefitting': 1, 'Formd': 1, 'Varying': 1, 'particoated': 1, 'misbecomd': 1, 'gravities': 1, 'Suggested': 1, 'purifies': 1, 'Remote': 1, 'Nip': 1, 'Raining': 1, 'intitled': 1, 'twelvemonths': 1, 'Studies': 1, 'pained': 1, 'Mirth': 1, 'Deafd': 1, 'hospital': 1, 'SPRING': 1, 'ladysmocks': 1, 'silverwhite': 1, 'cuckoobuds': 1, 'oaten': 1, 'ploughmens': 1, 'bleach': 1, 'WINTER': 1, 'nippd': 1, 'brooding': 1, 'Marians': 1, 'Towho': 1, 'Lochaber': 1, 'Apparitions': 1, 'hurlyburlys': 1, 'Graymalkin': 1, 'Paddock': 1, 'Doubtful': 1, 'swimmers': 1, 'Macdonwald': 1, 'Western': 1, 'Isles': 1, 'smoked': 1, 'Valors': 1, 'faced': 1, 'unseamd': 1, 'Shipwrecking': 1, 'Compelld': 1, 'surveying': 1, 'furbishd': 1, 'Dismayd': 1, 'memorize': 1, 'Assisted': 1, 'Bellonas': 1, 'Confronted': 1, 'selfcomparisons': 1, 'Curbing': 1, 'Sweno': 1, 'Norways': 1, 'disbursed': 1, 'Colmes': 1, 'Inch': 1, 'dollars': 1, 'chestnuts': 1, 'Aroint': 1, 'rumpfed': 1, 'shipmans': 1, 'tempesttossd': 1, 'Posters': 1, 'choppy': 1, 'skinny': 1, 'Sinels': 1, 'insane': 1, 'Silenced': 1, 'Promised': 1, 'themeI': 1, 'Commencing': 1, 'imaginings': 1, 'registerd': 1, 'Implored': 1, 'lowe': 1, 'fullness': 1, 'thanes': 1, 'unaccompanied': 1, 'deservers': 1, 'missives': 1, 'allhailed': 1, 'saluted': 1, 'referred': 1, 'illness': 1, 'wrongly': 1, 'impedes': 1, 'metaphysical': 1, 'croaks': 1, 'unsex': 1, 'topfull': 1, 'direst': 1, 'compunctious': 1, 'visitings': 1, 'murthering': 1, 'dunnest': 1, 'masterdom': 1, 'Nimbly': 1, 'templehaunting': 1, 'mansionry': 1, 'wooingly': 1, 'Buttress': 1, 'procreant': 1, 'ield': 1, 'coursed': 1, 'purveyor': 1, 'Sewer': 1, 'assassination': 1, 'trammel': 1, 'beall': 1, 'endall': 1, 'shoal': 1, 'Weld': 1, 'inventor': 1, 'evenhanded': 1, 'trumpettongued': 1, 'takingoff': 1, 'Striding': 1, 'horsed': 1, 'couriers': 1, 'Vaulting': 1, 'oerleaps': 1, 'Letting': 1, 'boneless': 1, 'gums': 1, 'screw': 1, 'stickingplace': 1, 'chamberlains': 1, 'limbeck': 1, 'drenched': 1, 'menchildren': 1, 'Restrain': 1, 'measureless': 1, 'kindst': 1, 'franchised': 1, 'counseld': 1, 'Proceeding': 1, 'heatoppressed': 1, 'marshalst': 1, 'dudgeon': 1, 'gouts': 1, 'informs': 1, 'halfworld': 1, 'celebrates': 1, 'Alarumd': 1, 'stealthy': 1, 'firmset': 1, 'bellman': 1, 'sternst': 1, 'druggd': 1, 'possets': 1, 'scream': 1, 'Listening': 1, 'raveld': 1, 'sleave': 1, 'nourisher': 1, 'unbend': 1, 'brainsickly': 1, 'smear': 1, 'Infirm': 1, 'appals': 1, 'incarnadine': 1, 'entry': 1, 'unattended': 1, 'farmer': 1, 'equivocate': 1, 'devilporter': 1, 'bonfire': 1, 'provoker': 1, 'nosepainting': 1, 'unprovokes': 1, 'disheartens': 1, 'equivocates': 1, 'Lamentings': 1, 'screams': 1, 'Clamord': 1, 'masterpiece': 1, 'dooms': 1, 'Duff': 1, 'badged': 1, 'unwiped': 1, 'Outrun': 1, 'pauser': 1, 'laced': 1, 'gashd': 1, 'breechd': 1, 'Hid': 1, 'auger': 1, 'pretense': 1, 'Threescore': 1, 'trifled': 1, 'knowings': 1, 'traveling': 1, 'towering': 1, 'hawkd': 1, 'horsesa': 1, 'Thriftless': 1, 'Colmekill': 1, 'playdst': 1, 'verities': 1, 'unbecoming': 1, 'indissoluble': 1, 'parricide': 1, 'Craving': 1, 'prophetlike': 1, 'unlineal': 1, 'rancors': 1, 'gospeld': 1, 'mongrels': 1, 'spaniels': 1, 'Shoughs': 1, 'waterrugs': 1, 'demiwolves': 1, 'clept': 1, 'Distinguishes': 1, 'Particular': 1, 'barefaced': 1, 'Masking': 1, 'Perform': 1, 'botches': 1, 'Noughts': 1, 'sorriest': 1, 'fitful': 1, 'Unsafe': 1, 'Disguising': 1, 'copys': 1, 'assailable': 1, 'cloisterd': 1, 'shardborne': 1, 'seeling': 1, 'Scarf': 1, 'rooky': 1, 'drowse': 1, 'marvelst': 1, 'glimmers': 1, 'traveler': 1, 'Approaches': 1, 'cutthroats': 1, 'Whole': 1, 'casing': 1, 'cabind': 1, 'cribbd': 1, 'trenched': 1, 'roofd': 1, 'Pleaset': 1, 'notAre': 1, 'airdrawn': 1, 'Impostors': 1, 'Authorized': 1, 'olden': 1, 'marrowless': 1, 'glare': 1, 'rhinoceros': 1, 'Hyrcan': 1, 'Unreal': 1, 'displaced': 1, 'blanchd': 1, 'enrages': 1, 'Augures': 1, 'relations': 1, 'secretst': 1, 'selfabuse': 1, 'initiate': 1, 'overbold': 1, 'Spiteful': 1, 'sleights': 1, 'delinquents': 1, 'thralls': 1, 'malevolence': 1, 'Prepares': 1, 'brinded': 1, 'hedgepig': 1, 'whined': 1, 'Harpier': 1, 'Days': 1, 'thirtyone': 1, 'Swelterd': 1, 'Boil': 1, 'Fillet': 1, 'fenny': 1, 'Wool': 1, 'Adders': 1, 'Lizards': 1, 'howlets': 1, 'hellbroth': 1, 'Scale': 1, 'Witchs': 1, 'ravind': 1, 'saltsea': 1, 'shark': 1, 'Liver': 1, 'blaspheming': 1, 'Sliverd': 1, 'Nose': 1, 'Finger': 1, 'birthstrangled': 1, 'Ditchdeliverd': 1, 'gruel': 1, 'slab': 1, 'chawdron': 1, 'cawdron': 1, 'Enchanting': 1, 'navigation': 1, 'topple': 1, 'slope': 1, 'germaines': 1, 'sows': 1, 'farrow': 1, 'sweaten': 1, 'deftly': 1, 'harpd': 1, 'palehearted': 1, 'lionmettled': 1, 'conspirers': 1, 'Unfix': 1, 'earthbound': 1, 'Rebellions': 1, 'highplaced': 1, 'Throbs': 1, 'goldbound': 1, 'Filthy': 1, 'bloodbolterd': 1, 'Comesisters': 1, 'galloping': 1, 'anticipatest': 1, 'flighty': 1, 'Macduffs': 1, 'Fatherd': 1, 'pitfall': 1, 'yould': 1, 'prattler': 1, 'Accounted': 1, 'shageard': 1, 'downfalln': 1, 'birthdom': 1, 'resounds': 1, 'yelld': 1, 'dolor': 1, 'rawness': 1, 'dishonors': 1, 'safeties': 1, 'Bleed': 1, 'affeerd': 1, 'confineless': 1, 'Luxurious': 1, 'avaricious': 1, 'Sudden': 1, 'smacking': 1, 'cestern': 1, 'Boundless': 1, 'inclined': 1, 'illcomposed': 1, 'stanchless': 1, 'morehaving': 1, 'Quarrels': 1, 'Destroying': 1, 'summerseeming': 1, 'foisons': 1, 'kingbecoming': 1, 'stableness': 1, 'Bounty': 1, 'perseverance': 1, 'Devotion': 1, 'Uproar': 1, 'untitled': 1, 'bloodyscepterd': 1, 'interdiction': 1, 'Oftener': 1, 'repeatst': 1, 'Wiped': 1, 'Devilish': 1, 'overcredulous': 1, 'Deal': 1, 'Unspeak': 1, 'Scarcely': 1, 'coveted': 1, 'hereapproach': 1, 'convinces': 1, 'hereremain': 1, 'strangelyvisited': 1, 'batterd': 1, 'feegrief': 1, 'Savagely': 1, 'oerfraught': 1, 'hellkite': 1, 'swoop': 1, 'Sinful': 1, 'Anteroom': 1, 'Waiting': 1, 'watched': 1, 'slumbery': 1, 'murky': 1, 'handWhats': 1, 'Excite': 1, 'Sewards': 1, 'unrough': 1, 'Protest': 1, 'fortifies': 1, 'minutely': 1, 'faithbreach': 1, 'pesterd': 1, 'consequences': 1, 'epicures': 1, 'sag': 1, 'creamfaced': 1, 'loon': 1, 'Geese': 1, 'overred': 1, 'counselors': 1, 'wheyface': 1, 'SeytonI': 1, 'disseat': 1, 'Curses': 1, 'mouthhonor': 1, 'til': 1, 'thickcoming': 1, 'Raze': 1, 'oblivious': 1, 'antidote': 1, 'Pullt': 1, 'rhubarb': 1, 'cyme': 1, 'purgative': 1, 'Profit': 1, 'beart': 1, 'beforet': 1, 'Industrious': 1, 'Marching': 1, 'dareful': 1, 'nightshriek': 1, 'Direness': 1, 'slaughterous': 1, 'Creeps': 1, 'yesterdays': 1, 'Lifes': 1, 'struts': 1, 'Signifying': 1, 'Liar': 1, 'screens': 1, 'bearlike': 1, 'Brandishd': 1, 'unbatterd': 1, 'undeeded': 1, 'clatter': 1, 'bloodier': 1, 'intrenchant': 1, 'vulnerable': 1, 'cowd': 1, 'patter': 1, 'Painted': 1, 'underwrit': 1, 'Malcolms': 1, 'rabbles': 1, 'cheaply': 1, 'unshrinking': 1, 'exiled': 1, 'Producing': 1, 'Deputy': 1, 'institutions': 1, 'Elected': 1, 'Fully': 1, 'belongings': 1, 'Mortality': 1, 'leavend': 1, 'prefers': 1, 'unquestiond': 1, 'Matters': 1, 'Aves': 1, 'Hungary': 1, 'Hungarys': 1, 'concludst': 1, 'Commandments': 1, 'threepild': 1, 'Mitigation': 1, 'figuring': 1, 'Julietta': 1, 'promisekeeping': 1, 'customshrunk': 1, 'Groping': 1, 'trouts': 1, 'burgher': 1, 'clients': 1, 'immoderate': 1, 'morality': 1, 'Juliettas': 1, 'denunciation': 1, 'propagation': 1, 'Unhappily': 1, 'unscourd': 1, 'zodiacs': 1, 'Freshly': 1, 'Implore': 1, 'ticktack': 1, 'dribbling': 1, 'stricture': 1, 'Gladly': 1, 'birch': 1, 'infliction': 1, 'tiedup': 1, 'permissive': 1, 'confesses': 1, 'seemers': 1, 'privileges': 1, 'votarists': 1, 'Clare': 1, 'unsworn': 1, 'prioress': 1, 'cheekroses': 1, 'enskied': 1, 'renouncement': 1, 'Fewness': 1, 'seedness': 1, 'Expresseth': 1, 'Adoptedly': 1, 'schoolmaids': 1, 'givingsout': 1, 'truemeant': 1, 'Governs': 1, 'snowbroth': 1, 'rebate': 1, 'abilitys': 1, 'Assay': 1, 'coherd': 1, 'Errd': 1, 'Guiltier': 1, 'Benefactors': 1, 'parcelbawd': 1, 'hothouse': 1, 'cardinally': 1, 'uncleanliness': 1, 'misplaces': 1, 'China': 1, 'greatbellied': 1, 'Allhallond': 1, 'eve': 1, 'Bunch': 1, 'Grapes': 1, 'wicket': 1, 'taphouse': 1, 'Bum': 1, 'beastliest': 1, 'splay': 1, 'drabs': 1, 'heading': 1, 'carman': 1, 'Repented': 1, 'fornicatress': 1, 'Condemn': 1, 'Maiden': 1, 'deputed': 1, 'remissness': 1, 'unwedgeable': 1, 'gnarled': 1, 'Dressd': 1, 'speens': 1, 'sicles': 1, 'tested': 1, 'sunrise': 1, 'goad': 1, 'blisterd': 1, 'offenceful': 1, 'Mutually': 1, 'respites': 1, 'Anchors': 1, 'dispossessing': 1, 'wellwishd': 1, 'pose': 1, 'uncleanness': 1, 'enshielded': 1, 'Accountant': 1, 'allbinding': 1, 'cheaper': 1, 'sliding': 1, 'prints': 1, 'intreat': 1, 'Sign': 1, 'unsoild': 1, 'austereness': 1, 'overweigh': 1, 'nicety': 1, 'prolixious': 1, 'oerweighs': 1, 'Hooking': 1, 'prompture': 1, 'Servile': 1, 'skyey': 1, 'labourst': 1, 'accommodations': 1, 'strivst': 1, 'ingots': 1, 'unloads': 1, 'Dreaming': 1, 'leiger': 1, 'Perpetual': 1, 'vastidity': 1, 'conserve': 1, 'outwardsainted': 1, 'Nips': 1, 'enew': 1, 'damnedst': 1, 'perdurably': 1, 'kneaded': 1, 'thrilling': 1, 'thickribbed': 1, 'viewless': 1, 'weariest': 1, 'dispenses': 1, 'warped': 1, 'issud': 1, 'Reprieve': 1, 'fallible': 1, 'advisings': 1, 'uprighteously': 1, 'affianced': 1, 'perished': 1, 'marriagedowry': 1, 'combinate': 1, 'washed': 1, 'relents': 1, 'rupture': 1, 'forenamed': 1, 'plausible': 1, 'advantaged': 1, 'doubleness': 1, 'lambskins': 1, 'facing': 1, 'picklock': 1, 'causest': 1, 'stinkingly': 1, 'Correction': 1, 'whoremonger': 1, 'Pygmalions': 1, 'Procures': 1, 'powderd': 1, 'unshunnd': 1, 'Bawd': 1, 'bawdborn': 1, 'wheresoever': 1, 'extirp': 1, 'seamaid': 1, 'spawnd': 1, 'stockfishes': 1, 'generative': 1, 'clackdish': 1, 'withdrawing': 1, 'unweighing': 1, 'helmed': 1, 'testimonied': 1, 'bringingsforth': 1, 'unskilfully': 1, 'unhurtful': 1, 'tundish': 1, 'ungeniturd': 1, 'houseeaves': 1, 'untrussing': 1, 'backwounding': 1, 'whitest': 1, 'Lucios': 1, 'Keepdown': 1, 'Novelty': 1, 'undertakeing': 1, 'fellowships': 1, 'contended': 1, 'humbles': 1, 'straitness': 1, 'Pattern': 1, 'selfoffences': 1, 'Craft': 1, 'exacting': 1, 'contracting': 1, 'mislead': 1, 'stilld': 1, 'circummurd': 1, 'planched': 1, 'precept': 1, 'Volumes': 1, 'Thousand': 1, 'precontract': 1, 'tithes': 1, 'oftener': 1, 'starkly': 1, 'wholesomst': 1, 'Envelop': 1, 'paralleld': 1, 'meald': 1, 'corrects': 1, 'unsisting': 1, 'pardoner': 1, 'mercys': 1, 'awakens': 1, 'puttingon': 1, 'Whatsoever': 1, 'Bohemian': 1, 'penitently': 1, 'disguiser': 1, 'Shave': 1, 'overread': 1, 'Barnardines': 1, 'Caper': 1, 'Threepile': 1, 'mercer': 1, 'peaches': 1, 'Dizy': 1, 'Deepvow': 1, 'Copperspur': 1, 'Starvelackey': 1, 'Dropheir': 1, 'Pudding': 1, 'Forthlight': 1, 'Shootie': 1, 'Halfcan': 1, 'Pots': 1, 'rustle': 1, 'billets': 1, 'provides': 1, 'dependant': 1, 'wellbalancd': 1, 'Wend': 1, 'disvouchd': 1, 'Betimes': 1, 'unshapes': 1, 'deflowred': 1, 'gravest': 1, 'inquiry': 1, 'Forerunning': 1, 'forted': 1, 'razure': 1, 'supporters': 1, 'Vail': 1, 'Relate': 1, 'virginviolator': 1, 'believst': 1, 'wickedst': 1, 'characts': 1, 'oddest': 1, 'inequality': 1, 'Mended': 1, 'refelld': 1, 'concupiscible': 1, 'sisterly': 1, 'Faults': 1, 'wrapt': 1, 'unbelieved': 1, 'Thiss': 1, 'ungot': 1, 'temporary': 1, 'misreport': 1, 'Whensoever': 1, 'vulgarly': 1, 'disproved': 1, 'Charges': 1, 'Isabels': 1, 'belockd': 1, 'Carnally': 1, 'disvalued': 1, 'affiancd': 1, 'confixed': 1, 'informal': 1, 'Compact': 1, 'wellwarranted': 1, 'Respect': 1, 'touze': 1, 'Joint': 1, 'provincial': 1, 'baldpate': 1, 'notedly': 1, 'fleshmonger': 1, 'treasonable': 1, 'giglets': 1, 'baldpated': 1, 'sheepbiting': 1, 'Pulls': 1, 'FRIARS': 1, 'bood': 1, 'Rely': 1, 'guiltier': 1, 'undiscernible': 1, 'Advertising': 1, 'Attorneyd': 1, 'paind': 1, 'remonstrance': 1, 'welldefended': 1, 'promisebreach': 1, 'dependent': 1, 'Consenting': 1, 'confiscation': 1, 'instate': 1, 'definitive': 1, 'Intents': 1, 'squarst': 1, 'muffld': 1, 'Unmuffles': 1, 'Whipt': 1, 'Remit': 1, 'heiress': 1, 'waitingmaid': 1, 'Magnificoes': 1, 'wantwit': 1, 'traffickers': 1, 'piers': 1, 'Misfortune': 1, 'broth': 1, 'dockd': 1, 'Vailing': 1, 'Enrobe': 1, 'bechancd': 1, 'twoheaded': 1, 'bagpiper': 1, 'laughable': 1, 'jaundice': 1, 'Oracle': 1, 'gudgeon': 1, 'exhortation': 1, 'bushels': 1, 'abridgd': 1, 'gagd': 1, 'unburden': 1, 'unlockd': 1, 'adventuring': 1, 'undervalud': 1, 'Colchos': 1, 'strond': 1, 'questionless': 1, 'chapels': 1, 'meshes': 1, 'inspirations': 1, 'overname': 1, 'namest': 1, 'describe': 1, 'appropriation': 1, 'acapring': 1, 'baron': 1, 'dumbshow': 1, 'Saxonys': 1, 'determinations': 1, 'Sibylla': 1, 'Montferrat': 1, 'squandred': 1, 'boards': 1, 'landrats': 1, 'waterrats': 1, 'waterthieves': 1, 'landthieves': 1, 'Nazarite': 1, 'publican': 1, 'congregate': 1, 'wellwon': 1, 'grazd': 1, 'Labans': 1, 'Laban': 1, 'compromisd': 1, 'eanlings': 1, 'eaning': 1, 'particolourd': 1, 'inserted': 1, 'producing': 1, 'usances': 1, 'misbeliever': 1, 'cutthroat': 1, 'Jewish': 1, 'bondmans': 1, 'spurnd': 1, 'Exact': 1, 'notary': 1, 'expires': 1, 'beefs': 1, 'notarys': 1, 'FOLLOWERS': 1, 'Mislike': 1, 'thaws': 1, 'reddest': 1, 'bestregarded': 1, 'Bars': 1, 'comer': 1, 'Sultan': 1, 'Solyman': 1, 'oerstare': 1, 'sternest': 1, 'Outbrave': 1, 'cubs': 1, 'shebear': 1, 'Miss': 1, 'unworthier': 1, 'cursedst': 1, 'incarnation': 1, 'truebegotten': 1, 'highgravel': 1, 'sonties': 1, 'hovelpost': 1, 'Dobbin': 1, 'fillhorse': 1, 'Dobbins': 1, 'gree': 1, 'FOLLOWER': 1, 'hasted': 1, 'catercousins': 1, 'frutify': 1, 'aleven': 1, 'comingin': 1, 'featherbedhere': 1, 'Leonardo': 1, 'misconstred': 1, 'prayerbooks': 1, 'demurely': 1, 'gauge': 1, 'torchbearers': 1, 'Lovenews': 1, 'Gratianos': 1, 'gormandize': 1, 'abrewing': 1, 'Ash': 1, 'Lock': 1, 'squealing': 1, 'wryneckd': 1, 'Clamber': 1, 'foppry': 1, 'Jewess': 1, 'Hagars': 1, 'Snailslow': 1, 'drones': 1, 'crost': 1, 'Desired': 1, 'outdwells': 1, 'obliged': 1, 'unforfeited': 1, 'scarfed': 1, 'Huggd': 1, 'overweatherd': 1, 'PORTIAs': 1, 'inscription': 1, 'inscriptions': 1, 'disabling': 1, 'mortalbreathing': 1, 'wilds': 1, 'throughfares': 1, 'Spits': 1, 'cerecloth': 1, 'undervalued': 1, 'Stampd': 1, 'insculpd': 1, 'Gilded': 1, 'inscrolld': 1, 'outcries': 1, 'Stoln': 1, 'Slubber': 1, 'riping': 1, 'ostents': 1, 'SERVITOR': 1, 'pries': 1, 'Builds': 1, 'casualty': 1, 'treasurehouse': 1, 'corruptly': 1, 'peasantry': 1, 'portrait': 1, 'iwis': 1, 'Silverd': 1, 'Patiently': 1, 'wroth': 1, 'regreets': 1, 'forespurrer': 1, 'spendst': 1, 'Goodwins': 1, 'carcases': 1, 'flidge': 1, 'Rebels': 1, 'healed': 1, 'itshall': 1, 'Frankfort': 1, 'hearsd': 1, 'torturest': 1, 'turquoise': 1, 'Leah': 1, 'peize': 1, 'swanlike': 1, 'Fading': 1, 'newcrowned': 1, 'Dardanian': 1, 'Obscures': 1, 'crisped': 1, 'snaky': 1, 'guiled': 1, 'Veiling': 1, 'Midas': 1, 'threatenst': 1, 'rashembracd': 1, 'shuddring': 1, 'greeneyd': 1, 'mesh': 1, 'underprizing': 1, 'Chance': 1, 'Giddy': 1, 'peals': 1, 'thricefair': 1, 'trebled': 1, 'livings': 1, 'unlessond': 1, 'Happiest': 1, 'Commits': 1, 'Achievd': 1, 'unpleasantst': 1, 'Rating': 1, 'Engagd': 1, 'Issuing': 1, 'Lisbon': 1, 'merchantmarring': 1, 'magnificoes': 1, 'Chus': 1, 'unwearied': 1, 'Notwithstanding': 1, 'interposer': 1, 'dulleyd': 1, 'intercessors': 1, 'impenetrable': 1, 'forfeitures': 1, 'Consisteth': 1, 'honesttrue': 1, 'traject': 1, 'ferry': 1, 'Waste': 1, 'accoutred': 1, 'prettier': 1, 'frays': 1, 'discontinued': 1, 'Scylla': 1, 'Charybdis': 1, 'porkeaters': 1, 'rasher': 1, 'negros': 1, 'witsnapper': 1, 'cheerst': 1, 'Pawnd': 1, 'tabletalk': 1, 'Uncapable': 1, 'leadest': 1, 'exacts': 1, 'Glancing': 1, 'huddled': 1, 'Enow': 1, 'brassy': 1, 'Hates': 1, 'fretten': 1, 'jewish': 1, 'rendring': 1, 'Meetest': 1, 'keenness': 1, 'inexecrable': 1, 'waver': 1, 'Governd': 1, 'Infusd': 1, 'wolfish': 1, 'offendst': 1, 'attendeth': 1, 'Bellarios': 1, 'learningthe': 1, 'Laws': 1, 'impugn': 1, 'droppeth': 1, 'blesseth': 1, 'Wrest': 1, 'Grieve': 1, 'Barrabas': 1, 'recant': 1, 'Clerk': 1, 'christning': 1, 'oertaen': 1, 'Furthermore': 1, 'Shylocks': 1, 'oertrip': 1, 'dismayed': 1, 'seabanks': 1, 'AEson': 1, 'outnight': 1, 'ceremoniously': 1, 'wo': 1, 'holloaing': 1, 'inlaid': 1, 'patines': 1, 'quiring': 1, 'youngeyd': 1, 'Fetching': 1, 'stockish': 1, 'dullas': 1, 'Empties': 1, 'Endymion': 1, 'gelt': 1, 'cutlers': 1, 'withstanding': 1, 'Enterd': 1, 'Unseal': 1, 'manna': 1, 'intergatory': 1, 'Nerissas': 1, 'MERRY': 1, 'WIVES': 1, 'WINDSOR': 1, 'Coram': 1, 'Custalorum': 1, 'Ratolorum': 1, 'Armigero': 1, 'obligationArmigero': 1, 'luces': 1, 'louses': 1, 'passant': 1, 'luce': 1, 'pyr': 1, 'disparagements': 1, 'benevolence': 1, 'atonements': 1, 'compremises': 1, 'vizaments': 1, 'deathsbedGot': 1, 'resurrectionsgive': 1, 'possibilities': 1, 'wellwillers': 1, 'plessing': 1, 'peradventures': 1, 'Pageand': 1, 'Cotsall': 1, 'redressed': 1, 'Pauca': 1, 'cabbage': 1, 'Banbury': 1, 'Mephostophilus': 1, 'Slice': 1, 'slice': 1, 'umpires': 1, 'finally': 1, 'prief': 1, 'tevil': 1, 'affectations': 1, 'heor': 1, 'elseof': 1, 'millsixpences': 1, 'shovelboards': 1, 'Yead': 1, 'Miller': 1, 'mountainforeigner': 1, 'latten': 1, 'labras': 1, 'nuthooks': 1, 'fap': 1, 'udge': 1, 'denid': 1, 'Songs': 1, 'Sonnets': 1, 'Shortcake': 1, 'Allhallowmas': 1, 'possitable': 1, 'ord': 1, 'plessed': 1, 'fencethree': 1, 'veneys': 1, 'Sackerson': 1, 'laundry': 1, 'washer': 1, 'wringer': 1, 'altogethers': 1, 'pippins': 1, 'scholarly': 1, 'Discard': 1, 'cashier': 1, 'emperorCaesar': 1, 'Keiser': 1, 'Pheazar': 1, 'Hungarian': 1, 'spigot': 1, 'tinderbox': 1, 'singerhe': 1, 'fico': 1, 'conycatch': 1, 'carves': 1, 'invitation': 1, 'Englishd': 1, 'oeillades': 1, 'exteriors': 1, 'burningglass': 1, 'Guiana': 1, 'exchequers': 1, 'humourletter': 1, 'Rogues': 1, 'hailstones': 1, 'Trudge': 1, 'skirted': 1, 'gourd': 1, 'fullam': 1, 'Tester': 1, 'operations': 1, 'yellowness': 1, 'CAIUSS': 1, 'breedbate': 1, 'glovers': 1, 'paringknife': 1, 'Caincolourd': 1, 'softlysprighted': 1, 'warrener': 1, 'Evans': 1, 'vetch': 1, 'boitier': 1, 'verta': 1, 'Fe': 1, 'fait': 1, 'chaud': 1, 'vais': 1, 'courla': 1, 'grande': 1, 'affaire': 1, 'mette': 1, 'depeche': 1, 'takea': 1, 'Quai': 1, 'varld': 1, 'larron': 1, 'phlegmatic': 1, 'Vell': 1, 'Peacea': 1, 'Speaka': 1, 'senda': 1, 'baillez': 1, 'littleawhile': 1, 'masterI': 1, 'notwithstandingto': 1, 'itmy': 1, 'mindthats': 1, 'jacknape': 1, 'givea': 1, 'shallenge': 1, 'troat': 1, 'jackanape': 1, 'mattera': 1, 'ver': 1, 'haveAn': 1, 'foolshead': 1, 'allicholy': 1, 'youwell': 1, 'loveletters': 1, 'holidaytime': 1, 'precisian': 1, 'sufficethat': 1, 'unweighed': 1, 'Flemish': 1, 'pickdwith': 1, 'Dispense': 1, 'wellbehaved': 1, 'uncomeliness': 1, 'Hundredth': 1, 'Psalm': 1, 'Letter': 1, 'twinbrother': 1, 'namessure': 1, 'moreand': 1, 'giantess': 1, 'Boarding': 1, 'finebaited': 1, 'chariness': 1, 'Ringwood': 1, 'drawling': 1, 'itwell': 1, 'ranting': 1, 'guestcavaleiro': 1, 'Brookonly': 1, 'egress': 1, 'regress': 1, 'Mynheers': 1, 'stoccadoes': 1, 'coachfellow': 1, 'geminy': 1, 'Goa': 1, 'Pickthatch': 1, 'unconfinable': 1, 'lurch': 1, 'catamountain': 1, 'redlattice': 1, 'boldbeating': 1, 'swearer': 1, 'sirI': 1, 'hearsmine': 1, 'musk': 1, 'rushling': 1, 'alligant': 1, 'eyewink': 1, 'frampold': 1, 'fartuous': 1, 'hopethat': 1, 'distracts': 1, 'whelm': 1, 'momings': 1, 'yoursnot': 1, 'emboldned': 1, 'scholarI': 1, 'enlargeth': 1, 'courtlike': 1, 'detection': 1, 'gobetween': 1, 'wittolly': 1, 'masses': 1, 'harvesthome': 1, 'saltbutter': 1, 'improvident': 1, 'gnawn': 1, 'Amaimon': 1, 'Wittol': 1, 'Fleming': 1, 'ruminates': 1, 'devises': 1, 'Pible': 1, 'montant': 1, 'Ethiopian': 1, 'Aesculapius': 1, 'CastalionKingUrinal': 1, 'Bodykins': 1, 'itches': 1, 'Mounseur': 1, 'Mockvater': 1, 'mockvater': 1, 'jackdog': 1, 'clapperclaw': 1, 'Clapperdeclaw': 1, 'clapperdeclaw': 1, 'tank': 1, 'bullybut': 1, 'anape': 1, 'afeasting': 1, 'procurea': 1, 'vell': 1, 'pittieward': 1, 'parkward': 1, 'fehemently': 1, 'chollors': 1, 'trempling': 1, 'melancholies': 1, 'peds': 1, 'Whenas': 1, 'Pabylon': 1, 'vagram': 1, 'Hibocrates': 1, 'besidesa': 1, 'Disarm': 1, 'leta': 1, 'Verefore': 1, 'meeta': 1, 'laughingstocks': 1, 'cogscomb': 1, 'Diable': 1, 'Rugbymine': 1, 'Jarteerhave': 1, 'Gaul': 1, 'soulcurer': 1, 'bodycurer': 1, 'noverbs': 1, 'vloutingstog': 1, 'scall': 1, 'noddles': 1, 'thattwo': 1, 'dickens': 1, 'pointblank': 1, 'divulge': 1, 'begar': 1, 'nursha': 1, 'mush': 1, 'pipewine': 1, 'brewhouse': 1, 'staggering': 1, 'whitsters': 1, 'eyasmusket': 1, 'pumpion': 1, 'shiptire': 1, 'tirevaliant': 1, 'semicircled': 1, 'hawthornbuds': 1, 'Bucklersbury': 1, 'Countergate': 1, 'limekiln': 1, 'bucking': 1, 'orit': 1, 'whitingtimesend': 1, 'awayLet': 1, 'cowlstaff': 1, 'drumble': 1, 'buckwashing': 1, 'Locking': 1, 'uncape': 1, 'pad': 1, 'omans': 1, 'turd': 1, 'mockeries': 1, 'thenhark': 1, 'slid': 1, 'venturing': 1, 'longtail': 1, 'heartlings': 1, 'bowld': 1, 'turnips': 1, 'barrow': 1, 'butterd': 1, 'newyears': 1, 'bitchs': 1, 'shelvy': 1, 'shallowa': 1, 'snowballs': 1, 'chalices': 1, 'pulletsperm': 1, 'brewage': 1, 'yearn': 1, 'peaking': 1, 'cornuto': 1, 'protested': 1, 'instigated': 1, 'Rammd': 1, 'socks': 1, 'Lane': 1, 'ordaining': 1, 'BrookI': 1, 'kidney': 1, 'thatthat': 1, 'suffocation': 1, 'halfstewd': 1, 'horseshoe': 1, 'Etna': 1, 'buckbaskets': 1, 'meIll': 1, 'accidence': 1, 'tattlings': 1, 'Pulcher': 1, 'Polecats': 1, 'polecats': 1, 'Lapis': 1, 'Articles': 1, 'pronoun': 1, 'Singulariter': 1, 'nominativo': 1, 'haec': 1, 'Nominativo': 1, 'hig': 1, 'genitivo': 1, 'hujus': 1, 'accusative': 1, 'hinc': 1, 'Hanghog': 1, 'Ovocativo': 1, 'genitive': 1, 'harum': 1, 'Jennys': 1, 'hick': 1, 'understandings': 1, 'genders': 1, 'declensions': 1, 'pronouns': 1, 'quae': 1, 'quaes': 1, 'quods': 1, 'preeches': 1, 'sprag': 1, 'Peerout': 1, 'peerout': 1, 'pistols': 1, 'birdingpieces': 1, 'thrummd': 1, 'forbade': 1, 'unfool': 1, 'Somebody': 1, 'panderly': 1, 'ging': 1, 'brazenface': 1, 'fidelity': 1, 'walnut': 1, 'fortunetelling': 1, 'daubry': 1, 'Prat': 1, 'prat': 1, 'polecat': 1, 'fortunetell': 1, 'unpitifully': 1, 'unvirtuous': 1, 'Appoint': 1, 'peaten': 1, 'wintertime': 1, 'raggd': 1, 'idleheaded': 1, 'rattles': 1, 'sawpit': 1, 'diffused': 1, 'encircle': 1, 'fairylike': 1, 'dishorn': 1, 'nevr': 1, 'taber': 1, 'EtonGo': 1, 'tricking': 1, 'moneyd': 1, 'Potent': 1, 'boor': 1, 'standingbed': 1, 'Anthropophaginian': 1, 'Ephesian': 1, 'BohemianTartar': 1, 'honourible': 1, 'musselshell': 1, 'varletto': 1, 'Faustuses': 1, 'entertainments': 1, 'cozengermans': 1, 'Readins': 1, 'Maidenhead': 1, 'Colebrook': 1, 'vloutingstogs': 1, 'dilemma': 1, 'Jamany': 1, 'dere': 1, 'Hue': 1, 'fishermens': 1, 'prosperd': 1, 'chooser': 1, 'seemingly': 1, 'enrobd': 1, 'ribands': 1, 'flaring': 1, 'reststhat': 1, 'youhe': 1, 'Goliath': 1, 'shuttle': 1, 'knaveFord': 1, 'decipher': 1, 'deanery': 1, 'heartbreak': 1, 'lewdsters': 1, 'Trib': 1, 'pold': 1, 'watchords': 1, 'pid': 1, 'HERNE': 1, 'Leda': 1, 'beastO': 1, 'faultand': 1, 'ruttime': 1, 'piss': 1, 'scut': 1, 'potatoes': 1, 'kissingcomfits': 1, 'eringoes': 1, 'Crier': 1, 'oyes': 1, 'Elves': 1, 'Cricket': 1, 'unrakd': 1, 'hearths': 1, 'bilberry': 1, 'sluttery': 1, 'Pede': 1, 'Strew': 1, 'sevral': 1, 'meadowfairies': 1, 'Garters': 1, 'fertilefresh': 1, 'Honi': 1, 'soit': 1, 'mal': 1, 'tufts': 1, 'embroidery': 1, 'Buckled': 1, 'knighthoods': 1, 'Herne': 1, 'lanterns': 1, 'trialfire': 1, 'fingerend': 1, 'Kindled': 1, 'pinse': 1, 'oerreaching': 1, 'fritters': 1, 'latewalking': 1, 'hodgepudding': 1, 'fornications': 1, 'metheglins': 1, 'drinkings': 1, 'starings': 1, 'flannel': 1, 'Doctors': 1, 'Whoa': 1, 'Dispatchd': 1, 'lubberly': 1, 'stirand': 1, 'garcon': 1, 'paysan': 1, 'unduteous': 1, 'evitate': 1, 'glancd': 1, 'eschewd': 1, 'nightdogs': 1, 'MIDSUMMER': 1, 'NIGHTS': 1, 'DREAM': 1, 'Revels': 1, 'bethrothed': 1, 'GOODFELLOW': 1, 'wanes': 1, 'Newbent': 1, 'solemnities': 1, 'merriments': 1, 'interchangd': 1, 'lovetokens': 1, 'Knacks': 1, 'prevailment': 1, 'unhardened': 1, 'filchd': 1, 'imprinted': 1, 'Chanting': 1, 'Thriceblessed': 1, 'earthlier': 1, 'unwished': 1, 'sealingday': 1, 'Scornful': 1, 'overfull': 1, 'selfaffairs': 1, 'schooling': 1, 'Beteem': 1, 'misgraffed': 1, 'Wishes': 1, 'Fancys': 1, 'knitteth': 1, 'prospers': 1, 'lodestars': 1, 'Sickness': 1, 'Decking': 1, 'Emptying': 1, 'Wings': 1, 'unheedy': 1, 'Comedy': 1, 'Cruel': 1, 'Phibbus': 1, 'condoling': 1, 'strawcolour': 1, 'purpleingrain': 1, 'Frenchcrowncolour': 1, 'courageously': 1, 'bowstrings': 1, 'freckles': 1, 'dewdrops': 1, 'lob': 1, 'Goodfellow': 1, 'villagery': 1, 'Skim': 1, 'quern': 1, 'churn': 1, 'barm': 1, 'Mislead': 1, 'nightwanderers': 1, 'beanfed': 1, 'Neighing': 1, 'filly': 1, 'foal': 1, 'dewlap': 1, 'mistaketh': 1, 'neeze': 1, 'versing': 1, 'Phillida': 1, 'bouncing': 1, 'buskind': 1, 'Glance': 1, 'Perigouna': 1, 'Aegles': 1, 'Antiopa': 1, 'rushy': 1, 'murrion': 1, 'mazes': 1, 'governess': 1, 'distemperature': 1, 'hoaryheaded': 1, 'chaplet': 1, 'childing': 1, 'mazed': 1, 'henchman': 1, 'spiced': 1, 'gossipd': 1, 'Marking': 1, 'embarked': 1, 'bigbellied': 1, 'harmonious': 1, 'seamaids': 1, 'loveshaft': 1, 'smartly': 1, 'Quenchd': 1, 'fancyfree': 1, 'Loveinidleness': 1, 'leviathan': 1, 'slayeth': 1, 'brakes': 1, 'overcanopied': 1, 'Lulld': 1, 'Weed': 1, 'streak': 1, 'roundel': 1, 'muskrose': 1, 'reremice': 1, 'hoots': 1, 'Thorny': 1, 'Newts': 1, 'Lulla': 1, 'Weaving': 1, 'longleggd': 1, 'Beetles': 1, 'squeezes': 1, 'TITANIAS': 1, 'interchained': 1, 'bedroom': 1, 'wishers': 1, 'lacklove': 1, 'killcourtesy': 1, 'Churl': 1, 'eyelid': 1, 'sphery': 1, 'Pat': 1, 'tiringhouse': 1, 'wildfowl': 1, 'almanack': 1, 'homespuns': 1, 'Odious': 1, 'lilywhite': 1, 'brisky': 1, 'cues': 1, 'finch': 1, 'pressed': 1, 'dewberries': 1, 'mulberries': 1, 'humblebees': 1, 'nighttapers': 1, 'moonbeams': 1, 'Squash': 1, 'Peascod': 1, 'oxbeef': 1, 'Lamenting': 1, 'silently': 1, 'nightrule': 1, 'mechanicals': 1, 'Forsook': 1, 'nole': 1, 'mimic': 1, 'fowler': 1, 'russetpated': 1, 'cawing': 1, 'Sever': 1, 'yielders': 1, 'latchd': 1, 'bord': 1, 'drivst': 1, 'doubler': 1, 'misprisd': 1, 'trueloves': 1, 'oerrules': 1, 'fancysick': 1, 'Hit': 1, 'gloriously': 1, 'prepostrously': 1, 'devilishholy': 1, 'hod': 1, 'Crystal': 1, 'cherries': 1, 'Fannd': 1, 'superpraise': 1, 'guestwise': 1, 'Disparage': 1, 'engilds': 1, 'oes': 1, 'hastyfooted': 1, 'cankerblossom': 1, 'bashfulness': 1, 'Puppet': 1, 'statures': 1, 'maypole': 1, 'shrewishness': 1, 'hinders': 1, 'vixen': 1, 'minimus': 1, 'hindring': 1, 'knotgrass': 1, 'bead': 1, 'committst': 1, 'overcast': 1, 'starry': 1, 'deathcounterfeiting': 1, 'batty': 1, 'crossways': 1, 'wormy': 1, 'Mornings': 1, 'Goblin': 1, 'Telling': 1, 'heeld': 1, 'mockst': 1, 'Faintness': 1, 'constraineth': 1, 'Bedabbled': 1, 'Squeezing': 1, 'LYSANDERS': 1, 'redhippd': 1, 'overflown': 1, 'Cavalery': 1, 'tongs': 1, 'munch': 1, 'squirrels': 1, 'peas': 1, 'entwist': 1, 'Enrings': 1, 'barky': 1, 'flowerets': 1, 'taunted': 1, 'charmeth': 1, 'pairs': 1, 'Wedded': 1, 'Cadmus': 1, 'flewd': 1, 'sanded': 1, 'Crookkneed': 1, 'dewlappd': 1, 'Thessalian': 1, 'Slow': 1, 'hollad': 1, 'woodbirds': 1, 'gaud': 1, 'eternally': 1, 'handicraft': 1, 'seething': 1, 'shaping': 1, 'imagining': 1, 'transfigurd': 1, 'aftersupper': 1, 'tipsy': 1, 'Thebes': 1, 'sorting': 1, 'Hardhanded': 1, 'unbreathed': 1, 'Extremely': 1, 'oercharged': 1, 'shiver': 1, 'periods': 1, 'Throttle': 1, 'minding': 1, 'recorder': 1, 'im': 1, 'paired': 1, 'Walls': 1, 'crannied': 1, 'wittiest': 1, 'grimlookd': 1, 'blink': 1, 'Deceiving': 1, 'Limander': 1, 'Tide': 1, 'silliest': 1, 'MOON': 1, 'THISBYS': 1, 'Mantle': 1, 'mousd': 1, 'gleams': 1, 'thrum': 1, 'Asleep': 1, 'notably': 1, 'outsleep': 1, 'overwatchd': 1, 'palpablegross': 1, 'behowls': 1, 'screeching': 1, 'churchway': 1, 'Hand': 1, 'fielddew': 1, 'slumbred': 1, 'unearned': 1, 'MUCH': 1, 'ADO': 1, 'ABOUT': 1, 'NOTHING': 1, 'SCENEMessina': 1, 'achiever': 1, 'bettred': 1, 'Mountanto': 1, 'burbolt': 1, 'trencherman': 1, 'stuffingwell': 1, 'squarer': 1, 'Courtesy': 1, 'turncoat': 1, 'predestinate': 1, 'parrotteacher': 1, 'continuer': 1, 'harefinder': 1, 'furyexceeds': 1, 'constrain': 1, 'allegiancemark': 1, 'thison': 1, 'troths': 1, 'rechate': 1, 'winded': 1, 'baldrick': 1, 'tuition': 1, 'houseif': 1, 'basted': 1, 'ClaudO': 1, 'warthoughts': 1, 'beganst': 1, 'salvd': 1, 'thickpleached': 1, 'accordant': 1, 'skillGood': 1, 'betroths': 1, 'Marchchick': 1, 'perfumer': 1, 'startup': 1, 'tartly': 1, 'worldif': 1, 'berrord': 1, 'Peterfor': 1, 'overmasterd': 1, 'marl': 1, 'kinred': 1, 'repenting': 1, 'jigand': 1, 'Repentance': 1, 'Philemons': 1, 'waggling': 1, 'illwell': 1, 'Hundred': 1, 'Tales': 1, 'devising': 1, 'libertines': 1, 'Manet': 1, 'Friendship': 1, 'unmasked': 1, 'drovier': 1, 'warren': 1, 'endurance': 1, 'huddling': 1, 'terminations': 1, 'toothpicker': 1, 'Prester': 1, 'Chams': 1, 'Pygmiesrather': 1, 'ita': 1, 'countcivil': 1, 'pleasantspirited': 1, 'sevennight': 1, 'watchings': 1, 'unhopefullest': 1, 'lovegods': 1, 'covertly': 1, 'asin': 1, 'maidthat': 1, 'cheapen': 1, 'kidfox': 1, 'Sigh': 1, 'deceivers': 1, 'Converting': 1, 'ayAside': 1, 'Stalk': 1, 'Bait': 1, 'youyou': 1, 'lordespecially': 1, 'Knavery': 1, 'cursesO': 1, 'crossness': 1, 'avoids': 1, 'detractions': 1, 'fairtis': 1, 'meby': 1, 'railed': 1, 'Proposing': 1, 'Ursley': 1, 'pleached': 1, 'honeysuckles': 1, 'enterlike': 1, 'pleasantst': 1, 'greedily': 1, 'haggards': 1, 'newtrothed': 1, 'Misprizing': 1, 'Values': 1, 'selfendeared': 1, 'featurd': 1, 'illheaded': 1, 'purchaseth': 1, 'Consume': 1, 'empoison': 1, 'Taming': 1, 'reportingly': 1, 'bowstring': 1, 'clapper': 1, 'newcrept': 1, 'lutestring': 1, 'Conclude': 1, 'upwards': 1, 'hobbyhorses': 1, 'dearness': 1, 'marriagesurely': 1, 'atalking': 1, 'sheLeonatos': 1, 'disparage': 1, 'untowardly': 1, 'Sequel': 1, 'compartner': 1, 'desartless': 1, 'Oatcake': 1, 'wellfavoured': 1, 'vagrom': 1, 'bidden': 1, 'alehouses': 1, 'peaceable': 1, 'bleats': 1, 'vigitant': 1, 'itchd': 1, 'drizzles': 1, 'unconfirmd': 1, 'bas': 1, 'hotbloods': 1, 'fiveandthirty': 1, 'Bels': 1, 'shaven': 1, 'nightI': 1, 'rebato': 1, 'Milans': 1, 'clothogold': 1, 'sidesleeves': 1, 'underborne': 1, 'tinsel': 1, 'barnes': 1, 'Heyho': 1, 'carduus': 1, 'prickst': 1, 'Benedictus': 1, 'Moral': 1, 'verges': 1, 'decerns': 1, 'matteran': 1, 'Comparisons': 1, 'Palabras': 1, 'comprehended': 1, 'aspicious': 1, 'suffigance': 1, 'noncome': 1, 'excommunication': 1, 'conjoined': 1, 'answernone': 1, 'interjections': 1, 'Bashful': 1, 'pampred': 1, 'catechising': 1, 'Confessd': 1, 'misgovernment': 1, 'Smother': 1, 'Juan': 1, 'Grievd': 1, 'smirched': 1, 'mird': 1, 'onmine': 1, 'Valuing': 1, 'herwhy': 1, 'Washd': 1, 'apparitions': 1, 'experimental': 1, 'Maintaind': 1, 'Ability': 1, 'familys': 1, 'reclusive': 1, 'inwardness': 1, 'unmitigated': 1, 'rancourO': 1, 'windowa': 1, 'Counties': 1, 'Comfect': 1, 'lieand': 1, 'deadand': 1, 'dissembly': 1, 'Bor': 1, 'eftest': 1, 'burglary': 1, 'opiniond': 1, 'themThou': 1, 'householder': 1, 'Patch': 1, 'candlewastersbring': 1, 'preceptial': 1, 'Fetter': 1, 'Charm': 1, 'daff': 1, 'milksops': 1, 'Scambling': 1, 'fashionmonging': 1, 'deprave': 1, 'anticly': 1, 'hideousness': 1, 'dangrous': 1, 'awayI': 1, 'ambo': 1, 'snappd': 1, 'highproof': 1, 'minstreldraw': 1, 'transshape': 1, 'properst': 1, 'cared': 1, 'gossiplike': 1, 'braggards': 1, 'Lackbeard': 1, 'Hearken': 1, 'secondarily': 1, 'reasoned': 1, 'plaintiffs': 1, 'beliest': 1, 'fledthat': 1, 'Record': 1, 'bonessing': 1, 'overkindness': 1, 'Hird': 1, 'prohibit': 1, 'onWell': 1, 'deservest': 1, 'mouthit': 1, 'fencers': 1, 'swimmer': 1, 'employer': 1, 'carpetmongers': 1, 'versewhy': 1, 'horna': 1, 'foola': 1, 'unkissd': 1, 'praiseworthy': 1, 'Midnight': 1, 'Dapples': 1, 'luckier': 1, 'meone': 1, 'enigmatical': 1, 'February': 1, 'cloudiness': 1, 'certainer': 1, 'unmasks': 1, 'Fashiond': 1, 'witcrackers': 1, 'epigram': 1, 'tippd': 1, 'punishments': 1, 'pipers': 1, 'ladyinwaiting': 1, 'Senator': 1, 'rejected': 1, 'Cypriot': 1, 'Offcappd': 1, 'Evades': 1, 'bumbast': 1, 'Horribly': 1, 'Nonsuits': 1, 'mediators': 1, 'arithmetician': 1, 'squadron': 1, 'spinster': 1, 'toged': 1, 'beleed': 1, 'countercaster': 1, 'Moorships': 1, 'kneecrooking': 1, 'lined': 1, 'thicklips': 1, 'carryt': 1, 'tupping': 1, 'distempering': 1, 'gennets': 1, 'germans': 1, 'oddeven': 1, 'gondolier': 1, 'wheeling': 1, 'tinder': 1, 'Belief': 1, 'oppresses': 1, 'yerkd': 1, 'prated': 1, 'magnifico': 1, 'signiory': 1, 'outtongue': 1, 'promulgate': 1, 'reachd': 1, 'circumscription': 1, 'hasteposthaste': 1, 'quests': 1, 'carack': 1, 'guardage': 1, 'sooty': 1, 'practiced': 1, 'Abused': 1, 'minerals': 1, 'disputed': 1, 'abuser': 1, 'practicer': 1, 'Mines': 1, 'Bond': 1, 'statesmen': 1, 'disproportiond': 1, 'importancy': 1, 'facile': 1, 'unskillful': 1, 'Neglecting': 1, 'Steering': 1, 'injointed': 1, 'restem': 1, 'Luccicos': 1, 'postposthaste': 1, 'Ottoman': 1, 'floodgate': 1, 'oerbearing': 1, 'engluts': 1, 'tented': 1, 'unvarnishd': 1, 'Blushd': 1, 'mixtures': 1, 'overt': 1, 'affordeth': 1, 'sieges': 1, 'disastrous': 1, 'hairbreadth': 1, 'antres': 1, 'quarries': 1, 'Anthropophagi': 1, 'Sheld': 1, 'Devour': 1, 'pliant': 1, 'intentively': 1, 'preferring': 1, 'depended': 1, 'slubber': 1, 'thricedriven': 1, 'agnize': 1, 'accommodation': 1, 'levels': 1, 'Vouch': 1, 'lightwingd': 1, 'featherd': 1, 'officed': 1, 'disports': 1, 'skillet': 1, 'indign': 1, 'adversities': 1, 'answert': 1, 'incontinently': 1, 'silliness': 1, 'guinea': 1, 'lettuce': 1, 'hyssop': 1, 'unbitted': 1, 'cables': 1, 'toughness': 1, 'locusts': 1, 'acerb': 1, 'coloquintida': 1, 'sated': 1, 'supersubtle': 1, 'retell': 1, 'snipe': 1, 'seaport': 1, 'quay': 1, 'highwrought': 1, 'Descry': 1, 'ruffiand': 1, 'mortise': 1, 'segregation': 1, 'windshaked': 1, 'molestation': 1, 'enchafed': 1, 'enshelterd': 1, 'embayd': 1, 'designment': 1, 'Veronesa': 1, 'aerial': 1, 'arrivance': 1, 'wived': 1, 'paragons': 1, 'essential': 1, 'ingener': 1, 'favorable': 1, 'gutterd': 1, 'ensteepd': 1, 'anticipates': 1, 'extincted': 1, 'Enwheel': 1, 'Yould': 1, 'Bells': 1, 'parlors': 1, 'wildcats': 1, 'birdlime': 1, 'praisest': 1, 'counselor': 1, 'ensnare': 1, 'gyve': 1, 'clysterpipes': 1, 'calms': 1, 'Olympushigh': 1, 'Succeeds': 1, 'pegs': 1, 'disrelish': 1, 'unforced': 1, 'eminently': 1, 'conscionable': 1, 'requisites': 1, 'figsend': 1, 'paddle': 1, 'mutualities': 1, 'layt': 1, 'favorably': 1, 'qualification': 1, 'displanting': 1, 'howbeit': 1, 'accountant': 1, 'evend': 1, 'Abuse': 1, 'nightcap': 1, 'egregiously': 1, 'practicing': 1, 'Knaverys': 1, 'outsport': 1, 'stope': 1, 'caroused': 1, 'Potations': 1, 'pottledeep': 1, 'flusterd': 1, 'potting': 1, 'swagbellied': 1, 'Almain': 1, 'anda': 1, 'lown': 1, 'auld': 1, 'equinox': 1, 'horologe': 1, 'ingraft': 1, 'twiggen': 1, 'Diablo': 1, 'Faints': 1, 'Devesting': 1, 'unwitted': 1, 'unlace': 1, 'nightbrawler': 1, 'selfcharity': 1, 'Assays': 1, 'brimful': 1, 'begant': 1, 'partially': 1, 'leagued': 1, 'Outran': 1, 'offenseless': 1, 'Sue': 1, 'squabble': 1, 'pleasance': 1, 'unperfectness': 1, 'moraler': 1, 'befallen': 1, 'Exclaim': 1, 'denotement': 1, 'Probal': 1, 'symbols': 1, 'redeemed': 1, 'enfetterd': 1, 'Divinity': 1, 'Plies': 1, 'pleads': 1, 'enmesh': 1, 'cudgeled': 1, 'Doest': 1, 'Pleasure': 1, 'Soliciting': 1, 'affinity': 1, 'fortification': 1, 'Bounteous': 1, 'waterish': 1, 'guiltylike': 1, 'reconciliation': 1, 'Shallt': 1, 'mammering': 1, 'dispraisingly': 1, 'nourishing': 1, 'difficult': 1, 'Perdition': 1, 'Chaos': 1, 'Discernst': 1, 'weighst': 1, 'dilations': 1, 'whereinto': 1, 'leets': 1, 'lawdays': 1, 'Shapes': 1, 'imperfectly': 1, 'scattering': 1, 'filches': 1, 'enriches': 1, 'greeneyed': 1, 'fineless': 1, 'suspicions': 1, 'exsufflicate': 1, 'Matching': 1, 'inference': 1, 'franker': 1, 'selfbounty': 1, 'leavet': 1, 'keept': 1, 'recoiling': 1, 'scan': 1, 'jesses': 1, 'chamberers': 1, 'vapor': 1, 'Prerogatived': 1, 'unshunnable': 1, 'reserves': 1, 'filch': 1, 'acknown': 1, 'Trifles': 1, 'poppy': 1, 'owedst': 1, 'Pioners': 1, 'tranquil': 1, 'spiritstirring': 1, 'earpiercing': 1, 'ocular': 1, 'honestys': 1, 'begrimed': 1, 'suffocating': 1, 'supervisor': 1, 'denoted': 1, 'thicken': 1, 'Pontic': 1, 'retiring': 1, 'Propontic': 1, 'Swallow': 1, 'crusadoes': 1, 'fruitfulness': 1, 'sequester': 1, 'castigation': 1, 'charmer': 1, 'loset': 1, 'sibyl': 1, 'compasses': 1, 'skillful': 1, 'Conserved': 1, 'veritable': 1, 'startingly': 1, 'Fetcht': 1, 'Shared': 1, 'Exist': 1, 'futurity': 1, 'thricegentle': 1, 'advocation': 1, 'Puffd': 1, 'demonstrable': 1, 'indues': 1, 'observancy': 1, 'Arraigning': 1, 'indicted': 1, 'guesses': 1, 'womand': 1, 'circumstanced': 1, 'unauthorized': 1, 'venial': 1, 'bestowt': 1, 'protectress': 1, 'Boding': 1, 'Convinced': 1, 'unswear': 1, 'shadowing': 1, 'Noses': 1, 'epilepsy': 1, 'Rub': 1, 'unproper': 1, 'archmock': 1, 'oerwhelmed': 1, 'unsuiting': 1, 'encave': 1, 'fleers': 1, 'unbookish': 1, 'behavior': 1, 'Ply': 1, 'Biancos': 1, 'scored': 1, 'Venetians': 1, 'lolls': 1, 'minxs': 1, 'Wheresoever': 1, 'akilling': 1, 'unprovide': 1, 'Deputing': 1, 'wellpainted': 1, 'Goats': 1, 'procreants': 1, 'Cough': 1, 'doubledamnd': 1, 'unmoving': 1, 'garnerd': 1, 'roselippd': 1, 'smellst': 1, 'Impudent': 1, 'Raises': 1, 'behaved': 1, 'smallst': 1, 'bewhored': 1, 'thouldst': 1, 'seamy': 1, 'Delighted': 1, 'divorcement': 1, 'dealest': 1, 'daffest': 1, 'suppliest': 1, 'expectations': 1, 'fopped': 1, 'depute': 1, 'Mauritania': 1, 'lingered': 1, 'uncapable': 1, 'murmurd': 1, 'softend': 1, 'undot': 1, 'jointring': 1, 'quat': 1, 'luststaind': 1, 'gastness': 1, 'Las': 1, 'whoring': 1, 'happd': 1, 'cunningst': 1, 'relume': 1, 'Unreconciled': 1, 'interprets': 1, 'Weepst': 1, 'stifles': 1, 'Unlocks': 1, 'chrysolite': 1, 'Rot': 1, 'dolt': 1, 'Disprove': 1, 'smellt': 1, 'reprobation': 1, 'recognizance': 1, 'disarms': 1, 'whipster': 1, 'Willow': 1, 'icebrooks': 1, 'weapond': 1, 'illstarrd': 1, 'Roast': 1, 'steepdown': 1, 'gulfs': 1, 'ensnared': 1, 'heathenish': 1, 'Roderigos': 1, 'turband': 1, 'traduced': 1, 'circumcised': 1, 'loading': 1, 'LANGLEY': 1, 'HOTSPUR': 1, 'STEPHEN': 1, 'GARDENERS': 1, 'Groom': 1, 'timehonoured': 1, 'Aimd': 1, 'Highnessno': 1, 'Highstomachd': 1, 'Firstheaven': 1, 'wishso': 1, 'sovereignere': 1, 'inhabitable': 1, 'Disclaiming': 1, 'chivalrous': 1, 'surveyd': 1, 'Complotted': 1, 'soonbelieving': 1, 'Sluicd': 1, 'Abels': 1, 'caverns': 1, 'soars': 1, 'partialize': 1, 'unstooping': 1, 'Disbursd': 1, 'appeald': 1, 'chamberd': 1, 'Wrathkindled': 1, 'makepeace': 1, 'impeachd': 1, 'withstood': 1, 'gagelions': 1, 'leopards': 1, 'tentimes': 1, 'barrdup': 1, 'crestfallen': 1, 'beggarfear': 1, 'outdard': 1, 'recanting': 1, 'Lamberts': 1, 'officersatarms': 1, 'alarms': 1, 'LANCASTERS': 1, 'Woodstocks': 1, 'springing': 1, 'breathest': 1, 'Gauntit': 1, 'pathway': 1, 'boundeth': 1, 'lodgings': 1, 'Unpeopled': 1, 'untrodden': 1, 'Desolate': 1, 'spightfully': 1, 'appelants': 1, 'appeals': 1, 'daringhardy': 1, 'Appointed': 1, 'regenerate': 1, 'furbish': 1, 'amazing': 1, 'uncontrolld': 1, 'Courageously': 1, 'spears': 1, 'consults': 1, 'eaglewinged': 1, 'skyaspiring': 1, 'rivalhating': 1, 'harshresounding': 1, 'grating': 1, 'unstringed': 1, 'viol': 1, 'engaold': 1, 'portcullisd': 1, 'plaining': 1, 'countrvs': 1, 'administer': 1, 'clogging': 1, 'lagging': 1, 'oildried': 1, 'timebewasted': 1, 'partyverdict': 1, 'returnest': 1, 'apprenticehood': 1, 'journeyman': 1, 'havens': 1, 'treadst': 1, 'lanceth': 1, 'youtli': 1, 'northeast': 1, 'disdained': 1, 'Observd': 1, 'craftsmen': 1, 'underbearing': 1, 'oysterwench': 1, 'draymen': 1, 'Expedient': 1, 'yicld': 1, 'postehaste': 1, 'listend': 1, 'glose': 1, 'undeaf': 1, 'metres': 1, 'Limps': 1, 'buzzd': 1, 'expiring': 1, 'Eden': 1, 'demiparadise': 1, 'moat': 1, 'Feard': 1, 'leasd': 1, 'outI': 1, 'tenement': 1, 'abstains': 1, 'Watching': 1, 'fastI': 1, 'adying': 1, 'flatterest': 1, 'sicker': 1, 'Commitst': 1, 'Seen': 1, 'Deposing': 1, 'Landlord': 1, 'leanwitted': 1, 'chasing': 1, 'tappd': 1, 'wellmeaning': 1, 'respectst': 1, 'spilling': 1, 'tormentors': 1, 'sullens': 1, 'sickliness': 1, 'stringless': 1, 'rugheaded': 1, 'Gaunts': 1, 'Accomplishd': 1, 'thyselffor': 1, 'GodGod': 1, 'attorneysgeneral': 1, 'welldisposed': 1, 'Barely': 1, 'Eret': 1, 'disburdened': 1, 'Bereft': 1, 'benevolences': 1, 'burdenous': 1, 'kinsmanmost': 1, 'Port': 1, 'Blanc': 1, 'Rainold': 1, 'Ramston': 1, 'Norbery': 1, 'Waterton': 1, 'Quoint': 1, 'Imp': 1, 'Redeem': 1, 'broking': 1, 'lifeharming': 1, 'perspectives': 1, 'confusioneyd': 1, 'notmore': 1, 'Asthough': 1, 'forefather': 1, 'hopest': 1, 'Beaumond': 1, 'newdeliverd': 1, 'hopehe': 1, 'keeperback': 1, 'Comforts': 1, 'waswhy': 1, 'untruth': 1, 'sistercousin': 1, 'saypray': 1, 'carts': 1, 'disorderly': 1, 'Tone': 1, 'doCome': 1, 'Proportionable': 1, 'unpossible': 1, 'empties': 1, 'oncefor': 1, 'Cotswold': 1, 'sweetned': 1, 'HARRY': 1, 'whencesoever': 1, 'Broken': 1, 'Mannd': 1, 'Seymour': 1, 'fieryred': 1, 'surmounts': 1, 'isto': 1, 'comewhat': 1, 'selfborne': 1, 'whywhy': 1, 'Frighting': 1, 'Rescued': 1, 'lawattorneys': 1, 'carver': 1, 'wrongit': 1, 'abet': 1, 'Cherish': 1, 'neuter': 1, 'WELSH': 1, 'reposeth': 1, 'leanlookd': 1, 'Witnessing': 1, 'crossly': 1, 'BOLINGBROKES': 1, 'unhappied': 1, 'Myselfa': 1, 'misinterpret': 1, 'Disparkd': 1, 'Razd': 1, 'imprese': 1, 'Condemns': 1, 'Awhile': 1, 'Barkloughly': 1, 'longparted': 1, 'weepingsmiling': 1, 'heavygaited': 1, 'rebellions': 1, 'proffered': 1, 'Discomfortable': 1, 'selfaffrighted': 1, 'Oerthrows': 1, 'sleepest': 1, 'caretund': 1, 'Revolt': 1, 'Whitebeards': 1, 'hairless': 1, 'scalps': 1, 'beadsmen': 1, 'doublefatal': 1, 'distaffwomen': 1, 'Snakes': 1, 'Judases': 1, 'Terrible': 1, 'uncurse': 1, 'sofor': 1, 'murderdfor': 1, 'Scoffing': 1, 'Allowing': 1, 'monarchize': 1, 'Infusing': 1, 'Bores': 1, 'Tradition': 1, 'subjected': 1, 'oppresseth': 1, 'slainno': 1, 'PIERCY': 1, 'Royally': 1, 'clergyman': 1, 'Raind': 1, 'bedrench': 1, 'grassy': 1, 'tottered': 1, 'thundring': 1, 'waterson': 1, 'Parle': 1, 'track': 1, 'Controlling': 1, 'knowmy': 1, 'mustering': 1, 'Armies': 1, 'unbegot': 1, 'maidpale': 1, 'pastures': 1, 'Currents': 1, 'Comprising': 1, 'Enfranchisement': 1, 'Swellst': 1, 'almsmans': 1, 'goblets': 1, 'tenderhearted': 1, 'laidthere': 1, 'unpleasd': 1, 'dangling': 1, 'soils': 1, 'seawalled': 1, 'unprund': 1, 'Swarming': 1, 'broadspreading': 1, 'Evd': 1, 'Superfluous': 1, 'Depressd': 1, 'Divine': 1, 'Nimble': 1, 'Londons': 1, 'Gardner': 1, 'graftst': 1, 'Rue': 1, 'Scorns': 1, 'reacheth': 1, 'manual': 1, 'vauntingly': 1, 'ANOTHER': 1, 'halload': 1, 'Dishonourable': 1, 'liegiver': 1, 'repealdrepeald': 1, 'Streaming': 1, 'Saracens': 1, 'appellants': 1, 'plumepluckd': 1, 'Adopts': 1, 'descending': 1, 'Worst': 1, 'noblesse': 1, 'refind': 1, 'manure': 1, 'infidels': 1, 'woefullest': 1, 'sureties': 1, 'regalia': 1, 'resignation': 1, 'Drinking': 1, 'unbroke': 1, 'weavdup': 1, 'pityyet': 1, 'Pilates': 1, 'blinds': 1, 'Tundeck': 1, 'shineth': 1, 'Conveyers': 1, 'illerected': 1, 'Transformd': 1, 'weakned': 1, 'thrusteth': 1, 'pupillike': 1, 'takest': 1, 'unrightful': 1, 'marriagetwixt': 1, 'unkiss': 1, 'shortst': 1, 'misgoverned': 1, 'Mounted': 1, 'imagery': 1, 'Bespake': 1, 'wellgracd': 1, 'Rudand': 1, 'justs': 1, 'triumphday': 1, 'unrestrained': 1, 'commonst': 1, 'unhorse': 1, 'lustiest': 1, 'crieth': 1, 'Recover': 1, 'readst': 1, 'digressing': 1, 'scraping': 1, 'shrillvoicd': 1, 'outpray': 1, 'pardonne': 1, 'moy': 1, 'chopping': 1, 'wishtly': 1, 'stillbreeding': 1, 'intermixd': 1, 'Unlikely': 1, 'crushing': 1, 'daintiness': 1, 'pointing': 1, 'cleansing': 1, 'allhating': 1, 'cheapest': 1, 'ernd': 1, 'coronationday': 1, 'clapping': 1, 'Forgiveness': 1, 'awd': 1, 'Spurrd': 1, 'neverquenching': 1, 'Ciceter': 1, 'Spencer': 1, 'Brocas': 1, 'Seely': 1, 'mournings': 1, 'ROTHERHAM': 1, 'BLOUNT': 1, 'WILTSHIRE': 1, 'Ghosts': 1, 'victims': 1, 'Scrivener': 1, 'Murderers': 1, 'lourd': 1, 'Grimvisagd': 1, 'curtaild': 1, 'Cheated': 1, 'Deformd': 1, 'unfashionable': 1, 'Plots': 1, 'inductions': 1, 'libels': 1, 'Dive': 1, 'newchristned': 1, 'crossrow': 1, 'nightwalking': 1, 'whatI': 1, 'straitly': 1, 'gentlefolks': 1, 'newdelivered': 1, 'buzzards': 1, 'Inot': 1, 'obsequiously': 1, 'keycold': 1, 'lamentations': 1, 'conjures': 1, 'disobeys': 1, 'Unmannerd': 1, 'halberd': 1, 'Filld': 1, 'murdrer': 1, 'hellgovernd': 1, 'Fouler': 1, 'hedgehog': 1, 'cheered': 1, 'oershade': 1, 'Shamd': 1, 'blackfacd': 1, 'bedashd': 1, 'rainin': 1, 'sharppointed': 1, 'adoreth': 1, 'encompasseth': 1, 'encloseth': 1, 'Whereafter': 1, 'monastry': 1, 'Tressel': 1, 'Friars': 1, 'Framd': 1, 'prodigality': 1, 'RIVER': 1, 'complains': 1, 'Duck': 1, 'searce': 1, 'ennoble': 1, 'mayay': 1, 'servantmaid': 1, 'stormed': 1, 'lessned': 1, 'Threat': 1, 'avoucht': 1, 'speakmy': 1, 'killdst': 1, 'packhorse': 1, 'weederout': 1, 'rewarder': 1, 'royalize': 1, 'himselfwhich': 1, 'mewed': 1, 'childishfoolish': 1, 'cacodemon': 1, 'drewst': 1, 'Denouncd': 1, 'Tyrants': 1, 'snarling': 1, 'Outlive': 1, 'stalld': 1, 'troubler': 1, 'begnaw': 1, 'Affrights': 1, 'elvishmarkd': 1, 'rooting': 1, 'inMargaret': 1, 'strewst': 1, 'ensnareth': 1, 'whetst': 1, 'Falseboding': 1, 'shadealas': 1, 'outshining': 1, 'aerys': 1, 'Uncharitably': 1, 'gentlesleeping': 1, 'fatting': 1, 'executioners': 1, 'Talkers': 1, 'wrecks': 1, 'Wedges': 1, 'reflecting': 1, 'Stoppd': 1, 'lengthend': 1, 'ferryman': 1, 'Dabbled': 1, 'comefalse': 1, 'howled': 1, 'misdeeds': 1, 'itit': 1, 'accuseth': 1, 'detects': 1, 'thatby': 1, 'strongframd': 1, 'Offended': 1, 'convict': 1, 'Spurn': 1, 'Unrippdst': 1, 'gallantspringing': 1, 'Blessd': 1, 'huggd': 1, 'thraldom': 1, 'MURDERERHow': 1, 'helpst': 1, 'award': 1, 'Whenever': 1, 'wrongincensed': 1, 'gentlemenindeed': 1, 'Allseeing': 1, 'reversd': 1, 'Nearer': 1, 'Lately': 1, 'manhis': 1, 'Kneeld': 1, 'Frozen': 1, 'Sinfully': 1, 'waitingvassals': 1, 'castaways': 1, 'impeachments': 1, 'vizor': 1, 'swiftwinged': 1, 'neerchanging': 1, 'overgo': 1, 'unmoand': 1, 'widowdolour': 1, 'unwept': 1, 'parcelld': 1, 'pamper': 1, 'dimming': 1, 'heartsorrowing': 1, 'highswoln': 1, 'splinterd': 1, 'nonage': 1, 'Ensuing': 1, 'Stony': 1, 'Stratford': 1, 'wretchedst': 1, 'agrowing': 1, 'themselvesbrother': 1, 'divd': 1, 'jumpeth': 1, 'senselessobstinate': 1, 'traditional': 1, 'seizing': 1, 'Successively': 1, 'retaild': 1, 'allending': 1, 'outgrown': 1, 'sharpprovided': 1, 'opprobriously': 1, 'Encourage': 1, 'Chop': 1, 'headsomething': 1, 'certifies': 1, 'boarspear': 1, 'Wot': 1, 'theekeep': 1, 'enernies': 1, 'Nobles': 1, 'bloodsuckers': 1, 'speakwhen': 1, 'sleeper': 1, 'crowning': 1, 'Holborn': 1, 'worshipfully': 1, 'whosoeer': 1, 'Consorted': 1, 'Ifthou': 1, 'Talkst': 1, 'ifs': 1, 'Miserable': 1, 'fearfullst': 1, 'Towerwalls': 1, 'illfavoured': 1, 'tragedian': 1, 'Intending': 1, 'Ghastly': 1, 'drawbridge': 1, 'friendsRatcliff': 1, 'daubd': 1, 'covertst': 1, 'sheltred': 1, 'itthat': 1, 'councilhouse': 1, 'Infidels': 1, 'timorously': 1, 'Misconster': 1, 'crownmeaning': 1, 'lusted': 1, 'Shaw': 1, 'Penker': 1, 'Untainted': 1, 'unexamind': 1, 'Touchd': 1, 'Untouchd': 1, 'Stard': 1, 'wilfull': 1, 'Recorder': 1, 'Argues': 1, 'Divinely': 1, 'lovebed': 1, 'Deferrd': 1, 'shouldred': 1, 'recure': 1, 'replying': 1, 'Thereforeto': 1, 'Definitively': 1, 'Unmeritable': 1, 'carecrazd': 1, 'beautywaning': 1, 'Seducd': 1, 'bigamy': 1, 'truederived': 1, 'itas': 1, 'Loath': 1, 'egally': 1, 'foulfacd': 1, 'impure': 1, 'CLARENCEs': 1, 'strictly': 1, 'deadkilling': 1, 'illdispersing': 1, 'wedst': 1, 'Grossly': 1, 'welcomer': 1, 'Eighty': 1, 'ascendeth': 1, 'livesthink': 1, 'thricerenowned': 1, 'livetrue': 1, 'positively': 1, 'ironwitted': 1, 'Highreaching': 1, 'deeprevolving': 1, 'untird': 1, 'Tearfalling': 1, 'Darstthou': 1, 'Foes': 1, 'kingperhaps': 1, 'Rugemount': 1, 'troublest': 1, 'Repays': 1, 'Brecknock': 1, 'suborn': 1, 'girdling': 1, 'devilthere': 1, 'Beget': 1, 'Abrahams': 1, 'rashlevied': 1, 'unblown': 1, 'woewearied': 1, 'Woes': 1, 'Unlawfully': 1, 'seniory': 1, 'hellhound': 1, 'worry': 1, 'defacer': 1, 'truedisposing': 1, 'Preys': 1, 'pewfellow': 1, 'Matchd': 1, 'Ensues': 1, 'ahigh': 1, 'sud': 1, 'whirld': 1, 'Usurp': 1, 'Bettring': 1, 'badcauser': 1, 'Revolving': 1, 'Windy': 1, 'attorneys': 1, 'client': 1, 'Airy': 1, 'intestate': 1, 'copious': 1, 'intercepts': 1, 'Hidest': 1, 'Wheret': 1, 'exclamations': 1, 'Tetchy': 1, 'harmfulkind': 1, 'Hour': 1, 'Abides': 1, 'lancd': 1, 'stonehard': 1, 'anchord': 1, 'tackling': 1, 'demise': 1, 'haveay': 1, 'endow': 1, 'supposest': 1, 'engrave': 1, 'heras': 1, 'Madst': 1, 'unadvisedly': 1, 'doating': 1, 'Familiarly': 1, 'Repaird': 1, 'Advantaging': 1, 'dullbraind': 1, 'victoress': 1, 'stilllasting': 1, 'Profand': 1, 'selfmisusd': 1, 'Ungovernd': 1, 'butcheed': 1, 'Misusd': 1, 'illusd': 1, 'proceedingif': 1, 'Immaculate': 1, 'motherI': 1, 'peevishfond': 1, 'spicery': 1, 'Selves': 1, 'recomforture': 1, 'Relenting': 1, 'Rideth': 1, 'hollowhearted': 1, 'Unarmd': 1, 'unresolvd': 1, 'lightfoot': 1, 'thyselfor': 1, 'unmindfull': 1, 'stayst': 1, 'Whiteliverd': 1, 'unswayd': 1, 'unpossessd': 1, 'Safeconducting': 1, 'Devonshire': 1, 'Courtney': 1, 'Guilfords': 1, 'Flock': 1, 'welladvised': 1, 'Dorsetshire': 1, 'mistrusting': 1, 'Hoisd': 1, 'DERBYS': 1, 'Harford': 1, 'Herbert': 1, 'Rice': 1, 'ap': 1, 'AllSeer': 1, 'dallied': 1, 'Bruisd': 1, 'Lines': 1, 'Swills': 1, 'trough': 1, 'embowelld': 1, 'bosomsthis': 1, 'SURREYS': 1, 'battalia': 1, 'trebles': 1, 'RICHMONDS': 1, 'Limit': 1, 'Oxfordyou': 1, 'Herbertstay': 1, 'histent': 1, 'pursuivantatarms': 1, 'Stanleys': 1, 'sunrising': 1, 'cockshut': 1, 'cheering': 1, 'flaky': 1, 'mortalstaring': 1, 'maythat': 1, 'solongsundred': 1, 'peise': 1, 'stabbdst': 1, 'punched': 1, 'guiltily': 1, 'untroubled': 1, 'PRINCES': 1, 'perturbations': 1, 'Fainting': 1, 'Noyes': 1, 'Perjury': 1, 'highst': 1, 'dirst': 1, 'Tomorrows': 1, 'villagecock': 1, 'thouwill': 1, 'apostle': 1, 'eavesdropper': 1, 'sluggard': 1, 'fairestboding': 1, 'Forbids': 1, 'highreard': 1, 'trained': 1, 'dewy': 1, 'foreward': 1, 'Consisting': 1, 'sheweth': 1, 'Jockey': 1, 'Dickon': 1, 'vagabonds': 1, 'oercloyed': 1, 'vomits': 1, 'distain': 1, 'milksop': 1, 'Felt': 1, 'stragglers': 1, 'Lash': 1, 'Amaze': 1, 'marsh': 1, 'Victory': 1, 'longusurped': 1, 'teLL': 1, 'Ferrers': 1, 'Inter': 1, 'blindly': 1, 'conjoin': 1, 'Enrich': 1, 'ROMEO': 1, 'SCENEVerona': 1, 'starcrossd': 1, 'misadventurd': 1, 'overthrows': 1, 'deathmarkd': 1, 'collar': 1, 'runnst': 1, 'poorJohn': 1, 'heartless': 1, 'Profaners': 1, 'neighbourstained': 1, 'mistempered': 1, 'Cankred': 1, 'Freetown': 1, 'swung': 1, 'hissd': 1, 'Peerd': 1, 'rooteth': 1, 'augmenting': 1, 'allcheering': 1, 'bean': 1, 'pathways': 1, 'Feather': 1, 'Stillwaking': 1, 'Griefs': 1, 'preserving': 1, 'markman': 1, 'unharmd': 1, 'saintseducing': 1, 'Earthtreading': 1, 'Inherit': 1, 'shoemaker': 1, 'fisher': 1, 'lessoned': 1, 'Whippd': 1, 'tormented': 1, 'gi': 1, 'goden': 1, 'Martino': 1, 'Anselmo': 1, 'Vitruvio': 1, 'Placentio': 1, 'Valentio': 1, 'Sups': 1, 'unattainted': 1, 'Maintains': 1, 'allseeing': 1, 'ladybird': 1, 'thous': 1, 'Lammastide': 1, 'weand': 1, 'highlone': 1, 'waddled': 1, 'holidam': 1, 'bump': 1, 'cockrels': 1, 'endart': 1, 'pantry': 1, 'Scaring': 1, 'withoutbook': 1, 'Borrow': 1, 'enpierced': 1, 'deformities': 1, 'Tickle': 1, 'proverbd': 1, 'candleholder': 1, 'duns': 1, 'sirreverence': 1, 'dreamers': 1, 'alderman': 1, 'wagon': 1, 'grasshoppers': 1, 'traces': 1, 'collars': 1, 'greycoated': 1, 'hazelnut': 1, 'coachmakers': 1, 'tithepigs': 1, 'Tickling': 1, 'benefice': 1, 'ambuscadoes': 1, 'plats': 1, 'bakes': 1, 'elflocks': 1, 'untangled': 1, 'puffs': 1, 'dewdropping': 1, 'Supper': 1, 'steerage': 1, 'joinstools': 1, 'courtcubbert': 1, 'marchpane': 1, 'Grindstone': 1, 'Guests': 1, 'Unplagud': 1, 'Ethiops': 1, 'snowy': 1, 'trooping': 1, 'wellgovernd': 1, 'cockahoop': 1, 'princox': 1, 'chinks': 1, 'Tiberio': 1, 'Alike': 1, 'Tempring': 1, 'heareth': 1, 'stirreth': 1, 'moveth': 1, 'Rosalines': 1, 'quivering': 1, 'poprin': 1, 'fieldbed': 1, 'twinkle': 1, 'whiteupturned': 1, 'bestrides': 1, 'lazypacing': 1, 'baptizd': 1, 'bescreend': 1, 'stumblest': 1, 'oerperch': 1, 'prorogued': 1, 'foundst': 1, 'bepaint': 1, 'perjuries': 1, 'tips': 1, 'fruittree': 1, 'ripening': 1, 'flatteringsweet': 1, 'Hist': 1, 'hist': 1, 'tasselgentle': 1, 'Bondage': 1, 'silversweet': 1, 'lovingjealous': 1, 'Parting': 1, 'greyeyd': 1, 'Checkring': 1, 'flecked': 1, 'upfill': 1, 'osier': 1, 'preciousjuiced': 1, 'Revolts': 1, 'misapplied': 1, 'unstuffd': 1, 'earliness': 1, 'uprousd': 1, 'truethe': 1, 'Riddling': 1, 'sallow': 1, 'waverer': 1, 'Wisely': 1, 'dared': 1, 'wenchs': 1, 'bowboys': 1, 'pricksongkeeps': 1, 'minim': 1, 'fantasticoes': 1, 'tuners': 1, 'grandsir': 1, 'fashionmongers': 1, 'pardonamis': 1, 'fishified': 1, 'Petrarch': 1, 'Laura': 1, 'berhyme': 1, 'dowdy': 1, 'hildings': 1, 'Pink': 1, 'wellflowerd': 1, 'singlesold': 1, 'Swits': 1, 'swits': 1, 'drivelling': 1, 'endite': 1, 'hoars': 1, 'ropery': 1, 'flirtgills': 1, 'skainsmates': 1, 'quivers': 1, 'shrivd': 1, 'tackled': 1, 'topgallant': 1, 'versal': 1, 'nimblepiniond': 1, 'windswift': 1, 'Unwieldy': 1, 'jaunce': 1, 'repliest': 1, 'poultice': 1, 'countervail': 1, 'lovedevouring': 1, 'deliciousness': 1, 'idles': 1, 'Brags': 1, 'hazel': 1, 'quarrelld': 1, 'Easter': 1, 'tying': 1, 'consortest': 1, 'stoccata': 1, 'ratcatcher': 1, 'pitcher': 1, 'peppered': 1, 'supported': 1, 'ally': 1, 'softned': 1, 'agile': 1, 'amerce': 1, 'Gallop': 1, 'fieryfooted': 1, 'Phaeton': 1, 'loveperforming': 1, 'untalkd': 1, 'sobersuited': 1, 'maidenhoods': 1, 'bating': 1, 'Whiter': 1, 'vowel': 1, 'deathdarting': 1, 'bedaubd': 1, 'goreblood': 1, 'bankrout': 1, 'dearlovd': 1, 'Beautiful': 1, 'angelical': 1, 'Dovefeatherd': 1, 'wolvishravening': 1, 'divinest': 1, 'dissemblers': 1, 'aqua': 1, 'Blisterd': 1, 'threehours': 1, 'needly': 1, 'maidenwidowed': 1, 'enanmourd': 1, 'mistermd': 1, 'cutst': 1, 'smilest': 1, 'sharpground': 1, 'sinabsolver': 1, 'mangle': 1, 'Adversitys': 1, 'Displant': 1, 'Doting': 1, 'unmade': 1, 'Mistlike': 1, 'Piteous': 1, 'Blubbring': 1, 'blubbering': 1, 'Spakest': 1, 'Unseemly': 1, 'aboundst': 1, 'bedeck': 1, 'Digressing': 1, 'dismembred': 1, 'slewest': 1, 'misbhavd': 1, 'poutst': 1, 'Sojourn': 1, 'Afore': 1, 'Nights': 1, 'Cynthias': 1, 'sharps': 1, 'divideth': 1, 'affray': 1, 'Hunting': 1, 'huntsup': 1, 'goeth': 1, 'illdivining': 1, 'procures': 1, 'drizzle': 1, 'rains': 1, 'Sailing': 1, 'overset': 1, 'tempesttossed': 1, 'choplogic': 1, 'prouds': 1, 'fettle': 1, 'hurdle': 1, 'tallowface': 1, 'Smatter': 1, 'Godigoden': 1, 'mumbling': 1, 'Stuffd': 1, 'mammet': 1, 'Graze': 1, 'Uneven': 1, 'Immoderately': 1, 'hastes': 1, 'slowd': 1, 'longexperiencd': 1, 'arbitrating': 1, 'Oercoverd': 1, 'reeky': 1, 'twoandforty': 1, 'gadding': 1, 'behests': 1, 'becomed': 1, 'stepping': 1, 'behooffull': 1, 'thrills': 1, 'Subtilly': 1, 'healthsome': 1, 'festring': 1, 'quinces': 1, 'pastry': 1, 'Angelica': 1, 'cotquean': 1, 'mousehunt': 1, 'baskets': 1, 'slugabed': 1, 'Revive': 1, 'Ties': 1, 'spited': 1, 'Despisd': 1, 'Uncomfortable': 1, 'ordained': 1, 'dirges': 1, 'lowr': 1, 'minstrel': 1, 'servingcreature': 1, 'servingcreatures': 1, 'griping': 1, 'Catling': 1, 'Rebeck': 1, 'Soundpost': 1, 'booted': 1, 'posthorses': 1, 'hereabouts': 1, 'tattred': 1, 'overwhelming': 1, 'Meagre': 1, 'alligator': 1, 'illshaped': 1, 'boxes': 1, 'earthen': 1, 'pots': 1, 'Remnants': 1, 'Noting': 1, 'soonspeeding': 1, 'lifeweary': 1, 'mall': 1, 'Mantuas': 1, 'fearest': 1, 'Famine': 1, 'starveth': 1, 'associate': 1, 'searchers': 1, 'Suspecting': 1, 'digging': 1, 'wanders': 1, 'hearest': 1, 'savagewild': 1, 'Gorgd': 1, 'Condemned': 1, 'betossed': 1, 'inauspicious': 1, 'worldwearied': 1, 'engrossing': 1, 'dashing': 1, 'grubs': 1, 'discolourd': 1, 'Enters': 1, 'restorative': 1, 'Snatches': 1, 'Pariss': 1, 'Watchman': 1, 'outcry': 1, 'startles': 1, 'missheathed': 1, 'warns': 1, 'conspires': 1, 'ambiguities': 1, 'Betrothd': 1, 'tutored': 1, 'prefixed': 1, 'Miscarried': 1, 'severest': 1, 'pothecary': 1, 'Montage': 1, 'Statue': 1, 'glooming': 1, 'TAMING': 1, 'SHREW': 1, 'Persons': 1, 'Induction': 1, 'HUNTSMEN': 1, 'MINOLA': 1, 'Daughters': 1, 'Haberdasher': 1, 'Conqueror': 1, 'paucas': 1, 'pallabris': 1, 'Jeronimy': 1, 'thirdborough': 1, 'Brach': 1, 'Merriman': 1, 'Clowder': 1, 'Belman': 1, 'merest': 1, 'Grim': 1, 'rosewater': 1, 'bestrewd': 1, 'diaper': 1, 'Travelling': 1, 'Soto': 1, 'overeying': 1, 'buttery': 1, 'obeisance': 1, 'Voice': 1, 'overmerry': 1, 'appurtenances': 1, 'Christophero': 1, 'overleather': 1, 'Heath': 1, 'cardmaker': 1, 'transmutation': 1, 'bearherd': 1, 'alewife': 1, 'Wincot': 1, 'bestraught': 1, 'Softer': 1, 'studded': 1, 'fleeter': 1, 'workmanly': 1, 'Mightiness': 1, 'leet': 1, 'jugs': 1, 'quarts': 1, 'Naps': 1, 'Turph': 1, 'Pimpernell': 1, 'Alce': 1, 'undress': 1, 'comonty': 1, 'gambold': 1, 'tumblingtrick': 1, 'slipwe': 1, 'announces': 1, 'Lombardy': 1, 'Bentivolii': 1, 'plash': 1, 'Mi': 1, 'perdonato': 1, 'Stoics': 1, 'devote': 1, 'Aristotles': 1, 'Balk': 1, 'logic': 1, 'metaphysics': 1, 'Mates': 1, 'halfway': 1, 'noddle': 1, 'threeleggd': 1, 'Husht': 1, 'taketh': 1, 'Schoolmasters': 1, 'bringingup': 1, 'Anna': 1, 'Redime': 1, 'captum': 1, 'quam': 1, 'queas': 1, 'minimo': 1, 'longly': 1, 'Agenor': 1, 'Cretan': 1, 'Sacred': 1, 'annoyd': 1, 'Basta': 1, 'Uncase': 1, 'Presenters': 1, 'HORTENSIOS': 1, 'rebusd': 1, 'quarrelsome': 1, 'solfa': 1, 'tutto': 1, 'cuore': 1, 'trovato': 1, 'nostra': 1, 'casa': 1, 'Molto': 1, 'honorato': 1, 'signor': 1, 'mio': 1, 'leges': 1, 'pip': 1, 'Grumios': 1, 'thiss': 1, 'Florentius': 1, 'Sibyl': 1, 'Socrates': 1, 'Xanthippe': 1, 'Affections': 1, 'Adriatic': 1, 'agletbaby': 1, 'Renownd': 1, 'ropetricks': 1, 'assisting': 1, 'daunt': 1, 'clang': 1, 'fariners': 1, 'presumes': 1, 'contributors': 1, 'apparelled': 1, 'chiders': 1, 'Ledas': 1, 'outtalk': 1, 'firsts': 1, 'Achieve': 1, 'quaff': 1, 'bondmaid': 1, 'jested': 1, 'unbinds': 1, 'petitioners': 1, 'Bacare': 1, 'pupils': 1, 'decreasd': 1, 'widowhood': 1, 'specialities': 1, 'proudminded': 1, 'Frets': 1, 'uttereth': 1, 'Lndnow': 1, 'superdainty': 1, 'slowwingd': 1, 'combless': 1, 'askance': 1, 'hazeltwig': 1, 'hazelnuts': 1, 'Conformable': 1, 'Forshes': 1, 'Grissel': 1, 'incredible': 1, 'vied': 1, 'protesting': 1, 'meacock': 1, 'curstest': 1, 'Greybeard': 1, 'Skipper': 1, 'flourisheth': 1, 'Basins': 1, 'ewers': 1, 'Tyrian': 1, 'counterpoints': 1, 'Turkey': 1, 'bossd': 1, 'Valance': 1, 'needlework': 1, 'Pisas': 1, 'galliasses': 1, 'offrest': 1, 'outvied': 1, 'Fiddler': 1, 'welcomed': 1, 'Preposterous': 1, 'breeching': 1, 'Pedascule': 1, 'AEacides': 1, 'groweth': 1, 'briefer': 1, 'pithy': 1, 'Gamut': 1, 'ut': 1, 'clef': 1, 'BAPTISTASo': 1, 'ceremonial': 1, 'madbrain': 1, 'rudesby': 1, 'candlecases': 1, 'chapeless': 1, 'hippd': 1, 'stirrups': 1, 'glanders': 1, 'mose': 1, 'lampass': 1, 'windgalls': 1, 'spavins': 1, 'rayed': 1, 'yellows': 1, 'fives': 1, 'begnawn': 1, 'shouldershotten': 1, 'nearleggd': 1, 'halfcheekd': 1, 'headstall': 1, 'repaired': 1, 'girth': 1, 'velure': 1, 'studs': 1, 'boothose': 1, 'gartred': 1, 'meanapparelld': 1, 'eyesore': 1, 'Tedious': 1, 'goodmorrow': 1, 'ATTENDENTS': 1, 'concerneth': 1, 'imparted': 1, 'overreach': 1, 'greybeard': 1, 'narrowprying': 1, 'Curster': 1, 'gogswouns': 1, 'Trembled': 1, 'muscadel': 1, 'Dine': 1, 'jogging': 1, 'domineer': 1, 'Carouse': 1, 'chattels': 1, 'Kated': 1, 'junkets': 1, 'rayd': 1, 'tames': 1, 'threeinch': 1, 'weddinggarment': 1, 'jills': 1, 'carpets': 1, 'saddles': 1, 'bemoild': 1, 'unexperiencd': 1, 'Joseph': 1, 'Sugarsop': 1, 'sleekly': 1, 'combd': 1, 'mastcrs': 1, 'horsetail': 1, 'JOSEPH': 1, 'Cocks': 1, 'loggerheaded': 1, 'Nathaniels': 1, 'Gabriels': 1, 'unpinkd': 1, 'Walters': 1, 'sheathing': 1, 'Soud': 1, 'beetleheaded': 1, 'flapeard': 1, 'Mutton': 1, 'dresser': 1, 'trenchers': 1, 'joltheads': 1, 'unmannerd': 1, 'planteth': 1, 'overroasted': 1, 'fullgorgd': 1, 'coverlet': 1, 'amid': 1, 'proceeders': 1, 'Blanca': 1, 'womankind': 1, 'cullion': 1, 'wealtlly': 1, 'Kindness': 1, 'chattering': 1, 'dogweary': 1, 'mercatante': 1, 'Travel': 1, 'Tripoli': 1, 'Beggars': 1, 'tripe': 1, 'ruffs': 1, 'farthingales': 1, 'knavry': 1, 'ruffling': 1, 'walnutshell': 1, 'babys': 1, 'custardcoffin': 1, 'demicannon': 1, 'appletart': 1, 'slish': 1, 'threequarters': 1, 'halfyard': 1, 'wintercricket': 1, 'Bravd': 1, 'bemete': 1, 'Face': 1, 'Error': 1, 'meteyard': 1, 'peereth': 1, 'accountst': 1, 'Longlane': 1, 'beareth': 1, 'affied': 1, 'hearkning': 1, 'scrivener': 1, 'pittance': 1, 'Dally': 1, 'imprimendum': 1, 'solum': 1, 'parsley': 1, 'appendix': 1, 'Hap': 1, 'rushcandle': 1, 'spangle': 1, 'Allots': 1, 'bedazzled': 1, 'travellest': 1, 'crackhemp': 1, 'copatain': 1, 'cerns': 1, 'sailmaker': 1, 'Bergamo': 1, 'conycatchd': 1, 'hald': 1, 'bleard': 1, 'slit': 1, 'Roundly': 1, 'conceives': 1, 'respecting': 1, 'quickwitted': 1, 'hastywitted': 1, 'awakened': 1, 'simile': 1, 'halves': 1, 'Intolerable': 1, 'conferring': 1, 'Swinge': 1, 'newbuilt': 1, 'underfoot': 1, 'complies': 1, 'Muddy': 1, 'illseeming': 1, 'oweth': 1, 'shrow': 1, 'SHIP': 1, 'uninhabited': 1, 'Boatswain': 1, 'aground': 1, 'topsail': 1, 'boson': 1, 'cabins': 1, 'roarers': 1, 'hapCheerly': 1, 'heartsOut': 1, 'maincourse': 1, 'bawling': 1, 'blasphemous': 1, 'incharitable': 1, 'noisemaker': 1, 'Wet': 1, 'widechoppd': 1, 'rascalwould': 1, 'widst': 1, 'glut': 1, 'groundlong': 1, 'furze': 1, 'Island': 1, 'Dashd': 1, 'fraughting': 1, 'conected': 1, 'Betid': 1, 'Concluding': 1, 'overtopping': 1, 'attendst': 1, 'closeness': 1, 'bettering': 1, 'Oerprizd': 1, 'lorded': 1, 'liehe': 1, 'substitution': 1, 'screen': 1, 'manmy': 1, 'enoughof': 1, 'Subject': 1, 'unbowdalas': 1, 'extirpate': 1, 'Fated': 1, 'Instinctively': 1, 'Infused': 1, 'undergoing': 1, 'linens': 1, 'steaded': 1, 'seasorrow': 1, 'vainer': 1, 'seastorm': 1, 'zenith': 1, 'flamd': 1, 'bowsprit': 1, 'precursors': 1, 'thunderclaps': 1, 'sightoutrunning': 1, 'Plungd': 1, 'upstaringthen': 1, 'stillvexd': 1, 'Bermoothes': 1, 'stowed': 1, 'Mediterranean': 1, 'flote': 1, 'Exactly': 1, 'preciously': 1, 'mistakings': 1, 'grumblings': 1, 'sorceries': 1, 'blueeyd': 1, 'thsailors': 1, 'Refusing': 1, 'unmitigable': 1, 'millwheels': 1, 'freckld': 1, 'hagbornnot': 1, 'everangry': 1, 'murmurst': 1, 'peg': 1, 'correspondent': 1, 'spriting': 1, 'eyeball': 1, 'Heaviness': 1, 'waternymph': 1, 'southwest': 1, 'Sidestitches': 1, 'honeycomb': 1, 'strokst': 1, 'Water': 1, 'brinepits': 1, 'Wouldt': 1, 'peopld': 1, 'Calibans': 1, 'Deservedly': 1, 'Hagseed': 1, 'Shrugst': 1, 'neglectst': 1, 'Curtsied': 1, 'whist': 1, 'Foot': 1, 'Cockadiddledow': 1, 'Allaying': 1, 'seachange': 1, 'Seanymphs': 1, 'Dingdong': 1, 'themDingdong': 1, 'fringed': 1, 'Delicate': 1, 'Seawater': 1, 'freshbrook': 1, 'mussels': 1, 'cradled': 1, 'disarm': 1, 'visitor': 1, 'OneTell': 1, 'entertainer': 1, 'dollar': 1, 'Dolour': 1, 'wiselier': 1, 'cockrel': 1, 'Uninhabitable': 1, 'misst': 1, 'Temperance': 1, 'lush': 1, 'misses': 1, 'totally': 1, 'glosses': 1, 'newdyd': 1, 'sowing': 1, 'breasted': 1, 'oared': 1, 'waveworn': 1, 'African': 1, 'chirurgeonly': 1, 'plantation': 1, 'nettleseed': 1, 'mallows': 1, 'Scape': 1, 'Execute': 1, 'Bourn': 1, 'Anddo': 1, 'flatlong': 1, 'abatfowling': 1, 'youwondrous': 1, 'drowsiness': 1, 'Dropping': 1, 'sleepdie': 1, 'winkst': 1, 'Trebles': 1, 'stripping': 1, 'Ebbing': 1, 'earthd': 1, 'Professes': 1, 'persuadethe': 1, 'Moons': 1, 'razorable': 1, 'seaswallowd': 1, 'cubit': 1, 'unnecessarily': 1, 'feater': 1, 'likethats': 1, 'payest': 1, 'foresees': 1, 'diesto': 1, 'GONZALOS': 1, 'snoring': 1, 'Openeyd': 1, 'Preserve': 1, 'nowHo': 1, 'awakeWhy': 1, 'securing': 1, 'didt': 1, 'humming': 1, 'drawnthere': 1, 'infections': 1, 'inchmeal': 1, 'Fright': 1, 'urchinshows': 1, 'footfall': 1, 'brewing': 1, 'pailfuls': 1, 'fishlike': 1, 'notofthenewest': 1, 'PoorJohn': 1, 'Leggd': 1, 'islander': 1, 'Misery': 1, 'acquaints': 1, 'Mall': 1, 'Ind': 1, 'bebut': 1, 'detract': 1, 'ComeAmen': 1, 'Trinculobe': 1, 'afeardthy': 1, 'mooncalfs': 1, 'hitherI': 1, 'escapdst': 1, 'Swum': 1, 'cellar': 1, 'Whens': 1, 'pignuts': 1, 'marmoset': 1, 'filberts': 1, 'scamels': 1, 'firing': 1, 'trenchering': 1, 'CaCaliban': 1, 'masterGet': 1, 'Delight': 1, 'undergone': 1, 'Burnt': 1, 'wearily': 1, 'MirandaO': 1, 'soand': 1, 'fleshfly': 1, 'logman': 1, 'mewhen': 1, 'totters': 1, 'servantmonster': 1, 'manmonster': 1, 'Mooncalf': 1, 'mutineerthe': 1, 'sorcerer': 1, 'himfor': 1, 'ninnys': 1, 'freshes': 1, 'talePrithee': 1, 'Batter': 1, 'wezand': 1, 'rootedly': 1, 'utensilsfor': 1, 'surpasseth': 1, 'Queensave': 1, 'Gracesand': 1, 'viceroys': 1, 'troll': 1, 'whileere': 1, 'Flout': 1, 'taborer': 1, 'forthrights': 1, 'meanders': 1, 'dulling': 1, 'reigningthere': 1, 'gentlekind': 1, 'Dewlappd': 1, 'Wallets': 1, 'putterout': 1, 'Destiny': 1, 'neversurfeited': 1, 'inhabityou': 1, 'bemockdat': 1, 'stillclosing': 1, 'dowle': 1, 'fellowministers': 1, 'youthat': 1, 'requit': 1, 'Lingring': 1, 'headsis': 1, 'compensation': 1, 'vexations': 1, 'acquisition': 1, 'virginknot': 1, 'aspersion': 1, 'Soureyd': 1, 'murkiest': 1, 'founderd': 1, 'Incite': 1, 'mop': 1, 'Dearly': 1, 'abstemious': 1, 'Abates': 1, 'corollary': 1, 'barley': 1, 'vetches': 1, 'turfy': 1, 'stover': 1, 'pioned': 1, 'twilled': 1, 'brims': 1, 'betrims': 1, 'dismissed': 1, 'lasslorn': 1, 'poleclipt': 1, 'seamarge': 1, 'airthe': 1, 'grassplot': 1, 'manycoloured': 1, 'Diffusest': 1, 'refreshing': 1, 'bosky': 1, 'unshrubbd': 1, 'earthwhy': 1, 'Summond': 1, 'shortgrassd': 1, 'Dis': 1, 'scandald': 1, 'Deity': 1, 'Paphos': 1, 'Dovedrawn': 1, 'bedrite': 1, 'waspishheaded': 1, 'Swears': 1, 'alights': 1, 'Highest': 1, 'marriageblessing': 1, 'Earths': 1, 'Barns': 1, 'gamers': 1, 'Vines': 1, 'Plants': 1, 'bowing': 1, 'Scarcity': 1, 'Harmonious': 1, 'charmingly': 1, 'Naiads': 1, 'windring': 1, 'sedgd': 1, 'sicklemen': 1, 'ryestraw': 1, 'baseless': 1, 'cloudcappd': 1, 'insubstantial': 1, 'unbackd': 1, 'calflike': 1, 'Toothd': 1, 'furzes': 1, 'goss': 1, 'Oerstunk': 1, 'Nurture': 1, 'Humanely': 1, 'horsepiss': 1, 'wetting': 1, 'footlicker': 1, 'frippery': 1, 'dropsy': 1, 'unrewarded': 1, 'garmet': 1, 'barnacles': 1, 'layto': 1, 'Mountain': 1, 'convulsions': 1, 'pinchspotted': 1, 'linegrove': 1, 'weatherfends': 1, 'Brim': 1, 'kindlier': 1, 'lakes': 1, 'printless': 1, 'ebbing': 1, 'demipuppets': 1, 'mushrooms': 1, 'beI': 1, 'bedimmd': 1, 'rifted': 1, 'strongbasd': 1, 'musicwhich': 1, 'Solem': 1, 'useless': 1, 'spellstoppd': 1, 'fellowly': 1, 'dissolves': 1, 'Melting': 1, 'followst': 1, 'furtherer': 1, 'Flesh': 1, 'Expelld': 1, 'Merrily': 1, 'Wheer': 1, 'alla': 1, 'faultall': 1, 'Irreparable': 1, 'supportable': 1, 'oozy': 1, 'justled': 1, 'Befitting': 1, 'cells': 1, 'chess': 1, 'eldst': 1, 'chalkd': 1, 'Andhow': 1, 'notall': 1, 'jingling': 1, 'diversity': 1, 'Capring': 1, 'moping': 1, 'infest': 1, 'Untie': 1, 'Coragio': 1, 'bullymonster': 1, 'buyem': 1, 'onehad': 1, 'flyblowing': 1, 'disproportioned': 1, 'thricedouble': 1, 'awaythe': 1, 'dearbelovd': 1, 'gales': 1, 'expeditious': 1, 'chick': 1, 'wellPlease': 1, 'Spoken': 1, 'haves': 1, 'deceiver': 1, 'pierces': 1, 'frees': 1, 'ATHENS': 1, 'AMAZONS': 1, 'Magic': 1, 'untirable': 1, 'oozes': 1, 'Indifferent': 1, 'Admirable': 1, 'Artificial': 1, 'livelier': 1, 'confluence': 1, 'Halts': 1, 'glassfacd': 1, 'Feignd': 1, 'personate': 1, 'Translates': 1, 'beckond': 1, 'Bowing': 1, 'lobbies': 1, 'sacrificial': 1, 'accompanying': 1, 'pregnantly': 1, 'addressing': 1, 'Periods': 1, 'frequents': 1, 'Attempts': 1, 'levitys': 1, 'pencilld': 1, 'extolld': 1, 'unclew': 1, 'prized': 1, 'Wrought': 1, 'apprehendst': 1, 'Traffic': 1, 'Traffics': 1, 'Aches': 1, 'omitst': 1, 'unpeaceable': 1, 'outgoes': 1, 'Sevenfold': 1, 'discontentedly': 1, 'Doubled': 1, 'Recanting': 1, 'Ira': 1, 'furor': 1, 'brevis': 1, 'apperil': 1, 'windpipes': 1, 'Feasts': 1, 'pelf': 1, 'asleeping': 1, 'dich': 1, 'zeals': 1, 'Senses': 1, 'Ear': 1, 'Smell': 1, 'depraved': 1, 'depraves': 1, 'adoring': 1, 'vour': 1, 'visitations': 1, 'coils': 1, 'juttingout': 1, 'bums': 1, 'Friendships': 1, 'pomps': 1, 'vainglories': 1, 'foals': 1, 'reliances': 1, 'smit': 1, 'resumes': 1, 'ISIDORE': 1, 'Dues': 1, 'Contain': 1, 'Varros': 1, 'datebroke': 1, 'detention': 1, 'longsincedue': 1, 'unagreeable': 1, 'Bawds': 1, 'whelpd': 1, 'outrunst': 1, 'thans': 1, 'indisposition': 1, 'unaptness': 1, 'exactest': 1, 'auditors': 1, 'spilth': 1, 'brayd': 1, 'Feastwon': 1, 'fastlost': 1, 'Unwisely': 1, 'Assurance': 1, 'corporate': 1, 'wrench': 1, 'intending': 1, 'distasteful': 1, 'halfcaps': 1, 'coldmoving': 1, 'cakd': 1, 'ingeniously': 1, 'bountys': 1, 'respectively': 1, 'freehearted': 1, 'LUCULLIUS': 1, 'towardly': 1, 'solidares': 1, 'nutriment': 1, 'comparing': 1, 'requesting': 1, 'happned': 1, 'bountifully': 1, 'dips': 1, 'Supported': 1, 'monstrousness': 1, 'backwardly': 1, 'bates': 1, 'ardent': 1, 'Doors': 1, 'MEN': 1, 'Hortensius': 1, 'Philotus': 1, 'recoverable': 1, 'gluttnous': 1, 'wondrously': 1, 'Creditors': 1, 'emboldens': 1, 'manslaughter': 1, 'Quarrelling': 1, 'misbegot': 1, 'outsides': 1, 'repugnancy': 1, 'Abroad': 1, 'Byzantium': 1, 'briber': 1, 'rioter': 1, 'Drowns': 1, 'balsam': 1, 'Banishment': 1, 'Tables': 1, 'summerbirds': 1, 'godheads': 1, 'suitable': 1, 'Uncover': 1, 'SPEAK': 1, 'mouthfriends': 1, 'Smoke': 1, 'sprinkles': 1, 'destroyers': 1, 'minutelacks': 1, 'Crust': 1, 'Push': 1, 'Matrons': 1, 'Slaves': 1, 'filths': 1, 'Bankrupts': 1, 'trusters': 1, 'Largehanded': 1, 'pill': 1, 'Piety': 1, 'nightrest': 1, 'Instruction': 1, 'Plagues': 1, 'fevers': 1, 'Cripple': 1, 'Itches': 1, 'blains': 1, 'Sow': 1, 'Breath': 1, 'Slink': 1, 'allshunnd': 1, 'Leakd': 1, 'seashore': 1, 'Twinnd': 1, 'procreation': 1, 'dividant': 1, 'rothers': 1, 'Ducks': 1, 'Yellow': 1, 'Roots': 1, 'wappend': 1, 'spitalhouse': 1, 'embalms': 1, 'Misanthropos': 1, 'canons': 1, 'Voicd': 1, 'regardfully': 1, 'tubs': 1, 'baths': 1, 'rosecheekd': 1, 'tubfast': 1, 'calamities': 1, 'penurious': 1, 'Warst': 1, 'highvicd': 1, 'Herselfs': 1, 'trenchant': 1, 'paps': 1, 'exhaust': 1, 'yells': 1, 'mountant': 1, 'oathable': 1, 'shudders': 1, 'turncoats': 1, 'Paint': 1, 'Consumptions': 1, 'Hoar': 1, 'flamen': 1, 'curldpate': 1, 'beagles': 1, 'Teems': 1, 'Engenders': 1, 'Ensear': 1, 'conceptious': 1, 'Teem': 1, 'marbled': 1, 'ploughtorn': 1, 'liquorish': 1, 'morsels': 1, 'unctuous': 1, 'greases': 1, 'Consumption': 1, 'slavelike': 1, 'Hug': 1, 'carper': 1, 'approachers': 1, 'Rascals': 1, 'outlivd': 1, 'pointst': 1, 'Candied': 1, 'oernights': 1, 'conflicting': 1, 'flatterst': 1, 'sourcold': 1, 'castigate': 1, 'enforcedly': 1, 'Outlives': 1, 'contentless': 1, 'claspd': 1, 'passive': 1, 'plungd': 1, 'confectionary': 1, 'shebeggar': 1, 'knewest': 1, 'livdst': 1, 'unicorn': 1, 'german': 1, 'jurors': 1, 'mangy': 1, 'Beast': 1, 'kingkiller': 1, 'defiler': 1, 'soldrest': 1, 'throngd': 1, 'Throngd': 1, 'fallingfrom': 1, 'covetously': 1, 'briars': 1, 'Rascal': 1, 'seethe': 1, 'antidotes': 1, 'composture': 1, 'genral': 1, 'THIEVES': 1, 'viler': 1, 'grantst': 1, 'disclaimst': 1, 'Flinty': 1, 'Pitys': 1, 'exceptless': 1, 'perpetualsober': 1, 'redeemst': 1, 'Debts': 1, 'hatst': 1, 'Phrynia': 1, 'straggling': 1, 'Performance': 1, 'personating': 1, 'softness': 1, 'opulency': 1, 'blackcornerd': 1, 'rigst': 1, 'ploughst': 1, 'Settlest': 1, 'travaild': 1, 'honestnaturd': 1, 'madeup': 1, 'cauterizing': 1, 'recanter': 1, 'Allowd': 1, 'whittle': 1, 'reverendst': 1, 'triumphers': 1, 'applauding': 1, 'fragile': 1, 'Sun': 1, 'unremovably': 1, 'courier': 1, 'imported': 1, 'traversd': 1, 'crouching': 1, 'decimation': 1, 'tithed': 1, 'bluster': 1, 'rampird': 1, 'uncharged': 1, 'Entombd': 1, 'insculpture': 1, 'Interprets': 1, 'caitiffs': 1, 'abhorrdst': 1, 'Scorndst': 1, 'droplets': 1, 'leech': 1, 'patrons': 1, 'Defend': 1, 'favourers': 1, 'continence': 1, 'Ambitiously': 1, 'Chosen': 1, 'Pius': 1, 'accited': 1, 'Bleeding': 1, 'expiation': 1, 'uprightness': 1, 'Patron': 1, 'circumscribed': 1, 'anchorage': 1, 'Cometh': 1, 'fratrum': 1, 'unappeasd': 1, 'survives': 1, 'brethen': 1, 'Captive': 1, 'nobilitys': 1, 'brethrens': 1, 'triumpher': 1, 'Solons': 1, 'pariament': 1, 'latedeceased': 1, 'candidatus': 1, 'feebleness': 1, 'don': 1, 'Knighted': 1, 'Upright': 1, 'interrupter': 1, 'nobleminded': 1, 'Daunt': 1, 'Warrants': 1, 'Ransomless': 1, 'Seizing': 1, 'Suum': 1, 'cuique': 1, 'seizeth': 1, 'Barst': 1, 'Confederates': 1, 'gallantst': 1, 'Hymenaeus': 1, 'Dishonoured': 1, 'challenged': 1, 'sumptuously': 1, 'dreary': 1, 'remunerate': 1, 'Tamoras': 1, 'loveday': 1, 'bonjour': 1, 'climbeth': 1, 'Gallops': 1, 'zodiac': 1, 'glistening': 1, 'highestpeering': 1, 'Aarons': 1, 'Prometheus': 1, 'commonweals': 1, 'Hullo': 1, 'glued': 1, 'Foulspoken': 1, 'thundrest': 1, 'Lavina': 1, 'glideth': 1, 'miller': 1, 'loaf': 1, 'shive': 1, 'languishment': 1, 'Fitted': 1, 'Single': 1, 'fas': 1, 'aut': 1, 'nefas': 1, 'Per': 1, 'Styga': 1, 'vehor': 1, 'abjectly': 1, 'gleeful': 1, 'rolled': 1, 'chequerd': 1, 'Replying': 1, 'welltund': 1, 'yellowing': 1, 'counselkeeping': 1, 'deadlystanding': 1, 'uncurls': 1, 'unroll': 1, 'venereal': 1, 'fatalplotted': 1, 'Unfurnishd': 1, 'Actaeons': 1, 'newtransformed': 1, 'horning': 1, 'swarth': 1, 'Cimmerian': 1, 'Dismounted': 1, 'Accompanied': 1, 'ravencoloured': 1, 'ticed': 1, 'Overcome': 1, 'mistletoe': 1, 'adulteress': 1, 'poniard': 1, 'nicepreserved': 1, 'begst': 1, 'deflower': 1, 'rudegrowing': 1, 'newshed': 1, 'bloodstained': 1, 'chilling': 1, 'oerruns': 1, 'berayd': 1, 'Cocytus': 1, 'SATURNINE': 1, 'overshades': 1, 'neverheardof': 1, 'scrowl': 1, 'hewd': 1, 'bubbling': 1, 'rosed': 1, 'Blushing': 1, 'craftier': 1, 'languor': 1, 'urns': 1, 'drought': 1, 'offendeth': 1, 'devourers': 1, 'fagot': 1, 'brightburning': 1, 'effectless': 1, 'unrecuring': 1, 'waxing': 1, 'gathred': 1, 'downwards': 1, 'brinepit': 1, 'Plot': 1, 'bewet': 1, 'battleaxe': 1, 'withred': 1, 'warded': 1, 'Threatning': 1, 'overflowd': 1, 'sentst': 1, 'Aetna': 1, 'flattry': 1, 'Rent': 1, 'Gnawing': 1, 'sorrowwreathen': 1, 'seasalt': 1, 'franticly': 1, 'Brewd': 1, 'meshd': 1, 'Speechless': 1, 'complainer': 1, 'alphabet': 1, 'reprehending': 1, 'Somewhither': 1, 'Tullys': 1, 'Orator': 1, 'Extremity': 1, 'tosseth': 1, 'Grandsire': 1, 'Ovids': 1, 'Metamorphoses': 1, 'quotes': 1, 'Ravishd': 1, 'Philomela': 1, 'Patternd': 1, 'tragedies': 1, 'slunk': 1, 'Stuprum': 1, 'Performers': 1, 'Magni': 1, 'Dominator': 1, 'poli': 1, 'Tam': 1, 'audis': 1, 'scelera': 1, 'vides': 1, 'fere': 1, 'bearwhelps': 1, 'playeth': 1, 'Sibyls': 1, 'foemens': 1, 'Integer': 1, 'scelerisque': 1, 'purus': 1, 'eget': 1, 'Mauri': 1, 'iaculis': 1, 'nec': 1, 'arcu': 1, 'Captives': 1, 'Basely': 1, 'blowse': 1, 'tadpole': 1, 'scimitars': 1, 'younglings': 1, 'Enceladus': 1, 'Typhons': 1, 'shallowhearted': 1, 'whitelimd': 1, 'Coalblack': 1, 'ignomy': 1, 'selfblood': 1, 'enfranchised': 1, 'thirds': 1, 'Weeke': 1, 'weeke': 1, 'Muliteus': 1, 'tattle': 1, 'thicklippd': 1, 'Terras': 1, 'Astrea': 1, 'reliquit': 1, 'Shaken': 1, 'manofwar': 1, 'unsearchd': 1, 'bigbond': 1, 'Jovem': 1, 'Apollinem': 1, 'Martem': 1, 'shafts': 1, 'Virgos': 1, 'Aries': 1, 'Rams': 1, 'gibbetmaker': 1, 'Tribunal': 1, 'Plebs': 1, 'Emperals': 1, 'Troubled': 1, 'egal': 1, 'mightful': 1, 'wreaks': 1, 'scrolls': 1, 'libelling': 1, 'unjustice': 1, 'ecstasies': 1, 'proudst': 1, 'Calm': 1, 'Highwitted': 1, 'mistriship': 1, 'Emperial': 1, 'NUNTIUS': 1, 'honeystalks': 1, 'successantly': 1, 'Approved': 1, 'scath': 1, 'leadst': 1, 'flowred': 1, 'sprawl': 1, 'Complots': 1, 'Ruthful': 1, 'believest': 1, 'popish': 1, 'adorest': 1, 'codding': 1, 'pried': 1, 'crevice': 1, 'barns': 1, 'haystacks': 1, 'habiliment': 1, 'stump': 1, 'Confer': 1, 'lurkingplace': 1, 'obscurity': 1, 'surance': 1, 'waggoner': 1, 'globes': 1, 'Trot': 1, 'hellhounds': 1, 'Inhuman': 1, 'pasties': 1, 'Progne': 1, 'sustnance': 1, 'baked': 1, 'balcony': 1, 'sadfacd': 1, 'Scatterd': 1, 'auditory': 1, 'adventrous': 1, 'vaunter': 1, 'Citing': 1, 'architect': 1, 'plotter': 1, 'misbelieving': 1, 'bloodstaind': 1, 'Countless': 1, 'execrable': 1, 'breastdeep': 1, 'relieves': 1, 'devoid': 1, 'HISTORY': 1, 'isles': 1, 'orgillous': 1, 'Fraught': 1, 'Sixty': 1, 'ransack': 1, 'immures': 1, 'sleepsand': 1, 'Tenedos': 1, 'deepdrawing': 1, 'pavilions': 1, 'sixgated': 1, 'Tymbria': 1, 'Helias': 1, 'Chetas': 1, 'Troien': 1, 'Antenorides': 1, 'staples': 1, 'corresponsive': 1, 'fulfilling': 1, 'Sperr': 1, 'hazardand': 1, 'vaunt': 1, 'Tamer': 1, 'fonder': 1, 'heating': 1, 'baking': 1, 'wedged': 1, 'indrenchd': 1, 'Pourest': 1, 'Handlest': 1, 'PandarusO': 1, 'stubbornchaste': 1, 'Daphnes': 1, 'foresaw': 1, 'elephanta': 1, 'crowded': 1, 'sauced': 1, 'Briareus': 1, 'AlexanderHow': 1, 'windowand': 1, 'lifter': 1, 'pluckt': 1, 'dolts': 1, 'Crows': 1, 'drayman': 1, 'mincd': 1, 'unarms': 1, 'maxim': 1, 'Achievement': 1, 'AGAMEMNONS': 1, 'jaundies': 1, 'proposition': 1, 'Fails': 1, 'conflux': 1, 'diverts': 1, 'Tortive': 1, 'errant': 1, 'Bias': 1, 'unbodied': 1, 'surmised': 1, 'abashd': 1, 'protractive': 1, 'persistive': 1, 'artist': 1, 'unread': 1, 'affind': 1, 'Puffing': 1, 'winnows': 1, 'Boreas': 1, 'strongribbd': 1, 'Bounding': 1, 'untimberd': 1, 'Corivalld': 1, 'ray': 1, 'breeze': 1, 'shadewhy': 1, 'uphear': 1, 'stretchdout': 1, 'tongueyet': 1, 'importless': 1, 'mastic': 1, 'specialty': 1, 'Hollow': 1, 'foragers': 1, 'Degree': 1, 'Insisture': 1, 'Office': 1, 'Sol': 1, 'spherd': 1, 'Amidst': 1, 'Corrects': 1, 'Commotion': 1, 'Frights': 1, 'communities': 1, 'brotherhoods': 1, 'Peaceful': 1, 'dividable': 1, 'primogenity': 1, 'Prerogative': 1, 'laurels': 1, 'untune': 1, 'oppugnancy': 1, 'imbecility': 1, 'Exampld': 1, 'superior': 1, 'scurril': 1, 'topless': 1, 'hamstring': 1, 'scaffoldage': 1, 'tobepitied': 1, 'oerwrested': 1, 'chime': 1, 'amending': 1, 'unsquard': 1, 'Typhon': 1, 'drest': 1, 'doneas': 1, 'Arming': 1, 'palsyfumbling': 1, 'gorget': 1, 'Severals': 1, 'Achievements': 1, 'preventions': 1, 'voicemany': 1, 'bedwork': 1, 'mappry': 1, 'closetwar': 1, 'swinge': 1, 'Morning': 1, 'Courtiers': 1, 'debonair': 1, 'distains': 1, 'repining': 1, 'transcends': 1, 'HectorPriam': 1, 'longcontinued': 1, 'hersto': 1, 'Midway': 1, 'vantbrace': 1, 'grandame': 1, 'wedges': 1, 'seeded': 1, 'overbulk': 1, 'Relates': 1, 'perspicuous': 1, 'publication': 1, 'Libyathough': 1, 'enoughwill': 1, 'scantling': 1, 'indexes': 1, 'subsequent': 1, 'mas': 1, 'miscarrying': 1, 'Directive': 1, 'parch': 1, 'blockish': 1, 'Myrmidon': 1, 'brainless': 1, 'Agamemnonhow': 1, 'runsay': 1, 'botchy': 1, 'bitchwolfs': 1, 'beefwitted': 1, 'whinidst': 1, 'handsomeness': 1, 'Toadstool': 1, 'scratching': 1, 'loathsomest': 1, 'grumblest': 1, 'Proserpinas': 1, 'beautyay': 1, 'barkst': 1, 'Cobloaf': 1, 'pun': 1, 'soddenwitted': 1, 'assinico': 1, 'modicums': 1, 'evasions': 1, 'Ajaxwho': 1, 'headIll': 1, 'Nestorwhose': 1, 'toesyoke': 1, 'clotpoles': 1, 'Surety': 1, 'searches': 1, 'dismes': 1, 'HelenI': 1, 'tenths': 1, 'ounces': 1, 'pastproportion': 1, 'fathomless': 1, 'spans': 1, 'marvels': 1, 'disorbd': 1, 'Manhood': 1, 'godI': 1, 'attributive': 1, 'infectiously': 1, 'benied': 1, 'wranglers': 1, 'launchd': 1, 'raving': 1, 'Virgins': 1, 'midage': 1, 'Practise': 1, 'justness': 1, 'raptures': 1, 'propension': 1, 'propugnation': 1, 'excite': 1, 'retract': 1, 'besotted': 1, 'Wipd': 1, 'unfamd': 1, 'spaces': 1, 'glozd': 1, 'Aristode': 1, 'distempred': 1, 'benumbed': 1, 'wellorderd': 1, 'refractory': 1, 'Spartas': 1, 'isthese': 1, 'persist': 1, 'extenuates': 1, 'propend': 1, 'dependence': 1, 'canonize': 1, 'roisting': 1, 'Sfoot': 1, 'engineer': 1, 'thunderdarter': 1, 'serpentine': 1, 'caduceus': 1, 'lessthanlittle': 1, 'shortarmd': 1, 'Creator': 1, 'suffices': 1, 'cuckolda': 1, 'lionsick': 1, 'inveigled': 1, 'NESTORWho': 1, 'fraction': 1, 'disunite': 1, 'outfly': 1, 'untasted': 1, 'underhonest': 1, 'selfassumption': 1, 'underwrite': 1, 'pettish': 1, 'overhold': 1, 'engendring': 1, 'selfadmission': 1, 'Untent': 1, 'selfbreath': 1, 'Imagind': 1, 'Kingdomd': 1, 'plaguy': 1, 'bastes': 1, 'seam': 1, 'himselfshall': 1, 'assubjugate': 1, 'titled': 1, 'enlard': 1, 'fatalready': 1, 'Cancer': 1, 'entertaining': 1, 'knead': 1, 'manbut': 1, 'selfaffected': 1, 'gat': 1, 'Famd': 1, 'Thricefamd': 1, 'erudition': 1, 'Bullbearing': 1, 'Milo': 1, 'Instructed': 1, 'antiquary': 1, 'lordcome': 1, 'hulks': 1, 'youpray': 1, 'Wholly': 1, 'complimental': 1, 'seethes': 1, 'Sodden': 1, 'tocommends': 1, 'affectionately': 1, 'queenMy': 1, 'disposers': 1, 'spyCome': 1, 'Shoots': 1, 'hahey': 1, 'gallantry': 1, 'kingsdisarm': 1, 'overshines': 1, 'Cressidas': 1, 'Stygian': 1, 'Charon': 1, 'transportance': 1, 'Proposd': 1, 'thricerepured': 1, 'Swooning': 1, 'subtlepotent': 1, 'frayd': 1, 'newtaen': 1, 'Shames': 1, 'babyHere': 1, 'fillsWhy': 1, 'herCome': 1, 'feefarm': 1, 'Build': 1, 'tercel': 1, 'billing': 1, 'grantO': 1, 'abruption': 1, 'dreg': 1, 'cherubims': 1, 'monstruosity': 1, 'discharging': 1, 'everpardon': 1, 'unsecret': 1, 'Outliving': 1, 'affronted': 1, 'Approve': 1, 'plantage': 1, 'Prophet': 1, 'waterdrops': 1, 'characterless': 1, 'nothingyet': 1, 'Upbraid': 1, 'namecall': 1, 'Troiluses': 1, 'Incurrd': 1, 'sequestring': 1, 'Yesterday': 1, 'youoften': 1, 'negotiations': 1, 'Furnish': 1, 'unplausive': 1, 'disdainfully': 1, 'mealy': 1, 'manhow': 1, 'sensebehold': 1, 'mirrord': 1, 'familiarbut': 1, 'consisting': 1, 'formed': 1, 'reverbrate': 1, 'Fronting': 1, 'Fortuneshall': 1, 'lordswhy': 1, 'misers': 1, 'beggarsneither': 1, 'wallet': 1, 'ingratitudes': 1, 'Perseverance': 1, 'forthright': 1, 'Oerrun': 1, 'trampled': 1, 'Grasps': 1, 'calumniating': 1, 'oerdusted': 1, 'missions': 1, 'uncomprehensive': 1, 'unveil': 1, 'mysterywith': 1, 'meddlein': 1, 'Polyxena': 1, 'restrains': 1, 'dewdrop': 1, 'Omission': 1, 'prophetically': 1, 'cudgelling': 1, 'peacocka': 1, 'ruminaies': 1, 'breakt': 1, 'languageless': 1, 'sixorseventimeshonourd': 1, 'catlings': 1, 'tick': 1, 'bedmate': 1, 'DIOMEDESWe': 1, 'despitefulst': 1, 'enfreed': 1, 'Diomedfaith': 1, 'goodfellowship': 1, 'soilure': 1, 'palating': 1, 'tamed': 1, 'whorish': 1, 'countrywoman': 1, 'chapmen': 1, 'attachment': 1, 'Wakd': 1, 'ribald': 1, 'grasps': 1, 'momentaryswift': 1, 'capocchia': 1, 'bugbear': 1, 'naughtily': 1, 'Whonay': 1, 'taciturnity': 1, 'profoundly': 1, 'consanguinity': 1, 'prefixd': 1, 'moderation': 1, 'violenteth': 1, 'causeth': 1, 'allayment': 1, 'qualifying': 1, 'sighst': 1, 'justles': 1, 'rejoindure': 1, 'embrasures': 1, 'Crams': 1, 'consignd': 1, 'fumbles': 1, 'scants': 1, 'Distasted': 1, 'Genius': 1, 'expostulation': 1, 'maculation': 1, 'novelties': 1, 'lavolt': 1, 'gamesfair': 1, 'dumbdiscoursive': 1, 'changeful': 1, 'highsoaring': 1, 'Lists': 1, 'Anticipating': 1, 'appalled': 1, 'combatant': 1, 'sphered': 1, 'Outswell': 1, 'Aquilond': 1, 'blowest': 1, 'aspiration': 1, 'poppd': 1, 'Nevers': 1, 'ticklish': 1, 'Trojans': 1, 'Eneas': 1, 'stints': 1, 'matchless': 1, 'deedless': 1, 'Manly': 1, 'vindicative': 1, 'cousingerman': 1, 'commixtion': 1, 'dexter': 1, 'Bounds': 1, 'multipotent': 1, 'feud': 1, 'borrowdst': 1, 'Neoptolemus': 1, 'mirable': 1, 'Oyes': 1, 'expectance': 1, 'seld': 1, 'expecters': 1, 'AGAMEMNONWorthy': 1, 'Understand': 1, 'Straind': 1, 'purely': 1, 'biasdrawing': 1, 'wellfamd': 1, 'untraded': 1, 'subduements': 1, 'understandst': 1, 'whereout': 1, 'pleasantly': 1, 'stithied': 1, 'convive': 1, 'Concur': 1, 'tambourines': 1, 'crusty': 1, 'batch': 1, 'seemest': 1, 'Adversity': 1, 'Male': 1, 'gutsgriping': 1, 'ruptures': 1, 'catarrhs': 1, 'lethargies': 1, 'palsies': 1, 'dirtrotten': 1, 'wheezing': 1, 'sciaticas': 1, 'limekilns': 1, 'rivelled': 1, 'indistinguishable': 1, 'immaterial': 1, 'sleid': 1, 'flap': 1, 'tassel': 1, 'prodigals': 1, 'waterfliesdiminutives': 1, 'Finch': 1, 'gaging': 1, 'earwax': 1, 'primitive': 1, 'shoeinghorn': 1, 'legto': 1, 'lizard': 1, 'Heyday': 1, 'sewer': 1, 'falsehearted': 1, 'leers': 1, 'hisses': 1, 'Brabbler': 1, 'astronomers': 1, 'Roguery': 1, 'Guardian': 1, 'rump': 1, 'potato': 1, 'Fry': 1, 'cognition': 1, 'meO': 1, 'wenchGivet': 1, 'sharpens': 1, 'Pleases': 1, 'comeO': 1, 'directs': 1, 'Minds': 1, 'coact': 1, 'publishing': 1, 'obstinately': 1, 'deceptious': 1, 'calumniate': 1, 'negation': 1, 'critics': 1, 'depravation': 1, 'sanctimonies': 1, 'Bifold': 1, 'inseparate': 1, 'Admits': 1, 'orifex': 1, 'Ariachnes': 1, 'woof': 1, 'fivefingertied': 1, 'orts': 1, 'oereaten': 1, 'halfattachd': 1, 'Inflamd': 1, 'shipmen': 1, 'hurricano': 1, 'Constringd': 1, 'concupy': 1, 'Fairwell': 1, 'fairand': 1, 'croak': 1, 'almond': 1, 'commodious': 1, 'admonishment': 1, 'turbulence': 1, 'Meanst': 1, 'Beckning': 1, 'oergalled': 1, 'enrapt': 1, 'shrills': 1, 'Farewellyet': 1, 'edifies': 1, 'clapperclawing': 1, 'whoremasterly': 1, 'sleeveless': 1, 'rascalsthat': 1, 'mouseeaten': 1, 'dogfox': 1, 'blackberry': 1, 'Withdrew': 1, 'Troyannow': 1, 'noI': 1, 'wenching': 1, 'Polydamus': 1, 'enon': 1, 'Margarelon': 1, 'Doreus': 1, 'colossuswise': 1, 'pashed': 1, 'Epistrophus': 1, 'Cedius': 1, 'Amphimacus': 1, 'Thoas': 1, 'Palamedes': 1, 'Sore': 1, 'Appals': 1, 'reinforcement': 1, 'Galathe': 1, 'sculls': 1, 'belching': 1, 'strawy': 1, 'mowers': 1, 'Dexterity': 1, 'obeying': 1, 'noseless': 1, 'Engaging': 1, 'forceless': 1, 'boyqueller': 1, 'frush': 1, 'Empale': 1, 'Loo': 1, 'doublehornd': 1, 'putrified': 1, 'forego': 1, 'MYRMIDON': 1, 'oerspreads': 1, 'sticklerlike': 1, 'separates': 1, 'halfsuppd': 1, 'bragless': 1, 'Frown': 1, 'destructions': 1, 'imminence': 1, 'Niobes': 1, 'Scare': 1, 'mouldeth': 1, 'frenzys': 1, 'brokerlackey': 1, 'cloths': 1, 'Brethren': 1, 'holddoor': 1, 'eases': 1, 'TWELFTH': 1, 'NIGHT': 1, 'SEA': 1, 'FESTE': 1, 'countess': 1, 'Receiveth': 1, 'Curio': 1, 'Eer': 1, 'cloistress': 1, 'Lovethoughts': 1, 'bowrs': 1, 'SAILORS': 1, 'Arion': 1, 'unfoldeth': 1, 'bounteously': 1, 'blabs': 1, 'earlier': 1, 'straps': 1, 'quaffing': 1, 'violdegamboys': 1, 'quarreller': 1, 'scoundrels': 1, 'subtractors': 1, 'coystrill': 1, 'parishtop': 1, 'Castiliano': 1, 'vulgo': 1, 'Agueface': 1, 'chambermaid': 1, 'buttrybar': 1, 'Pourquoi': 1, 'pourquoi': 1, 'curl': 1, 'kickshawses': 1, 'backtrick': 1, 'Malls': 1, 'sinkapace': 1, 'flamecolourd': 1, 'unclaspd': 1, 'unprofited': 1, 'nuncios': 1, 'rubious': 1, 'semblative': 1, 'constellation': 1, 'barful': 1, 'gaskins': 1, 'Quinapalus': 1, 'botcher': 1, 'transgresses': 1, 'syllogism': 1, 'Misprision': 1, 'Dexteriously': 1, 'mournst': 1, 'zanies': 1, 'birdbolts': 1, 'endue': 1, 'Hiccups': 1, 'pickleherring': 1, 'foreknowledge': 1, 'sheriffs': 1, 'codling': 1, 'shrewishly': 1, 'comptible': 1, 'comedian': 1, 'mollification': 1, 'chapter': 1, 'cruellst': 1, 'inventoried': 1, 'utensil': 1, 'labelld': 1, 'adorations': 1, 'divulgd': 1, 'cantons': 1, 'contemned': 1, 'Halloo': 1, 'hals': 1, 'Placd': 1, 'fivefold': 1, 'malignancy': 1, 'extravagancy': 1, 'overfar': 1, 'recoverddesire': 1, 'cnemies': 1, 'peevishly': 1, 'properfalse': 1, 'untangle': 1, 'diluculo': 1, 'surgere': 1, 'Pigrogromitus': 1, 'Vapians': 1, 'equinoctial': 1, 'Queubus': 1, 'impeticos': 1, 'gratillity': 1, 'whipstock': 1, 'testril': 1, 'Journeys': 1, 'Youths': 1, 'mellifluous': 1, 'nightowl': 1, 'politicians': 1, 'PegaRamsey': 1, 'consanguineous': 1, 'Tillyvally': 1, 'dwelt': 1, 'twelfth': 1, 'coziers': 1, 'Sneck': 1, 'misdemeanours': 1, 'crumbs': 1, 'timepleaser': 1, 'affectiond': 1, 'cons': 1, 'swarths': 1, 'excellencies': 1, 'personated': 1, 'Ass': 1, 'Penthesilea': 1, 'beagle': 1, 'recollected': 1, 'giddypaced': 1, 'Feste': 1, 'Unstaid': 1, 'knitters': 1, 'weave': 1, 'FESTES': 1, 'strown': 1, 'attracts': 1, 'cloyment': 1, 'Smiling': 1, 'denay': 1, 'sheepbiter': 1, 'boxtree': 1, 'trout': 1, 'Contemplation': 1, 'jets': 1, 'Strachy': 1, 'Jezebel': 1, 'stonebow': 1, 'branchd': 1, 'daybed': 1, 'Bolts': 1, 'quenching': 1, 'Ps': 1, 'brock': 1, 'staniel': 1, 'alphabetical': 1, 'Sowter': 1, 'simulation': 1, 'inure': 1, 'FORTUNATEUNHAPPY': 1, 'Daylight': 1, 'champain': 1, 'excites': 1, 'gullcatcher': 1, 'traytrip': 1, 'aquavita': 1, 'AIARIA': 1, 'addicted': 1, 'chevril': 1, 'carst': 1, 'pilchers': 1, 'Foolery': 1, 'overworn': 1, 'follyfalln': 1, 'garde': 1, 'Odours': 1, 'unmuzzled': 1, 'grize': 1, 'westwardho': 1, 'clause': 1, 'deplore': 1, 'grandjurymen': 1, 'Noah': 1, 'dormouse': 1, 'accosted': 1, 'baulkd': 1, 'Dutchmans': 1, 'Brownist': 1, 'Challenge': 1, 'lovebroker': 1, 'Taunt': 1, 'thoust': 1, 'goosepen': 1, 'cubiculo': 1, 'manakin': 1, 'delivert': 1, 'wainropes': 1, 'stitches': 1, 'renegado': 1, 'augmentation': 1, 'hurling': 1, 'Unguided': 1, 'unfriended': 1, 'unhospitable': 1, 'shuffld': 1, 'reliques': 1, 'memorials': 1, 'ANTONIOTh': 1, 'repaying': 1, 'lapsed': 1, 'pursebearer': 1, 'Smilst': 1, 'crossgartering': 1, 'AIALVOLIO': 1, 'Crossgarterd': 1, 'concurs': 1, 'incites': 1, 'doer': 1, 'Legion': 1, 'Biddy': 1, 'cherrypit': 1, 'collier': 1, 'improbable': 1, 'quieter': 1, 'waylay': 1, 'bumbaily': 1, 'twangd': 1, 'clodpole': 1, 'impetuosity': 1, 'cockatrices': 1, 'unchary': 1, 'reproves': 1, 'intercepter': 1, 'Dismount': 1, 'assailant': 1, 'Souls': 1, 'incensement': 1, 'implacable': 1, 'Hobnob': 1, 'quirk': 1, 'firago': 1, 'fencer': 1, 'seacap': 1, 'befalls': 1, 'unsound': 1, 'oerflourishd': 1, 'couplet': 1, 'cowardship': 1, 'Slid': 1, 'ungird': 1, 'Ungracious': 1, 'preachd': 1, 'Rudesby': 1, 'Bonos': 1, 'Prague': 1, 'wittily': 1, 'Gorboduc': 1, 'vexest': 1, 'Talkest': 1, 'barricadoes': 1, 'clerestories': 1, 'complainest': 1, 'errest': 1, 'puzzled': 1, 'TOPAS': 1, 'Endeavour': 1, 'bibblebabble': 1, 'Welladay': 1, 'prithe': 1, 'Vice': 1, 'Pare': 1, 'enwraps': 1, 'Blame': 1, 'chantry': 1, 'Plight': 1, 'OLIVIAs': 1, 'negatives': 1, 'affirmatives': 1, 'doubledealing': 1, 'Primo': 1, 'secundo': 1, 'tertio': 1, 'triplex': 1, 'baubling': 1, 'scathful': 1, 'Candy': 1, 'Notable': 1, 'foamy': 1, 'recommended': 1, 'intrim': 1, 'hushes': 1, 'perverseness': 1, 'unauspicious': 1, 'faithfullst': 1, 'nonregardance': 1, 'screws': 1, 'marblebreasted': 1, 'mores': 1, 'Punish': 1, 'Reveals': 1, 'joinder': 1, 'Attested': 1, 'interchangement': 1, 'cub': 1, 'grizzle': 1, 'incardinate': 1, 'lifelings': 1, 'bespake': 1, 'tickld': 1, 'othergates': 1, 'Sot': 1, 'Surgeon': 1, 'passy': 1, 'pavin': 1, 'Fearst': 1, 'cohere': 1, 'occurrence': 1, 'overswear': 1, 'severs': 1, 'gospels': 1, 'vox': 1, 'MADLYUSD': 1, 'Notorious': 1, 'gul': 1, 'Marias': 1, 'presupposd': 1, 'uncourteous': 1, 'Tobys': 1, 'whirligig': 1, 'convents': 1, 'tosspots': 1, 'VERONA': 1, 'MILAN': 1, 'Homekeeping': 1, 'sluggardizd': 1, 'noteworthy': 1, 'lovebook': 1, 'swum': 1, 'Coy': 1, 'moments': 1, 'Expects': 1, 'Betideth': 1, 'bechance': 1, 'embark': 1, 'fodder': 1, 'followest': 1, 'baa': 1, 'Gavst': 1, 'overchargd': 1, 'pinfold': 1, 'Nodding': 1, 'testernd': 1, 'unheedfully': 1, 'Mercatio': 1, 'closest': 1, 'profferer': 1, 'churlishly': 1, 'gingerly': 1, 'fingring': 1, 'Trampling': 1, 'contemptuously': 1, 'lovewounded': 1, 'bosomas': 1, 'heald': 1, 'ANTONIOS': 1, 'universities': 1, 'tournaments': 1, 'Alphonso': 1, 'journeying': 1, 'relying': 1, 'resembleth': 1, 'decks': 1, 'robin': 1, 'redbreast': 1, 'fasted': 1, 'urinal': 1, 'movingly': 1, 'inscrutable': 1, 'steeple': 1, 'spokesman': 1, 'oerslips': 1, 'Launces': 1, 'Imperials': 1, 'sourestnatured': 1, 'cruelhearted': 1, 'unmellowed': 1, 'fellowservant': 1, 'disability': 1, 'lovediscourse': 1, 'penitential': 1, 'principality': 1, 'summerswelling': 1, 'braggardism': 1, 'marriagehour': 1, 'Determind': 1, 'Plotted': 1, 'expels': 1, 'standunder': 1, 'parable': 1, 'reportest': 1, 'sweetsuggesting': 1, 'Unheedful': 1, 'soulconfirming': 1, 'swarthy': 1, 'meaneth': 1, 'disguising': 1, 'pretended': 1, 'Thurios': 1, 'visibly': 1, 'truedevoted': 1, 'damst': 1, 'hindered': 1, 'sedge': 1, 'overtaketh': 1, 'nooks': 1, 'turmoil': 1, 'wellreputed': 1, 'oddconceited': 1, 'Warrant': 1, 'tarriance': 1, 'dutys': 1, 'unprevented': 1, 'aimed': 1, 'publisher': 1, 'Beseeming': 1, 'regarding': 1, 'weddingdowr': 1, 'sunbright': 1, 'shelving': 1, 'Merops': 1, 'Fosterd': 1, 'illumind': 1, 'Soho': 1, 'soho': 1, 'unreversd': 1, 'Wringing': 1, 'silvershedding': 1, 'uncompassionate': 1, 'anthem': 1, 'lamentst': 1, 'waterspaniel': 1, 'catelog': 1, 'blackst': 1, 'jolthead': 1, 'illiterate': 1, 'loiterer': 1, 'Handing': 1, 'brews': 1, 'scourd': 1, 'crusts': 1, 'Rehearse': 1, 'Forsworn': 1, 'Trenched': 1, 'Dissolves': 1, 'opposes': 1, 'perversely': 1, 'persevers': 1, 'esteemeth': 1, 'lumpish': 1, 'wailful': 1, 'heavenbred': 1, 'leviathans': 1, 'unsounded': 1, 'direlamenting': 1, 'deploring': 1, 'sweetcomplaining': 1, 'directiongiver': 1, 'rifle': 1, 'Hoods': 1, 'crews': 1, 'commending': 1, 'twits': 1, 'spaniellike': 1, 'fawneth': 1, 'allycholly': 1, 'inhabits': 1, 'Gregorys': 1, 'conceitless': 1, 'Survives': 1, 'halidom': 1, 'Entreated': 1, 'vowdst': 1, 'Recking': 1, 'betideth': 1, 'befortune': 1, 'diningchamber': 1, 'PROTEUSI': 1, 'loitering': 1, 'Stayest': 1, 'wul': 1, 'sunexpelling': 1, 'lilytincture': 1, 'passioning': 1, 'auburn': 1, 'rounder': 1, 'Considers': 1, 'SILVA': 1, 'mischances': 1, 'Moyses': 1, 'Valerius': 1, 'lawlessly': 1, 'seized': 1, 'theyre': 1, 'Ruffian': 1, 'Eternals': 1, 'Inconstancy': 1, 'Banished': 1, 'unrivalld': 1, 'endud': 1, 'fortuned': 1, 'WINTERS': 1, 'TALE': 1, 'Shepherds': 1, 'Shepherdesses': 1, 'magnificence': 1, 'unintelligent': 1, 'insufficience': 1, 'overkind': 1, 'childhoods': 1, 'attorneyed': 1, 'multiply': 1, 'tougher': 1, 'sevnight': 1, 'gainsaying': 1, 'distaffs': 1, 'gest': 1, 'limber': 1, 'unsphere': 1, 'lordings': 1, 'frisk': 1, 'illdoing': 1, 'Temptations': 1, 'crams': 1, 'Slaughters': 1, 'sourd': 1, 'tremor': 1, 'cordis': 1, 'heartiness': 1, 'mort': 1, 'fecks': 1, 'smutchd': 1, 'virginalling': 1, 'oerdyd': 1, 'blacks': 1, 'fixes': 1, 'Communicatst': 1, 'unreal': 1, 'coactive': 1, 'fellowst': 1, 'cojoin': 1, 'hardning': 1, 'unbreechd': 1, 'muzzld': 1, 'bes': 1, 'Julys': 1, 'childness': 1, 'Officd': 1, 'rover': 1, 'Apparent': 1, 'bents': 1, 'neb': 1, 'Inchthick': 1, 'kneedeep': 1, 'sluicd': 1, 'Knowt': 1, 'rounding': 1, 'soforth': 1, 'Business': 1, 'chambercouncils': 1, 'cleansd': 1, 'Deceivd': 1, 'inclinst': 1, 'hoxes': 1, 'wilfullnegligent': 1, 'industriously': 1, 'nonperformance': 1, 'eyeglass': 1, 'cogitation': 1, 'Resides': 1, 'impudently': 1, 'negative': 1, 'flaxwench': 1, 'justifyt': 1, 'standerby': 1, 'Shrew': 1, 'reiterate': 1, 'Horsing': 1, 'Skulking': 1, 'hovering': 1, 'temporizer': 1, 'Inclining': 1, 'medal': 1, 'thrifts': 1, 'benchd': 1, 'bespice': 1, 'Maliciously': 1, 'sovereignly': 1, 'goads': 1, 'tails': 1, 'beverage': 1, 'Account': 1, 'splitst': 1, 'poisoner': 1, 'Promotion': 1, 'breakneck': 1, 'Wafting': 1, 'sighted': 1, 'Clerklike': 1, 'adorns': 1, 'imprisont': 1, 'incidency': 1, 'Forbiddenly': 1, 'illtaen': 1, 'enduring': 1, 'semicircle': 1, 'taughtt': 1, 'Blue': 1, 'Dwelt': 1, 'hefts': 1, 'preemployd': 1, 'nayward': 1, 'withoutdoor': 1, 'shrugs': 1, 'replenishd': 1, 'distinguishment': 1, 'federary': 1, 'bedswerver': 1, 'vulgars': 1, 'boldst': 1, 'highness': 1, 'peaces': 1, 'landdamn': 1, 'honourflawd': 1, 'coheirs': 1, 'Commune': 1, 'forceful': 1, 'Imparts': 1, 'stupified': 1, 'Relish': 1, 'Properly': 1, 'credulity': 1, 'colouring': 1, 'Lusty': 1, 'honeymouthd': 1, 'redlookd': 1, 'showt': 1, 'lett': 1, 'Freed': 1, 'plotproof': 1, 'droopd': 1, 'Fastend': 1, 'languishd': 1, 'heavings': 1, 'Nourish': 1, 'intelligencing': 1, 'entitling': 1, 'womantird': 1, 'unroosted': 1, 'crone': 1, 'Unvenerable': 1, 'Takst': 1, 'callat': 1, 'dimples': 1, 'lozel': 1, 'weakhingd': 1, 'lewdtongud': 1, 'Wolves': 1, 'Casting': 1, 'Anothers': 1, 'Hasting': 1, 'foretells': 1, 'Capital': 1, 'climates': 1, 'Fertile': 1, 'surpassing': 1, 'unearthly': 1, 'eardeafning': 1, 'Kin': 1, 'pushes': 1, 'arraigned': 1, 'conspiring': 1, 'contradicts': 1, 'hardned': 1, 'dishd': 1, 'Wotting': 1, 'undertaen': 1, 'owning': 1, 'easiest': 1, 'Starrd': 1, 'childbed': 1, 'flatness': 1, 'profaneness': 1, 'tardied': 1, 'Unclaspd': 1, 'incertainties': 1, 'oils': 1, 'Fancies': 1, 'fooleries': 1, 'betraydst': 1, 'Blemishd': 1, 'Prevail': 1, 'Tincture': 1, 'blusters': 1, 'throwerout': 1, 'Places': 1, 'Affrighted': 1, 'Dreams': 1, 'superstitiously': 1, 'Blossom': 1, 'wronging': 1, 'browsing': 1, 'waitinggentlewoman': 1, 'stairwork': 1, 'trunkwork': 1, 'behinddoorwork': 1, 'hallood': 1, 'Whoahohoa': 1, 'Hilloa': 1, 'loa': 1, 'ailst': 1, 'bodkins': 1, 'boring': 1, 'mainmast': 1, 'yeast': 1, 'shoulderbone': 1, 'flapdragond': 1, 'shipside': 1, 'opent': 1, 'findings': 1, 'Impute': 1, 'untried': 1, 'selfborn': 1, 'ancientst': 1, 'reigning': 1, 'aired': 1, 'oerween': 1, 'heaping': 1, 'friendships': 1, 'punishes': 1, 'missingly': 1, 'removedness': 1, 'doxy': 1, 'pugging': 1, 'tirralirra': 1, 'thrush': 1, 'aunts': 1, 'threepile': 1, 'sowskin': 1, 'snapperup': 1, 'sillycheat': 1, 'Gallows': 1, 'leven': 1, 'tods': 1, 'tod': 1, 'currants': 1, 'songmen': 1, 'hornpipes': 1, 'warden': 1, 'nutmegs': 1, 'raisins': 1, 'Grovelling': 1, 'loathsomeness': 1, 'horseman': 1, 'horsemans': 1, 'Helping': 1, 'Picks': 1, 'trollmydames': 1, 'apebearer': 1, 'processserver': 1, 'bailiff': 1, 'bearbaitings': 1, 'goodfacd': 1, 'unrolld': 1, 'Jog': 1, 'jog': 1, 'stilea': 1, 'milea': 1, 'Flora': 1, 'prankd': 1, 'flaunts': 1, 'sternness': 1, 'Apprehend': 1, 'Humbling': 1, 'bellowd': 1, 'bleated': 1, 'firerobd': 1, 'transformations': 1, 'Strangle': 1, 'hostessship': 1, 'Dorcas': 1, 'Reverend': 1, 'shearing': 1, 'carnations': 1, 'piedness': 1, 'dibble': 1, 'lavender': 1, 'mints': 1, 'savory': 1, 'Proserpina': 1, 'Diss': 1, 'Cythereas': 1, 'unmarried': 1, 'crownimperial': 1, 'flowrdeluce': 1, 'pastorals': 1, 'throught': 1, 'lowborn': 1, 'greensward': 1, 'smacks': 1, 'SHEPHERDESSES': 1, 'lovesongs': 1, 'dildos': 1, 'fadings': 1, 'stretchmouthd': 1, 'slights': 1, 'unbraided': 1, 'inkles': 1, 'caddisses': 1, 'cambrics': 1, 'lawns': 1, 'sheangel': 1, 'sleevehand': 1, 'Forewarn': 1, 'Lawn': 1, 'Cypress': 1, 'Gloves': 1, 'Masks': 1, 'Bugle': 1, 'necklace': 1, 'Perfume': 1, 'quoifs': 1, 'dears': 1, 'pokingsticks': 1, 'lasses': 1, 'milkingtime': 1, 'tittletattling': 1, 'Clammer': 1, 'tawdrylace': 1, 'behoves': 1, 'Ballads': 1, 'alife': 1, 'midwifes': 1, 'Taleporter': 1, 'Wenches': 1, 'Pedlar': 1, 'deara': 1, 'newst': 1, 'weara': 1, 'Moneys': 1, 'warea': 1, 'swineherds': 1, 'Saltiers': 1, 'bowling': 1, 'SATYRS': 1, 'knacks': 1, 'marted': 1, 'straited': 1, 'Ethiopians': 1, 'Contract': 1, 'stupid': 1, 'rheums': 1, 'ampler': 1, 'unfilial': 1, 'sheephook': 1, 'Farre': 1, 'herdsman': 1, 'latches': 1, 'fourscorethree': 1, 'shovels': 1, 'Concern': 1, 'reporting': 1, 'irremovable': 1, 'disjunction': 1, 'discontenting': 1, 'unthoughton': 1, 'divides': 1, 'unpathd': 1, 'undreamd': 1, 'Prosperitys': 1, 'Preserver': 1, 'Honesty': 1, 'pomander': 1, 'shoetie': 1, 'hornring': 1, 'pettitoes': 1, 'whoobub': 1, 'Unbuckle': 1, 'unbuckle': 1, 'Fortunate': 1, 'sweethearts': 1, 'muffle': 1, 'Dismantle': 1, 'disliken': 1, 'undescried': 1, 'requisite': 1, 'connive': 1, 'rustics': 1, 'enfoldings': 1, 'courtodour': 1, 'courtcontempt': 1, 'toaze': 1, 'Advocates': 1, 'courtword': 1, 'sheepwhistling': 1, 'ramtender': 1, 'traitorly': 1, 'behalfs': 1, 'booties': 1, 'courted': 1, 'heirless': 1, 'Bred': 1, 'Sorely': 1, 'Incertain': 1, 'lookerson': 1, 'royaltys': 1, 'successor': 1, 'soulvexd': 1, 'Flowd': 1, 'proselytes': 1, 'paird': 1, 'Unfurnish': 1, 'twentyone': 1, 'Amity': 1, 'Measurd': 1, 'Afresh': 1, 'behindhand': 1, 'Smalus': 1, 'southwind': 1, 'Sicilian': 1, 'Purge': 1, 'hastning': 1, 'quitted': 1, 'weathers': 1, 'Layt': 1, 'Wretches': 1, 'lows': 1, 'unanswerd': 1, 'destroyed': 1, 'beholder': 1, 'Rogero': 1, 'Paulinas': 1, 'Hermiones': 1, 'evidences': 1, 'worries': 1, 'clipping': 1, 'weatherbitten': 1, 'lames': 1, 'aided': 1, 'elevated': 1, 'angld': 1, 'attentivenes': 1, 'Julio': 1, 'Romano': 1, 'overfond': 1, 'continuing': 1, 'finderout': 1, 'relishd': 1, 'discredits': 1, 'boors': 1, 'PAULINAs': 1, 'vouchsafd': 1, 'Heirs': 1, 'singularities': 1, 'Excels': 1, 'Lonely': 1, 'carvers': 1, 'superstition': 1, 'Masterly': 1, 'chisel': 1, 'ruddiness': 1, 'numbness': 1, 'pedestal': 1, 'Lawful': 1, 'exultation': 1, 'Partake': 1, 'directing': 1, 'disseverd': 1, 'Hastily': 1, 'LOVERS': 1, 'COMPLAINT': 1, 'reworded': 1, 'plaintful': 1, 'sistring': 1, 'tattend': 1, 'accorded': 1, 'sadtuned': 1, 'Storming': 1, 'platted': 1, 'carcase': 1, 'scythed': 1, 'peeped': 1, 'seared': 1, 'Laundring': 1, 'undistinguished': 1, 'commixed': 1, 'plat': 1, 'Proclaimed': 1, 'untucked': 1, 'sheaved': 1, 'fillet': 1, 'braided': 1, 'maund': 1, 'beaded': 1, 'applying': 1, 'Cracked': 1, 'posied': 1, 'penned': 1, 'sleided': 1, 'affectedly': 1, 'Enswathed': 1, 'fluxive': 1, 'unapproved': 1, 'grazed': 1, 'blusterer': 1, 'fastly': 1, 'selfapplied': 1, 'deified': 1, 'browny': 1, 'hurls': 1, 'sawn': 1, 'unshorn': 1, 'termless': 1, 'outbragged': 1, 'maidentongued': 1, 'authorized': 1, 'welldoing': 1, 'habitude': 1, 'Accomplished': 1, 'Pierced': 1, 'subduing': 1, 'weeper': 1, 'Catching': 1, 'sexes': 1, 'Consents': 1, 'dialogued': 1, 'Asked': 1, 'mansions': 1, 'assigned': 1, 'Reserved': 1, 'newbleeding': 1, 'shunned': 1, 'destined': 1, 'bypast': 1, 'forbod': 1, 'defiling': 1, 'acture': 1, 'harmed': 1, 'tributes': 1, 'paled': 1, 'encrimsoned': 1, 'Encamped': 1, 'amorously': 1, 'empleached': 1, 'weepingly': 1, 'beseeched': 1, 'annexions': 1, 'deepbrained': 1, 'invised': 1, 'deepgreen': 1, 'heavenhued': 1, 'blend': 1, 'blazoned': 1, 'pensived': 1, 'ender': 1, 'oblations': 1, 'enpatron': 1, 'phraseless': 1, 'Hallowed': 1, 'holiest': 1, 'mastring': 1, 'scapeth': 1, 'congest': 1, 'disciplined': 1, 'Believed': 1, 'tassail': 1, 'consecrations': 1, 'impressest': 1, 'sweetens': 1, 'aloes': 1, 'supplicant': 1, 'strongbonded': 1, 'encloses': 1, 'extincture': 1, 'daffed': 1, 'plenitude': 1, 'Applied': 1, 'cautels': 1, 'swooning': 1, 'allhurting': 1, 'heartwished': 1, 'preached': 1, 'unexperient': 1, 'hovered': 1, 'lovered': 1, 'glowed': 1, 'forebetrayed': 1, 'txt': 1, 'zip': 1, 'various': 1, 'Updated': 1, 'previous': 1, 'onethe': 1, 'Special': 1, 'specific': 1, 'modified': 1, 'awayyou': 1, 'practically': 1, 'ANYTHING': 1, 'Redistribution': 1, 'commercial': 1, 'redistribution': 1, 'PLEASE': 1, 'READ': 1, 'BEFORE': 1, 'WORK': 1, 'httpwwwgutenbergorglicense': 1, 'Redistributing': 1, 'trademarkcopyright': 1, 'PGLAF': 1, 'compilation': 1, 'Nearly': 1, 'copyrighted': 1, 'Copyright': 1, 'downloading': 1, 'representations': 1, 'accessed': 1, 'viewed': 1, 'indicating': 1, 'redistributing': 1, 'Additional': 1, 'linked': 1, 'unlink': 1, 'detach': 1, 'redistribute': 1, 'binary': 1, 'nonproprietary': 1, 'version': 1, 'exporting': 1, 'alternate': 1, '%': 1, 'calculated': 1, 'legally': 1, 'periodic': 1, 'notifies': 1, 'group': 1, 'Contact': 1, 'identify': 1, 'transcribe': 1, 'proofread': 1, 'stored': 1, 'Defects': 1, 'EXCEPT': 1, 'THOSE': 1, 'IN': 1, 'PARAGRAPH': 1, 'FOUNDATION': 1, 'TRADEMARK': 1, 'OWNER': 1, 'DISTRIBUTOR': 1, 'AGREEMENT': 1, 'LIABLE': 1, 'ACTUAL': 1, 'DIRECT': 1, 'DAMAGE': 1, 'RIGHT': 1, 'REPLACEMENT': 1, 'REFUND': 1, 'problem': 1, 'MERCHANTIBILITY': 1, 'maximum': 1, 'invalidity': 1, 'unenforceability': 1, 'employee': 1, 'production': 1, 'occur': 1, 'deletions': 1, 'Mission': 1, 'synonymous': 1, 'obsolete': 1, 'middleaged': 1, 'Volunteers': 1, 'financial': 1, 'Gutenbergtms': 1, 'goals': 1, 'ensuring': 1, 'Sections': 1, 'httpwwwpglaforg': 1, 'educational': 1, 'corporation': 1, 'organized': 1, 'Mississippi': 1, 'Internal': 1, 'EIN': 1, 'identification': 1, 'httppglaforgfundraising': 1, 'Contributions': 1, 'deductible': 1, 'Melan': 1, 'Fairbanks': 1, 'AK': 1, 'numerous': 1, 'Lake': 1, 'UT': 1, 'businesspglaforg': 1, 'Email': 1, 'Newby': 1, 'Executive': 1, 'Director': 1, 'gbnewbypglaforg': 1, 'accessible': 1, 'outdated': 1, 'maintaining': 1, 'IRS': 1, 'regulating': 1, 'Compliance': 1, 'uniform': 1, 'paperwork': 1, 'DONATIONS': 1, 'accepting': 1, 'donors': 1, 'International': 1, 'statements': 1, 'treatment': 1, 'swamp': 1, 'httppglaforgdonate': 1, 'Professor': 1, 'originator': 1, 'shared': 1, 'network': 1, 'volunteer': 1, 'subdirectory': 1, 'vanilla': 1, 'zipped': 1, 'HTML': 1, 'Corrected': 1, 'EDITIONS': 1, 'replaced': 1, 'VERSIONS': 1, 'treated': 1, 'filenames': 1, 'PG': 1, 'newsletter': 1, 'prior': 1, 'BELOW': 1, 'directories': 1, 'system': 1, 'utilize': 1, 'httpwwwibiblioorggutenbergetext': 1, 'OVER': 1, 'directory': 1, 'identical': 1, 'digits': 1, 'digit': 1, 'alternative': 1, 'locating': 1, 'httpwwwgutenbergorgGUTINDEXALL': 1}\n",
            "Total words:34310, Unique words:15329\n"
          ]
        }
      ]
    },
    {
      "cell_type": "markdown",
      "source": [
        "(c) How many words are used at least 5 times?  \n"
      ],
      "metadata": {
        "id": "i8qpd9mKtRC7"
      }
    },
    {
      "cell_type": "code",
      "source": [
        "fiveplus = []\n",
        "for i in tuplelist:\n",
        "  if i[1] >=5:\n",
        "    fiveplus.append(i)\n",
        "print(\"there are \",len(fiveplus),\" words of length 5 or greater\")"
      ],
      "metadata": {
        "id": "yPlqeCKarPQp",
        "colab": {
          "base_uri": "https://localhost:8080/"
        },
        "outputId": "27cc4eba-459e-474b-d9a1-9f10f7b9f14c"
      },
      "execution_count": 6,
      "outputs": [
        {
          "output_type": "stream",
          "name": "stdout",
          "text": [
            "there are  10194  words of length 5 or greater\n"
          ]
        }
      ]
    },
    {
      "cell_type": "markdown",
      "source": [
        "(d) Write the 200 most common words, and their counts, to a file.  "
      ],
      "metadata": {
        "id": "Q_Buj4sstQ_U"
      }
    },
    {
      "cell_type": "code",
      "source": [
        "#does this work?\n",
        "list200 = []\n",
        "for i in range(200):\n",
        "  list200.append(str(tuplelist[i]))\n",
        "fout = open('/content/shakespeare_word_count.txt', 'w')\n",
        "writer = fout.writelines(list200)\n",
        "fout.close()"
      ],
      "metadata": {
        "id": "NmyCA42TrK8h"
      },
      "execution_count": 8,
      "outputs": []
    },
    {
      "cell_type": "markdown",
      "source": [
        "Exercise 7.3: Random text generator II  \n",
        "In this exercise, we will finish the implementation of our random text generator from Question 6.4.  \n",
        "Change the process textfile function such that it reads a file line by line and processes it, instead of\n",
        "using the hardcoded sample. This should require only a few changes to the code.  \n",
        "Generate some random sentences based on the books provided in the data/ folder.  \n",
        "As you will notice, most phrases are very random. To make the phrases seem a little more realistic, we\n",
        "should use not just the last word, but the two last words. Going back to our previous example: ‘the fire\n",
        "and the wind.’ we would have the (state, new word) pairs: (‘the fire’, ‘and’), (‘fire and’, ‘the’), (‘and\n",
        "the’, ‘wind’) etc. Update your code to use states consisting of two words instead of one.  \n",
        "*Bonus*: Using more than 2 words is infeasible unless we have massive amounts of text data because the\n",
        "number of states gets increasingly large. Change your code such that you can specify k, the number of\n",
        "words per state."
      ],
      "metadata": {
        "id": "pWlLHmF3q9Dl"
      }
    },
    {
      "cell_type": "code",
      "source": [
        "#maybe I'll get back to this"
      ],
      "metadata": {
        "id": "kayjclzLrywW"
      },
      "execution_count": null,
      "outputs": []
    },
    {
      "cell_type": "markdown",
      "source": [
        "Exercise 7.4: Sum of lists  \n",
        "Before you start coding, please read the entire problem.  \n",
        "(a) Data generation  \n",
        "&nbsp; &nbsp; &nbsp; Write a function that takes three integers, n, a and b and a filename and writes to the file a list\n",
        "with n random  \n",
        "&nbsp; &nbsp; &nbsp; integers between a and b.\n"
      ],
      "metadata": {
        "id": "28_ec-VjqzYW"
      }
    },
    {
      "cell_type": "code",
      "source": [
        "import numpy as np\n",
        "def rand(n,a,b,filename):\n",
        "  randomnumbers = []\n",
        "  for i in range(n):\n",
        "    randomnumbers.append(\" {}\".format(str(np.random.randint(a,b))))\n",
        "  filewrite = open(filename,'w')\n",
        "  filewrite.writelines(randomnumbers)\n",
        "  filewrite.close()\n",
        "rand(100,0,5,'/content/rnums.txt')"
      ],
      "metadata": {
        "id": "BuXS8zsx443G"
      },
      "execution_count": 29,
      "outputs": []
    },
    {
      "cell_type": "markdown",
      "source": [
        "\n",
        "(b) Reading the data  \n",
        "&nbsp; &nbsp; &nbsp; Write a function that can read the files as generated above and return the values.  \n",
        "\n"
      ],
      "metadata": {
        "id": "8n88G91z44qV"
      }
    },
    {
      "cell_type": "code",
      "source": [
        "def readrand(filename):\n",
        "  fread = open(filename,'r')\n",
        "  reader = fread.readlines()\n",
        "  lines = []\n",
        "  for line in reader:\n",
        "    lines.append(line)\n",
        "  return lines\n",
        "print(readrand('/content/rnums.txt'))"
      ],
      "metadata": {
        "id": "3xgAi3eI44cp",
        "colab": {
          "base_uri": "https://localhost:8080/"
        },
        "outputId": "c728e934-75c0-43a3-e840-dd91d5044dd3"
      },
      "execution_count": 30,
      "outputs": [
        {
          "output_type": "stream",
          "name": "stdout",
          "text": [
            "[' 0 0 4 3 2 3 1 0 4 0 0 4 1 4 2 2 2 4 4 4 4 1 1 3 0 4 4 1 2 4 3 2 0 0 1 2 0 0 3 2 4 1 0 4 3 0 3 0 4 2 0 2 4 2 2 4 3 2 4 4 0 1 1 4 0 0 0 3 0 3 2 3 2 0 0 1 0 1 1 4 4 1 0 1 1 4 1 3 3 1 4 0 0 2 1 3 3 0 2 0']\n"
          ]
        }
      ]
    },
    {
      "cell_type": "markdown",
      "source": [
        "(c) Sum problem  \n",
        "&nbsp; &nbsp; &nbsp; Write a function that given two filenames (pointing to files as generated by the above function) and an integer k, finds all u  \n",
        "&nbsp; &nbsp; &nbsp; and v such that u + v = k, and u is an element of the first list and v is a\n",
        "member of the second list.  \n",
        "\n"
      ],
      "metadata": {
        "id": "X-heITxE44QC"
      }
    },
    {
      "cell_type": "code",
      "source": [
        "def sumfromfile(filename1,filename2,k):\n",
        "  fread1 = open(filename1,'r')\n",
        "  reader1 = fread1.readlines()\n",
        "  fread2 = open(filename2,'r')\n",
        "  reader2 = fread2.readlines()\n",
        "\n",
        "  uv = []\n",
        "  ulist = []\n",
        "  vlist = []\n",
        "  for line1 in reader1:\n",
        "    ulist.extend(line1.split(' '))\n",
        "  for line2 in reader2:\n",
        "    vlist.extend(line2.split(' '))\n",
        "  \n",
        "  for i in range(1,len(ulist)):\n",
        "    for j in range(1,len(vlist)):\n",
        "      if int(ulist[i])+ int(vlist[j]) == k:\n",
        "        uv.append((ulist[i], vlist[j]))\n",
        "  return uv\n",
        "\n",
        "rand(100,0,10,'/content/rnums1.txt')\n",
        "rand(100,0,10,'/content/rnums2.txt')\n",
        "print(sumfromfile('/content/rnums1.txt','/content/rnums2.txt',6))"
      ],
      "metadata": {
        "id": "pK1cKdwI44DV",
        "colab": {
          "base_uri": "https://localhost:8080/"
        },
        "outputId": "d2c49fde-8a61-4923-ae16-89ca4d00c48b"
      },
      "execution_count": 44,
      "outputs": [
        {
          "output_type": "stream",
          "name": "stdout",
          "text": [
            "[('2', '4'), ('2', '4'), ('2', '4'), ('2', '4'), ('2', '4'), ('2', '4'), ('2', '4'), ('6', '0'), ('6', '0'), ('6', '0'), ('6', '0'), ('6', '0'), ('6', '0'), ('6', '0'), ('6', '0'), ('6', '0'), ('6', '0'), ('6', '0'), ('6', '0'), ('6', '0'), ('2', '4'), ('2', '4'), ('2', '4'), ('2', '4'), ('2', '4'), ('2', '4'), ('2', '4'), ('4', '2'), ('4', '2'), ('4', '2'), ('4', '2'), ('4', '2'), ('4', '2'), ('4', '2'), ('4', '2'), ('4', '2'), ('4', '2'), ('0', '6'), ('0', '6'), ('0', '6'), ('0', '6'), ('0', '6'), ('0', '6'), ('0', '6'), ('0', '6'), ('0', '6'), ('0', '6'), ('0', '6'), ('0', '6'), ('4', '2'), ('4', '2'), ('4', '2'), ('4', '2'), ('4', '2'), ('4', '2'), ('4', '2'), ('4', '2'), ('4', '2'), ('4', '2'), ('3', '3'), ('3', '3'), ('3', '3'), ('3', '3'), ('3', '3'), ('3', '3'), ('3', '3'), ('3', '3'), ('6', '0'), ('6', '0'), ('6', '0'), ('6', '0'), ('6', '0'), ('6', '0'), ('6', '0'), ('6', '0'), ('6', '0'), ('6', '0'), ('6', '0'), ('6', '0'), ('6', '0'), ('5', '1'), ('5', '1'), ('5', '1'), ('5', '1'), ('5', '1'), ('5', '1'), ('5', '1'), ('5', '1'), ('5', '1'), ('5', '1'), ('5', '1'), ('3', '3'), ('3', '3'), ('3', '3'), ('3', '3'), ('3', '3'), ('3', '3'), ('3', '3'), ('3', '3'), ('4', '2'), ('4', '2'), ('4', '2'), ('4', '2'), ('4', '2'), ('4', '2'), ('4', '2'), ('4', '2'), ('4', '2'), ('4', '2'), ('2', '4'), ('2', '4'), ('2', '4'), ('2', '4'), ('2', '4'), ('2', '4'), ('2', '4'), ('6', '0'), ('6', '0'), ('6', '0'), ('6', '0'), ('6', '0'), ('6', '0'), ('6', '0'), ('6', '0'), ('6', '0'), ('6', '0'), ('6', '0'), ('6', '0'), ('6', '0'), ('3', '3'), ('3', '3'), ('3', '3'), ('3', '3'), ('3', '3'), ('3', '3'), ('3', '3'), ('3', '3'), ('4', '2'), ('4', '2'), ('4', '2'), ('4', '2'), ('4', '2'), ('4', '2'), ('4', '2'), ('4', '2'), ('4', '2'), ('4', '2'), ('5', '1'), ('5', '1'), ('5', '1'), ('5', '1'), ('5', '1'), ('5', '1'), ('5', '1'), ('5', '1'), ('5', '1'), ('5', '1'), ('5', '1'), ('5', '1'), ('5', '1'), ('5', '1'), ('5', '1'), ('5', '1'), ('5', '1'), ('5', '1'), ('5', '1'), ('5', '1'), ('5', '1'), ('5', '1'), ('6', '0'), ('6', '0'), ('6', '0'), ('6', '0'), ('6', '0'), ('6', '0'), ('6', '0'), ('6', '0'), ('6', '0'), ('6', '0'), ('6', '0'), ('6', '0'), ('6', '0'), ('6', '0'), ('6', '0'), ('6', '0'), ('6', '0'), ('6', '0'), ('6', '0'), ('6', '0'), ('6', '0'), ('6', '0'), ('6', '0'), ('6', '0'), ('6', '0'), ('6', '0'), ('2', '4'), ('2', '4'), ('2', '4'), ('2', '4'), ('2', '4'), ('2', '4'), ('2', '4'), ('2', '4'), ('2', '4'), ('2', '4'), ('2', '4'), ('2', '4'), ('2', '4'), ('2', '4'), ('5', '1'), ('5', '1'), ('5', '1'), ('5', '1'), ('5', '1'), ('5', '1'), ('5', '1'), ('5', '1'), ('5', '1'), ('5', '1'), ('5', '1'), ('2', '4'), ('2', '4'), ('2', '4'), ('2', '4'), ('2', '4'), ('2', '4'), ('2', '4'), ('6', '0'), ('6', '0'), ('6', '0'), ('6', '0'), ('6', '0'), ('6', '0'), ('6', '0'), ('6', '0'), ('6', '0'), ('6', '0'), ('6', '0'), ('6', '0'), ('6', '0'), ('4', '2'), ('4', '2'), ('4', '2'), ('4', '2'), ('4', '2'), ('4', '2'), ('4', '2'), ('4', '2'), ('4', '2'), ('4', '2'), ('1', '5'), ('1', '5'), ('1', '5'), ('1', '5'), ('1', '5'), ('1', '5'), ('1', '5'), ('1', '5'), ('1', '5'), ('1', '5'), ('1', '5'), ('1', '5'), ('1', '5'), ('1', '5'), ('1', '5'), ('0', '6'), ('0', '6'), ('0', '6'), ('0', '6'), ('0', '6'), ('0', '6'), ('0', '6'), ('0', '6'), ('0', '6'), ('0', '6'), ('0', '6'), ('0', '6'), ('4', '2'), ('4', '2'), ('4', '2'), ('4', '2'), ('4', '2'), ('4', '2'), ('4', '2'), ('4', '2'), ('4', '2'), ('4', '2'), ('2', '4'), ('2', '4'), ('2', '4'), ('2', '4'), ('2', '4'), ('2', '4'), ('2', '4'), ('3', '3'), ('3', '3'), ('3', '3'), ('3', '3'), ('3', '3'), ('3', '3'), ('3', '3'), ('3', '3'), ('4', '2'), ('4', '2'), ('4', '2'), ('4', '2'), ('4', '2'), ('4', '2'), ('4', '2'), ('4', '2'), ('4', '2'), ('4', '2'), ('0', '6'), ('0', '6'), ('0', '6'), ('0', '6'), ('0', '6'), ('0', '6'), ('0', '6'), ('0', '6'), ('0', '6'), ('0', '6'), ('0', '6'), ('0', '6'), ('5', '1'), ('5', '1'), ('5', '1'), ('5', '1'), ('5', '1'), ('5', '1'), ('5', '1'), ('5', '1'), ('5', '1'), ('5', '1'), ('5', '1'), ('0', '6'), ('0', '6'), ('0', '6'), ('0', '6'), ('0', '6'), ('0', '6'), ('0', '6'), ('0', '6'), ('0', '6'), ('0', '6'), ('0', '6'), ('0', '6'), ('3', '3'), ('3', '3'), ('3', '3'), ('3', '3'), ('3', '3'), ('3', '3'), ('3', '3'), ('3', '3'), ('5', '1'), ('5', '1'), ('5', '1'), ('5', '1'), ('5', '1'), ('5', '1'), ('5', '1'), ('5', '1'), ('5', '1'), ('5', '1'), ('5', '1'), ('2', '4'), ('2', '4'), ('2', '4'), ('2', '4'), ('2', '4'), ('2', '4'), ('2', '4'), ('5', '1'), ('5', '1'), ('5', '1'), ('5', '1'), ('5', '1'), ('5', '1'), ('5', '1'), ('5', '1'), ('5', '1'), ('5', '1'), ('5', '1'), ('1', '5'), ('1', '5'), ('1', '5'), ('1', '5'), ('1', '5'), ('1', '5'), ('1', '5'), ('1', '5'), ('1', '5'), ('1', '5'), ('1', '5'), ('1', '5'), ('1', '5'), ('1', '5'), ('1', '5'), ('4', '2'), ('4', '2'), ('4', '2'), ('4', '2'), ('4', '2'), ('4', '2'), ('4', '2'), ('4', '2'), ('4', '2'), ('4', '2'), ('1', '5'), ('1', '5'), ('1', '5'), ('1', '5'), ('1', '5'), ('1', '5'), ('1', '5'), ('1', '5'), ('1', '5'), ('1', '5'), ('1', '5'), ('1', '5'), ('1', '5'), ('1', '5'), ('1', '5'), ('1', '5'), ('1', '5'), ('1', '5'), ('1', '5'), ('1', '5'), ('1', '5'), ('1', '5'), ('1', '5'), ('1', '5'), ('1', '5'), ('1', '5'), ('1', '5'), ('1', '5'), ('1', '5'), ('1', '5'), ('6', '0'), ('6', '0'), ('6', '0'), ('6', '0'), ('6', '0'), ('6', '0'), ('6', '0'), ('6', '0'), ('6', '0'), ('6', '0'), ('6', '0'), ('6', '0'), ('6', '0'), ('3', '3'), ('3', '3'), ('3', '3'), ('3', '3'), ('3', '3'), ('3', '3'), ('3', '3'), ('3', '3'), ('4', '2'), ('4', '2'), ('4', '2'), ('4', '2'), ('4', '2'), ('4', '2'), ('4', '2'), ('4', '2'), ('4', '2'), ('4', '2'), ('0', '6'), ('0', '6'), ('0', '6'), ('0', '6'), ('0', '6'), ('0', '6'), ('0', '6'), ('0', '6'), ('0', '6'), ('0', '6'), ('0', '6'), ('0', '6'), ('4', '2'), ('4', '2'), ('4', '2'), ('4', '2'), ('4', '2'), ('4', '2'), ('4', '2'), ('4', '2'), ('4', '2'), ('4', '2'), ('1', '5'), ('1', '5'), ('1', '5'), ('1', '5'), ('1', '5'), ('1', '5'), ('1', '5'), ('1', '5'), ('1', '5'), ('1', '5'), ('1', '5'), ('1', '5'), ('1', '5'), ('1', '5'), ('1', '5'), ('2', '4'), ('2', '4'), ('2', '4'), ('2', '4'), ('2', '4'), ('2', '4'), ('2', '4'), ('0', '6'), ('0', '6'), ('0', '6'), ('0', '6'), ('0', '6'), ('0', '6'), ('0', '6'), ('0', '6'), ('0', '6'), ('0', '6'), ('0', '6'), ('0', '6'), ('0', '6'), ('0', '6'), ('0', '6'), ('0', '6'), ('0', '6'), ('0', '6'), ('0', '6'), ('0', '6'), ('0', '6'), ('0', '6'), ('0', '6'), ('0', '6'), ('4', '2'), ('4', '2'), ('4', '2'), ('4', '2'), ('4', '2'), ('4', '2'), ('4', '2'), ('4', '2'), ('4', '2'), ('4', '2'), ('5', '1'), ('5', '1'), ('5', '1'), ('5', '1'), ('5', '1'), ('5', '1'), ('5', '1'), ('5', '1'), ('5', '1'), ('5', '1'), ('5', '1'), ('3', '3'), ('3', '3'), ('3', '3'), ('3', '3'), ('3', '3'), ('3', '3'), ('3', '3'), ('3', '3'), ('5', '1'), ('5', '1'), ('5', '1'), ('5', '1'), ('5', '1'), ('5', '1'), ('5', '1'), ('5', '1'), ('5', '1'), ('5', '1'), ('5', '1'), ('6', '0'), ('6', '0'), ('6', '0'), ('6', '0'), ('6', '0'), ('6', '0'), ('6', '0'), ('6', '0'), ('6', '0'), ('6', '0'), ('6', '0'), ('6', '0'), ('6', '0'), ('5', '1'), ('5', '1'), ('5', '1'), ('5', '1'), ('5', '1'), ('5', '1'), ('5', '1'), ('5', '1'), ('5', '1'), ('5', '1'), ('5', '1'), ('2', '4'), ('2', '4'), ('2', '4'), ('2', '4'), ('2', '4'), ('2', '4'), ('2', '4'), ('6', '0'), ('6', '0'), ('6', '0'), ('6', '0'), ('6', '0'), ('6', '0'), ('6', '0'), ('6', '0'), ('6', '0'), ('6', '0'), ('6', '0'), ('6', '0'), ('6', '0'), ('4', '2'), ('4', '2'), ('4', '2'), ('4', '2'), ('4', '2'), ('4', '2'), ('4', '2'), ('4', '2'), ('4', '2'), ('4', '2'), ('2', '4'), ('2', '4'), ('2', '4'), ('2', '4'), ('2', '4'), ('2', '4'), ('2', '4'), ('5', '1'), ('5', '1'), ('5', '1'), ('5', '1'), ('5', '1'), ('5', '1'), ('5', '1'), ('5', '1'), ('5', '1'), ('5', '1'), ('5', '1'), ('6', '0'), ('6', '0'), ('6', '0'), ('6', '0'), ('6', '0'), ('6', '0'), ('6', '0'), ('6', '0'), ('6', '0'), ('6', '0'), ('6', '0'), ('6', '0'), ('6', '0'), ('4', '2'), ('4', '2'), ('4', '2'), ('4', '2'), ('4', '2'), ('4', '2'), ('4', '2'), ('4', '2'), ('4', '2'), ('4', '2'), ('0', '6'), ('0', '6'), ('0', '6'), ('0', '6'), ('0', '6'), ('0', '6'), ('0', '6'), ('0', '6'), ('0', '6'), ('0', '6'), ('0', '6'), ('0', '6'), ('6', '0'), ('6', '0'), ('6', '0'), ('6', '0'), ('6', '0'), ('6', '0'), ('6', '0'), ('6', '0'), ('6', '0'), ('6', '0'), ('6', '0'), ('6', '0'), ('6', '0'), ('4', '2'), ('4', '2'), ('4', '2'), ('4', '2'), ('4', '2'), ('4', '2'), ('4', '2'), ('4', '2'), ('4', '2'), ('4', '2'), ('0', '6'), ('0', '6'), ('0', '6'), ('0', '6'), ('0', '6'), ('0', '6'), ('0', '6'), ('0', '6'), ('0', '6'), ('0', '6'), ('0', '6'), ('0', '6'), ('1', '5'), ('1', '5'), ('1', '5'), ('1', '5'), ('1', '5'), ('1', '5'), ('1', '5'), ('1', '5'), ('1', '5'), ('1', '5'), ('1', '5'), ('1', '5'), ('1', '5'), ('1', '5'), ('1', '5'), ('3', '3'), ('3', '3'), ('3', '3'), ('3', '3'), ('3', '3'), ('3', '3'), ('3', '3'), ('3', '3'), ('4', '2'), ('4', '2'), ('4', '2'), ('4', '2'), ('4', '2'), ('4', '2'), ('4', '2'), ('4', '2'), ('4', '2'), ('4', '2'), ('4', '2'), ('4', '2'), ('4', '2'), ('4', '2'), ('4', '2'), ('4', '2'), ('4', '2'), ('4', '2'), ('4', '2'), ('4', '2'), ('6', '0'), ('6', '0'), ('6', '0'), ('6', '0'), ('6', '0'), ('6', '0'), ('6', '0'), ('6', '0'), ('6', '0'), ('6', '0'), ('6', '0'), ('6', '0'), ('6', '0'), ('0', '6'), ('0', '6'), ('0', '6'), ('0', '6'), ('0', '6'), ('0', '6'), ('0', '6'), ('0', '6'), ('0', '6'), ('0', '6'), ('0', '6'), ('0', '6'), ('1', '5'), ('1', '5'), ('1', '5'), ('1', '5'), ('1', '5'), ('1', '5'), ('1', '5'), ('1', '5'), ('1', '5'), ('1', '5'), ('1', '5'), ('1', '5'), ('1', '5'), ('1', '5'), ('1', '5'), ('6', '0'), ('6', '0'), ('6', '0'), ('6', '0'), ('6', '0'), ('6', '0'), ('6', '0'), ('6', '0'), ('6', '0'), ('6', '0'), ('6', '0'), ('6', '0'), ('6', '0'), ('1', '5'), ('1', '5'), ('1', '5'), ('1', '5'), ('1', '5'), ('1', '5'), ('1', '5'), ('1', '5'), ('1', '5'), ('1', '5'), ('1', '5'), ('1', '5'), ('1', '5'), ('1', '5'), ('1', '5')]\n"
          ]
        }
      ]
    },
    {
      "cell_type": "markdown",
      "source": [
        "(d) Testing  \n",
        "&nbsp; &nbsp; &nbsp; Test your functions by generating 2 files with n = 2000, a = 1, b = 10000 and k = 5000 and\n",
        "k = 12000.  \n",
        "\n"
      ],
      "metadata": {
        "id": "IdQyaqvC431q"
      }
    },
    {
      "cell_type": "code",
      "source": [
        "rand(2000,1,10000,'/content/rnums_test1.txt')\n",
        "rand(2000,1,10000,'/content/rnums_test2.txt')\n",
        "print(sumfromfile('/content/rnums_test1.txt','/content/rnums_test2.txt',5000))\n",
        "print(\" * \\ * / * \\ * / *\")\n",
        "print(sumfromfile('/content/rnums_test1.txt','/content/rnums_test2.txt',12000))"
      ],
      "metadata": {
        "id": "TwwCa1Zyrzyg",
        "colab": {
          "base_uri": "https://localhost:8080/"
        },
        "outputId": "1e7cd032-76f2-4147-ef4f-82fcbd4ef122"
      },
      "execution_count": 45,
      "outputs": [
        {
          "output_type": "stream",
          "name": "stdout",
          "text": [
            "[('4090', '910'), ('2286', '2714'), ('3471', '1529'), ('4862', '138'), ('120', '4880'), ('4258', '742'), ('4151', '849'), ('3914', '1086'), ('4035', '965'), ('1343', '3657'), ('1202', '3798'), ('377', '4623'), ('1586', '3414'), ('3434', '1566'), ('1223', '3777'), ('1862', '3138'), ('1862', '3138'), ('1282', '3718'), ('1463', '3537'), ('1463', '3537'), ('1152', '3848'), ('2631', '2369'), ('2473', '2527'), ('4736', '264'), ('4736', '264'), ('2518', '2482'), ('2427', '2573'), ('4008', '992'), ('4008', '992'), ('2286', '2714'), ('3803', '1197'), ('783', '4217'), ('4012', '988'), ('2347', '2653'), ('2285', '2715'), ('4170', '830'), ('3219', '1781'), ('591', '4409'), ('3467', '1533'), ('4345', '655'), ('4725', '275'), ('666', '4334'), ('1466', '3534'), ('269', '4731'), ('269', '4731'), ('706', '4294'), ('1309', '3691'), ('2891', '2109'), ('2631', '2369'), ('1854', '3146'), ('4640', '360'), ('2983', '2017'), ('3638', '1362'), ('1427', '3573'), ('3219', '1781'), ('2728', '2272'), ('1733', '3267'), ('1733', '3267'), ('2803', '2197'), ('1789', '3211'), ('3946', '1054'), ('4449', '551'), ('4927', '73'), ('3829', '1171'), ('415', '4585'), ('1760', '3240'), ('2372', '2628'), ('2529', '2471'), ('1896', '3104'), ('2726', '2274'), ('4132', '868'), ('990', '4010'), ('4489', '511'), ('1639', '3361'), ('522', '4478'), ('1966', '3034'), ('3291', '1709'), ('1922', '3078'), ('3660', '1340'), ('2828', '2172'), ('2828', '2172'), ('119', '4881'), ('1614', '3386'), ('2592', '2408'), ('317', '4683'), ('803', '4197'), ('3207', '1793'), ('1952', '3048'), ('860', '4140'), ('4135', '865'), ('4135', '865'), ('1089', '3911'), ('1327', '3673'), ('4353', '647'), ('3323', '1677'), ('130', '4870'), ('3219', '1781'), ('615', '4385'), ('4936', '64'), ('3854', '1146'), ('977', '4023'), ('1544', '3456'), ('2754', '2246'), ('506', '4494'), ('215', '4785'), ('2946', '2054'), ('4723', '277'), ('276', '4724'), ('3811', '1189'), ('49', '4951'), ('4760', '240'), ('4960', '40'), ('350', '4650'), ('4757', '243'), ('4518', '482'), ('1544', '3456'), ('3415', '1585'), ('3139', '1861'), ('2817', '2183'), ('264', '4736'), ('3946', '1054'), ('3567', '1433'), ('1575', '3425'), ('4240', '760'), ('4240', '760'), ('4785', '215'), ('4785', '215'), ('184', '4816'), ('3892', '1108'), ('4658', '342'), ('1364', '3636'), ('2407', '2593'), ('2439', '2561'), ('36', '4964'), ('1254', '3746'), ('1254', '3746'), ('4545', '455'), ('2160', '2840'), ('2625', '2375'), ('2443', '2557'), ('3153', '1847'), ('1579', '3421'), ('273', '4727'), ('3421', '1579'), ('3421', '1579'), ('1715', '3285'), ('2157', '2843'), ('3153', '1847'), ('2001', '2999'), ('4768', '232'), ('1592', '3408'), ('4449', '551'), ('4723', '277'), ('3489', '1511'), ('743', '4257'), ('743', '4257'), ('3320', '1680'), ('3698', '1302'), ('886', '4114'), ('522', '4478'), ('3974', '1026'), ('1165', '3835'), ('2380', '2620'), ('2124', '2876'), ('4351', '649'), ('4026', '974'), ('2754', '2246'), ('101', '4899'), ('1324', '3676'), ('1078', '3922'), ('1712', '3288'), ('84', '4916'), ('1169', '3831'), ('4873', '127'), ('360', '4640'), ('309', '4691'), ('1289', '3711'), ('1488', '3512'), ('2529', '2471'), ('1912', '3088'), ('1982', '3018'), ('2057', '2943'), ('3104', '1896'), ('3104', '1896'), ('4946', '54'), ('3137', '1863'), ('4984', '16'), ('2036', '2964'), ('2438', '2562'), ('4054', '946'), ('2699', '2301'), ('4601', '399'), ('4760', '240'), ('271', '4729'), ('2495', '2505'), ('791', '4209'), ('3515', '1485'), ('2301', '2699'), ('2301', '2699'), ('2301', '2699'), ('2694', '2306'), ('2694', '2306')]\n",
            " * \\ * / * \\ * / *\n",
            "[('7397', '4603'), ('6728', '5272'), ('8908', '3092'), ('2396', '9604'), ('4862', '7138'), ('7886', '4114'), ('9054', '2946'), ('4934', '7066'), ('6315', '5685'), ('3817', '8183'), ('2901', '9099'), ('2665', '9335'), ('3914', '8086'), ('5448', '6552'), ('4035', '7965'), ('9631', '2369'), ('5606', '6394'), ('5480', '6520'), ('8622', '3378'), ('5184', '6816'), ('5438', '6562'), ('4909', '7091'), ('6902', '5098'), ('4435', '7565'), ('7548', '4452'), ('4586', '7414'), ('6959', '5041'), ('6959', '5041'), ('5073', '6927'), ('6644', '5356'), ('4809', '7191'), ('5299', '6701'), ('9375', '2625'), ('9454', '2546'), ('7894', '4106'), ('3156', '8844'), ('7875', '4125'), ('8628', '3372'), ('4399', '7601'), ('7793', '4207'), ('3078', '8922'), ('6606', '5394'), ('4008', '7992'), ('8288', '3712'), ('2061', '9939'), ('3284', '8716'), ('9316', '2684'), ('7196', '4804'), ('9372', '2628'), ('9775', '2225'), ('2597', '9403'), ('4264', '7736'), ('8155', '3845'), ('7391', '4609'), ('5299', '6701'), ('5382', '6618'), ('5382', '6618'), ('6837', '5163'), ('6837', '5163'), ('2643', '9357'), ('9508', '2492'), ('4698', '7302'), ('8447', '3553'), ('8233', '3767'), ('8223', '3777'), ('7351', '4649'), ('5445', '6555'), ('7286', '4714'), ('9032', '2968'), ('7384', '4616'), ('8289', '3711'), ('2527', '9473'), ('3251', '8749'), ('9156', '2844'), ('4958', '7042'), ('3003', '8997'), ('7327', '4673'), ('6255', '5745'), ('6634', '5366'), ('6960', '5040'), ('2623', '9377'), ('9746', '2254'), ('9149', '2851'), ('4166', '7834'), ('3638', '8362'), ('6131', '5869'), ('2728', '9272'), ('8715', '3285'), ('4245', '7755'), ('6362', '5638'), ('3418', '8582'), ('3418', '8582'), ('3742', '8258'), ('5793', '6207'), ('4927', '7073'), ('9907', '2093'), ('4678', '7322'), ('6778', '5222'), ('2372', '9628'), ('2372', '9628'), ('2372', '9628'), ('5349', '6651'), ('8833', '3167'), ('6653', '5347'), ('5623', '6377'), ('7538', '4462'), ('7619', '4381'), ('4457', '7543'), ('2726', '9274'), ('2726', '9274'), ('4092', '7908'), ('7002', '4998'), ('8876', '3124'), ('7684', '4316'), ('7706', '4294'), ('9215', '2785'), ('5620', '6380'), ('4321', '7679'), ('9405', '2595'), ('8183', '3817'), ('2294', '9706'), ('5606', '6394'), ('8984', '3016'), ('8984', '3016'), ('8984', '3016'), ('5397', '6603'), ('5146', '6854'), ('5146', '6854'), ('7358', '4642'), ('6892', '5108'), ('3222', '8778'), ('5296', '6704'), ('9446', '2554'), ('8544', '3456'), ('9140', '2860'), ('9946', '2054'), ('5538', '6462'), ('3926', '8074'), ('7377', '4623'), ('4269', '7731'), ('3164', '8836'), ('3861', '8139'), ('8871', '3129'), ('5731', '6269'), ('2519', '9481'), ('5148', '6852'), ('4761', '7239'), ('6653', '5347'), ('7918', '4082'), ('7836', '4164'), ('5634', '6366'), ('6900', '5100'), ('5417', '6583'), ('4218', '7782'), ('4218', '7782'), ('9818', '2182'), ('7184', '4816'), ('2643', '9357'), ('3713', '8287'), ('3713', '8287'), ('4580', '7420'), ('9951', '2049'), ('3817', '8183'), ('4565', '7435'), ('4153', '7847'), ('8722', '3278'), ('8722', '3278'), ('2580', '9420'), ('6959', '5041'), ('6959', '5041'), ('8512', '3488'), ('4177', '7823'), ('6611', '5389'), ('3807', '8193'), ('4371', '7629'), ('8236', '3764'), ('3152', '8848'), ('6332', '5668'), ('8497', '3503'), ('8497', '3503'), ('8463', '3537'), ('8463', '3537'), ('4427', '7573'), ('9326', '2674'), ('7336', '4664'), ('6989', '5011'), ('5606', '6394'), ('5896', '6104'), ('5290', '6710'), ('6415', '5585'), ('9552', '2448'), ('4298', '7702'), ('6247', '5753'), ('4011', '7989'), ('8562', '3438'), ('4760', '7240'), ('5609', '6391'), ('8700', '3300'), ('4276', '7724'), ('4276', '7724'), ('9518', '2482'), ('7538', '4462'), ('9728', '2272'), ('6989', '5011'), ('6972', '5028'), ('7207', '4793'), ('2767', '9233'), ('2419', '9581'), ('7490', '4510'), ('5080', '6920'), ('3853', '8147'), ('8641', '3359'), ('4198', '7802'), ('7914', '4086'), ('3139', '8861'), ('7133', '4867'), ('7133', '4867'), ('2817', '9183'), ('5648', '6352'), ('9149', '2851'), ('5505', '6495'), ('3544', '8456'), ('9552', '2448'), ('8144', '3856'), ('6021', '5979'), ('5731', '6269'), ('2158', '9842'), ('4925', '7075'), ('2825', '9175'), ('7405', '4595'), ('8457', '3543'), ('9487', '2513'), ('9487', '2513'), ('8627', '3373'), ('3892', '8108'), ('8486', '3514'), ('8486', '3514'), ('4658', '7342'), ('5417', '6583'), ('2407', '9593'), ('9726', '2274'), ('4761', '7239'), ('6167', '5833'), ('6167', '5833'), ('4391', '7609'), ('2517', '9483'), ('8825', '3175'), ('9439', '2561'), ('8188', '3812'), ('2362', '9638'), ('2362', '9638'), ('2160', '9840'), ('9380', '2620'), ('2625', '9375'), ('3800', '8200'), ('3336', '8664'), ('5995', '6005'), ('3462', '8538'), ('8480', '3520'), ('4384', '7616'), ('8829', '3171'), ('9988', '2012'), ('2157', '9843'), ('8692', '3308'), ('4768', '7232'), ('9438', '2562'), ('3200', '8800'), ('8984', '3016'), ('8984', '3016'), ('8984', '3016'), ('6530', '5470'), ('8639', '3361'), ('9578', '2422'), ('6969', '5031'), ('6969', '5031'), ('5046', '6954'), ('8982', '3018'), ('3698', '8302'), ('8490', '3510'), ('7280', '4720'), ('2681', '9319'), ('7650', '4350'), ('7104', '4896'), ('8303', '3697'), ('8699', '3301'), ('8699', '3301'), ('4026', '7974'), ('4113', '7887'), ('4399', '7601'), ('5652', '6348'), ('6227', '5773'), ('3807', '8193'), ('7696', '4304'), ('6494', '5506'), ('8852', '3148'), ('7591', '4409'), ('7550', '4450'), ('8630', '3370'), ('7266', '4734'), ('8722', '3278'), ('8722', '3278'), ('3554', '8446'), ('9574', '2426'), ('3982', '8018'), ('2646', '9354'), ('3277', '8723'), ('8854', '3146'), ('9931', '2069'), ('6278', '5722'), ('6114', '5886'), ('4934', '7066'), ('3137', '8863'), ('4992', '7008'), ('7705', '4295'), ('8562', '3438'), ('2187', '9813'), ('4760', '7240'), ('4999', '7001'), ('8918', '3082'), ('6634', '5366'), ('6186', '5814'), ('9904', '2096'), ('7761', '4239')]\n"
          ]
        }
      ]
    },
    {
      "cell_type": "markdown",
      "source": [
        "(e) Bonus: Efficiency  \n",
        "&nbsp; &nbsp; &nbsp; If you are up to a challenge, write a function that solves the sum problem with the restriction that you can only go over every  \n",
        "&nbsp; &nbsp; &nbsp; number in the both lists once."
      ],
      "metadata": {
        "id": "Y6fhopRV5Dms"
      }
    },
    {
      "cell_type": "code",
      "source": [
        "#use sorted lists, traverse one forward and one backward. if sum greater than k, skip to next element in outerloop, decrement innerloop counter."
      ],
      "metadata": {
        "id": "J1R4-VEe5EL1"
      },
      "execution_count": null,
      "outputs": []
    },
    {
      "cell_type": "markdown",
      "source": [
        "8 Classes  \n",
        "\n",
        "Exercise 8.1: Rational numbers  \n",
        "In this problem, we will write a class that can represent rational numbers, i.e. fractions $\\frac{p}{q}$.  \n",
        "\n",
        "(a) Create a class Rational which is initialized by two integers, p and q, the nominator and denominator\n",
        "  \n",
        "\n",
        "\n"
      ],
      "metadata": {
        "id": "_GOM34pcqn0u"
      }
    },
    {
      "cell_type": "code",
      "source": [
        "class Rational:\n",
        "    def __init__(self, p, q):\n",
        "        if q == 0:\n",
        "            raise ValueError('Division by zero')\n",
        "        self.p = p \n",
        "        self.q = q "
      ],
      "metadata": {
        "id": "id-UKF--4BDM"
      },
      "execution_count": 46,
      "outputs": []
    },
    {
      "cell_type": "markdown",
      "source": [
        "(b) Add a method to print the rational number as p/q (the \\_\\_str\\_\\_ or \\_\\_repr\\_\\_ method is useful).  \n"
      ],
      "metadata": {
        "id": "H4vJ26bL4FIm"
      }
    },
    {
      "cell_type": "code",
      "source": [
        "class Rational:\n",
        "  def __init__(self, p, q):\n",
        "    if q == 0:\n",
        "        raise ValueError('Division by zero')\n",
        "    self.p = p \n",
        "    self.q = q   \n",
        "  \n",
        "  #alternatively, print(self.__str__()) ...\n",
        "  def __print__(self):\n",
        "    print(self.__repr__())\n",
        "  #... but the additional __repr__() method allows use of a string representation elsewhere\n",
        "  def __repr__(self):\n",
        "    return '%d / %d' % (self.p, self.q)\n",
        "\n",
        "r = Rational(2,3)\n",
        "print(type(r))\n",
        "r.__print__()\n",
        "print(r.__repr__())"
      ],
      "metadata": {
        "id": "1L3ZEZpb4A_b",
        "colab": {
          "base_uri": "https://localhost:8080/"
        },
        "outputId": "a75dfa73-7cd7-402f-d89d-1b3a91f39d70"
      },
      "execution_count": 47,
      "outputs": [
        {
          "output_type": "stream",
          "name": "stdout",
          "text": [
            "<class '__main__.Rational'>\n",
            "2 / 3\n",
            "2 / 3\n"
          ]
        }
      ]
    },
    {
      "cell_type": "markdown",
      "source": [
        "(c) We would like to represent $\\frac{10}{20}$ by $\\frac{1}{2}$ instead, hence write a function that computes the greatest common divisor, and ensure  \n",
        "&nbsp; &nbsp; &nbsp;  that every rational number is simplified  "
      ],
      "metadata": {
        "id": "2H6JpLV54FFN"
      }
    },
    {
      "cell_type": "code",
      "source": [
        "import math\n",
        "\n",
        "class Rational:\n",
        "  def __init__(self, p, q):\n",
        "    if q == 0:\n",
        "        raise ValueError('Division by zero')\n",
        "    self.p = p \n",
        "    self.q = q   \n",
        "  \n",
        "  def __print__(self):\n",
        "    print(self.__repr__())\n",
        "  \n",
        "  def __repr__(self):\n",
        "    return '%d / %d' % (self.p, self.q)\n",
        "  \n",
        "  # simplify rational to lowest form\n",
        "  def __reduce__(self):\n",
        "    g = math.gcd(self.p, self.q)\n",
        "    self.p = self.p // g\n",
        "    self.q = self.q // g\n",
        "    # if doing it manually, something like this\n",
        "    #for i in range 1,p: if p%i == 0: top.append i\n",
        "    #for j in range 1,q: if q%j == 0: bottom.append j\n",
        "    #for k in range len(top): for l in range len(bottom): if top[k] == bottom[l] and top[k] > gcd: gcd = top[k]  "
      ],
      "metadata": {
        "id": "Q1HYFsV-4Ak6"
      },
      "execution_count": 48,
      "outputs": []
    },
    {
      "cell_type": "markdown",
      "source": [
        "(d) Add a method so that we can add two rational numbers with $r_1 + r_2$, &nbsp; here the \\_\\_add\\_\\_() method\n",
        "is useful.  "
      ],
      "metadata": {
        "id": "UVPf223J4FBb"
      }
    },
    {
      "cell_type": "code",
      "source": [
        "class Rational:\n",
        "  def __init__(self, p, q):\n",
        "    if q == 0:\n",
        "        raise ValueError('Division by zero')\n",
        "    self.p = p \n",
        "    self.q = q   \n",
        "  \n",
        "  def __print__(self):\n",
        "    print(self.__repr__())\n",
        "  \n",
        "  def __repr__(self):\n",
        "    return '%d / %d' % (self.p, self.q)\n",
        "  \n",
        "  def __reduce__(self):\n",
        "    g = math.gcd(self.p, self.q)\n",
        "    self.p = self.p // g\n",
        "    self.q = self.q // g\n",
        "  \n",
        "  #ensure same denominator, check if int, default to float\n",
        "  def __add__(self, other):\n",
        "    if isinstance(other, Rational):\n",
        "      #this is p1q2 / q1q2 + p2q1 / q1q2\n",
        "      return Rational(self.p * other.q + other.p * self.q, self.q * other.q)\n",
        "    #check if int, convert if it is\n",
        "    elif isinstance(other, int):\n",
        "      return Rational(self.p + other * self.q, self.q)\n",
        "    #default\n",
        "    return float(self) + float(other)\n",
        "\n",
        "a = Rational(2,3)\n",
        "b = 6\n",
        "#as per usual\n",
        "a.__add__(b)\n",
        "a + b\n",
        "#as expected, b.__add__(a) gives not implemented error\n",
        "#b + a gives type error"
      ],
      "metadata": {
        "id": "ZnD3BD_-4Aee",
        "colab": {
          "base_uri": "https://localhost:8080/"
        },
        "outputId": "ecc5df53-5ffb-45ed-e878-afbb49a0f0b7"
      },
      "execution_count": 49,
      "outputs": [
        {
          "output_type": "execute_result",
          "data": {
            "text/plain": [
              "20 / 3"
            ]
          },
          "metadata": {},
          "execution_count": 49
        }
      ]
    },
    {
      "cell_type": "markdown",
      "source": [
        "(e) Add a method to subtract two rational numbers. (\\_\\_sub\\_\\_)  \n"
      ],
      "metadata": {
        "id": "0pR_ODN34ERL"
      }
    },
    {
      "cell_type": "code",
      "source": [
        "class Rational:\n",
        "  def __init__(self, p, q):\n",
        "    if q == 0:\n",
        "        raise ValueError('Division by zero')\n",
        "    self.p = p \n",
        "    self.q = q   \n",
        "  \n",
        "  def __print__(self):\n",
        "    print(self.__repr__())\n",
        "  \n",
        "  def __repr__(self):\n",
        "    return '%d / %d' % (self.p, self.q)\n",
        "  \n",
        "  def __reduce__(self):\n",
        "    g = math.gcd(self.p, self.q)\n",
        "    self.p = self.p // g\n",
        "    self.q = self.q // g\n",
        "  \n",
        "  def __add__(self, other):\n",
        "    if isinstance(other, Rational):\n",
        "      return Rational(self.p * other.q + other.p * self.q, self.q * other.q)\n",
        "    elif isinstance(other, int):\n",
        "      return Rational(self.p + other * self.q, self.q)\n",
        "    return float(self) + float(other)\n",
        "     \n",
        "  #subtraction is just addition of a negative\n",
        "  def __sub__(self, other):\n",
        "    #if other is already negative, subtraction of other is the same as addition\n",
        "    return self.__add__(-other)\n",
        "\n",
        "a = Rational(2,3)\n",
        "b = 6\n",
        "a.__sub__(b)    \n",
        "#a - b    "
      ],
      "metadata": {
        "id": "_ssX0Xo_4Aax",
        "colab": {
          "base_uri": "https://localhost:8080/"
        },
        "outputId": "a559c08f-23f6-4c14-9c2c-3474a6e378b6"
      },
      "execution_count": 50,
      "outputs": [
        {
          "output_type": "execute_result",
          "data": {
            "text/plain": [
              "-16 / 3"
            ]
          },
          "metadata": {},
          "execution_count": 50
        }
      ]
    },
    {
      "cell_type": "markdown",
      "source": [
        "(f) Add a method to multiply two rational numbers. (\\_\\_mul\\_\\_)  \n"
      ],
      "metadata": {
        "id": "sR4QI3354e2-"
      }
    },
    {
      "cell_type": "code",
      "source": [
        "class Rational:\n",
        "  def __init__(self, p, q):\n",
        "    if q == 0:\n",
        "        raise ValueError('Division by zero')\n",
        "    self.p = p \n",
        "    self.q = q   \n",
        "  \n",
        "  def __print__(self):\n",
        "    print(self.__repr__())\n",
        "  \n",
        "  def __repr__(self):\n",
        "    return '%d / %d' % (self.p, self.q)\n",
        "  \n",
        "  def __reduce__(self):\n",
        "    g = math.gcd(self.p, self.q)\n",
        "    self.p = self.p // g\n",
        "    self.q = self.q // g\n",
        "  \n",
        "  def __add__(self, other):\n",
        "    if isinstance(other, Rational):\n",
        "      return Rational(self.p * other.q + other.p * self.q, self.q * other.q)\n",
        "    elif isinstance(other, int):\n",
        "      return Rational(self.p + other * self.q, self.q)\n",
        "    return float(self) + float(other)\n",
        "     \n",
        "  def __sub__(self, other):\n",
        "    return self.__add__(-other)\n",
        "  \n",
        "  #similar, but not the same as, __add__\n",
        "  def __mul__(self, other):\n",
        "    if isinstance(other, Rational):\n",
        "      return Rational(self.p * other.p, self.q * other.q)\n",
        "    elif isinstance(other, int):\n",
        "      return Rational(self.p * other, self.q)\n",
        "    return float(self) * float(other)"
      ],
      "metadata": {
        "id": "csgwCGlb4fsI"
      },
      "execution_count": 51,
      "outputs": []
    },
    {
      "cell_type": "markdown",
      "source": [
        "(g) Add a method to divide two rational numbers. (\\_\\_div\\_\\_)  \n"
      ],
      "metadata": {
        "id": "o2Ax4n1G4hUL"
      }
    },
    {
      "cell_type": "code",
      "source": [
        "class Rational:\n",
        "  def __init__(self, p, q):\n",
        "    if q == 0:\n",
        "        raise ValueError('Division by zero')\n",
        "    self.p = p \n",
        "    self.q = q   \n",
        "  \n",
        "  def __print__(self):\n",
        "    print(self.__repr__())\n",
        "  \n",
        "  def __repr__(self):\n",
        "    return '%d / %d' % (self.p, self.q)\n",
        "  \n",
        "  def __reduce__(self):\n",
        "    g = math.gcd(self.p, self.q)\n",
        "    self.p = self.p // g\n",
        "    self.q = self.q // g\n",
        "  \n",
        "  def __add__(self, other):\n",
        "    if isinstance(other, Rational):\n",
        "      return Rational(self.p * other.q + other.p * self.q, self.q * other.q)\n",
        "    elif isinstance(other, int):\n",
        "      return Rational(self.p + other * self.q, self.q)\n",
        "    return float(self) + float(other)\n",
        "     \n",
        "  def __sub__(self, other):\n",
        "    return self.__add__(-other)\n",
        "  \n",
        "  def __mul__(self, other):\n",
        "    if isinstance(other, Rational):\n",
        "      return Rational(self.p * other.p, self.q * other.q)\n",
        "    elif isinstance(other, int):\n",
        "      return Rational(self.p * other, self.q)\n",
        "    return float(self) * float(other)\n",
        "\n",
        "  #multiplication by reciprocal, check for zero denominator handled by __init__\n",
        "  def __div__(self, other):\n",
        "    if isinstance(other, Rational):\n",
        "      return Rational(self.p * other.q, self.q * other.p)\n",
        "    elif isinstance(other, int):\n",
        "      return Rational(self.p , self.q * other)\n",
        "    if float(other) is not 0.0:\n",
        "      return float(self) / float(other)\n",
        "    else:\n",
        "      raise ValueError(\"Division by zero\")\n",
        "    "
      ],
      "metadata": {
        "id": "cWROArl04hFf"
      },
      "execution_count": 52,
      "outputs": []
    },
    {
      "cell_type": "markdown",
      "source": [
        "(h) Add a method that compares whether two rational numbers are equal.  \n"
      ],
      "metadata": {
        "id": "s4NTckyV4g1J"
      }
    },
    {
      "cell_type": "code",
      "source": [
        "class Rational:\n",
        "  def __init__(self, p, q):\n",
        "    if q == 0:\n",
        "        raise ValueError('Division by zero')\n",
        "    self.p = p \n",
        "    self.q = q   \n",
        "  \n",
        "  def __print__(self):\n",
        "    print(self.__repr__())\n",
        "  \n",
        "  def __repr__(self):\n",
        "    return '%d / %d' % (self.p, self.q)\n",
        "  \n",
        "  def __reduce__(self):\n",
        "    g = math.gcd(self.p, self.q)\n",
        "    self.p = self.p // g\n",
        "    self.q = self.q // g\n",
        "  \n",
        "  def __add__(self, other):\n",
        "    if isinstance(other, Rational):\n",
        "      return Rational(self.p * other.q + other.p * self.q, self.q * other.q)\n",
        "    elif isinstance(other, int):\n",
        "      return Rational(self.p + other * self.q, self.q)\n",
        "    return float(self) + float(other)\n",
        "     \n",
        "  def __sub__(self, other):\n",
        "    return self.__add__(-other)\n",
        "  \n",
        "  def __mul__(self, other):\n",
        "    if isinstance(other, Rational):\n",
        "      return Rational(self.p * other.p, self.q * other.q)\n",
        "    elif isinstance(other, int):\n",
        "      return Rational(self.p * other, self.q)\n",
        "    return float(self) * float(other)\n",
        "\n",
        "  def __div__(self, other):\n",
        "    if isinstance(other, Rational):\n",
        "      return Rational(self.p * other.q, self.q * other.p)\n",
        "    elif isinstance(other, int):\n",
        "      return Rational(self.p , self.q * other)\n",
        "    if float(other) is not 0.0:\n",
        "      return float(self) / float(other)\n",
        "    else:\n",
        "      raise ValueError(\"Division by zero\")\n",
        "  \n",
        "  #check top and bottom, or if other is int type, if other has equivalent value\n",
        "  def __isEqual__(self, other):\n",
        "    if isinstance(other, Rational):\n",
        "      if self.p == other.p and self.q == other.q:\n",
        "        return True\n",
        "      return False\n",
        "    elif isinstance(other, int):\n",
        "      if self.p == self.q * other:\n",
        "        return True\n",
        "      return False  \n",
        "    return False"
      ],
      "metadata": {
        "id": "tazu1i6P4glT"
      },
      "execution_count": 53,
      "outputs": []
    },
    {
      "cell_type": "markdown",
      "source": [
        "(i) Add a method to convert the rational number to a floating point (the \\_\\_float\\_\\_() method may\n",
        "be handy).  \n"
      ],
      "metadata": {
        "id": "SNG9_7QH4gEv"
      }
    },
    {
      "cell_type": "code",
      "source": [
        "class Rational:\n",
        "  def __init__(self, p, q):\n",
        "    if q == 0:\n",
        "        raise ValueError('Division by zero')\n",
        "    self.p = p \n",
        "    self.q = q   \n",
        "  \n",
        "  def __print__(self):\n",
        "    print(self.__repr__())\n",
        "  \n",
        "  def __repr__(self):\n",
        "    return '%d / %d' % (self.p, self.q)\n",
        "  \n",
        "  def __reduce__(self):\n",
        "    g = math.gcd(self.p, self.q)\n",
        "    self.p = self.p // g\n",
        "    self.q = self.q // g\n",
        "  \n",
        "  def __add__(self, other):\n",
        "    if isinstance(other, Rational):\n",
        "      return Rational(self.p * other.q + other.p * self.q, self.q * other.q)\n",
        "    elif isinstance(other, int):\n",
        "      return Rational(self.p + other * self.q, self.q)\n",
        "    return self.__float__() + other.__float__()\n",
        "     \n",
        "  def __sub__(self, other):\n",
        "    return self.__add__(-other)\n",
        "  \n",
        "  def __mul__(self, other):\n",
        "    if isinstance(other, Rational):\n",
        "      return Rational(self.p * other.p, self.q * other.q)\n",
        "    elif isinstance(other, int):\n",
        "      return Rational(self.p * other, self.q)\n",
        "    return float(self) * float(other)\n",
        "\n",
        "  def __div__(self, other):\n",
        "    if isinstance(other, Rational):\n",
        "      return Rational(self.p * other.q, self.q * other.p)\n",
        "    elif isinstance(other, int):\n",
        "      return Rational(self.p , self.q * other)\n",
        "    if float(other) is not 0.0:\n",
        "      return float(self) / float(other)\n",
        "    else:\n",
        "      raise ValueError(\"Division by zero\")\n",
        "  \n",
        "  def __isEqual__(self, other):\n",
        "    if isinstance(other, Rational):\n",
        "      if self.p == other.p and self.q == other.q:\n",
        "        return True\n",
        "      return False\n",
        "    elif isinstance(other, int):\n",
        "      if self.p == self.q * other:\n",
        "        return True\n",
        "      return False  \n",
        "    return False\n",
        "  \n",
        "  #not many different ways to do it\n",
        "  def __toFLoat__(self):\n",
        "    #return self.p.__float__() / self.q.__float__()\n",
        "    return float(self.p) / float(self.q)"
      ],
      "metadata": {
        "id": "htYMv0da2WtX"
      },
      "execution_count": 54,
      "outputs": []
    },
    {
      "cell_type": "markdown",
      "source": [
        "(j) Add any more functionality that you think is useful but I failed to mention."
      ],
      "metadata": {
        "id": "bbB7bwak4sO3"
      }
    },
    {
      "cell_type": "code",
      "source": [
        "import math\n",
        "class Rational:\n",
        "  '''Represents a rational number, p / q, with p and q in Z'''\n",
        "  def __init__(self, p, q):\n",
        "\n",
        "    if q == 0:\n",
        "        raise ValueError('Division by zero')\n",
        "    #make sure top and bottom are integers\n",
        "    if type(p) == int and type(q) == int:\n",
        "      self.p = p \n",
        "      self.q = q   \n",
        "    else:\n",
        "      raise TypeError(\"p and q must be ints\")\n",
        "  \n",
        "  def __print__(self):\n",
        "    print(self.__repr__())\n",
        "  \n",
        "  def __repr__(self):\n",
        "    return '%d / %d' % (self.p, self.q)\n",
        "  \n",
        "  def __reduce__(self):\n",
        "    '''Greatest common divisor'''\n",
        "    g = math.gcd(self.p, self.q)\n",
        "    self.p = self.p // g\n",
        "    self.q = self.q // g\n",
        "  \n",
        "  #return the reciprocal\n",
        "  def __reciprocal__(self):\n",
        "    '''Returns the reciprocal of this rational'''\n",
        "    if self.p is not 0:\n",
        "      return Rational(self.q, self.p)\n",
        "    else:\n",
        "      print(\"Reciprocal of zero is undefined\")\n",
        "  \n",
        "  def __add__(self, other):\n",
        "    if isinstance(other, Rational):\n",
        "      return Rational(self.p * other.q + other.p * self.q, self.q * other.q)\n",
        "    elif isinstance(other, int):\n",
        "      return Rational(self.p + other * self.q, self.q)\n",
        "    return self.__float__() + other.__float__()\n",
        "     \n",
        "  def __sub__(self, other):\n",
        "    return self.__add__(-other)\n",
        "  \n",
        "  def __mul__(self, other):\n",
        "    if isinstance(other, Rational):\n",
        "      return Rational(self.p * other.p, self.q * other.q)\n",
        "    elif isinstance(other, int):\n",
        "      return Rational(self.p * other, self.q)\n",
        "    return float(self) * float(other)\n",
        "\n",
        "  def __div__(self, other):\n",
        "    if isinstance(other, Rational):\n",
        "      return Rational(self.p * other.q, self.q * other.p)\n",
        "    elif isinstance(other, int):\n",
        "      return Rational(self.p , self.q * other)\n",
        "    if float(other) is not 0.0:\n",
        "      return float(self) / float(other)\n",
        "    else:\n",
        "      raise ValueError(\"Division by zero\")\n",
        "  \n",
        "  def __isEqual__(self, other):\n",
        "    '''Compare on basis of value'''\n",
        "    if isinstance(other, Rational):\n",
        "      if self.p == other.p and self.q == other.q:\n",
        "        return True\n",
        "      return False\n",
        "    elif isinstance(other, int):\n",
        "      if self.p == self.q * other:\n",
        "        return True\n",
        "      return False  \n",
        "    return False\n",
        "  \n",
        "  def __toFLoat__(self):\n",
        "    #return self.p.__float__() / self.q.__float__()\n",
        "    return float(self.p) / float(self.q)\n",
        "\n",
        "a = Rational(2,3)\n",
        "a.__print__() \n",
        "print(a.__reciprocal__()) \n",
        "print(a.__reduce__())\n",
        "b = Rational(3,5)\n",
        "print(a.__isEqual__(b))\n"
      ],
      "metadata": {
        "id": "v0lB9Vjz4BG7",
        "colab": {
          "base_uri": "https://localhost:8080/"
        },
        "outputId": "c30ecd07-54bd-4c9f-fa71-7a624d81785c"
      },
      "execution_count": 55,
      "outputs": [
        {
          "output_type": "stream",
          "name": "stdout",
          "text": [
            "2 / 3\n",
            "3 / 2\n",
            "None\n",
            "False\n"
          ]
        }
      ]
    },
    {
      "cell_type": "code",
      "source": [
        ""
      ],
      "metadata": {
        "id": "YT9qOJtF4s7f"
      },
      "execution_count": 55,
      "outputs": []
    },
    {
      "cell_type": "markdown",
      "source": [
        "\n",
        "Exercise 8.2: Rock Paper Scissors  \n",
        "In this problem, we will finish an implementation for Rock-Paper-Scissors. We have written some code\n",
        "to get you started, now it’s up to you to finish the implementation.\n",
        "The code consists of 2 files: game.py and agent.py. The code that implements the actual game is coded\n",
        "in game.py. agent.py defines several agents that can play the game. Download the starter code here\n",
        "using  \n",
        "&nbsp; &nbsp; &nbsp; $ git clone https://github.com/schmit/Rock-paper-scissors-startercode.git (if you have git\n",
        "/ use Cloud9)  \n",
        "or dowload the code directly:  \n",
        "&nbsp; &nbsp; &nbsp; https://github.com/schmit/Rock-paper-scissors-startercode/archive/master.zip  \n",
        "(a) Finish the implementation of game.py by implementing the compare function, updating the scores\n",
        "(where a win is 1 point,   \n",
        "&nbsp; &nbsp; &nbsp; and a tie or loss 0 points), and finally the summary function that gives\n",
        "some information after the game.  \n",
        "  \n"
      ],
      "metadata": {
        "id": "YSPkT8lgqXPC"
      }
    },
    {
      "cell_type": "code",
      "source": [
        "'''\n",
        "if move1 == move2:\n",
        "    return 0\n",
        "  if (move1 == 'r' and move2 == 's') or (move1 == 's' and move2 == 'p') or (move1 == 'p' and move2 == 'r'):\n",
        "    return 1\n",
        "  else:\n",
        "    return -1\n",
        "  counts = {'rock':0,'paper':0,'scissors':0}\n",
        "\n",
        "for x in moves_a1:\n",
        "  if x == 'r':\n",
        "    counts['rock'] += 1\n",
        "  elif x == 'p':\n",
        "    counts['paper'] += 1\n",
        "  else:\n",
        "    counts['scissors'] += 1\n",
        "\n",
        "for x in moves_a2:\n",
        "  if x == 'r':\n",
        "    counts['rock'] += 1\n",
        "  elif x == 'p':\n",
        "    counts['paper'] += 1\n",
        "  else:\n",
        "    counts['scissors'] += 1\n",
        "\n",
        "print ('Most played move: {} count {}'.format(max(counts),max(counts.values())))\n",
        "'''"
      ],
      "metadata": {
        "id": "dUDlVhuW3-hm"
      },
      "execution_count": null,
      "outputs": []
    },
    {
      "cell_type": "markdown",
      "source": [
        "(b) Implement the HumanAgent in agent.py, this agent should query the user for the next move, and\n",
        "ensure that the user gives   \n",
        "&nbsp; &nbsp; &nbsp; valid input."
      ],
      "metadata": {
        "id": "9WVGkAw4e12Y"
      }
    },
    {
      "cell_type": "code",
      "source": [
        "#maybe next time"
      ],
      "metadata": {
        "id": "DGWbo3Tc3-eG"
      },
      "execution_count": null,
      "outputs": []
    },
    {
      "cell_type": "markdown",
      "source": [
        "(c) Implement MyAgent, where you can implement your own strategy, try to beat the InstructorAgent\n",
        "consistently over  \n",
        "&nbsp; &nbsp; &nbsp; 100 rounds.  \n",
        "Hint: have a look at the Hangman code."
      ],
      "metadata": {
        "id": "0Q14Ll7JfBT8"
      }
    },
    {
      "cell_type": "code",
      "source": [
        "#don't have time for this"
      ],
      "metadata": {
        "id": "83oBJL1T3-aZ"
      },
      "execution_count": null,
      "outputs": []
    },
    {
      "cell_type": "markdown",
      "source": [
        "Exercise 8.3: Hangman agent  \n",
        "Implement your own Hangman computer agent (see exercise 2.4) that is much more effective than the\n",
        "Agent that guesses random characters.  \n",
        "Make sure you create a new class rather than overwriting the existing Agent class. You can of course\n",
        "inherit from the Agent class\n",
        "You can update the simulate.py script to test your implementation.\n"
      ],
      "metadata": {
        "id": "9wYOGC0zqSqY"
      }
    },
    {
      "cell_type": "code",
      "source": [
        ""
      ],
      "metadata": {
        "id": "kWX584RU37XD"
      },
      "execution_count": null,
      "outputs": []
    },
    {
      "cell_type": "markdown",
      "source": [
        "Exercise 8.4: Sparse and dense vectors  \n",
        "In exercise 6.5 you implemented functions for sparse and dense vector multiplications using lists and\n",
        "dictionaries. However, this is a bit clumsy to use in practice. Really, we would like to represent sparse\n",
        "and dense vectors as classes, this way we can overload operators such as + ( add ) and get sensible\n",
        "output. For example, using + on two dense vectors implemented as lists would append the second vector\n",
        "to the first, instead of adding the two together.  \n",
        "Implement sparse and dense vectors. Both classes should have the following capabilities:  \n",
        "(a) Print vector  \n"
      ],
      "metadata": {
        "id": "tP8zk0zyqNMg"
      }
    },
    {
      "cell_type": "code",
      "source": [
        "class Sparse:\n",
        "  \n",
        "  def __init__(self,x):\n",
        "    self.x = x\n",
        "\n",
        "  def __print_vector__(self):\n",
        "    for item in self.x.items():\n",
        "      print(item)\n",
        "    print()\n",
        "\n",
        "class Dense:\n",
        "  def __init__(self,x):\n",
        "    self.x = x\n",
        "  \n",
        "  def __print_vector__(self):\n",
        "    for i in range(len(self.x)):\n",
        "      print(self.x[i])\n",
        "    print()\n",
        "\n",
        "s = Sparse({'a':6, 'c': 3})\n",
        "s.__print_vector__()\n",
        "\n",
        "d = Dense([6,3])\n",
        "d.__print_vector__()"
      ],
      "metadata": {
        "id": "YL289VqIfsKz",
        "colab": {
          "base_uri": "https://localhost:8080/"
        },
        "outputId": "b6cf6933-9256-4c61-8f52-8c2f987c9820"
      },
      "execution_count": 93,
      "outputs": [
        {
          "output_type": "stream",
          "name": "stdout",
          "text": [
            "('a', 6)\n",
            "('c', 3)\n",
            "\n",
            "6\n",
            "3\n",
            "\n"
          ]
        }
      ]
    },
    {
      "cell_type": "markdown",
      "source": [
        "(b) Add two vectors (both if other is dense and sparse)  \n"
      ],
      "metadata": {
        "id": "M9cKdOLjfswR"
      }
    },
    {
      "cell_type": "code",
      "source": [
        "class Sparse:\n",
        "  \n",
        "  def __init__(self,x):\n",
        "    self.x = x\n",
        "  \n",
        "  def __add__(self, other):\n",
        "    if isinstance(other, Sparse):\n",
        "      for key in other.x:\n",
        "        if key not in self.x.keys():\n",
        "          self.x[key] = other.x[key]\n",
        "        else:\n",
        "          self.x[key] += other.x[key]\n",
        "    elif isinstance(other, Dense):\n",
        "      s = dict(other)\n",
        "      for key in s.keys():\n",
        "        if key not in self.x.keys():\n",
        "            self.x[key] = s[key]\n",
        "        else:\n",
        "          self.x[key] += s[key]\n",
        "\n",
        "  def __print_vector__(self):\n",
        "    for item in self.x.items():\n",
        "      print(item)\n",
        "    print()\n",
        "\n",
        "class Dense:\n",
        "  \n",
        "  def __init__(self,x):\n",
        "    self.x = x\n",
        "  \n",
        "  def __add__(self, other):\n",
        "    if isinstance(other, Dense):\n",
        "      if len(self.x) >= len(other.x):\n",
        "        for i in range(len(other.x)):\n",
        "          self.x[i] += other.x[i]\n",
        "      else:\n",
        "        tmp = other.x[len(self.x)-1:len(other.x)-1]\n",
        "        for i in range(len(self.x)):\n",
        "          self.x[i] += other.x[i]\n",
        "        self.x.append(tmp)\n",
        "    elif isinstance(other, Sparse):\n",
        "      x = []\n",
        "      for k in Sparse.keys():\n",
        "        x.append(Sparse[k])\n",
        "      d = Dense(x)\n",
        "      self.__add__(d)\n",
        "\n",
        "  def __print_vector__(self):\n",
        "    for i in range(len(self.x)):\n",
        "      print(self.x[i])\n",
        "    print()\n",
        "        \n",
        "s = Sparse({'a':6, 'c': 3})\n",
        "s.__add__(Sparse({'b':4, 'd': 3}))\n",
        "s.__print_vector__()\n",
        "\n",
        "d = Dense([6,3])\n",
        "d.__add__(Dense([1,3]))\n",
        "d.__print_vector__()"
      ],
      "metadata": {
        "id": "eBigNkFHfs_N",
        "colab": {
          "base_uri": "https://localhost:8080/"
        },
        "outputId": "f3e9321f-7e1e-460f-8690-8528bb09d1bf"
      },
      "execution_count": 96,
      "outputs": [
        {
          "output_type": "stream",
          "name": "stdout",
          "text": [
            "('a', 6)\n",
            "('c', 3)\n",
            "('b', 4)\n",
            "('d', 3)\n",
            "\n",
            "7\n",
            "6\n",
            "\n"
          ]
        }
      ]
    },
    {
      "cell_type": "markdown",
      "source": [
        "(c) Multiply two vectors (both if other is dense and sparse)  \n",
        "Do re-use your code from the previous exercise.  \n",
        "Hint: isinstance() might be useful."
      ],
      "metadata": {
        "id": "shElluVMfr5o"
      }
    },
    {
      "cell_type": "code",
      "source": [
        "class Sparse:\n",
        "  \n",
        "  def __init__(self,x):\n",
        "    self.x = x\n",
        "  \n",
        "  def __add__(self, other):\n",
        "    if isinstance(other, Sparse):\n",
        "      for key in other.x:\n",
        "        if key not in self.x.keys():\n",
        "          self.x[key] = other.x[key]\n",
        "        else:\n",
        "          self.x[key] += other.x[key]\n",
        "    elif isinstance(other, Dense):\n",
        "      s = dict(other)\n",
        "      for key in s.keys():\n",
        "        if key not in self.x.keys():\n",
        "            self.x[key] = s[key]\n",
        "        else:\n",
        "          self.x[key] += s[key]\n",
        "\n",
        "  def __multiply__(self,other):\n",
        "    if isinstance(other, Sparse):\n",
        "      for key in other.x:\n",
        "        if key not in self.x.keys():\n",
        "          self.x[key] = other.x[key]\n",
        "        else:\n",
        "          self.x[key] *= other.x[key]\n",
        "    elif isinstance(other, Dense):\n",
        "      s = dict(other)\n",
        "      for key in s.keys():\n",
        "        if key not in self.x.keys():\n",
        "            self.x[key] = s[key]\n",
        "        else:\n",
        "          self.x[key] *= s[key]\n",
        "\n",
        "  \n",
        "  def __print_vector__(self):\n",
        "    for item in self.x.items():\n",
        "      print(item)\n",
        "    print()\n",
        "\n",
        "class Dense:\n",
        "  \n",
        "  def __init__(self,x):\n",
        "    self.x = x\n",
        "  \n",
        "  def __add__(self, other):\n",
        "    if isinstance(other, Dense):\n",
        "      if len(self.x) >= len(other.x):\n",
        "        for i in range(len(other.x)):\n",
        "          self.x[i] += other.x[i]\n",
        "      else:\n",
        "        tmp = other.x[len(self.x)-1:len(other.x)-1]\n",
        "        for i in range(len(self.x)):\n",
        "          self.x[i] += other.x[i]\n",
        "        self.x.append(tmp)\n",
        "    elif isinstance(other, Sparse):\n",
        "      x = []\n",
        "      for k in Sparse.keys():\n",
        "        x.append(Sparse[k])\n",
        "      d = Dense(x)\n",
        "      self.__add__(d)\n",
        "\n",
        "  def __multiply__(self,other):\n",
        "    if isinstance(other, Dense):\n",
        "      if len(self.x) >= len(other.x):\n",
        "        for i in range(len(other.x)):\n",
        "          self.x[i] *= other.x[i]\n",
        "      else:\n",
        "        tmp = other.x[len(self.x)-1:len(other.x)-1]\n",
        "        for i in range(len(self.x)):\n",
        "          self.x[i] *= other.x[i]\n",
        "        self.x.append(tmp)\n",
        "    elif isinstance(other, Sparse):\n",
        "      x = []\n",
        "      for k in Sparse.keys():\n",
        "        x.append(Sparse[k])\n",
        "      d = Dense(x)\n",
        "      self.__multiply__(d)\n",
        "\n",
        "  def __print_vector__(self):\n",
        "    for i in range(len(self.x)):\n",
        "      print(self.x[i])\n",
        "    print()\n",
        "\n",
        "        \n",
        "s = Sparse({'a':6, 'c': 3})\n",
        "s.__multiply__(Sparse({'b':4, 'd': 3}))\n",
        "s.__print_vector__()\n",
        "\n",
        "d = Dense([6,3])\n",
        "d.__multiply__(Dense([1,3]))\n",
        "d.__print_vector__()"
      ],
      "metadata": {
        "id": "5qlNv86C388h",
        "colab": {
          "base_uri": "https://localhost:8080/"
        },
        "outputId": "1549bd32-4352-4829-9137-ee88927ff2cd"
      },
      "execution_count": 99,
      "outputs": [
        {
          "output_type": "stream",
          "name": "stdout",
          "text": [
            "('a', 6)\n",
            "('c', 3)\n",
            "('b', 4)\n",
            "('d', 3)\n",
            "\n",
            "6\n",
            "9\n",
            "\n"
          ]
        }
      ]
    },
    {
      "cell_type": "markdown",
      "source": [
        "Exercise 8.5: Implementing the set class  \n",
        "Write a class mySet that has the same basic functionality as the Python set data structure. Base your\n",
        "implementation on a dictionary."
      ],
      "metadata": {
        "id": "LpquffTiqIo1"
      }
    },
    {
      "cell_type": "code",
      "source": [
        "class mySet:\n",
        "  def __init__(self):\n",
        "    self.pile = {}\n",
        "  def __isDisjoint__(self,other):\n",
        "    for v in other.values():\n",
        "      if v in self.values():\n",
        "        return False\n",
        "    return True\n",
        "  \n",
        "  def __contains__(self,x):\n",
        "    if x in self.values():\n",
        "      return True\n",
        "    else:\n",
        "      return False\n",
        "  \n",
        "  def __union__(self,other):\n",
        "    for v in other.values():\n",
        "      if v not in self.values():\n",
        "        self[other.getkey(v)] = v\n",
        "\n",
        "  def __intersection__(self,other):\n",
        "    ms = mySet()\n",
        "    for v in other.values():\n",
        "      if v in self.values():\n",
        "        ms[other.getkey(v)] = v\n",
        "    return ms\n",
        "\n",
        "  def __difference__(self,other):\n",
        "    ms = mySet()\n",
        "    for v in self.values():\n",
        "      if v not in other.values():\n",
        "        ms[self.getkey(v)] = v\n",
        "    return ms\n",
        "\n",
        "  def __symmetric_difference__(self,other):\n",
        "    ms = mySet()\n",
        "    for v in self.values():\n",
        "      if v not in other.values():\n",
        "        ms[self.getkey(v)] = v\n",
        "    for v in other.values():\n",
        "      if v not in self.values():\n",
        "        ms[other.getkey(v)] = v\n",
        "    return ms\n",
        "  \n",
        "def __isSuperSet__(self,other):\n",
        "  for v in other.values():\n",
        "    if v not in self.values():\n",
        "      return False\n",
        "  return True\n",
        "\n",
        "def __isProperSuperSet__(self,other):\n",
        "  if len(self) > len(other) and self.__isSuperSet__(other):\n",
        "    return True\n",
        "  return False\n",
        "\n",
        "def __isSubSet__(self,other):\n",
        "  for v in self.values():\n",
        "    if v not in other.values():\n",
        "      return False\n",
        "  return True\n",
        "\n",
        "def __isProperSubSet__(self,other):\n",
        "  if len(self) < len(other) and self.__isSubSet__(other):\n",
        "    return True\n",
        "  return False\n",
        "\n",
        "s = mySet()\n",
        "s.pile['k1'] = 3\n",
        "print(s.pile['k1'])"
      ],
      "metadata": {
        "id": "AloAluXE39bR",
        "colab": {
          "base_uri": "https://localhost:8080/"
        },
        "outputId": "72051bd6-5cb2-43ac-9160-2f39bd21784c"
      },
      "execution_count": 101,
      "outputs": [
        {
          "output_type": "stream",
          "name": "stdout",
          "text": [
            "3\n"
          ]
        }
      ]
    },
    {
      "cell_type": "markdown",
      "source": [
        "Exercise 8.6: Binary search tree  \n",
        "In this exercise, we will implement a binary search tree. See http://en.wikipedia.org/wiki/Binary_\n",
        "search_tree for an explanation.  \n",
        "(a) Define a class Node, and write the constructor, which takes one argument, value, and initializes\n",
        "the left and right  \n",
        "&nbsp; &nbsp; &nbsp; children to None.  \n",
        " "
      ],
      "metadata": {
        "id": "DqSQCEfnqFBc"
      }
    },
    {
      "cell_type": "code",
      "source": [
        "class Node:\n",
        "  def __init__(self, value):\n",
        "    self.left = None\n",
        "    self.right = None\n",
        "    self.value = value\n",
        "\n",
        "n = Node(4)\n",
        "print(n.value, n.left)"
      ],
      "metadata": {
        "id": "j3brfwrn54lI",
        "colab": {
          "base_uri": "https://localhost:8080/"
        },
        "outputId": "a3cc2f02-7698-41cf-8b25-7ec98c2de82f"
      },
      "execution_count": 72,
      "outputs": [
        {
          "output_type": "stream",
          "name": "stdout",
          "text": [
            "4 None\n"
          ]
        }
      ]
    },
    {
      "cell_type": "markdown",
      "source": [
        "(b) Write a function to print the tree.  \n"
      ],
      "metadata": {
        "id": "81Fse4HDfYMl"
      }
    },
    {
      "cell_type": "code",
      "source": [
        "class Node:\n",
        "  def __init__(self, value):\n",
        "    self.left = None\n",
        "    self.right = None\n",
        "    self.value = value\n",
        "  \n",
        "  def __print__(self):\n",
        "    if self.left is not None:\n",
        "      self.left.__print__()\n",
        "    if self.right is not None:\n",
        "      self.right.__print__()\n",
        "    print(\"dunder print - \",self.value)\n",
        "#don't forget to create a new instance everytime the class is defined (new instance in each cell)\n",
        "n = Node(9)  \n",
        "n.__print__()"
      ],
      "metadata": {
        "id": "0q3Ag7gF54Ro",
        "colab": {
          "base_uri": "https://localhost:8080/"
        },
        "outputId": "658a38db-aa5c-4c42-bcf3-61f5873e10c0"
      },
      "execution_count": 81,
      "outputs": [
        {
          "output_type": "stream",
          "name": "stdout",
          "text": [
            "dunder print -  9\n"
          ]
        }
      ]
    },
    {
      "cell_type": "markdown",
      "source": [
        "(c) Write a function that inserts a new value in the tree at the right location.  \n"
      ],
      "metadata": {
        "id": "r3lTH5rSfYFA"
      }
    },
    {
      "cell_type": "code",
      "source": [
        "class Node:\n",
        "  def __init__(self, value):\n",
        "    self.left = None\n",
        "    self.right = None\n",
        "    self.value = value\n",
        "  \n",
        "  def __print__(self):\n",
        "    if self.left is not None:\n",
        "      self.left.__print__()\n",
        "    if self.right is not None:\n",
        "      self.right.__print__()\n",
        "    print(self.value)\n",
        "\n",
        "  def __insert__(self, x):\n",
        "    if x < self.value:\n",
        "      if self.left is not None:\n",
        "        self.left.__insert__(x)\n",
        "      else:\n",
        "        self.left = Node(x)\n",
        "    elif x > self.value:\n",
        "      if self.right is not None:\n",
        "        self.right.__insert__(x)\n",
        "      else:\n",
        "        self.right = Node(x)\n",
        "#RecursionError: maximum recursion depth exceeded in comparison\n",
        "n = Node(5)\n",
        "n.__insert__(4)\n",
        "n.__insert__(6)\n",
        "n.__insert__(2)\n",
        "n.__print__()"
      ],
      "metadata": {
        "id": "Oa-rkcQu54Nb",
        "colab": {
          "base_uri": "https://localhost:8080/"
        },
        "outputId": "f470f02e-7574-422e-97ed-a57f00d9a0a5"
      },
      "execution_count": 85,
      "outputs": [
        {
          "output_type": "stream",
          "name": "stdout",
          "text": [
            "2\n",
            "4\n",
            "6\n",
            "5\n"
          ]
        }
      ]
    },
    {
      "cell_type": "markdown",
      "source": [
        "(d) Write a function that looks up a value in the tree.  \n"
      ],
      "metadata": {
        "id": "PwykMBFXfXnu"
      }
    },
    {
      "cell_type": "code",
      "source": [
        "class Node:\n",
        "  def __init__(self, value):\n",
        "    self.left = None\n",
        "    self.right = None\n",
        "    self.value = value\n",
        "  \n",
        "  def __print__(self):\n",
        "    if self.left is not None:\n",
        "      self.left.__print__()\n",
        "    if self.right is not None:\n",
        "      self.right.__print__()\n",
        "    print(self.value)\n",
        "\n",
        "  def __insert__(self, x):\n",
        "    if x < self.value:\n",
        "      if self.left is not None:\n",
        "        self.left.__insert__(x)\n",
        "      else:\n",
        "        self.left = Node(x)\n",
        "    elif x > self.value:\n",
        "      if self.right is not None:\n",
        "        self.right.__insert__(x)\n",
        "      else:\n",
        "        self.right = Node(x)\n",
        "\n",
        "  def __bsearch__(self,x):\n",
        "    if x < self.value:\n",
        "      if self.left is not None:\n",
        "        self.left.__bsearch__(x)\n",
        "      else:\n",
        "        print(\"Not found\")\n",
        "    elif x > self.value:\n",
        "      if self.right is not None:\n",
        "        self.right.__bsearch__(x)\n",
        "      else:\n",
        "        print(\"Not found\")\n",
        "    else:\n",
        "      print(\"{} found in tree\".format(self.value))\n",
        "\n",
        "n = Node(7)\n",
        "n.__insert__(4)\n",
        "n.__insert__(6)\n",
        "n.__insert__(2)\n",
        "n.__insert__(1)\n",
        "n.__insert__(5)\n",
        "n.__insert__(3)\n",
        "n.__bsearch__(5)\n",
        "n.__print__()"
      ],
      "metadata": {
        "id": "5XcFOc9j54GV",
        "colab": {
          "base_uri": "https://localhost:8080/"
        },
        "outputId": "03833b13-07a7-428f-9fff-da4166128a32"
      },
      "execution_count": 87,
      "outputs": [
        {
          "output_type": "stream",
          "name": "stdout",
          "text": [
            "5 found in tree\n",
            "1\n",
            "3\n",
            "2\n",
            "5\n",
            "6\n",
            "4\n",
            "7\n"
          ]
        }
      ]
    },
    {
      "cell_type": "markdown",
      "source": [
        "(e) Write a function that removes a value from the tree. "
      ],
      "metadata": {
        "id": "t4NwG4YKfkOO"
      }
    },
    {
      "cell_type": "code",
      "source": [
        "class Node:\n",
        "  def __init__(self, value):\n",
        "    self.left = None\n",
        "    self.right = None\n",
        "    self.value = value\n",
        "  \n",
        "  def __print__(self):\n",
        "    if self.left is not None:\n",
        "      self.left.__print__()\n",
        "    if self.right is not None:\n",
        "      self.right.__print__()\n",
        "    print(self.value)\n",
        "\n",
        "  def __insert__(self, x):\n",
        "    if x < self.value:\n",
        "      if self.left is not None:\n",
        "        self.left.__insert__(x)\n",
        "      else:\n",
        "        self.left = Node(x)\n",
        "    elif x > self.value:\n",
        "      if self.right is not None:\n",
        "        self.right.__insert__(x)\n",
        "      else:\n",
        "        self.right = Node(x)\n",
        "\n",
        "  def __bsearch__(self,x):\n",
        "    if x < self.value:\n",
        "      if self.left is not None:\n",
        "        self.left.__bsearch__(x)\n",
        "      else:\n",
        "        print(\"Not found\")\n",
        "    elif x > self.value:\n",
        "      if self.right is not None:\n",
        "        self.right.__bsearch__(x)\n",
        "      else:\n",
        "        print(\"Not found\")\n",
        "    else:\n",
        "      print(\"{} found in tree\".format(self.value))\n",
        "\n",
        "  def __delete__(self,x):\n",
        "    if x < self.value:\n",
        "      if self.left is not None:\n",
        "        self.left.__delete__(x)\n",
        "      else:\n",
        "        print(\"Not found\")\n",
        "    elif x > self.value:\n",
        "      if self.right is not None:\n",
        "        self.right.__delete__(x)\n",
        "      else:\n",
        "        print(\"Not found\")\n",
        "    else:\n",
        "      if self.right is not None:\n",
        "        self.value = self.right.value\n",
        "        self.right = None\n",
        "      elif self.left is not None:\n",
        "        self.value = self.left.value\n",
        "        self.left = None\n",
        "      else:\n",
        "        print(\"Deleting self\")\n",
        "        self = None\n",
        "      print(\"{} back up one and delete node, maybe instead do left == x or right == x, left or right = none in tree\".format(self.value))\n",
        "\n",
        "n = Node(7)\n",
        "n.__insert__(4)\n",
        "n.__insert__(6)\n",
        "n.__insert__(2)\n",
        "n.__insert__(1)\n",
        "n.__insert__(5)\n",
        "n.__insert__(3)\n",
        "n.__delete__(4)\n",
        "n.__print__()"
      ],
      "metadata": {
        "id": "wruwN7-g5lal",
        "colab": {
          "base_uri": "https://localhost:8080/"
        },
        "outputId": "6a3726be-7cc0-4bda-9ef9-00343a134a4d"
      },
      "execution_count": 89,
      "outputs": [
        {
          "output_type": "stream",
          "name": "stdout",
          "text": [
            "6 back up one and delete node, maybe instead do left == x or right == x, left or right = none in tree\n",
            "1\n",
            "3\n",
            "2\n",
            "6\n",
            "7\n"
          ]
        }
      ]
    }
  ]
}