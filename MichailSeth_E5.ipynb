{
  "nbformat": 4,
  "nbformat_minor": 0,
  "metadata": {
    "colab": {
      "name": "MichailSeth_E5.ipynb",
      "provenance": [],
      "collapsed_sections": [],
      "authorship_tag": "ABX9TyO6oNwTfMup76sshG/owNCm",
      "include_colab_link": true
    },
    "kernelspec": {
      "name": "python3",
      "display_name": "Python 3"
    },
    "language_info": {
      "name": "python"
    }
  },
  "cells": [
    {
      "cell_type": "markdown",
      "metadata": {
        "id": "view-in-github",
        "colab_type": "text"
      },
      "source": [
        "<a href=\"https://colab.research.google.com/github/nochwysid/CSE5008-SP/blob/main/MichailSeth_E5.ipynb\" target=\"_parent\"><img src=\"https://colab.research.google.com/assets/colab-badge.svg\" alt=\"Open In Colab\"/></a>"
      ]
    },
    {
      "cell_type": "code",
      "execution_count": 1,
      "metadata": {
        "id": "3IzLv4lbf5MO"
      },
      "outputs": [],
      "source": [
        "import numpy as np\n",
        "import scipy as sp\n",
        "from scipy import stats\n",
        "import matplotlib.pyplot as plt"
      ]
    },
    {
      "cell_type": "markdown",
      "source": [
        "Exercise 9.5: Singular values  \n",
        "Generate an $n × n$ matrix, denoted by $C$, where each entry is 1 with probability $p$, and 0 otherwise. Use the linear algebra library of Scipy to compute the singular values of $C$. What can you say about the\n",
        "relationship between $n$, $p$ and the largest singular value?"
      ],
      "metadata": {
        "id": "LU0nd5d3pdIO"
      }
    },
    {
      "cell_type": "code",
      "source": [
        "n = 5\n",
        "p = np.random.uniform(0,1)\n",
        "C = np.multiply(np.ones((n,n)),np.random.normal(0,1,(n,n))<p)\n",
        "#mask = (np.random.rand(*C.shape) < p)\n",
        "print(C)"
      ],
      "metadata": {
        "id": "wuW30I_I_C4W",
        "colab": {
          "base_uri": "https://localhost:8080/"
        },
        "outputId": "8d44a6b7-69f0-412b-a6de-d382cee3a8a9"
      },
      "execution_count": 2,
      "outputs": [
        {
          "output_type": "stream",
          "name": "stdout",
          "text": [
            "[[1. 0. 1. 1. 0.]\n",
            " [1. 1. 0. 1. 1.]\n",
            " [1. 1. 0. 0. 1.]\n",
            " [0. 0. 0. 1. 0.]\n",
            " [1. 1. 1. 1. 1.]]\n"
          ]
        }
      ]
    },
    {
      "cell_type": "code",
      "source": [
        "U,s,V = np.linalg.svd(C)\n",
        "print(s)"
      ],
      "metadata": {
        "colab": {
          "base_uri": "https://localhost:8080/"
        },
        "id": "Q6yQxVdKSkni",
        "outputId": "e2688eee-f3a9-4034-908a-6947834a10f3"
      },
      "execution_count": 3,
      "outputs": [
        {
          "output_type": "stream",
          "name": "stdout",
          "text": [
            "[3.52923713e+00 1.57106021e+00 9.19455492e-01 4.80475496e-01\n",
            " 4.55599897e-17]\n"
          ]
        }
      ]
    },
    {
      "cell_type": "code",
      "source": [
        "z = np.zeros((100,3))\n",
        "for i in range(100):\n",
        "  n=i+1\n",
        "  p = 0.5\n",
        "  C = np.multiply(np.ones((n,n)),np.random.normal(0,1,(n,n))<p)\n",
        "  U,s,V = np.linalg.svd(C)\n",
        "  z[i,0] = i\n",
        "  z[i,1] = p\n",
        "  z[i,2] = np.amax(s) -2.5\n",
        "\n",
        "plt.scatter(z[:,0], z[:,1],label=\"probability p\")\n",
        "plt.scatter(z[:,0], z[:,2],label=\"SVD max\")\n",
        "plt.legend()"
      ],
      "metadata": {
        "colab": {
          "base_uri": "https://localhost:8080/",
          "height": 500
        },
        "id": "rjSRGw4kX_qE",
        "outputId": "660407e8-ac34-4327-c063-6b657ba8b862"
      },
      "execution_count": 130,
      "outputs": [
        {
          "output_type": "execute_result",
          "data": {
            "text/plain": [
              "<matplotlib.legend.Legend at 0x7f7a82786250>"
            ]
          },
          "metadata": {},
          "execution_count": 130
        },
        {
          "output_type": "display_data",
          "data": {
            "text/plain": [
              "<Figure size 576x576 with 1 Axes>"
            ],
            "image/png": "[encoded data removed]"
          },
          "metadata": {
            "needs_background": "light"
          }
        }
      ]
    },
    {
      "cell_type": "code",
      "source": [
        "z = np.zeros((100,3))\n",
        "n =10\n",
        "for i in range(100):\n",
        "  p = i/100  \n",
        "  C = np.multiply(np.ones((n,n)),np.random.normal(0,1,(n,n))<p)\n",
        "  U,s,V = np.linalg.svd(C)\n",
        "  z[i,0] = i\n",
        "  z[i,1] = p\n",
        "  z[i,2] = np.amax(s) -4.5\n",
        "\n",
        "plt.scatter(z[:,0], z[:,1],label=\"probability p\")\n",
        "plt.scatter(z[:,0], z[:,2],label=\"SVD max\")\n",
        "plt.legend()"
      ],
      "metadata": {
        "colab": {
          "base_uri": "https://localhost:8080/",
          "height": 500
        },
        "id": "I2IithaAbzt8",
        "outputId": "ecd0fecd-0460-4d84-9cf1-111d8843e5e6"
      },
      "execution_count": 129,
      "outputs": [
        {
          "output_type": "execute_result",
          "data": {
            "text/plain": [
              "<matplotlib.legend.Legend at 0x7f7a80640dd0>"
            ]
          },
          "metadata": {},
          "execution_count": 129
        },
        {
          "output_type": "display_data",
          "data": {
            "text/plain": [
              "<Figure size 576x576 with 1 Axes>"
            ],
            "image/png": "[encoded data removed]"
          },
          "metadata": {
            "needs_background": "light"
          }
        }
      ]
    },
    {
      "cell_type": "markdown",
      "source": [
        "10 Scipy  \n",
        "\n",
        "Exercise 10.1: Least squares  \n",
        "Generate matrix $A ∈ R^{m×n}$ with $m > n$. Also generate some vector $b ∈ R^m$.  \n",
        "Now find $$x = \\text{arg} \\min_{x} \\|Ax − b\\|_2$$.\n",
        "Print the norm of the residual.\n",
        "<!--- should it be superscript 2?--->\n"
      ],
      "metadata": {
        "id": "sdDT-BXCCJD8"
      }
    },
    {
      "cell_type": "code",
      "source": [
        "n = np.random.randint(1,20)\n",
        "A = np.random.normal(0,1,size=(n+1,n))\n",
        "b = np.random.normal(0,1,size=n+1)\n",
        "s = sp.linalg.lstsq(A,b)\n",
        "plt.plot(s)"
      ],
      "metadata": {
        "id": "ekeqszi5C2vi"
      },
      "execution_count": 6,
      "outputs": []
    },
    {
      "cell_type": "markdown",
      "source": [
        "Exercise 10.2: Optimization  \n",
        "Find the maximum of the function  \n",
        "$f(x) = sin^2(x − 2)e^{−x^2}$\n",
        "\n"
      ],
      "metadata": {
        "id": "9gaEPZdkCyba"
      }
    },
    {
      "cell_type": "code",
      "source": [
        "sp.optimize.maximize?"
      ],
      "metadata": {
        "id": "Hmomsv9_CyPi",
        "colab": {
          "base_uri": "https://localhost:8080/"
        },
        "outputId": "aa331dc2-2800-4090-bad9-4a391080e5b3"
      },
      "execution_count": 7,
      "outputs": [
        {
          "output_type": "stream",
          "name": "stdout",
          "text": [
            "Object `sp.optimize.maximize` not found.\n"
          ]
        }
      ]
    },
    {
      "cell_type": "code",
      "source": [
        "def f(x): \n",
        "  xexp = np.exp(-x**2)  #scipy.exp is deprecated, must use numpy.exp instead\n",
        "  xsin = np.sin(x-2)**2 #scipy.sin is deprecated, must use numpy.sin instead\n",
        "  return xsin*xexp\n",
        "fmax = sp.optimize.fmin(lambda x: -f(x), 0)\n",
        "print(fmax)"
      ],
      "metadata": {
        "id": "WHbndpvNi9IM",
        "colab": {
          "base_uri": "https://localhost:8080/"
        },
        "outputId": "eab58d96-466c-46e7-ff62-21de7636e4a2"
      },
      "execution_count": 18,
      "outputs": [
        {
          "output_type": "stream",
          "name": "stdout",
          "text": [
            "Optimization terminated successfully.\n",
            "         Current function value: -0.911685\n",
            "         Iterations: 20\n",
            "         Function evaluations: 40\n",
            "[0.21625]\n"
          ]
        }
      ]
    },
    {
      "cell_type": "markdown",
      "source": [
        "Exercise 10.3: Pairwise distances  \n",
        "Let $X$ be a matrix with $n$ rows and $m$ columns. How can you compute the pairwise distances between\n",
        "every two rows?  \n",
        "As an example application, consider n cities, and we are given their coordinates in two columns. Now\n",
        "we want a nice table that tells us for each two cities, how far they are apart.  \n",
        "Again, make sure you make use of Scipy’s functionality instead of writing your own routine."
      ],
      "metadata": {
        "id": "7o8EE5s6CyFL"
      }
    },
    {
      "cell_type": "code",
      "source": [
        "n,m = 15,5\n",
        "PX = np.random.randint(0,10,size=n*m).reshape(n,m)\n",
        "print(PX,'\\n')\n",
        "#scipy's built-in for pairwise distances\n",
        "d = sp.spatial.distance.pdist(PX)\n",
        "d"
      ],
      "metadata": {
        "id": "kdlVbcySCx5x",
        "colab": {
          "base_uri": "https://localhost:8080/"
        },
        "outputId": "0a10dc8f-223a-40b4-a0bf-08ffb62fab50"
      },
      "execution_count": 13,
      "outputs": [
        {
          "output_type": "stream",
          "name": "stdout",
          "text": [
            "(15, 5)\n"
          ]
        },
        {
          "output_type": "execute_result",
          "data": {
            "text/plain": [
              "array([ 2.64575131,  7.07106781, 13.        , 12.56980509,  7.93725393,\n",
              "        6.8556546 ,  8.1240384 ,  9.53939201, 10.77032961,  8.48528137,\n",
              "       11.53256259,  9.69535971,  6.8556546 ,  9.94987437,  6.8556546 ,\n",
              "       13.19090596, 12.28820573,  8.83176087,  8.        ,  8.42614977,\n",
              "        8.60232527, 11.78982612,  9.21954446, 11.04536102,  9.32737905,\n",
              "        8.60232527, 11.13552873, 12.60952021, 12.24744871, 10.72380529,\n",
              "       10.81665383,  6.78232998,  9.21954446, 10.29563014, 13.7113092 ,\n",
              "        9.53939201, 11.13552873, 11.87434209, 14.38749457,  6.70820393,\n",
              "        6.4807407 , 11.83215957,  8.18535277,  7.07106781,  6.08276253,\n",
              "       11.78982612,  6.        ,  9.53939201, 11.5758369 , 10.39230485,\n",
              "        7.68114575,  9.74679434,  7.74596669,  4.79583152, 10.86278049,\n",
              "       13.85640646,  5.91607978,  6.78232998, 13.37908816,  9.74679434,\n",
              "        6.78232998,  6.40312424,  6.78232998,  6.55743852,  7.        ,\n",
              "        8.36660027,  6.8556546 ,  6.4807407 ,  5.29150262,  9.43398113,\n",
              "        9.38083152, 11.61895004, 10.53565375, 10.48808848,  9.64365076,\n",
              "        7.21110255,  5.47722558,  5.91607978,  7.34846923, 11.22497216,\n",
              "        7.93725393,  5.83095189, 10.90871211, 10.72380529,  9.74679434,\n",
              "       11.35781669,  5.09901951,  5.38516481, 11.66190379, 10.29563014,\n",
              "       10.39230485,  8.77496439, 11.22497216,  9.11043358, 11.09053651,\n",
              "       13.74772708, 10.58300524,  6.08276253,  8.66025404,  9.94987437,\n",
              "       12.24744871, 11.74734012, 12.20655562,  9.53939201,  7.07106781])"
            ]
          },
          "metadata": {},
          "execution_count": 13
        }
      ]
    },
    {
      "cell_type": "markdown",
      "source": [
        "11 Matplotlib  \n",
        "\n",
        "Exercise 11.1: Plotting a function  \n",
        "Plot the function\n",
        "$f(x) = sin^2(x − 2)e^{−x^2}$\n",
        "over the interval [0, 2]. Add proper axis labels, a title, etc."
      ],
      "metadata": {
        "id": "JY6MAEivCxu9"
      }
    },
    {
      "cell_type": "code",
      "source": [
        "# red dashes, blue squares and green triangles\n",
        "#f(x) as before\n",
        "z = np.arange(0.0, 2.0, 0.02)\n",
        "plt.plot(z, f(z), 'r--')\n",
        "plt.xlabel('input')\n",
        "plt.ylabel('output')\n",
        "plt.suptitle('Strange Gaussian')\n",
        "plt.show()"
      ],
      "metadata": {
        "id": "wtT9NBw1CxcB",
        "colab": {
          "base_uri": "https://localhost:8080/",
          "height": 554
        },
        "outputId": "5b7c210b-ef91-42c8-b883-5054f42bc26a"
      },
      "execution_count": 128,
      "outputs": [
        {
          "output_type": "display_data",
          "data": {
            "text/plain": [
              "<Figure size 576x576 with 1 Axes>"
            ],
            "image/png": "[encoded data removed]"
          },
          "metadata": {
            "needs_background": "light"
          }
        }
      ]
    },
    {
      "cell_type": "markdown",
      "source": [
        "Exercise 11.2: Data  \n",
        "Create a data matrix $X$ with 20 observations of 10 variables. Generate a vector $b$ with parameters Then\n",
        "generate the response vector $y = Xb+z$ where $z$ is a vector with standard normally distributed variables.\n",
        "Now (by only using $y$ and $X$), find an estimator for $b$, by solving\n",
        "$$\\hat{b} = \\text{arg} \\min_{b} \\|Xb − y\\|^2$$\n",
        "Plot the true parameters $b$ and estimated parameters $\\hat{b}$. See Figure 1 for an example plot."
      ],
      "metadata": {
        "id": "VJDMoQ3aDEGw"
      }
    },
    {
      "cell_type": "markdown",
      "source": [
        "$xb=(X^TX)^{-1}$  \n",
        "$xy=X^Ty$  \n",
        "$\\hat{b}=xb\\cdot xy$  \n",
        "  \n",
        "Justified by the derivation that follows  \n",
        "$||Xb - y||^2_2 = (Xb - y)^T(Xb - y)  $  \n",
        "$\\hspace {47.5pt}   = (b^TX^T - y^T)(Xb - y)$  \n",
        "$\\hspace {47.5pt} = b^TX^TXb − b^TX^Ty − y^TXb + y^Ty$  \n",
        "$\\hspace {47.5pt} = b^TX^TXb − 2y^TXb + y^Ty $    \n",
        "\n",
        "Generally,  \n",
        "$\\hspace {17pt}∇_βa^Tβ = a$  \n",
        "$\\hspace {9pt}∇_ββ^TAβ = 2Aβ$  \n",
        "  \n",
        "Applying this yeilds  \n",
        "$∇_b||Xb - y||^2_2 = ∇_b(b^TX^TXb − 2y^TXb + y^Ty)$  \n",
        "$\\hspace {60pt}= ∇_bb^TAb − ∇_b2a^Tb + ∇_by^Ty$  \n",
        "$\\hspace {60pt}= 2Ab −2ab + 0$  \n",
        "$\\hspace {60pt}= 2X^TXb − 2X^Ty$  \n",
        "\n",
        "Finally, set to zero  \n",
        "$∇_b||Xb - y||^2_2 = 0$  \n",
        "$\\hspace {6pt}  \\implies  X^TXb = X^Ty $  \n",
        "$\\hspace {6pt} \\implies \\hspace {23pt} b = (X^TX)^{-1}X^Ty$"
      ],
      "metadata": {
        "id": "tGgIkZ4L7_zm"
      }
    },
    {
      "cell_type": "code",
      "source": [
        "def estfunc(X, y):\n",
        "  xb = np.linalg.inv(np.dot(X.T, X))\n",
        "  xy = np.dot(X.T, y) \n",
        "  return np.dot(xb, xy)  \n",
        "\n",
        "vert = np.arange(0.0, 10.0, 1.0)\n",
        "X = np.random.randint(-10,10,size=20*10).reshape(20,10)\n",
        "b = np.random.uniform(-2.0, 2.0, 10)\n",
        "z = np.random.normal(0.0,1.0,size=20)\n",
        "y = np.dot(X, b) + z\n",
        "b_hat = estfunc(X, y)\n",
        "\n",
        "\n",
        "plt.plot(vert, b, 'rx', label='True b')\n",
        "plt.plot(vert, b_hat, 'b.', label='Estimated b')\n",
        "plt.xlabel('index')\n",
        "plt.ylabel('value')\n",
        "plt.legend()\n",
        "plt.show()"
      ],
      "metadata": {
        "colab": {
          "base_uri": "https://localhost:8080/",
          "height": 497
        },
        "id": "2YZvu2PJL_EW",
        "outputId": "94846d60-602e-43b2-cbd5-97bbf3382ec5"
      },
      "execution_count": 127,
      "outputs": [
        {
          "output_type": "display_data",
          "data": {
            "text/plain": [
              "<Figure size 576x576 with 1 Axes>"
            ],
            "image/png": "[encoded data removed]"
          },
          "metadata": {
            "needs_background": "light"
          }
        }
      ]
    },
    {
      "cell_type": "code",
      "source": [
        "print(b,'\\n')\n",
        "print(b_hat)"
      ],
      "metadata": {
        "colab": {
          "base_uri": "https://localhost:8080/"
        },
        "id": "4r6Ei_n-cJzr",
        "outputId": "554e1088-95ab-49bc-c4a5-691a8393b200"
      },
      "execution_count": 82,
      "outputs": [
        {
          "output_type": "stream",
          "name": "stdout",
          "text": [
            "[ 0.11039558  1.76559347  0.14877024 -1.07811847  1.51052642  0.92953542\n",
            " -1.80690245 -1.55822699 -1.91709565  0.99782762] \n",
            "\n",
            "[ 0.1175532   1.7199263   0.1652755  -1.11903803  1.47911215  1.0449345\n",
            " -1.94639729 -1.60694752 -2.06281188  0.9040246 ]\n"
          ]
        }
      ]
    },
    {
      "cell_type": "markdown",
      "source": [
        "\n",
        "Exercise 11.3: Histogram and density estimation  \n",
        "Generate a vector $z$ of 10000 observations from your favorite exotic distribution. Then make a plot that\n",
        "shows a histogram of $z$ (with 25 bins), along with an estimate for the density, using a Gaussian kernel\n",
        "density estimator (see scipy.stats). See Figure 2 for an example plot.\n"
      ],
      "metadata": {
        "id": "qlw4Dfh9CsOn"
      }
    },
    {
      "cell_type": "code",
      "source": [
        "#scipy.stats.describe(a, axis=0, ddof=1, bias=True, nan_policy='propagate') --> numobs, minmax, mean, varieance, skew, kurtosis\n",
        "#"
      ],
      "metadata": {
        "id": "yIwF-xnFDFwI"
      },
      "execution_count": null,
      "outputs": []
    },
    {
      "cell_type": "code",
      "source": [
        "from scipy.stats import chi2\n",
        "from scipy.stats import gaussian_kde as gkde\n",
        "#from matplotlib.pyplot import figure\n",
        "#figure(figsize=(28, 6), dpi=80)\n",
        "plt.rcParams[\"figure.figsize\"] = (8,8)\n",
        "fig, ax = plt.subplots(1, 1)\n",
        "\n",
        "#Calculate the first four moments:\n",
        "\n",
        "df = 10000\n",
        "mean, var, skew, kurt = chi2.stats(df, moments='mvsk')\n",
        "\n",
        "#Display the probability density function (pdf):\n",
        "\n",
        "x = np.linspace(chi2.ppf(0.01, df),\n",
        "                chi2.ppf(0.99, df), 100)\n",
        "ax.plot(x, chi2.pdf(x, df),\n",
        "       'r.', lw=2, alpha=0.6, label='chi2 pdf')\n",
        "\n",
        "#Alternatively, the distribution object can be called (as a function) to fix the shape, location and scale parameters. \n",
        "#This returns a “frozen” RV object holding the given parameters fixed. Freeze the distribution and display the frozen pdf:\n",
        "\n",
        "rv = chi2(df)\n",
        "ax.plot(x, rv.pdf(x), 'k-', lw=1, label='frozen pdf')\n",
        "gkd = gkde(x)\n",
        "ax.plot(x, gkd.evaluate(x), 'bx', lw=1, label='gaussian kde')\n",
        "#Check accuracy of cdf and ppf:\n",
        "\n",
        "vals = chi2.ppf([0.001, 0.5, 0.999], df)\n",
        "np.allclose([0.001, 0.5, 0.999], chi2.cdf(vals, df))\n",
        "vals\n",
        "\n",
        "#Generate random numbers:\n",
        "\n",
        "r = chi2.rvs(df, size=1000)\n",
        "\n",
        "#And compare the histogram:\n",
        "\n",
        "ax.hist(r, bins=25, density=True, histtype='stepfilled', alpha=0.2)\n",
        "ax.legend(loc='best', frameon=False)\n",
        "plt.show()\n"
      ],
      "metadata": {
        "colab": {
          "base_uri": "https://localhost:8080/",
          "height": 483
        },
        "id": "w4b-2QdvKPYK",
        "outputId": "07e398b7-dd4e-496c-f610-aef6112a9bf4"
      },
      "execution_count": 126,
      "outputs": [
        {
          "output_type": "display_data",
          "data": {
            "text/plain": [
              "<Figure size 576x576 with 1 Axes>"
            ],
            "image/png": "[encoded data removed]"
          },
          "metadata": {
            "needs_background": "light"
          }
        }
      ]
    }
  ]
}