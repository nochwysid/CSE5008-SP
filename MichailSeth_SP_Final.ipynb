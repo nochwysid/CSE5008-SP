{
  "nbformat": 4,
  "nbformat_minor": 0,
  "metadata": {
    "colab": {
      "name": "MichailSeth_SP_Final.ipynb",
      "provenance": [],
      "collapsed_sections": [],
      "authorship_tag": "ABX9TyP68JUd2h3yKwTa6zSstGbh",
      "include_colab_link": true
    },
    "kernelspec": {
      "name": "python3",
      "display_name": "Python 3"
    },
    "language_info": {
      "name": "python"
    },
    "accelerator": "GPU"
  },
  "cells": [
    {
      "cell_type": "markdown",
      "metadata": {
        "id": "view-in-github",
        "colab_type": "text"
      },
      "source": [
        "<a href=\"https://colab.research.google.com/github/nochwysid/CSE5008-SP/blob/main/MichailSeth_SP_Final.ipynb\" target=\"_parent\"><img src=\"https://colab.research.google.com/assets/colab-badge.svg\" alt=\"Open In Colab\"/></a>"
      ]
    },
    {
      "cell_type": "code",
      "source": [
        "import pandas as pd\n",
        "import numpy as np\n",
        "import matplotlib.pyplot as plt\n",
        "from sklearn import linear_model\n",
        "#set options here\n",
        "pd.set_option(\"display.max_rows\", 15)\n",
        "pd.set_option(\"display.precision\", 5)\n",
        "pd.set_option(\"expand_frame_repr\", True)"
      ],
      "metadata": {
        "id": "CEy76VevJJaA"
      },
      "execution_count": 2,
      "outputs": []
    },
    {
      "cell_type": "markdown",
      "source": [
        "Question 1 (15pts)\n",
        "```python\n",
        "data={'Area':['Array','Stack','Queue'],'Student1':[20,6,19],'Student2':[4,20,14]}\n",
        "df = pd.DataFrame(data, index =['Cat_1', 'Cat_2', 'Cat_3'])\n",
        "```\n",
        "Above is a code segment that creates a DataFrame from a dict of lists. Write a code segment to create the same dataframe from a list of lists (i.e. appropriately create the variables data and df).\n"
      ],
      "metadata": {
        "id": "9HzYmSji-H1U"
      }
    },
    {
      "cell_type": "code",
      "source": [
        "data=[['Array',20,4],['Stack',6,20],['Queue',19,14]]\n",
        "df1 = pd.DataFrame(data, index =['Cat_1', 'Cat_2', 'Cat_3'],columns={'Area','Student1','Student2'})\n",
        "print(df1)"
      ],
      "metadata": {
        "colab": {
          "base_uri": "https://localhost:8080/"
        },
        "id": "k1AzqoUBRJ4e",
        "outputId": "891ad1b5-0a73-4e22-9b4c-fcb2ec103737"
      },
      "execution_count": 8,
      "outputs": [
        {
          "output_type": "stream",
          "name": "stdout",
          "text": [
            "      Student1  Student2  Area\n",
            "Cat_1    Array        20     4\n",
            "Cat_2    Stack         6    20\n",
            "Cat_3    Queue        19    14\n"
          ]
        }
      ]
    },
    {
      "cell_type": "markdown",
      "source": [
        "Question 2 (10pts) What is the output of the code segment below?\n",
        "```python\n",
        "d = {'one': pd.Series([1,2], index = ['a','e']),\n",
        "     'two': pd.Series(list(range(4)), \n",
        "     index = ['a','b', 'c', 'd'])}\n",
        "df = pd.DataFrame(d, index = ['d', 'b', 'a'])\n",
        "print(df)\n",
        "```"
      ],
      "metadata": {
        "id": "hE5jl7o2-D5x"
      }
    },
    {
      "cell_type": "code",
      "source": [
        "d = {'one': pd.Series([1,2], index = ['a','e']),\n",
        "     'two': pd.Series(list(range(4)), \n",
        "      index = ['a','b', 'c', 'd'])}\n",
        "df2 = pd.DataFrame(d, index = ['d', 'b', 'a'])\n",
        "print(df2)"
      ],
      "metadata": {
        "colab": {
          "base_uri": "https://localhost:8080/"
        },
        "id": "eT94cv9e-ETH",
        "outputId": "65389a7e-3ffb-405c-f864-fffbfa08a659"
      },
      "execution_count": 10,
      "outputs": [
        {
          "output_type": "stream",
          "name": "stdout",
          "text": [
            "   one  two\n",
            "d  NaN    3\n",
            "b  NaN    1\n",
            "a  1.0    0\n"
          ]
        }
      ]
    },
    {
      "cell_type": "markdown",
      "source": [
        "Question 3 (10pts)\n",
        "```python\n",
        "dates = pd.date_range('1/1/2000', periods=8)\n",
        "df = pd.DataFrame(np.random.randn(8, 4), index=dates, columns=['A', 'B', 'C','D'])\n",
        "```\n",
        "Write a code segment that prints last two rows of df that statisfy column A + column B > column C.\n",
        "\n"
      ],
      "metadata": {
        "id": "gSBSyW7e-EpJ"
      }
    },
    {
      "cell_type": "code",
      "source": [
        "dates = pd.date_range('1/1/2000', periods=8)\n",
        "df = pd.DataFrame(np.random.randn(8, 4), index=dates, columns=['A', 'B', 'C','D'])\n",
        "df3 = df[df['A']+df['B']>df['C']]\n",
        "print(df3[:2])"
      ],
      "metadata": {
        "colab": {
          "base_uri": "https://localhost:8080/"
        },
        "id": "2hkYeNh7-E-4",
        "outputId": "feaaefba-e0e9-481c-ff93-925599e10556"
      },
      "execution_count": 15,
      "outputs": [
        {
          "output_type": "stream",
          "name": "stdout",
          "text": [
            "                  A        B        C        D\n",
            "2000-01-01  1.31348 -0.64961 -0.25820 -2.44112\n",
            "2000-01-02 -0.56842  0.30632 -2.45964 -0.19154\n"
          ]
        }
      ]
    },
    {
      "cell_type": "markdown",
      "source": [
        "Question 4 (15pts)\n",
        "```python\n",
        "df=pd.DataFrame({'Date':['1/2/2011','1/3/2011','1/4/2011','1/5/2011', '1/6/2011'],\n",
        "                 'Event': ['Music', 'Poetry', 'Music', 'Music', 'Poetry']})\n",
        "```\n",
        "Write a single line of code to add a new column called ‘Price’ to the dataframe df. Set the price to 1500 if the ‘Event’ is ‘Music’ else 800.\n",
        "\n"
      ],
      "metadata": {
        "id": "5bvQGmNc-FSc"
      }
    },
    {
      "cell_type": "code",
      "source": [
        "df4 = pd.DataFrame({'Date':['1/2/2011','1/3/2011','1/4/2011','1/5/2011', '1/6/2011'],\n",
        "                 'Event': ['Music', 'Poetry', 'Music', 'Music', 'Poetry']})\n",
        "df4['Price'] =  np.where(df4['Event']=='Music',1500, 800)\n",
        "print(df4)"
      ],
      "metadata": {
        "colab": {
          "base_uri": "https://localhost:8080/"
        },
        "id": "s-NxrGM1-FnR",
        "outputId": "baac2393-96cc-4dc5-b38d-7fac561de1aa"
      },
      "execution_count": 35,
      "outputs": [
        {
          "output_type": "stream",
          "name": "stdout",
          "text": [
            "       Date   Event  Price\n",
            "0  1/2/2011   Music   1500\n",
            "1  1/3/2011  Poetry    800\n",
            "2  1/4/2011   Music   1500\n",
            "3  1/5/2011   Music   1500\n",
            "4  1/6/2011  Poetry    800\n"
          ]
        }
      ]
    },
    {
      "cell_type": "markdown",
      "source": [
        "Question 5 (15pts)\n",
        "```python\n",
        "record = {'Name': ['Ankit', 'Amit', 'Aishwarya', 'Priyanka', 'Priya', 'Shaurya' ],\n",
        "          'Age': [21, 19, 20, 18, 17, 21], \n",
        "          'Percent': [88, 92, 95, 70, 65, 78],\n",
        "          'Stream': ['Math', 'Commerce', 'Science', 'Math', 'Math', 'Science']}\n",
        "dataframe = pd.DataFrame(record,columns=['Name','Age','Stream','Percent'])\n",
        "```\n",
        "Write a code segment to select all the rows from the given dataframe in which ‘Age’ is equal to 21 and ‘Stream’ is either Science or Math using .loc[].\n"
      ],
      "metadata": {
        "id": "yNlc-Z2I-F84"
      }
    },
    {
      "cell_type": "code",
      "source": [
        "record = {'Name': ['Ankit', 'Amit', 'Aishwarya', 'Priyanka', 'Priya', 'Shaurya' ],\n",
        "          'Age': [21, 19, 20, 18, 17, 21], \n",
        "          'Percent': [88, 92, 95, 70, 65, 78],\n",
        "          'Stream': ['Math', 'Commerce', 'Science', 'Math', 'Math', 'Science']}\n",
        "tdf = pd.DataFrame(record,columns=['Name','Age','Stream','Percent'])\n",
        "df5 = np.where(tdf.loc[21,'Age'] and tdf.loc['Science'] or tdf.loc['Math'])"
      ],
      "metadata": {
        "id": "aV6Xz676-GR5"
      },
      "execution_count": null,
      "outputs": []
    },
    {
      "cell_type": "markdown",
      "source": [
        "Question 6 (20pts)\n",
        "```python\n",
        "df = pd.read_csv('link_to_abalone.data',header=None,names=['sex','length',\n",
        "                 'diameter','height','weight','shucked_weight',\n",
        "                 'viscera_weight','shell_weight','rings'])\n",
        "X = df[['length']].to_numpy()\n",
        "y = df['rings'].to_numpy()\n",
        "from sklearn import linear_model\n",
        "model = linear_model.LinearRegression()\n",
        "model.fit(X, y)\n",
        "```\n",
        "Above is an example of training a regression model predicting the age of an abalone given its length feature. Modify this code segment to train a new regression model using 'diameter', 'viscera_weight' and 'diameter'$^2$/'viscera_weight' (i.e. 'diameter' squared divided by 'viscera_weight') as additional features.\n",
        "\n"
      ],
      "metadata": {
        "id": "VjYjCnVm-JhG"
      }
    },
    {
      "cell_type": "code",
      "source": [
        "\n",
        "df6 = pd.read_csv('http://archive.ics.uci.edu/ml/machine-learning-databases/abalone/abalone.data',\n",
        "                  header=None,names=['sex','length',\n",
        "                 'diameter','height','weight','shucked_weight',\n",
        "                 'viscera_weight','shell_weight','rings'])\n",
        "df6['sqr_dia'] = df6['diameter']*df6['diameter']\n",
        "df6['sdvw'] = df6['sqr_dia']/df6['viscera_weight']\n",
        "X = df6[['length','diameter','sqr_dia','sdvw']].to_numpy()\n",
        "y = df6['rings'].to_numpy()\n",
        "from sklearn import linear_model\n",
        "model = linear_model.LinearRegression()\n",
        "model.fit(X, y)\n"
      ],
      "metadata": {
        "colab": {
          "base_uri": "https://localhost:8080/"
        },
        "id": "1EKFBaqz-J4l",
        "outputId": "0490d3b3-5bd9-414a-f6f5-0fe3ce888c8f"
      },
      "execution_count": 20,
      "outputs": [
        {
          "output_type": "execute_result",
          "data": {
            "text/plain": [
              "LinearRegression()"
            ]
          },
          "metadata": {},
          "execution_count": 20
        }
      ]
    },
    {
      "cell_type": "code",
      "source": [
        "print(model.coef_, model.intercept_)\n",
        "print(model.score(X, y))\n"
      ],
      "metadata": {
        "colab": {
          "base_uri": "https://localhost:8080/"
        },
        "id": "nnMmOiCHYC-x",
        "outputId": "84d8e002-cf24-4bab-d452-69b5f305452a"
      },
      "execution_count": 23,
      "outputs": [
        {
          "output_type": "stream",
          "name": "stdout",
          "text": [
            "[-12.3479202   47.5948637  -19.06787891  -0.06187404] 0.424465962511988\n",
            "0.3404192978206436\n"
          ]
        }
      ]
    },
    {
      "cell_type": "markdown",
      "source": [
        "Question 7 (15pts)\n",
        "```python\n",
        "import torch\n",
        "# Features are 3 random normal variables\n",
        "features = torch.randn((1, 3))\n",
        "# Define the size of each layer in our network\n",
        "# Number of input units, must match number of input features\n",
        "n_input = features.shape[1]\n",
        "n_hidden = 2 # Number of hidden units\n",
        "n_output = 1 # Number of output units\n",
        "# Weights for inputs to hidden layer\n",
        "W1 = torch.randn(n_input, n_hidden)\n",
        "# Weights for hidden layer to output layer\n",
        "W2 = torch.randn(n_hidden, n_output)\n",
        "# calculate the output for this multi-layer network using the weights W1 & W2.\n",
        "h = activation(torch.mm(features, W1))\n",
        "output = activation(torch.mm(h, W2))\n",
        "print(output)\n",
        "```\n",
        "Above is a code segment for constructing a neural network with a single hidden layer with 2 hidden units and an output layer with a single unit is given below. The parameters (Wi) are initialized randomly. Modify this code segment to add another hidden layer with 5 hidden units and also, to supply random biases (Bi) to the output computation for every unit."
      ],
      "metadata": {
        "id": "4kWRR8hZIa27"
      }
    },
    {
      "cell_type": "code",
      "source": [
        "import torch\n",
        "# Features are 3 random normal variables\n",
        "features = torch.randn((1, 3))\n",
        "# Define the size of each layer in our network\n",
        "# Number of input units, must match number of input features\n",
        "n_input = features.shape[1]\n",
        "n_hidden1 = 2 # Number of hidden units\n",
        "n_hidden2 = 5\n",
        "n_output = 1 # Number of output units\n",
        "# Weights for inputs to hidden layer\n",
        "W1 = torch.randn(n_input, n_hidden1)\n",
        "#should be same direction and shape as layer, because W dot input plus bias\n",
        "bias1 = torch.randn(1, n_hidden1)\n",
        "W2 = torch.randn(n_hidden1, n_hidden2)\n",
        "bias2 = torch.randn(1, n_hidden2)\n",
        "# Weights for hidden layer to output layer\n",
        "W3 = torch.randn(n_hidden2, n_output)\n",
        "\n",
        "# calculate the output for this multi-layer network using the weights W1 & W2.\n",
        "#h1 = activation(torch.mm(features, W1)) # doesn't work, 'activation' not recognized\n",
        "h1 = torch.nn.ReLU(torch.mm(features, W1)+bias1)\n",
        "h2 = torch.nn.ReLU(torch.mm(h1, W2)+bias2)\n",
        "output = torch.nn.HardSigmoid(torch.mm(h2, W3))\n",
        "print(output)"
      ],
      "metadata": {
        "id": "U1Mfi7kaIbNe"
      },
      "execution_count": null,
      "outputs": []
    },
    {
      "cell_type": "code",
      "source": [
        "model = torch.nn.Sequential(\n",
        "    torch.nn.Linear(3, 2),\n",
        "    torch.nn.ReLU(),\n",
        "    torch.nn.Linear(2, 5),\n",
        "    torch.nn.ReLU(),\n",
        "    torch.nn.Linear(5, 1),\n",
        ")\n",
        "optimizer = torch.optim.Adam(model.parameters(), lr=0.0123)\n",
        "loss_fn = torch.nn.CrossEntropyLoss()\n",
        "y = model(features)\n",
        "yt = ground_truth\n",
        "loss = loss_fn(y,yt)\n",
        "loss.backward()\n",
        "\n",
        "optimizer.step()\n",
        "optimizer.zero_grad()\n",
        "...\n",
        "or something like that"
      ],
      "metadata": {
        "id": "KaJdEAswaCle"
      },
      "execution_count": null,
      "outputs": []
    }
  ]
}