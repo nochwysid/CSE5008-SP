{
  "nbformat": 4,
  "nbformat_minor": 0,
  "metadata": {
    "colab": {
      "name": "Tips_Tricks_and_Extras.ipynb",
      "provenance": [],
      "collapsed_sections": [],
      "authorship_tag": "ABX9TyPPkq6x0M1UrpavcZTBKuuk",
      "include_colab_link": true
    },
    "kernelspec": {
      "name": "python3",
      "display_name": "Python 3"
    },
    "language_info": {
      "name": "python"
    }
  },
  "cells": [
    {
      "cell_type": "markdown",
      "metadata": {
        "id": "view-in-github",
        "colab_type": "text"
      },
      "source": [
        "<a href=\"https://colab.research.google.com/github/nochwysid/CSE5008-SP/blob/main/Tips_Tricks_and_Extras.ipynb\" target=\"_parent\"><img src=\"https://colab.research.google.com/assets/colab-badge.svg\" alt=\"Open In Colab\"/></a>"
      ]
    },
    {
      "cell_type": "code",
      "execution_count": null,
      "metadata": {
        "id": "JTSrojsI7g0e"
      },
      "outputs": [],
      "source": [
        "import numpy as np\n",
        "import numpy.random as rnd\n",
        "np.set_printoptions(precision=4, linewidth=199)\n",
        "import scipy as sp\n",
        "import matplotlib.pyplot as plt"
      ]
    },
    {
      "cell_type": "markdown",
      "source": [
        "[Numpy row_stack](https://numpy.org/devdocs/reference/generated/numpy.row_stack.html?highlight=row_stack#numpy.row_stack)  \n",
        "\n",
        "[Numpy LinAlg](https://numpy.org/doc/stable/reference/routines.linalg.html)"
      ],
      "metadata": {
        "id": "8xRXc9pzflOU"
      }
    },
    {
      "cell_type": "code",
      "source": [
        "x = np.arange(10)\n",
        "x"
      ],
      "metadata": {
        "colab": {
          "base_uri": "https://localhost:8080/"
        },
        "id": "JVHKT73Y-wtE",
        "outputId": "e65042d4-61c4-4d03-cb42-20115c9748fd"
      },
      "execution_count": null,
      "outputs": [
        {
          "output_type": "execute_result",
          "data": {
            "text/plain": [
              "array([0, 1, 2, 3, 4, 5, 6, 7, 8, 9])"
            ]
          },
          "metadata": {},
          "execution_count": 2
        }
      ]
    },
    {
      "cell_type": "code",
      "source": [
        "# 2 to 4, not 5\n",
        "x[2:5]"
      ],
      "metadata": {
        "colab": {
          "base_uri": "https://localhost:8080/"
        },
        "id": "8hpLA-xp-wXG",
        "outputId": "86dc7764-1f86-4aa8-8848-3cf1aeeb7490"
      },
      "execution_count": null,
      "outputs": [
        {
          "output_type": "execute_result",
          "data": {
            "text/plain": [
              "array([2, 3, 4])"
            ]
          },
          "metadata": {},
          "execution_count": 3
        }
      ]
    },
    {
      "cell_type": "code",
      "source": [
        "#all but last 7\n",
        "x[:-7]"
      ],
      "metadata": {
        "colab": {
          "base_uri": "https://localhost:8080/"
        },
        "id": "Vp22JqUi-wpr",
        "outputId": "dd9ebdc3-b8e5-43ed-c94e-0f1bc0a4fbea"
      },
      "execution_count": null,
      "outputs": [
        {
          "output_type": "execute_result",
          "data": {
            "text/plain": [
              "array([0, 1, 2])"
            ]
          },
          "metadata": {},
          "execution_count": 4
        }
      ]
    },
    {
      "cell_type": "code",
      "source": [
        "#x[start:stop:skip]\n",
        "x[1:7:2]"
      ],
      "metadata": {
        "colab": {
          "base_uri": "https://localhost:8080/"
        },
        "id": "y5zCpiO0-wmX",
        "outputId": "c4e11d70-dfe4-4903-ed2c-1a67e492cf45"
      },
      "execution_count": null,
      "outputs": [
        {
          "output_type": "execute_result",
          "data": {
            "text/plain": [
              "array([1, 3, 5])"
            ]
          },
          "metadata": {},
          "execution_count": 5
        }
      ]
    },
    {
      "cell_type": "code",
      "source": [
        "y = np.arange(35).reshape(5,7)\n",
        "y"
      ],
      "metadata": {
        "colab": {
          "base_uri": "https://localhost:8080/"
        },
        "id": "cR6dKzlH-weh",
        "outputId": "729924ea-7a2f-48ba-ce63-68c9241fc6b8"
      },
      "execution_count": null,
      "outputs": [
        {
          "output_type": "execute_result",
          "data": {
            "text/plain": [
              "array([[ 0,  1,  2,  3,  4,  5,  6],\n",
              "       [ 7,  8,  9, 10, 11, 12, 13],\n",
              "       [14, 15, 16, 17, 18, 19, 20],\n",
              "       [21, 22, 23, 24, 25, 26, 27],\n",
              "       [28, 29, 30, 31, 32, 33, 34]])"
            ]
          },
          "metadata": {},
          "execution_count": 6
        }
      ]
    },
    {
      "cell_type": "code",
      "source": [
        "y[1:5:2,::3]"
      ],
      "metadata": {
        "colab": {
          "base_uri": "https://localhost:8080/"
        },
        "id": "nIkv_JRq-wTR",
        "outputId": "c5b9a646-fd1a-4b44-b32b-7073f76791cf"
      },
      "execution_count": null,
      "outputs": [
        {
          "output_type": "execute_result",
          "data": {
            "text/plain": [
              "array([[ 7, 10, 13],\n",
              "       [21, 24, 27]])"
            ]
          },
          "metadata": {},
          "execution_count": 7
        }
      ]
    },
    {
      "cell_type": "code",
      "source": [
        "y[1:5:1,::2]"
      ],
      "metadata": {
        "colab": {
          "base_uri": "https://localhost:8080/"
        },
        "id": "f6TMtIcqDgWB",
        "outputId": "1ff8ad17-9ad6-42cc-d20c-59d59ec0ef01"
      },
      "execution_count": null,
      "outputs": [
        {
          "output_type": "execute_result",
          "data": {
            "text/plain": [
              "array([[ 7,  9, 11, 13],\n",
              "       [14, 16, 18, 20],\n",
              "       [21, 23, 25, 27],\n",
              "       [28, 30, 32, 34]])"
            ]
          },
          "metadata": {},
          "execution_count": 8
        }
      ]
    },
    {
      "cell_type": "code",
      "source": [
        "z = np.zeros((7,7))\n",
        "#using an array for indexing\n",
        "idx = np.arange(1,7)\n",
        "idx = np.array([1,2,4,6])\n",
        "z[idx,idx-1] = 0.6\n",
        "z\n"
      ],
      "metadata": {
        "id": "9U0mpFM-E-_b",
        "colab": {
          "base_uri": "https://localhost:8080/"
        },
        "outputId": "a141d93d-984c-4b87-b458-7e0ddc7aeb9f"
      },
      "execution_count": null,
      "outputs": [
        {
          "output_type": "execute_result",
          "data": {
            "text/plain": [
              "array([[0. , 0. , 0. , 0. , 0. , 0. , 0. ],\n",
              "       [0.6, 0. , 0. , 0. , 0. , 0. , 0. ],\n",
              "       [0. , 0.6, 0. , 0. , 0. , 0. , 0. ],\n",
              "       [0. , 0. , 0. , 0. , 0. , 0. , 0. ],\n",
              "       [0. , 0. , 0. , 0.6, 0. , 0. , 0. ],\n",
              "       [0. , 0. , 0. , 0. , 0. , 0. , 0. ],\n",
              "       [0. , 0. , 0. , 0. , 0. , 0.6, 0. ]])"
            ]
          },
          "metadata": {},
          "execution_count": 22
        }
      ]
    },
    {
      "cell_type": "code",
      "source": [
        "def transition_matrix(n):\n",
        "    \"\"\"look at all the thing needed to get this fancy matrix\"\"\"\n",
        "    mc = np.zeros((n,n))\n",
        "    m = np.arange(1,n)\n",
        "    mc[m,m-1] = 0.6\n",
        "    mc[m-1,m] = 0.3\n",
        "    mc[0,0] = 0.3\n",
        "    mc[0,:] += 0.1\n",
        "    mc[0,n-1] = 0\n",
        "    mc[n-1,n-1] = 1\n",
        "    mc[n-2,n-1] = 0\n",
        "    \n",
        "    return mc\n",
        "tm = transition_matrix(10)\n",
        "tm"
      ],
      "metadata": {
        "colab": {
          "base_uri": "https://localhost:8080/"
        },
        "id": "juasU6AmqcXi",
        "outputId": "f6300db8-cd4d-43ce-a201-f5d382f1d894"
      },
      "execution_count": null,
      "outputs": [
        {
          "output_type": "execute_result",
          "data": {
            "text/plain": [
              "array([[0.4, 0.4, 0.1, 0.1, 0.1, 0.1, 0.1, 0.1, 0.1, 0. ],\n",
              "       [0.6, 0. , 0.3, 0. , 0. , 0. , 0. , 0. , 0. , 0. ],\n",
              "       [0. , 0.6, 0. , 0.3, 0. , 0. , 0. , 0. , 0. , 0. ],\n",
              "       [0. , 0. , 0.6, 0. , 0.3, 0. , 0. , 0. , 0. , 0. ],\n",
              "       [0. , 0. , 0. , 0.6, 0. , 0.3, 0. , 0. , 0. , 0. ],\n",
              "       [0. , 0. , 0. , 0. , 0.6, 0. , 0.3, 0. , 0. , 0. ],\n",
              "       [0. , 0. , 0. , 0. , 0. , 0.6, 0. , 0.3, 0. , 0. ],\n",
              "       [0. , 0. , 0. , 0. , 0. , 0. , 0.6, 0. , 0.3, 0. ],\n",
              "       [0. , 0. , 0. , 0. , 0. , 0. , 0. , 0.6, 0. , 0. ],\n",
              "       [0. , 0. , 0. , 0. , 0. , 0. , 0. , 0. , 0.6, 1. ]])"
            ]
          },
          "metadata": {},
          "execution_count": 19
        }
      ]
    },
    {
      "cell_type": "code",
      "source": [
        "print(tm)"
      ],
      "metadata": {
        "colab": {
          "base_uri": "https://localhost:8080/"
        },
        "id": "lLM_C0NdqgHe",
        "outputId": "44ea117b-cf00-427b-98e3-4ed682debf8d"
      },
      "execution_count": null,
      "outputs": [
        {
          "output_type": "stream",
          "name": "stdout",
          "text": [
            "[[0.4 0.4 0.1 0.1 0.1 0.1 0.1 0.1 0.1 0. ]\n",
            " [0.6 0.  0.3 0.  0.  0.  0.  0.  0.  0. ]\n",
            " [0.  0.6 0.  0.3 0.  0.  0.  0.  0.  0. ]\n",
            " [0.  0.  0.6 0.  0.3 0.  0.  0.  0.  0. ]\n",
            " [0.  0.  0.  0.6 0.  0.3 0.  0.  0.  0. ]\n",
            " [0.  0.  0.  0.  0.6 0.  0.3 0.  0.  0. ]\n",
            " [0.  0.  0.  0.  0.  0.6 0.  0.3 0.  0. ]\n",
            " [0.  0.  0.  0.  0.  0.  0.6 0.  0.3 0. ]\n",
            " [0.  0.  0.  0.  0.  0.  0.  0.6 0.  0. ]\n",
            " [0.  0.  0.  0.  0.  0.  0.  0.  0.6 1. ]]\n"
          ]
        }
      ]
    },
    {
      "cell_type": "code",
      "source": [
        "def cube(x):\n",
        "  \"\"\"DocString provides info about a func by calling 'help(funcname)', i.e. 'help(cube)' will retrun this docstring\"\"\"\n",
        "  cube = lambda x: x*x*x\n",
        "  return cube\n",
        "print (cube(3))\n",
        "help(cube)"
      ],
      "metadata": {
        "id": "w3Mt-yx3jgbY"
      },
      "execution_count": null,
      "outputs": []
    },
    {
      "cell_type": "code",
      "source": [
        "def funk(x, a=1, b=3):\n",
        "  \"\"\"having defaults specified, basically, allows 3 funks in one\"\"\"\n",
        "  return x + a - b\n",
        "\n",
        "print (funk(2) )# 0\n",
        "print (funk(5, 2)) # 4\n",
        "print (funk(3, b=0)) # 4"
      ],
      "metadata": {
        "id": "_Gt7F5XakY8j"
      },
      "execution_count": null,
      "outputs": []
    },
    {
      "cell_type": "code",
      "source": [
        "def function1(x):\n",
        "  def function2(y):\n",
        "    print y + 2\n",
        "    return y + 2\n",
        "  return 3 * function2(x)\n",
        "a = function1(2) # 4\n",
        "print (a) # 12\n",
        "b = function2(2.5) # error: undefined name"
      ],
      "metadata": {
        "id": "VtzPWHKPlpq4"
      },
      "execution_count": null,
      "outputs": []
    },
    {
      "cell_type": "code",
      "source": [
        "def f1():\n",
        "  \"\"\"DocString for f1, callable everywhere after definition\"\"\"\n",
        "  def f2():\n",
        "    \"\"\"DocString for f2, callable only inside f1\"\"\"\n",
        "    pass\n",
        "  help(f2)\n",
        "help(f1)\n"
      ],
      "metadata": {
        "id": "MhsxoWBYmVdP"
      },
      "execution_count": null,
      "outputs": []
    },
    {
      "cell_type": "code",
      "source": [
        "len(xs)\n",
        "xs.append(x)\n",
        "xs.count(x)\n",
        "xs.insert(i, x)\n",
        "xs.sort() \n",
        "# and \n",
        "sorted(xs)#: what’s the difference?\n",
        "xs.remove(x)\n",
        "xs.pop()\n",
        "# or \n",
        "xs.pop(i)\n",
        "x in xs\n",
        "dir([])"
      ],
      "metadata": {
        "id": "h2HIJXcXoIHg"
      },
      "execution_count": null,
      "outputs": []
    },
    {
      "cell_type": "code",
      "source": [
        "\"\"\"loop over both element and index at the same time.\"\"\"\n",
        "myList = [1, 2, 4]\n",
        "for index, elem in enumerate(myList):\n",
        "  print( \"{0} {1}\".format(index, elem))\n",
        "# 0) 1\n",
        "# 1) 2\n",
        "# 2) 4\n",
        "\n",
        "\"\"\" apply a function to all elements of a list using map\"\"\"\n",
        "l = range(4)\n",
        "print (map(lambda x: x*x*x, l))\n",
        "# [0, 1, 8, 27]\n",
        "\n",
        "\"\"\"to filter elements of a list \"\"\"\n",
        "l = range(8)\n",
        "print( filter(lambda x: x % 2 == 0, l))\n",
        "# [0, 2, 4, 6]\n",
        "\n",
        "\"\"\"list comprehensions are often more readable and concise than using map or filter\"\"\"\n",
        "print( [i**2 for i in range(5)])\n",
        "# [0, 1, 4, 9, 16]\n",
        "ints = [1, 3, 10]\n",
        "[i * 2 for i in ints]\n",
        "# [2, 6, 20]\n",
        "[[i, j] for i in ints for j in ints if i != j]\n",
        "# [[1, 3], [1, 10], [3, 1], [3, 10], [10, 1], [10, 3]]\n",
        "[(x, y) for x in range(3) for y in range(x+1)]"
      ],
      "metadata": {
        "colab": {
          "base_uri": "https://localhost:8080/"
        },
        "id": "ImZUGvzloyzE",
        "outputId": "f5443c82-c514-4013-c30e-4125ed355ed0"
      },
      "execution_count": null,
      "outputs": [
        {
          "output_type": "stream",
          "name": "stdout",
          "text": [
            "0 1\n",
            "1 2\n",
            "2 4\n",
            "<map object at 0x7f1db9942d50>\n",
            "<filter object at 0x7f1db9942b10>\n",
            "[0, 1, 4, 9, 16]\n"
          ]
        },
        {
          "output_type": "execute_result",
          "data": {
            "text/plain": [
              "[(0, 0), (1, 0), (1, 1), (2, 0), (2, 1), (2, 2)]"
            ]
          },
          "metadata": {},
          "execution_count": 18
        }
      ]
    },
    {
      "cell_type": "code",
      "source": [
        "#subplot(rows,cols,1<num<rows*cols)\n",
        "plt.subplot(3, 1, 2)"
      ],
      "metadata": {
        "id": "6VsLYNv09By1"
      },
      "execution_count": null,
      "outputs": []
    },
    {
      "cell_type": "markdown",
      "source": [
        "An aside, to ensure mean zero variance one"
      ],
      "metadata": {
        "id": "yMHrWHF9mEd3"
      }
    },
    {
      "cell_type": "code",
      "source": [
        "c = np.random.normal(0,1,1000) \n",
        "print(' before: average ={}, mean ={}, sum ={}, max ={}'.format(np.average(c),np.mean(c),np.sum(c),np.amax(c)))\n",
        "c -= np.average(c)\n",
        "print('during average ={}, mean ={}, sum ={}, max ={}'.format(np.average(c),np.mean(c),np.sum(c),np.amax(c)))\n",
        "c[np.argmax(c)] -= np.sum(c)\n",
        "c /= np.amax(c)\n",
        "print('after:average ={}, mean ={}, sum ={}, max ={}'.format(np.average(c),np.mean(c),np.sum(c),np.amax(c)))\n",
        "\n",
        "print(c)\n"
      ],
      "metadata": {
        "id": "uCudSZnAmDdZ"
      },
      "execution_count": null,
      "outputs": []
    },
    {
      "cell_type": "markdown",
      "source": [
        "Another aside, regarding finding indices of max value of a matrix"
      ],
      "metadata": {
        "id": "yBB9Fu0fw1vh"
      }
    },
    {
      "cell_type": "code",
      "source": [
        "F = np.random.normal(0,1,size=(10,10))\n",
        "G = np.multiply(F,np.eye(F.shape[0]))\n",
        "\n",
        "max1 = np.amax(G)\n",
        "idx = np.where(G == np.amax(G))\n",
        "G[idx[0],idx[1]] = 0\n",
        "print(G,idx)\n",
        "\n",
        "max2 = np.amax(G)\n",
        "idx = np.where(G == np.amax(G))\n",
        "G[idx[0],idx[1]] -= max2\n",
        "print(G,idx)\n",
        "\n",
        "max3 = np.amax(G)\n",
        "idx = np.where(G == np.amax(G))\n",
        "G[idx[0],idx[1]] -= max3\n",
        "print(G,idx)\n",
        "\n",
        "print('largest {}, second largest {}, third {}'.format(max1,max2,max3))"
      ],
      "metadata": {
        "id": "koN6QtF7xANi"
      },
      "execution_count": null,
      "outputs": []
    },
    {
      "cell_type": "markdown",
      "source": [
        "[SciPy Stats Portal](https://docs.scipy.org/doc/scipy/reference/stats.html)"
      ],
      "metadata": {
        "id": "_qSdAANIB1JC"
      }
    },
    {
      "cell_type": "code",
      "source": [
        "from scipy import linalg\n",
        "n = 100\n",
        "p = 0.43\n",
        "C = np.random.choice([0,1], size=(n,n), p=[1-p,p])\n",
        "linalg.svdvals(C).max()"
      ],
      "metadata": {
        "id": "FqKNDUOeBzTA"
      },
      "execution_count": null,
      "outputs": []
    },
    {
      "cell_type": "markdown",
      "source": [
        "Ridge Regression  \n",
        "The ridge regression estimator is the solution to the following modified least squares\n",
        "optimization problem for some value of $λ > 0$.  \n",
        "$$\\hat{β}_{ridge} = \\text{arg min}_b \\{ {||y − Xb||^2_2 + λ||b||^2_2} \\}$$\n",
        "\n",
        "Why the ridge penalty?\n",
        "1. The equation shrinks the coefficients towards zero, adding some bias but reducing\n",
        "the variance of the estimator.\n",
        "2. Using the $ℓ_2$-norm keeps the equation rotationally invariant.\n",
        "3. Ridge regression has an analytical solution.\n",
        "\n",
        "To see this write the criterion as a matrix equation:\n",
        "$$(y − Xb)^T(y − Xb) + λb^Tb = y^Ty + b^TX^TXb − 2y^TXb + λb^Tb$$\n",
        "<!---\\hspace {47.5pt}--->\n",
        "And take its derivative:\n",
        "$$\\frac{∂}{∂β}(y^Ty + b^TX^TXb − 2y^TXb + λb^Tb)= 2X^TXb − 2X^Ty + 2λb$$\n",
        "\n",
        "Setting this to zero yields\n",
        "$$2X^TX\\hat{β} + 2λ\\hat{β} = 2X^Ty$$  \n",
        "$$(X^TX + I_pλ)\\hat{β} = X^Ty$$  \n",
        "$$\\hspace {135pt}\\hat{β} = (X^TX + I_pλ)^{−1}· X^Ty$$\n",
        "\n",
        "This is a useful analytical form, though as with least squares we would generally not\n",
        "invert the matrix directly but instead use a stable matrix decomposition.\n",
        "\n",
        "Computational\bissues  \n",
        "How can we estimate the regression vector using a technique such as ordinary least\n",
        "squares\n",
        "$$\\hat{β}_{ols} = \\text{arg min}_b \\left\\{ \\overset{n}{\\underset{i=1}{∑}} (y_i − x^T_ib)^2 \\right\\} $$  \n",
        "When we have a dataset size grows larger than the available memory?\n",
        "\n",
        "\n",
        "At first glance this seems computationally very difficult as we are trying to minimize a\n",
        "summation with one component per observation.\n",
        "However, recall that the ordinary least squares solution can be computed by:  \n",
        "$$\\hat{β}_{ols} = (X^TX)^{−1}X^Ty$$  \n",
        "\n",
        "Now, assume that the data matrix X is broken by rows into K different chunks:  \n",
        "<!---bmatrix would be better--->\n",
        "\\begin{align}\n",
        "    X &= \\begin{pmatrix}\n",
        "           X_{B_{1}} \\\\\n",
        "           X_{B_{2}} \\\\\n",
        "           \\vdots \\\\\n",
        "           X_{B_{k}}\n",
        "         \\end{pmatrix}\n",
        "  \\end{align}"
      ],
      "metadata": {
        "id": "lJwgEVNuK6Gf"
      }
    }
  ]
}