{
  "cells": [
    {
      "cell_type": "markdown",
      "metadata": {
        "id": "view-in-github",
        "colab_type": "text"
      },
      "source": [
        "<a href=\"https://colab.research.google.com/github/nochwysid/CSE5008-SP/blob/main/6_SciProg_Pandas.ipynb\" target=\"_parent\"><img src=\"https://colab.research.google.com/assets/colab-badge.svg\" alt=\"Open In Colab\"/></a>"
      ]
    },
    {
      "cell_type": "markdown",
      "metadata": {
        "id": "nTYP7w-kitSe"
      },
      "source": [
        "# CME 193 - Lecture 6 - Pandas\n",
        "\n",
        "Before we get started, you may want to make sure that you have the following packages installed in whatever environment you're using: `pandas`\n",
        "\n",
        "```bash\n",
        "conda install pandas\n",
        "```\n",
        "\n",
        "If you are in colab, it should be preinstalled\n",
        "\n",
        "Pandas is a package for working with tabular data.  \n"
      ]
    },
    {
      "cell_type": "markdown",
      "metadata": {
        "id": "JGA4ttB2itSh"
      },
      "source": [
        "# Pandas\n",
        "\n",
        "[Pandas](https://pandas.pydata.org/) is a Python library for dealing with data.  The main thing you'll hear people talk about is the DataFrame object (inspired by R), which is designed to hold tabular data.\n",
        "\n",
        "## Difference between a DataFrame and NumPy Array\n",
        "\n",
        "Pandas DataFrames and NumPy arrays both have similarities to Python lists.  \n",
        "* Numpy arrays are designed to contain data of one type (e.g. Int, Float, ...)\n",
        "* DataFrames can contain different types of data (Int, Float, String, ...)\n",
        "    * Usually each column has the same type\n",
        "    \n",
        "    \n",
        "Both arrays and DataFrames are optimized for storage/performance beyond Python lists\n",
        "\n",
        "Pandas is also powerful for working with missing data, working with time series data, for reading and writing your data, for reshaping, grouping, merging your data, ...\n",
        "\n",
        "## Key Features\n",
        "\n",
        "* File I/O - integrations with multiple file formats\n",
        "* Working with missing data (.dropna(), pd.isnull())\n",
        "* Normal table operations: merging and joining, groupby functionality, reshaping via stack, and pivot_tables,\n",
        "* Time series-specific functionality:\n",
        "    * date range generation and frequency conversion, moving window statistics/regressions, date shifting and lagging, etc.\n",
        "* Built in Matplotlib integration\n",
        "\n",
        "## Other Strengths\n",
        "\n",
        "* Strong community, support, and documentation\n",
        "* Size mutability: columns can be inserted and deleted from DataFrame and higher dimensional objects\n",
        "* Powerful, flexible group by functionality to perform split-apply-combine operations on data sets, for both aggregating and transforming data\n",
        "* Make it easy to convert ragged, differently-indexed data in other Python and NumPy data structures into DataFrame objects Intelligent label-based slicing, fancy indexing, and subsetting of large data sets\n",
        "\n",
        "## Python/Pandas vs. R\n",
        "\n",
        "* R is a language dedicated to statistics. Python is a general-purpose language with statistics modules.\n",
        "* R has more statistical analysis features than Python, and specialized syntaxes.\n",
        "\n",
        "However, when it comes to building complex analysis pipelines that mix statistics with e.g. image analysis, text mining, or control of a physical experiment, the richness of Python is an invaluable asset."
      ]
    },
    {
      "cell_type": "markdown",
      "metadata": {
        "id": "l6WVUXJ1itSj"
      },
      "source": [
        "# Getting Started\n",
        "\n",
        "[Here](https://pandas.pydata.org/pandas-docs/stable/generated/pandas.DataFrame.html) is a link to the documentation for DataFrames"
      ]
    },
    {
      "cell_type": "code",
      "execution_count": null,
      "metadata": {
        "id": "xrW7sUZDitSk"
      },
      "outputs": [],
      "source": [
        "import pandas as pd\n",
        "import numpy as np"
      ]
    },
    {
      "cell_type": "markdown",
      "metadata": {
        "id": "YtFujV4litSl"
      },
      "source": [
        "## Objects and Basic Creation\n",
        "\n",
        "| Name | Dimensions | Description  |\n",
        "| ------:| -----------:|----------|\n",
        "| ```pd.Series``` | 1 | 1D labeled homogeneously-typed array |\n",
        "| ```pd.DataFrame```  | 2| General 2D labeled, size-mutable tabular structure |\n",
        "| ```pd.Panel``` | 3|  General 3D labeled, also size-mutable array |\n",
        "\n",
        "# Series\n",
        "## What are they?\n",
        "- Series is a one-dimensional labeled array capable of holding any data type (integers, strings, floating point numbers, Python objects, etc.). The axis labels are collectively referred to as the index.\n",
        "- Basic method to create a series: \n",
        "```s = pd.Series(data, index = index) ```\n",
        "- Data Can be many things:\n",
        "    * A Python Dictionary\n",
        "    * An ndarray (or regular Python list)\n",
        "    * A scalar \n",
        "- The passed index is a list of axis labels (which varies on what data is)\n",
        "\n",
        "Think \"Series = Vector + labels\""
      ]
    },
    {
      "cell_type": "code",
      "execution_count": null,
      "metadata": {
        "scrolled": true,
        "id": "eROHfPGPitSn",
        "outputId": "8ab62875-3ace-4f2b-a04c-5a118f6de675"
      },
      "outputs": [
        {
          "name": "stdout",
          "output_type": "stream",
          "text": [
            "<class 'pandas.core.series.Series'>\n",
            "0     1\n",
            "1     2\n",
            "2     4\n",
            "3     8\n",
            "4    16\n",
            "5    32\n",
            "6    64\n",
            "dtype: int64\n"
          ]
        }
      ],
      "source": [
        "first_series = pd.Series([1,2,4,8,16,32,64])\n",
        "print(type(first_series))\n",
        "print(first_series)"
      ]
    },
    {
      "cell_type": "code",
      "execution_count": null,
      "metadata": {
        "scrolled": true,
        "id": "VdXm8InEitSo",
        "outputId": "f6648331-2f53-462e-dd0f-74d928899603"
      },
      "outputs": [
        {
          "name": "stdout",
          "output_type": "stream",
          "text": [
            "a    0.881476\n",
            "b   -0.040573\n",
            "c   -0.709955\n",
            "d   -0.798804\n",
            "e    0.028839\n",
            "dtype: float64\n",
            "--------------------------------------------------\n",
            "Index(['a', 'b', 'c', 'd', 'e'], dtype='object')\n"
          ]
        },
        {
          "data": {
            "text/plain": [
              "0.028838869963367028"
            ]
          },
          "execution_count": 5,
          "metadata": {},
          "output_type": "execute_result"
        }
      ],
      "source": [
        "s = pd.Series(np.random.randn(5), index=['a', 'b', 'c', 'd', 'e'])\n",
        "print(s)\n",
        "print('-'*50)\n",
        "print(s.index)\n",
        "s['e']"
      ]
    },
    {
      "cell_type": "markdown",
      "metadata": {
        "id": "Jod0ka3sitSq"
      },
      "source": [
        "If Data is a dictionary, if index is passed the values in data corresponding to the labels in the index will be pulled out, otherwise an index will be constructed from the sorted keys of the dict"
      ]
    },
    {
      "cell_type": "code",
      "execution_count": null,
      "metadata": {
        "scrolled": false,
        "id": "jSD1UASvitSr",
        "outputId": "a284fcd2-7de1-4c38-ff2c-6340657a3c17"
      },
      "outputs": [
        {
          "data": {
            "text/plain": [
              "a      [0.0, 0]\n",
              "2           2.0\n",
              "b    {'1': 1.0}\n",
              "dtype: object"
            ]
          },
          "execution_count": 6,
          "metadata": {},
          "output_type": "execute_result"
        }
      ],
      "source": [
        "d = {'a': [0., 0], 2: 2., 'b': {'1':1.}}\n",
        "pd.Series(d)"
      ]
    },
    {
      "cell_type": "markdown",
      "metadata": {
        "id": "sOl3Fn65itSt"
      },
      "source": [
        "You can create a series from a scalar, but need to specify indices"
      ]
    },
    {
      "cell_type": "code",
      "execution_count": null,
      "metadata": {
        "id": "2r7gKaOPitSt",
        "outputId": "2ad088ae-878e-4833-e256-8697af2aba8e"
      },
      "outputs": [
        {
          "data": {
            "text/plain": [
              "a    5\n",
              "b    5\n",
              "c    5\n",
              "dtype: int64"
            ]
          },
          "execution_count": 9,
          "metadata": {},
          "output_type": "execute_result"
        }
      ],
      "source": [
        "pd.Series(5, index = ['a', 'b', 'c'])"
      ]
    },
    {
      "cell_type": "markdown",
      "metadata": {
        "id": "BL7dXjGiitSu"
      },
      "source": [
        "You can index and slice series like you would numpy arrays/python lists"
      ]
    },
    {
      "cell_type": "code",
      "execution_count": null,
      "metadata": {
        "id": "H2p_IhnHitSv",
        "outputId": "a178cbc8-54e5-4a17-8e41-02728077f054"
      },
      "outputs": [
        {
          "data": {
            "text/plain": [
              "a   -2.167156\n",
              "b    2.245154\n",
              "c    0.284073\n",
              "d    1.462565\n",
              "e    0.015066\n",
              "dtype: float64"
            ]
          },
          "execution_count": 11,
          "metadata": {},
          "output_type": "execute_result"
        }
      ],
      "source": [
        "end_string = '\\n' + '-'*50 + '\\n'\n",
        "s = pd.Series(np.random.randn(5), index=['a', 'b', 'c', 'd', 'e'])\n"
      ]
    },
    {
      "cell_type": "code",
      "execution_count": null,
      "metadata": {
        "id": "bCf-rf9iitSw",
        "outputId": "79527c86-b7aa-4e9f-d004-5f930bb26bbb"
      },
      "outputs": [
        {
          "data": {
            "text/plain": [
              "True"
            ]
          },
          "execution_count": 16,
          "metadata": {},
          "output_type": "execute_result"
        }
      ],
      "source": [
        "s[1] == s['b']"
      ]
    },
    {
      "cell_type": "code",
      "execution_count": null,
      "metadata": {
        "id": "USqwD_efitSw",
        "outputId": "518f25b8-85b1-41ac-8ac5-ef6117ad247a"
      },
      "outputs": [
        {
          "name": "stdout",
          "output_type": "stream",
          "text": [
            "-2.1671560297090933\n",
            "--------------------------------------------------\n",
            "a   -2.167156\n",
            "b    2.245154\n",
            "c    0.284073\n",
            "dtype: float64\n",
            "--------------------------------------------------\n",
            "a   -2.167156\n",
            "b    2.245154\n",
            "c    0.284073\n",
            "dtype: float64\n",
            "--------------------------------------------------\n"
          ]
        }
      ],
      "source": [
        "print(s[0], end = end_string)\n",
        "# slicing\n",
        "print(s[:3], end =end_string)\n",
        "#alternate slicing\n",
        "print(s['a':'c'], end = end_string)"
      ]
    },
    {
      "cell_type": "code",
      "execution_count": null,
      "metadata": {
        "id": "3EwJ1q7RitSx",
        "outputId": "af0f6f75-77ea-4734-ac2f-4d1f2fdf4702"
      },
      "outputs": [
        {
          "data": {
            "text/plain": [
              "a    0.063294\n",
              "d   -1.158926\n",
              "d    1.306314\n",
              "dtype: float64"
            ]
          },
          "execution_count": 26,
          "metadata": {},
          "output_type": "execute_result"
        }
      ],
      "source": [
        "s1 = pd.Series(np.random.randn(5), index=['a', 'd', 'd', 'b', 'e'])\n",
        "s1['a':'d']"
      ]
    },
    {
      "cell_type": "code",
      "execution_count": null,
      "metadata": {
        "id": "1Nj1Gsd9itSy",
        "outputId": "0c805723-c5da-4bfd-e3c5-63a95b01112e"
      },
      "outputs": [
        {
          "data": {
            "text/plain": [
              "a    0.063294\n",
              "d   -1.158926\n",
              "d    1.306314\n",
              "dtype: float64"
            ]
          },
          "execution_count": 27,
          "metadata": {},
          "output_type": "execute_result"
        }
      ],
      "source": [
        "s1[:3]"
      ]
    },
    {
      "cell_type": "code",
      "execution_count": null,
      "metadata": {
        "id": "M7RZJmpFitSz",
        "outputId": "72e286d8-b602-4836-d5cc-b27dad22503e"
      },
      "outputs": [
        {
          "data": {
            "text/plain": [
              "a   -0.929888\n",
              "b    1.742064\n",
              "c   -1.166325\n",
              "dtype: float64"
            ]
          },
          "execution_count": 30,
          "metadata": {},
          "output_type": "execute_result"
        }
      ],
      "source": [
        "s1 = pd.Series(np.random.randn(5), index=['a', 'b', 'c', 'cb', 'e'])\n",
        "s1['a':'ca']"
      ]
    },
    {
      "cell_type": "code",
      "execution_count": null,
      "metadata": {
        "id": "S7boDsiyitSz"
      },
      "outputs": [],
      "source": [
        "s1 = pd.Series(np.random.randn(5), index=['a', 'c', 'c', 'ba', 'e'])\n",
        "#print(s1['a':'b'], end = end_string)"
      ]
    },
    {
      "cell_type": "code",
      "execution_count": null,
      "metadata": {
        "id": "9qr4QzX1itS0",
        "outputId": "15fd7f00-d1b4-4b51-ddaa-cc9661c2ed4a"
      },
      "outputs": [
        {
          "data": {
            "text/plain": [
              "c    1.725087\n",
              "e    1.259156\n",
              "dtype: float64"
            ]
          },
          "execution_count": 36,
          "metadata": {},
          "output_type": "execute_result"
        }
      ],
      "source": [
        "s1[s1>1]"
      ]
    },
    {
      "cell_type": "code",
      "execution_count": null,
      "metadata": {
        "scrolled": true,
        "id": "Os72VBGVitS0",
        "outputId": "00d0bd46-2833-4f22-fc36-9467e55253da"
      },
      "outputs": [
        {
          "data": {
            "text/plain": [
              "b    2.245154\n",
              "d    1.462565\n",
              "dtype: float64"
            ]
          },
          "execution_count": 38,
          "metadata": {},
          "output_type": "execute_result"
        }
      ],
      "source": [
        "s[s> s.mean()]"
      ]
    },
    {
      "cell_type": "code",
      "execution_count": null,
      "metadata": {
        "id": "zrU9XR4NitS1",
        "outputId": "864b694e-74a6-45f0-a370-8456b21df114"
      },
      "outputs": [
        {
          "name": "stdout",
          "output_type": "stream",
          "text": [
            "b    2.245154\n",
            "d    1.462565\n",
            "dtype: float64\n",
            "--------------------------------------------------\n",
            "a    0.114503\n",
            "b    9.441872\n",
            "c    1.328530\n",
            "d    4.317017\n",
            "e    1.015180\n",
            "dtype: float64\n",
            "--------------------------------------------------\n"
          ]
        }
      ],
      "source": [
        "# conditional max - index with booleans\n",
        "print(s[ s > s.mean()], end = end_string)\n",
        "# elementwise function - vectorization\n",
        "print(np.exp(s), end = end_string)"
      ]
    },
    {
      "cell_type": "markdown",
      "metadata": {
        "id": "Was5ewcxitS1"
      },
      "source": [
        "Series are also like dictionaries - you can access values using index labels"
      ]
    },
    {
      "cell_type": "code",
      "execution_count": null,
      "metadata": {
        "id": "ZcGc_VjSitS2",
        "outputId": "a4fe5df3-7312-428a-da52-55a432f5211d"
      },
      "outputs": [
        {
          "name": "stdout",
          "output_type": "stream",
          "text": [
            "a   -2.167156\n",
            "b    2.245154\n",
            "c    0.284073\n",
            "d    1.462565\n",
            "e    0.015066\n",
            "dtype: float64\n",
            "--------------------------------------------------\n",
            "-2.1671560297090933\n",
            "--------------------------------------------------\n"
          ]
        }
      ],
      "source": [
        "print(s, end = end_string)\n",
        "print(s['a'], end = end_string)"
      ]
    },
    {
      "cell_type": "code",
      "execution_count": null,
      "metadata": {
        "id": "PsZz4uBEitS2",
        "outputId": "e87a1740-9ae4-4ed1-9d8f-468ef7ca8088"
      },
      "outputs": [
        {
          "name": "stdout",
          "output_type": "stream",
          "text": [
            "a    -2.167156\n",
            "b     2.245154\n",
            "c     0.284073\n",
            "d     1.462565\n",
            "e    12.000000\n",
            "dtype: float64\n",
            "--------------------------------------------------\n",
            "False\n",
            "--------------------------------------------------\n",
            "None\n",
            "--------------------------------------------------\n",
            "12.0\n",
            "--------------------------------------------------\n"
          ]
        }
      ],
      "source": [
        "s['e'] = 12 # set element using index label\n",
        "print(s, end = end_string)\n",
        "print('f' in s, end = end_string) # check for index label\n",
        "print(s.get('f', None), end = end_string) # get item with index 'f' - if no such item return None\n",
        "print(s.get('e', None), end = end_string)"
      ]
    },
    {
      "cell_type": "markdown",
      "metadata": {
        "id": "mYSPoycUitS3"
      },
      "source": [
        "### Series Attributes:\n",
        "\n",
        "- Get the index : \n",
        "```python \n",
        "s.index ``` \n",
        "- Get the values :\n",
        "``` python \n",
        "s.values ``` \n",
        "- Find the shape : \n",
        "``` python \n",
        "s.shape ``` \n",
        "\n",
        "### Series Iteration"
      ]
    },
    {
      "cell_type": "code",
      "execution_count": null,
      "metadata": {
        "id": "SXZ23rM5itS3",
        "outputId": "63403ab2-b54d-43b0-f543-6dd89c3704db"
      },
      "outputs": [
        {
          "name": "stdout",
          "output_type": "stream",
          "text": [
            "0.0\n",
            "0.0\n",
            "0.0\n",
            "0.0\n",
            "0.0\n"
          ]
        }
      ],
      "source": [
        "a = np.zeros(5)\n",
        "for i in a:\n",
        "    print(i)\n",
        "    "
      ]
    },
    {
      "cell_type": "code",
      "execution_count": null,
      "metadata": {
        "id": "fdL9HtC7itS4",
        "outputId": "2d53ab83-7879-4227-f7e3-02337b34e941"
      },
      "outputs": [
        {
          "name": "stdout",
          "output_type": "stream",
          "text": [
            "a -2.1671560297090933\n",
            "b 2.2451542150923856\n",
            "c 0.2840734326301267\n",
            "d 1.4625646280585323\n",
            "e 12.0\n"
          ]
        }
      ],
      "source": [
        "for idx,val in s.iteritems():\n",
        "    print(idx,val)"
      ]
    },
    {
      "cell_type": "markdown",
      "metadata": {
        "id": "K2DXHNTaitS4"
      },
      "source": [
        "Sort by index or by value"
      ]
    },
    {
      "cell_type": "code",
      "execution_count": null,
      "metadata": {
        "id": "n1usaujiitS4",
        "outputId": "8ebe0750-7994-4423-ff06-2c84042f40b3"
      },
      "outputs": [
        {
          "name": "stdout",
          "output_type": "stream",
          "text": [
            "a    -2.167156\n",
            "b     2.245154\n",
            "c     0.284073\n",
            "d     1.462565\n",
            "e    12.000000\n",
            "dtype: float64\n",
            "--------------------------------------------------\n",
            "a    -2.167156\n",
            "c     0.284073\n",
            "d     1.462565\n",
            "b     2.245154\n",
            "e    12.000000\n",
            "dtype: float64\n",
            "--------------------------------------------------\n"
          ]
        }
      ],
      "source": [
        "print(s.sort_index(), end = end_string)\n",
        "print(s.sort_values(), end = end_string)"
      ]
    },
    {
      "cell_type": "code",
      "execution_count": null,
      "metadata": {
        "id": "Yf5DKilgitS5"
      },
      "outputs": [],
      "source": [
        "s.sort_values?"
      ]
    },
    {
      "cell_type": "markdown",
      "metadata": {
        "id": "l47ctLOYitS5"
      },
      "source": [
        "Find counts of unique values"
      ]
    },
    {
      "cell_type": "code",
      "execution_count": null,
      "metadata": {
        "scrolled": true,
        "id": "MWsb_b7KitS5",
        "outputId": "0f59c7e5-850f-4ea6-877f-afe42490901f"
      },
      "outputs": [
        {
          "name": "stdout",
          "output_type": "stream",
          "text": [
            "2    4\n",
            "0    3\n",
            "1    3\n",
            "dtype: int64\n"
          ]
        }
      ],
      "source": [
        "s = pd.Series([0,0,0,1,1,1,2,2,2,2])\n",
        "sct = s.value_counts()\n",
        "print(sct)"
      ]
    },
    {
      "cell_type": "markdown",
      "metadata": {
        "id": "OfEq8DlyitS6"
      },
      "source": [
        "You can do just about anything you can do with a numpy array\n",
        "\n",
        "- Series.mean()\n",
        "- Series.median()\n",
        "- Series.mode()\n",
        "- Series.nsmallest(num)\n",
        "- Series.max ..."
      ]
    },
    {
      "cell_type": "code",
      "execution_count": null,
      "metadata": {
        "id": "_2z-bljeitS6",
        "outputId": "99e13587-217a-4587-bd68-140492e5349f"
      },
      "outputs": [
        {
          "name": "stdout",
          "output_type": "stream",
          "text": [
            "0\n",
            "--------------------------------------------------\n",
            "2\n",
            "--------------------------------------------------\n"
          ]
        }
      ],
      "source": [
        "print(s.min(),end = end_string)\n",
        "print(s.max(), end = end_string)"
      ]
    },
    {
      "cell_type": "markdown",
      "metadata": {
        "id": "P5dD440-itS8"
      },
      "source": [
        "## Exercise\n",
        "\n",
        "- Consider the series `s` of letters in a sentence.\n",
        "- What is count of each letter in the sentence, output a series which is sorted by the count\n",
        "- Create a list with only the top 5 common letters (not including space)"
      ]
    },
    {
      "cell_type": "code",
      "execution_count": null,
      "metadata": {
        "id": "0YGo7nhditS8"
      },
      "outputs": [],
      "source": [
        "s.value_counts?"
      ]
    },
    {
      "cell_type": "code",
      "execution_count": null,
      "metadata": {
        "id": "DkRkk2zlitS9"
      },
      "outputs": [],
      "source": [
        "s=pd.Series(list(\"Series is a one-dimensional labeled array capable of holding any data type (integers, strings, floating point numbers, Python objects, etc.). The axis labels are collectively referred to as the indexeeeeeee.\"))"
      ]
    },
    {
      "cell_type": "code",
      "execution_count": null,
      "metadata": {
        "id": "Ak1dBASDitS9",
        "outputId": "0b0efea9-207d-4a08-f0e9-669efe5c653e"
      },
      "outputs": [
        {
          "data": {
            "text/plain": [
              "e    30\n",
              "a    15\n",
              "i    12\n",
              "n    12\n",
              "t    12\n",
              "dtype: int64"
            ]
          },
          "execution_count": 69,
          "metadata": {},
          "output_type": "execute_result"
        }
      ],
      "source": [
        "s1 = s.value_counts(ascending=False)\n",
        "s1[s1.index != ' '][:5]"
      ]
    },
    {
      "cell_type": "code",
      "execution_count": null,
      "metadata": {
        "scrolled": true,
        "id": "adWp-eADitS9",
        "outputId": "90976486-6354-4bd2-9206-a6526bda8c94"
      },
      "outputs": [
        {
          "data": {
            "text/plain": [
              "e    0\n",
              "     1\n",
              "a    2\n",
              "i    3\n",
              "n    4\n",
              "t    5\n",
              "l    6\n",
              "s    7\n",
              "r    8\n",
              "o    9\n",
              "d    6\n",
              "b    5\n",
              "y    5\n",
              "c    5\n",
              "h    4\n",
              "g    4\n",
              ",    4\n",
              "p    3\n",
              "f    3\n",
              ".    3\n",
              "m    2\n",
              "x    2\n",
              "j    1\n",
              "T    1\n",
              ")    1\n",
              "S    1\n",
              "P    1\n",
              "u    1\n",
              "(    1\n",
              "-    1\n",
              "v    1\n",
              "z    5\n",
              "dtype: int64"
            ]
          },
          "execution_count": 80,
          "metadata": {},
          "output_type": "execute_result"
        }
      ],
      "source": [
        "s2 =pd.Series({'z':5})\n",
        "s1.append(s2)"
      ]
    },
    {
      "cell_type": "markdown",
      "metadata": {
        "id": "DzPrIg3iitS-"
      },
      "source": [
        "# DataFrame\n",
        "- DataFrame is a 2-dimensional labeled data structure with columns of potentially different types. You can think of it like a spreadsheet or SQL table, or a dict of Series objects. It is generally the most commonly used pandas object.\n",
        "- You can create a DataFrame from:\n",
        "    - Dict of 1D ndarrays, lists, dicts, or Series\n",
        "    - 2-D numpy array\n",
        "    - A list of dictionaries\n",
        "    - A Series\n",
        "    - Another Dataframe\n",
        "``` python\n",
        "df = pd.DataFrame(data, index = index, columns = columns)\n",
        "```\n",
        "- ```index```/ ``` columns ``` is a list of the row/ column labels. If you pass an index and/ or columns, you are guarenteeing the index and /or column of the df. \n",
        "- If you do not pass anything in, the input will be constructed by \"common sense\" rules\n",
        "\n",
        "[**pandas.DataFrame**](http://pandas.pydata.org/pandas-docs/stable/generated/pandas.DataFrame.html)\n",
        "\n",
        "# DataFrame Creation From dict of series or dicts\n",
        "- The index of the resulting DataFrame will be the union of the indices of the various Series. If there are any nested dicts, these will be first converted to Series. \n",
        "- If no columns are passed, the columns will be the sorted list of dict keys."
      ]
    },
    {
      "cell_type": "code",
      "execution_count": null,
      "metadata": {
        "id": "viv5Y50OitS-",
        "outputId": "6d0557c6-f1a3-4ba2-9672-90e4aa6286fc"
      },
      "outputs": [
        {
          "name": "stdout",
          "output_type": "stream",
          "text": [
            "   one  two\n",
            "a  1.0    0\n",
            "b  2.0    1\n",
            "c  3.0    2\n",
            "d  NaN    3\n",
            "--------------------------------------------------\n",
            "   one  two\n",
            "a  1.0    0\n",
            "b  2.0    1\n",
            "c  3.0    2\n",
            "d  NaN    3\n",
            "--------------------------------------------------\n"
          ]
        }
      ],
      "source": [
        "# Create a dictionary of series\n",
        "d = {'one': pd.Series([1,2,3], index  = ['a', 'b', 'c']), \n",
        "     'two': pd.Series(list(range(4)), index = ['a','b', 'c', 'd'])}\n",
        "df = pd.DataFrame(d)\n",
        "print(df, end = end_string)\n",
        "\n",
        "d= {'one': {'a': 1, 'b': 2, 'c':3}, \n",
        "     'two': pd.Series(list(range(4)), index = ['a','b', 'c', 'd'])}\n",
        "# Columns are dictionary keys, indices and values obtained from series\n",
        "df = pd.DataFrame(d)\n",
        "# Notice how it fills the column one with NaN for d\n",
        "print(df, end = end_string)"
      ]
    },
    {
      "cell_type": "code",
      "execution_count": null,
      "metadata": {
        "id": "MFSbRwuGitS_",
        "outputId": "4d965318-0d06-4b9e-add1-93083e27f18e"
      },
      "outputs": [
        {
          "name": "stdout",
          "output_type": "stream",
          "text": [
            "   one  two\n",
            "d  NaN    3\n",
            "b  2.0    1\n",
            "a  1.0    0\n",
            "--------------------------------------------------\n",
            "   two three\n",
            "d    3   NaN\n",
            "b    1   NaN\n",
            "a    0   NaN\n",
            "--------------------------------------------------\n"
          ]
        }
      ],
      "source": [
        "d = {'one': pd.Series([1,2,3], index  = ['a', 'b', 'c']), \n",
        "     'two': pd.Series(list(range(4)), index = ['a','b', 'c', 'd'])}\n",
        "\n",
        "print(pd.DataFrame(d, index = ['d', 'b', 'a']), end = end_string)\n",
        "print(pd.DataFrame(d, index = ['d', 'b', 'a'], columns = ['two', 'three']),\n",
        "      end = end_string)"
      ]
    },
    {
      "cell_type": "markdown",
      "metadata": {
        "id": "hpmENYeCitS_"
      },
      "source": [
        "# From dict of ndarray / lists\n",
        "- The ndarrays must all be the same length. \n",
        "- If an index is passed, it must clearly also be the same length as the arrays. If no index is passed, the result will be range(n), where n is the array length."
      ]
    },
    {
      "cell_type": "code",
      "execution_count": null,
      "metadata": {
        "id": "hsj4rM_pitS_",
        "outputId": "076f4232-ee7b-47e7-9a67-a3906d31175d"
      },
      "outputs": [
        {
          "data": {
            "text/html": [
              "<div>\n",
              "<style scoped>\n",
              "    .dataframe tbody tr th:only-of-type {\n",
              "        vertical-align: middle;\n",
              "    }\n",
              "\n",
              "    .dataframe tbody tr th {\n",
              "        vertical-align: top;\n",
              "    }\n",
              "\n",
              "    .dataframe thead th {\n",
              "        text-align: right;\n",
              "    }\n",
              "</style>\n",
              "<table border=\"1\" class=\"dataframe\">\n",
              "  <thead>\n",
              "    <tr style=\"text-align: right;\">\n",
              "      <th></th>\n",
              "      <th>one</th>\n",
              "      <th>two</th>\n",
              "    </tr>\n",
              "  </thead>\n",
              "  <tbody>\n",
              "    <tr>\n",
              "      <th>0</th>\n",
              "      <td>1.0</td>\n",
              "      <td>4.0</td>\n",
              "    </tr>\n",
              "    <tr>\n",
              "      <th>1</th>\n",
              "      <td>2.0</td>\n",
              "      <td>3.0</td>\n",
              "    </tr>\n",
              "    <tr>\n",
              "      <th>2</th>\n",
              "      <td>3.0</td>\n",
              "      <td>2.0</td>\n",
              "    </tr>\n",
              "    <tr>\n",
              "      <th>3</th>\n",
              "      <td>4.0</td>\n",
              "      <td>1.0</td>\n",
              "    </tr>\n",
              "  </tbody>\n",
              "</table>\n",
              "</div>"
            ],
            "text/plain": [
              "   one  two\n",
              "0  1.0  4.0\n",
              "1  2.0  3.0\n",
              "2  3.0  2.0\n",
              "3  4.0  1.0"
            ]
          },
          "execution_count": 83,
          "metadata": {},
          "output_type": "execute_result"
        }
      ],
      "source": [
        "d = {'one' : [1., 2., 3., 4], 'two' : [4., 3., 2., 1.]}\n",
        "pd.DataFrame(d)"
      ]
    },
    {
      "cell_type": "markdown",
      "metadata": {
        "id": "dW8R7K1OitTA"
      },
      "source": [
        "# From a list of dicts"
      ]
    },
    {
      "cell_type": "code",
      "execution_count": null,
      "metadata": {
        "scrolled": true,
        "id": "n91MFCV7itTA",
        "outputId": "6f43c085-115f-4ba3-9ead-27af622057d6"
      },
      "outputs": [
        {
          "data": {
            "text/plain": [
              "[{'Column0': 66, 'Column1': 20, 'Column2': 56, 'Column3': 40, 'Column4': 55},\n",
              " {'Column0': 0, 'Column1': 93, 'Column2': 85, 'Column3': 48, 'Column4': 4},\n",
              " {'Column0': 49, 'Column1': 65, 'Column2': 84, 'Column3': 15, 'Column4': 15},\n",
              " {'Column0': 41, 'Column1': 2, 'Column2': 54, 'Column3': 32, 'Column4': 71},\n",
              " {'Column0': 59, 'Column1': 26, 'Column2': 56, 'Column3': 26, 'Column4': 4}]"
            ]
          },
          "execution_count": 84,
          "metadata": {},
          "output_type": "execute_result"
        }
      ],
      "source": [
        "data = []\n",
        "for i in range(100):\n",
        "    data += [ {'Column' + str(j):np.random.randint(100) for j in range(5)} ]\n",
        "    # dictionary comprehension!\n",
        "    \n",
        "data[:5]"
      ]
    },
    {
      "cell_type": "code",
      "execution_count": null,
      "metadata": {
        "id": "HVjDqh4LitTA",
        "outputId": "d53a6b56-697e-470d-e7ed-376638fa58d1"
      },
      "outputs": [
        {
          "name": "stdout",
          "output_type": "stream",
          "text": [
            "   Column0  Column1  Column2  Column3  Column4\n",
            "0       66       20       56       40       55\n",
            "1        0       93       85       48        4\n",
            "2       49       65       84       15       15\n",
            "3       41        2       54       32       71\n",
            "4       59       26       56       26        4\n",
            "--------------------------------------------------\n"
          ]
        }
      ],
      "source": [
        "# Creation from a list of dicts\n",
        "df = pd.DataFrame(data)\n",
        "print(df.head(), end = end_string)"
      ]
    },
    {
      "cell_type": "code",
      "execution_count": null,
      "metadata": {
        "id": "Be_aVhAiitTB",
        "outputId": "08c05c44-7b05-4601-b0df-97821aeb01eb"
      },
      "outputs": [
        {
          "data": {
            "text/html": [
              "<div>\n",
              "<style scoped>\n",
              "    .dataframe tbody tr th:only-of-type {\n",
              "        vertical-align: middle;\n",
              "    }\n",
              "\n",
              "    .dataframe tbody tr th {\n",
              "        vertical-align: top;\n",
              "    }\n",
              "\n",
              "    .dataframe thead th {\n",
              "        text-align: right;\n",
              "    }\n",
              "</style>\n",
              "<table border=\"1\" class=\"dataframe\">\n",
              "  <thead>\n",
              "    <tr style=\"text-align: right;\">\n",
              "      <th></th>\n",
              "      <th>Column0</th>\n",
              "      <th>Column1</th>\n",
              "    </tr>\n",
              "  </thead>\n",
              "  <tbody>\n",
              "    <tr>\n",
              "      <th>0</th>\n",
              "      <td>66</td>\n",
              "      <td>20</td>\n",
              "    </tr>\n",
              "    <tr>\n",
              "      <th>1</th>\n",
              "      <td>0</td>\n",
              "      <td>93</td>\n",
              "    </tr>\n",
              "    <tr>\n",
              "      <th>2</th>\n",
              "      <td>49</td>\n",
              "      <td>65</td>\n",
              "    </tr>\n",
              "    <tr>\n",
              "      <th>3</th>\n",
              "      <td>41</td>\n",
              "      <td>2</td>\n",
              "    </tr>\n",
              "    <tr>\n",
              "      <th>4</th>\n",
              "      <td>59</td>\n",
              "      <td>26</td>\n",
              "    </tr>\n",
              "  </tbody>\n",
              "</table>\n",
              "</div>"
            ],
            "text/plain": [
              "   Column0  Column1\n",
              "0       66       20\n",
              "1        0       93\n",
              "2       49       65\n",
              "3       41        2\n",
              "4       59       26"
            ]
          },
          "execution_count": 86,
          "metadata": {},
          "output_type": "execute_result"
        }
      ],
      "source": [
        "# Only certain columns\n",
        "df = pd.DataFrame(data, columns = ['Column0', 'Column1'])\n",
        "df.head()"
      ]
    },
    {
      "cell_type": "markdown",
      "metadata": {
        "id": "-BjG-iMLitTB"
      },
      "source": [
        "## Attributes\n",
        "\n",
        "- ``` df.index ``` : the row index of df\n",
        "- ``` df.columns ``` : the columns of df\n",
        "- ``` df.shape ``` : the shape of the df\n",
        "- ``` df.values ``` : numpy array of values"
      ]
    },
    {
      "cell_type": "code",
      "execution_count": null,
      "metadata": {
        "id": "4fP2tg4gitTC"
      },
      "outputs": [],
      "source": [
        "#df.values"
      ]
    },
    {
      "cell_type": "code",
      "execution_count": null,
      "metadata": {
        "scrolled": true,
        "id": "C49wTFxSitTC",
        "outputId": "5ee10820-b5a8-4cd9-9e56-717f879bc876"
      },
      "outputs": [
        {
          "name": "stdout",
          "output_type": "stream",
          "text": [
            "   one  two  three   flag\n",
            "a  1.0    0    0.0  False\n",
            "b  2.0    1    2.0  False\n",
            "c  3.0    2    6.0   True\n",
            "d  NaN    3    NaN  False\n"
          ]
        }
      ],
      "source": [
        "# Adding and accessing columns \n",
        "d = {'one': pd.Series([1,2,3], index  = ['a', 'b', 'c']), \n",
        "     'two': pd.Series(range(4), index = ['a','b', 'c', 'd'])}\n",
        "df = pd.DataFrame(d)\n",
        "# multiply \n",
        "df['three'] =  df['one']*df['two']\n",
        "# Create a boolean flag\n",
        "df['flag'] = df['one'] > 2\n",
        "print(df.head())"
      ]
    },
    {
      "cell_type": "code",
      "execution_count": null,
      "metadata": {
        "id": "BXkdPf81itTC",
        "outputId": "f52c9724-decc-4b61-e343-12921d22234e"
      },
      "outputs": [
        {
          "name": "stdout",
          "output_type": "stream",
          "text": [
            "   one  bar  two  three   flag\n",
            "a  1.0  1.0    0    0.0  False\n",
            "b  2.0  2.0    1    2.0  False\n",
            "c  3.0  NaN    2    6.0   True\n",
            "d  NaN  NaN    3    NaN  False\n"
          ]
        }
      ],
      "source": [
        "# inserting column in specified location, with values\n",
        "df.insert(1, 'bar', df['one'][:2])\n",
        "print(df.head())"
      ]
    },
    {
      "cell_type": "code",
      "execution_count": null,
      "metadata": {
        "id": "3MkC4ZGbitTD",
        "outputId": "661f8588-cd75-4bc1-de31-9667fd1b6f76"
      },
      "outputs": [
        {
          "name": "stdout",
          "output_type": "stream",
          "text": [
            "   one  bar  two   flag\n",
            "a  1.0  1.0    0  False\n",
            "b  2.0  2.0    1  False\n",
            "c  3.0  NaN    2   True\n",
            "d  NaN  NaN    3  False\n",
            "--------------------------------------------------\n",
            "   one  bar  two   flag  foo\n",
            "a  1.0  1.0    0  False  bar\n",
            "b  2.0  2.0    1  False  bar\n",
            "c  3.0  NaN    2   True  bar\n",
            "d  NaN  NaN    3  False  bar\n",
            "--------------------------------------------------\n"
          ]
        }
      ],
      "source": [
        "# Deleting Columns  \n",
        "three = df.pop('three')\n",
        "print(df.head(), end = end_string)\n",
        "# Propagation of values\n",
        "df['foo'] = 'bar'\n",
        "print(df, end = end_string)"
      ]
    },
    {
      "cell_type": "code",
      "execution_count": null,
      "metadata": {
        "id": "GA20F8KXitTD",
        "outputId": "3b828c62-96e5-40fb-a399-31f8f9f40aee"
      },
      "outputs": [
        {
          "data": {
            "text/plain": [
              "a    0.0\n",
              "b    2.0\n",
              "c    6.0\n",
              "d    NaN\n",
              "Name: three, dtype: float64"
            ]
          },
          "execution_count": 103,
          "metadata": {},
          "output_type": "execute_result"
        }
      ],
      "source": [
        "three"
      ]
    },
    {
      "cell_type": "code",
      "execution_count": null,
      "metadata": {
        "id": "AZoixAeUitTD",
        "outputId": "ed6e37c3-1d1c-402f-e37e-35b9932ad0a7"
      },
      "outputs": [
        {
          "data": {
            "text/plain": [
              "pandas.core.series.Series"
            ]
          },
          "execution_count": 104,
          "metadata": {},
          "output_type": "execute_result"
        }
      ],
      "source": [
        "type(df['one'])"
      ]
    },
    {
      "cell_type": "markdown",
      "metadata": {
        "id": "UtP5WHmpitTE"
      },
      "source": [
        "## Indexing and Selection \n",
        "\n",
        "- 4 methods ``` [], ix, iloc, loc ```\n",
        "\n",
        "| Operation  | Syntax       | Result | \n",
        "|----|----------------------| ---------------------------|\n",
        "| Select Column | df[col]   |    Series                      |\n",
        "| Select Row by Label | df.loc[label] | Series  |\n",
        "| Select Row by Integer Location | df.iloc[idx] |      Series                    |\n",
        "| Slice rows | df[5:10]        |                        DataFrame  | \n",
        "| Select rows by boolean | df[mask]   | DataFrame        |\n",
        "\n",
        "- Note all the operations below are valid on series as well restricted to one dimension"
      ]
    },
    {
      "cell_type": "markdown",
      "metadata": {
        "id": "duDWJ0HsitTE"
      },
      "source": [
        "## Simplest form Of Indexing: []\n",
        "- Series: selecting a label: s[label] \n",
        "- DataFrame: selection single or multiple columns: \n",
        "``` python \n",
        "df['col'] or df[['col1', 'col2']] ``` \n",
        "- DataFrame: slicing the rows:\n",
        "``` python\n",
        "df['rowlabel1': 'rowlabel2'] ``` \n",
        "or \n",
        "``` python \n",
        "df[boolean_mask] ``` "
      ]
    },
    {
      "cell_type": "code",
      "execution_count": null,
      "metadata": {
        "id": "rDk1JUbxitTF",
        "outputId": "087e8dc0-933f-444d-ccf0-1fa80daa0ada"
      },
      "outputs": [
        {
          "name": "stdout",
          "output_type": "stream",
          "text": [
            "                   A         B         C         D\n",
            "2000-01-01 -1.362937  1.483502  0.524516 -0.933905\n",
            "2000-01-02 -0.206544 -1.254282 -0.923655  0.482976\n",
            "...              ...       ...       ...       ...\n",
            "2000-01-07  0.813464  0.576335  0.489329 -0.524453\n",
            "2000-01-08  0.336468  0.042918  0.030945  1.078034\n",
            "\n",
            "[8 rows x 4 columns]\n"
          ]
        }
      ],
      "source": [
        "# Lets create a data frame\n",
        "pd.options.display.max_rows = 4\n",
        "dates = pd.date_range('1/1/2000', periods=8)\n",
        "df = pd.DataFrame(np.random.randn(8, 4), index=dates, columns=['A', 'B', 'C','D'])\n",
        "print(df)"
      ]
    },
    {
      "cell_type": "code",
      "execution_count": null,
      "metadata": {
        "id": "Welm8IeritTF"
      },
      "outputs": [],
      "source": [
        "pd.date_range?"
      ]
    },
    {
      "cell_type": "code",
      "execution_count": null,
      "metadata": {
        "id": "T9r_u35gitTF",
        "outputId": "5fd356d2-ce1d-4e6a-9246-8584b1243312"
      },
      "outputs": [
        {
          "data": {
            "text/plain": [
              "2000-01-01   -1.362937\n",
              "2000-01-02   -0.206544\n",
              "                ...   \n",
              "2000-01-07    0.813464\n",
              "2000-01-08    0.336468\n",
              "Freq: D, Name: A, Length: 8, dtype: float64"
            ]
          },
          "execution_count": 107,
          "metadata": {},
          "output_type": "execute_result"
        }
      ],
      "source": [
        "# column  'A'\n",
        "df['A']"
      ]
    },
    {
      "cell_type": "code",
      "execution_count": null,
      "metadata": {
        "id": "4CJkAocaitTG",
        "outputId": "e33aeb98-44bf-4423-8984-dc09edb49d58"
      },
      "outputs": [
        {
          "data": {
            "text/html": [
              "<div>\n",
              "<style scoped>\n",
              "    .dataframe tbody tr th:only-of-type {\n",
              "        vertical-align: middle;\n",
              "    }\n",
              "\n",
              "    .dataframe tbody tr th {\n",
              "        vertical-align: top;\n",
              "    }\n",
              "\n",
              "    .dataframe thead th {\n",
              "        text-align: right;\n",
              "    }\n",
              "</style>\n",
              "<table border=\"1\" class=\"dataframe\">\n",
              "  <thead>\n",
              "    <tr style=\"text-align: right;\">\n",
              "      <th></th>\n",
              "      <th>A</th>\n",
              "      <th>B</th>\n",
              "    </tr>\n",
              "  </thead>\n",
              "  <tbody>\n",
              "    <tr>\n",
              "      <th>2000-01-01</th>\n",
              "      <td>-1.362937</td>\n",
              "      <td>1.483502</td>\n",
              "    </tr>\n",
              "    <tr>\n",
              "      <th>2000-01-02</th>\n",
              "      <td>-0.206544</td>\n",
              "      <td>-1.254282</td>\n",
              "    </tr>\n",
              "    <tr>\n",
              "      <th>...</th>\n",
              "      <td>...</td>\n",
              "      <td>...</td>\n",
              "    </tr>\n",
              "    <tr>\n",
              "      <th>2000-01-07</th>\n",
              "      <td>0.813464</td>\n",
              "      <td>0.576335</td>\n",
              "    </tr>\n",
              "    <tr>\n",
              "      <th>2000-01-08</th>\n",
              "      <td>0.336468</td>\n",
              "      <td>0.042918</td>\n",
              "    </tr>\n",
              "  </tbody>\n",
              "</table>\n",
              "<p>8 rows × 2 columns</p>\n",
              "</div>"
            ],
            "text/plain": [
              "                   A         B\n",
              "2000-01-01 -1.362937  1.483502\n",
              "2000-01-02 -0.206544 -1.254282\n",
              "...              ...       ...\n",
              "2000-01-07  0.813464  0.576335\n",
              "2000-01-08  0.336468  0.042918\n",
              "\n",
              "[8 rows x 2 columns]"
            ]
          },
          "execution_count": 108,
          "metadata": {},
          "output_type": "execute_result"
        }
      ],
      "source": [
        "# multiple column \n",
        "df[['A', 'B']]"
      ]
    },
    {
      "cell_type": "code",
      "execution_count": null,
      "metadata": {
        "id": "EQ6lAA9litTG",
        "outputId": "e3ad6085-4700-41f2-828e-6b7b6831a410"
      },
      "outputs": [
        {
          "data": {
            "text/html": [
              "<div>\n",
              "<style scoped>\n",
              "    .dataframe tbody tr th:only-of-type {\n",
              "        vertical-align: middle;\n",
              "    }\n",
              "\n",
              "    .dataframe tbody tr th {\n",
              "        vertical-align: top;\n",
              "    }\n",
              "\n",
              "    .dataframe thead th {\n",
              "        text-align: right;\n",
              "    }\n",
              "</style>\n",
              "<table border=\"1\" class=\"dataframe\">\n",
              "  <thead>\n",
              "    <tr style=\"text-align: right;\">\n",
              "      <th></th>\n",
              "      <th>A</th>\n",
              "      <th>B</th>\n",
              "      <th>C</th>\n",
              "      <th>D</th>\n",
              "    </tr>\n",
              "  </thead>\n",
              "  <tbody>\n",
              "    <tr>\n",
              "      <th>2000-01-01</th>\n",
              "      <td>-1.362937</td>\n",
              "      <td>1.483502</td>\n",
              "      <td>0.524516</td>\n",
              "      <td>-0.933905</td>\n",
              "    </tr>\n",
              "    <tr>\n",
              "      <th>2000-01-02</th>\n",
              "      <td>-0.206544</td>\n",
              "      <td>-1.254282</td>\n",
              "      <td>-0.923655</td>\n",
              "      <td>0.482976</td>\n",
              "    </tr>\n",
              "    <tr>\n",
              "      <th>2000-01-03</th>\n",
              "      <td>2.593812</td>\n",
              "      <td>-1.728788</td>\n",
              "      <td>0.722451</td>\n",
              "      <td>0.787070</td>\n",
              "    </tr>\n",
              "    <tr>\n",
              "      <th>2000-01-04</th>\n",
              "      <td>-0.620503</td>\n",
              "      <td>-1.572747</td>\n",
              "      <td>-0.407664</td>\n",
              "      <td>0.720351</td>\n",
              "    </tr>\n",
              "  </tbody>\n",
              "</table>\n",
              "</div>"
            ],
            "text/plain": [
              "                   A         B         C         D\n",
              "2000-01-01 -1.362937  1.483502  0.524516 -0.933905\n",
              "2000-01-02 -0.206544 -1.254282 -0.923655  0.482976\n",
              "2000-01-03  2.593812 -1.728788  0.722451  0.787070\n",
              "2000-01-04 -0.620503 -1.572747 -0.407664  0.720351"
            ]
          },
          "execution_count": 109,
          "metadata": {},
          "output_type": "execute_result"
        }
      ],
      "source": [
        "# slice by rows\n",
        "df['2000-01-01': '2000-01-04']"
      ]
    },
    {
      "cell_type": "code",
      "execution_count": null,
      "metadata": {
        "id": "4c95uOPjitTG",
        "outputId": "17da688a-9bad-4215-fc59-ff597b3d3f0d"
      },
      "outputs": [
        {
          "data": {
            "text/html": [
              "<div>\n",
              "<style scoped>\n",
              "    .dataframe tbody tr th:only-of-type {\n",
              "        vertical-align: middle;\n",
              "    }\n",
              "\n",
              "    .dataframe tbody tr th {\n",
              "        vertical-align: top;\n",
              "    }\n",
              "\n",
              "    .dataframe thead th {\n",
              "        text-align: right;\n",
              "    }\n",
              "</style>\n",
              "<table border=\"1\" class=\"dataframe\">\n",
              "  <thead>\n",
              "    <tr style=\"text-align: right;\">\n",
              "      <th></th>\n",
              "      <th>A</th>\n",
              "      <th>B</th>\n",
              "    </tr>\n",
              "  </thead>\n",
              "  <tbody>\n",
              "    <tr>\n",
              "      <th>2000-01-01</th>\n",
              "      <td>-1.362937</td>\n",
              "      <td>1.483502</td>\n",
              "    </tr>\n",
              "    <tr>\n",
              "      <th>2000-01-02</th>\n",
              "      <td>-0.206544</td>\n",
              "      <td>-1.254282</td>\n",
              "    </tr>\n",
              "    <tr>\n",
              "      <th>2000-01-03</th>\n",
              "      <td>2.593812</td>\n",
              "      <td>-1.728788</td>\n",
              "    </tr>\n",
              "    <tr>\n",
              "      <th>2000-01-04</th>\n",
              "      <td>-0.620503</td>\n",
              "      <td>-1.572747</td>\n",
              "    </tr>\n",
              "  </tbody>\n",
              "</table>\n",
              "</div>"
            ],
            "text/plain": [
              "                   A         B\n",
              "2000-01-01 -1.362937  1.483502\n",
              "2000-01-02 -0.206544 -1.254282\n",
              "2000-01-03  2.593812 -1.728788\n",
              "2000-01-04 -0.620503 -1.572747"
            ]
          },
          "execution_count": 112,
          "metadata": {},
          "output_type": "execute_result"
        }
      ],
      "source": [
        "df.loc['2000-01-01': '2000-01-04',\"A\":\"B\"]"
      ]
    },
    {
      "cell_type": "code",
      "execution_count": null,
      "metadata": {
        "id": "jnOcZLRYitTH",
        "outputId": "0f393026-9a3a-408b-ea87-423207ff6694"
      },
      "outputs": [
        {
          "data": {
            "text/plain": [
              "2000-01-01    False\n",
              "2000-01-02     True\n",
              "              ...  \n",
              "2000-01-07     True\n",
              "2000-01-08     True\n",
              "Freq: D, Length: 8, dtype: bool"
            ]
          },
          "execution_count": 113,
          "metadata": {},
          "output_type": "execute_result"
        }
      ],
      "source": [
        "df['A'] > df['B']"
      ]
    },
    {
      "cell_type": "code",
      "execution_count": null,
      "metadata": {
        "id": "JyOgza90itTH",
        "outputId": "60cd29f4-8be3-41d3-da71-b01e7e9853b6"
      },
      "outputs": [
        {
          "data": {
            "text/html": [
              "<div>\n",
              "<style scoped>\n",
              "    .dataframe tbody tr th:only-of-type {\n",
              "        vertical-align: middle;\n",
              "    }\n",
              "\n",
              "    .dataframe tbody tr th {\n",
              "        vertical-align: top;\n",
              "    }\n",
              "\n",
              "    .dataframe thead th {\n",
              "        text-align: right;\n",
              "    }\n",
              "</style>\n",
              "<table border=\"1\" class=\"dataframe\">\n",
              "  <thead>\n",
              "    <tr style=\"text-align: right;\">\n",
              "      <th></th>\n",
              "      <th>A</th>\n",
              "      <th>B</th>\n",
              "      <th>C</th>\n",
              "      <th>D</th>\n",
              "    </tr>\n",
              "  </thead>\n",
              "  <tbody>\n",
              "    <tr>\n",
              "      <th>2000-01-02</th>\n",
              "      <td>-0.206544</td>\n",
              "      <td>-1.254282</td>\n",
              "      <td>-0.923655</td>\n",
              "      <td>0.482976</td>\n",
              "    </tr>\n",
              "    <tr>\n",
              "      <th>2000-01-03</th>\n",
              "      <td>2.593812</td>\n",
              "      <td>-1.728788</td>\n",
              "      <td>0.722451</td>\n",
              "      <td>0.787070</td>\n",
              "    </tr>\n",
              "    <tr>\n",
              "      <th>...</th>\n",
              "      <td>...</td>\n",
              "      <td>...</td>\n",
              "      <td>...</td>\n",
              "      <td>...</td>\n",
              "    </tr>\n",
              "    <tr>\n",
              "      <th>2000-01-07</th>\n",
              "      <td>0.813464</td>\n",
              "      <td>0.576335</td>\n",
              "      <td>0.489329</td>\n",
              "      <td>-0.524453</td>\n",
              "    </tr>\n",
              "    <tr>\n",
              "      <th>2000-01-08</th>\n",
              "      <td>0.336468</td>\n",
              "      <td>0.042918</td>\n",
              "      <td>0.030945</td>\n",
              "      <td>1.078034</td>\n",
              "    </tr>\n",
              "  </tbody>\n",
              "</table>\n",
              "<p>6 rows × 4 columns</p>\n",
              "</div>"
            ],
            "text/plain": [
              "                   A         B         C         D\n",
              "2000-01-02 -0.206544 -1.254282 -0.923655  0.482976\n",
              "2000-01-03  2.593812 -1.728788  0.722451  0.787070\n",
              "...              ...       ...       ...       ...\n",
              "2000-01-07  0.813464  0.576335  0.489329 -0.524453\n",
              "2000-01-08  0.336468  0.042918  0.030945  1.078034\n",
              "\n",
              "[6 rows x 4 columns]"
            ]
          },
          "execution_count": 116,
          "metadata": {},
          "output_type": "execute_result"
        }
      ],
      "source": [
        "# boolean mask \n",
        "df[df['A'] > df['B']]"
      ]
    },
    {
      "cell_type": "code",
      "execution_count": null,
      "metadata": {
        "id": "asu09LazitTH",
        "outputId": "06c88098-193b-43dd-87af-00cc196d6e1a"
      },
      "outputs": [
        {
          "data": {
            "text/html": [
              "<div>\n",
              "<style scoped>\n",
              "    .dataframe tbody tr th:only-of-type {\n",
              "        vertical-align: middle;\n",
              "    }\n",
              "\n",
              "    .dataframe tbody tr th {\n",
              "        vertical-align: top;\n",
              "    }\n",
              "\n",
              "    .dataframe thead th {\n",
              "        text-align: right;\n",
              "    }\n",
              "</style>\n",
              "<table border=\"1\" class=\"dataframe\">\n",
              "  <thead>\n",
              "    <tr style=\"text-align: right;\">\n",
              "      <th></th>\n",
              "      <th>A</th>\n",
              "      <th>B</th>\n",
              "      <th>C</th>\n",
              "      <th>D</th>\n",
              "    </tr>\n",
              "  </thead>\n",
              "  <tbody>\n",
              "    <tr>\n",
              "      <th>2000-01-01</th>\n",
              "      <td>1.483502</td>\n",
              "      <td>1.483502</td>\n",
              "      <td>0.524516</td>\n",
              "      <td>-0.933905</td>\n",
              "    </tr>\n",
              "    <tr>\n",
              "      <th>2000-01-02</th>\n",
              "      <td>-1.254282</td>\n",
              "      <td>-1.254282</td>\n",
              "      <td>-0.923655</td>\n",
              "      <td>0.482976</td>\n",
              "    </tr>\n",
              "    <tr>\n",
              "      <th>...</th>\n",
              "      <td>...</td>\n",
              "      <td>...</td>\n",
              "      <td>...</td>\n",
              "      <td>...</td>\n",
              "    </tr>\n",
              "    <tr>\n",
              "      <th>2000-01-04</th>\n",
              "      <td>-1.572747</td>\n",
              "      <td>-1.572747</td>\n",
              "      <td>-0.407664</td>\n",
              "      <td>0.720351</td>\n",
              "    </tr>\n",
              "    <tr>\n",
              "      <th>2000-01-05</th>\n",
              "      <td>-0.556448</td>\n",
              "      <td>-0.556448</td>\n",
              "      <td>-0.660143</td>\n",
              "      <td>0.547458</td>\n",
              "    </tr>\n",
              "  </tbody>\n",
              "</table>\n",
              "<p>5 rows × 4 columns</p>\n",
              "</div>"
            ],
            "text/plain": [
              "                   A         B         C         D\n",
              "2000-01-01  1.483502  1.483502  0.524516 -0.933905\n",
              "2000-01-02 -1.254282 -1.254282 -0.923655  0.482976\n",
              "...              ...       ...       ...       ...\n",
              "2000-01-04 -1.572747 -1.572747 -0.407664  0.720351\n",
              "2000-01-05 -0.556448 -0.556448 -0.660143  0.547458\n",
              "\n",
              "[5 rows x 4 columns]"
            ]
          },
          "execution_count": 121,
          "metadata": {},
          "output_type": "execute_result"
        }
      ],
      "source": [
        "# Assign via []\n",
        "df['A'] = df['B'].values\n",
        "df.head()"
      ]
    },
    {
      "cell_type": "code",
      "execution_count": null,
      "metadata": {
        "id": "DfociTWGitTH",
        "outputId": "1ef528bc-732f-409a-f96d-cdda4c0154e0"
      },
      "outputs": [
        {
          "data": {
            "text/plain": [
              "2000-01-01    1.483502\n",
              "2000-01-02   -1.254282\n",
              "                ...   \n",
              "2000-01-07    0.576335\n",
              "2000-01-08    0.042918\n",
              "Freq: D, Name: B, Length: 8, dtype: float64"
            ]
          },
          "execution_count": 125,
          "metadata": {},
          "output_type": "execute_result"
        }
      ],
      "source": [
        "### You can also access a column by df.colname\n",
        "df.B"
      ]
    },
    {
      "cell_type": "markdown",
      "metadata": {
        "id": "Hr08jKrsitTI"
      },
      "source": [
        "## Selecting by label .loc\n",
        "\n",
        "- is primarily label based, but may also be used with a boolean array.\n",
        "- .loc will raise KeyError when the items are not found\n",
        "- Allowed inputs:\n",
        "    1. A single label \n",
        "    2. A list of labels\n",
        "    3. A boolean array"
      ]
    },
    {
      "cell_type": "code",
      "execution_count": null,
      "metadata": {
        "id": "phU9mR34itTI",
        "outputId": "8ec9d60f-a442-4fc3-ab15-ca83084d7cc3"
      },
      "outputs": [
        {
          "data": {
            "text/plain": [
              "A    1.483502\n",
              "B    1.483502\n",
              "C    0.524516\n",
              "D   -0.933905\n",
              "Name: 2000-01-01 00:00:00, dtype: float64"
            ]
          },
          "execution_count": 127,
          "metadata": {},
          "output_type": "execute_result"
        }
      ],
      "source": [
        "## Selection by label .loc\n",
        "df.loc['2000-01-01']"
      ]
    },
    {
      "cell_type": "code",
      "execution_count": null,
      "metadata": {
        "id": "lhXwlGwwitTI",
        "outputId": "004db1d1-f23a-4462-aeaa-4785564e533f"
      },
      "outputs": [
        {
          "data": {
            "text/html": [
              "<div>\n",
              "<style scoped>\n",
              "    .dataframe tbody tr th:only-of-type {\n",
              "        vertical-align: middle;\n",
              "    }\n",
              "\n",
              "    .dataframe tbody tr th {\n",
              "        vertical-align: top;\n",
              "    }\n",
              "\n",
              "    .dataframe thead th {\n",
              "        text-align: right;\n",
              "    }\n",
              "</style>\n",
              "<table border=\"1\" class=\"dataframe\">\n",
              "  <thead>\n",
              "    <tr style=\"text-align: right;\">\n",
              "      <th></th>\n",
              "      <th>A</th>\n",
              "      <th>B</th>\n",
              "      <th>C</th>\n",
              "    </tr>\n",
              "  </thead>\n",
              "  <tbody>\n",
              "    <tr>\n",
              "      <th>2000-01-01</th>\n",
              "      <td>1.483502</td>\n",
              "      <td>1.483502</td>\n",
              "      <td>0.524516</td>\n",
              "    </tr>\n",
              "    <tr>\n",
              "      <th>2000-01-02</th>\n",
              "      <td>-1.254282</td>\n",
              "      <td>-1.254282</td>\n",
              "      <td>-0.923655</td>\n",
              "    </tr>\n",
              "    <tr>\n",
              "      <th>2000-01-03</th>\n",
              "      <td>-1.728788</td>\n",
              "      <td>-1.728788</td>\n",
              "      <td>0.722451</td>\n",
              "    </tr>\n",
              "  </tbody>\n",
              "</table>\n",
              "</div>"
            ],
            "text/plain": [
              "                   A         B         C\n",
              "2000-01-01  1.483502  1.483502  0.524516\n",
              "2000-01-02 -1.254282 -1.254282 -0.923655\n",
              "2000-01-03 -1.728788 -1.728788  0.722451"
            ]
          },
          "execution_count": 131,
          "metadata": {},
          "output_type": "execute_result"
        }
      ],
      "source": [
        "df.loc['2000-01-01':'2000-01-03', 'A':'C']"
      ]
    },
    {
      "cell_type": "code",
      "execution_count": null,
      "metadata": {
        "id": "QzGszOyWitTI",
        "outputId": "3ec48590-7d06-46a1-950e-55875f175240"
      },
      "outputs": [
        {
          "data": {
            "text/html": [
              "<div>\n",
              "<style scoped>\n",
              "    .dataframe tbody tr th:only-of-type {\n",
              "        vertical-align: middle;\n",
              "    }\n",
              "\n",
              "    .dataframe tbody tr th {\n",
              "        vertical-align: top;\n",
              "    }\n",
              "\n",
              "    .dataframe thead th {\n",
              "        text-align: right;\n",
              "    }\n",
              "</style>\n",
              "<table border=\"1\" class=\"dataframe\">\n",
              "  <thead>\n",
              "    <tr style=\"text-align: right;\">\n",
              "      <th></th>\n",
              "      <th>A</th>\n",
              "      <th>B</th>\n",
              "      <th>C</th>\n",
              "    </tr>\n",
              "  </thead>\n",
              "  <tbody>\n",
              "    <tr>\n",
              "      <th>2000-01-01</th>\n",
              "      <td>1.483502</td>\n",
              "      <td>1.483502</td>\n",
              "      <td>0.524516</td>\n",
              "    </tr>\n",
              "    <tr>\n",
              "      <th>2000-01-02</th>\n",
              "      <td>-1.254282</td>\n",
              "      <td>-1.254282</td>\n",
              "      <td>-0.923655</td>\n",
              "    </tr>\n",
              "    <tr>\n",
              "      <th>...</th>\n",
              "      <td>...</td>\n",
              "      <td>...</td>\n",
              "      <td>...</td>\n",
              "    </tr>\n",
              "    <tr>\n",
              "      <th>2000-01-07</th>\n",
              "      <td>0.576335</td>\n",
              "      <td>0.576335</td>\n",
              "      <td>0.489329</td>\n",
              "    </tr>\n",
              "    <tr>\n",
              "      <th>2000-01-08</th>\n",
              "      <td>0.042918</td>\n",
              "      <td>0.042918</td>\n",
              "      <td>0.030945</td>\n",
              "    </tr>\n",
              "  </tbody>\n",
              "</table>\n",
              "<p>8 rows × 3 columns</p>\n",
              "</div>"
            ],
            "text/plain": [
              "                   A         B         C\n",
              "2000-01-01  1.483502  1.483502  0.524516\n",
              "2000-01-02 -1.254282 -1.254282 -0.923655\n",
              "...              ...       ...       ...\n",
              "2000-01-07  0.576335  0.576335  0.489329\n",
              "2000-01-08  0.042918  0.042918  0.030945\n",
              "\n",
              "[8 rows x 3 columns]"
            ]
          },
          "execution_count": 129,
          "metadata": {},
          "output_type": "execute_result"
        }
      ],
      "source": [
        "# Get columns for which value is greater than 0 on certain day, get all rows\n",
        "df.loc[:, df.loc['2000-01-01'] > 0]"
      ]
    },
    {
      "cell_type": "markdown",
      "metadata": {
        "id": "hHbO7QNfitTJ"
      },
      "source": [
        "## Selecting by position \n",
        "\n",
        "- The .iloc attribute is the primary access method. The following are valid input:\n",
        "    - An integer\n",
        "    - A list of integers\n",
        "    - A slice \n",
        "    - A boolean array"
      ]
    },
    {
      "cell_type": "code",
      "execution_count": null,
      "metadata": {
        "id": "Vw13S_tWitTJ",
        "outputId": "e43b849e-7350-46bf-dcee-982a79aad6fc"
      },
      "outputs": [
        {
          "data": {
            "text/html": [
              "<div>\n",
              "<style scoped>\n",
              "    .dataframe tbody tr th:only-of-type {\n",
              "        vertical-align: middle;\n",
              "    }\n",
              "\n",
              "    .dataframe tbody tr th {\n",
              "        vertical-align: top;\n",
              "    }\n",
              "\n",
              "    .dataframe thead th {\n",
              "        text-align: right;\n",
              "    }\n",
              "</style>\n",
              "<table border=\"1\" class=\"dataframe\">\n",
              "  <thead>\n",
              "    <tr style=\"text-align: right;\">\n",
              "      <th></th>\n",
              "      <th>0</th>\n",
              "      <th>3</th>\n",
              "      <th>6</th>\n",
              "      <th>9</th>\n",
              "    </tr>\n",
              "  </thead>\n",
              "  <tbody>\n",
              "    <tr>\n",
              "      <th>0</th>\n",
              "      <td>-1.249950</td>\n",
              "      <td>1.813411</td>\n",
              "      <td>1.049430</td>\n",
              "      <td>0.028633</td>\n",
              "    </tr>\n",
              "    <tr>\n",
              "      <th>2</th>\n",
              "      <td>-0.443398</td>\n",
              "      <td>0.439454</td>\n",
              "      <td>-0.021912</td>\n",
              "      <td>-0.255155</td>\n",
              "    </tr>\n",
              "    <tr>\n",
              "      <th>...</th>\n",
              "      <td>...</td>\n",
              "      <td>...</td>\n",
              "      <td>...</td>\n",
              "      <td>...</td>\n",
              "    </tr>\n",
              "    <tr>\n",
              "      <th>8</th>\n",
              "      <td>1.248732</td>\n",
              "      <td>0.346390</td>\n",
              "      <td>-0.897315</td>\n",
              "      <td>-0.887697</td>\n",
              "    </tr>\n",
              "    <tr>\n",
              "      <th>10</th>\n",
              "      <td>-0.511324</td>\n",
              "      <td>-0.983307</td>\n",
              "      <td>0.739330</td>\n",
              "      <td>-0.387867</td>\n",
              "    </tr>\n",
              "  </tbody>\n",
              "</table>\n",
              "<p>6 rows × 4 columns</p>\n",
              "</div>"
            ],
            "text/plain": [
              "           0         3         6         9\n",
              "0  -1.249950  1.813411  1.049430  0.028633\n",
              "2  -0.443398  0.439454 -0.021912 -0.255155\n",
              "..       ...       ...       ...       ...\n",
              "8   1.248732  0.346390 -0.897315 -0.887697\n",
              "10 -0.511324 -0.983307  0.739330 -0.387867\n",
              "\n",
              "[6 rows x 4 columns]"
            ]
          },
          "execution_count": 132,
          "metadata": {},
          "output_type": "execute_result"
        }
      ],
      "source": [
        "df1 = pd.DataFrame(np.random.randn(6,4), \n",
        "                   index=list(range(0,12,2)), columns=list(range(0,12,3)))\n",
        "\n",
        "df1"
      ]
    },
    {
      "cell_type": "code",
      "execution_count": null,
      "metadata": {
        "id": "Zql_WFpditTJ",
        "outputId": "ef343807-e2ae-4b84-d189-9ce2fa89f22e"
      },
      "outputs": [
        {
          "data": {
            "text/html": [
              "<div>\n",
              "<style scoped>\n",
              "    .dataframe tbody tr th:only-of-type {\n",
              "        vertical-align: middle;\n",
              "    }\n",
              "\n",
              "    .dataframe tbody tr th {\n",
              "        vertical-align: top;\n",
              "    }\n",
              "\n",
              "    .dataframe thead th {\n",
              "        text-align: right;\n",
              "    }\n",
              "</style>\n",
              "<table border=\"1\" class=\"dataframe\">\n",
              "  <thead>\n",
              "    <tr style=\"text-align: right;\">\n",
              "      <th></th>\n",
              "      <th>0</th>\n",
              "      <th>3</th>\n",
              "      <th>6</th>\n",
              "      <th>9</th>\n",
              "    </tr>\n",
              "  </thead>\n",
              "  <tbody>\n",
              "    <tr>\n",
              "      <th>0</th>\n",
              "      <td>-1.249950</td>\n",
              "      <td>1.813411</td>\n",
              "      <td>1.049430</td>\n",
              "      <td>0.028633</td>\n",
              "    </tr>\n",
              "    <tr>\n",
              "      <th>2</th>\n",
              "      <td>-0.443398</td>\n",
              "      <td>0.439454</td>\n",
              "      <td>-0.021912</td>\n",
              "      <td>-0.255155</td>\n",
              "    </tr>\n",
              "    <tr>\n",
              "      <th>4</th>\n",
              "      <td>-0.515875</td>\n",
              "      <td>0.712746</td>\n",
              "      <td>0.145403</td>\n",
              "      <td>1.436630</td>\n",
              "    </tr>\n",
              "  </tbody>\n",
              "</table>\n",
              "</div>"
            ],
            "text/plain": [
              "          0         3         6         9\n",
              "0 -1.249950  1.813411  1.049430  0.028633\n",
              "2 -0.443398  0.439454 -0.021912 -0.255155\n",
              "4 -0.515875  0.712746  0.145403  1.436630"
            ]
          },
          "execution_count": 135,
          "metadata": {},
          "output_type": "execute_result"
        }
      ],
      "source": [
        "# rows 0-2\n",
        "df1.iloc[:3]"
      ]
    },
    {
      "cell_type": "code",
      "execution_count": null,
      "metadata": {
        "id": "RMp-AE_qitTJ",
        "outputId": "0e5da72c-7b76-414a-e9a9-2700378b1c6b"
      },
      "outputs": [
        {
          "data": {
            "text/html": [
              "<div>\n",
              "<style scoped>\n",
              "    .dataframe tbody tr th:only-of-type {\n",
              "        vertical-align: middle;\n",
              "    }\n",
              "\n",
              "    .dataframe tbody tr th {\n",
              "        vertical-align: top;\n",
              "    }\n",
              "\n",
              "    .dataframe thead th {\n",
              "        text-align: right;\n",
              "    }\n",
              "</style>\n",
              "<table border=\"1\" class=\"dataframe\">\n",
              "  <thead>\n",
              "    <tr style=\"text-align: right;\">\n",
              "      <th></th>\n",
              "      <th>6</th>\n",
              "      <th>9</th>\n",
              "    </tr>\n",
              "  </thead>\n",
              "  <tbody>\n",
              "    <tr>\n",
              "      <th>2</th>\n",
              "      <td>-0.021912</td>\n",
              "      <td>-0.255155</td>\n",
              "    </tr>\n",
              "    <tr>\n",
              "      <th>4</th>\n",
              "      <td>0.145403</td>\n",
              "      <td>1.436630</td>\n",
              "    </tr>\n",
              "    <tr>\n",
              "      <th>6</th>\n",
              "      <td>-0.180652</td>\n",
              "      <td>0.315750</td>\n",
              "    </tr>\n",
              "    <tr>\n",
              "      <th>8</th>\n",
              "      <td>-0.897315</td>\n",
              "      <td>-0.887697</td>\n",
              "    </tr>\n",
              "  </tbody>\n",
              "</table>\n",
              "</div>"
            ],
            "text/plain": [
              "          6         9\n",
              "2 -0.021912 -0.255155\n",
              "4  0.145403  1.436630\n",
              "6 -0.180652  0.315750\n",
              "8 -0.897315 -0.887697"
            ]
          },
          "execution_count": 136,
          "metadata": {},
          "output_type": "execute_result"
        }
      ],
      "source": [
        "#  rows 1:5  and columns 2 : 4\n",
        "df1.iloc[1:5, 2:4]"
      ]
    },
    {
      "cell_type": "code",
      "execution_count": null,
      "metadata": {
        "id": "fiU6II0DitTJ",
        "outputId": "ebe3bbf5-d51c-4247-e057-4e0cd3418972"
      },
      "outputs": [
        {
          "data": {
            "text/html": [
              "<div>\n",
              "<style scoped>\n",
              "    .dataframe tbody tr th:only-of-type {\n",
              "        vertical-align: middle;\n",
              "    }\n",
              "\n",
              "    .dataframe tbody tr th {\n",
              "        vertical-align: top;\n",
              "    }\n",
              "\n",
              "    .dataframe thead th {\n",
              "        text-align: right;\n",
              "    }\n",
              "</style>\n",
              "<table border=\"1\" class=\"dataframe\">\n",
              "  <thead>\n",
              "    <tr style=\"text-align: right;\">\n",
              "      <th></th>\n",
              "      <th>3</th>\n",
              "      <th>9</th>\n",
              "    </tr>\n",
              "  </thead>\n",
              "  <tbody>\n",
              "    <tr>\n",
              "      <th>2</th>\n",
              "      <td>0.439454</td>\n",
              "      <td>-0.255155</td>\n",
              "    </tr>\n",
              "    <tr>\n",
              "      <th>6</th>\n",
              "      <td>-0.536210</td>\n",
              "      <td>0.315750</td>\n",
              "    </tr>\n",
              "    <tr>\n",
              "      <th>10</th>\n",
              "      <td>-0.983307</td>\n",
              "      <td>-0.387867</td>\n",
              "    </tr>\n",
              "  </tbody>\n",
              "</table>\n",
              "</div>"
            ],
            "text/plain": [
              "           3         9\n",
              "2   0.439454 -0.255155\n",
              "6  -0.536210  0.315750\n",
              "10 -0.983307 -0.387867"
            ]
          },
          "execution_count": 137,
          "metadata": {},
          "output_type": "execute_result"
        }
      ],
      "source": [
        "# select via integer list\n",
        "df1.iloc[[1,3,5], [1,3]]"
      ]
    },
    {
      "cell_type": "code",
      "execution_count": null,
      "metadata": {
        "id": "OBhJHOF3itTK",
        "outputId": "4473daac-3b83-4368-c1ab-3aae0de96f58"
      },
      "outputs": [
        {
          "name": "stdout",
          "output_type": "stream",
          "text": [
            "[ True  True  True False  True False]\n"
          ]
        },
        {
          "data": {
            "text/plain": [
              "0    1.813411\n",
              "2    0.439454\n",
              "4    0.712746\n",
              "8    0.346390\n",
              "Name: 3, dtype: float64"
            ]
          },
          "execution_count": 142,
          "metadata": {},
          "output_type": "execute_result"
        }
      ],
      "source": [
        "# selecting via integer mask \n",
        "boolean_mask = df1.iloc[:, 1] > 0.0\n",
        "print(boolean_mask.values)\n",
        "df1.iloc[boolean_mask.values,1]"
      ]
    },
    {
      "cell_type": "markdown",
      "metadata": {
        "id": "63lMecSRitTK"
      },
      "source": [
        "### Exercise\n",
        "\n",
        "Given the dataframe, find the following\n",
        "- Last two rows of columns A and D\n",
        "- Last three rows such which statisfy that column A > Column B"
      ]
    },
    {
      "cell_type": "code",
      "execution_count": null,
      "metadata": {
        "id": "NMCl6J6XitTK",
        "outputId": "111a00f6-6116-485f-c45e-172b21370e65"
      },
      "outputs": [
        {
          "data": {
            "text/html": [
              "<div>\n",
              "<style scoped>\n",
              "    .dataframe tbody tr th:only-of-type {\n",
              "        vertical-align: middle;\n",
              "    }\n",
              "\n",
              "    .dataframe tbody tr th {\n",
              "        vertical-align: top;\n",
              "    }\n",
              "\n",
              "    .dataframe thead th {\n",
              "        text-align: right;\n",
              "    }\n",
              "</style>\n",
              "<table border=\"1\" class=\"dataframe\">\n",
              "  <thead>\n",
              "    <tr style=\"text-align: right;\">\n",
              "      <th></th>\n",
              "      <th>A</th>\n",
              "      <th>B</th>\n",
              "      <th>C</th>\n",
              "      <th>D</th>\n",
              "    </tr>\n",
              "  </thead>\n",
              "  <tbody>\n",
              "    <tr>\n",
              "      <th>2000-01-01</th>\n",
              "      <td>1.182799</td>\n",
              "      <td>0.464483</td>\n",
              "      <td>-0.960439</td>\n",
              "      <td>0.956026</td>\n",
              "    </tr>\n",
              "    <tr>\n",
              "      <th>2000-01-02</th>\n",
              "      <td>0.041333</td>\n",
              "      <td>0.365082</td>\n",
              "      <td>-0.897081</td>\n",
              "      <td>-0.265709</td>\n",
              "    </tr>\n",
              "    <tr>\n",
              "      <th>...</th>\n",
              "      <td>...</td>\n",
              "      <td>...</td>\n",
              "      <td>...</td>\n",
              "      <td>...</td>\n",
              "    </tr>\n",
              "    <tr>\n",
              "      <th>2000-01-07</th>\n",
              "      <td>-0.069826</td>\n",
              "      <td>-0.150769</td>\n",
              "      <td>0.230082</td>\n",
              "      <td>1.166495</td>\n",
              "    </tr>\n",
              "    <tr>\n",
              "      <th>2000-01-08</th>\n",
              "      <td>0.175498</td>\n",
              "      <td>0.126835</td>\n",
              "      <td>2.700610</td>\n",
              "      <td>0.438449</td>\n",
              "    </tr>\n",
              "  </tbody>\n",
              "</table>\n",
              "<p>8 rows × 4 columns</p>\n",
              "</div>"
            ],
            "text/plain": [
              "                   A         B         C         D\n",
              "2000-01-01  1.182799  0.464483 -0.960439  0.956026\n",
              "2000-01-02  0.041333  0.365082 -0.897081 -0.265709\n",
              "...              ...       ...       ...       ...\n",
              "2000-01-07 -0.069826 -0.150769  0.230082  1.166495\n",
              "2000-01-08  0.175498  0.126835  2.700610  0.438449\n",
              "\n",
              "[8 rows x 4 columns]"
            ]
          },
          "execution_count": 143,
          "metadata": {},
          "output_type": "execute_result"
        }
      ],
      "source": [
        "dates = pd.date_range('1/1/2000', periods=8)\n",
        "df = pd.DataFrame(np.random.randn(8, 4), index=dates, columns=['A', 'B', 'C','D'])\n",
        "df"
      ]
    },
    {
      "cell_type": "code",
      "execution_count": null,
      "metadata": {
        "id": "CSEhLJUZitTK",
        "outputId": "857441e0-b7e4-45c2-f97f-a8d172ef7490"
      },
      "outputs": [
        {
          "data": {
            "text/html": [
              "<div>\n",
              "<style scoped>\n",
              "    .dataframe tbody tr th:only-of-type {\n",
              "        vertical-align: middle;\n",
              "    }\n",
              "\n",
              "    .dataframe tbody tr th {\n",
              "        vertical-align: top;\n",
              "    }\n",
              "\n",
              "    .dataframe thead th {\n",
              "        text-align: right;\n",
              "    }\n",
              "</style>\n",
              "<table border=\"1\" class=\"dataframe\">\n",
              "  <thead>\n",
              "    <tr style=\"text-align: right;\">\n",
              "      <th></th>\n",
              "      <th>A</th>\n",
              "      <th>D</th>\n",
              "    </tr>\n",
              "  </thead>\n",
              "  <tbody>\n",
              "    <tr>\n",
              "      <th>2000-01-07</th>\n",
              "      <td>-0.069826</td>\n",
              "      <td>1.166495</td>\n",
              "    </tr>\n",
              "    <tr>\n",
              "      <th>2000-01-08</th>\n",
              "      <td>0.175498</td>\n",
              "      <td>0.438449</td>\n",
              "    </tr>\n",
              "  </tbody>\n",
              "</table>\n",
              "</div>"
            ],
            "text/plain": [
              "                   A         D\n",
              "2000-01-07 -0.069826  1.166495\n",
              "2000-01-08  0.175498  0.438449"
            ]
          },
          "execution_count": 145,
          "metadata": {},
          "output_type": "execute_result"
        }
      ],
      "source": [
        "df[['A','D']].iloc[-2:]"
      ]
    },
    {
      "cell_type": "code",
      "execution_count": null,
      "metadata": {
        "id": "fg32XfL8itTL",
        "outputId": "2f367a95-65b8-4888-9824-d6a51c47c823"
      },
      "outputs": [
        {
          "data": {
            "text/html": [
              "<div>\n",
              "<style scoped>\n",
              "    .dataframe tbody tr th:only-of-type {\n",
              "        vertical-align: middle;\n",
              "    }\n",
              "\n",
              "    .dataframe tbody tr th {\n",
              "        vertical-align: top;\n",
              "    }\n",
              "\n",
              "    .dataframe thead th {\n",
              "        text-align: right;\n",
              "    }\n",
              "</style>\n",
              "<table border=\"1\" class=\"dataframe\">\n",
              "  <thead>\n",
              "    <tr style=\"text-align: right;\">\n",
              "      <th></th>\n",
              "      <th>A</th>\n",
              "      <th>B</th>\n",
              "      <th>C</th>\n",
              "      <th>D</th>\n",
              "    </tr>\n",
              "  </thead>\n",
              "  <tbody>\n",
              "    <tr>\n",
              "      <th>2000-01-04</th>\n",
              "      <td>0.644966</td>\n",
              "      <td>-0.668630</td>\n",
              "      <td>-0.126835</td>\n",
              "      <td>1.219283</td>\n",
              "    </tr>\n",
              "    <tr>\n",
              "      <th>2000-01-07</th>\n",
              "      <td>-0.069826</td>\n",
              "      <td>-0.150769</td>\n",
              "      <td>0.230082</td>\n",
              "      <td>1.166495</td>\n",
              "    </tr>\n",
              "    <tr>\n",
              "      <th>2000-01-08</th>\n",
              "      <td>0.175498</td>\n",
              "      <td>0.126835</td>\n",
              "      <td>2.700610</td>\n",
              "      <td>0.438449</td>\n",
              "    </tr>\n",
              "  </tbody>\n",
              "</table>\n",
              "</div>"
            ],
            "text/plain": [
              "                   A         B         C         D\n",
              "2000-01-04  0.644966 -0.668630 -0.126835  1.219283\n",
              "2000-01-07 -0.069826 -0.150769  0.230082  1.166495\n",
              "2000-01-08  0.175498  0.126835  2.700610  0.438449"
            ]
          },
          "execution_count": 147,
          "metadata": {},
          "output_type": "execute_result"
        }
      ],
      "source": [
        "df.loc[df['A'] > df['B']].iloc[-3:]"
      ]
    },
    {
      "cell_type": "markdown",
      "metadata": {
        "id": "1dq-CX6YitTL"
      },
      "source": [
        "# Merging DataFrames\n",
        "\n",
        "- Pandas has full-featured, very high performance, in memory join operations that are very similar to SQL and R \n",
        "\n",
        "- The documentation is https://pandas.pydata.org/pandas-docs/stable/merging.html#database-style-dataframe-joining-merging\n",
        "\n",
        "- Pandas provides a single function, merge, as the entry point for all standard database join operations between DataFrame objects: \n",
        "``` python\n",
        "pd.merge(left, right, how='inner', on=None, left_on=None, right_on=None,\n",
        "left_index=False, right_index=False, sort=True) ```\n"
      ]
    },
    {
      "cell_type": "markdown",
      "metadata": {
        "id": "sXznDmZ8itTL"
      },
      "source": [
        "The sequence of operations in a basic call to `pd.merge()` is:\n",
        "\n",
        "1. Check all columns in `left` and `right`. Let S be the set of columns which are present in both \n",
        "2. For every row of `left`, check if it has a corresponding row in `right` with the same values among the columns in S. \n",
        "3. If two matching rows are found, merge the rows together in the natural way.\n",
        "\n",
        "The `how` parameter determines how Pandas will deal with the rows that don't match."
      ]
    },
    {
      "cell_type": "code",
      "execution_count": null,
      "metadata": {
        "scrolled": true,
        "id": "uiL3oaHNitTL",
        "outputId": "0ada626d-1f2a-42cb-cc51-f5883aad9746"
      },
      "outputs": [
        {
          "name": "stdout",
          "output_type": "stream",
          "text": [
            "left: \n",
            "--------------------------------------------------\n",
            "   key  lval\n",
            "0  foo     4\n",
            "1  bar     2\n",
            "--------------------------------------------------\n",
            "right: \n",
            "--------------------------------------------------\n",
            "   key  rval\n",
            "0  bar     4\n",
            "1  zoo     5\n"
          ]
        }
      ],
      "source": [
        "# Example of merge\n",
        "left = pd.DataFrame({'key': ['foo', 'bar'], 'lval': [4, 2]})\n",
        "right = pd.DataFrame({'key': ['bar', 'zoo'], 'rval': [4, 5]})\n",
        "\n",
        "print(\"left: \",left,\"right: \",right, sep=end_string)"
      ]
    },
    {
      "cell_type": "code",
      "execution_count": null,
      "metadata": {
        "id": "wPd52HukitTL",
        "outputId": "93c60af9-bf3b-4ce2-aa49-026932075c31"
      },
      "outputs": [
        {
          "name": "stdout",
          "output_type": "stream",
          "text": [
            "   key  lval  rval\n",
            "0  bar     2     4\n"
          ]
        }
      ],
      "source": [
        "merged = pd.merge(left, right, how=\"inner\")\n",
        "print(merged)\n",
        "#inner ignores all rows in left which don't have a match in right (and vice versa)"
      ]
    },
    {
      "cell_type": "code",
      "execution_count": null,
      "metadata": {
        "id": "PtYMQ_gDitTM",
        "outputId": "4ba579e0-143c-4dd5-d051-3103a889b512"
      },
      "outputs": [
        {
          "name": "stdout",
          "output_type": "stream",
          "text": [
            "   key  lval  rval\n",
            "0  foo   4.0   NaN\n",
            "1  bar   2.0   4.0\n",
            "2  zoo   NaN   5.0\n"
          ]
        }
      ],
      "source": [
        "merged = pd.merge(left, right, how=\"outer\")\n",
        "print(merged)\n",
        "#outer keeps all rows which don't have a match, filling missing entries with NaN"
      ]
    },
    {
      "cell_type": "code",
      "execution_count": null,
      "metadata": {
        "id": "rHRO4ObIitTM",
        "outputId": "b69cf325-adb1-4025-a58f-f9f21c772c51"
      },
      "outputs": [
        {
          "name": "stdout",
          "output_type": "stream",
          "text": [
            "   key  lval  rval\n",
            "0  foo     4   NaN\n",
            "1  bar     2   4.0\n"
          ]
        }
      ],
      "source": [
        "merged = pd.merge(left, right, how=\"left\")\n",
        "print(merged)\n",
        "#left keeps all rows in `left` if they don't have a match, but ignores rows in right if they don't match"
      ]
    },
    {
      "cell_type": "code",
      "execution_count": null,
      "metadata": {
        "id": "y-CSbtsMitTM",
        "outputId": "10322e27-236a-47e4-b4e1-d59a211c04fc"
      },
      "outputs": [
        {
          "name": "stdout",
          "output_type": "stream",
          "text": [
            "   key  lval  rval\n",
            "0  bar   2.0     4\n",
            "1  zoo   NaN     5\n"
          ]
        }
      ],
      "source": [
        "merged = pd.merge(left, right, how=\"right\")\n",
        "print(merged)\n",
        "#right does the same thing as left but on the `right` df"
      ]
    },
    {
      "cell_type": "code",
      "execution_count": null,
      "metadata": {
        "id": "kSUGrqyMitTM",
        "outputId": "04916790-7762-473f-d981-c17c4f45922b"
      },
      "outputs": [
        {
          "name": "stdout",
          "output_type": "stream",
          "text": [
            "   key  lval  shared\n",
            "0  foo     4       1\n",
            "1  bar     2       1\n",
            "--------------------------------------------------\n",
            "\n",
            "\n",
            "   key  rval  shared\n",
            "0  bar     4       2\n",
            "1  zoo     5       2\n",
            "--------------------------------------------------\n",
            "   key  lval  shared_x  rval  shared_y\n",
            "0  bar     2         1     4         2\n",
            "--------------------------------------------------\n",
            "   key  lval  shared  rval\n",
            "0  bar     2       1     4\n"
          ]
        }
      ],
      "source": [
        "#the 'on' keyword specifies which columns to check for matches. By default .merge checks all shared columns\n",
        "left['shared'] = 1 \n",
        "right['shared'] = 2\n",
        "print(left,end=end_string)\n",
        "print('\\n')\n",
        "print(right,end=end_string)\n",
        "merged = pd.merge(left, right, how=\"inner\", on=['key'])\n",
        "print(merged,end=end_string)\n",
        "#this now merges based on 'key' only. \n",
        "right['shared'] = 1\n",
        "merged = pd.merge(left, right, how=\"inner\", on = ['key','shared'])\n",
        "print(merged)"
      ]
    },
    {
      "cell_type": "markdown",
      "metadata": {
        "id": "UT134NOhitTN"
      },
      "source": [
        "`on_left` and `on_right` lets us merge based on columns which have different names in `left` and `right` (they need to be of the same type though)"
      ]
    },
    {
      "cell_type": "code",
      "execution_count": null,
      "metadata": {
        "id": "ZfC3dh6QitTN",
        "outputId": "6c876204-8bd0-4183-f9c5-89265249e23d"
      },
      "outputs": [
        {
          "data": {
            "text/html": [
              "<div>\n",
              "<style scoped>\n",
              "    .dataframe tbody tr th:only-of-type {\n",
              "        vertical-align: middle;\n",
              "    }\n",
              "\n",
              "    .dataframe tbody tr th {\n",
              "        vertical-align: top;\n",
              "    }\n",
              "\n",
              "    .dataframe thead th {\n",
              "        text-align: right;\n",
              "    }\n",
              "</style>\n",
              "<table border=\"1\" class=\"dataframe\">\n",
              "  <thead>\n",
              "    <tr style=\"text-align: right;\">\n",
              "      <th></th>\n",
              "      <th>key</th>\n",
              "      <th>lval</th>\n",
              "      <th>rval</th>\n",
              "    </tr>\n",
              "  </thead>\n",
              "  <tbody>\n",
              "    <tr>\n",
              "      <th>0</th>\n",
              "      <td>test</td>\n",
              "      <td>4</td>\n",
              "      <td>4</td>\n",
              "    </tr>\n",
              "    <tr>\n",
              "      <th>1</th>\n",
              "      <td>test</td>\n",
              "      <td>4</td>\n",
              "      <td>5</td>\n",
              "    </tr>\n",
              "    <tr>\n",
              "      <th>2</th>\n",
              "      <td>test</td>\n",
              "      <td>2</td>\n",
              "      <td>4</td>\n",
              "    </tr>\n",
              "    <tr>\n",
              "      <th>3</th>\n",
              "      <td>test</td>\n",
              "      <td>2</td>\n",
              "      <td>5</td>\n",
              "    </tr>\n",
              "  </tbody>\n",
              "</table>\n",
              "</div>"
            ],
            "text/plain": [
              "    key  lval  rval\n",
              "0  test     4     4\n",
              "1  test     4     5\n",
              "2  test     2     4\n",
              "3  test     2     5"
            ]
          },
          "execution_count": 157,
          "metadata": {},
          "output_type": "execute_result"
        }
      ],
      "source": [
        "left = pd.DataFrame({'key': ['test', 'test'], 'lval': [4, 2]})\n",
        "right = pd.DataFrame({'key': ['test', 'test'], 'rval': [4, 5]})\n",
        "pd.merge(left,right)\n",
        "#gives all pairs of rows"
      ]
    },
    {
      "cell_type": "markdown",
      "metadata": {
        "id": "R98sVR4CitTN"
      },
      "source": [
        "## Function Application\n",
        " - Row or Column-wise Function Application: Applies function along input axis of DataFrame\n",
        "```python \n",
        "df.apply(func, axis = 0) ``` \n",
        " - Elementwise: apply the function to every element in the df \n",
        " ```python \n",
        "df.applymap(func) ``` \n",
        "\n",
        "- Note, ``` applymap ``` is equivalent to the ``` map ``` function on lists. \n",
        "- Note, ``` Series ``` objects support ``` .map ``` instead of ``` applymap ```"
      ]
    },
    {
      "cell_type": "code",
      "execution_count": null,
      "metadata": {
        "id": "GNyeBrACitTN",
        "outputId": "0c8ae918-bf1f-4387-c56f-78caf697120c"
      },
      "outputs": [
        {
          "data": {
            "text/html": [
              "<div>\n",
              "<style scoped>\n",
              "    .dataframe tbody tr th:only-of-type {\n",
              "        vertical-align: middle;\n",
              "    }\n",
              "\n",
              "    .dataframe tbody tr th {\n",
              "        vertical-align: top;\n",
              "    }\n",
              "\n",
              "    .dataframe thead th {\n",
              "        text-align: right;\n",
              "    }\n",
              "</style>\n",
              "<table border=\"1\" class=\"dataframe\">\n",
              "  <thead>\n",
              "    <tr style=\"text-align: right;\">\n",
              "      <th></th>\n",
              "      <th>a</th>\n",
              "      <th>b</th>\n",
              "      <th>c</th>\n",
              "      <th>d</th>\n",
              "    </tr>\n",
              "  </thead>\n",
              "  <tbody>\n",
              "    <tr>\n",
              "      <th>0</th>\n",
              "      <td>-1.994608</td>\n",
              "      <td>-0.152021</td>\n",
              "      <td>0.108041</td>\n",
              "      <td>-0.855526</td>\n",
              "    </tr>\n",
              "    <tr>\n",
              "      <th>2</th>\n",
              "      <td>0.895061</td>\n",
              "      <td>0.851111</td>\n",
              "      <td>-0.369965</td>\n",
              "      <td>-0.389647</td>\n",
              "    </tr>\n",
              "    <tr>\n",
              "      <th>...</th>\n",
              "      <td>...</td>\n",
              "      <td>...</td>\n",
              "      <td>...</td>\n",
              "      <td>...</td>\n",
              "    </tr>\n",
              "    <tr>\n",
              "      <th>8</th>\n",
              "      <td>0.559363</td>\n",
              "      <td>0.561817</td>\n",
              "      <td>0.794551</td>\n",
              "      <td>2.464738</td>\n",
              "    </tr>\n",
              "    <tr>\n",
              "      <th>10</th>\n",
              "      <td>0.125374</td>\n",
              "      <td>0.329242</td>\n",
              "      <td>-3.459012</td>\n",
              "      <td>0.054606</td>\n",
              "    </tr>\n",
              "  </tbody>\n",
              "</table>\n",
              "<p>6 rows × 4 columns</p>\n",
              "</div>"
            ],
            "text/plain": [
              "           a         b         c         d\n",
              "0  -1.994608 -0.152021  0.108041 -0.855526\n",
              "2   0.895061  0.851111 -0.369965 -0.389647\n",
              "..       ...       ...       ...       ...\n",
              "8   0.559363  0.561817  0.794551  2.464738\n",
              "10  0.125374  0.329242 -3.459012  0.054606\n",
              "\n",
              "[6 rows x 4 columns]"
            ]
          },
          "execution_count": 159,
          "metadata": {},
          "output_type": "execute_result"
        }
      ],
      "source": [
        "## APPLY EXAMPLES\n",
        "df1 = pd.DataFrame(np.random.randn(6,4), index=list(range(0,12,2)), columns=list('abcd'))\n",
        "df1"
      ]
    },
    {
      "cell_type": "code",
      "execution_count": null,
      "metadata": {
        "id": "GFocqLCditTO",
        "outputId": "2904bdb9-4367-4b12-9280-154d5041fee8"
      },
      "outputs": [
        {
          "data": {
            "text/plain": [
              "a   -0.060870\n",
              "b   -0.162562\n",
              "c   -0.658526\n",
              "d   -0.030845\n",
              "dtype: float64"
            ]
          },
          "execution_count": 160,
          "metadata": {},
          "output_type": "execute_result"
        }
      ],
      "source": [
        "# Apply to each column\n",
        "df1.apply(np.mean)"
      ]
    },
    {
      "cell_type": "code",
      "execution_count": null,
      "metadata": {
        "id": "Donv5yenitTO",
        "outputId": "5cc00944-26fb-4753-bf42-acad68713297"
      },
      "outputs": [
        {
          "data": {
            "text/plain": [
              "0    -0.723528\n",
              "2     0.246640\n",
              "        ...   \n",
              "8     1.095117\n",
              "10   -0.737448\n",
              "Length: 6, dtype: float64"
            ]
          },
          "execution_count": 161,
          "metadata": {},
          "output_type": "execute_result"
        }
      ],
      "source": [
        "# Apply to each row\n",
        "df1.apply(np.mean, axis = 1)"
      ]
    },
    {
      "cell_type": "markdown",
      "metadata": {
        "id": "g_C7foXRitTO"
      },
      "source": [
        "### Side note: lambda functions\n",
        "\n",
        "lambda functions allow you to specify a function without giving it a separate declaration.  For example, the function \n",
        "```python\n",
        "lambda x: (x - x.mean())/x.std()\n",
        "```\n",
        "is equivalent to the function\n",
        "```python\n",
        "def normalize(x):\n",
        "    return (x - x.mean())/x.std()\n",
        "```\n",
        "You'll often see lambda functions used in list comprehensions, or in methods (like `map()`, `apply()`, or `applymap()`) that take a function as input."
      ]
    },
    {
      "cell_type": "code",
      "execution_count": null,
      "metadata": {
        "id": "G44MOzO8itTO",
        "outputId": "cb65c222-4a4f-45cd-e2e7-6eb3da30962c"
      },
      "outputs": [
        {
          "data": {
            "text/html": [
              "<div>\n",
              "<style scoped>\n",
              "    .dataframe tbody tr th:only-of-type {\n",
              "        vertical-align: middle;\n",
              "    }\n",
              "\n",
              "    .dataframe tbody tr th {\n",
              "        vertical-align: top;\n",
              "    }\n",
              "\n",
              "    .dataframe thead th {\n",
              "        text-align: right;\n",
              "    }\n",
              "</style>\n",
              "<table border=\"1\" class=\"dataframe\">\n",
              "  <thead>\n",
              "    <tr style=\"text-align: right;\">\n",
              "      <th></th>\n",
              "      <th>a</th>\n",
              "      <th>b</th>\n",
              "      <th>c</th>\n",
              "      <th>d</th>\n",
              "    </tr>\n",
              "  </thead>\n",
              "  <tbody>\n",
              "    <tr>\n",
              "      <th>0</th>\n",
              "      <td>-1.496387</td>\n",
              "      <td>0.010321</td>\n",
              "      <td>0.513155</td>\n",
              "      <td>-0.625909</td>\n",
              "    </tr>\n",
              "    <tr>\n",
              "      <th>2</th>\n",
              "      <td>0.739729</td>\n",
              "      <td>0.992407</td>\n",
              "      <td>0.193168</td>\n",
              "      <td>-0.272320</td>\n",
              "    </tr>\n",
              "    <tr>\n",
              "      <th>...</th>\n",
              "      <td>...</td>\n",
              "      <td>...</td>\n",
              "      <td>...</td>\n",
              "      <td>...</td>\n",
              "    </tr>\n",
              "    <tr>\n",
              "      <th>8</th>\n",
              "      <td>0.479955</td>\n",
              "      <td>0.709182</td>\n",
              "      <td>0.972718</td>\n",
              "      <td>1.894077</td>\n",
              "    </tr>\n",
              "    <tr>\n",
              "      <th>10</th>\n",
              "      <td>0.144121</td>\n",
              "      <td>0.481486</td>\n",
              "      <td>-1.874699</td>\n",
              "      <td>0.064855</td>\n",
              "    </tr>\n",
              "  </tbody>\n",
              "</table>\n",
              "<p>6 rows × 4 columns</p>\n",
              "</div>"
            ],
            "text/plain": [
              "           a         b         c         d\n",
              "0  -1.496387  0.010321  0.513155 -0.625909\n",
              "2   0.739729  0.992407  0.193168 -0.272320\n",
              "..       ...       ...       ...       ...\n",
              "8   0.479955  0.709182  0.972718  1.894077\n",
              "10  0.144121  0.481486 -1.874699  0.064855\n",
              "\n",
              "[6 rows x 4 columns]"
            ]
          },
          "execution_count": 165,
          "metadata": {},
          "output_type": "execute_result"
        }
      ],
      "source": [
        "def normalize(x):\n",
        "    return (x - x.mean())/x.std()\n",
        "# # Use lambda functions  to normalize columns\n",
        "df1 = df1.apply(lambda x: (x - x.mean())/ x.std(), axis = 0)\n",
        "df1"
      ]
    },
    {
      "cell_type": "code",
      "execution_count": null,
      "metadata": {
        "id": "qlcYMYSBitTP",
        "outputId": "ae71ce15-1b43-4253-8983-3fd73368dbbc"
      },
      "outputs": [
        {
          "data": {
            "text/html": [
              "<div>\n",
              "<style scoped>\n",
              "    .dataframe tbody tr th:only-of-type {\n",
              "        vertical-align: middle;\n",
              "    }\n",
              "\n",
              "    .dataframe tbody tr th {\n",
              "        vertical-align: top;\n",
              "    }\n",
              "\n",
              "    .dataframe thead th {\n",
              "        text-align: right;\n",
              "    }\n",
              "</style>\n",
              "<table border=\"1\" class=\"dataframe\">\n",
              "  <thead>\n",
              "    <tr style=\"text-align: right;\">\n",
              "      <th></th>\n",
              "      <th>A</th>\n",
              "      <th>B</th>\n",
              "      <th>C</th>\n",
              "    </tr>\n",
              "  </thead>\n",
              "  <tbody>\n",
              "    <tr>\n",
              "      <th>2000-01-01</th>\n",
              "      <td>-0.992550</td>\n",
              "      <td>-1.111202</td>\n",
              "      <td>0.348438</td>\n",
              "    </tr>\n",
              "    <tr>\n",
              "      <th>2000-01-02</th>\n",
              "      <td>0.955349</td>\n",
              "      <td>-2.658970</td>\n",
              "      <td>1.135902</td>\n",
              "    </tr>\n",
              "    <tr>\n",
              "      <th>...</th>\n",
              "      <td>...</td>\n",
              "      <td>...</td>\n",
              "      <td>...</td>\n",
              "    </tr>\n",
              "    <tr>\n",
              "      <th>2002-09-25</th>\n",
              "      <td>-2.530995</td>\n",
              "      <td>0.469297</td>\n",
              "      <td>-1.971643</td>\n",
              "    </tr>\n",
              "    <tr>\n",
              "      <th>2002-09-26</th>\n",
              "      <td>1.773212</td>\n",
              "      <td>-0.553094</td>\n",
              "      <td>-0.409036</td>\n",
              "    </tr>\n",
              "  </tbody>\n",
              "</table>\n",
              "<p>1000 rows × 3 columns</p>\n",
              "</div>"
            ],
            "text/plain": [
              "                   A         B         C\n",
              "2000-01-01 -0.992550 -1.111202  0.348438\n",
              "2000-01-02  0.955349 -2.658970  1.135902\n",
              "...              ...       ...       ...\n",
              "2002-09-25 -2.530995  0.469297 -1.971643\n",
              "2002-09-26  1.773212 -0.553094 -0.409036\n",
              "\n",
              "[1000 rows x 3 columns]"
            ]
          },
          "execution_count": 163,
          "metadata": {},
          "output_type": "execute_result"
        }
      ],
      "source": [
        "#lecture 7\n",
        "## APPLY EXAMPLES CONT\n",
        "# Create DF with 1000 rows and 3 columns filled with random entries\n",
        "tsdf = pd.DataFrame(np.random.randn(1000, 3), columns=['A', 'B', 'C'],\n",
        "                    index=pd.date_range('1/1/2000', periods=1000))\n",
        "\n",
        "tsdf"
      ]
    },
    {
      "cell_type": "code",
      "execution_count": null,
      "metadata": {
        "id": "ugugZ-khitTP"
      },
      "outputs": [],
      "source": [
        "# Can get trickier, say I wanted to find where the maximum dates occured for each column of the df:\n",
        "tsdf.apply(lambda x: x.idxmax())"
      ]
    },
    {
      "cell_type": "code",
      "execution_count": null,
      "metadata": {
        "id": "jG1AlhJ7itTP"
      },
      "outputs": [],
      "source": [
        "## APPLYMAP EXAMPLES\n",
        "tsdf = tsdf.applymap(lambda x: x - 1)\n",
        "print(tsdf.head())"
      ]
    },
    {
      "cell_type": "markdown",
      "metadata": {
        "id": "ZhZItXqTitTP"
      },
      "source": [
        "# I/O Functions\n",
        "\n",
        "- There are loads of input output features. The highlights most useful to you are likely:\n",
        "    - ``` pd.read_csv ``` / ``` pd.to_csv ``` \n",
        "    - ``` pd.read_excel ``` / ``` pd.to_excel ```\n",
        "    - ``` pd.read_sql ``` / ``` pd.to_sql ```\n",
        "    - ``` pd.read_pickle ``` / ``` pd.to_pickle ```\n",
        "Documentation:\n",
        "\n",
        "* [Pandas Import-Output Functions](https://pandas.pydata.org/pandas-docs/stable/io.html)"
      ]
    },
    {
      "cell_type": "markdown",
      "metadata": {
        "id": "xcB1Ko-XitTP"
      },
      "source": [
        "### Loading data from CSV\n",
        "Here are the first several lines of `iris.csv`:\n",
        "\n",
        "```\n",
        "sepal_length,sepal_width,petal_length,petal_width,name\n",
        "5.1,3.5,1.4,0.2,setosa\n",
        "4.9,3.0,1.4,0.2,setosa\n",
        "4.7,3.2,1.3,0.2,setosa\n",
        "4.6,3.1,1.5,0.2,setosa\n",
        "5.0,3.6,1.4,0.2,setosa\n",
        "5.4,3.9,1.7,0.4,setosa\n",
        "```"
      ]
    },
    {
      "cell_type": "code",
      "execution_count": null,
      "metadata": {
        "id": "Zw8sf_E_itTQ"
      },
      "outputs": [],
      "source": [
        "import pandas as pd\n",
        "# Can use df.info to find out information about the df \n",
        "iris_data = pd.read_csv('https://gist.githubusercontent.com/curran/a08a1080b88344b0c8a7/raw/639388c2cbc2120a14dcf466e85730eb8be498bb/iris.csv')\n",
        "\n",
        "#iris_data = pd.read_csv('./data/iris.csv')\n",
        "iris_data.info()"
      ]
    },
    {
      "cell_type": "code",
      "execution_count": null,
      "metadata": {
        "id": "wturCakpitTQ"
      },
      "outputs": [],
      "source": [
        "# describe and summarize the dataframe\n",
        "iris_data.describe()"
      ]
    },
    {
      "cell_type": "markdown",
      "metadata": {
        "id": "pV0YYSxwitTQ"
      },
      "source": [
        "## The split/apply combo (groupyby)\n",
        "- pandas objects can be split on any of their axes. The abstract definition of grouping is to provide a mapping of labels to group names:\n",
        "- Syntax:  \n",
        "    - ``` groups = df.groupby(key) ```\n",
        "    - ``` groups = df.groupby(key, axis = 1) ```\n",
        "    - ``` groups = df.groupby([key1, key2], axis = 1) ```"
      ]
    },
    {
      "cell_type": "markdown",
      "metadata": {
        "id": "CTGnIjOlitTQ"
      },
      "source": [
        "\n",
        "- The group by concept is that we want to apply the same function on subsets of the dataframe, based on some key we use to split the DataFrame into subsets\n",
        "- This idea is referred to as the \"split-apply-combine\" operation:\n",
        "    - Split the data into groups based on some criteria\n",
        "    - Apply a function to each group independently\n",
        "    - Combine the results \n",
        "\n",
        "![image](https://i.stack.imgur.com/sgCn1.jpg)"
      ]
    },
    {
      "cell_type": "code",
      "execution_count": null,
      "metadata": {
        "id": "y_mRtmeWitTQ"
      },
      "outputs": [],
      "source": [
        "df = pd.DataFrame({'key':['A','B','C','A','B','C','A','B','C'],\n",
        "                   'data': [0, 5, 10, 5, 10, 15, 10, 15, 20]})\n",
        "df"
      ]
    },
    {
      "cell_type": "code",
      "execution_count": null,
      "metadata": {
        "id": "bww_PKvKitTR"
      },
      "outputs": [],
      "source": [
        "sums = df.groupby('key').agg(np.mean)\n",
        "sums"
      ]
    },
    {
      "cell_type": "markdown",
      "metadata": {
        "id": "6RRYTbn4itTR"
      },
      "source": [
        "# Plotting data\n",
        "\n",
        "- The plot method on Series and DataFrame is just a wrapper on matplotlib plt.plot()\n",
        "- Many available plots:\n",
        "    - ‘bar’ or ‘barh’ for bar plots\n",
        "    - ‘hist’ for histogram\n",
        "    - ‘box’ for boxplot\n",
        "    - ‘kde’ or 'density' for density plots • ‘area’ for area plots\n",
        "    - ‘scatter’ for scatter plots\n",
        "    - ‘hexbin’ for hexagonal bin plots • ‘pie’ for pie plots\n",
        "    \n",
        "- There are several more complex plotting functions in pandas.tools.plotting that take a Series or DataFrame as an argument. These include:\n",
        "    - Scatter matrices\n",
        "    - Autocorrelation\n",
        "    - Bootstrap Plot"
      ]
    },
    {
      "cell_type": "code",
      "execution_count": null,
      "metadata": {
        "id": "aq5HJq9TitTR"
      },
      "outputs": [],
      "source": [
        "import matplotlib.pyplot as plt"
      ]
    },
    {
      "cell_type": "code",
      "execution_count": null,
      "metadata": {
        "id": "_prYFxdkitTR"
      },
      "outputs": [],
      "source": [
        "iris_data.plot();"
      ]
    },
    {
      "cell_type": "code",
      "execution_count": null,
      "metadata": {
        "id": "QzY3rGfzitTT"
      },
      "outputs": [],
      "source": [
        "## Quick example - Random walks\n",
        "df = pd.DataFrame(np.random.randn(1000, 4), index =pd.date_range('1/1/2000', periods=1000), columns=list('ABCD'))\n",
        "df = df.cumsum()\n",
        "df.plot()\n",
        "plt.show()"
      ]
    },
    {
      "cell_type": "code",
      "execution_count": null,
      "metadata": {
        "id": "zq529_73itTT"
      },
      "outputs": [],
      "source": [
        "plt.figure()\n",
        "df.iloc[5].plot(kind = 'bar')\n",
        "plt.axhline(0, color = 'k')"
      ]
    },
    {
      "cell_type": "code",
      "execution_count": null,
      "metadata": {
        "id": "wykV1FX5itTT"
      },
      "outputs": [],
      "source": [
        "#data = pd.read_csv('./data/iris.csv')\n",
        "ax = iris_data.groupby('species') \\\n",
        "         .get_group('setosa') \\\n",
        "         .boxplot(column=[\"sepal_length\",\"sepal_width\"], return_type='axes')"
      ]
    }
  ],
  "metadata": {
    "kernelspec": {
      "display_name": "Python 3 (ipykernel)",
      "language": "python",
      "name": "python3"
    },
    "language_info": {
      "codemirror_mode": {
        "name": "ipython",
        "version": 3
      },
      "file_extension": ".py",
      "mimetype": "text/x-python",
      "name": "python",
      "nbconvert_exporter": "python",
      "pygments_lexer": "ipython3",
      "version": "3.9.7"
    },
    "colab": {
      "name": "6-SciProg_Pandas.ipynb",
      "provenance": [],
      "collapsed_sections": [
        "mYSPoycUitS3",
        "P5dD440-itS8",
        "-BjG-iMLitTB",
        "UtP5WHmpitTE",
        "duDWJ0HsitTE",
        "Hr08jKrsitTI",
        "hHbO7QNfitTJ",
        "63lMecSRitTK",
        "R98sVR4CitTN",
        "g_C7foXRitTO",
        "xcB1Ko-XitTP",
        "pV0YYSxwitTQ"
      ],
      "include_colab_link": true
    }
  },
  "nbformat": 4,
  "nbformat_minor": 0
}