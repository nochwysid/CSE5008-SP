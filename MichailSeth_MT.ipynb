{
  "nbformat": 4,
  "nbformat_minor": 0,
  "metadata": {
    "colab": {
      "name": "MichailSeth_Midterm.ipynb",
      "provenance": [],
      "authorship_tag": "ABX9TyMQDJL+pN34RxQHRzccDkiP",
      "include_colab_link": true
    },
    "kernelspec": {
      "name": "python3",
      "display_name": "Python 3"
    },
    "language_info": {
      "name": "python"
    }
  },
  "cells": [
    {
      "cell_type": "markdown",
      "metadata": {
        "id": "view-in-github",
        "colab_type": "text"
      },
      "source": [
        "<a href=\"https://colab.research.google.com/github/nochwysid/CSE5008-SP/blob/main/MichailSeth_MT.ipynb\" target=\"_parent\"><img src=\"https://colab.research.google.com/assets/colab-badge.svg\" alt=\"Open In Colab\"/></a>"
      ]
    },
    {
      "cell_type": "markdown",
      "source": [
        "Seth Michail  \n",
        "202051075003  \n"
      ],
      "metadata": {
        "id": "WCkzGVCQU1e_"
      }
    },
    {
      "cell_type": "code",
      "execution_count": 1,
      "metadata": {
        "id": "_eQE1EFEggpM"
      },
      "outputs": [],
      "source": [
        "import numpy as np\n",
        "import scipy as sp\n",
        "from scipy import stats\n",
        "from scipy import optimize as opt\n",
        "import matplotlib.pyplot as plt\n",
        "import math\n"
      ]
    },
    {
      "cell_type": "markdown",
      "source": [
        "Question 1-Functions: Root finding  \n",
        "Suppose f is a continuous function and f(a) < 0 and f(b) > 0 for some known a and b. For simplicity,\n",
        "assume a < b. Then, there must exist some c such that f(c) = 0.  \n",
        "(a) Write a function root(f, a, b) that takes a function f and two floats a and b and returns the\n",
        "root c. Hint: check the sign at the midpoint of the interval.  \n"
      ],
      "metadata": {
        "id": "vOGzUE5edRdV"
      }
    },
    {
      "cell_type": "code",
      "source": [
        "\n",
        "def root(f,a,b):\n",
        "  if(b < a or b == a):\n",
        "    raise ValueError(\"b less or equal a, which is not allowed\")\n",
        "  else:\n",
        "    if (f(a) >= 0 or f(b) <= 0):\n",
        "      raise ValueError(\"f(a) >= 0 or f(b) <= 0\")\n",
        "    c = (a + b)/2\n",
        "    cout = f(c)\n",
        "    if(cout == 0):\n",
        "      return c\n",
        "    elif(cout < 0):\n",
        "        return root(f,c,b)\n",
        "    else:\n",
        "        return root(f,a,c)    \n",
        "print(root(math.log10, 0.5,2))\n"
      ],
      "metadata": {
        "id": "T63sZVhJEjOs",
        "colab": {
          "base_uri": "https://localhost:8080/"
        },
        "outputId": "dafd041a-2d03-40b8-9989-81a46a867de0"
      },
      "execution_count": 2,
      "outputs": [
        {
          "output_type": "stream",
          "name": "stdout",
          "text": [
            "1.0\n"
          ]
        }
      ]
    },
    {
      "cell_type": "markdown",
      "source": [
        "(b) Remove the assumption that a < b, and that f(a) < 0 and f(b) > 0, if your current code relies on\n",
        "them.  \n"
      ],
      "metadata": {
        "id": "ZsiJkUb2rmbI"
      }
    },
    {
      "cell_type": "code",
      "source": [
        "def root(f,a,b):\n",
        "  if(b < a):\n",
        "    return -root(f,b,a)\n",
        "  else:\n",
        "    if(b == a):\n",
        "      raise ValueError(\"a and b are equal, which is not allowed\")\n",
        "    fa = f(a)\n",
        "    fb = f(b)\n",
        "    c = (a + b)/2\n",
        "    cout = f(c)\n",
        "    if(cout == 0):\n",
        "      return c\n",
        "    elif(cout < 0):\n",
        "      if(fa < 0):\n",
        "        return root(f,c,b)\n",
        "      else:\n",
        "        return root(f,a,c)\n",
        "    else:\n",
        "      if(fa < 0):\n",
        "        return root(f,a,c)\n",
        "      else:\n",
        "        return root(f,c,b)\n",
        "print(root(math.log10, 0.5,2))\n"
      ],
      "metadata": {
        "id": "6njqLz7PdsV3",
        "colab": {
          "base_uri": "https://localhost:8080/"
        },
        "outputId": "e0a8e474-71dd-49dd-e4dd-ad9d082abac4"
      },
      "execution_count": 4,
      "outputs": [
        {
          "output_type": "stream",
          "name": "stdout",
          "text": [
            "1.0\n"
          ]
        }
      ]
    },
    {
      "cell_type": "markdown",
      "source": [
        "(c) Add a check that prints ’function evals have same sign’ if f(a) > 0 and f(b) > 0 or if f(a) < 0 and f(b) < 0"
      ],
      "metadata": {
        "id": "WXkDf6KRrmMi"
      }
    },
    {
      "cell_type": "code",
      "source": [
        "def root(f,a,b):\n",
        "  if(b < a):\n",
        "    return -root(f,b,a)\n",
        "  else:\n",
        "    if(b == a):\n",
        "      raise ValueError(\"a and b are equal, which is not allowed\")\n",
        "    fa = f(a)\n",
        "    fb = f(b)\n",
        "    if ((fa > 0 and fb > 0) or (fa < 0 and fb < 0)):\n",
        "      raise ValueError(\"function evals have same sign\")\n",
        "    c = (a + b)/2\n",
        "    cout = f(c)\n",
        "    if(cout == 0):\n",
        "      return c\n",
        "    elif(cout < 0):\n",
        "      if(fa < 0):\n",
        "        return root(f,c,b)\n",
        "      else:\n",
        "        return root(f,a,c)\n",
        "    else:\n",
        "      if(fa < 0):\n",
        "        return root(f,a,c)\n",
        "      else:\n",
        "        return root(f,c,b)\n",
        "print(root(math.log10, 0.5,2))\n"
      ],
      "metadata": {
        "id": "w4v_AQwMdsZi",
        "colab": {
          "base_uri": "https://localhost:8080/"
        },
        "outputId": "634249c9-c5f1-4fe7-9452-819b0c558b87"
      },
      "execution_count": 5,
      "outputs": [
        {
          "output_type": "stream",
          "name": "stdout",
          "text": [
            "1.0\n"
          ]
        }
      ]
    },
    {
      "cell_type": "markdown",
      "source": [
        "Question 2-Numpy: Nearest neighbor  \n",
        "Write a function that takes a value $z$ and an array $A$ and finds the element in $A$ that is closest to $z$. The function should return the closest value, not index.  \n",
        "Hint: Use the built-in functionality of Numpy rather than writing code to find this value manually. In\n",
        "particular, use brackets and argmin."
      ],
      "metadata": {
        "id": "1kP1heWe4Go9"
      }
    },
    {
      "cell_type": "code",
      "execution_count": 6,
      "metadata": {
        "colab": {
          "base_uri": "https://localhost:8080/"
        },
        "outputId": "c325e520-0c32-407e-c74e-1a31c2dfa302",
        "id": "RLuKYCuZ4Go-"
      },
      "outputs": [
        {
          "output_type": "stream",
          "name": "stdout",
          "text": [
            "r, c: 2 3\n",
            "Nearest number: 28\n",
            "Number nearest 27 is 28, at (2,3)\n"
          ]
        }
      ],
      "source": [
        "z = 27\n",
        "A = 2*np.random.randint(0,50,(5,5))\n",
        "\n",
        "def nearest(mat,val):\n",
        "  temp_m = abs(mat - val)\n",
        "  arg = np.argmin(temp_m)\n",
        "  c = arg % (temp_m.shape[1])\n",
        "  r = (int)((arg - c) / temp_m.shape[1])\n",
        "  print('r, c:', r, c)\n",
        "  print('Nearest number:', A[r,c])\n",
        "  \n",
        "  neighbor = A[r,c]\n",
        "  return neighbor, r, c\n",
        "n, r, c = nearest(A,z)\n",
        "print('Number nearest {} is {}, at ({},{})'.format(z,n,r,c))"
      ]
    },
    {
      "cell_type": "markdown",
      "source": [
        "Question 3-Classes: Binary search tree  \n",
        "In this exercise, we will implement a binary search tree.  \n",
        "(a) Define a class Node, and write the constructor, which takes one argument, value, and initializes\n",
        "the left and right children to None.  \n",
        " "
      ],
      "metadata": {
        "id": "DqSQCEfnqFBc"
      }
    },
    {
      "cell_type": "code",
      "source": [
        "class Node:\n",
        "  def __init__(self, value):\n",
        "    self.left = None\n",
        "    self.right = None\n",
        "    self.value = value\n",
        "\n",
        "n = Node(4)\n",
        "print(n.value, n.left)"
      ],
      "metadata": {
        "id": "j3brfwrn54lI",
        "colab": {
          "base_uri": "https://localhost:8080/"
        },
        "outputId": "5035dc3e-b3f5-4b37-9bf8-b1d4f1aa80ac"
      },
      "execution_count": 7,
      "outputs": [
        {
          "output_type": "stream",
          "name": "stdout",
          "text": [
            "4 None\n"
          ]
        }
      ]
    },
    {
      "cell_type": "markdown",
      "source": [
        "(b) Write a function to print the tree.  \n"
      ],
      "metadata": {
        "id": "81Fse4HDfYMl"
      }
    },
    {
      "cell_type": "code",
      "source": [
        "pass\n",
        "def __print__(self):\n",
        "  if self.left is not None:\n",
        "    self.left.__print__()\n",
        "  if self.right is not None:\n",
        "    self.right.__print__()\n",
        "  print(\"dunder print - \",self.value)"
      ],
      "metadata": {
        "id": "0q3Ag7gF54Ro"
      },
      "execution_count": 8,
      "outputs": []
    },
    {
      "cell_type": "markdown",
      "source": [
        "(c) Write a function that inserts a new value in the tree at the right location.  \n"
      ],
      "metadata": {
        "id": "r3lTH5rSfYFA"
      }
    },
    {
      "cell_type": "code",
      "source": [
        "pass\n",
        "def __insert__(self, x):\n",
        "  if x < self.value:\n",
        "    if self.left is not None:\n",
        "      self.left.__insert__(x)\n",
        "    else:\n",
        "      self.left = Node(x)\n",
        "  elif x > self.value:\n",
        "    if self.right is not None:\n",
        "      self.right.__insert__(x)\n",
        "    else:\n",
        "      self.right = Node(x)"
      ],
      "metadata": {
        "id": "Oa-rkcQu54Nb"
      },
      "execution_count": 9,
      "outputs": []
    },
    {
      "cell_type": "markdown",
      "source": [
        "(d) Write a function that looks up a value in the tree.  \n"
      ],
      "metadata": {
        "id": "PwykMBFXfXnu"
      }
    },
    {
      "cell_type": "code",
      "source": [
        "pass\n",
        "def __bsearch__(self,x):\n",
        "  if x < self.value:\n",
        "    if self.left is not None:\n",
        "      self.left.__bsearch__(x)\n",
        "    else:\n",
        "      print(\"Not found\")\n",
        "  elif x > self.value:\n",
        "    if self.right is not None:\n",
        "      self.right.__bsearch__(x)\n",
        "    else:\n",
        "      print(\"Not found\")\n",
        "  else:\n",
        "    print(\"{} found in tree\".format(self.value))"
      ],
      "metadata": {
        "id": "5XcFOc9j54GV"
      },
      "execution_count": 10,
      "outputs": []
    },
    {
      "cell_type": "markdown",
      "source": [
        "(e) Write a function that removes a value from the tree. "
      ],
      "metadata": {
        "id": "t4NwG4YKfkOO"
      }
    },
    {
      "cell_type": "code",
      "source": [
        "pass\n",
        "def __delete__(self,x):\n",
        "  if x < self.value:\n",
        "    if self.left is not None:\n",
        "      self.left.__delete__(x)\n",
        "    else:\n",
        "      print(\"Not found\")\n",
        "  elif x > self.value:\n",
        "    if self.right is not None:\n",
        "      self.right.__delete__(x)\n",
        "    else:\n",
        "      print(\"Not found\")\n",
        "  else:\n",
        "    if self.right is not None:\n",
        "      self.value = self.right.value\n",
        "      self.right = None\n",
        "    elif self.left is not None:\n",
        "      self.value = self.left.value\n",
        "      self.left = None\n",
        "    else:\n",
        "      print(\"Deleting self\")\n",
        "      self = None\n",
        "    print(\"deleted {} from tree\".format(x))"
      ],
      "metadata": {
        "id": "wruwN7-g5lal"
      },
      "execution_count": 11,
      "outputs": []
    },
    {
      "cell_type": "markdown",
      "source": [
        "Putting it all together"
      ],
      "metadata": {
        "id": "91qTpGbNIbIY"
      }
    },
    {
      "cell_type": "code",
      "source": [
        "class Node:\n",
        "  def __init__(self, value):\n",
        "    self.left = None\n",
        "    self.right = None\n",
        "    self.value = value\n",
        "  \n",
        "  def __print__(self):\n",
        "    if self.left is not None:\n",
        "      self.left.__print__()\n",
        "    if self.right is not None:\n",
        "      self.right.__print__()\n",
        "    print(self.value)\n",
        "\n",
        "  def __insert__(self, x):\n",
        "    if x < self.value:\n",
        "      if self.left is not None:\n",
        "        self.left.__insert__(x)\n",
        "      else:\n",
        "        self.left = Node(x)\n",
        "    elif x > self.value:\n",
        "      if self.right is not None:\n",
        "        self.right.__insert__(x)\n",
        "      else:\n",
        "        self.right = Node(x)\n",
        "\n",
        "  def __bsearch__(self,x):\n",
        "    if x < self.value:\n",
        "      if self.left is not None:\n",
        "        self.left.__bsearch__(x)\n",
        "      else:\n",
        "        print(\"Not found\")\n",
        "    elif x > self.value:\n",
        "      if self.right is not None:\n",
        "        self.right.__bsearch__(x)\n",
        "      else:\n",
        "        print(\"Not found\")\n",
        "    else:\n",
        "      print(\"{} found in tree\".format(self.value))\n",
        "\n",
        "  def __delete__(self,x):\n",
        "    if x < self.value:\n",
        "      if self.left is not None:\n",
        "        self.left.__delete__(x)\n",
        "      else:\n",
        "        print(\"Not found\")\n",
        "    elif x > self.value:\n",
        "      if self.right is not None:\n",
        "        self.right.__delete__(x)\n",
        "      else:\n",
        "        print(\"Not found\")\n",
        "    else:\n",
        "      if self.right is not None:\n",
        "        self.value = self.right.value\n",
        "        self.right = None\n",
        "      elif self.left is not None:\n",
        "        self.value = self.left.value\n",
        "        self.left = None\n",
        "      else:\n",
        "        print(\"Deleting self\")\n",
        "        self = None\n",
        "      print(\"deleted {} from tree\".format(x))\n",
        "\n",
        "n = Node(7)\n",
        "n.__insert__(4)\n",
        "n.__insert__(6)\n",
        "n.__insert__(2)\n",
        "n.__insert__(1)\n",
        "n.__insert__(5)\n",
        "n.__insert__(3)\n",
        "n.__delete__(4)\n",
        "n.__bsearch__(6)\n",
        "n.__delete__(4)\n",
        "n.__print__()"
      ],
      "metadata": {
        "colab": {
          "base_uri": "https://localhost:8080/"
        },
        "id": "hhlX2socHRT_",
        "outputId": "1292c51d-2969-457c-9cb5-ee10d9632d92"
      },
      "execution_count": 25,
      "outputs": [
        {
          "output_type": "stream",
          "name": "stdout",
          "text": [
            "deleted 4 from tree\n",
            "6 found in tree\n",
            "Not found\n",
            "1\n",
            "3\n",
            "2\n",
            "6\n",
            "7\n"
          ]
        }
      ]
    },
    {
      "cell_type": "markdown",
      "source": [
        "Question 4-Scipy: Optimization  \n",
        "Find the maximum of the function  \n",
        "$f(x) = sin^2(x − 2)e^{−x^2}$"
      ],
      "metadata": {
        "id": "xqRCRNLKgzsw"
      }
    },
    {
      "cell_type": "code",
      "source": [
        "def f(x):\n",
        "  xexp = np.exp(-x**2)  #exponential part\n",
        "  xsin = np.sin(x-2)**2 #trigonometric part\n",
        "  return xexp*xsin\n",
        "fmax = sp.optimize.fmin(lambda x: -f(x), 0)\n",
        "print(fmax)"
      ],
      "metadata": {
        "id": "Lfupq7FKg0Ll",
        "colab": {
          "base_uri": "https://localhost:8080/"
        },
        "outputId": "74b03e42-b022-4e61-e2b0-00628b381341"
      },
      "execution_count": 14,
      "outputs": [
        {
          "output_type": "stream",
          "name": "stdout",
          "text": [
            "Optimization terminated successfully.\n",
            "         Current function value: -0.911685\n",
            "         Iterations: 20\n",
            "         Function evaluations: 40\n",
            "[0.21625]\n"
          ]
        }
      ]
    },
    {
      "cell_type": "markdown",
      "source": [
        "Question 5-Scipy: Pairwise distances  \n",
        "Let $X$ be a matrix with $n$ rows and $m$ columns. How can you compute the pairwise distances between\n",
        "every two rows?  \n",
        "As an example application, consider n cities, and we are given their coordinates in two columns. Now\n",
        "we want a nice table that tells us for each two cities, how far they are apart.  \n",
        "Again, make sure you make use of Scipy’s functionality instead of writing your own routine."
      ],
      "metadata": {
        "id": "flCDfuIcg1lc"
      }
    },
    {
      "cell_type": "code",
      "source": [
        "n,m = 7,2\n",
        "pairX = np.random.randint(0,10,size=n*m).reshape(n,m)\n",
        "print(pairX,'\\n')\n",
        "#pairwise distances built-in from Scipy\n",
        "distances = sp.spatial.distance.pdist(pairX)\n",
        "print('pairwise distances\\n',distances)"
      ],
      "metadata": {
        "id": "CHyWe53eg2E3",
        "colab": {
          "base_uri": "https://localhost:8080/"
        },
        "outputId": "9bdc4c85-5b16-46f5-b949-3930b6145a9f"
      },
      "execution_count": 23,
      "outputs": [
        {
          "output_type": "stream",
          "name": "stdout",
          "text": [
            "[[0 4]\n",
            " [5 9]\n",
            " [5 8]\n",
            " [9 9]\n",
            " [1 1]\n",
            " [1 1]\n",
            " [3 0]] \n",
            "\n",
            "pairwise distances\n",
            " [ 7.07106781  6.40312424 10.29563014  3.16227766  3.16227766  5.\n",
            "  1.          4.          8.94427191  8.94427191  9.21954446  4.12310563\n",
            "  8.06225775  8.06225775  8.24621125 11.3137085  11.3137085  10.81665383\n",
            "  0.          2.23606798  2.23606798]\n"
          ]
        }
      ]
    },
    {
      "cell_type": "markdown",
      "source": [
        "Question 6-Matplotlib: Data  \n",
        "Create a data matrix $X$ with 20 observations of 10 variables. Generate a vector $b$ with parameters Then\n",
        "generate the response vector $y = Xb+z$ where $z$ is a vector with standard normally distributed variables.\n",
        "Now (by only using $y$ and $X$), find an estimator for $b$, by solving\n",
        "$$\\hat{b} = \\text{arg} \\min_{b} \\|Xb − y\\|^2$$\n",
        "Plot the true parameters $b$ and estimated parameters $\\hat{b}$. See Figure 1 for an example plot."
      ],
      "metadata": {
        "id": "xPGt0bEVhA_d"
      }
    },
    {
      "cell_type": "code",
      "source": [
        "def estimate(X, y):\n",
        "  xb = np.linalg.inv(np.dot(X.T, X))\n",
        "  xy = np.dot(X.T, y) \n",
        "  return np.dot(xb, xy)  \n",
        "\n",
        "idxaxis = np.arange(0.0, 10.0, 1.0)\n",
        "X = np.random.randint(-10,10,size=20*10).reshape(20,10)\n",
        "b = np.random.uniform(-2.0, 2.0, 10)\n",
        "z = np.random.normal(0.0,1.0,size=20)\n",
        "y = np.dot(X, b) + z\n",
        "b_hat = estimate(X, y)\n",
        "\n",
        "plt.rcParams[\"figure.figsize\"] = (12,8)\n",
        "plt.plot(idxaxis, b, 'rx', label='True b')\n",
        "plt.plot(idxaxis, b_hat, 'b.', label='Estimated b')\n",
        "plt.xlabel('index')\n",
        "plt.ylabel('value')\n",
        "plt.legend()\n",
        "\n",
        "plt.show()"
      ],
      "metadata": {
        "id": "edorQiTvhCeU",
        "colab": {
          "base_uri": "https://localhost:8080/",
          "height": 497
        },
        "outputId": "93818ce5-55df-430e-daaa-563a8548b66c"
      },
      "execution_count": 19,
      "outputs": [
        {
          "output_type": "display_data",
          "data": {
            "text/plain": [
              "<Figure size 864x576 with 1 Axes>"
            ],
            "image/png": "[encoded data removed]"
          },
          "metadata": {
            "needs_background": "light"
          }
        }
      ]
    }
  ]
}