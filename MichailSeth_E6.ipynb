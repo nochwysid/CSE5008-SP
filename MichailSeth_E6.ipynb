{
  "nbformat": 4,
  "nbformat_minor": 0,
  "metadata": {
    "colab": {
      "name": "MichailSeth_E6.ipynb",
      "provenance": [],
      "collapsed_sections": [],
      "authorship_tag": "ABX9TyMSOk729YVHJJLCOvU00xGg",
      "include_colab_link": true
    },
    "kernelspec": {
      "name": "python3",
      "display_name": "Python 3"
    },
    "language_info": {
      "name": "python"
    }
  },
  "cells": [
    {
      "cell_type": "markdown",
      "metadata": {
        "id": "view-in-github",
        "colab_type": "text"
      },
      "source": [
        "<a href=\"https://colab.research.google.com/github/nochwysid/CSE5008-SP/blob/main/MichailSeth_E6.ipynb\" target=\"_parent\"><img src=\"https://colab.research.google.com/assets/colab-badge.svg\" alt=\"Open In Colab\"/></a>"
      ]
    },
    {
      "cell_type": "code",
      "execution_count": null,
      "metadata": {
        "id": "o4B8NMAyr7qC"
      },
      "outputs": [],
      "source": [
        ""
      ]
    },
    {
      "cell_type": "markdown",
      "source": [
        "12 Recursion  \n",
        "\n",
        "Exercise 12.1: Power  \n",
        "Write a recursive function that computes $a^b$\n",
        "for given $a$ and $b$, where $b$ is an integer. Do not use **.\n",
        "\n"
      ],
      "metadata": {
        "id": "dWAWZsRsDMB6"
      }
    },
    {
      "cell_type": "code",
      "source": [
        ""
      ],
      "metadata": {
        "id": "7lRTCvsNDRTG"
      },
      "execution_count": null,
      "outputs": []
    },
    {
      "cell_type": "markdown",
      "source": [
        "\n",
        "Exercise 12.2: Recursive map and filter  \n",
        "Write a recursive functions myrecmap and myrecfilter that implement the map and filter functions\n",
        "using recursion."
      ],
      "metadata": {
        "id": "jq-vWrpjDSkG"
      }
    },
    {
      "cell_type": "code",
      "source": [
        ""
      ],
      "metadata": {
        "id": "rQUPteIdDSx9"
      },
      "execution_count": null,
      "outputs": []
    },
    {
      "cell_type": "markdown",
      "source": [
        "Exercise 12.3: Purify  \n",
        "Write two functions, one that uses iteration (say a for loop), and the other using recursion, that achieve\n",
        "the following: The input of the function is a list with integers. The functions return a (new) list with\n",
        "only the even integers in the list."
      ],
      "metadata": {
        "id": "PfkzRGGYDYOc"
      }
    },
    {
      "cell_type": "code",
      "source": [
        ""
      ],
      "metadata": {
        "id": "lunT2L4VDYmk"
      },
      "execution_count": null,
      "outputs": []
    },
    {
      "cell_type": "markdown",
      "source": [
        "\n",
        "Exercise 12.4: Product  \n",
        "Write two functions, one that uses iteration, and the other using recursion, that achieve the following:  \n",
        "The input of the function is a list with numbers. The functions return the product of the numbers in\n",
        "the list."
      ],
      "metadata": {
        "id": "gGFxkUHjDdm8"
      }
    },
    {
      "cell_type": "code",
      "source": [
        ""
      ],
      "metadata": {
        "id": "s_vfrbCnDdPd"
      },
      "execution_count": null,
      "outputs": []
    },
    {
      "cell_type": "markdown",
      "source": [
        "\n",
        "Exercise 12.5: Factorial  \n",
        "Write a recursive function to compute $n! = n × (n − 1) × . . . × 1$. Note that $0!$ is defined to equal 1."
      ],
      "metadata": {
        "id": "kqH86u0mDgxh"
      }
    },
    {
      "cell_type": "code",
      "source": [
        ""
      ],
      "metadata": {
        "id": "Gc7AGvyXDgQs"
      },
      "execution_count": null,
      "outputs": []
    },
    {
      "cell_type": "markdown",
      "source": [
        "\n",
        "Exercise 12.6: Recursive root finding  \n",
        "In Exercise 3.5 you wrote a function to find a root of a function f. Now write a recursive function that\n",
        "finds the root of a function."
      ],
      "metadata": {
        "id": "nkYaBuSEDkPZ"
      }
    },
    {
      "cell_type": "code",
      "source": [
        ""
      ],
      "metadata": {
        "id": "uJ9Sm6iLDj4V"
      },
      "execution_count": null,
      "outputs": []
    },
    {
      "cell_type": "markdown",
      "source": [
        "\n",
        "Exercise 12.7: Collatz sequence  \n",
        "Write a recursive implementation of a function that returns a list with the Collatz sequence started at\n",
        "an arbitrary starting value.  \n",
        "Recall: A Collatz sequence is formed as follows: We start with some number $x_0$, and we find the next\n",
        "number in the sequence by \n",
        "\\begin{align}\n",
        "    x_{i+1} = \\left\\{\n",
        "    \\begin{array}{cl}\n",
        "    \\frac{x_i}{2} & x_i \\text{ is even} \\\\\n",
        "    3x_i + 1  & x_i \\text{  is odd}\n",
        "    \\end{array}\n",
        "    \\right.\n",
        "\\end{align}\n",
        " If $x_i = 1$, we stop iterating and have found the full sequence."
      ],
      "metadata": {
        "id": "Z1Y-n0rXDnoe"
      }
    },
    {
      "cell_type": "code",
      "source": [
        ""
      ],
      "metadata": {
        "id": "zVqNbFNKDnRb"
      },
      "execution_count": null,
      "outputs": []
    },
    {
      "cell_type": "markdown",
      "source": [
        "\n",
        "Exercise 12.8: Fibonacci sequence  \n",
        "The Fibonacci sequence $\\{F_i\\}_i = 0^∞$ starts with $F_0 = 0$, $F_1 = 1$. Every subsequent value in the sequence is the sum of the last elements in the sequence:\n",
        "$F_n = F_{n−1} + F_{n−2}$  \n",
        "\n",
        "(a) Implement a non-recursive function that computes the $F_n$  \n"
      ],
      "metadata": {
        "id": "0hrrJX_eDrv7"
      }
    },
    {
      "cell_type": "code",
      "source": [
        ""
      ],
      "metadata": {
        "id": "R7XZvzrTP9V-"
      },
      "execution_count": null,
      "outputs": []
    },
    {
      "cell_type": "markdown",
      "source": [
        "(b) Implement a recursive function that computes $F_n$  \n"
      ],
      "metadata": {
        "id": "phrSe_4AP_t1"
      }
    },
    {
      "cell_type": "code",
      "source": [
        ""
      ],
      "metadata": {
        "id": "ebYAraBkP9D3"
      },
      "execution_count": null,
      "outputs": []
    },
    {
      "cell_type": "markdown",
      "source": [
        "(c) Compare the runtime for computing $F_{35}$ recursively versus non-recursively, and explain the difference.  \n"
      ],
      "metadata": {
        "id": "JM9kpU-vQANZ"
      }
    },
    {
      "cell_type": "code",
      "source": [
        ""
      ],
      "metadata": {
        "id": "ueDhyBqmP8wF"
      },
      "execution_count": null,
      "outputs": []
    },
    {
      "cell_type": "markdown",
      "source": [
        "(d) This does not mean a recursion is not feasible for this problem, only that the naive implementation\n",
        "isn’t the best.  \n",
        "\n"
      ],
      "metadata": {
        "id": "Jz0XcG9QQAiW"
      }
    },
    {
      "cell_type": "code",
      "source": [
        ""
      ],
      "metadata": {
        "id": "DGxkiuIYDrQl"
      },
      "execution_count": null,
      "outputs": []
    },
    {
      "cell_type": "markdown",
      "source": [
        "We can get a better version using either of the following  \n",
        "&nbsp; &nbsp; &nbsp; (a) Store values already calculated, say in a dictionary, so you can look them up instead of redoing\n",
        "the calculation.  \n",
        "&nbsp; &nbsp; &nbsp; (b) Generalizing the Fibonacci sequence to an additive sequence with arbitrary starting points $t_0$ and $t_1$, and finding a  \n",
        "&nbsp; &nbsp; &nbsp; &nbsp; &nbsp; &nbsp;  recursive algorithm to find the nth term in such a sequence. Note that finding the $n^{th}$ term in a sequence started from $t_0$  \n",
        "&nbsp; &nbsp; &nbsp; &nbsp; &nbsp; &nbsp; and $t_1$ is the same as finding the $n − 1^{th}$ term in a sequence started from $t_1$ and $t_0 + t_1$.  \n",
        "Implement one of the above (or both)."
      ],
      "metadata": {
        "id": "lEe27V03QMem"
      }
    },
    {
      "cell_type": "code",
      "source": [
        ""
      ],
      "metadata": {
        "id": "9ulVth0aQB9x"
      },
      "execution_count": null,
      "outputs": []
    },
    {
      "cell_type": "markdown",
      "source": [
        "\n",
        "Exercise 12.9: Palindromes  \n",
        "Given a string t, we are interested in finding the largest palindrome in t, where we are allowed to\n",
        "remove characters from t. For example, consider the string abcdba, then the function should return\n",
        "abcba. Before you start coding, figure out the recursion on paper first.  \n",
        "Extra: you will notice that if you are not careful, this will take a very long time to compute for longer\n",
        "inputs. However, a simple modification can speed up your code so that it runs in $O(n^2)$, where $n$ is the length of the input string. Find and implement this modification."
      ],
      "metadata": {
        "id": "Cytez0uNDvvx"
      }
    },
    {
      "cell_type": "code",
      "source": [
        ""
      ],
      "metadata": {
        "id": "DSkamrhkDvY2"
      },
      "execution_count": null,
      "outputs": []
    },
    {
      "cell_type": "markdown",
      "source": [
        "\n",
        "\n",
        "Exercise 12.10: Quicksort  \n",
        "There are many sorting algorithms, see for example http://www.sorting-algorithms.com/. Quicksort\n",
        "is a well known (and quick) sorting algorithm that works as follows:  \n",
        "(a) Test whether the list is sorted, if not:  \n"
      ],
      "metadata": {
        "id": "EMq5fqkWCn4h"
      }
    },
    {
      "cell_type": "code",
      "execution_count": null,
      "metadata": {
        "id": "4eSVLBOGCF7H"
      },
      "outputs": [],
      "source": [
        ""
      ]
    },
    {
      "cell_type": "markdown",
      "source": [
        "(b) Select one part of the list as pivot, any element works.  \n"
      ],
      "metadata": {
        "id": "HzH93T9NQCdK"
      }
    },
    {
      "cell_type": "code",
      "source": [
        ""
      ],
      "metadata": {
        "id": "jdlVMOg8QUin"
      },
      "execution_count": null,
      "outputs": []
    },
    {
      "cell_type": "markdown",
      "source": [
        "(b) Select one part of the list as pivot, any element works.\n"
      ],
      "metadata": {
        "id": "olFDQsnpQUZv"
      }
    },
    {
      "cell_type": "code",
      "source": [
        ""
      ],
      "metadata": {
        "id": "PLl20gMUQUFt"
      },
      "execution_count": null,
      "outputs": []
    },
    {
      "cell_type": "markdown",
      "source": [
        "(c) Create a new list, left and right, and put all elements smaller than the pivot in the left list,\n",
        "and all elements larger than the pivot in the right list.\n"
      ],
      "metadata": {
        "id": "hI9cfeLNQT4p"
      }
    },
    {
      "cell_type": "code",
      "source": [
        ""
      ],
      "metadata": {
        "id": "WuIgOqXVQTi6"
      },
      "execution_count": null,
      "outputs": []
    },
    {
      "cell_type": "markdown",
      "source": [
        "(d) Recursively sort the left and right list, and return sorted left + pivot + sorted right.\n"
      ],
      "metadata": {
        "id": "yyrRMvVzQ2YZ"
      }
    },
    {
      "cell_type": "code",
      "source": [
        ""
      ],
      "metadata": {
        "id": "LjNIC0K7Q3DZ"
      },
      "execution_count": null,
      "outputs": []
    },
    {
      "cell_type": "markdown",
      "source": [
        "Implement the quicksort algorithm. However, first think about the following caveats and how to get\n",
        "around them:  \n",
        "(a) Testing whether a list is sorted takes quite a bit of work, so we do not want to do this. Instead, we\n",
        "want to perform a much simpler check: what list is trivially sorted?  \n",
        "(b) What happens when the pivot element occurs multiple times in the list? How can we get around\n",
        "this?"
      ],
      "metadata": {
        "id": "_T4ZOErDQ3vv"
      }
    },
    {
      "cell_type": "code",
      "source": [
        ""
      ],
      "metadata": {
        "id": "29kRMVq4Q4kI"
      },
      "execution_count": null,
      "outputs": []
    }
  ]
}