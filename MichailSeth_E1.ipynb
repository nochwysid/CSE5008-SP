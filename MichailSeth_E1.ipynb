{
  "nbformat": 4,
  "nbformat_minor": 0,
  "metadata": {
    "colab": {
      "name": "MichailSeth_E1.ipynb",
      "provenance": [],
      "collapsed_sections": []
    },
    "kernelspec": {
      "name": "python3",
      "display_name": "Python 3"
    },
    "language_info": {
      "name": "python"
    }
  },
  "cells": [
    {
      "cell_type": "markdown",
      "source": [
        "Exercise 1\n",
        "Due March 3, 2022 11:59 PM  \n",
        "Closes March 4, 2022 12:05 AM  \n",
        "Instructions\n",
        "\n",
        "\n",
        "Do all of the exercises in 1 (Basics), 2 (Control flow) and 3 (Functions) in the following file https://web.stanford.edu/~schmit/cme193/ex/exercises.pdf. In case an exercise needs additional code, it is here https://web.stanford.edu/~schmit/cme193/exercises.html.  \n",
        "You are required to prepare a Jupyter notebook (i.e. a .ipynb file) with code and associated text to separate every question from another.  \n",
        "You must manage your codes in a GitHub repository.  \n",
        "Notebooks must be shared through the web by using the following tool http://nbviewer.jupyter.org/ which renders a notebook in GitHub as a static HTML web page, and gives you a stable link to that page which you can share with others.  \n",
        "Your submission should be named SurnameName_EX.txt, where X is replaced with the assignment number, e.g. AkcayGokhan_E3.ipynb for exercise #3. This .txt file must contain only your nbviewer link.  \n",
        "Unless otherwise mentioned, please render a single notebook file.\n"
      ],
      "metadata": {
        "id": "tGEu0FL5g52S"
      }
    },
    {
      "cell_type": "code",
      "source": [
        ""
      ],
      "metadata": {
        "id": "KlxV_j-Gdso-"
      },
      "execution_count": null,
      "outputs": []
    },
    {
      "cell_type": "markdown",
      "source": [
        "Exercise 1.1: The interpreter  \n",
        "Open the Python interpeter. What happens when you input the following statements:  \n",
        "(a) 3 + 1  \n",
        "(b) 3 * 3  \n",
        "(c) 2 ** 3  \n",
        "(d) \"Hello, world!\"  \n"
      ],
      "metadata": {
        "id": "AZGYm8S0k-PV"
      }
    },
    {
      "cell_type": "code",
      "execution_count": null,
      "metadata": {
        "id": "T-gKg5aJg5Ag",
        "colab": {
          "base_uri": "https://localhost:8080/",
          "height": 35
        },
        "outputId": "65872b84-bc6f-4fe3-c278-f5026e550c90"
      },
      "outputs": [
        {
          "output_type": "execute_result",
          "data": {
            "application/vnd.google.colaboratory.intrinsic+json": {
              "type": "string"
            },
            "text/plain": [
              "'Hello, world!'"
            ]
          },
          "metadata": {},
          "execution_count": 6
        }
      ],
      "source": [
        "#Only the last item is printed\n",
        "3 + 1\n",
        "3 * 3\n",
        "2 ** 3\n",
        "\"Hello, world!\""
      ]
    },
    {
      "cell_type": "code",
      "source": [
        "#performs the operation and prints the output\n",
        "3 + 1"
      ],
      "metadata": {
        "id": "yTHTEVwQexBu",
        "colab": {
          "base_uri": "https://localhost:8080/"
        },
        "outputId": "7b1e8b47-b5ce-4a67-f9f5-08b7e058f987"
      },
      "execution_count": null,
      "outputs": [
        {
          "output_type": "execute_result",
          "data": {
            "text/plain": [
              "4"
            ]
          },
          "metadata": {},
          "execution_count": 7
        }
      ]
    },
    {
      "cell_type": "code",
      "source": [
        "#note that the output is not stored in a variable, and so is not addressable\n",
        "3 * 3"
      ],
      "metadata": {
        "id": "nBvU9_n5ew99",
        "colab": {
          "base_uri": "https://localhost:8080/"
        },
        "outputId": "55fccd49-17a6-4f4f-ca38-fea80af1f40d"
      },
      "execution_count": null,
      "outputs": [
        {
          "output_type": "execute_result",
          "data": {
            "text/plain": [
              "9"
            ]
          },
          "metadata": {},
          "execution_count": 8
        }
      ]
    },
    {
      "cell_type": "code",
      "source": [
        "#base ** exponent, in the usual way\n",
        "2 ** 3"
      ],
      "metadata": {
        "id": "xJknzzdVewnJ",
        "colab": {
          "base_uri": "https://localhost:8080/"
        },
        "outputId": "913979b0-4156-4e95-a9de-a4a3cb57b2c2"
      },
      "execution_count": null,
      "outputs": [
        {
          "output_type": "execute_result",
          "data": {
            "text/plain": [
              "8"
            ]
          },
          "metadata": {},
          "execution_count": 9
        }
      ]
    },
    {
      "cell_type": "markdown",
      "source": [
        "Exercise 1.2: Scripts  \n",
        "Now copy the above to a script, and save it as script1.py. What happens if you run the script? (try:  \n",
        "python script1.py). Can you fix this (hint: use the print function)  \n"
      ],
      "metadata": {
        "id": "wAPsdd_bnUpy"
      }
    },
    {
      "cell_type": "code",
      "source": [
        "!touch script1.py\n",
        "#verify file exists and is empty\n",
        "!cat script1.py"
      ],
      "metadata": {
        "id": "0SrcIuSIhYpE"
      },
      "execution_count": null,
      "outputs": []
    },
    {
      "cell_type": "code",
      "source": [
        "!echo \"print(3 + 1)\" >> script1.py\n",
        "!echo  \"print(3 * 3)\" >> script1.py\n",
        "!echo \"print(2 ** 3)\" >> script1.py\n",
        "!echo \"print(\\\"Hello, world!\\\")\" >> script1.py"
      ],
      "metadata": {
        "id": "6Km01r0poHM4"
      },
      "execution_count": null,
      "outputs": []
    },
    {
      "cell_type": "code",
      "source": [
        "!cat script1.py"
      ],
      "metadata": {
        "id": "m9zh2ap6oHEv",
        "colab": {
          "base_uri": "https://localhost:8080/"
        },
        "outputId": "73f0a1e2-6767-48ea-b924-9c0f117f3c6c"
      },
      "execution_count": null,
      "outputs": [
        {
          "output_type": "stream",
          "name": "stdout",
          "text": [
            "print(3 + 1)\n",
            "print(3 * 3)\n",
            "print(2 ** 3)\n",
            "print(\"Hello, world!\")\n"
          ]
        }
      ]
    },
    {
      "cell_type": "code",
      "source": [
        "!python script1.py"
      ],
      "metadata": {
        "id": "Q9JDbKCir3le",
        "colab": {
          "base_uri": "https://localhost:8080/"
        },
        "outputId": "65543602-299e-4cfa-bec3-7934834dbae3"
      },
      "execution_count": null,
      "outputs": [
        {
          "output_type": "stream",
          "name": "stdout",
          "text": [
            "4\n",
            "9\n",
            "8\n",
            "Hello, world!\n"
          ]
        }
      ]
    },
    {
      "cell_type": "markdown",
      "source": [
        "Exercise 1.3: More interpreter  \n",
        "Explain the output of the following statements if executed subsequently:  \n",
        "(a) ’py’ + ’thon’  \n",
        "(b) ’py’ * 3 + ’thon’  \n",
        "(c) ’py’ - ’py’  \n",
        "(d) ’3’ + 3  \n",
        "(e) 3 * ’3’  \n",
        "(f) a  \n",
        "(g) a = 3  \n",
        "(h) a  \n"
      ],
      "metadata": {
        "id": "HyQpPxK0nVcr"
      }
    },
    {
      "cell_type": "code",
      "source": [
        "a=3\n",
        "print(a)"
      ],
      "metadata": {
        "id": "GNqsBv4gtjR1",
        "colab": {
          "base_uri": "https://localhost:8080/"
        },
        "outputId": "c2e73f8a-54cf-4673-a6c9-c1fcd24294f6"
      },
      "execution_count": null,
      "outputs": [
        {
          "output_type": "stream",
          "name": "stdout",
          "text": [
            "3\n"
          ]
        }
      ]
    },
    {
      "cell_type": "code",
      "source": [
        "#single quotes sometimes leads to errors, better to use double quotes, output is 'python'\n",
        "\"py\" + \"thon\"\n",
        "#can't concatenate strings and integers\n",
        "\"py\" * 3 + \"thon\"\n",
        "#difference operation not supported for type string\n",
        "'py' - 'py'\n",
        "#can't concatenate strings and integers\n",
        "\"3\" + 3\n",
        "#concatenate '3' three times\n",
        "3 * \"3\"\n",
        "# 'a' is not defined\n",
        "a\n",
        "#assins '3' to 'a', not allowed as argument to print function\n",
        "a = 3\n",
        "# a is now 3\n",
        "a"
      ],
      "metadata": {
        "id": "kBgqDjlahYl8",
        "colab": {
          "base_uri": "https://localhost:8080/",
          "height": 236
        },
        "outputId": "e279e007-ce5d-411d-c388-ec8b46ebda72"
      },
      "execution_count": null,
      "outputs": [
        {
          "output_type": "error",
          "ename": "TypeError",
          "evalue": "ignored",
          "traceback": [
            "\u001b[0;31m---------------------------------------------------------------------------\u001b[0m",
            "\u001b[0;31mTypeError\u001b[0m                                 Traceback (most recent call last)",
            "\u001b[0;32m<ipython-input-16-40cd45d1aacb>\u001b[0m in \u001b[0;36m<module>\u001b[0;34m()\u001b[0m\n\u001b[1;32m      4\u001b[0m \u001b[0;34m\"py\"\u001b[0m \u001b[0;34m*\u001b[0m \u001b[0;36m3\u001b[0m \u001b[0;34m+\u001b[0m \u001b[0;34m\"thon\"\u001b[0m\u001b[0;34m\u001b[0m\u001b[0;34m\u001b[0m\u001b[0m\n\u001b[1;32m      5\u001b[0m \u001b[0;31m#difference operation not supported for type string\u001b[0m\u001b[0;34m\u001b[0m\u001b[0;34m\u001b[0m\u001b[0;34m\u001b[0m\u001b[0m\n\u001b[0;32m----> 6\u001b[0;31m \u001b[0;34m'py'\u001b[0m \u001b[0;34m-\u001b[0m \u001b[0;34m'py'\u001b[0m\u001b[0;34m\u001b[0m\u001b[0;34m\u001b[0m\u001b[0m\n\u001b[0m\u001b[1;32m      7\u001b[0m \u001b[0;31m#can't concatenate strings and integers\u001b[0m\u001b[0;34m\u001b[0m\u001b[0;34m\u001b[0m\u001b[0;34m\u001b[0m\u001b[0m\n\u001b[1;32m      8\u001b[0m \u001b[0;34m\"3\"\u001b[0m \u001b[0;34m+\u001b[0m \u001b[0;36m3\u001b[0m\u001b[0;34m\u001b[0m\u001b[0;34m\u001b[0m\u001b[0m\n",
            "\u001b[0;31mTypeError\u001b[0m: unsupported operand type(s) for -: 'str' and 'str'"
          ]
        }
      ]
    },
    {
      "cell_type": "markdown",
      "source": [
        "Exercise 1.4: Booleans  \n",
        "Explain the output of the following statements:  \n",
        "(a) 1 == 1  \n",
        "(b) 1 == True  \n",
        "(c) 0 == True  \n",
        "(d) 0 == False  \n",
        "(e) 3 == 1 * 3  \n",
        "(f) (3 == 1) * 3  \n",
        "(g) (3 == 3) * 4 + 3 == 1  \n",
        "(h) 3**5 >= 4**4  \n"
      ],
      "metadata": {
        "id": "mcde9rl-nV1w"
      }
    },
    {
      "cell_type": "code",
      "source": [
        "#prints true\n",
        "print(1 == 1)\n",
        "#true is any number other than zero\n",
        "print(1 == True)\n",
        "#zero not equal a non-zero number\n",
        "print(0 == True)\n",
        "#zero equals false, so prints true\n",
        "print(0 == False)\n",
        "#boolean has lower precedence, so 3 == 3\n",
        "print(3 == 1 * 3)\n",
        "#parentheses have higher precedence, so 0 * 3\n",
        "print((3 == 1) * 3)\n",
        "#1 * 4 + 3 is 7, and 7 is not 1, so false\n",
        "print( (3 == 3) * 4 + 3 == 1)\n",
        "#35 is not greater than or equal to 44, so false\n",
        "print(35 >= 44)"
      ],
      "metadata": {
        "id": "ow1G0lrIhYi2",
        "colab": {
          "base_uri": "https://localhost:8080/"
        },
        "outputId": "af03d4e8-d508-45ff-9b9d-6f3ffd50df2d"
      },
      "execution_count": null,
      "outputs": [
        {
          "output_type": "stream",
          "name": "stdout",
          "text": [
            "True\n",
            "True\n",
            "False\n",
            "True\n",
            "True\n",
            "0\n",
            "False\n",
            "False\n"
          ]
        }
      ]
    },
    {
      "cell_type": "markdown",
      "source": [
        "Exercise 1.5: Integers  \n",
        "Explain the output of the following statements:  \n",
        "(a) 5 / 3  \n",
        "(b) 5 % 3  \n",
        "(c) 5.0 / 3  \n",
        "(d) 5 / 3.0  \n",
        "(e) 5.2 % 3    \n",
        "(f) 2001 ** 200  \n"
      ],
      "metadata": {
        "id": "ysXJu2_1nWmM"
      }
    },
    {
      "cell_type": "code",
      "source": [
        "#cast to float, divide\n",
        "print(5 / 3  )\n",
        "#remainder after division\n",
        "print(5 % 3  )\n",
        "##same as firs one, output is float\n",
        "print(5.0 / 3  )\n",
        "#Output is float\n",
        "print(5 / 3.0  )\n",
        "#remainder after division\n",
        "print(5.2 % 3  )\n",
        "#prints truncated value, length 661\n",
        "print(2001 ** 200 )"
      ],
      "metadata": {
        "id": "JAwxq7gnoXdi",
        "colab": {
          "base_uri": "https://localhost:8080/"
        },
        "outputId": "6c28f398-b2bc-4173-8782-b38f583b9f0e"
      },
      "execution_count": null,
      "outputs": [
        {
          "output_type": "stream",
          "name": "stdout",
          "text": [
            "1.6666666666666667\n",
            "2\n",
            "1.6666666666666667\n",
            "1.6666666666666667\n",
            "2.2\n",
            "1775896810483121914350934797871501063452843428843794422323202530887281536545210629921129898113201749875234297340507804201761453596034016264189501186924066128377025843892373608427790859511135990682732202975330824797118808624727351608183194154557208730494440110429635650057431833674286462463508755276302896154336475782768613964332764108132533925570342220340698973761380541294970139762186212823359128790706292900765512137078550033912252338262922477518858757114840012576514724742388124595061301502222934806074032688691170880996881967426442947828261057852871032366879179996122216385870273020506079240103910728766397733398071775041745854959302025036249707279600400001\n"
          ]
        }
      ]
    },
    {
      "cell_type": "markdown",
      "source": [
        "Exercise 1.6: Floats  \n",
        "Explain the output of the following statements:  \n",
        "(a) 2000.3 ** 200 (compare with above)  \n",
        "(b) 1.0 + 1.0 - 1.0  \n",
        "(c) 1.0 + 1.0e20 - 1.0e20  \n"
      ],
      "metadata": {
        "id": "4R3s18HtnWy2"
      }
    },
    {
      "cell_type": "code",
      "source": [
        "#OverflowError: (34, 'Numerical result out of range'). Because of the decimal part. Maybe possible with 128 bit encoding?\n",
        "2000.3 ** 200"
      ],
      "metadata": {
        "id": "7aXtQxscINcr",
        "colab": {
          "base_uri": "https://localhost:8080/",
          "height": 184
        },
        "outputId": "379a1863-9d30-4b70-da18-fb991d0e5a41"
      },
      "execution_count": null,
      "outputs": [
        {
          "output_type": "error",
          "ename": "OverflowError",
          "evalue": "ignored",
          "traceback": [
            "\u001b[0;31m---------------------------------------------------------------------------\u001b[0m",
            "\u001b[0;31mOverflowError\u001b[0m                             Traceback (most recent call last)",
            "\u001b[0;32m<ipython-input-20-ff8c8b1f13a6>\u001b[0m in \u001b[0;36m<module>\u001b[0;34m()\u001b[0m\n\u001b[1;32m      1\u001b[0m \u001b[0;31m#OverflowError: (34, 'Numerical result out of range'). Because of the decimal part. Maybe possible with 128 bit encoding?\u001b[0m\u001b[0;34m\u001b[0m\u001b[0;34m\u001b[0m\u001b[0;34m\u001b[0m\u001b[0m\n\u001b[0;32m----> 2\u001b[0;31m \u001b[0;36m2000.3\u001b[0m \u001b[0;34m**\u001b[0m \u001b[0;36m200\u001b[0m\u001b[0;34m\u001b[0m\u001b[0;34m\u001b[0m\u001b[0m\n\u001b[0m",
            "\u001b[0;31mOverflowError\u001b[0m: (34, 'Numerical result out of range')"
          ]
        }
      ]
    },
    {
      "cell_type": "code",
      "source": [
        "#evaluates left to right, so 2.0 - 1.0, not 1.0 + 0.0\n",
        "print(1.0 + 1.0 - 1.0  )\n",
        "#due to round off, 1.0 + 1.0e20 yields 1.0e20. need to be careful about that\n",
        "print(1.0 + 1.0e20 - 1.0e20)  "
      ],
      "metadata": {
        "id": "L7v54qNYoYOI",
        "colab": {
          "base_uri": "https://localhost:8080/"
        },
        "outputId": "55585247-c6f5-4e92-fd5a-5a675bc3e64c"
      },
      "execution_count": null,
      "outputs": [
        {
          "output_type": "stream",
          "name": "stdout",
          "text": [
            "1.0\n",
            "0.0\n"
          ]
        }
      ]
    },
    {
      "cell_type": "markdown",
      "source": [
        "Exercise 1.7: Variables  \n",
        "Write a script where the variable name holds a string with your name. Then, assuming for now your\n",
        "name is John Doe, have the script output: Hello, John Doe! (and obviously, do not use print \"Hello,\n",
        "John Doe!\".  \n"
      ],
      "metadata": {
        "id": "gdndqhd1nW5Q"
      }
    },
    {
      "cell_type": "code",
      "source": [
        "!touch script2.py\n",
        "#verify file exists and is empty\n",
        "!cat script2.py"
      ],
      "metadata": {
        "id": "ChkjZEFRM-6R"
      },
      "execution_count": null,
      "outputs": []
    },
    {
      "cell_type": "code",
      "source": [
        "#this doesn't work\n",
        "!echo \"myname = 'John Doe!'\" >> script2.py\n",
        "!echo \"\\\"Hello, \\\"\" >> script2.py\n",
        "!echo \"myname\" >> script2.py\n",
        "!cat script2.py\n",
        "!python script2.py"
      ],
      "metadata": {
        "id": "mGEnN8hWNrmC",
        "colab": {
          "base_uri": "https://localhost:8080/"
        },
        "outputId": "fb389889-f366-4212-e2cf-2b38c3eee44f"
      },
      "execution_count": null,
      "outputs": [
        {
          "output_type": "stream",
          "name": "stdout",
          "text": [
            "myname = 'John Doe!'\n",
            "\"Hello, \"\n",
            "myname\n"
          ]
        }
      ]
    },
    {
      "cell_type": "code",
      "source": [
        "!rm script2.py\n",
        "!touch script2.py\n",
        "#this DOES work\n",
        "!echo \"myname = 'John Doe!'\" >> script2.py\n",
        "!echo \"print(\\\"Hello, \\\" + myname)\" >> script2.py\n",
        "!cat script2.py\n",
        "!python script2.py"
      ],
      "metadata": {
        "id": "BO4reMv7RPC-",
        "colab": {
          "base_uri": "https://localhost:8080/"
        },
        "outputId": "74810915-37e2-4efd-a714-90b779dc5dd8"
      },
      "execution_count": null,
      "outputs": [
        {
          "output_type": "stream",
          "name": "stdout",
          "text": [
            "myname = 'John Doe!'\n",
            "print(\"Hello, \" + myname)\n",
            "Hello, John Doe!\n"
          ]
        }
      ]
    },
    {
      "cell_type": "markdown",
      "source": [
        "Exercise 1.8: Type casting  \n",
        "Very often, one wants to “cast” variables of a certain type into another type. Suppose we have variable\n",
        "x = ’123’, but really we would like x to be an integer.  \n",
        "This is easy to do in Python, just use desiredtype(x), e.g. int(x) to obtain an integer.  \n",
        "Try the following and explain the output  \n",
        "(a) float(123)  \n",
        "(b) float(’123’)  \n",
        "(c) float(’123.23’)  \n",
        "(d) int(123.23)  \n",
        "(e) int(’123.23’)  \n",
        "(f) int(float(’123.23’))  \n",
        "(g) str(12)  \n",
        "(h) str(12.2)  \n",
        "(i) bool(’a’)  \n",
        "(j) bool(0)  \n",
        "(k) bool(0.1)  \n"
      ],
      "metadata": {
        "id": "tj6rp6K3nW81"
      }
    },
    {
      "cell_type": "code",
      "source": [
        "#widening cast, no problem here\n",
        "print(float(123)            )"
      ],
      "metadata": {
        "id": "r2RBU1uiTcti",
        "colab": {
          "base_uri": "https://localhost:8080/"
        },
        "outputId": "ae262dd8-ecff-435e-8e00-e7c8b21edc06"
      },
      "execution_count": null,
      "outputs": [
        {
          "output_type": "stream",
          "name": "stdout",
          "text": [
            "123.0\n"
          ]
        }
      ]
    },
    {
      "cell_type": "code",
      "source": [
        "#these will throw syntax error due to 'backtick' character...\n",
        "print(float(’123’)          )\n",
        "print(float(’123.23’)       )"
      ],
      "metadata": {
        "id": "_t0_-vZcTf4R",
        "colab": {
          "base_uri": "https://localhost:8080/",
          "height": 131
        },
        "outputId": "6f45043c-2179-4e91-9d66-2711389391cb"
      },
      "execution_count": null,
      "outputs": [
        {
          "output_type": "error",
          "ename": "SyntaxError",
          "evalue": "ignored",
          "traceback": [
            "\u001b[0;36m  File \u001b[0;32m\"<ipython-input-27-4b8c88adf5fb>\"\u001b[0;36m, line \u001b[0;32m2\u001b[0m\n\u001b[0;31m    print(float(’123’)          )\u001b[0m\n\u001b[0m                    ^\u001b[0m\n\u001b[0;31mSyntaxError\u001b[0m\u001b[0;31m:\u001b[0m invalid character in identifier\n"
          ]
        }
      ]
    },
    {
      "cell_type": "code",
      "source": [
        "#...replace with single quote and everything is fine\n",
        "print(float('123')          )\n",
        "print(float('123.23')       )"
      ],
      "metadata": {
        "id": "yqB8nI8BUWbT",
        "colab": {
          "base_uri": "https://localhost:8080/"
        },
        "outputId": "775cde56-5ee2-4e50-fdbf-d2e3782407df"
      },
      "execution_count": null,
      "outputs": [
        {
          "output_type": "stream",
          "name": "stdout",
          "text": [
            "123.0\n",
            "123.23\n"
          ]
        }
      ]
    },
    {
      "cell_type": "code",
      "source": [
        "#narrowing cast, loss of precision\n",
        "print(int(123.23)           )"
      ],
      "metadata": {
        "id": "tR8MHVFkVIBD",
        "colab": {
          "base_uri": "https://localhost:8080/"
        },
        "outputId": "348eeb7d-e1e8-4f02-8cb9-2bfec5713385"
      },
      "execution_count": null,
      "outputs": [
        {
          "output_type": "stream",
          "name": "stdout",
          "text": [
            "123\n"
          ]
        }
      ]
    },
    {
      "cell_type": "code",
      "source": [
        "#not a valid literal from which to cast to int...\n",
        "print(int('123.23')         )"
      ],
      "metadata": {
        "id": "tb_63tmlVNo3",
        "colab": {
          "base_uri": "https://localhost:8080/",
          "height": 184
        },
        "outputId": "4fb0ba1e-59d7-4d8c-c67e-0e9186705834"
      },
      "execution_count": null,
      "outputs": [
        {
          "output_type": "error",
          "ename": "ValueError",
          "evalue": "ignored",
          "traceback": [
            "\u001b[0;31m---------------------------------------------------------------------------\u001b[0m",
            "\u001b[0;31mValueError\u001b[0m                                Traceback (most recent call last)",
            "\u001b[0;32m<ipython-input-30-6502b81a8e1c>\u001b[0m in \u001b[0;36m<module>\u001b[0;34m()\u001b[0m\n\u001b[1;32m      1\u001b[0m \u001b[0;31m#not a valid literal from which to cast to int...\u001b[0m\u001b[0;34m\u001b[0m\u001b[0;34m\u001b[0m\u001b[0;34m\u001b[0m\u001b[0m\n\u001b[0;32m----> 2\u001b[0;31m \u001b[0mprint\u001b[0m\u001b[0;34m(\u001b[0m\u001b[0mint\u001b[0m\u001b[0;34m(\u001b[0m\u001b[0;34m'123.23'\u001b[0m\u001b[0;34m)\u001b[0m         \u001b[0;34m)\u001b[0m\u001b[0;34m\u001b[0m\u001b[0;34m\u001b[0m\u001b[0m\n\u001b[0m",
            "\u001b[0;31mValueError\u001b[0m: invalid literal for int() with base 10: '123.23'"
          ]
        }
      ]
    },
    {
      "cell_type": "code",
      "source": [
        "#...solved by first casting to float\n",
        "print(int(float('123.23'))  )"
      ],
      "metadata": {
        "id": "zSlAfrJ4VYEw",
        "colab": {
          "base_uri": "https://localhost:8080/"
        },
        "outputId": "708da947-8f55-4547-8f82-4e7210c99edd"
      },
      "execution_count": null,
      "outputs": [
        {
          "output_type": "stream",
          "name": "stdout",
          "text": [
            "123\n"
          ]
        }
      ]
    },
    {
      "cell_type": "code",
      "source": [
        "#string representation of an integer, cast int to string\n",
        "print(str(12)               )\n",
        "#cast float to string\n",
        "print(str(12.2)             )\n",
        "#evaluates to true because ASCII value of the character literal is not zero\n",
        "print(bool('a')             )\n",
        "#evaluates to false because false is equal to zero\n",
        "print(bool(0)               )\n",
        "#evaluates to true because true is anything that is not exactly zero\n",
        "print(bool(0.1)             )\n",
        "#BONUS: zero value is independent of datatype (recall the need to cast string to float BEFORE casting to int)\n",
        "print(bool(0.0)             )"
      ],
      "metadata": {
        "id": "zYT9sNgcoZy0",
        "colab": {
          "base_uri": "https://localhost:8080/"
        },
        "outputId": "0df045f3-9d3d-454d-da34-aefcec6a2441"
      },
      "execution_count": null,
      "outputs": [
        {
          "output_type": "stream",
          "name": "stdout",
          "text": [
            "12\n",
            "12.2\n",
            "True\n",
            "False\n",
            "True\n",
            "False\n"
          ]
        }
      ]
    },
    {
      "cell_type": "markdown",
      "source": [
        "2 Control flow  \n",
        "Disclaimer: Some of the following problems are inspired by problems from www.projecteuler.net. Have a\n",
        "look if you are interested, there are some great challenges and Python is an excellent tool for solving them.  \n",
        "Exercise 2.1: Range  \n",
        "Type range(5) in the interpreter, what does the interpreter return? So what does for i in range(5)\n",
        "mean?  \n",
        "Let’s also find out whether the interpreter can help us understand the object ‘range(5)’ better. Type\n",
        "type(range(5)) in the interpreter. More on this soon!  \n"
      ],
      "metadata": {
        "id": "iTCt19EWnXC6"
      }
    },
    {
      "cell_type": "code",
      "source": [
        "#returns the description of default start with stop specified\n",
        "range(5)"
      ],
      "metadata": {
        "id": "OZEEwcOwYQ47",
        "colab": {
          "base_uri": "https://localhost:8080/"
        },
        "outputId": "bc34a52b-52c6-4de6-96f2-d6ceaeb46c33"
      },
      "execution_count": null,
      "outputs": [
        {
          "output_type": "execute_result",
          "data": {
            "text/plain": [
              "range(0, 5)"
            ]
          },
          "metadata": {},
          "execution_count": 33
        }
      ]
    },
    {
      "cell_type": "code",
      "source": [
        "#additionally, start can be specified\n",
        "range(1,5)"
      ],
      "metadata": {
        "id": "TFy13sBsbNVs",
        "colab": {
          "base_uri": "https://localhost:8080/"
        },
        "outputId": "59523d34-a190-46b6-eab2-f3c16a744307"
      },
      "execution_count": null,
      "outputs": [
        {
          "output_type": "execute_result",
          "data": {
            "text/plain": [
              "range(1, 5)"
            ]
          },
          "metadata": {},
          "execution_count": 34
        }
      ]
    },
    {
      "cell_type": "code",
      "source": [
        "#also can specify increment\n",
        "range(1,5,2)"
      ],
      "metadata": {
        "id": "Y6xncQMDbWf1",
        "colab": {
          "base_uri": "https://localhost:8080/"
        },
        "outputId": "d7774142-a926-4265-a120-dd7783e757a3"
      },
      "execution_count": null,
      "outputs": [
        {
          "output_type": "execute_result",
          "data": {
            "text/plain": [
              "range(1, 5, 2)"
            ]
          },
          "metadata": {},
          "execution_count": 35
        }
      ]
    },
    {
      "cell_type": "code",
      "source": [
        "#for i in range(5) means start at 0, increment by one, stop at (not including) 5\n",
        "for i in range(5):\n",
        "  print(i)"
      ],
      "metadata": {
        "id": "DOnUVeadbogi",
        "colab": {
          "base_uri": "https://localhost:8080/"
        },
        "outputId": "b4fd1d02-3fe3-4321-a228-178bc1bb3b65"
      },
      "execution_count": null,
      "outputs": [
        {
          "output_type": "stream",
          "name": "stdout",
          "text": [
            "0\n",
            "1\n",
            "2\n",
            "3\n",
            "4\n"
          ]
        }
      ]
    },
    {
      "cell_type": "code",
      "source": [
        "#simplified way to reverse a for loop...\n",
        "for i in reversed(range(0,50,5)):\n",
        "  print(i)"
      ],
      "metadata": {
        "id": "hYxm4tsWYQrp",
        "colab": {
          "base_uri": "https://localhost:8080/"
        },
        "outputId": "e8f1e324-a394-4dda-c50d-69cda6e5ab26"
      },
      "execution_count": null,
      "outputs": [
        {
          "output_type": "stream",
          "name": "stdout",
          "text": [
            "45\n",
            "40\n",
            "35\n",
            "30\n",
            "25\n",
            "20\n",
            "15\n",
            "10\n",
            "5\n",
            "0\n"
          ]
        }
      ]
    },
    {
      "cell_type": "code",
      "source": [
        "#...which is equivalent to (note in/decrement applied at end of loop cycle)\n",
        "for i in range(45,-1,-5):\n",
        "  print(i)"
      ],
      "metadata": {
        "id": "5K8Ykp54cGDU",
        "colab": {
          "base_uri": "https://localhost:8080/"
        },
        "outputId": "0e6139f8-f8ec-462c-c0ef-9756de3d68f9"
      },
      "execution_count": null,
      "outputs": [
        {
          "output_type": "stream",
          "name": "stdout",
          "text": [
            "45\n",
            "40\n",
            "35\n",
            "30\n",
            "25\n",
            "20\n",
            "15\n",
            "10\n",
            "5\n",
            "0\n"
          ]
        }
      ]
    },
    {
      "cell_type": "code",
      "source": [
        "#not much info, just returns the type, no details\n",
        "type(range(5))"
      ],
      "metadata": {
        "id": "vu2IBwtboalu",
        "colab": {
          "base_uri": "https://localhost:8080/"
        },
        "outputId": "61691e28-be7a-49e7-fbf6-145e084f765b"
      },
      "execution_count": null,
      "outputs": [
        {
          "output_type": "execute_result",
          "data": {
            "text/plain": [
              "range"
            ]
          },
          "metadata": {},
          "execution_count": 39
        }
      ]
    },
    {
      "cell_type": "markdown",
      "source": [
        "Exercise 2.2: For loops  \n",
        "Use a for loop to:  \n",
        "(a) Print the numbers 0 to 100  \n",
        "(b) Print the numbers 0 to 100 that are divisible by 7  \n",
        "(c) Print the numbers 1 to 100 that are divisible by 5 but not by 3  \n",
        "(d) Print for each of the numbers x = 2, . . . 20, all numbers that divide x, excluding 1 and x. Hence,\n",
        "for 18, it should print 2 3 6 9.\n",
        "Hint: see https://docs.python.org/2.7/library/functions.html#range.\n"
      ],
      "metadata": {
        "id": "KPVfJ1tRnXPS"
      }
    },
    {
      "cell_type": "code",
      "source": [
        "#101 so that 100 is included in the printing\n",
        "for i in range(101):\n",
        "  print(i)"
      ],
      "metadata": {
        "id": "fAn5eJLldsvZ",
        "colab": {
          "base_uri": "https://localhost:8080/"
        },
        "outputId": "25321f60-2ffa-4c4a-db1a-00143f5107ec"
      },
      "execution_count": null,
      "outputs": [
        {
          "output_type": "stream",
          "name": "stdout",
          "text": [
            "0\n",
            "1\n",
            "2\n",
            "3\n",
            "4\n",
            "5\n",
            "6\n",
            "7\n",
            "8\n",
            "9\n",
            "10\n",
            "11\n",
            "12\n",
            "13\n",
            "14\n",
            "15\n",
            "16\n",
            "17\n",
            "18\n",
            "19\n",
            "20\n",
            "21\n",
            "22\n",
            "23\n",
            "24\n",
            "25\n",
            "26\n",
            "27\n",
            "28\n",
            "29\n",
            "30\n",
            "31\n",
            "32\n",
            "33\n",
            "34\n",
            "35\n",
            "36\n",
            "37\n",
            "38\n",
            "39\n",
            "40\n",
            "41\n",
            "42\n",
            "43\n",
            "44\n",
            "45\n",
            "46\n",
            "47\n",
            "48\n",
            "49\n",
            "50\n",
            "51\n",
            "52\n",
            "53\n",
            "54\n",
            "55\n",
            "56\n",
            "57\n",
            "58\n",
            "59\n",
            "60\n",
            "61\n",
            "62\n",
            "63\n",
            "64\n",
            "65\n",
            "66\n",
            "67\n",
            "68\n",
            "69\n",
            "70\n",
            "71\n",
            "72\n",
            "73\n",
            "74\n",
            "75\n",
            "76\n",
            "77\n",
            "78\n",
            "79\n",
            "80\n",
            "81\n",
            "82\n",
            "83\n",
            "84\n",
            "85\n",
            "86\n",
            "87\n",
            "88\n",
            "89\n",
            "90\n",
            "91\n",
            "92\n",
            "93\n",
            "94\n",
            "95\n",
            "96\n",
            "97\n",
            "98\n",
            "99\n",
            "100\n"
          ]
        }
      ]
    },
    {
      "cell_type": "code",
      "source": [
        "#modulus return remainder after division, which is zero when 1st number is divisible by 2nd number\n",
        "for i in range(101):\n",
        "  if(i%7 == 0):\n",
        "    print(i)"
      ],
      "metadata": {
        "id": "0DEwJZ4qdq1U",
        "colab": {
          "base_uri": "https://localhost:8080/"
        },
        "outputId": "9ce430a1-a68c-4b0e-8e4b-bff486f7eddc"
      },
      "execution_count": null,
      "outputs": [
        {
          "output_type": "stream",
          "name": "stdout",
          "text": [
            "0\n",
            "7\n",
            "14\n",
            "21\n",
            "28\n",
            "35\n",
            "42\n",
            "49\n",
            "56\n",
            "63\n",
            "70\n",
            "77\n",
            "84\n",
            "91\n",
            "98\n"
          ]
        }
      ]
    },
    {
      "cell_type": "code",
      "source": [
        "# and keyword is equivalent to && in other languages, != means not equal\n",
        "for i in range(101):\n",
        "  if(i%5 == 0 and i%3 != 0):\n",
        "    print(i)"
      ],
      "metadata": {
        "id": "ICY3ryGSdqqm",
        "colab": {
          "base_uri": "https://localhost:8080/"
        },
        "outputId": "3e36a94b-64ab-4fb4-8751-897a3e75b0af"
      },
      "execution_count": null,
      "outputs": [
        {
          "output_type": "stream",
          "name": "stdout",
          "text": [
            "5\n",
            "10\n",
            "20\n",
            "25\n",
            "35\n",
            "40\n",
            "50\n",
            "55\n",
            "65\n",
            "70\n",
            "80\n",
            "85\n",
            "95\n",
            "100\n"
          ]
        }
      ]
    },
    {
      "cell_type": "code",
      "source": [
        "#blank lines correspond to prime numbers, end =\" \" allows printing on same line\n",
        "for i in range(2,20):\n",
        "  for j in range(2,i):\n",
        "    if(i%j == 0):\n",
        "      print(j, end =\" \")\n",
        "  print()"
      ],
      "metadata": {
        "id": "9iXT-NYpdqjY",
        "colab": {
          "base_uri": "https://localhost:8080/"
        },
        "outputId": "c0acadde-3e9e-408c-80f8-e544d379e0da"
      },
      "execution_count": null,
      "outputs": [
        {
          "output_type": "stream",
          "name": "stdout",
          "text": [
            "\n",
            "\n",
            "2 \n",
            "\n",
            "2 3 \n",
            "\n",
            "2 4 \n",
            "3 \n",
            "2 5 \n",
            "\n",
            "2 3 4 6 \n",
            "\n",
            "2 7 \n",
            "3 5 \n",
            "2 4 8 \n",
            "\n",
            "2 3 6 9 \n",
            "\n"
          ]
        }
      ]
    },
    {
      "cell_type": "code",
      "source": [
        "f = lambda x: [ i for i in range(2, x) if not (x % i) ]\n",
        "for x in range(2,20): print(x,f(x))"
      ],
      "metadata": {
        "id": "L1-I6Z6RrWRw",
        "outputId": "e757805c-1680-4d30-98e0-3e64969784cf",
        "colab": {
          "base_uri": "https://localhost:8080/"
        }
      },
      "execution_count": 4,
      "outputs": [
        {
          "output_type": "stream",
          "name": "stdout",
          "text": [
            "2 []\n",
            "3 []\n",
            "4 [2]\n",
            "5 []\n",
            "6 [2, 3]\n",
            "7 []\n",
            "8 [2, 4]\n",
            "9 [3]\n",
            "10 [2, 5]\n",
            "11 []\n",
            "12 [2, 3, 4, 6]\n",
            "13 []\n",
            "14 [2, 7]\n",
            "15 [3, 5]\n",
            "16 [2, 4, 8]\n",
            "17 []\n",
            "18 [2, 3, 6, 9]\n",
            "19 []\n"
          ]
        }
      ]
    },
    {
      "cell_type": "markdown",
      "source": [
        "Exercise 2.3: Simple while loops  \n",
        "Instead of using a for loop, use a while loop to:  \n",
        "(a) Print the numbers 0 to 100  \n",
        "(b) Print the numbers 0 to 100 that are divisible by 7    \n"
      ],
      "metadata": {
        "id": "DrlObYHBnXXI"
      }
    },
    {
      "cell_type": "code",
      "source": [
        ""
      ],
      "metadata": {
        "id": "kcrjH9Pkdu7x"
      },
      "execution_count": null,
      "outputs": []
    },
    {
      "cell_type": "code",
      "source": [
        "#0 to 100, together with those that are divisible by 7\n",
        "i = 0\n",
        "while(i<101):\n",
        "  if(i%7 == 0):\n",
        "    print(i,end=' ')\n",
        "  i += 1\n",
        "print()\n",
        "#alternatively\n",
        "i = 0\n",
        "while(i<101):\n",
        "#for i in range(100):\n",
        "  if not i%7:\n",
        "    print(i, end=' ')\n",
        "  i += 1\n",
        "print()\n",
        "#or\n",
        "i = 0\n",
        "while(i<101):\n",
        "#for i in range(0,100,7):\n",
        "  print(i, end=' ')\n",
        "  i += 7"
      ],
      "metadata": {
        "id": "Mc4qBA34pE6R",
        "outputId": "87b264c2-11a6-4d5a-a97a-eb8578c528a5",
        "colab": {
          "base_uri": "https://localhost:8080/"
        }
      },
      "execution_count": 3,
      "outputs": [
        {
          "output_type": "stream",
          "name": "stdout",
          "text": [
            "0 7 14 21 28 35 42 49 56 63 70 77 84 91 98 \n",
            "0 7 14 21 28 35 42 49 56 63 70 77 84 91 98 \n",
            "0 7 14 21 28 35 42 49 56 63 70 77 84 91 98 "
          ]
        }
      ]
    },
    {
      "cell_type": "markdown",
      "source": [
        "Exercise 2.4: Hangman update 1  \n",
        "Let’s reconsider the hangman code we saw in class.1 We noted that the computer agent is not very good\n",
        "at guessing. Update the code such that the computer guesses ‘e’ first, and ’a’ second.\n",
        "Use the simulate.py script to see if this improves performance.  \n",
        "Feel free to play around and see if you can do better!  \n",
        "\n"
      ],
      "metadata": {
        "id": "7Id07hECnXaL"
      }
    },
    {
      "cell_type": "code",
      "source": [
        "#replace \n",
        "\"\"\" \n",
        "ch = random.sample(self.available, 1)[0] \n",
        "\"\"\"\n",
        "#with \n",
        "\"\"\"\n",
        "ch = ''\n",
        "if(self.available.contains('e')):\n",
        "  ch = 'e'\n",
        "elif(self.available.contains('a')):\n",
        "  ch = 'a'\n",
        "else:\n",
        "  ch = random.sample(self.available, 1)[0]\n",
        "\n",
        "self.available.remove(ch)\n",
        "return ch\n",
        "\"\"\""
      ],
      "metadata": {
        "id": "Jut0q5OGdv8k",
        "colab": {
          "base_uri": "https://localhost:8080/",
          "height": 35
        },
        "outputId": "0097ed1b-1119-404c-95b9-e3de1ee87307"
      },
      "execution_count": null,
      "outputs": [
        {
          "output_type": "execute_result",
          "data": {
            "application/vnd.google.colaboratory.intrinsic+json": {
              "type": "string"
            },
            "text/plain": [
              "\"\\nch = ''\\nif(self.available.contains('e')):\\n  ch = 'e'\\nelif(self.available.contains('a')):\\n  ch = 'a'\\nelse:\\n  ch = random.sample(self.available, 1)[0]\\n\\nself.available.remove(ch)\\nreturn ch\\n\""
            ]
          },
          "metadata": {},
          "execution_count": 45
        }
      ]
    },
    {
      "cell_type": "markdown",
      "source": [
        "Exercise 2.5: While loops  \n",
        "Use a while loop to find the first 20 numbers that are divisible by 5, 7 and 11, and print them  \n",
        "Hint: store the number found so far in a variable.  \n",
        "Pseudo-code:  \n",
        "number found = 0  \n",
        "x = 11  \n",
        "while number found is less than 20:  \n",
        "if x is divisible by 5, 7 and 11:  \n",
        "print x  \n",
        "increase number found by 1  \n",
        "increase x by 1  \n",
        "\n"
      ],
      "metadata": {
        "id": "qxW4FdyXdQ9F"
      }
    },
    {
      "cell_type": "code",
      "source": [
        "#not much to say about this\n",
        "count = 0\n",
        "x = 5\n",
        "while(count < 20):\n",
        "  if(x%5 == 0 and x%7 == 0 and x%11 == 0):\n",
        "    count += 1\n",
        "    print(x)\n",
        "  x += 1"
      ],
      "metadata": {
        "id": "otHuJFhjdxER",
        "colab": {
          "base_uri": "https://localhost:8080/"
        },
        "outputId": "a7b7fd93-defc-4101-d130-3478eb9da556"
      },
      "execution_count": null,
      "outputs": [
        {
          "output_type": "stream",
          "name": "stdout",
          "text": [
            "385\n",
            "770\n",
            "1155\n",
            "1540\n",
            "1925\n",
            "2310\n",
            "2695\n",
            "3080\n",
            "3465\n",
            "3850\n",
            "4235\n",
            "4620\n",
            "5005\n",
            "5390\n",
            "5775\n",
            "6160\n",
            "6545\n",
            "6930\n",
            "7315\n",
            "7700\n"
          ]
        }
      ]
    },
    {
      "cell_type": "markdown",
      "source": [
        "Exercise 2.6: More while loops  \n",
        "The smallest number that is divisible by 2, 3 and 4 is 12.  \n",
        "Find the smallest number that is divisible by\n",
        "all integers between 1 and 10.  \n",
        "\n"
      ],
      "metadata": {
        "id": "8wj0AUmjdR3N"
      }
    },
    {
      "cell_type": "code",
      "source": [
        "#target number will be 1*5*7*8*9=2520,  a number divisible by 9 is also divisible by 3, so 3 is not needed. similary for 2,4,6\n",
        "found = False\n",
        "x = 0\n",
        "while(not found):\n",
        "  candidate = True\n",
        "  x += 1\n",
        "  for i in range(1,11):\n",
        "    if(x%i != 0):\n",
        "      candidate = False\n",
        "      break\n",
        "    else:\n",
        "      continue\n",
        "  if(candidate):\n",
        "    found = True\n",
        "        \n",
        "if(found):\n",
        "  print(x)\n"
      ],
      "metadata": {
        "id": "Ov0WefuCR1MC",
        "colab": {
          "base_uri": "https://localhost:8080/"
        },
        "outputId": "a7d810ad-c85c-46a2-bfa2-1fdfc88f8a83"
      },
      "execution_count": null,
      "outputs": [
        {
          "output_type": "stream",
          "name": "stdout",
          "text": [
            "2520\n"
          ]
        }
      ]
    },
    {
      "cell_type": "code",
      "source": [
        "#alternative\n",
        "number = 1\n",
        "check = True\n",
        "while check:\n",
        "  check = False\n",
        "  for i in range(1,10):\n",
        "    if number % i:\n",
        "      check=True\n",
        "  number += 1\n",
        "number -= 1\n",
        "print(number)"
      ],
      "metadata": {
        "id": "u7BpFQhLsUCJ",
        "outputId": "891b38a1-4fa5-4565-ccc8-dcc0bf874bd1",
        "colab": {
          "base_uri": "https://localhost:8080/"
        }
      },
      "execution_count": 7,
      "outputs": [
        {
          "output_type": "stream",
          "name": "stdout",
          "text": [
            "2520\n"
          ]
        }
      ]
    },
    {
      "cell_type": "code",
      "source": [
        "#yet another alternative\n",
        "numbers = [i for i in range(1,10)]\n",
        "n = 1\n",
        "while not all(map(lambda x: not n % x, numbers)):\n",
        "  n += 1\n",
        "print(n)"
      ],
      "metadata": {
        "id": "vzxM7ZKyts8C",
        "outputId": "287e980f-99c5-41c9-b355-80e84b0a492d",
        "colab": {
          "base_uri": "https://localhost:8080/"
        }
      },
      "execution_count": 6,
      "outputs": [
        {
          "output_type": "stream",
          "name": "stdout",
          "text": [
            "2520\n"
          ]
        }
      ]
    },
    {
      "cell_type": "markdown",
      "source": [
        "Exercise 2.7: Collatz sequence  \n",
        "A Collatz sequence is formed as follows: We start with some number $x_0$, and we find the next number\n",
        "in the sequence by \n",
        "\\begin{align}\n",
        "    x_{i+1} = \\left\\{\n",
        "    \\begin{array}{cl}\n",
        "    \\frac{x_i}{2} & x_i \\text{ is even} \\\\\n",
        "    3x_i + 1  & x_i \\text{  is odd}\n",
        "    \\end{array}\n",
        "    \\right.\n",
        "\\end{align}\n",
        "   \n",
        "If $x_i = 1$, we stop iterating and have found the full sequence.  \n",
        "For example, if we start with $x_0 = 5$, we obtain the sequence:  \n",
        "5 16 8 4 2 1  \n",
        "It is conjectured, though not proven, that every chain eventually ends at 1.  \n",
        "Print the Collatz sequence starting at $x_0 = 103$.  \n",
        "\n"
      ],
      "metadata": {
        "id": "Cd5kFawNdR0j"
      }
    },
    {
      "cell_type": "code",
      "source": [
        "#pretty self explanatory\n",
        "collatz = []\n",
        "x = 103\n",
        "while(x != 1):\n",
        "  collatz.append(x)\n",
        "  if(x%2 == 0):\n",
        "    x = (int)(x/2)\n",
        "  else:\n",
        "    x = 3*x + 1\n",
        "collatz.append(x)\n",
        "for elt in collatz:\n",
        "  print(elt)"
      ],
      "metadata": {
        "id": "hiCw5SRLdyK_"
      },
      "execution_count": null,
      "outputs": []
    },
    {
      "cell_type": "markdown",
      "source": [
        "3 Functions  \n",
        "Exercise 3.1: Hello  \n",
        "(a) Write a function hello_world that prints ’Hello, world!’  \n",
        "(b) Write a function hello_name(name) that prints ’Hello, name!’ where name is a string.  \n",
        "(c) Explain the difference between the print and return keywords. What would change if instead of\n",
        "print you would use return?  \n",
        "\n"
      ],
      "metadata": {
        "id": "usXfrAbZdRxa"
      }
    },
    {
      "cell_type": "code",
      "source": [
        "#never understood the reason for the comma\n",
        "def hello_world():\n",
        "  print(\"Hello World!\")\n",
        "hello_world()"
      ],
      "metadata": {
        "id": "JlBhBRb4d1EL",
        "colab": {
          "base_uri": "https://localhost:8080/"
        },
        "outputId": "8465d179-3a07-4872-ebe1-8f3410c255a3"
      },
      "execution_count": null,
      "outputs": [
        {
          "output_type": "stream",
          "name": "stdout",
          "text": [
            "Hello World!\n"
          ]
        }
      ]
    },
    {
      "cell_type": "code",
      "source": [
        "#formatting is needed to not introduce unwanted whitespace\n",
        "def hello_name(yourname):\n",
        "  print(\"Hello, {}{}\".format(yourname,\"!\"))\n",
        "hello_name(\"Squirrely\")"
      ],
      "metadata": {
        "id": "lW4E9n9CBczS",
        "colab": {
          "base_uri": "https://localhost:8080/"
        },
        "outputId": "7ddf5aa3-ec83-46c9-b4e3-a15194b53420"
      },
      "execution_count": null,
      "outputs": [
        {
          "output_type": "stream",
          "name": "stdout",
          "text": [
            "Hello, Squirrely!\n"
          ]
        }
      ]
    },
    {
      "cell_type": "code",
      "source": [
        "#returns with single quotes\n",
        "def hello_name(yourname):\n",
        "  return \"Hello, {}{}\".format(yourname,\"!\")\n",
        "hello_name(\"Squirrely\")"
      ],
      "metadata": {
        "id": "yAU1_SXwDLlV",
        "colab": {
          "base_uri": "https://localhost:8080/",
          "height": 35
        },
        "outputId": "ea50fc04-0d76-4203-a72a-591228c2cbe4"
      },
      "execution_count": null,
      "outputs": [
        {
          "output_type": "execute_result",
          "data": {
            "application/vnd.google.colaboratory.intrinsic+json": {
              "type": "string"
            },
            "text/plain": [
              "'Hello, Squirrely!'"
            ]
          },
          "metadata": {},
          "execution_count": 51
        }
      ]
    },
    {
      "cell_type": "markdown",
      "source": [
        "Exercise 3.2: Polynomial  \n",
        "Write a function that evaluates the polynomial $3x^2 − x + 2$.  \n",
        "\n"
      ],
      "metadata": {
        "id": "1TvDpGM9dRun"
      }
    },
    {
      "cell_type": "code",
      "source": [
        "def quad(x):\n",
        "  return 3*x**2-x+2\n",
        "quad(4)"
      ],
      "metadata": {
        "id": "wDo7wWjRdy_n",
        "colab": {
          "base_uri": "https://localhost:8080/"
        },
        "outputId": "241514d1-5d99-4c73-8c72-7e7a095f0d9c"
      },
      "execution_count": null,
      "outputs": [
        {
          "output_type": "execute_result",
          "data": {
            "text/plain": [
              "46"
            ]
          },
          "metadata": {},
          "execution_count": 52
        }
      ]
    },
    {
      "cell_type": "code",
      "source": [
        "#more elaborately\n",
        "def quad2(a,b,c,x):\n",
        "  return a*x**2+b*x+c\n",
        "quad2(3,-1,2,4)"
      ],
      "metadata": {
        "id": "aKlcOwIOESgp",
        "colab": {
          "base_uri": "https://localhost:8080/"
        },
        "outputId": "fe16f522-7c77-44b1-9d0c-e434f06aac15"
      },
      "execution_count": null,
      "outputs": [
        {
          "output_type": "execute_result",
          "data": {
            "text/plain": [
              "46"
            ]
          },
          "metadata": {},
          "execution_count": 53
        }
      ]
    },
    {
      "cell_type": "markdown",
      "source": [
        "Exercise 3.3: Maximum  \n",
        "Write a function my_max(x,y) that returns the maximum of x and y. Do not use the max function, but\n",
        "use if instead in following two ways:  \n",
        "(a) Use both if and else.  \n",
        "(b) Use if but not else (nor elif).  \n",
        "\n"
      ],
      "metadata": {
        "id": "So9Q08HCdRkf"
      }
    },
    {
      "cell_type": "code",
      "source": [
        "#the basic way, doesn't handle x = y (that would require elif)\n",
        "def my_max1(x,y):\n",
        "  if(x > y):\n",
        "    return x\n",
        "  else:\n",
        "    return y\n",
        "my_max1(1,1)"
      ],
      "metadata": {
        "id": "OPTdF--LdzfA",
        "colab": {
          "base_uri": "https://localhost:8080/"
        },
        "outputId": "b37a5c85-4666-4bb8-840d-f12b327126cf"
      },
      "execution_count": null,
      "outputs": [
        {
          "output_type": "execute_result",
          "data": {
            "text/plain": [
              "1"
            ]
          },
          "metadata": {},
          "execution_count": 54
        }
      ]
    },
    {
      "cell_type": "code",
      "source": [
        "#because return means return control to the caller, ending the functions activity, and again, x = y is not handled\n",
        "def my_max2(x,y):\n",
        "  if(x > y):\n",
        "    return x\n",
        "  return y\n",
        "my_max2(1,1)  "
      ],
      "metadata": {
        "id": "ewYUxs_PFDDT",
        "colab": {
          "base_uri": "https://localhost:8080/"
        },
        "outputId": "dd90b280-1ded-4bb4-d439-ba641edae3fc"
      },
      "execution_count": null,
      "outputs": [
        {
          "output_type": "execute_result",
          "data": {
            "text/plain": [
              "1"
            ]
          },
          "metadata": {},
          "execution_count": 55
        }
      ]
    },
    {
      "cell_type": "markdown",
      "source": [
        "Exercise 3.4: Primes  \n",
        "(a) Write a function is_prime(n) that returns True only if n is prime.  \n",
        "(b) Note that apart from 2 and 3, all primes are of the form 6k ± 1 (though not all numbers of the\n",
        "form 6k ± 1 are prime of course). Using this, we can improve the computation time by a factor 3.\n",
        "Update your function to use this.  \n",
        "(c) Write a function that returns all primes up to n.  \n",
        "(d) Write a function that returns the first n primes.  \n",
        "\n"
      ],
      "metadata": {
        "id": "YKwOiOwndRhG"
      }
    },
    {
      "cell_type": "code",
      "source": [
        "#return True if n is prime\n",
        "def is_prime1(n):\n",
        "  for i in range(2,n):\n",
        "    if(n%i == 0):\n",
        "      return False\n",
        "  return True\n",
        "is_prime1(102)"
      ],
      "metadata": {
        "id": "q465iH2yd0e_",
        "colab": {
          "base_uri": "https://localhost:8080/"
        },
        "outputId": "937c75a5-f680-4222-ebfc-a0ee7d82c2ea"
      },
      "execution_count": null,
      "outputs": [
        {
          "output_type": "execute_result",
          "data": {
            "text/plain": [
              "False"
            ]
          },
          "metadata": {},
          "execution_count": 56
        }
      ]
    },
    {
      "cell_type": "code",
      "source": [
        "#loops k times, k < n\n",
        "def is_prime2(n):\n",
        "  if(n < 4):\n",
        "    return #fail silently\n",
        "  s = (int)((n+1)/6)\n",
        "  for i in range(s+1):\n",
        "    if(n == (6*i - 1) or n == (6*i + 1)):\n",
        "      return True\n",
        "  return False\n",
        "is_prime2(103)"
      ],
      "metadata": {
        "id": "D7xWOfM_dsl_",
        "colab": {
          "base_uri": "https://localhost:8080/"
        },
        "outputId": "27e793a5-3465-435f-b7c0-1e244fefdaee"
      },
      "execution_count": null,
      "outputs": [
        {
          "output_type": "execute_result",
          "data": {
            "text/plain": [
              "True"
            ]
          },
          "metadata": {},
          "execution_count": 71
        }
      ]
    },
    {
      "cell_type": "code",
      "source": [
        "#could have used n = 6*k +/- 1 from above, but ... nah\n",
        "def is_prime3(n):\n",
        "  for i in range(2,n+1):\n",
        "    prime = True\n",
        "    for j in range(2,i):\n",
        "      if(i%j == 0):\n",
        "        prime = False\n",
        "        break\n",
        "    if(prime):\n",
        "      print(i, end=' ')\n",
        "    \n",
        "is_prime3(103)      "
      ],
      "metadata": {
        "id": "Q5kpZ5G7dsi4",
        "colab": {
          "base_uri": "https://localhost:8080/"
        },
        "outputId": "17be3650-42ab-4c12-a9d1-10e22f8869cc"
      },
      "execution_count": 8,
      "outputs": [
        {
          "output_type": "stream",
          "name": "stdout",
          "text": [
            "2 3 5 7 11 13 17 19 23 29 31 37 41 43 47 53 59 61 67 71 73 79 83 89 97 101 103 "
          ]
        }
      ]
    },
    {
      "cell_type": "code",
      "source": [
        "#return specified number of primes\n",
        "def is_prime4(n):\n",
        "  c = []\n",
        "  p = 2\n",
        "  g = 3\n",
        "  while(len(c) < n):\n",
        "    for i in range(p,g):\n",
        "      prime = True\n",
        "      for j in range(2,i):\n",
        "        if(i%j == 0):\n",
        "          prime = False\n",
        "          break\n",
        "      if(prime):\n",
        "        c.append(p)\n",
        "        p = g\n",
        "      g +=1\n",
        "  return c \n",
        "print(is_prime4(13))"
      ],
      "metadata": {
        "colab": {
          "base_uri": "https://localhost:8080/"
        },
        "id": "8gyX_CCF2ghd",
        "outputId": "159be936-008a-4a22-d43f-a7edf8c1101b"
      },
      "execution_count": null,
      "outputs": [
        {
          "output_type": "stream",
          "name": "stdout",
          "text": [
            "[2, 3, 4, 7, 8, 15, 21, 27, 33, 45, 51, 57, 63]\n"
          ]
        }
      ]
    },
    {
      "cell_type": "code",
      "source": [
        "#same as previous, but using n = 6*k +/- 1\n",
        "def is_prime5(n):\n",
        "  c = [2,3]\n",
        "  p = 2\n",
        "  g = 4\n",
        "  while(len(c) < n):\n",
        "    s = (int)((g+1)/6)\n",
        "    for i in range(s+1):\n",
        "      if(g == (6*i - 1) or g == (6*i + 1)):\n",
        "        c.append(g)\n",
        "        break\n",
        "    g += 1\n",
        "  return c\n",
        "    \n",
        "print(is_prime5(7))   "
      ],
      "metadata": {
        "id": "QaDNRHhvdsfw",
        "colab": {
          "base_uri": "https://localhost:8080/"
        },
        "outputId": "b2cb097f-8992-439b-9d4c-41c8b8baa81e"
      },
      "execution_count": null,
      "outputs": [
        {
          "output_type": "stream",
          "name": "stdout",
          "text": [
            "[2, 3, 5, 7, 11, 13, 17]\n"
          ]
        }
      ]
    },
    {
      "cell_type": "markdown",
      "source": [
        "Exercise 3.5: Root finding  \n",
        "Suppose f is a continuous function and f(a) < 0 and f(b) > 0 for some known a and b. For simplicity,\n",
        "assume a < b. Then, there must exist some c such that f(c) = 0.  \n",
        "(a) Write a function root(f, a, b) that takes a function f and two floats a and b and returns the\n",
        "root c. Hint: check the sign at the midpoint of the interval.  \n",
        "(b) Remove the assumption that a < b, and that f(a) < 0 and f(b) > 0, if your current code relies on\n",
        "them.  \n",
        "(c) Add a check that prints ’function evals have same sign’ if f(a) > 0 and f(b) > 0 or if f(a) < 0 and f(b) < 0"
      ],
      "metadata": {
        "id": "vOGzUE5edRdV"
      }
    },
    {
      "cell_type": "code",
      "source": [
        "#note the need to import math library and to pass function name without parentheses\n",
        "import math\n",
        "def root(f,a,b):\n",
        "  if(b < a or b == a):\n",
        "    raise ValueError(\"b less or equal a, which is not allowed\")\n",
        "  else:\n",
        "    if (f(a) >= 0 or f(b) <= 0):\n",
        "      raise ValueError(\"f(a) >= 0 or f(b) <= 0\")\n",
        "    c = (a + b)/2\n",
        "    cout = f(c)\n",
        "    if(cout == 0):\n",
        "      return c\n",
        "    elif(cout < 0):\n",
        "        return root(f,c,b)\n",
        "    else:\n",
        "        return root(f,a,c)    \n",
        "print(root(math.log10, 0.5,2))\n"
      ],
      "metadata": {
        "id": "T63sZVhJEjOs",
        "colab": {
          "base_uri": "https://localhost:8080/"
        },
        "outputId": "8e26d56b-509c-4d1c-e41d-6cf61519d5fe"
      },
      "execution_count": null,
      "outputs": [
        {
          "output_type": "stream",
          "name": "stdout",
          "text": [
            "1.0\n"
          ]
        }
      ]
    },
    {
      "cell_type": "code",
      "source": [
        "import math\n",
        "def root(f,a,b):\n",
        "  if(b < a):#handle case in which b < a\n",
        "    return -root(f,b,a)\n",
        "  else:\n",
        "    if(b == a):\n",
        "      raise ValueError(\"a and b are equal, which is not allowed\")\n",
        "    fa = f(a)\n",
        "    fb = f(b)\n",
        "    c = (a + b)/2\n",
        "    cout = f(c)\n",
        "    if(cout == 0):\n",
        "      return c\n",
        "    elif(cout < 0):#extra cases to handle f(a) > f(b)\n",
        "      if(fa < 0):\n",
        "        return root(f,c,b)\n",
        "      else:\n",
        "        return root(f,a,c)\n",
        "    else:\n",
        "      if(fa < 0):\n",
        "        return root(f,a,c)\n",
        "      else:\n",
        "        return root(f,c,b)\n",
        "print(root(math.log10, 0.5,2))\n"
      ],
      "metadata": {
        "id": "6njqLz7PdsV3",
        "colab": {
          "base_uri": "https://localhost:8080/"
        },
        "outputId": "5eb92a44-b31d-419a-e76f-5c5f65d0237f"
      },
      "execution_count": null,
      "outputs": [
        {
          "output_type": "stream",
          "name": "stdout",
          "text": [
            "1.0\n"
          ]
        }
      ]
    },
    {
      "cell_type": "code",
      "source": [
        "#same sign means f doesn't cross zero\n",
        "import math\n",
        "def root(f,a,b):\n",
        "  if(b < a):\n",
        "    return -root(f,b,a)\n",
        "  else:\n",
        "    if(b == a):\n",
        "      raise ValueError(\"a and b are equal, which is not allowed\")\n",
        "    fa = f(a)\n",
        "    fb = f(b)\n",
        "    if ((fa > 0 and fb > 0) or (fa < 0 and fb < 0)):\n",
        "      raise ValueError(\"function evals have same sign\")\n",
        "    c = (a + b)/2\n",
        "    cout = f(c)\n",
        "    if(cout == 0):\n",
        "      return c\n",
        "    elif(cout < 0):\n",
        "      if(fa < 0):\n",
        "        return root(f,c,b)\n",
        "      else:\n",
        "        return root(f,a,c)\n",
        "    else:\n",
        "      if(fa < 0):\n",
        "        return root(f,a,c)\n",
        "      else:\n",
        "        return root(f,c,b)\n",
        "print(root(math.log10, 0.5,2))\n"
      ],
      "metadata": {
        "id": "w4v_AQwMdsZi",
        "colab": {
          "base_uri": "https://localhost:8080/"
        },
        "outputId": "ca997269-a72d-4209-f206-2b338297356c"
      },
      "execution_count": null,
      "outputs": [
        {
          "output_type": "stream",
          "name": "stdout",
          "text": [
            "1.0\n"
          ]
        }
      ]
    }
  ]
}